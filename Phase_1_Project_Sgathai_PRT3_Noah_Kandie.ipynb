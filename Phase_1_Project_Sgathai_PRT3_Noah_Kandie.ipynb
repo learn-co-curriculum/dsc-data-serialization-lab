{
  "nbformat": 4,
  "nbformat_minor": 0,
  "metadata": {
    "colab": {
      "provenance": [],
      "authorship_tag": "ABX9TyOHIuUvUMT4s2Q51w3Wt+Gb",
      "include_colab_link": true
    },
    "kernelspec": {
      "name": "python3",
      "display_name": "Python 3"
    },
    "language_info": {
      "name": "python"
    }
  },
  "cells": [
    {
      "cell_type": "markdown",
      "metadata": {
        "id": "view-in-github",
        "colab_type": "text"
      },
      "source": [
        "<a href=\"https://colab.research.google.com/github/sgathai/dsc-data-serialization-lab/blob/master/Phase_1_Project_Sgathai_PRT3_Noah_Kandie.ipynb\" target=\"_parent\"><img src=\"https://colab.research.google.com/assets/colab-badge.svg\" alt=\"Open In Colab\"/></a>"
      ]
    },
    {
      "cell_type": "markdown",
      "source": [
        "\n",
        "Final Project Submission\n",
        "Please fill out:\n",
        "\n",
        "**Student name**: Stephen Gathai\n",
        "\n",
        "**Student pace**: part time \n",
        "\n",
        "**Scheduled project review date/time:**\n",
        "\n",
        "**Instructor name**: Mr. Noah Kandie \n",
        "\n",
        "\n",
        "Blog post URL: \n",
        "\n",
        "\n",
        "\n",
        "# ***Data analysis project on insights of how google should create a new movie studio By Stephen Gathai.***\n",
        "\n",
        "***A.      Introduction;***\n",
        "We have been tasked to undertake this project on how best should google make informed decision on setting of a movie studio.Outlined below find definition of the business problem ,our approaches /goals/objectives ,methodolgies /tools used in our analysis alongside detailed observations ,recommendations and conclusions thereoff.\n",
        "\n",
        "***B.      Business /Understanding Problem***\n",
        "\n",
        "The project will be geared towards helping google make informed decision on how to create a new movie studio .\n",
        "\n",
        "***C.      Key objectives /goals are ;***\n",
        "\n",
        "1.Assist google create a movie studio that will help them grow revenue \n",
        "\n",
        "2.Give insights to google on key areas of addressing/interest/concern as they venture into movie studio business .\n",
        "\n",
        "***D.        Data sets to be used in the analysis *** \n",
        "\n",
        "For this analysis we shall rely on three sets on data as outlined below ;\n",
        "\n",
        " 1.bom.movie_gross.csv.gz  to be refered  as 'data_set_1_bom_df'\n",
        "\n",
        " 2.tn.movie_budgets.csv.gz  to be refered as 'data_set_2_tn_df'\n",
        "\n",
        " 3.'tmdb.movies.csv.gz to be refered as 'data_set_3_tmdb_df'\n",
        "\n",
        " In order to draw objective observation and recommendations thereoff.\n",
        "\n",
        "*** E.    Examples of Analytical tools to be used.***\n",
        "\n",
        "In order to make our analysis and visualizations below tools among others shall be used ;\n",
        "\n",
        "1.Pandas \n",
        "\n",
        "2.Numpy \n",
        "\n",
        "3.Matplotlib\n",
        "\n",
        "4.Seaborns \n",
        "\n",
        "***F.Data understanding,analysis and visualization ***\n",
        "\n",
        "Under this section we shall explore our various datasets as discussed above inorder for us to draw business insights .\n",
        "\n",
        "We shall conduct mutiple analysis and or tests which shall be denoted as \"Working(no.) and or References (no.) where brief remarks shall be indicated on why we decided to have the said tests /analysis .Alongside we shall document a few notes on our observations and or recommendations from the said analysis /tests if need be.\n",
        "\n",
        "\n",
        "\n",
        " \n",
        "\n",
        "\n",
        "\n"
      ],
      "metadata": {
        "id": "zSCmAMhdPgH4"
      }
    },
    {
      "cell_type": "markdown",
      "source": [
        "# 1.Importation of key libraries to be used in our project."
      ],
      "metadata": {
        "id": "erPu8dxPppF0"
      }
    },
    {
      "cell_type": "code",
      "source": [
        "import pandas as pd\n",
        "import numpy as np\n",
        "import matplotlib.pyplot as plt\n",
        "import seaborn as sns\n",
        "%matplotlib inline"
      ],
      "metadata": {
        "id": "L7goylXSqnje"
      },
      "execution_count": null,
      "outputs": []
    },
    {
      "cell_type": "markdown",
      "source": [
        "**Working with data set** ; \n",
        "(**1.bom.movie_gross.csv.gz to be refered as 'data_set_1_bom_df**) \n",
        "\n",
        "Funtions and attributes to understand our dataset\n",
        "\n",
        "**Working 1 and or reference 1.**"
      ],
      "metadata": {
        "id": "nmS9I6OMqyCz"
      }
    },
    {
      "cell_type": "code",
      "source": [
        "import pandas as pd\n",
        "import numpy as np\n",
        "import matplotlib.pyplot as plt\n",
        "import seaborn as sns\n",
        "%matplotlib inline\n",
        "\n",
        "data_set_1_bom_df=pd.read_csv('bom.movie_gross.csv.gz')\n",
        "data_set_1_bom_df"
      ],
      "metadata": {
        "id": "HcypWeDL5-GX",
        "colab": {
          "base_uri": "https://localhost:8080/",
          "height": 423
        },
        "outputId": "1f5de84d-4531-4911-b285-c761f310a204"
      },
      "execution_count": 6,
      "outputs": [
        {
          "output_type": "execute_result",
          "data": {
            "text/plain": [
              "                                            title      studio  domestic_gross  \\\n",
              "0                                     Toy Story 3          BV     415000000.0   \n",
              "1                      Alice in Wonderland (2010)          BV     334200000.0   \n",
              "2     Harry Potter and the Deathly Hallows Part 1          WB     296000000.0   \n",
              "3                                       Inception          WB     292600000.0   \n",
              "4                             Shrek Forever After        P/DW     238700000.0   \n",
              "...                                           ...         ...             ...   \n",
              "3382                                    The Quake       Magn.          6200.0   \n",
              "3383                  Edward II (2018 re-release)          FM          4800.0   \n",
              "3384                                     El Pacto        Sony          2500.0   \n",
              "3385                                     The Swan  Synergetic          2400.0   \n",
              "3386                            An Actor Prepares       Grav.          1700.0   \n",
              "\n",
              "     foreign_gross  year  \n",
              "0        652000000  2010  \n",
              "1        691300000  2010  \n",
              "2        664300000  2010  \n",
              "3        535700000  2010  \n",
              "4        513900000  2010  \n",
              "...            ...   ...  \n",
              "3382           NaN  2018  \n",
              "3383           NaN  2018  \n",
              "3384           NaN  2018  \n",
              "3385           NaN  2018  \n",
              "3386           NaN  2018  \n",
              "\n",
              "[3387 rows x 5 columns]"
            ],
            "text/html": [
              "\n",
              "  <div id=\"df-7faad515-115c-45ba-8a18-db66bc3cdbfb\">\n",
              "    <div class=\"colab-df-container\">\n",
              "      <div>\n",
              "<style scoped>\n",
              "    .dataframe tbody tr th:only-of-type {\n",
              "        vertical-align: middle;\n",
              "    }\n",
              "\n",
              "    .dataframe tbody tr th {\n",
              "        vertical-align: top;\n",
              "    }\n",
              "\n",
              "    .dataframe thead th {\n",
              "        text-align: right;\n",
              "    }\n",
              "</style>\n",
              "<table border=\"1\" class=\"dataframe\">\n",
              "  <thead>\n",
              "    <tr style=\"text-align: right;\">\n",
              "      <th></th>\n",
              "      <th>title</th>\n",
              "      <th>studio</th>\n",
              "      <th>domestic_gross</th>\n",
              "      <th>foreign_gross</th>\n",
              "      <th>year</th>\n",
              "    </tr>\n",
              "  </thead>\n",
              "  <tbody>\n",
              "    <tr>\n",
              "      <th>0</th>\n",
              "      <td>Toy Story 3</td>\n",
              "      <td>BV</td>\n",
              "      <td>415000000.0</td>\n",
              "      <td>652000000</td>\n",
              "      <td>2010</td>\n",
              "    </tr>\n",
              "    <tr>\n",
              "      <th>1</th>\n",
              "      <td>Alice in Wonderland (2010)</td>\n",
              "      <td>BV</td>\n",
              "      <td>334200000.0</td>\n",
              "      <td>691300000</td>\n",
              "      <td>2010</td>\n",
              "    </tr>\n",
              "    <tr>\n",
              "      <th>2</th>\n",
              "      <td>Harry Potter and the Deathly Hallows Part 1</td>\n",
              "      <td>WB</td>\n",
              "      <td>296000000.0</td>\n",
              "      <td>664300000</td>\n",
              "      <td>2010</td>\n",
              "    </tr>\n",
              "    <tr>\n",
              "      <th>3</th>\n",
              "      <td>Inception</td>\n",
              "      <td>WB</td>\n",
              "      <td>292600000.0</td>\n",
              "      <td>535700000</td>\n",
              "      <td>2010</td>\n",
              "    </tr>\n",
              "    <tr>\n",
              "      <th>4</th>\n",
              "      <td>Shrek Forever After</td>\n",
              "      <td>P/DW</td>\n",
              "      <td>238700000.0</td>\n",
              "      <td>513900000</td>\n",
              "      <td>2010</td>\n",
              "    </tr>\n",
              "    <tr>\n",
              "      <th>...</th>\n",
              "      <td>...</td>\n",
              "      <td>...</td>\n",
              "      <td>...</td>\n",
              "      <td>...</td>\n",
              "      <td>...</td>\n",
              "    </tr>\n",
              "    <tr>\n",
              "      <th>3382</th>\n",
              "      <td>The Quake</td>\n",
              "      <td>Magn.</td>\n",
              "      <td>6200.0</td>\n",
              "      <td>NaN</td>\n",
              "      <td>2018</td>\n",
              "    </tr>\n",
              "    <tr>\n",
              "      <th>3383</th>\n",
              "      <td>Edward II (2018 re-release)</td>\n",
              "      <td>FM</td>\n",
              "      <td>4800.0</td>\n",
              "      <td>NaN</td>\n",
              "      <td>2018</td>\n",
              "    </tr>\n",
              "    <tr>\n",
              "      <th>3384</th>\n",
              "      <td>El Pacto</td>\n",
              "      <td>Sony</td>\n",
              "      <td>2500.0</td>\n",
              "      <td>NaN</td>\n",
              "      <td>2018</td>\n",
              "    </tr>\n",
              "    <tr>\n",
              "      <th>3385</th>\n",
              "      <td>The Swan</td>\n",
              "      <td>Synergetic</td>\n",
              "      <td>2400.0</td>\n",
              "      <td>NaN</td>\n",
              "      <td>2018</td>\n",
              "    </tr>\n",
              "    <tr>\n",
              "      <th>3386</th>\n",
              "      <td>An Actor Prepares</td>\n",
              "      <td>Grav.</td>\n",
              "      <td>1700.0</td>\n",
              "      <td>NaN</td>\n",
              "      <td>2018</td>\n",
              "    </tr>\n",
              "  </tbody>\n",
              "</table>\n",
              "<p>3387 rows × 5 columns</p>\n",
              "</div>\n",
              "      <button class=\"colab-df-convert\" onclick=\"convertToInteractive('df-7faad515-115c-45ba-8a18-db66bc3cdbfb')\"\n",
              "              title=\"Convert this dataframe to an interactive table.\"\n",
              "              style=\"display:none;\">\n",
              "        \n",
              "  <svg xmlns=\"http://www.w3.org/2000/svg\" height=\"24px\"viewBox=\"0 0 24 24\"\n",
              "       width=\"24px\">\n",
              "    <path d=\"M0 0h24v24H0V0z\" fill=\"none\"/>\n",
              "    <path d=\"M18.56 5.44l.94 2.06.94-2.06 2.06-.94-2.06-.94-.94-2.06-.94 2.06-2.06.94zm-11 1L8.5 8.5l.94-2.06 2.06-.94-2.06-.94L8.5 2.5l-.94 2.06-2.06.94zm10 10l.94 2.06.94-2.06 2.06-.94-2.06-.94-.94-2.06-.94 2.06-2.06.94z\"/><path d=\"M17.41 7.96l-1.37-1.37c-.4-.4-.92-.59-1.43-.59-.52 0-1.04.2-1.43.59L10.3 9.45l-7.72 7.72c-.78.78-.78 2.05 0 2.83L4 21.41c.39.39.9.59 1.41.59.51 0 1.02-.2 1.41-.59l7.78-7.78 2.81-2.81c.8-.78.8-2.07 0-2.86zM5.41 20L4 18.59l7.72-7.72 1.47 1.35L5.41 20z\"/>\n",
              "  </svg>\n",
              "      </button>\n",
              "      \n",
              "  <style>\n",
              "    .colab-df-container {\n",
              "      display:flex;\n",
              "      flex-wrap:wrap;\n",
              "      gap: 12px;\n",
              "    }\n",
              "\n",
              "    .colab-df-convert {\n",
              "      background-color: #E8F0FE;\n",
              "      border: none;\n",
              "      border-radius: 50%;\n",
              "      cursor: pointer;\n",
              "      display: none;\n",
              "      fill: #1967D2;\n",
              "      height: 32px;\n",
              "      padding: 0 0 0 0;\n",
              "      width: 32px;\n",
              "    }\n",
              "\n",
              "    .colab-df-convert:hover {\n",
              "      background-color: #E2EBFA;\n",
              "      box-shadow: 0px 1px 2px rgba(60, 64, 67, 0.3), 0px 1px 3px 1px rgba(60, 64, 67, 0.15);\n",
              "      fill: #174EA6;\n",
              "    }\n",
              "\n",
              "    [theme=dark] .colab-df-convert {\n",
              "      background-color: #3B4455;\n",
              "      fill: #D2E3FC;\n",
              "    }\n",
              "\n",
              "    [theme=dark] .colab-df-convert:hover {\n",
              "      background-color: #434B5C;\n",
              "      box-shadow: 0px 1px 3px 1px rgba(0, 0, 0, 0.15);\n",
              "      filter: drop-shadow(0px 1px 2px rgba(0, 0, 0, 0.3));\n",
              "      fill: #FFFFFF;\n",
              "    }\n",
              "  </style>\n",
              "\n",
              "      <script>\n",
              "        const buttonEl =\n",
              "          document.querySelector('#df-7faad515-115c-45ba-8a18-db66bc3cdbfb button.colab-df-convert');\n",
              "        buttonEl.style.display =\n",
              "          google.colab.kernel.accessAllowed ? 'block' : 'none';\n",
              "\n",
              "        async function convertToInteractive(key) {\n",
              "          const element = document.querySelector('#df-7faad515-115c-45ba-8a18-db66bc3cdbfb');\n",
              "          const dataTable =\n",
              "            await google.colab.kernel.invokeFunction('convertToInteractive',\n",
              "                                                     [key], {});\n",
              "          if (!dataTable) return;\n",
              "\n",
              "          const docLinkHtml = 'Like what you see? Visit the ' +\n",
              "            '<a target=\"_blank\" href=https://colab.research.google.com/notebooks/data_table.ipynb>data table notebook</a>'\n",
              "            + ' to learn more about interactive tables.';\n",
              "          element.innerHTML = '';\n",
              "          dataTable['output_type'] = 'display_data';\n",
              "          await google.colab.output.renderOutput(dataTable, element);\n",
              "          const docLink = document.createElement('div');\n",
              "          docLink.innerHTML = docLinkHtml;\n",
              "          element.appendChild(docLink);\n",
              "        }\n",
              "      </script>\n",
              "    </div>\n",
              "  </div>\n",
              "  "
            ]
          },
          "metadata": {},
          "execution_count": 6
        }
      ]
    },
    {
      "cell_type": "markdown",
      "source": [
        "**working 2 and or reference 2**\n",
        "\n",
        "**Function to read the first five rows of our data set** \n"
      ],
      "metadata": {
        "id": "ugtRpRmscaF1"
      }
    },
    {
      "cell_type": "code",
      "source": [
        "data_set_1_bom_df.head(5)"
      ],
      "metadata": {
        "id": "ddwZlPUTrKPb",
        "colab": {
          "base_uri": "https://localhost:8080/",
          "height": 206
        },
        "outputId": "213513dc-1545-4b35-ebe1-77508b48a0a5"
      },
      "execution_count": 8,
      "outputs": [
        {
          "output_type": "execute_result",
          "data": {
            "text/plain": [
              "                                         title studio  domestic_gross  \\\n",
              "0                                  Toy Story 3     BV     415000000.0   \n",
              "1                   Alice in Wonderland (2010)     BV     334200000.0   \n",
              "2  Harry Potter and the Deathly Hallows Part 1     WB     296000000.0   \n",
              "3                                    Inception     WB     292600000.0   \n",
              "4                          Shrek Forever After   P/DW     238700000.0   \n",
              "\n",
              "  foreign_gross  year  \n",
              "0     652000000  2010  \n",
              "1     691300000  2010  \n",
              "2     664300000  2010  \n",
              "3     535700000  2010  \n",
              "4     513900000  2010  "
            ],
            "text/html": [
              "\n",
              "  <div id=\"df-d011186b-1779-485a-ad23-904b3a486dc7\">\n",
              "    <div class=\"colab-df-container\">\n",
              "      <div>\n",
              "<style scoped>\n",
              "    .dataframe tbody tr th:only-of-type {\n",
              "        vertical-align: middle;\n",
              "    }\n",
              "\n",
              "    .dataframe tbody tr th {\n",
              "        vertical-align: top;\n",
              "    }\n",
              "\n",
              "    .dataframe thead th {\n",
              "        text-align: right;\n",
              "    }\n",
              "</style>\n",
              "<table border=\"1\" class=\"dataframe\">\n",
              "  <thead>\n",
              "    <tr style=\"text-align: right;\">\n",
              "      <th></th>\n",
              "      <th>title</th>\n",
              "      <th>studio</th>\n",
              "      <th>domestic_gross</th>\n",
              "      <th>foreign_gross</th>\n",
              "      <th>year</th>\n",
              "    </tr>\n",
              "  </thead>\n",
              "  <tbody>\n",
              "    <tr>\n",
              "      <th>0</th>\n",
              "      <td>Toy Story 3</td>\n",
              "      <td>BV</td>\n",
              "      <td>415000000.0</td>\n",
              "      <td>652000000</td>\n",
              "      <td>2010</td>\n",
              "    </tr>\n",
              "    <tr>\n",
              "      <th>1</th>\n",
              "      <td>Alice in Wonderland (2010)</td>\n",
              "      <td>BV</td>\n",
              "      <td>334200000.0</td>\n",
              "      <td>691300000</td>\n",
              "      <td>2010</td>\n",
              "    </tr>\n",
              "    <tr>\n",
              "      <th>2</th>\n",
              "      <td>Harry Potter and the Deathly Hallows Part 1</td>\n",
              "      <td>WB</td>\n",
              "      <td>296000000.0</td>\n",
              "      <td>664300000</td>\n",
              "      <td>2010</td>\n",
              "    </tr>\n",
              "    <tr>\n",
              "      <th>3</th>\n",
              "      <td>Inception</td>\n",
              "      <td>WB</td>\n",
              "      <td>292600000.0</td>\n",
              "      <td>535700000</td>\n",
              "      <td>2010</td>\n",
              "    </tr>\n",
              "    <tr>\n",
              "      <th>4</th>\n",
              "      <td>Shrek Forever After</td>\n",
              "      <td>P/DW</td>\n",
              "      <td>238700000.0</td>\n",
              "      <td>513900000</td>\n",
              "      <td>2010</td>\n",
              "    </tr>\n",
              "  </tbody>\n",
              "</table>\n",
              "</div>\n",
              "      <button class=\"colab-df-convert\" onclick=\"convertToInteractive('df-d011186b-1779-485a-ad23-904b3a486dc7')\"\n",
              "              title=\"Convert this dataframe to an interactive table.\"\n",
              "              style=\"display:none;\">\n",
              "        \n",
              "  <svg xmlns=\"http://www.w3.org/2000/svg\" height=\"24px\"viewBox=\"0 0 24 24\"\n",
              "       width=\"24px\">\n",
              "    <path d=\"M0 0h24v24H0V0z\" fill=\"none\"/>\n",
              "    <path d=\"M18.56 5.44l.94 2.06.94-2.06 2.06-.94-2.06-.94-.94-2.06-.94 2.06-2.06.94zm-11 1L8.5 8.5l.94-2.06 2.06-.94-2.06-.94L8.5 2.5l-.94 2.06-2.06.94zm10 10l.94 2.06.94-2.06 2.06-.94-2.06-.94-.94-2.06-.94 2.06-2.06.94z\"/><path d=\"M17.41 7.96l-1.37-1.37c-.4-.4-.92-.59-1.43-.59-.52 0-1.04.2-1.43.59L10.3 9.45l-7.72 7.72c-.78.78-.78 2.05 0 2.83L4 21.41c.39.39.9.59 1.41.59.51 0 1.02-.2 1.41-.59l7.78-7.78 2.81-2.81c.8-.78.8-2.07 0-2.86zM5.41 20L4 18.59l7.72-7.72 1.47 1.35L5.41 20z\"/>\n",
              "  </svg>\n",
              "      </button>\n",
              "      \n",
              "  <style>\n",
              "    .colab-df-container {\n",
              "      display:flex;\n",
              "      flex-wrap:wrap;\n",
              "      gap: 12px;\n",
              "    }\n",
              "\n",
              "    .colab-df-convert {\n",
              "      background-color: #E8F0FE;\n",
              "      border: none;\n",
              "      border-radius: 50%;\n",
              "      cursor: pointer;\n",
              "      display: none;\n",
              "      fill: #1967D2;\n",
              "      height: 32px;\n",
              "      padding: 0 0 0 0;\n",
              "      width: 32px;\n",
              "    }\n",
              "\n",
              "    .colab-df-convert:hover {\n",
              "      background-color: #E2EBFA;\n",
              "      box-shadow: 0px 1px 2px rgba(60, 64, 67, 0.3), 0px 1px 3px 1px rgba(60, 64, 67, 0.15);\n",
              "      fill: #174EA6;\n",
              "    }\n",
              "\n",
              "    [theme=dark] .colab-df-convert {\n",
              "      background-color: #3B4455;\n",
              "      fill: #D2E3FC;\n",
              "    }\n",
              "\n",
              "    [theme=dark] .colab-df-convert:hover {\n",
              "      background-color: #434B5C;\n",
              "      box-shadow: 0px 1px 3px 1px rgba(0, 0, 0, 0.15);\n",
              "      filter: drop-shadow(0px 1px 2px rgba(0, 0, 0, 0.3));\n",
              "      fill: #FFFFFF;\n",
              "    }\n",
              "  </style>\n",
              "\n",
              "      <script>\n",
              "        const buttonEl =\n",
              "          document.querySelector('#df-d011186b-1779-485a-ad23-904b3a486dc7 button.colab-df-convert');\n",
              "        buttonEl.style.display =\n",
              "          google.colab.kernel.accessAllowed ? 'block' : 'none';\n",
              "\n",
              "        async function convertToInteractive(key) {\n",
              "          const element = document.querySelector('#df-d011186b-1779-485a-ad23-904b3a486dc7');\n",
              "          const dataTable =\n",
              "            await google.colab.kernel.invokeFunction('convertToInteractive',\n",
              "                                                     [key], {});\n",
              "          if (!dataTable) return;\n",
              "\n",
              "          const docLinkHtml = 'Like what you see? Visit the ' +\n",
              "            '<a target=\"_blank\" href=https://colab.research.google.com/notebooks/data_table.ipynb>data table notebook</a>'\n",
              "            + ' to learn more about interactive tables.';\n",
              "          element.innerHTML = '';\n",
              "          dataTable['output_type'] = 'display_data';\n",
              "          await google.colab.output.renderOutput(dataTable, element);\n",
              "          const docLink = document.createElement('div');\n",
              "          docLink.innerHTML = docLinkHtml;\n",
              "          element.appendChild(docLink);\n",
              "        }\n",
              "      </script>\n",
              "    </div>\n",
              "  </div>\n",
              "  "
            ]
          },
          "metadata": {},
          "execution_count": 8
        }
      ]
    },
    {
      "cell_type": "markdown",
      "source": [
        "**Working 3 and or reference 3**\n",
        "\n",
        "**Data shape**"
      ],
      "metadata": {
        "id": "83kwAI-XdhRe"
      }
    },
    {
      "cell_type": "code",
      "source": [
        "data_set_1_bom_df.shape"
      ],
      "metadata": {
        "colab": {
          "base_uri": "https://localhost:8080/",
          "height": 0
        },
        "id": "NG07hWC2eiHA",
        "outputId": "4490a9e9-ed84-43bf-dcac-89992834a927"
      },
      "execution_count": 9,
      "outputs": [
        {
          "output_type": "execute_result",
          "data": {
            "text/plain": [
              "(3387, 5)"
            ]
          },
          "metadata": {},
          "execution_count": 9
        }
      ]
    },
    {
      "cell_type": "markdown",
      "source": [
        "Interpretation of df.shape_Our data set contains 3,387 rows and 5 columns\n"
      ],
      "metadata": {
        "id": "fT6I5hf7euzV"
      }
    },
    {
      "cell_type": "markdown",
      "source": [
        "**working 4 and or reference 4**\n",
        "\n",
        " **Name of columns **."
      ],
      "metadata": {
        "id": "rBkO1Ky4fLw3"
      }
    },
    {
      "cell_type": "code",
      "source": [
        "data_set_1_bom_df.columns"
      ],
      "metadata": {
        "colab": {
          "base_uri": "https://localhost:8080/",
          "height": 0
        },
        "id": "cU2nEeShfYRd",
        "outputId": "2883b1d6-2bb6-481f-d92c-65c3201281d9"
      },
      "execution_count": 10,
      "outputs": [
        {
          "output_type": "execute_result",
          "data": {
            "text/plain": [
              "Index(['title', 'studio', 'domestic_gross', 'foreign_gross', 'year'], dtype='object')"
            ]
          },
          "metadata": {},
          "execution_count": 10
        }
      ]
    },
    {
      "cell_type": "markdown",
      "source": [
        "**Working 5 and or references 5.**\n",
        "\n",
        "**Data info**"
      ],
      "metadata": {
        "id": "YZ0-g6sgfo_6"
      }
    },
    {
      "cell_type": "code",
      "source": [
        "data_set_1_bom_df.info()"
      ],
      "metadata": {
        "colab": {
          "base_uri": "https://localhost:8080/",
          "height": 0
        },
        "id": "FkSSYQ9Ff3Vn",
        "outputId": "160d633a-99b0-41c8-8506-607ca9750efa"
      },
      "execution_count": 12,
      "outputs": [
        {
          "output_type": "stream",
          "name": "stdout",
          "text": [
            "<class 'pandas.core.frame.DataFrame'>\n",
            "RangeIndex: 3387 entries, 0 to 3386\n",
            "Data columns (total 5 columns):\n",
            " #   Column          Non-Null Count  Dtype  \n",
            "---  ------          --------------  -----  \n",
            " 0   title           3387 non-null   object \n",
            " 1   studio          3382 non-null   object \n",
            " 2   domestic_gross  3359 non-null   float64\n",
            " 3   foreign_gross   2037 non-null   object \n",
            " 4   year            3387 non-null   int64  \n",
            "dtypes: float64(1), int64(1), object(3)\n",
            "memory usage: 132.4+ KB\n"
          ]
        }
      ]
    },
    {
      "cell_type": "markdown",
      "source": [
        "Intrepretation of Data info_There are five columns where 3 are objects ,1 float and 1 interger ."
      ],
      "metadata": {
        "id": "AMLCgADAgTcc"
      }
    },
    {
      "cell_type": "markdown",
      "source": [
        "**Working 6 and or reference 6**\n",
        "\n",
        "**Checking on descriptive measures.**"
      ],
      "metadata": {
        "id": "6fd8rh1Dglx1"
      }
    },
    {
      "cell_type": "code",
      "source": [
        "data_set_1_bom_df.describe()"
      ],
      "metadata": {
        "colab": {
          "base_uri": "https://localhost:8080/",
          "height": 300
        },
        "id": "AsK5XTRSg5xF",
        "outputId": "50af4c3b-891f-4cb5-a549-41c3f2c56793"
      },
      "execution_count": 15,
      "outputs": [
        {
          "output_type": "execute_result",
          "data": {
            "text/plain": [
              "       domestic_gross         year\n",
              "count    3.359000e+03  3387.000000\n",
              "mean     2.874585e+07  2013.958075\n",
              "std      6.698250e+07     2.478141\n",
              "min      1.000000e+02  2010.000000\n",
              "25%      1.200000e+05  2012.000000\n",
              "50%      1.400000e+06  2014.000000\n",
              "75%      2.790000e+07  2016.000000\n",
              "max      9.367000e+08  2018.000000"
            ],
            "text/html": [
              "\n",
              "  <div id=\"df-54072f79-68c6-40b3-b1bb-0c8758b8bb43\">\n",
              "    <div class=\"colab-df-container\">\n",
              "      <div>\n",
              "<style scoped>\n",
              "    .dataframe tbody tr th:only-of-type {\n",
              "        vertical-align: middle;\n",
              "    }\n",
              "\n",
              "    .dataframe tbody tr th {\n",
              "        vertical-align: top;\n",
              "    }\n",
              "\n",
              "    .dataframe thead th {\n",
              "        text-align: right;\n",
              "    }\n",
              "</style>\n",
              "<table border=\"1\" class=\"dataframe\">\n",
              "  <thead>\n",
              "    <tr style=\"text-align: right;\">\n",
              "      <th></th>\n",
              "      <th>domestic_gross</th>\n",
              "      <th>year</th>\n",
              "    </tr>\n",
              "  </thead>\n",
              "  <tbody>\n",
              "    <tr>\n",
              "      <th>count</th>\n",
              "      <td>3.359000e+03</td>\n",
              "      <td>3387.000000</td>\n",
              "    </tr>\n",
              "    <tr>\n",
              "      <th>mean</th>\n",
              "      <td>2.874585e+07</td>\n",
              "      <td>2013.958075</td>\n",
              "    </tr>\n",
              "    <tr>\n",
              "      <th>std</th>\n",
              "      <td>6.698250e+07</td>\n",
              "      <td>2.478141</td>\n",
              "    </tr>\n",
              "    <tr>\n",
              "      <th>min</th>\n",
              "      <td>1.000000e+02</td>\n",
              "      <td>2010.000000</td>\n",
              "    </tr>\n",
              "    <tr>\n",
              "      <th>25%</th>\n",
              "      <td>1.200000e+05</td>\n",
              "      <td>2012.000000</td>\n",
              "    </tr>\n",
              "    <tr>\n",
              "      <th>50%</th>\n",
              "      <td>1.400000e+06</td>\n",
              "      <td>2014.000000</td>\n",
              "    </tr>\n",
              "    <tr>\n",
              "      <th>75%</th>\n",
              "      <td>2.790000e+07</td>\n",
              "      <td>2016.000000</td>\n",
              "    </tr>\n",
              "    <tr>\n",
              "      <th>max</th>\n",
              "      <td>9.367000e+08</td>\n",
              "      <td>2018.000000</td>\n",
              "    </tr>\n",
              "  </tbody>\n",
              "</table>\n",
              "</div>\n",
              "      <button class=\"colab-df-convert\" onclick=\"convertToInteractive('df-54072f79-68c6-40b3-b1bb-0c8758b8bb43')\"\n",
              "              title=\"Convert this dataframe to an interactive table.\"\n",
              "              style=\"display:none;\">\n",
              "        \n",
              "  <svg xmlns=\"http://www.w3.org/2000/svg\" height=\"24px\"viewBox=\"0 0 24 24\"\n",
              "       width=\"24px\">\n",
              "    <path d=\"M0 0h24v24H0V0z\" fill=\"none\"/>\n",
              "    <path d=\"M18.56 5.44l.94 2.06.94-2.06 2.06-.94-2.06-.94-.94-2.06-.94 2.06-2.06.94zm-11 1L8.5 8.5l.94-2.06 2.06-.94-2.06-.94L8.5 2.5l-.94 2.06-2.06.94zm10 10l.94 2.06.94-2.06 2.06-.94-2.06-.94-.94-2.06-.94 2.06-2.06.94z\"/><path d=\"M17.41 7.96l-1.37-1.37c-.4-.4-.92-.59-1.43-.59-.52 0-1.04.2-1.43.59L10.3 9.45l-7.72 7.72c-.78.78-.78 2.05 0 2.83L4 21.41c.39.39.9.59 1.41.59.51 0 1.02-.2 1.41-.59l7.78-7.78 2.81-2.81c.8-.78.8-2.07 0-2.86zM5.41 20L4 18.59l7.72-7.72 1.47 1.35L5.41 20z\"/>\n",
              "  </svg>\n",
              "      </button>\n",
              "      \n",
              "  <style>\n",
              "    .colab-df-container {\n",
              "      display:flex;\n",
              "      flex-wrap:wrap;\n",
              "      gap: 12px;\n",
              "    }\n",
              "\n",
              "    .colab-df-convert {\n",
              "      background-color: #E8F0FE;\n",
              "      border: none;\n",
              "      border-radius: 50%;\n",
              "      cursor: pointer;\n",
              "      display: none;\n",
              "      fill: #1967D2;\n",
              "      height: 32px;\n",
              "      padding: 0 0 0 0;\n",
              "      width: 32px;\n",
              "    }\n",
              "\n",
              "    .colab-df-convert:hover {\n",
              "      background-color: #E2EBFA;\n",
              "      box-shadow: 0px 1px 2px rgba(60, 64, 67, 0.3), 0px 1px 3px 1px rgba(60, 64, 67, 0.15);\n",
              "      fill: #174EA6;\n",
              "    }\n",
              "\n",
              "    [theme=dark] .colab-df-convert {\n",
              "      background-color: #3B4455;\n",
              "      fill: #D2E3FC;\n",
              "    }\n",
              "\n",
              "    [theme=dark] .colab-df-convert:hover {\n",
              "      background-color: #434B5C;\n",
              "      box-shadow: 0px 1px 3px 1px rgba(0, 0, 0, 0.15);\n",
              "      filter: drop-shadow(0px 1px 2px rgba(0, 0, 0, 0.3));\n",
              "      fill: #FFFFFF;\n",
              "    }\n",
              "  </style>\n",
              "\n",
              "      <script>\n",
              "        const buttonEl =\n",
              "          document.querySelector('#df-54072f79-68c6-40b3-b1bb-0c8758b8bb43 button.colab-df-convert');\n",
              "        buttonEl.style.display =\n",
              "          google.colab.kernel.accessAllowed ? 'block' : 'none';\n",
              "\n",
              "        async function convertToInteractive(key) {\n",
              "          const element = document.querySelector('#df-54072f79-68c6-40b3-b1bb-0c8758b8bb43');\n",
              "          const dataTable =\n",
              "            await google.colab.kernel.invokeFunction('convertToInteractive',\n",
              "                                                     [key], {});\n",
              "          if (!dataTable) return;\n",
              "\n",
              "          const docLinkHtml = 'Like what you see? Visit the ' +\n",
              "            '<a target=\"_blank\" href=https://colab.research.google.com/notebooks/data_table.ipynb>data table notebook</a>'\n",
              "            + ' to learn more about interactive tables.';\n",
              "          element.innerHTML = '';\n",
              "          dataTable['output_type'] = 'display_data';\n",
              "          await google.colab.output.renderOutput(dataTable, element);\n",
              "          const docLink = document.createElement('div');\n",
              "          docLink.innerHTML = docLinkHtml;\n",
              "          element.appendChild(docLink);\n",
              "        }\n",
              "      </script>\n",
              "    </div>\n",
              "  </div>\n",
              "  "
            ]
          },
          "metadata": {},
          "execution_count": 15
        }
      ]
    },
    {
      "cell_type": "markdown",
      "source": [
        "**Working 7 and or reference 7.**\n",
        "\n",
        "**A view of the last 5 rows of our data .**"
      ],
      "metadata": {
        "id": "ujGrwIEDhUs9"
      }
    },
    {
      "cell_type": "code",
      "source": [
        "data_set_1_bom_df.tail(5)"
      ],
      "metadata": {
        "colab": {
          "base_uri": "https://localhost:8080/",
          "height": 206
        },
        "id": "av-Cobf1ho06",
        "outputId": "c9aede15-ca96-43de-c361-317a1a2138a3"
      },
      "execution_count": 16,
      "outputs": [
        {
          "output_type": "execute_result",
          "data": {
            "text/plain": [
              "                            title      studio  domestic_gross foreign_gross  \\\n",
              "3382                    The Quake       Magn.          6200.0           NaN   \n",
              "3383  Edward II (2018 re-release)          FM          4800.0           NaN   \n",
              "3384                     El Pacto        Sony          2500.0           NaN   \n",
              "3385                     The Swan  Synergetic          2400.0           NaN   \n",
              "3386            An Actor Prepares       Grav.          1700.0           NaN   \n",
              "\n",
              "      year  \n",
              "3382  2018  \n",
              "3383  2018  \n",
              "3384  2018  \n",
              "3385  2018  \n",
              "3386  2018  "
            ],
            "text/html": [
              "\n",
              "  <div id=\"df-a940455c-1509-4dcf-bb90-5768b9530cb4\">\n",
              "    <div class=\"colab-df-container\">\n",
              "      <div>\n",
              "<style scoped>\n",
              "    .dataframe tbody tr th:only-of-type {\n",
              "        vertical-align: middle;\n",
              "    }\n",
              "\n",
              "    .dataframe tbody tr th {\n",
              "        vertical-align: top;\n",
              "    }\n",
              "\n",
              "    .dataframe thead th {\n",
              "        text-align: right;\n",
              "    }\n",
              "</style>\n",
              "<table border=\"1\" class=\"dataframe\">\n",
              "  <thead>\n",
              "    <tr style=\"text-align: right;\">\n",
              "      <th></th>\n",
              "      <th>title</th>\n",
              "      <th>studio</th>\n",
              "      <th>domestic_gross</th>\n",
              "      <th>foreign_gross</th>\n",
              "      <th>year</th>\n",
              "    </tr>\n",
              "  </thead>\n",
              "  <tbody>\n",
              "    <tr>\n",
              "      <th>3382</th>\n",
              "      <td>The Quake</td>\n",
              "      <td>Magn.</td>\n",
              "      <td>6200.0</td>\n",
              "      <td>NaN</td>\n",
              "      <td>2018</td>\n",
              "    </tr>\n",
              "    <tr>\n",
              "      <th>3383</th>\n",
              "      <td>Edward II (2018 re-release)</td>\n",
              "      <td>FM</td>\n",
              "      <td>4800.0</td>\n",
              "      <td>NaN</td>\n",
              "      <td>2018</td>\n",
              "    </tr>\n",
              "    <tr>\n",
              "      <th>3384</th>\n",
              "      <td>El Pacto</td>\n",
              "      <td>Sony</td>\n",
              "      <td>2500.0</td>\n",
              "      <td>NaN</td>\n",
              "      <td>2018</td>\n",
              "    </tr>\n",
              "    <tr>\n",
              "      <th>3385</th>\n",
              "      <td>The Swan</td>\n",
              "      <td>Synergetic</td>\n",
              "      <td>2400.0</td>\n",
              "      <td>NaN</td>\n",
              "      <td>2018</td>\n",
              "    </tr>\n",
              "    <tr>\n",
              "      <th>3386</th>\n",
              "      <td>An Actor Prepares</td>\n",
              "      <td>Grav.</td>\n",
              "      <td>1700.0</td>\n",
              "      <td>NaN</td>\n",
              "      <td>2018</td>\n",
              "    </tr>\n",
              "  </tbody>\n",
              "</table>\n",
              "</div>\n",
              "      <button class=\"colab-df-convert\" onclick=\"convertToInteractive('df-a940455c-1509-4dcf-bb90-5768b9530cb4')\"\n",
              "              title=\"Convert this dataframe to an interactive table.\"\n",
              "              style=\"display:none;\">\n",
              "        \n",
              "  <svg xmlns=\"http://www.w3.org/2000/svg\" height=\"24px\"viewBox=\"0 0 24 24\"\n",
              "       width=\"24px\">\n",
              "    <path d=\"M0 0h24v24H0V0z\" fill=\"none\"/>\n",
              "    <path d=\"M18.56 5.44l.94 2.06.94-2.06 2.06-.94-2.06-.94-.94-2.06-.94 2.06-2.06.94zm-11 1L8.5 8.5l.94-2.06 2.06-.94-2.06-.94L8.5 2.5l-.94 2.06-2.06.94zm10 10l.94 2.06.94-2.06 2.06-.94-2.06-.94-.94-2.06-.94 2.06-2.06.94z\"/><path d=\"M17.41 7.96l-1.37-1.37c-.4-.4-.92-.59-1.43-.59-.52 0-1.04.2-1.43.59L10.3 9.45l-7.72 7.72c-.78.78-.78 2.05 0 2.83L4 21.41c.39.39.9.59 1.41.59.51 0 1.02-.2 1.41-.59l7.78-7.78 2.81-2.81c.8-.78.8-2.07 0-2.86zM5.41 20L4 18.59l7.72-7.72 1.47 1.35L5.41 20z\"/>\n",
              "  </svg>\n",
              "      </button>\n",
              "      \n",
              "  <style>\n",
              "    .colab-df-container {\n",
              "      display:flex;\n",
              "      flex-wrap:wrap;\n",
              "      gap: 12px;\n",
              "    }\n",
              "\n",
              "    .colab-df-convert {\n",
              "      background-color: #E8F0FE;\n",
              "      border: none;\n",
              "      border-radius: 50%;\n",
              "      cursor: pointer;\n",
              "      display: none;\n",
              "      fill: #1967D2;\n",
              "      height: 32px;\n",
              "      padding: 0 0 0 0;\n",
              "      width: 32px;\n",
              "    }\n",
              "\n",
              "    .colab-df-convert:hover {\n",
              "      background-color: #E2EBFA;\n",
              "      box-shadow: 0px 1px 2px rgba(60, 64, 67, 0.3), 0px 1px 3px 1px rgba(60, 64, 67, 0.15);\n",
              "      fill: #174EA6;\n",
              "    }\n",
              "\n",
              "    [theme=dark] .colab-df-convert {\n",
              "      background-color: #3B4455;\n",
              "      fill: #D2E3FC;\n",
              "    }\n",
              "\n",
              "    [theme=dark] .colab-df-convert:hover {\n",
              "      background-color: #434B5C;\n",
              "      box-shadow: 0px 1px 3px 1px rgba(0, 0, 0, 0.15);\n",
              "      filter: drop-shadow(0px 1px 2px rgba(0, 0, 0, 0.3));\n",
              "      fill: #FFFFFF;\n",
              "    }\n",
              "  </style>\n",
              "\n",
              "      <script>\n",
              "        const buttonEl =\n",
              "          document.querySelector('#df-a940455c-1509-4dcf-bb90-5768b9530cb4 button.colab-df-convert');\n",
              "        buttonEl.style.display =\n",
              "          google.colab.kernel.accessAllowed ? 'block' : 'none';\n",
              "\n",
              "        async function convertToInteractive(key) {\n",
              "          const element = document.querySelector('#df-a940455c-1509-4dcf-bb90-5768b9530cb4');\n",
              "          const dataTable =\n",
              "            await google.colab.kernel.invokeFunction('convertToInteractive',\n",
              "                                                     [key], {});\n",
              "          if (!dataTable) return;\n",
              "\n",
              "          const docLinkHtml = 'Like what you see? Visit the ' +\n",
              "            '<a target=\"_blank\" href=https://colab.research.google.com/notebooks/data_table.ipynb>data table notebook</a>'\n",
              "            + ' to learn more about interactive tables.';\n",
              "          element.innerHTML = '';\n",
              "          dataTable['output_type'] = 'display_data';\n",
              "          await google.colab.output.renderOutput(dataTable, element);\n",
              "          const docLink = document.createElement('div');\n",
              "          docLink.innerHTML = docLinkHtml;\n",
              "          element.appendChild(docLink);\n",
              "        }\n",
              "      </script>\n",
              "    </div>\n",
              "  </div>\n",
              "  "
            ]
          },
          "metadata": {},
          "execution_count": 16
        }
      ]
    },
    {
      "cell_type": "markdown",
      "source": [
        "**Working 8 and or reference 8**\n",
        "\n",
        "**To understand columns with missing data**\n"
      ],
      "metadata": {
        "id": "gCP95b06ijmo"
      }
    },
    {
      "cell_type": "code",
      "source": [
        "data_set_1_bom_df.isna().sum()"
      ],
      "metadata": {
        "colab": {
          "base_uri": "https://localhost:8080/",
          "height": 0
        },
        "id": "DNHnwLHHizPd",
        "outputId": "a535caf5-3b48-4dd2-e0ab-5fa64c7a3f74"
      },
      "execution_count": 17,
      "outputs": [
        {
          "output_type": "execute_result",
          "data": {
            "text/plain": [
              "title                0\n",
              "studio               5\n",
              "domestic_gross      28\n",
              "foreign_gross     1350\n",
              "year                 0\n",
              "dtype: int64"
            ]
          },
          "metadata": {},
          "execution_count": 17
        }
      ]
    },
    {
      "cell_type": "markdown",
      "source": [
        "**Interpretation of results on columns with missing data. **\n",
        "\n",
        "1.For studio column there are only five rows with missing data 2.For domestic_gross column there are total of 28 rows with missing data 3.For foreign_gross column there are a total of 1350 rows with missing data and thus this column may not be very dependable for data anlaysis and sound decision making."
      ],
      "metadata": {
        "id": "BP-WLkSXjERm"
      }
    },
    {
      "cell_type": "markdown",
      "source": [
        "From the results of working 8 and or reference 8 we need to do ***data cleaning*** .\n",
        "\n",
        "1.We will drop the empty rows with missing data on 'studio'.The rows to be dropped are only 5/3387 and thus it won't affect the data set materialily.\n",
        "\n",
        "2.We will drop the empty rows with missing data on 'domestic_gross'.The rows to be dropped are only 28/3387 and thus it won't affect the data set materialily.\n",
        "\n",
        "3.We will retain the rows with missing data on column'foreign_gross'.Dropping 1350/3387 rows may affect the data and thus our  retention decision."
      ],
      "metadata": {
        "id": "nSUYAJVWjVfA"
      }
    },
    {
      "cell_type": "markdown",
      "source": [
        "**Working 9 and or reference 9.**\n",
        "\n",
        "**Dropping of columns with missing data.**"
      ],
      "metadata": {
        "id": "NmY0jtRlmYEt"
      }
    },
    {
      "cell_type": "code",
      "source": [
        "data_set_1_bom_df.dropna(subset=['domestic_gross'], inplace=True)\n",
        "print(data_set_1_bom_df)"
      ],
      "metadata": {
        "colab": {
          "base_uri": "https://localhost:8080/",
          "height": 0
        },
        "id": "0hJbP2JnmjNH",
        "outputId": "d549307b-53b6-4ed6-d5c0-506fe925b485"
      },
      "execution_count": 18,
      "outputs": [
        {
          "output_type": "stream",
          "name": "stdout",
          "text": [
            "                                            title      studio  domestic_gross  \\\n",
            "0                                     Toy Story 3          BV     415000000.0   \n",
            "1                      Alice in Wonderland (2010)          BV     334200000.0   \n",
            "2     Harry Potter and the Deathly Hallows Part 1          WB     296000000.0   \n",
            "3                                       Inception          WB     292600000.0   \n",
            "4                             Shrek Forever After        P/DW     238700000.0   \n",
            "...                                           ...         ...             ...   \n",
            "3382                                    The Quake       Magn.          6200.0   \n",
            "3383                  Edward II (2018 re-release)          FM          4800.0   \n",
            "3384                                     El Pacto        Sony          2500.0   \n",
            "3385                                     The Swan  Synergetic          2400.0   \n",
            "3386                            An Actor Prepares       Grav.          1700.0   \n",
            "\n",
            "     foreign_gross  year  \n",
            "0        652000000  2010  \n",
            "1        691300000  2010  \n",
            "2        664300000  2010  \n",
            "3        535700000  2010  \n",
            "4        513900000  2010  \n",
            "...            ...   ...  \n",
            "3382           NaN  2018  \n",
            "3383           NaN  2018  \n",
            "3384           NaN  2018  \n",
            "3385           NaN  2018  \n",
            "3386           NaN  2018  \n",
            "\n",
            "[3359 rows x 5 columns]\n"
          ]
        }
      ]
    },
    {
      "cell_type": "code",
      "source": [
        "data_set_1_bom_df.dropna(subset=['studio'], inplace=True)\n",
        "print(data_set_1_bom_df)"
      ],
      "metadata": {
        "colab": {
          "base_uri": "https://localhost:8080/",
          "height": 0
        },
        "id": "-iDfz5vdmxPi",
        "outputId": "46a618b4-e477-4e5e-d7c4-d88b226d2a21"
      },
      "execution_count": 19,
      "outputs": [
        {
          "output_type": "stream",
          "name": "stdout",
          "text": [
            "                                            title      studio  domestic_gross  \\\n",
            "0                                     Toy Story 3          BV     415000000.0   \n",
            "1                      Alice in Wonderland (2010)          BV     334200000.0   \n",
            "2     Harry Potter and the Deathly Hallows Part 1          WB     296000000.0   \n",
            "3                                       Inception          WB     292600000.0   \n",
            "4                             Shrek Forever After        P/DW     238700000.0   \n",
            "...                                           ...         ...             ...   \n",
            "3382                                    The Quake       Magn.          6200.0   \n",
            "3383                  Edward II (2018 re-release)          FM          4800.0   \n",
            "3384                                     El Pacto        Sony          2500.0   \n",
            "3385                                     The Swan  Synergetic          2400.0   \n",
            "3386                            An Actor Prepares       Grav.          1700.0   \n",
            "\n",
            "     foreign_gross  year  \n",
            "0        652000000  2010  \n",
            "1        691300000  2010  \n",
            "2        664300000  2010  \n",
            "3        535700000  2010  \n",
            "4        513900000  2010  \n",
            "...            ...   ...  \n",
            "3382           NaN  2018  \n",
            "3383           NaN  2018  \n",
            "3384           NaN  2018  \n",
            "3385           NaN  2018  \n",
            "3386           NaN  2018  \n",
            "\n",
            "[3356 rows x 5 columns]\n"
          ]
        }
      ]
    },
    {
      "cell_type": "markdown",
      "source": [
        "**Working 10 and or Reference 10.**\n",
        "\n",
        "**Testing if columns with missing data on columns 'domestic_gross' and 'studio' were dropped successively.** "
      ],
      "metadata": {
        "id": "GAfRYXYvoFsu"
      }
    },
    {
      "cell_type": "code",
      "source": [
        "data_set_1_bom_df.isna().sum()"
      ],
      "metadata": {
        "colab": {
          "base_uri": "https://localhost:8080/",
          "height": 0
        },
        "id": "zT3oA-bEo7j5",
        "outputId": "d62282fb-b52e-4c77-96f3-6987a563217e"
      },
      "execution_count": 20,
      "outputs": [
        {
          "output_type": "execute_result",
          "data": {
            "text/plain": [
              "title                0\n",
              "studio               0\n",
              "domestic_gross       0\n",
              "foreign_gross     1349\n",
              "year                 0\n",
              "dtype: int64"
            ]
          },
          "metadata": {},
          "execution_count": 20
        }
      ]
    },
    {
      "cell_type": "code",
      "source": [
        "data_set_1_bom_df.shape"
      ],
      "metadata": {
        "colab": {
          "base_uri": "https://localhost:8080/",
          "height": 0
        },
        "id": "WSsSK8vGpENj",
        "outputId": "e5d54eef-ea8b-484b-9a1b-f0b8af72fb9b"
      },
      "execution_count": 21,
      "outputs": [
        {
          "output_type": "execute_result",
          "data": {
            "text/plain": [
              "(3356, 5)"
            ]
          },
          "metadata": {},
          "execution_count": 21
        }
      ]
    },
    {
      "cell_type": "markdown",
      "source": [
        "The rows with missing data on columns 'studio' and domestic_gross were successively dropped .The total number of rows reduced from 3,387 to 3,356."
      ],
      "metadata": {
        "id": "jjeckx1_pM2V"
      }
    },
    {
      "cell_type": "markdown",
      "source": [
        "# **Data analysis and Visualizations.**"
      ],
      "metadata": {
        "id": "CZG5MwyfqGpy"
      }
    },
    {
      "cell_type": "markdown",
      "source": [
        "**Working 11 and or Reference 11**\n",
        "\n",
        "**Grouping data by year in order to view the performance per year.**"
      ],
      "metadata": {
        "id": "WkMlafawqYbt"
      }
    },
    {
      "cell_type": "markdown",
      "source": [
        "**(a)table on year and data**"
      ],
      "metadata": {
        "id": "fMPU0mtuqVI_"
      }
    },
    {
      "cell_type": "code",
      "source": [
        "data_set_1_bom_df.groupby('year').sum()"
      ],
      "metadata": {
        "colab": {
          "base_uri": "https://localhost:8080/",
          "height": 529
        },
        "id": "Xj8HWBtprLVa",
        "outputId": "7292bb5d-7f83-432d-c277-37399fea6879"
      },
      "execution_count": 22,
      "outputs": [
        {
          "output_type": "stream",
          "name": "stderr",
          "text": [
            "<ipython-input-22-6d2ccc272f27>:1: FutureWarning: The default value of numeric_only in DataFrameGroupBy.sum is deprecated. In a future version, numeric_only will default to False. Either specify numeric_only or select only columns which should be valid for the function.\n",
            "  data_set_1_bom_df.groupby('year').sum()\n"
          ]
        },
        {
          "output_type": "execute_result",
          "data": {
            "text/plain": [
              "      domestic_gross\n",
              "year                \n",
              "2010    1.015683e+10\n",
              "2011    1.006409e+10\n",
              "2012    1.087661e+10\n",
              "2013    1.079233e+10\n",
              "2014    1.033773e+10\n",
              "2015    1.105141e+10\n",
              "2016    1.125365e+10\n",
              "2017    1.093327e+10\n",
              "2018    1.109121e+10"
            ],
            "text/html": [
              "\n",
              "  <div id=\"df-9f3e092c-15ab-47e4-8f7b-f42a5d8ef356\">\n",
              "    <div class=\"colab-df-container\">\n",
              "      <div>\n",
              "<style scoped>\n",
              "    .dataframe tbody tr th:only-of-type {\n",
              "        vertical-align: middle;\n",
              "    }\n",
              "\n",
              "    .dataframe tbody tr th {\n",
              "        vertical-align: top;\n",
              "    }\n",
              "\n",
              "    .dataframe thead th {\n",
              "        text-align: right;\n",
              "    }\n",
              "</style>\n",
              "<table border=\"1\" class=\"dataframe\">\n",
              "  <thead>\n",
              "    <tr style=\"text-align: right;\">\n",
              "      <th></th>\n",
              "      <th>domestic_gross</th>\n",
              "    </tr>\n",
              "    <tr>\n",
              "      <th>year</th>\n",
              "      <th></th>\n",
              "    </tr>\n",
              "  </thead>\n",
              "  <tbody>\n",
              "    <tr>\n",
              "      <th>2010</th>\n",
              "      <td>1.015683e+10</td>\n",
              "    </tr>\n",
              "    <tr>\n",
              "      <th>2011</th>\n",
              "      <td>1.006409e+10</td>\n",
              "    </tr>\n",
              "    <tr>\n",
              "      <th>2012</th>\n",
              "      <td>1.087661e+10</td>\n",
              "    </tr>\n",
              "    <tr>\n",
              "      <th>2013</th>\n",
              "      <td>1.079233e+10</td>\n",
              "    </tr>\n",
              "    <tr>\n",
              "      <th>2014</th>\n",
              "      <td>1.033773e+10</td>\n",
              "    </tr>\n",
              "    <tr>\n",
              "      <th>2015</th>\n",
              "      <td>1.105141e+10</td>\n",
              "    </tr>\n",
              "    <tr>\n",
              "      <th>2016</th>\n",
              "      <td>1.125365e+10</td>\n",
              "    </tr>\n",
              "    <tr>\n",
              "      <th>2017</th>\n",
              "      <td>1.093327e+10</td>\n",
              "    </tr>\n",
              "    <tr>\n",
              "      <th>2018</th>\n",
              "      <td>1.109121e+10</td>\n",
              "    </tr>\n",
              "  </tbody>\n",
              "</table>\n",
              "</div>\n",
              "      <button class=\"colab-df-convert\" onclick=\"convertToInteractive('df-9f3e092c-15ab-47e4-8f7b-f42a5d8ef356')\"\n",
              "              title=\"Convert this dataframe to an interactive table.\"\n",
              "              style=\"display:none;\">\n",
              "        \n",
              "  <svg xmlns=\"http://www.w3.org/2000/svg\" height=\"24px\"viewBox=\"0 0 24 24\"\n",
              "       width=\"24px\">\n",
              "    <path d=\"M0 0h24v24H0V0z\" fill=\"none\"/>\n",
              "    <path d=\"M18.56 5.44l.94 2.06.94-2.06 2.06-.94-2.06-.94-.94-2.06-.94 2.06-2.06.94zm-11 1L8.5 8.5l.94-2.06 2.06-.94-2.06-.94L8.5 2.5l-.94 2.06-2.06.94zm10 10l.94 2.06.94-2.06 2.06-.94-2.06-.94-.94-2.06-.94 2.06-2.06.94z\"/><path d=\"M17.41 7.96l-1.37-1.37c-.4-.4-.92-.59-1.43-.59-.52 0-1.04.2-1.43.59L10.3 9.45l-7.72 7.72c-.78.78-.78 2.05 0 2.83L4 21.41c.39.39.9.59 1.41.59.51 0 1.02-.2 1.41-.59l7.78-7.78 2.81-2.81c.8-.78.8-2.07 0-2.86zM5.41 20L4 18.59l7.72-7.72 1.47 1.35L5.41 20z\"/>\n",
              "  </svg>\n",
              "      </button>\n",
              "      \n",
              "  <style>\n",
              "    .colab-df-container {\n",
              "      display:flex;\n",
              "      flex-wrap:wrap;\n",
              "      gap: 12px;\n",
              "    }\n",
              "\n",
              "    .colab-df-convert {\n",
              "      background-color: #E8F0FE;\n",
              "      border: none;\n",
              "      border-radius: 50%;\n",
              "      cursor: pointer;\n",
              "      display: none;\n",
              "      fill: #1967D2;\n",
              "      height: 32px;\n",
              "      padding: 0 0 0 0;\n",
              "      width: 32px;\n",
              "    }\n",
              "\n",
              "    .colab-df-convert:hover {\n",
              "      background-color: #E2EBFA;\n",
              "      box-shadow: 0px 1px 2px rgba(60, 64, 67, 0.3), 0px 1px 3px 1px rgba(60, 64, 67, 0.15);\n",
              "      fill: #174EA6;\n",
              "    }\n",
              "\n",
              "    [theme=dark] .colab-df-convert {\n",
              "      background-color: #3B4455;\n",
              "      fill: #D2E3FC;\n",
              "    }\n",
              "\n",
              "    [theme=dark] .colab-df-convert:hover {\n",
              "      background-color: #434B5C;\n",
              "      box-shadow: 0px 1px 3px 1px rgba(0, 0, 0, 0.15);\n",
              "      filter: drop-shadow(0px 1px 2px rgba(0, 0, 0, 0.3));\n",
              "      fill: #FFFFFF;\n",
              "    }\n",
              "  </style>\n",
              "\n",
              "      <script>\n",
              "        const buttonEl =\n",
              "          document.querySelector('#df-9f3e092c-15ab-47e4-8f7b-f42a5d8ef356 button.colab-df-convert');\n",
              "        buttonEl.style.display =\n",
              "          google.colab.kernel.accessAllowed ? 'block' : 'none';\n",
              "\n",
              "        async function convertToInteractive(key) {\n",
              "          const element = document.querySelector('#df-9f3e092c-15ab-47e4-8f7b-f42a5d8ef356');\n",
              "          const dataTable =\n",
              "            await google.colab.kernel.invokeFunction('convertToInteractive',\n",
              "                                                     [key], {});\n",
              "          if (!dataTable) return;\n",
              "\n",
              "          const docLinkHtml = 'Like what you see? Visit the ' +\n",
              "            '<a target=\"_blank\" href=https://colab.research.google.com/notebooks/data_table.ipynb>data table notebook</a>'\n",
              "            + ' to learn more about interactive tables.';\n",
              "          element.innerHTML = '';\n",
              "          dataTable['output_type'] = 'display_data';\n",
              "          await google.colab.output.renderOutput(dataTable, element);\n",
              "          const docLink = document.createElement('div');\n",
              "          docLink.innerHTML = docLinkHtml;\n",
              "          element.appendChild(docLink);\n",
              "        }\n",
              "      </script>\n",
              "    </div>\n",
              "  </div>\n",
              "  "
            ]
          },
          "metadata": {},
          "execution_count": 22
        }
      ]
    },
    {
      "cell_type": "markdown",
      "source": [
        "**(b) Bar_graph**"
      ],
      "metadata": {
        "id": "N3pCTj8Jvm8j"
      }
    },
    {
      "cell_type": "code",
      "source": [
        "domestic_gross_by_year = data_set_1_bom_df.groupby('year')['domestic_gross'].sum()\n",
        "domestic_gross_by_year.plot(kind='bar', title='Total Domestic Gross by year')"
      ],
      "metadata": {
        "colab": {
          "base_uri": "https://localhost:8080/",
          "height": 511
        },
        "id": "2Rnoc2c-tq3I",
        "outputId": "74fd0ec0-941e-4da8-a42e-f686ca588106"
      },
      "execution_count": 31,
      "outputs": [
        {
          "output_type": "execute_result",
          "data": {
            "text/plain": [
              "<Axes: title={'center': 'Total Domestic Gross by year'}, xlabel='year'>"
            ]
          },
          "metadata": {},
          "execution_count": 31
        },
        {
          "output_type": "display_data",
          "data": {
            "text/plain": [
              "<Figure size 640x480 with 1 Axes>"
            ],
            "image/png": "[encoded data removed]"
          },
          "metadata": {}
        }
      ]
    },
    {
      "cell_type": "markdown",
      "source": [
        "**(c) Pie_chart.**"
      ],
      "metadata": {
        "id": "nQ60QXX1vwjh"
      }
    },
    {
      "cell_type": "code",
      "source": [
        "domestic_gross_by_year = data_set_1_bom_df.groupby('year')['domestic_gross'].sum()\n",
        "domestic_gross_by_year.plot(kind='pie', autopct='%1.1f%%', startangle=90, title='Pie Chart of Domestic Gross by Year')\n",
        "plt.show()"
      ],
      "metadata": {
        "colab": {
          "base_uri": "https://localhost:8080/",
          "height": 428
        },
        "id": "7Mw0Pld2t2I7",
        "outputId": "aa773d28-5451-4a08-92a9-383da502f698"
      },
      "execution_count": 32,
      "outputs": [
        {
          "output_type": "display_data",
          "data": {
            "text/plain": [
              "<Figure size 640x480 with 1 Axes>"
            ],
            "image/png": "[encoded data removed]"
          },
          "metadata": {}
        }
      ]
    },
    {
      "cell_type": "markdown",
      "source": [
        "**(d) Line_graph**"
      ],
      "metadata": {
        "id": "FygYMpMVv7eZ"
      }
    },
    {
      "cell_type": "code",
      "source": [
        "import pandas as pd\n",
        "import matplotlib.pyplot as plt\n",
        "domestic_gross_by_year = data_set_1_bom_df.groupby('year')['domestic_gross'].sum()\n",
        "domestic_gross_by_year.plot(kind='line', title='Domestic Gross by Year')\n",
        "plt.xlabel('Year')\n",
        "plt.ylabel('Domestic Gross')\n",
        "plt.show()\n"
      ],
      "metadata": {
        "colab": {
          "base_uri": "https://localhost:8080/",
          "height": 472
        },
        "id": "53viGxH3ul5h",
        "outputId": "ecf2c38f-fb35-4c4f-e8f9-3d31eefaa27c"
      },
      "execution_count": 35,
      "outputs": [
        {
          "output_type": "display_data",
          "data": {
            "text/plain": [
              "<Figure size 640x480 with 1 Axes>"
            ],
            "image/png": "[encoded data removed]"
          },
          "metadata": {}
        }
      ]
    },
    {
      "cell_type": "markdown",
      "source": [
        "**Observations /intrepretation of results of Working 11 and or Reference 11.**\n",
        "\n",
        "1.Year 2016 recorded the highest revenue based on 'domestic_gross' at 11.7 % while year 2011 recorded the lowest revenue based on 'domestic _gross' at 10.4% of total 'domestic_gross'.As shown by the line graph,there were steady rise and drops across the years which could point out to possibility of unrealized revenues in some years .\n",
        "\n",
        "**Recommendations .**\n",
        "\n",
        "1.Google need to dig dipper on why certain years such as 2016 performed exemplarilry well ,what could have been the factors behind the notable success .This could be as a result of rigourous marketing and or there were more movie realeases for the said year .\n",
        "\n",
        "2.From the above observation there is an evidence of lost value on missing informations for effective and or sound decision making.E.g. The data set missed crucial information on movies rating/preferences /demographical consumptions parameters and thus my advise to google is that as they set a movie studio they need to collect a lot data as mentioned above which will greatly aid in sound decision making .\n",
        "\n",
        "3.Missing data /information on some columns /rows limits our analyses in that we were not able to analyze performance based on 'foreign_gross'column because the rows with missing data were approxiamte 40% of all rows i.e. 1349/3387.Thus google need to enhance comprehensiveness in data collection and or disclosures for sound analysis and decision making."
      ],
      "metadata": {
        "id": "iTMpurKrzTJA"
      }
    },
    {
      "cell_type": "markdown",
      "source": [
        "***Working 12 and or Reference 12 ***\n",
        "\n",
        "# sort the data frame by domestic_gross in descending order and display the top 20 sold movies by title"
      ],
      "metadata": {
        "id": "XxR-hvrb4ZrD"
      }
    },
    {
      "cell_type": "code",
      "source": [
        "top_20_performance_by_domestic_gross = data_set_1_bom_df.sort_values(by='domestic_gross', ascending=False).head(20)\n",
        "print(top_20_performance_by_domestic_gross[['title', 'domestic_gross']])"
      ],
      "metadata": {
        "colab": {
          "base_uri": "https://localhost:8080/",
          "height": 0
        },
        "id": "hM1_1wke6gj3",
        "outputId": "38ebde9f-805b-4a67-f25e-41a21979363d"
      },
      "execution_count": 34,
      "outputs": [
        {
          "output_type": "stream",
          "name": "stdout",
          "text": [
            "                                title  domestic_gross\n",
            "1872     Star Wars: The Force Awakens     936700000.0\n",
            "3080                    Black Panther     700100000.0\n",
            "3079           Avengers: Infinity War     678800000.0\n",
            "1873                   Jurassic World     652300000.0\n",
            "727             Marvel's The Avengers     623400000.0\n",
            "2758         Star Wars: The Last Jedi     620200000.0\n",
            "3082                    Incredibles 2     608600000.0\n",
            "2323     Rogue One: A Star Wars Story     532200000.0\n",
            "2759      Beauty and the Beast (2017)     504000000.0\n",
            "2324                     Finding Dory     486300000.0\n",
            "1875          Avengers: Age of Ultron     459000000.0\n",
            "729             The Dark Knight Rises     448100000.0\n",
            "1131  The Hunger Games: Catching Fire     424700000.0\n",
            "3081   Jurassic World: Fallen Kingdom     417700000.0\n",
            "0                         Toy Story 3     415000000.0\n",
            "2767                     Wonder Woman     412600000.0\n",
            "1128                       Iron Man 3     409000000.0\n",
            "2322       Captain America: Civil War     408100000.0\n",
            "735                  The Hunger Games     408000000.0\n",
            "2762   Jumanji: Welcome to the Jungle     404500000.0\n"
          ]
        }
      ]
    },
    {
      "cell_type": "markdown",
      "source": [
        "**Observations /intrepretation of results of Working 12 and or Reference 12.**\n",
        "\n",
        "1.Movie by the title \"Star Wars:The Force Awakens\",\"Black Panther\",\"Avengers:Infinity War\",\"Jurassic World\",\"Marvel's The Avengers\" registered the highest domestic_gross values .Above ,we have attached a list of 15 other movie title with high domestic_gross values .\n",
        "\n",
        "**Recommendation to google;**\n",
        "\n",
        "1.As google endevours to create a movie studio great emphasises/focus  need to be on above list of twenty movies title coz from above analysis they registered the highest domestic_gross_values .In depth understanding on charateristics /actors /release _dates of the said movie titles ought to be considered while making stocking/listing decisions."
      ],
      "metadata": {
        "id": "P4hFJB7I-jZW"
      }
    },
    {
      "cell_type": "markdown",
      "source": [
        "***Working 13 and or Reference 13*** "
      ],
      "metadata": {
        "id": "ey_xPK_yDDh3"
      }
    },
    {
      "cell_type": "markdown",
      "source": [
        " sort the data frame by domestic_gross in descending order and display the least 20 sold movies by title\n"
      ],
      "metadata": {
        "id": "HcJE_RJzCAgi"
      }
    },
    {
      "cell_type": "code",
      "source": [
        "\n",
        "bottom_20_domestic_gross =data_set_1_bom_df .sort_values(by='domestic_gross', ascending=True).head(20)\n",
        "print(bottom_20_domestic_gross[['title', 'domestic_gross']])"
      ],
      "metadata": {
        "colab": {
          "base_uri": "https://localhost:8080/",
          "height": 0
        },
        "id": "M2r5deiHCHFL",
        "outputId": "5736c4f9-7208-4f80-ffdb-725cfc733795"
      },
      "execution_count": 40,
      "outputs": [
        {
          "output_type": "stream",
          "name": "stdout",
          "text": [
            "                                      title  domestic_gross\n",
            "1476                             Storage 24           100.0\n",
            "2321                        The Chambermaid           300.0\n",
            "2757                                Satanic           300.0\n",
            "2756                  News From Planet Mars           300.0\n",
            "1018                          Apartment 143           400.0\n",
            "3078                                   2:22           400.0\n",
            "3077                             Max & Leon           500.0\n",
            "1126                   Death of a Superhero           600.0\n",
            "2920              Amityville: The Awakening           700.0\n",
            "1475                         Into the White           700.0\n",
            "2755                           Down By Love           700.0\n",
            "2319  It's All So Quiet (Boven is het stil)           700.0\n",
            "2320             Tough Being Loved By Jerks           700.0\n",
            "642                          Illegal (2011)           700.0\n",
            "1738                                Jackpot           800.0\n",
            "292                        Perrier's Bounty           800.0\n",
            "1474                 I Spit on Your Grave 2           800.0\n",
            "2318                      REC 4: Apocalypse           800.0\n",
            "2753       Next Time I'll Aim for the Heart           800.0\n",
            "2754              The Student and Mr. Henri           800.0\n"
          ]
        }
      ]
    },
    {
      "cell_type": "markdown",
      "source": [
        "**Observations /intrepretation of results of Working 13 and or Reference 13.**\n",
        "\n",
        "1.Movie by the title \"Storage 24\",\"The Chambermaid\",\"Satanic\",\"News From Planet Mars\",\"Apartment 143\". registered the least domestic_gross values .Above ,we have attached a list of 15 other movie title with least domestic_gross values .\n",
        "\n",
        "**Recommendation to google;**\n",
        "\n",
        "1.As google endevours to create a movie studio great emphasises/focus  need to be on above list of twenty movies title coz from above analysis they registered the least domestic_gross_values .In depth understanding on charateristics /actors /release _dates of the said movie titles ought to be considered while making stocking/listing decisions.The root cause analysis on why above title registred very low domestic_gross ought to be analysed /documented for corrective actions."
      ],
      "metadata": {
        "id": "Rm5kzbNsC8Jf"
      }
    },
    {
      "cell_type": "markdown",
      "source": [
        "***Working 14 and or Reference 14***\n",
        "\n",
        "**To check counts rank by studio.**"
      ],
      "metadata": {
        "id": "i3DWVI8qGJ25"
      }
    },
    {
      "cell_type": "code",
      "source": [
        "\n",
        "print(data_set_1_bom_df['studio'].value_counts())"
      ],
      "metadata": {
        "colab": {
          "base_uri": "https://localhost:8080/",
          "height": 0
        },
        "id": "PlnZd7GyFF6Q",
        "outputId": "cd784415-1096-4588-8504-ae5fb7a8e079"
      },
      "execution_count": 42,
      "outputs": [
        {
          "output_type": "stream",
          "name": "stdout",
          "text": [
            "IFC           166\n",
            "Uni.          147\n",
            "WB            140\n",
            "Magn.         136\n",
            "Fox           136\n",
            "             ... \n",
            "TVC             1\n",
            "E1              1\n",
            "ELS             1\n",
            "PalT            1\n",
            "Synergetic      1\n",
            "Name: studio, Length: 255, dtype: int64\n"
          ]
        }
      ]
    },
    {
      "cell_type": "markdown",
      "source": [
        "***Observations /intrepretation of results of Working 14 and or Reference 14.***\n",
        "\n",
        "1.Movie by the studio **(IFC@166,Uni@147,WB@140,Magn@136 and Fox@136)** registered the highest value counts .\n",
        "\n",
        "***Recommendation to google;***\n",
        "\n",
        "1.As google endevours to create a movie studio great emphasises/focus need to be on above list of  movies **\"studio's\"** coz from above analysis they registered the highest value counts .In depth understanding on charateristics /actors /release _dates of the said movie studio's  ought to be considered while making stocking/listing decisions so that they success underlying factors are replicated to other studio's."
      ],
      "metadata": {
        "id": "yIAHpXvyGery"
      }
    },
    {
      "cell_type": "code",
      "source": [],
      "metadata": {
        "id": "fQWVM_BXIZ6Z"
      },
      "execution_count": null,
      "outputs": []
    }
  ]
}