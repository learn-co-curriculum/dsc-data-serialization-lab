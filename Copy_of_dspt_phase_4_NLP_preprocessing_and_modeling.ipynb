{
  "nbformat": 4,
  "nbformat_minor": 0,
  "metadata": {
    "colab": {
      "provenance": [],
      "include_colab_link": true
    },
    "kernelspec": {
      "name": "python3",
      "display_name": "Python 3"
    },
    "language_info": {
      "name": "python"
    }
  },
  "cells": [
    {
      "cell_type": "markdown",
      "metadata": {
        "id": "view-in-github",
        "colab_type": "text"
      },
      "source": [
        "<a href=\"https://colab.research.google.com/github/sgathai/dsc-data-serialization-lab/blob/master/Copy_of_dspt_phase_4_NLP_preprocessing_and_modeling.ipynb\" target=\"_parent\"><img src=\"https://colab.research.google.com/assets/colab-badge.svg\" alt=\"Open In Colab\"/></a>"
      ]
    },
    {
      "cell_type": "markdown",
      "source": [
        "# NLP preprocessing and modelling\n",
        "\n",
        "**Overview of the lecture**\n",
        "\n",
        "1. Describe the basic concepts of NLP\n",
        "2. Use pre-processing methods for NLP\n",
        "    - Tokenization\n",
        "    - Stopwords removal\n",
        "3. Modelling methods in NLP"
      ],
      "metadata": {
        "id": "FMKvHAwCulFf"
      }
    },
    {
      "cell_type": "markdown",
      "source": [
        "# Basic concepts of NLP"
      ],
      "metadata": {
        "id": "CXPHFZHW6myb"
      }
    },
    {
      "cell_type": "markdown",
      "metadata": {
        "id": "utOfq7NB0cNG"
      },
      "source": [
        "\n",
        "\n",
        "NLP allows computers to interact with text data in a structured and sensible way. In short, we will be breaking up series of texts into individual words (or groups of words), and isolating the words with **semantic value**.  We will then compare texts with similar distributions of these words, and group them together.\n",
        "\n",
        "In this section, we will discuss some steps and approaches to common text data analytic procedures. Some of the applications of natural language processing are:\n",
        "- Chatbots\n",
        "- Speech recognition and audio processing\n",
        "- Classifying documents\n",
        "\n",
        "Here is an example that uses some of the tools we use in this notebook.  \n",
        "  -[chicago_justice classifier](https://github.com/chicago-justice-project/article-tagging/blob/master/lib/notebooks/bag-of-words-count-stemmed-binary.ipynb)\n",
        "\n",
        "We will introduce you to the preprocessing steps, feature engineering, and other steps you need to take in order to format text data for machine learning tasks.\n",
        "\n",
        "We will also introduce you to [**NLTK**](https://www.nltk.org/) (Natural Language Toolkit), which will be our main tool for engaging with textual data."
      ]
    },
    {
      "cell_type": "markdown",
      "metadata": {
        "id": "YMgVFxHl0cNH"
      },
      "source": [
        "# Preprocessing for NLP"
      ]
    },
    {
      "cell_type": "markdown",
      "metadata": {
        "id": "iJ9_IC5B0cNI"
      },
      "source": [
        "The goal when pre-processing text data for NLP is to remove as many unnecessary words as possible while preserving as much semantic meaning as possible. This will improve your model performance dramatically.\n",
        "\n",
        "You can think of this sort of like dimensionality reduction. The unique words in your corpus form a **vocabulary**, and each word in your vocabulary is essentially another feature in your model. So we want to get rid of unnecessary words and consolidate words that have similar meanings.\n",
        "\n",
        "We will be working with a dataset which includes both satirical** (The Onion) and real news (Reuters) articles. We refer to the entire set of articles as the **corpus**.  "
      ]
    },
    {
      "cell_type": "code",
      "source": [
        "!pwd"
      ],
      "metadata": {
        "colab": {
          "base_uri": "https://localhost:8080/"
        },
        "id": "OTdX5lH2CWZb",
        "outputId": "3ce9d4a2-32ed-4b28-e67c-0dca97ebf594"
      },
      "execution_count": null,
      "outputs": [
        {
          "output_type": "stream",
          "name": "stdout",
          "text": [
            "/content\n"
          ]
        }
      ]
    },
    {
      "cell_type": "code",
      "execution_count": null,
      "metadata": {
        "scrolled": true,
        "id": "8FdBxO2YFrAe"
      },
      "outputs": [],
      "source": [
        "import os\n",
        "import sys\n",
        "\n",
        "import pandas as pd\n",
        "import nltk\n",
        "from nltk.probability import FreqDist\n",
        "from nltk.corpus import stopwords\n",
        "from nltk.tokenize import regexp_tokenize, word_tokenize, RegexpTokenizer\n",
        "import matplotlib.pyplot as plt\n",
        "import string\n",
        "import re"
      ]
    },
    {
      "cell_type": "code",
      "execution_count": null,
      "metadata": {
        "id": "7ZKDiZjxFrAr",
        "colab": {
          "base_uri": "https://localhost:8080/"
        },
        "outputId": "f41ddd20-3d46-4272-cad0-6917f7c5a1d0"
      },
      "outputs": [
        {
          "output_type": "stream",
          "name": "stderr",
          "text": [
            "[nltk_data] Downloading package stopwords to /root/nltk_data...\n",
            "[nltk_data]   Unzipping corpora/stopwords.zip.\n"
          ]
        },
        {
          "output_type": "execute_result",
          "data": {
            "text/plain": [
              "True"
            ]
          },
          "metadata": {},
          "execution_count": 3
        }
      ],
      "source": [
        "# Use this to download the stopwords if you haven't already - only ever needs to be run once\n",
        "\n",
        "nltk.download(\"stopwords\")"
      ]
    },
    {
      "cell_type": "code",
      "execution_count": null,
      "metadata": {
        "id": "4-4yvv770cNJ",
        "colab": {
          "base_uri": "https://localhost:8080/"
        },
        "outputId": "bfdd7c56-27a1-4de1-b860-c5ae96a0dee0"
      },
      "outputs": [
        {
          "output_type": "execute_result",
          "data": {
            "text/plain": [
              "(1000, 2)"
            ]
          },
          "metadata": {},
          "execution_count": 6
        }
      ],
      "source": [
        "corpus = pd.read_csv('satire_nosatire.csv')\n",
        "corpus.shape"
      ]
    },
    {
      "cell_type": "code",
      "execution_count": null,
      "metadata": {
        "id": "whh-sLaY0cNJ",
        "colab": {
          "base_uri": "https://localhost:8080/",
          "height": 206
        },
        "outputId": "19ff333d-e6f3-43fb-a930-809ffeede0d7"
      },
      "outputs": [
        {
          "output_type": "execute_result",
          "data": {
            "text/plain": [
              "                                                  body  target\n",
              "995   Britain’s opposition leader Jeremy Corbyn wou...       0\n",
              "996   Turkey will take over the fight against Islam...       0\n",
              "997   Malaysia is seeking $7.5 billion in reparatio...       0\n",
              "998   An Israeli court sentenced a Palestinian to 1...       0\n",
              "999   At least 22 people have died due to landslide...       0"
            ],
            "text/html": [
              "\n",
              "  <div id=\"df-d0e2c1d1-653c-4cbb-87e6-a0331e74a351\">\n",
              "    <div class=\"colab-df-container\">\n",
              "      <div>\n",
              "<style scoped>\n",
              "    .dataframe tbody tr th:only-of-type {\n",
              "        vertical-align: middle;\n",
              "    }\n",
              "\n",
              "    .dataframe tbody tr th {\n",
              "        vertical-align: top;\n",
              "    }\n",
              "\n",
              "    .dataframe thead th {\n",
              "        text-align: right;\n",
              "    }\n",
              "</style>\n",
              "<table border=\"1\" class=\"dataframe\">\n",
              "  <thead>\n",
              "    <tr style=\"text-align: right;\">\n",
              "      <th></th>\n",
              "      <th>body</th>\n",
              "      <th>target</th>\n",
              "    </tr>\n",
              "  </thead>\n",
              "  <tbody>\n",
              "    <tr>\n",
              "      <th>995</th>\n",
              "      <td>Britain’s opposition leader Jeremy Corbyn wou...</td>\n",
              "      <td>0</td>\n",
              "    </tr>\n",
              "    <tr>\n",
              "      <th>996</th>\n",
              "      <td>Turkey will take over the fight against Islam...</td>\n",
              "      <td>0</td>\n",
              "    </tr>\n",
              "    <tr>\n",
              "      <th>997</th>\n",
              "      <td>Malaysia is seeking $7.5 billion in reparatio...</td>\n",
              "      <td>0</td>\n",
              "    </tr>\n",
              "    <tr>\n",
              "      <th>998</th>\n",
              "      <td>An Israeli court sentenced a Palestinian to 1...</td>\n",
              "      <td>0</td>\n",
              "    </tr>\n",
              "    <tr>\n",
              "      <th>999</th>\n",
              "      <td>At least 22 people have died due to landslide...</td>\n",
              "      <td>0</td>\n",
              "    </tr>\n",
              "  </tbody>\n",
              "</table>\n",
              "</div>\n",
              "      <button class=\"colab-df-convert\" onclick=\"convertToInteractive('df-d0e2c1d1-653c-4cbb-87e6-a0331e74a351')\"\n",
              "              title=\"Convert this dataframe to an interactive table.\"\n",
              "              style=\"display:none;\">\n",
              "        \n",
              "  <svg xmlns=\"http://www.w3.org/2000/svg\" height=\"24px\"viewBox=\"0 0 24 24\"\n",
              "       width=\"24px\">\n",
              "    <path d=\"M0 0h24v24H0V0z\" fill=\"none\"/>\n",
              "    <path d=\"M18.56 5.44l.94 2.06.94-2.06 2.06-.94-2.06-.94-.94-2.06-.94 2.06-2.06.94zm-11 1L8.5 8.5l.94-2.06 2.06-.94-2.06-.94L8.5 2.5l-.94 2.06-2.06.94zm10 10l.94 2.06.94-2.06 2.06-.94-2.06-.94-.94-2.06-.94 2.06-2.06.94z\"/><path d=\"M17.41 7.96l-1.37-1.37c-.4-.4-.92-.59-1.43-.59-.52 0-1.04.2-1.43.59L10.3 9.45l-7.72 7.72c-.78.78-.78 2.05 0 2.83L4 21.41c.39.39.9.59 1.41.59.51 0 1.02-.2 1.41-.59l7.78-7.78 2.81-2.81c.8-.78.8-2.07 0-2.86zM5.41 20L4 18.59l7.72-7.72 1.47 1.35L5.41 20z\"/>\n",
              "  </svg>\n",
              "      </button>\n",
              "      \n",
              "  <style>\n",
              "    .colab-df-container {\n",
              "      display:flex;\n",
              "      flex-wrap:wrap;\n",
              "      gap: 12px;\n",
              "    }\n",
              "\n",
              "    .colab-df-convert {\n",
              "      background-color: #E8F0FE;\n",
              "      border: none;\n",
              "      border-radius: 50%;\n",
              "      cursor: pointer;\n",
              "      display: none;\n",
              "      fill: #1967D2;\n",
              "      height: 32px;\n",
              "      padding: 0 0 0 0;\n",
              "      width: 32px;\n",
              "    }\n",
              "\n",
              "    .colab-df-convert:hover {\n",
              "      background-color: #E2EBFA;\n",
              "      box-shadow: 0px 1px 2px rgba(60, 64, 67, 0.3), 0px 1px 3px 1px rgba(60, 64, 67, 0.15);\n",
              "      fill: #174EA6;\n",
              "    }\n",
              "\n",
              "    [theme=dark] .colab-df-convert {\n",
              "      background-color: #3B4455;\n",
              "      fill: #D2E3FC;\n",
              "    }\n",
              "\n",
              "    [theme=dark] .colab-df-convert:hover {\n",
              "      background-color: #434B5C;\n",
              "      box-shadow: 0px 1px 3px 1px rgba(0, 0, 0, 0.15);\n",
              "      filter: drop-shadow(0px 1px 2px rgba(0, 0, 0, 0.3));\n",
              "      fill: #FFFFFF;\n",
              "    }\n",
              "  </style>\n",
              "\n",
              "      <script>\n",
              "        const buttonEl =\n",
              "          document.querySelector('#df-d0e2c1d1-653c-4cbb-87e6-a0331e74a351 button.colab-df-convert');\n",
              "        buttonEl.style.display =\n",
              "          google.colab.kernel.accessAllowed ? 'block' : 'none';\n",
              "\n",
              "        async function convertToInteractive(key) {\n",
              "          const element = document.querySelector('#df-d0e2c1d1-653c-4cbb-87e6-a0331e74a351');\n",
              "          const dataTable =\n",
              "            await google.colab.kernel.invokeFunction('convertToInteractive',\n",
              "                                                     [key], {});\n",
              "          if (!dataTable) return;\n",
              "\n",
              "          const docLinkHtml = 'Like what you see? Visit the ' +\n",
              "            '<a target=\"_blank\" href=https://colab.research.google.com/notebooks/data_table.ipynb>data table notebook</a>'\n",
              "            + ' to learn more about interactive tables.';\n",
              "          element.innerHTML = '';\n",
              "          dataTable['output_type'] = 'display_data';\n",
              "          await google.colab.output.renderOutput(dataTable, element);\n",
              "          const docLink = document.createElement('div');\n",
              "          docLink.innerHTML = docLinkHtml;\n",
              "          element.appendChild(docLink);\n",
              "        }\n",
              "      </script>\n",
              "    </div>\n",
              "  </div>\n",
              "  "
            ]
          },
          "metadata": {},
          "execution_count": 6
        }
      ],
      "source": [
        "corpus.tail()"
      ]
    },
    {
      "cell_type": "markdown",
      "metadata": {
        "id": "wqfY-X9V0cNK"
      },
      "source": [
        "Our goal is to detect satire, so our target class of 1 is associated with The Onion articles.  "
      ]
    },
    {
      "cell_type": "code",
      "execution_count": null,
      "metadata": {
        "id": "vLnraIy-0cNK",
        "colab": {
          "base_uri": "https://localhost:8080/",
          "height": 209
        },
        "outputId": "58884e6a-ee6d-4a32-f910-f1faf185299d"
      },
      "outputs": [
        {
          "output_type": "execute_result",
          "data": {
            "text/plain": [
              "'In recognition of the brave and altruistic Americans who risk their health and safety for the greater good, Pentagon officials announced Thursday that the U.S. military would honor the sacrifices of NFL players by wearing their jerseys throughout December. “Every week, these men are out there on the gridiron, putting their bodies on the line for our country. Having our soldiers wear these jerseys and caps is the least we can do to show our support,” said Pentagon spokesperson Robert D’Amato, who announced that all active-duty soldiers would be sporting gear from all 32 teams to raise awareness of the people who put their lives aside to preserve the American way of life. “These men leave their homes and their families and travel to cities across the country to uphold our nation’s traditions. They are battered and bruised for years, their lives often cut short while we sit back in our barracks and enjoy our freedom. Some of them are never the same after they end their service, and yet we take them for granted. Hopefully, this small gesture shows that the soldiers and officers of the U.S. military know who the true heroes really are.”'"
            ],
            "application/vnd.google.colaboratory.intrinsic+json": {
              "type": "string"
            }
          },
          "metadata": {},
          "execution_count": 7
        }
      ],
      "source": [
        "corpus.loc[10].body"
      ]
    },
    {
      "cell_type": "code",
      "execution_count": null,
      "metadata": {
        "id": "yII3D20K0cNK",
        "colab": {
          "base_uri": "https://localhost:8080/"
        },
        "outputId": "342c970e-7895-48ac-e9d9-e81e28b14cd6"
      },
      "outputs": [
        {
          "output_type": "execute_result",
          "data": {
            "text/plain": [
              "1"
            ]
          },
          "metadata": {},
          "execution_count": 8
        }
      ],
      "source": [
        "corpus.loc[10].target"
      ]
    },
    {
      "cell_type": "code",
      "execution_count": null,
      "metadata": {
        "id": "qUDfmLhM0cNL",
        "colab": {
          "base_uri": "https://localhost:8080/",
          "height": 209
        },
        "outputId": "588f5593-0e2c-4de8-bc60-ab859c208adf"
      },
      "outputs": [
        {
          "output_type": "execute_result",
          "data": {
            "text/plain": [
              "' Indonesia will launch a renewed search effort as early as Tuesday to find the cockpit voice recorder from a Lion Air jet that crashed into the Java Sea in October, the head of its accident investigation agency said. “If the weather is good, the ship will start to depart today,” National Transporation Safety Commission (KNKT) Chief Soerjanto Tjahjono told Reuters on Tuesday. The crash, the world’s first of a Boeing Co (BA.N) 737 MAX jet and the deadliest of 2018, killed all 189 people on board. Investigators last week said they planned to use a navy ship for a fresh search for the crashed jet’s second “black box” after a 10-day effort funded by Lion Air failed to find the cockpit voice recorder (CVR). A KNKT source, speaking on condition of anonymity, told Reuters the team will have seven days using the ship KRI Spica to find the CVR, which could hold vital clues giving investigators insight into the actions of the doomed jet’s pilots. Tjahjono declined to comment on whether there was a time limit on the search. Contact with flight JT610 was lost 13 minutes after it took off on Oct. 29 from the capital Jakarta heading north to the tin-mining town of Pangkal Pinang. The other black box, the flight data recorder, was recovered three days after the crash. A preliminary report by KNKT focussed on airline maintenance and training and the response of a Boeing anti-stall system to a recently replaced sensor but did not give a cause for the crash.'"
            ],
            "application/vnd.google.colaboratory.intrinsic+json": {
              "type": "string"
            }
          },
          "metadata": {},
          "execution_count": 9
        }
      ],
      "source": [
        "corpus.loc[502].body"
      ]
    },
    {
      "cell_type": "code",
      "execution_count": null,
      "metadata": {
        "id": "Jvmmg0520cNL",
        "colab": {
          "base_uri": "https://localhost:8080/"
        },
        "outputId": "f171efa6-0746-41e8-bfd3-f0bba666a23c"
      },
      "outputs": [
        {
          "output_type": "execute_result",
          "data": {
            "text/plain": [
              "0"
            ]
          },
          "metadata": {},
          "execution_count": 10
        }
      ],
      "source": [
        "corpus.loc[502].target"
      ]
    },
    {
      "cell_type": "markdown",
      "metadata": {
        "id": "HAiUYLlo0cNL"
      },
      "source": [
        "Each article in the corpus is refered to as a **document**."
      ]
    },
    {
      "cell_type": "markdown",
      "metadata": {
        "id": "PnZ0q1pz0cNM"
      },
      "source": [
        "It is a balanced dataset with 500 documents of each category."
      ]
    },
    {
      "cell_type": "code",
      "execution_count": null,
      "metadata": {
        "id": "v0_LOihF0cNM",
        "colab": {
          "base_uri": "https://localhost:8080/"
        },
        "outputId": "40c1e110-24b2-4772-ee4d-a2e088857650"
      },
      "outputs": [
        {
          "output_type": "execute_result",
          "data": {
            "text/plain": [
              "1    500\n",
              "0    500\n",
              "Name: target, dtype: int64"
            ]
          },
          "metadata": {},
          "execution_count": 7
        }
      ],
      "source": [
        "corpus.target.value_counts()"
      ]
    },
    {
      "cell_type": "markdown",
      "metadata": {
        "id": "yEXcBhDz0cNN"
      },
      "source": [
        "## Tokenization\n",
        "\n",
        "In order to convert the texts into data suitable for machine learning, we need to break down the documents into smaller parts.\n",
        "\n",
        "The first step in doing that is **tokenization**.\n",
        "\n",
        "Tokenization is the process of splitting documents into units of observations. We usually represent the tokens as __n-grams__, where n represent the number of consecutive words occuring in a document that we will consider a unit. In the case of unigrams (one-word tokens), the sentence \"David works here\" would be tokenized into:\n",
        "\n",
        "- \"David\", \"works\", \"here\";\n",
        "\n",
        "If we want (also) to consider bigrams, we would (also) consider:\n",
        "\n",
        "- \"David works\" and \"works here\"."
      ]
    },
    {
      "cell_type": "markdown",
      "metadata": {
        "id": "TmtDLNrN0cNO"
      },
      "source": [
        "Let's consider the first document in our corpus:"
      ]
    },
    {
      "cell_type": "code",
      "execution_count": null,
      "metadata": {
        "id": "nrqU39WN0cNO"
      },
      "outputs": [],
      "source": [
        "first_document = corpus.iloc[0].body"
      ]
    },
    {
      "cell_type": "code",
      "execution_count": null,
      "metadata": {
        "id": "uL57dcto0cNO",
        "colab": {
          "base_uri": "https://localhost:8080/",
          "height": 157
        },
        "outputId": "1a1379c1-9b13-4ef3-8d09-beb5ddb433e7"
      },
      "outputs": [
        {
          "output_type": "execute_result",
          "data": {
            "text/plain": [
              "'Noting that the resignation of James Mattis as Secretary of Defense marked the ouster of the third top administration official in less than three weeks, a worried populace told reporters Friday that it was unsure how many former Trump staffers it could safely reabsorb. “Jesus, we can’t just take back these assholes all at once—we need time to process one before we get the next,” said 53-year-old Gregory Birch of Naperville, IL echoing the concerns of 323 million Americans in also noting that the country was only now truly beginning to reintegrate former national security advisor Michael Flynn. “This is just not sustainable. I’d say we can handle maybe one or two more former members of Trump’s inner circle over the remainder of the year, but that’s it. This country has its limits.” The U.S. populace confirmed that they could not handle all of these pieces of shit trying to rejoin society at once.'"
            ],
            "application/vnd.google.colaboratory.intrinsic+json": {
              "type": "string"
            }
          },
          "metadata": {},
          "execution_count": 9
        }
      ],
      "source": [
        "first_document"
      ]
    },
    {
      "cell_type": "markdown",
      "metadata": {
        "id": "QqDcr-5T0cNO"
      },
      "source": [
        "There are many ways to tokenize our document.\n",
        "\n",
        "It is a long string, so the first way we might consider is to split it by spaces."
      ]
    },
    {
      "cell_type": "markdown",
      "metadata": {
        "id": "V4GYSAOl0cNO"
      },
      "source": [
        "But this is not ideal. We are trying to create a set of tokens with **high semantic value**.  In other words, we want to isolate text which best represents the meaning in each document."
      ]
    },
    {
      "cell_type": "markdown",
      "metadata": {
        "id": "8BW7mPzv0cNP"
      },
      "source": [
        "# Text Cleaning\n",
        "\n",
        "Most NL Pre-Processing will include the following tasks:\n",
        "\n",
        "  1. Remove capitalization  \n",
        "  2. Remove punctuation  \n",
        "  3. Remove stopwords  \n",
        "  4. Remove numbers"
      ]
    },
    {
      "cell_type": "markdown",
      "metadata": {
        "id": "BiNDzvNF0cNP"
      },
      "source": [
        "We could manually perform all of these tasks with string operations."
      ]
    },
    {
      "cell_type": "markdown",
      "metadata": {
        "id": "G-zzowEB0cNP"
      },
      "source": [
        "## Capitalization\n",
        "\n",
        "When we create our matrix of words associated with our corpus, **capital letters** will mess things up.  The semantic value of a word used at the beginning of a sentence is the same as that same word in the middle of the sentence.  In the two sentences:\n",
        "\n",
        "sentence_one =  \"Excessive gerrymandering in small counties suppresses turnout.\"   \n",
        "sentence_two =  \"Turnout is suppressed in small counties by excessive gerrymandering.\"  \n",
        "\n",
        "'excessive' has the same semantic value, but will be treated as different tokens because of capitals."
      ]
    },
    {
      "cell_type": "code",
      "execution_count": null,
      "metadata": {
        "id": "JNnuu0aF0cNP",
        "colab": {
          "base_uri": "https://localhost:8080/"
        },
        "outputId": "78123511-db17-4548-9134-69b1fd1a20d8"
      },
      "outputs": [
        {
          "output_type": "stream",
          "name": "stdout",
          "text": [
            "excessive Excessive\n"
          ]
        },
        {
          "output_type": "execute_result",
          "data": {
            "text/plain": [
              "False"
            ]
          },
          "metadata": {},
          "execution_count": 10
        }
      ],
      "source": [
        "sentence_one =  \"Excessive gerrymandering in small counties suppresses turnout.\"\n",
        "sentence_two =  \"Turnout is suppressed in small counties by excessive gerrymandering.\"\n",
        "\n",
        "Excessive = sentence_one.split(' ')[0]\n",
        "excessive = sentence_two.split(' ')[-2]\n",
        "print(excessive, Excessive)\n",
        "excessive == Excessive"
      ]
    },
    {
      "cell_type": "code",
      "source": [
        "'Everlyn is hap'.lower()"
      ],
      "metadata": {
        "colab": {
          "base_uri": "https://localhost:8080/",
          "height": 36
        },
        "id": "eJzl9ejwIeyL",
        "outputId": "0e083356-484b-44ef-8542-78cdfc0a8556"
      },
      "execution_count": null,
      "outputs": [
        {
          "output_type": "execute_result",
          "data": {
            "text/plain": [
              "'everlyn is hap'"
            ],
            "application/vnd.google.colaboratory.intrinsic+json": {
              "type": "string"
            }
          },
          "metadata": {},
          "execution_count": 21
        }
      ]
    },
    {
      "cell_type": "code",
      "execution_count": null,
      "metadata": {
        "id": "gg93DFy20cNR"
      },
      "outputs": [],
      "source": [
        "manual_cleanup = [word.lower() for word in first_document.split(' ')]"
      ]
    },
    {
      "cell_type": "code",
      "source": [
        "print(manual_cleanup)"
      ],
      "metadata": {
        "colab": {
          "base_uri": "https://localhost:8080/"
        },
        "id": "e-cwX5H4JDv-",
        "outputId": "f25723a1-ee97-4fec-ae82-b776d740e1b1"
      },
      "execution_count": null,
      "outputs": [
        {
          "output_type": "stream",
          "name": "stdout",
          "text": [
            "['noting', 'that', 'the', 'resignation', 'of', 'james', 'mattis', 'as', 'secretary', 'of', 'defense', 'marked', 'the', 'ouster', 'of', 'the', 'third', 'top', 'administration', 'official', 'in', 'less', 'than', 'three', 'weeks', 'a', 'worried', 'populace', 'told', 'reporters', 'friday', 'that', 'it', 'was', 'unsure', 'how', 'many', 'former', 'trump', 'staffers', 'it', 'could', 'safely', 'reabsorb', '“jesus', 'we', 'can’t', 'just', 'take', 'back', 'these', 'assholes', 'all', 'at', 'once—we', 'need', 'time', 'to', 'process', 'one', 'before', 'we', 'get', 'the', 'next”', 'said', '53yearold', 'gregory', 'birch', 'of', 'naperville', 'il', 'echoing', 'the', 'concerns', 'of', '323', 'million', 'americans', 'in', 'also', 'noting', 'that', 'the', 'country', 'was', 'only', 'now', 'truly', 'beginning', 'to', 'reintegrate', 'former', 'national', 'security', 'advisor', 'michael', 'flynn', '“this', 'is', 'just', 'not', 'sustainable', 'i’d', 'say', 'we', 'can', 'handle', 'maybe', 'one', 'or', 'two', 'more', 'former', 'members', 'of', 'trump’s', 'inner', 'circle', 'over', 'the', 'remainder', 'of', 'the', 'year', 'but', 'that’s', 'it', 'this', 'country', 'has', 'its', 'limits”', 'the', 'us', 'populace', 'confirmed', 'that', 'they', 'could', 'not', 'handle', 'all', 'of', 'these', 'pieces', 'of', 'shit', 'trying', 'to', 'rejoin', 'society', 'at', 'once']\n"
          ]
        }
      ]
    },
    {
      "cell_type": "code",
      "execution_count": null,
      "metadata": {
        "id": "F-H2ukmI0cNR",
        "colab": {
          "base_uri": "https://localhost:8080/"
        },
        "outputId": "3083d1ce-8e93-4801-b376-1f2feb641af9"
      },
      "outputs": [
        {
          "output_type": "stream",
          "name": "stdout",
          "text": [
            "Our initial token set for our first document is 154 words long\n"
          ]
        }
      ],
      "source": [
        "print(f\"Our initial token set for our first document is {len(manual_cleanup)} words long\")"
      ]
    },
    {
      "cell_type": "code",
      "execution_count": null,
      "metadata": {
        "id": "87wCc2Qq0cNR",
        "colab": {
          "base_uri": "https://localhost:8080/"
        },
        "outputId": "483beb69-a974-4cd3-f4d3-eaf8fe570975"
      },
      "outputs": [
        {
          "output_type": "stream",
          "name": "stdout",
          "text": [
            "Our initial token set for our first document has 117 unique words\n"
          ]
        }
      ],
      "source": [
        "print(f\"Our initial token set for our first document has \\\n",
        "{len(set(first_document.split()))} unique words\")"
      ]
    },
    {
      "cell_type": "code",
      "execution_count": null,
      "metadata": {
        "id": "UnBFQmts0cNR",
        "colab": {
          "base_uri": "https://localhost:8080/"
        },
        "outputId": "8f00172f-e020-4b58-c749-9eadcf4b3917"
      },
      "outputs": [
        {
          "output_type": "stream",
          "name": "stdout",
          "text": [
            "After removing capitals, our first document has 115 unique words\n"
          ]
        }
      ],
      "source": [
        "print(f\"After removing capitals, our first document has \\\n",
        "{len(set(manual_cleanup))} unique words\")"
      ]
    },
    {
      "cell_type": "markdown",
      "metadata": {
        "id": "hagzhouE0cNR"
      },
      "source": [
        "## Punctuation\n",
        "\n",
        "Like capitals, splitting on white space will create tokens which include punctuation that will muck up our semantics.  \n",
        "\n",
        "Returning to the above example, 'gerrymandering' and 'gerrymandering.' will be treated as different tokens."
      ]
    },
    {
      "cell_type": "code",
      "execution_count": null,
      "metadata": {
        "id": "y6kbDRK80cNR",
        "colab": {
          "base_uri": "https://localhost:8080/"
        },
        "outputId": "eb859edf-cc6f-4fd8-ba89-47fdd2328060"
      },
      "outputs": [
        {
          "output_type": "stream",
          "name": "stdout",
          "text": [
            "gerrymandering gerrymandering.\n"
          ]
        },
        {
          "output_type": "execute_result",
          "data": {
            "text/plain": [
              "False"
            ]
          },
          "metadata": {},
          "execution_count": 15
        }
      ],
      "source": [
        "no_punct = sentence_one.split(' ')[1]\n",
        "punct = sentence_two.split(' ')[-1]\n",
        "print(no_punct, punct)\n",
        "no_punct == punct"
      ]
    },
    {
      "cell_type": "code",
      "execution_count": null,
      "metadata": {
        "id": "LUgWFHC60cNS",
        "colab": {
          "base_uri": "https://localhost:8080/",
          "height": 36
        },
        "outputId": "90fa6c2e-7173-4ec1-855a-2c803d9b94a3"
      },
      "outputs": [
        {
          "output_type": "execute_result",
          "data": {
            "text/plain": [
              "'!\"#$%&\\'()*+,-./:;<=>?@[\\\\]^_`{|}~'"
            ],
            "application/vnd.google.colaboratory.intrinsic+json": {
              "type": "string"
            }
          },
          "metadata": {},
          "execution_count": 16
        }
      ],
      "source": [
        "## Manual removal of punctuation\n",
        "\n",
        "string.punctuation"
      ]
    },
    {
      "cell_type": "code",
      "execution_count": null,
      "metadata": {
        "id": "sG6dvu1a0cNS"
      },
      "outputs": [],
      "source": [
        "manual_cleanup = [s.translate(str.maketrans('', '', string.punctuation))\\\n",
        "                  for s in manual_cleanup]"
      ]
    },
    {
      "cell_type": "code",
      "source": [
        "’' ’’ ''"
      ],
      "metadata": {
        "id": "VArh1ugEJuO6"
      },
      "execution_count": null,
      "outputs": []
    },
    {
      "cell_type": "code",
      "source": [
        "print(manual_cleanup)"
      ],
      "metadata": {
        "colab": {
          "base_uri": "https://localhost:8080/"
        },
        "id": "kO9iOub2JXvF",
        "outputId": "72a00986-d520-476e-ddb5-f3e3fb26e0d4"
      },
      "execution_count": null,
      "outputs": [
        {
          "output_type": "stream",
          "name": "stdout",
          "text": [
            "['noting', 'that', 'the', 'resignation', 'of', 'james', 'mattis', 'as', 'secretary', 'of', 'defense', 'marked', 'the', 'ouster', 'of', 'the', 'third', 'top', 'administration', 'official', 'in', 'less', 'than', 'three', 'weeks', 'a', 'worried', 'populace', 'told', 'reporters', 'friday', 'that', 'it', 'was', 'unsure', 'how', 'many', 'former', 'trump', 'staffers', 'it', 'could', 'safely', 'reabsorb', '“jesus', 'we', 'can’t', 'just', 'take', 'back', 'these', 'assholes', 'all', 'at', 'once—we', 'need', 'time', 'to', 'process', 'one', 'before', 'we', 'get', 'the', 'next”', 'said', '53yearold', 'gregory', 'birch', 'of', 'naperville', 'il', 'echoing', 'the', 'concerns', 'of', '323', 'million', 'americans', 'in', 'also', 'noting', 'that', 'the', 'country', 'was', 'only', 'now', 'truly', 'beginning', 'to', 'reintegrate', 'former', 'national', 'security', 'advisor', 'michael', 'flynn', '“this', 'is', 'just', 'not', 'sustainable', 'i’d', 'say', 'we', 'can', 'handle', 'maybe', 'one', 'or', 'two', 'more', 'former', 'members', 'of', 'trump’s', 'inner', 'circle', 'over', 'the', 'remainder', 'of', 'the', 'year', 'but', 'that’s', 'it', 'this', 'country', 'has', 'its', 'limits”', 'the', 'us', 'populace', 'confirmed', 'that', 'they', 'could', 'not', 'handle', 'all', 'of', 'these', 'pieces', 'of', 'shit', 'trying', 'to', 'rejoin', 'society', 'at', 'once']\n"
          ]
        }
      ]
    },
    {
      "cell_type": "code",
      "source": [
        "s = 'I am happy'"
      ],
      "metadata": {
        "id": "FID5ePDqaf9A"
      },
      "execution_count": null,
      "outputs": []
    },
    {
      "cell_type": "code",
      "source": [
        "?s.translate"
      ],
      "metadata": {
        "id": "KVUGBsKHaG1E"
      },
      "execution_count": null,
      "outputs": []
    },
    {
      "cell_type": "code",
      "execution_count": null,
      "metadata": {
        "id": "g8is3DRS0cNS",
        "colab": {
          "base_uri": "https://localhost:8080/"
        },
        "outputId": "5eb355f2-19fb-4a61-ba9e-6beef65c68bf"
      },
      "outputs": [
        {
          "output_type": "stream",
          "name": "stdout",
          "text": [
            "After removing punctuation, our first document has 114 unique words\n"
          ]
        }
      ],
      "source": [
        "print(f\"After removing punctuation, our first document has \\\n",
        "{len(set(manual_cleanup))} unique words\")"
      ]
    },
    {
      "cell_type": "code",
      "execution_count": null,
      "metadata": {
        "id": "X2hrggn-0cNT",
        "colab": {
          "base_uri": "https://localhost:8080/"
        },
        "outputId": "7fb8f464-3324-45b0-fb72-36d5e3fadbdb"
      },
      "outputs": [
        {
          "output_type": "execute_result",
          "data": {
            "text/plain": [
              "['noting',\n",
              " 'that',\n",
              " 'the',\n",
              " 'resignation',\n",
              " 'of',\n",
              " 'james',\n",
              " 'mattis',\n",
              " 'as',\n",
              " 'secretary',\n",
              " 'of']"
            ]
          },
          "metadata": {},
          "execution_count": 31
        }
      ],
      "source": [
        "manual_cleanup[:10]"
      ]
    },
    {
      "cell_type": "markdown",
      "metadata": {
        "id": "QHmo7DAb0cNU"
      },
      "source": [
        "## Stopwords"
      ]
    },
    {
      "cell_type": "markdown",
      "metadata": {
        "id": "kPiAb9tQ0cNU"
      },
      "source": [
        "Stopwords are the **filler** words in a language: prepositions, articles, conjunctions. They have low semantic value, and often need to be removed.  \n",
        "\n",
        "Luckily, NLTK has lists of stopwords ready for our use."
      ]
    },
    {
      "cell_type": "code",
      "execution_count": null,
      "metadata": {
        "id": "4zfa1jYK0cNU",
        "colab": {
          "base_uri": "https://localhost:8080/"
        },
        "outputId": "215114a9-86de-414c-91a9-ea727785ce6f"
      },
      "outputs": [
        {
          "output_type": "execute_result",
          "data": {
            "text/plain": [
              "['i', 'me', 'my', 'myself', 'we', 'our', 'ours', 'ourselves', 'you', \"you're\"]"
            ]
          },
          "metadata": {},
          "execution_count": 32
        }
      ],
      "source": [
        "stopwords.words('english')[:10]"
      ]
    },
    {
      "cell_type": "code",
      "execution_count": null,
      "metadata": {
        "id": "ithcsrLe0cNU",
        "colab": {
          "base_uri": "https://localhost:8080/"
        },
        "outputId": "59c26411-2acf-4ee5-c0ed-125282c28941"
      },
      "outputs": [
        {
          "output_type": "execute_result",
          "data": {
            "text/plain": [
              "['αλλα',\n",
              " 'αν',\n",
              " 'αντι',\n",
              " 'απο',\n",
              " 'αυτα',\n",
              " 'αυτεσ',\n",
              " 'αυτη',\n",
              " 'αυτο',\n",
              " 'αυτοι',\n",
              " 'αυτοσ']"
            ]
          },
          "metadata": {},
          "execution_count": 30
        }
      ],
      "source": [
        "stopwords.words('greek')[:10]"
      ]
    },
    {
      "cell_type": "markdown",
      "metadata": {
        "id": "dBDXAQhu0cNV"
      },
      "source": [
        "Let's see which stopwords are present in our first document."
      ]
    },
    {
      "cell_type": "code",
      "execution_count": null,
      "metadata": {
        "id": "tqYjM93R0cNV",
        "colab": {
          "base_uri": "https://localhost:8080/"
        },
        "outputId": "dce69391-f3af-41c1-b149-319443243df5"
      },
      "outputs": [
        {
          "output_type": "execute_result",
          "data": {
            "text/plain": [
              "['that', 'the', 'of', 'as', 'of', 'the', 'of', 'the', 'in', 'than']"
            ]
          },
          "metadata": {},
          "execution_count": 33
        }
      ],
      "source": [
        "stops = [token for token in manual_cleanup if token in stopwords.words('english')]\n",
        "stops[:10]"
      ]
    },
    {
      "cell_type": "code",
      "execution_count": null,
      "metadata": {
        "id": "hwTbdp-J0cNV",
        "colab": {
          "base_uri": "https://localhost:8080/"
        },
        "outputId": "6dfebfc0-28df-49a1-a022-2b05d49fae82"
      },
      "outputs": [
        {
          "output_type": "stream",
          "name": "stdout",
          "text": [
            "There are 63 stopwords in the first document\n"
          ]
        }
      ],
      "source": [
        "print(f'There are {len(stops)} stopwords in the first document')"
      ]
    },
    {
      "cell_type": "code",
      "execution_count": null,
      "metadata": {
        "id": "45aQgLCA0cNW",
        "colab": {
          "base_uri": "https://localhost:8080/"
        },
        "outputId": "d4a7c09c-ec74-47d4-e6d9-f79c541aab4b"
      },
      "outputs": [
        {
          "output_type": "stream",
          "name": "stdout",
          "text": [
            "That is  40.91% of our text\n"
          ]
        }
      ],
      "source": [
        "print(f'That is {len(stops)/len(manual_cleanup): 0.2%} of our text')"
      ]
    },
    {
      "cell_type": "markdown",
      "metadata": {
        "id": "Avq7R8AR0cNX"
      },
      "source": [
        "Let's also use the **FreqDist** tool to look at the makeup of our text before and after removal:"
      ]
    },
    {
      "cell_type": "code",
      "execution_count": null,
      "metadata": {
        "id": "wUGxDQIs0cNX",
        "colab": {
          "base_uri": "https://localhost:8080/",
          "height": 914
        },
        "outputId": "5e6331cc-ae21-4b46-f46c-ea1a2129c5d1"
      },
      "outputs": [
        {
          "output_type": "display_data",
          "data": {
            "text/plain": [
              "<Figure size 1000x1000 with 1 Axes>"
            ],
            "image/png": "[encoded data removed]"
          },
          "metadata": {}
        }
      ],
      "source": [
        "fdist = FreqDist(manual_cleanup)\n",
        "plt.figure(figsize=(10, 10))\n",
        "fdist.plot(30);"
      ]
    },
    {
      "cell_type": "code",
      "execution_count": null,
      "metadata": {
        "id": "FzKz5Ex70cNX"
      },
      "outputs": [],
      "source": [
        "manual_cleanup = [token for token in manual_cleanup if\\\n",
        "                  token not in stopwords.words('english')]"
      ]
    },
    {
      "cell_type": "code",
      "source": [
        "type(string.punctuation)"
      ],
      "metadata": {
        "colab": {
          "base_uri": "https://localhost:8080/"
        },
        "id": "0-1iG4pDlTK_",
        "outputId": "4011e93b-2f72-44cf-926a-565e4002dfab"
      },
      "execution_count": null,
      "outputs": [
        {
          "output_type": "execute_result",
          "data": {
            "text/plain": [
              "str"
            ]
          },
          "metadata": {},
          "execution_count": 56
        }
      ]
    },
    {
      "cell_type": "code",
      "execution_count": null,
      "metadata": {
        "id": "BgTwZxXB0cNY",
        "colab": {
          "base_uri": "https://localhost:8080/"
        },
        "outputId": "7fca74d2-0824-44b2-f5c4-67646650ef3a"
      },
      "outputs": [
        {
          "output_type": "execute_result",
          "data": {
            "text/plain": [
              "['noting',\n",
              " 'resignation',\n",
              " 'james',\n",
              " 'mattis',\n",
              " 'secretary',\n",
              " 'defense',\n",
              " 'marked',\n",
              " 'ouster',\n",
              " 'third',\n",
              " 'top']"
            ]
          },
          "metadata": {},
          "execution_count": 36
        }
      ],
      "source": [
        "manual_cleanup[:10]"
      ]
    },
    {
      "cell_type": "code",
      "execution_count": null,
      "metadata": {
        "id": "pz0jur460cNY",
        "colab": {
          "base_uri": "https://localhost:8080/"
        },
        "outputId": "04c1d07b-e8c5-4f8d-c869-a89fda64951d"
      },
      "outputs": [
        {
          "output_type": "execute_result",
          "data": {
            "text/plain": [
              "['wasn',\n",
              " \"wasn't\",\n",
              " 'weren',\n",
              " \"weren't\",\n",
              " 'won',\n",
              " \"won't\",\n",
              " 'wouldn',\n",
              " \"wouldn't\",\n",
              " \"i'd\",\n",
              " 'say']"
            ]
          },
          "metadata": {},
          "execution_count": 37
        }
      ],
      "source": [
        "# We can also customize our stopwords list\n",
        "\n",
        "custom_sw = stopwords.words('english')\n",
        "custom_sw.extend([\"i'd\",\"say\"] )\n",
        "custom_sw[-10:]"
      ]
    },
    {
      "cell_type": "code",
      "execution_count": null,
      "metadata": {
        "id": "5RkwVLYI0cNZ"
      },
      "outputs": [],
      "source": [
        "manual_cleanup = [token for token in manual_cleanup if token not in custom_sw]"
      ]
    },
    {
      "cell_type": "code",
      "execution_count": null,
      "metadata": {
        "id": "i8YWOz220cNZ",
        "colab": {
          "base_uri": "https://localhost:8080/"
        },
        "outputId": "bb5cce16-672c-46e5-9da8-c42c7be9165a"
      },
      "outputs": [
        {
          "output_type": "stream",
          "name": "stdout",
          "text": [
            "After removing stopwords, there are 82 unique words left\n"
          ]
        }
      ],
      "source": [
        "print(f'After removing stopwords, there are {len(set(manual_cleanup))} unique words left')"
      ]
    },
    {
      "cell_type": "code",
      "execution_count": null,
      "metadata": {
        "id": "gFx4ZDhB0cNZ",
        "colab": {
          "base_uri": "https://localhost:8080/",
          "height": 899
        },
        "outputId": "cb26b7cd-22bd-4e22-fb89-d76983d88f3a"
      },
      "outputs": [
        {
          "output_type": "display_data",
          "data": {
            "text/plain": [
              "<Figure size 1000x1000 with 1 Axes>"
            ],
            "image/png": "[encoded data removed]"
          },
          "metadata": {}
        }
      ],
      "source": [
        "fdist = FreqDist(manual_cleanup)\n",
        "plt.figure(figsize=(10, 10))\n",
        "fdist.plot(30);"
      ]
    },
    {
      "cell_type": "markdown",
      "metadata": {
        "id": "rnlOAk7P0cNZ"
      },
      "source": [
        "#### Numerals\n",
        "\n",
        "Numerals also usually have low semantic value. Their removal can help improve our models.\n",
        "\n",
        "To remove them, we will use regular expressions, a powerful tool which you may already have some familiarity with."
      ]
    },
    {
      "cell_type": "code",
      "execution_count": null,
      "metadata": {
        "id": "PGPkibn20cNZ"
      },
      "outputs": [],
      "source": [
        "manual_cleanup = [s.translate(str.maketrans('', '', '0123456789')) \\\n",
        "                  for s in manual_cleanup]"
      ]
    },
    {
      "cell_type": "code",
      "execution_count": null,
      "metadata": {
        "scrolled": true,
        "id": "O0GliIXw0cNZ"
      },
      "outputs": [],
      "source": [
        "# drop empty strings\n",
        "\n",
        "manual_cleanup = [s for s in manual_cleanup if s != '' ]"
      ]
    },
    {
      "cell_type": "code",
      "execution_count": null,
      "metadata": {
        "id": "qRFYSaVa0cNZ",
        "colab": {
          "base_uri": "https://localhost:8080/"
        },
        "outputId": "01bcaa81-5c13-4a42-b71a-63bc67ab2cee"
      },
      "outputs": [
        {
          "output_type": "stream",
          "name": "stdout",
          "text": [
            "After removing numbers, there are 81 unique words left\n"
          ]
        }
      ],
      "source": [
        "print(f'After removing numbers, there are {len(set(manual_cleanup))} unique words left')"
      ]
    },
    {
      "cell_type": "code",
      "source": [
        "Document - words - vectors"
      ],
      "metadata": {
        "id": "K8e9aD2DcxvP"
      },
      "execution_count": null,
      "outputs": []
    },
    {
      "cell_type": "code",
      "source": [
        "noting - not\n",
        "resignation - signat\n",
        "\n",
        "Stemming"
      ],
      "metadata": {
        "id": "APeFLHvOLPen"
      },
      "execution_count": null,
      "outputs": []
    },
    {
      "cell_type": "code",
      "source": [
        "Lemmatization\n",
        "noting - note\n",
        "resignation - resign"
      ],
      "metadata": {
        "id": "hSfzWer6Le3P"
      },
      "execution_count": null,
      "outputs": []
    },
    {
      "cell_type": "code",
      "source": [
        "manual_cleanup"
      ],
      "metadata": {
        "colab": {
          "base_uri": "https://localhost:8080/"
        },
        "id": "S8XdrVemLEfi",
        "outputId": "dda220f5-9dae-4ae4-940c-8cba6261cc98"
      },
      "execution_count": null,
      "outputs": [
        {
          "output_type": "execute_result",
          "data": {
            "text/plain": [
              "['noting',\n",
              " 'that',\n",
              " 'the',\n",
              " 'resignation',\n",
              " 'of',\n",
              " 'james',\n",
              " 'mattis',\n",
              " 'as',\n",
              " 'secretary',\n",
              " 'of',\n",
              " 'defense',\n",
              " 'marked',\n",
              " 'the',\n",
              " 'ouster',\n",
              " 'of',\n",
              " 'the',\n",
              " 'third',\n",
              " 'top',\n",
              " 'administration',\n",
              " 'official',\n",
              " 'in',\n",
              " 'less',\n",
              " 'than',\n",
              " 'three',\n",
              " 'weeks',\n",
              " 'a',\n",
              " 'worried',\n",
              " 'populace',\n",
              " 'told',\n",
              " 'reporters',\n",
              " 'friday',\n",
              " 'that',\n",
              " 'it',\n",
              " 'was',\n",
              " 'unsure',\n",
              " 'how',\n",
              " 'many',\n",
              " 'former',\n",
              " 'trump',\n",
              " 'staffers',\n",
              " 'it',\n",
              " 'could',\n",
              " 'safely',\n",
              " 'reabsorb',\n",
              " '“jesus',\n",
              " 'we',\n",
              " 'can’t',\n",
              " 'just',\n",
              " 'take',\n",
              " 'back',\n",
              " 'these',\n",
              " 'assholes',\n",
              " 'all',\n",
              " 'at',\n",
              " 'once—we',\n",
              " 'need',\n",
              " 'time',\n",
              " 'to',\n",
              " 'process',\n",
              " 'one',\n",
              " 'before',\n",
              " 'we',\n",
              " 'get',\n",
              " 'the',\n",
              " 'next”',\n",
              " 'said',\n",
              " 'yearold',\n",
              " 'gregory',\n",
              " 'birch',\n",
              " 'of',\n",
              " 'naperville',\n",
              " 'il',\n",
              " 'echoing',\n",
              " 'the',\n",
              " 'concerns',\n",
              " 'of',\n",
              " 'million',\n",
              " 'americans',\n",
              " 'in',\n",
              " 'also',\n",
              " 'noting',\n",
              " 'that',\n",
              " 'the',\n",
              " 'country',\n",
              " 'was',\n",
              " 'only',\n",
              " 'now',\n",
              " 'truly',\n",
              " 'beginning',\n",
              " 'to',\n",
              " 'reintegrate',\n",
              " 'former',\n",
              " 'national',\n",
              " 'security',\n",
              " 'advisor',\n",
              " 'michael',\n",
              " 'flynn',\n",
              " '“this',\n",
              " 'is',\n",
              " 'just',\n",
              " 'not',\n",
              " 'sustainable',\n",
              " 'i’d',\n",
              " 'say',\n",
              " 'we',\n",
              " 'can',\n",
              " 'handle',\n",
              " 'maybe',\n",
              " 'one',\n",
              " 'or',\n",
              " 'two',\n",
              " 'more',\n",
              " 'former',\n",
              " 'members',\n",
              " 'of',\n",
              " 'trump’s',\n",
              " 'inner',\n",
              " 'circle',\n",
              " 'over',\n",
              " 'the',\n",
              " 'remainder',\n",
              " 'of',\n",
              " 'the',\n",
              " 'year',\n",
              " 'but',\n",
              " 'that’s',\n",
              " 'it',\n",
              " 'this',\n",
              " 'country',\n",
              " 'has',\n",
              " 'its',\n",
              " 'limits”',\n",
              " 'the',\n",
              " 'us',\n",
              " 'populace',\n",
              " 'confirmed',\n",
              " 'that',\n",
              " 'they',\n",
              " 'could',\n",
              " 'not',\n",
              " 'handle',\n",
              " 'all',\n",
              " 'of',\n",
              " 'these',\n",
              " 'pieces',\n",
              " 'of',\n",
              " 'shit',\n",
              " 'trying',\n",
              " 'to',\n",
              " 'rejoin',\n",
              " 'society',\n",
              " 'at',\n",
              " 'once']"
            ]
          },
          "metadata": {},
          "execution_count": 39
        }
      ]
    },
    {
      "cell_type": "markdown",
      "metadata": {
        "id": "h0ENOIJP0cNZ"
      },
      "source": [
        "# Regex\n",
        "\n",
        "Regex allows us to match strings based on a pattern.  This pattern comes from a language of identifiers, which we can begin exploring on the cheatsheet found here:\n",
        "  -   https://regexr.com/"
      ]
    },
    {
      "cell_type": "markdown",
      "metadata": {
        "id": "FbZDYN350cNb"
      },
      "source": [
        "A few key symbols:\n",
        "  - . : matches any character\n",
        "  - \\d, \\w, \\s : represent digit, word, whitespace  \n",
        "  - *, ?, +: matches 0 or more, 0 or 1, 1 or more of the preceding character  \n",
        "  - [A-Z]: matches any capital letter  \n",
        "  - [a-z]: matches lowercase letter  "
      ]
    },
    {
      "cell_type": "markdown",
      "metadata": {
        "id": "Q5OC9swj0cNb"
      },
      "source": [
        "Other helpful resources:\n",
        "  - https://regexcrossword.com/\n",
        "  - https://www.regular-expressions.info/tutorial.html"
      ]
    },
    {
      "cell_type": "markdown",
      "metadata": {
        "id": "IFD9HHbZ0cNb"
      },
      "source": [
        "We can use regex to isolate numerals:"
      ]
    },
    {
      "cell_type": "code",
      "execution_count": null,
      "metadata": {
        "id": "MyU_ZNZ60cNb",
        "colab": {
          "base_uri": "https://localhost:8080/",
          "height": 191
        },
        "outputId": "2fa5efff-8da8-4b58-b174-a44ace62117f"
      },
      "outputs": [
        {
          "output_type": "execute_result",
          "data": {
            "text/plain": [
              "'Noting that the resignation of James Mattis as Secretary of Defense marked the ouster of the third top administration official in less than three weeks, a worried populace told reporters Friday that it was unsure how many former Trump staffers it could safely reabsorb. “Jesus, we can’t just take back these assholes all at once—we need time to process one before we get the next,” said 53-year-old Gregory Birch of Naperville, IL echoing the concerns of 323 million Americans in also noting that the country was only now truly beginning to reintegrate former national security advisor Michael Flynn. “This is just not sustainable. I’d say we can handle maybe one or two more former members of Trump’s inner circle over the remainder of the year, but that’s it. This country has its limits.” The U.S. populace confirmed that they could not handle all of these pieces of shit trying to rejoin society at once.'"
            ],
            "application/vnd.google.colaboratory.intrinsic+json": {
              "type": "string"
            }
          },
          "metadata": {},
          "execution_count": 44
        }
      ],
      "source": [
        "first_document"
      ]
    },
    {
      "cell_type": "code",
      "execution_count": null,
      "metadata": {
        "id": "7wrWUb_R0cNb",
        "colab": {
          "base_uri": "https://localhost:8080/"
        },
        "outputId": "46def90f-0d94-422e-8b9f-a31c622f638a"
      },
      "outputs": [
        {
          "output_type": "execute_result",
          "data": {
            "text/plain": [
              "['5', '3', '3', '2', '3']"
            ]
          },
          "metadata": {},
          "execution_count": 45
        }
      ],
      "source": [
        "pattern = '[0-9]'\n",
        "number = re.findall(pattern, first_document)\n",
        "number"
      ]
    },
    {
      "cell_type": "code",
      "execution_count": null,
      "metadata": {
        "id": "fAm2wL3s0cNc",
        "colab": {
          "base_uri": "https://localhost:8080/"
        },
        "outputId": "9bef9489-cc56-44a7-d38d-67f0a394555d"
      },
      "outputs": [
        {
          "output_type": "execute_result",
          "data": {
            "text/plain": [
              "['53', '323']"
            ]
          },
          "metadata": {},
          "execution_count": 46
        }
      ],
      "source": [
        "pattern2 = '[0-9]+'\n",
        "number2 = re.findall(pattern2, first_document)\n",
        "number2"
      ]
    },
    {
      "cell_type": "markdown",
      "metadata": {
        "id": "Wq6eDyTZ0cNc"
      },
      "source": [
        "## `RegexpTokenizer()`\n",
        "\n",
        "Sklearn and NLTK provide us with a suite of **tokenizers** for our text preprocessing convenience."
      ]
    },
    {
      "cell_type": "code",
      "execution_count": null,
      "metadata": {
        "id": "wiPCF-BO0cNc",
        "colab": {
          "base_uri": "https://localhost:8080/"
        },
        "outputId": "327f440b-fd56-459a-8a76-ff5ddb5b503a"
      },
      "outputs": [
        {
          "output_type": "execute_result",
          "data": {
            "text/plain": [
              "[\"I'd\"]"
            ]
          },
          "metadata": {},
          "execution_count": 47
        }
      ],
      "source": [
        "# Remember that the '?' indicates 0 or 1 of what follows!\n",
        "\n",
        "re.findall(r\"([a-zA-Z]+(?:'[a-z]+)?)\", \"I'd\")"
      ]
    },
    {
      "cell_type": "code",
      "execution_count": null,
      "metadata": {
        "id": "iAJGPF3g0cNd"
      },
      "outputs": [],
      "source": [
        "pattern = \"([a-zA-Z]+(?:'[a-z]+)?)\"\n",
        "tokenizer = RegexpTokenizer(pattern)\n",
        "first_doc = tokenizer.tokenize(first_document)\n"
      ]
    },
    {
      "cell_type": "code",
      "source": [
        "first_doc"
      ],
      "metadata": {
        "id": "tmixKNJSdm1X"
      },
      "execution_count": null,
      "outputs": []
    },
    {
      "cell_type": "code",
      "execution_count": null,
      "metadata": {
        "id": "Cbq4AueA0cNd"
      },
      "outputs": [],
      "source": [
        "first_doc = [token.lower() for token in first_doc]\n",
        "first_doc = [token for token in first_doc if token not in custom_sw]"
      ]
    },
    {
      "cell_type": "code",
      "execution_count": null,
      "metadata": {
        "id": "nEU9J_o10cNd",
        "colab": {
          "base_uri": "https://localhost:8080/",
          "height": 191
        },
        "outputId": "17e1bb85-9891-47bc-c581-c6c64f1ce5dd"
      },
      "outputs": [
        {
          "output_type": "execute_result",
          "data": {
            "text/plain": [
              "'Noting that the resignation of James Mattis as Secretary of Defense marked the ouster of the third top administration official in less than three weeks, a worried populace told reporters Friday that it was unsure how many former Trump staffers it could safely reabsorb. “Jesus, we can’t just take back these assholes all at once—we need time to process one before we get the next,” said 53-year-old Gregory Birch of Naperville, IL echoing the concerns of 323 million Americans in also noting that the country was only now truly beginning to reintegrate former national security advisor Michael Flynn. “This is just not sustainable. I’d say we can handle maybe one or two more former members of Trump’s inner circle over the remainder of the year, but that’s it. This country has its limits.” The U.S. populace confirmed that they could not handle all of these pieces of shit trying to rejoin society at once.'"
            ],
            "application/vnd.google.colaboratory.intrinsic+json": {
              "type": "string"
            }
          },
          "metadata": {},
          "execution_count": 51
        }
      ],
      "source": [
        "first_document"
      ]
    },
    {
      "cell_type": "code",
      "execution_count": null,
      "metadata": {
        "id": "uQxXooRp0cNd",
        "colab": {
          "base_uri": "https://localhost:8080/"
        },
        "outputId": "b7bce4c1-855c-4b52-c6a5-40a85676b9a5"
      },
      "outputs": [
        {
          "output_type": "execute_result",
          "data": {
            "text/plain": [
              "['noting',\n",
              " 'resignation',\n",
              " 'james',\n",
              " 'mattis',\n",
              " 'secretary',\n",
              " 'defense',\n",
              " 'marked',\n",
              " 'ouster',\n",
              " 'third',\n",
              " 'top']"
            ]
          },
          "metadata": {},
          "execution_count": 57
        }
      ],
      "source": [
        "first_doc[:10]"
      ]
    },
    {
      "cell_type": "code",
      "execution_count": null,
      "metadata": {
        "id": "3dWk2Zoe0cNd",
        "colab": {
          "base_uri": "https://localhost:8080/"
        },
        "outputId": "e9fc2798-370f-42d6-b109-357083dbfb1b"
      },
      "outputs": [
        {
          "output_type": "stream",
          "name": "stdout",
          "text": [
            "We are down to 75 unique words\n"
          ]
        }
      ],
      "source": [
        "print(f'We are down to {len(set(first_doc))} unique words')"
      ]
    },
    {
      "cell_type": "code",
      "source": [
        "corpus.iloc[1].body"
      ],
      "metadata": {
        "colab": {
          "base_uri": "https://localhost:8080/",
          "height": 209
        },
        "id": "caVlEzBDeW7l",
        "outputId": "ecbb2807-c59f-4db0-d5ff-3f62a0330eac"
      },
      "execution_count": null,
      "outputs": [
        {
          "output_type": "execute_result",
          "data": {
            "text/plain": [
              "'Desperate to unwind after months of nonstop work investigating Russian influence in the 2016 election, visibly exhausted Special Counsel Robert Mueller powered his phone down Friday in order to give himself a break from any news concerning the probe over the holiday break. “The last thing I want when I’m spending time with my family is a cascade of push notifications telling me yet another Russian oligarch, political operative, or highly placed socialite used Deutsche Bank channels to funnel money to the campaign,” said the former FBI director, firmly holding down his phone’s power button and adding that he wants to be “completely present in the moment” while celebrating with his loved ones, not ruminating about who met with which diplomat or whether someone was using social media to tamper with his witnesses. “I just want to have two calm weeks where I don’t even think about Individual One. I won’t even say his name. I’ll have to wait to hear about any important developments in January, since I just know the second I read, say, something about Eric being involved more deeply than we previously suspected, I’ll get pulled back in and ruin my whole vacation.” At press time, Mueller had reactivated his phone just to check the news real quick. '"
            ],
            "application/vnd.google.colaboratory.intrinsic+json": {
              "type": "string"
            }
          },
          "metadata": {},
          "execution_count": 55
        }
      ]
    },
    {
      "cell_type": "markdown",
      "source": [
        "![image.png](data:image/png;base64,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)"
      ],
      "metadata": {
        "id": "boonJ6gniPnt"
      }
    },
    {
      "cell_type": "code",
      "source": [
        "first_doc"
      ],
      "metadata": {
        "colab": {
          "base_uri": "https://localhost:8080/"
        },
        "id": "tWX5s8oIiQUb",
        "outputId": "76b44663-b04a-4d56-dfa0-bd02a6d1e8e5"
      },
      "execution_count": null,
      "outputs": [
        {
          "output_type": "execute_result",
          "data": {
            "text/plain": [
              "['noting',\n",
              " 'resignation',\n",
              " 'james',\n",
              " 'mattis',\n",
              " 'secretary',\n",
              " 'defense',\n",
              " 'marked',\n",
              " 'ouster',\n",
              " 'third',\n",
              " 'top',\n",
              " 'administration',\n",
              " 'official',\n",
              " 'less',\n",
              " 'three',\n",
              " 'weeks',\n",
              " 'worried',\n",
              " 'populace',\n",
              " 'told',\n",
              " 'reporters',\n",
              " 'friday',\n",
              " 'unsure',\n",
              " 'many',\n",
              " 'former',\n",
              " 'trump',\n",
              " 'staffers',\n",
              " 'could',\n",
              " 'safely',\n",
              " 'reabsorb',\n",
              " 'jesus',\n",
              " 'take',\n",
              " 'back',\n",
              " 'assholes',\n",
              " 'need',\n",
              " 'time',\n",
              " 'process',\n",
              " 'one',\n",
              " 'get',\n",
              " 'next',\n",
              " 'said',\n",
              " 'year',\n",
              " 'old',\n",
              " 'gregory',\n",
              " 'birch',\n",
              " 'naperville',\n",
              " 'il',\n",
              " 'echoing',\n",
              " 'concerns',\n",
              " 'million',\n",
              " 'americans',\n",
              " 'also',\n",
              " 'noting',\n",
              " 'country',\n",
              " 'truly',\n",
              " 'beginning',\n",
              " 'reintegrate',\n",
              " 'former',\n",
              " 'national',\n",
              " 'security',\n",
              " 'advisor',\n",
              " 'michael',\n",
              " 'flynn',\n",
              " 'sustainable',\n",
              " 'handle',\n",
              " 'maybe',\n",
              " 'one',\n",
              " 'two',\n",
              " 'former',\n",
              " 'members',\n",
              " 'trump',\n",
              " 'inner',\n",
              " 'circle',\n",
              " 'remainder',\n",
              " 'year',\n",
              " 'country',\n",
              " 'limits',\n",
              " 'u',\n",
              " 'populace',\n",
              " 'confirmed',\n",
              " 'could',\n",
              " 'handle',\n",
              " 'pieces',\n",
              " 'shit',\n",
              " 'trying',\n",
              " 'rejoin',\n",
              " 'society']"
            ]
          },
          "metadata": {},
          "execution_count": 58
        }
      ]
    },
    {
      "cell_type": "code",
      "source": [
        "Bag of words-\n",
        "\n",
        "doc1 - 'My name is Eva'\n",
        "doc2 - 'I am a student of Moringa'\n",
        "\n",
        "b_o_w - [My name is Eva I am a student of Moringa]\n",
        "\n",
        "doc_1 - [1 1 1 1 0 0 0 0 0 0] 0\n",
        "doc_2 - [0 0 0 0 1 1 1 1 1 1] 1"
      ],
      "metadata": {
        "id": "KFefABmRmbX3"
      },
      "execution_count": null,
      "outputs": []
    },
    {
      "cell_type": "code",
      "source": [
        "tf  - occurence\n",
        "idf - how rare\n",
        "\n",
        "doc1 - 'My name is Eva'\n",
        "doc2 - 'I am a student of Moringa'\n",
        "my 1*log(1/2)\n",
        "doc_1 - [0.65 ]"
      ],
      "metadata": {
        "id": "3WYr6Y6NngnL"
      },
      "execution_count": null,
      "outputs": []
    }
  ]
}