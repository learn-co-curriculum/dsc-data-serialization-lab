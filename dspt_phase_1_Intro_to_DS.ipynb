{
  "nbformat": 4,
  "nbformat_minor": 0,
  "metadata": {
    "colab": {
      "provenance": [],
      "include_colab_link": true
    },
    "kernelspec": {
      "name": "python3",
      "display_name": "Python 3"
    },
    "language_info": {
      "name": "python"
    }
  },
  "cells": [
    {
      "cell_type": "markdown",
      "metadata": {
        "id": "view-in-github",
        "colab_type": "text"
      },
      "source": [
        "<a href=\"https://colab.research.google.com/github/sgathai/dsc-data-serialization-lab/blob/master/dspt_phase_1_Intro_to_DS.ipynb\" target=\"_parent\"><img src=\"https://colab.research.google.com/assets/colab-badge.svg\" alt=\"Open In Colab\"/></a>"
      ]
    },
    {
      "cell_type": "markdown",
      "source": [
        "## Intro to Data Science\n",
        "\n",
        "**Overview**\n",
        "\n",
        "1. Brain warm-up\n",
        "2. DS Lifecycle\n",
        "    - Challenge for you\n",
        "3. Git/Github"
      ],
      "metadata": {
        "id": "o6bUqacTfP-C"
      }
    },
    {
      "cell_type": "markdown",
      "source": [
        "### Brain warm-up\n",
        "\n",
        "Pirates:  \n",
        "● Ten pirates have found 100 pieces of gold.  \n",
        "● The ten men can be placed in strict order, with no ties, from fiercest to least fierce.  \n",
        "● The fiercest pirate proposes a way to divide the 100 pieces. Everyone votes including the proposer. Simple majority vote is used. If 50% or above favour the proposal, it is carried.  \n",
        "● If the proposer’s proposal is rejected, he is thrown overboard, and the next fiercest pirate makes a proposal.  \n",
        "● Rules:  \n",
        "– Pirates do not wish to be thrown overboard.  \n",
        "– Pirates are happy to throw someone else overboard but more than this, they want cash.  \n",
        "– All pirates are rational and know that the others are rational.  \n",
        "– Gold coins cannot be subdivided.  \n",
        "– No side agreements to share pieces are allowed, since no pirate trusts another to stick to such an agreement.  \n",
        "● Number the pirates from fiercest pirate number P10, down to the least fierce at number P1.  \n",
        "● What strategy should the fiercest pirate use to get the most gold?"
      ],
      "metadata": {
        "id": "N_Zl5EVL5kQg"
      }
    },
    {
      "cell_type": "markdown",
      "source": [
        "What is data science?\n",
        "\n",
        "field that deals with extracting information"
      ],
      "metadata": {
        "id": "Kl2xafuZhcuK"
      }
    },
    {
      "cell_type": "markdown",
      "source": [
        "### DS Lifecycle"
      ],
      "metadata": {
        "id": "6dhqZsKS8aoG"
      }
    },
    {
      "cell_type": "markdown",
      "source": [
        "![link text](https://raw.githubusercontent.com/learn-co-curriculum/dsc-the-data-science-process/master/images/image_process.png)\n",
        "\n",
        "\n",
        "\n"
      ],
      "metadata": {
        "id": "5yCcAf4Y8eP2"
      }
    },
    {
      "cell_type": "markdown",
      "source": [
        "Team Data Science Process (TDSP)\n",
        "\n",
        "Extra reading: [TDSP](https://learn.microsoft.com/en-us/azure/architecture/data-science-process/overview)\n",
        "\n",
        "![link text](https://7wdata.be/wp-content/uploads/2017/09/tdsp-lifecyclepng.png)"
      ],
      "metadata": {
        "id": "PFYoHrnV9cbf"
      }
    },
    {
      "cell_type": "markdown",
      "source": [
        "SEMMA\n",
        "\n",
        "Extra reading: [SEMMA](https://www.datascience-pm.com/semma/)\n",
        "\n",
        "![link text](https://sis.binus.ac.id/wp-content/uploads/2021/09/gmbr-4.png)"
      ],
      "metadata": {
        "id": "UwQyGt-3-JmN"
      }
    },
    {
      "cell_type": "markdown",
      "source": [
        "CRISP-DM  \n",
        "\n",
        "Extra reading: [CRISP-DM](https://asikochimoto.medium.com/crisp-dm-bedrock-of-every-data-science-project-ff33dd75bdcf#2cfe-6fe787971739)\n",
        "\n",
        "![link text](https://miro.medium.com/max/720/1*jFqLHdgQtxca2FO1mwZfcw.png)"
      ],
      "metadata": {
        "id": "XQyFbSAz-d7D"
      }
    },
    {
      "cell_type": "markdown",
      "source": [
        "### Git/Github\n",
        "\n",
        "1. What is Git?\n",
        "2. What is Github?\n",
        "\n",
        "What are the important commands?\n",
        "\n",
        "cd - change directory\n",
        "\n",
        "mkdir - make directory"
      ],
      "metadata": {
        "id": "RGFQYThH_ehB"
      }
    }
  ]
}