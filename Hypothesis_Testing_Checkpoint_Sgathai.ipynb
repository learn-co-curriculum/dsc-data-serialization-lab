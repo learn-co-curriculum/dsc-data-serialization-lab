{
  "cells": [
    {
      "cell_type": "markdown",
      "metadata": {
        "id": "view-in-github",
        "colab_type": "text"
      },
      "source": [
        "<a href=\"https://colab.research.google.com/github/sgathai/dsc-data-serialization-lab/blob/master/Hypothesis_Testing_Checkpoint_Sgathai.ipynb\" target=\"_parent\"><img src=\"https://colab.research.google.com/assets/colab-badge.svg\" alt=\"Open In Colab\"/></a>"
      ]
    },
    {
      "cell_type": "markdown",
      "metadata": {
        "deletable": false,
        "editable": false,
        "nbgrader": {
          "cell_type": "markdown",
          "checksum": "eb5ec269e7f748e19b6e6143eaf40997",
          "grade": false,
          "grade_id": "cell-0af49d3dcc651159",
          "locked": true,
          "schema_version": 3,
          "solution": false,
          "task": false
        },
        "id": "tIi_B4MI6IhD"
      },
      "source": [
        "# Hypothesis Testing Checkpoint\n",
        "\n",
        "This checkpoint is designed to test your understanding of the content from the Hypothesis Testing Cumulative Lab.\n",
        "\n",
        "Specifically, this will cover:\n",
        "\n",
        "* Identifying the null and alternative hypotheses\n",
        "* Identifying Type I and Type II errors in this context\n",
        "* Calculating a z-score test statistic\n",
        "* Determining whether we can reject the null hypothesis based on this test statistic"
      ]
    },
    {
      "cell_type": "markdown",
      "metadata": {
        "deletable": false,
        "editable": false,
        "nbgrader": {
          "cell_type": "markdown",
          "checksum": "a8cf7a4efc226c8950506f1f709e9ab5",
          "grade": false,
          "grade_id": "cell-513f3c4b239dc054",
          "locked": true,
          "schema_version": 3,
          "solution": false,
          "task": false
        },
        "id": "j_C06GDc6IhL"
      },
      "source": [
        "## Your Task: Identifying Likely New Species\n",
        "\n",
        "### Business Understanding\n",
        "\n",
        "You are working for a natural resources ecology laboratory, with the goal of identifying new species of salamander. If a salamander sample seems to have different attributes than a similar, known species, then the laboratory can perform genetic testing to confirm the difference. This genetic testing is expensive, so they only want to use it when we have a statistically significant reason to believe that the sample is from a new species.\n",
        "\n",
        "Before conducting genetic testing, they want evidence that the sample is drawn from a different population than the known species — some unknown species. They are willing to conduct unnecessary genetic testing (where it turns out that the sample is actually from the known species) 20% of the time.\n",
        "\n",
        "In other words, we will be using an 80% significance level, i.e. $\\alpha = 0.2$.\n",
        "\n",
        "We have a new sample, and we want to know whether the sample is drawn from a population that is _smaller_ in length than the known species.\n",
        "\n",
        "### Data Understanding\n",
        "\n",
        "You are provided with:\n",
        "\n",
        "* The mean length of the known species is 90mm. This is also known as $\\mu_0$, the theoretical mean.\n",
        "* The standard deviation of the known species length is 30mm. This is also known as $\\sigma$ (sigma).\n",
        "* The mean length of the salamander sample is 87mm.\n",
        "* The sample contains 60 salamanders.\n",
        "\n",
        "### Requirements\n",
        "\n",
        "#### 1. Identify Null and Alternative Hypotheses\n",
        "\n",
        "#### 2. Identify Type I and Type II Errors\n",
        "\n",
        "#### 3. Calculate the z-score Test Statistic\n",
        "\n",
        "#### 4. Determine Whether We Can Reject the Null Hypothesis"
      ]
    },
    {
      "cell_type": "markdown",
      "metadata": {
        "deletable": false,
        "editable": false,
        "nbgrader": {
          "cell_type": "markdown",
          "checksum": "69c5c8de3f224868cd2d640791d7165d",
          "grade": false,
          "grade_id": "cell-6e34d079ae80ecef",
          "locked": true,
          "schema_version": 3,
          "solution": false,
          "task": false
        },
        "id": "S0iZ4OVj6IhM"
      },
      "source": [
        "## 1. Identify Null and Alternative Hypotheses\n",
        "\n",
        "Below we provide six possible hypotheses, labeled \"A\", \"B\", \"C\", \"D\", \"E\", and \"F\".\n",
        "\n",
        "In this notation, $\\mu$ is the mean length of the population that the sample was drawn from (possibly an unknown species), and $\\mu_0$ is the known species mean length.\n",
        "\n",
        "By default we are assuming that the sample's mean length is the same or greater than the known species mean length. ***We are seeking evidence that the sample's mean length is actually less than that of the known species***. In other words, we are completing a **one-tailed** experiment.\n",
        "\n",
        "**A**: $\\mu \\neq \\mu_0$\n",
        "\n",
        "**B**: $\\mu = \\mu_0$\n",
        "\n",
        "**C**: $\\mu \\leq \\mu_0$\n",
        "\n",
        "**D**: $\\mu \\geq \\mu_0$\n",
        "\n",
        "**E**: $\\mu \\lt \\mu_0$\n",
        "\n",
        "**F**: $\\mu \\gt \\mu_0$\n",
        "\n",
        "In the cell below, assign `null_hypothesis` and `alternative_hypothesis` to the appropriate string values."
      ]
    },
    {
      "cell_type": "code",
      "execution_count": null,
      "metadata": {
        "deletable": false,
        "nbgrader": {
          "cell_type": "code",
          "checksum": "1850c6557309e7b83506537d7be1973d",
          "grade": false,
          "grade_id": "cell-7275d0a30a92fda9",
          "locked": false,
          "schema_version": 3,
          "solution": true,
          "task": false
        },
        "id": "WtK-fzp86IhN"
      },
      "outputs": [],
      "source": [
        "# Replace None with appropriate code\n",
        "null_hypothesis = None\n",
        "alternative_hypothesis = None\n",
        "\n",
        "# YOUR CODE HERE\n",
        "raise NotImplementedError()"
      ]
    },
    {
      "cell_type": "code",
      "execution_count": null,
      "metadata": {
        "deletable": false,
        "editable": false,
        "nbgrader": {
          "cell_type": "code",
          "checksum": "da048f590c4438dd7db3df7fdea26f74",
          "grade": true,
          "grade_id": "cell-c623ba3fe5cc7afb",
          "locked": true,
          "points": 0.5,
          "schema_version": 3,
          "solution": false,
          "task": false
        },
        "id": "zFQoFKPx6IhP"
      },
      "outputs": [],
      "source": [
        "# Both values should be strings from \"A\" to \"F\"\n",
        "q1_options = [\"A\", \"B\", \"C\", \"D\", \"E\", \"F\"]\n",
        "\n",
        "assert null_hypothesis in q1_options\n",
        "\n",
        "# PUT ALL WORK FOR THE ABOVE QUESTION ABOVE THIS CELL\n",
        "# THIS UNALTERABLE CELL CONTAINS HIDDEN TESTS"
      ]
    },
    {
      "cell_type": "code",
      "execution_count": null,
      "metadata": {
        "deletable": false,
        "editable": false,
        "nbgrader": {
          "cell_type": "code",
          "checksum": "b6428300cadd870da7be350a092a9134",
          "grade": true,
          "grade_id": "cell-cd0f11392991c6f3",
          "locked": true,
          "points": 0.5,
          "schema_version": 3,
          "solution": false,
          "task": false
        },
        "id": "RYpvjWl_6IhQ"
      },
      "outputs": [],
      "source": [
        "assert alternative_hypothesis in q1_options\n",
        "\n",
        "# PUT ALL WORK FOR THE ABOVE QUESTION ABOVE THIS CELL\n",
        "# THIS UNALTERABLE CELL CONTAINS HIDDEN TESTS"
      ]
    },
    {
      "cell_type": "markdown",
      "metadata": {
        "deletable": false,
        "editable": false,
        "nbgrader": {
          "cell_type": "markdown",
          "checksum": "5f54c91fdcb9228bd50bdbf0e7c2082c",
          "grade": false,
          "grade_id": "cell-d51ca2ee76b62384",
          "locked": true,
          "schema_version": 3,
          "solution": false,
          "task": false
        },
        "id": "6nVkgKfA6IhR"
      },
      "source": [
        "## Identify Type I and Type II Errors\n",
        "\n",
        "Below we provide four possible scenarios, labeled \"A\", \"B\", \"C\", and \"D\". In two scenarios, an error has occurred, either Type I or Type II. In the other two scenarios, no error occurred.\n",
        "\n",
        "**A**: We conclude with our statistical test that the sample salamanders **are smaller** than the known species salamanders, and genetic testing reveals that the sample salamanders **actually are from a different species** and are therefore smaller.\n",
        "\n",
        "**B**: We conclude with our statistical test that the sample salamanders **are smaller** than the known species salamanders, but genetic testing reveals that the sample salamanders **actually are not from a different species** and are not actually smaller.\n",
        "\n",
        "**C**: We conclude with our statistical test that **we don't have enough evidence to say that the sample salamanders are smaller** than the known species salamanders, but if they had run genetic testing it would have demonstrated that **they are a different species**.\n",
        "\n",
        "**D**: We conclude with our statistical test that **we don't have enough evidence to say that the sample salamanders are smaller** than the known species salamanders, and in fact if they had run genetic testing it would have demonstrated that **they are not a different species**.\n",
        "\n",
        "In the cell below, assign `type_1_error` and `type_2_error` to the appropriate string values."
      ]
    },
    {
      "cell_type": "code",
      "execution_count": null,
      "metadata": {
        "deletable": false,
        "nbgrader": {
          "cell_type": "code",
          "checksum": "a6ffdccb23d34929d590ae9f92419284",
          "grade": false,
          "grade_id": "cell-033f6a5e81763f24",
          "locked": false,
          "schema_version": 3,
          "solution": true,
          "task": false
        },
        "id": "uG9Blmys6IhR"
      },
      "outputs": [],
      "source": [
        "# Replace None with appropriate code\n",
        "type_1_error = None\n",
        "type_2_error = None\n",
        "\n",
        "# YOUR CODE HERE\n",
        "raise NotImplementedError()"
      ]
    },
    {
      "cell_type": "code",
      "execution_count": null,
      "metadata": {
        "deletable": false,
        "editable": false,
        "nbgrader": {
          "cell_type": "code",
          "checksum": "80d62908bfb2a5944f1b10a8e570d446",
          "grade": true,
          "grade_id": "cell-b22ef28155c25981",
          "locked": true,
          "points": 0.5,
          "schema_version": 3,
          "solution": false,
          "task": false
        },
        "id": "oERhCH2M6IhS"
      },
      "outputs": [],
      "source": [
        "# Both values should be strings from \"A\" to \"D\"\n",
        "q2_options = [\"A\", \"B\", \"C\", \"D\"]\n",
        "\n",
        "assert type_1_error in q2_options\n",
        "\n",
        "# PUT ALL WORK FOR THE ABOVE QUESTION ABOVE THIS CELL\n",
        "# THIS UNALTERABLE CELL CONTAINS HIDDEN TESTS"
      ]
    },
    {
      "cell_type": "code",
      "execution_count": null,
      "metadata": {
        "deletable": false,
        "editable": false,
        "nbgrader": {
          "cell_type": "code",
          "checksum": "4a34d992f10207693fb1037208d92028",
          "grade": true,
          "grade_id": "cell-323e3334f3e558d2",
          "locked": true,
          "points": 0.5,
          "schema_version": 3,
          "solution": false,
          "task": false
        },
        "id": "FLUbuwua6IhT"
      },
      "outputs": [],
      "source": [
        "assert type_2_error in q2_options\n",
        "\n",
        "# PUT ALL WORK FOR THE ABOVE QUESTION ABOVE THIS CELL\n",
        "# THIS UNALTERABLE CELL CONTAINS HIDDEN TESTS"
      ]
    },
    {
      "cell_type": "markdown",
      "metadata": {
        "deletable": false,
        "editable": false,
        "nbgrader": {
          "cell_type": "markdown",
          "checksum": "5519396efff6553fad7c7b48a2dc29eb",
          "grade": false,
          "grade_id": "cell-39d6e3c6a089dd9c",
          "locked": true,
          "schema_version": 3,
          "solution": false,
          "task": false
        },
        "id": "Q0xVlQjp6IhU"
      },
      "source": [
        "## 3. Calculate a z-score Test Statistic\n",
        "\n",
        "In this case, we have access to the population standard deviation, so we will use this formula for the z-score:\n",
        "\n",
        "$$ z = \\frac{\\bar{x} - \\mu}{\\sigma / \\sqrt{n}} $$\n",
        "\n",
        "Where $\\bar{x}$ is the mean length of the salamander sample, $\\mu$ is the mean length of the known species (population), $\\sigma$ is the standard deviation of the known species, and $n$ is the number in the sample.\n",
        "\n",
        "Calculate $z$ below."
      ]
    },
    {
      "cell_type": "code",
      "execution_count": null,
      "metadata": {
        "deletable": false,
        "editable": false,
        "nbgrader": {
          "cell_type": "code",
          "checksum": "a238bfe5875d12d5058418d458ffe1b8",
          "grade": false,
          "grade_id": "cell-0b68494f0de39cee",
          "locked": true,
          "schema_version": 3,
          "solution": false,
          "task": false
        },
        "id": "smjYxgI56IhU"
      },
      "outputs": [],
      "source": [
        "# Run this cell without changes\n",
        "\n",
        "import scipy.stats as stats\n",
        "from math import sqrt\n",
        "import numpy as np\n",
        "from numbers import Number\n",
        "\n",
        "# Population mean\n",
        "mu_0 = 90\n",
        "\n",
        "# Population standard deviation\n",
        "sigma = 30\n",
        "\n",
        "# Mean length of salamander sample\n",
        "x_bar = 87\n",
        "\n",
        "# Number of salamanders in the sample\n",
        "n = 60\n",
        "\n",
        "# Alpha (1 - confidence level)\n",
        "alpha = 0.2"
      ]
    },
    {
      "cell_type": "code",
      "execution_count": null,
      "metadata": {
        "deletable": false,
        "nbgrader": {
          "cell_type": "code",
          "checksum": "de5b7e1d86e32df45721f1e55efabe9b",
          "grade": false,
          "grade_id": "cell-97cfec6312dd71df",
          "locked": false,
          "schema_version": 3,
          "solution": true,
          "task": false
        },
        "id": "cXupomqW6IhU"
      },
      "outputs": [],
      "source": [
        "# Replace None with appropriate code\n",
        "z = None\n",
        "# YOUR CODE HERE\n",
        "raise NotImplementedError()\n",
        "z"
      ]
    },
    {
      "cell_type": "code",
      "execution_count": null,
      "metadata": {
        "deletable": false,
        "editable": false,
        "nbgrader": {
          "cell_type": "code",
          "checksum": "e17b046f60a7658a1d22a58cbcd44ac1",
          "grade": true,
          "grade_id": "cell-e8e3e31ec96f93fd",
          "locked": true,
          "points": 1,
          "schema_version": 3,
          "solution": false,
          "task": false
        },
        "id": "6H4WG68L6IhV"
      },
      "outputs": [],
      "source": [
        "# z should be a negative floating point value\n",
        "# (negative since the sample mean is smaller than the known species mean)\n",
        "assert isinstance(z, Number)\n",
        "assert z < 0\n",
        "\n",
        "# PUT ALL WORK FOR THE ABOVE QUESTION ABOVE THIS CELL\n",
        "# THIS UNALTERABLE CELL CONTAINS HIDDEN TESTS"
      ]
    },
    {
      "cell_type": "markdown",
      "metadata": {
        "deletable": false,
        "editable": false,
        "nbgrader": {
          "cell_type": "markdown",
          "checksum": "f98377f113b7214d27547c1f7b6c4155",
          "grade": false,
          "grade_id": "cell-1696075c70236073",
          "locked": true,
          "schema_version": 3,
          "solution": false,
          "task": false
        },
        "id": "t7ozsj8F6IhV"
      },
      "source": [
        "## 4. Determine Whether We Can Reject the Null Hypothesis\n",
        "\n",
        "Remember that our confidence level is 0.8 ($\\alpha = 0.2$). Can we reject the null hypothesis at this confidence level?\n",
        "\n",
        "Hint: Use the answer from the previous question along with the empirical rule, a Python function, or [this z-table](https://www.math.arizona.edu/~rsims/ma464/standardnormaltable.pdf).\n",
        "\n",
        "In the cell below, perform any calculations you need, then assign `reject_null_hypothesis` to `True` or `False`."
      ]
    },
    {
      "cell_type": "code",
      "execution_count": null,
      "metadata": {
        "deletable": false,
        "nbgrader": {
          "cell_type": "code",
          "checksum": "852c2716aa45aba209c9b6fd6e70113f",
          "grade": false,
          "grade_id": "cell-66025c399eefe3a4",
          "locked": false,
          "schema_version": 3,
          "solution": true,
          "task": false
        },
        "id": "4AQ5zoWs6IhW"
      },
      "outputs": [],
      "source": [
        "# Perform calculations\n",
        "\n",
        "# Assign this to True or False\n",
        "reject_null_hypothesis = None\n",
        "\n",
        "# YOUR CODE HERE\n",
        "raise NotImplementedError()\n",
        "\n",
        "reject_null_hypothesis"
      ]
    },
    {
      "cell_type": "code",
      "execution_count": null,
      "metadata": {
        "deletable": false,
        "editable": false,
        "nbgrader": {
          "cell_type": "code",
          "checksum": "5f0d96b9753ba8ecce04b259d2e68eb8",
          "grade": true,
          "grade_id": "cell-5cd09dd28708da64",
          "locked": true,
          "points": 2,
          "schema_version": 3,
          "solution": false,
          "task": false
        },
        "id": "OKeozJS66IhW"
      },
      "outputs": [],
      "source": [
        "# This value should be True or False\n",
        "assert reject_null_hypothesis == True or reject_null_hypothesis == False\n",
        "\n",
        "# PUT ALL WORK FOR THE ABOVE QUESTION ABOVE THIS CELL\n",
        "# THIS UNALTERABLE CELL CONTAINS HIDDEN TESTS"
      ]
    }
  ],
  "metadata": {
    "kernelspec": {
      "display_name": "Python 3",
      "language": "python",
      "name": "python3"
    },
    "language_info": {
      "codemirror_mode": {
        "name": "ipython",
        "version": 3
      },
      "file_extension": ".py",
      "mimetype": "text/x-python",
      "name": "python",
      "nbconvert_exporter": "python",
      "pygments_lexer": "ipython3",
      "version": "3.8.5"
    },
    "colab": {
      "provenance": [],
      "include_colab_link": true
    }
  },
  "nbformat": 4,
  "nbformat_minor": 0
}