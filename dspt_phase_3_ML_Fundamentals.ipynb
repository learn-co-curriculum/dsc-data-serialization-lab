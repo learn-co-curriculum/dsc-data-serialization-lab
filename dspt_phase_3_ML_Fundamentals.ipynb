{
  "nbformat": 4,
  "nbformat_minor": 0,
  "metadata": {
    "colab": {
      "provenance": [],
      "include_colab_link": true
    },
    "kernelspec": {
      "name": "python3",
      "display_name": "Python 3"
    },
    "language_info": {
      "name": "python"
    }
  },
  "cells": [
    {
      "cell_type": "markdown",
      "metadata": {
        "id": "view-in-github",
        "colab_type": "text"
      },
      "source": [
        "<a href=\"https://colab.research.google.com/github/sgathai/dsc-data-serialization-lab/blob/master/dspt_phase_3_ML_Fundamentals.ipynb\" target=\"_parent\"><img src=\"https://colab.research.google.com/assets/colab-badge.svg\" alt=\"Open In Colab\"/></a>"
      ]
    },
    {
      "cell_type": "markdown",
      "source": [
        "# ML Fundamentals\n",
        "\n",
        "**Overview of lecture**\n",
        "\n",
        "1. Key things to note  \n",
        "  a. Data Science Process  \n",
        "    i. Modeling  \n",
        "      * Gradient Descent\n",
        "\n",
        "  b. ML Algorithms\n"
      ],
      "metadata": {
        "id": "UbUV5rPKR8Oz"
      }
    },
    {
      "cell_type": "markdown",
      "source": [
        "## Data Science Process"
      ],
      "metadata": {
        "id": "p0EMRld3tkYZ"
      }
    },
    {
      "cell_type": "markdown",
      "source": [
        "CRISP-DM\n",
        "\n",
        "Extra reading: [CRISP-DM](https://asikochimoto.medium.com/crisp-dm-bedrock-of-every-data-science-project-ff33dd75bdcf#2cfe-6fe787971739)\n",
        "\n",
        "![link text](https://miro.medium.com/max/720/1*jFqLHdgQtxca2FO1mwZfcw.png)"
      ],
      "metadata": {
        "id": "XQyFbSAz-d7D"
      }
    },
    {
      "cell_type": "markdown",
      "source": [
        "## Modelling\n",
        "\n",
        "This process entails running machine learning models to solve your problem.\n",
        "\n",
        "Essentially, what a ML model is, is a set of parameter that describe the predicting function best.\n",
        "\n",
        "Eg.\n",
        "\n",
        "![link text](data:image/png;base64,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)"
      ],
      "metadata": {
        "id": "2jpfs3uj0A7A"
      }
    },
    {
      "cell_type": "markdown",
      "source": [
        "### Gradient descent\n",
        "\n",
        "To get the line of best fit, the computer has to minimize the error its making on all the points.\n",
        "\n",
        "What is gradient descent?"
      ],
      "metadata": {
        "id": "d6XPCOQa2SGb"
      }
    },
    {
      "cell_type": "code",
      "source": [
        "#@title\n",
        "# Gradient descent is an optimization algorithm used to find the values of parameters\n",
        "#(coefficients)\n",
        "# of a function (f) that minimizes a cost/error.\n",
        "# It works by iteratively moving in the direction of steepest descent as defined by\n",
        "# the negative of the gradient.\n",
        "# Gradient descent in machine learning is used to minimize some function\n",
        "# and can be used to find a local minimum of a differentiable function."
      ],
      "metadata": {
        "id": "HCVwD8JPwHfr"
      },
      "execution_count": null,
      "outputs": []
    },
    {
      "cell_type": "markdown",
      "source": [
        "![grad](https://miro.medium.com/max/600/1*iNPHcCxIvcm7RwkRaMTx1g.jpeg)\n",
        "\n",
        "![form](https://media.geeksforgeeks.org/wp-content/uploads/20200611183120/1406-7.png)"
      ],
      "metadata": {
        "id": "PXCYX7yV3MZ2"
      }
    },
    {
      "cell_type": "markdown",
      "source": [
        "The $J(\\theta)$ is known as loss or cost function.\n",
        "\n",
        "\n",
        "\n"
      ],
      "metadata": {
        "id": "w9wiFprU3XtU"
      }
    },
    {
      "cell_type": "markdown",
      "source": [
        "# Key algorithms"
      ],
      "metadata": {
        "id": "HX7v2z9i5hmr"
      }
    },
    {
      "cell_type": "markdown",
      "metadata": {
        "id": "yzi0SX8gnTrL"
      },
      "source": [
        "## Linear regression\n",
        "\n",
        "\n",
        "1.   How does it work?\n",
        "\n",
        "> Linear regression: $y= mx + c$\n",
        "\n",
        "> Multivariate or Multiple Linear regression: $y = m_1x_1 + m_2x_2 + \\ldots + m_nx_n + c$\n",
        "\n",
        "\n",
        "2.   What loss function are we optimising?\n",
        "\n",
        "> MSE: $\\frac{1}{N} \\sum_{i=1}^N(y_i - \\hat{y}_i)^2$\n",
        "\n",
        "3.   How do we evaluate the model?\n",
        "\n",
        "> MSE & RMSE\n",
        "\n",
        "RMSE: $\\sqrt{\\frac{1}{N} \\sum_{i=1}^N(y_i - \\hat{y}_i)^2}$\n",
        "\n",
        "> MAE:\n",
        "\n",
        "$\\frac{1}{N} \\sum_{i=1}^N|y_i - \\hat{y}_i|$\n",
        "\n",
        "> R squared & Adjusted R squared\n",
        "\n",
        "$R^2 = 1 -\\frac{\\sum_i(y_i - \\hat{y}_i)^2}{\\sum_i(y_i - \\bar{y})^2}$\n",
        "\n",
        "$R^2_{adj} = 1 -\\frac{(1-R^2)(n-1)}{n-k-1}$\n",
        "\n"
      ]
    },
    {
      "cell_type": "markdown",
      "source": [
        "https://www.youtube.com/watch?v=bMccdk8EdGo&pp=ygUOc3RhdHNxdWVzdCByLTI%3D"
      ],
      "metadata": {
        "id": "xxgHuU71jGb6"
      }
    },
    {
      "cell_type": "markdown",
      "metadata": {
        "id": "CNdGWi4mnZR-"
      },
      "source": [
        "## Polynomial regression\n",
        "\n",
        "1.   How does it work?\n",
        "\n",
        "> $y = m_1x_1 + m_2x_2^2 + \\ldots + m_nx_n^k + c$\n",
        "\n",
        "\n",
        "2.   What loss function are we optimising?\n",
        "\n",
        "> MSE: $\\frac{1}{N} \\sum_{i=1}^N(y_i - \\hat{y}_i)^2$\n",
        "\n",
        "3.   How do we evaluate the model?\n",
        "\n",
        "> MSE & RMSE\n",
        "\n",
        "> MAE\n",
        "\n",
        "> R squared & Adjusted R squared"
      ]
    },
    {
      "cell_type": "markdown",
      "metadata": {
        "id": "_tgKavRBW8Se"
      },
      "source": [
        "## Ridge Regression\n",
        "\n",
        "1.   How does it work?\n",
        "\n",
        "> Linear regression: $y= mx + c$\n",
        "\n",
        "> Multivariate or Multiple Linear regression: $y = m_1x_1 + m_2x_2 + \\ldots + m_nx_n + c$\n",
        "\n",
        "\n",
        "2.   What loss function are we optimising?\n",
        "\n",
        "> MSE: $\\frac{1}{N} \\sum_{i=1}^N(y_i - \\hat{y}_i)^2 + \\alpha \\parallel \\theta \\parallel_2^2$"
      ]
    },
    {
      "cell_type": "markdown",
      "metadata": {
        "id": "tg01BGLdXGqv"
      },
      "source": [
        "## LASSO Regression\n",
        "\n",
        "1.   How does it work?\n",
        "\n",
        "> Linear regression: $y= mx + c$\n",
        "\n",
        "> Multivariate or Multiple Linear regression: $y = m_1x_1 + m_2x_2 + \\ldots + m_nx_n + c$\n",
        "\n",
        "\n",
        "2.   What loss function are we optimising?\n",
        "\n",
        "> MSE: $\\frac{1}{N} \\sum_{i=1}^N(y_i - \\hat{y}_i)^2 + \\alpha \\parallel \\theta \\parallel_1$"
      ]
    },
    {
      "cell_type": "markdown",
      "metadata": {
        "id": "C_f1JTfSXMQF"
      },
      "source": [
        "## Elastic Net regression\n",
        "\n",
        "1.   How does it work?\n",
        "\n",
        "> Linear regression: $y= mx + c$\n",
        "\n",
        "> Multivariate or Multiple Linear regression: $y = m_1x_1 + m_2x_2 + \\ldots + m_nx_n + c$\n",
        "\n",
        "\n",
        "2.   What loss function are we optimising?\n",
        "\n",
        "> MSE with penalties: $\\frac{1}{N} \\sum_{i=1}^N(y_i - \\hat{y}_i)^2 + \\alpha r \\parallel \\theta \\parallel_1 + \\alpha (1-r) \\parallel \\theta \\parallel_2^2$"
      ]
    },
    {
      "cell_type": "markdown",
      "source": [
        "# Challenge\n",
        "\n",
        "Given data, complete the gradient descent process with code:"
      ],
      "metadata": {
        "id": "vBNsu4d17qgf"
      }
    },
    {
      "cell_type": "code",
      "source": [
        "import numpy as np\n",
        "import matplotlib.pyplot as plt\n",
        "%matplotlib inline"
      ],
      "metadata": {
        "id": "qpFW98Bk28na"
      },
      "execution_count": null,
      "outputs": []
    },
    {
      "cell_type": "code",
      "source": [
        "# Randomly created data in x & y\n",
        "np.random.seed(27)\n",
        "\n",
        "x = np.random.rand(30,1).reshape(30)\n",
        "y_randterm = np.random.normal(0,3,30)\n",
        "y = 3 + 50 * x + y_randterm"
      ],
      "metadata": {
        "id": "O-pVB23P73Cm"
      },
      "execution_count": null,
      "outputs": []
    },
    {
      "cell_type": "code",
      "source": [
        "f, ax = plt.subplots(figsize=(8,6))\n",
        "ax.scatter(x, y)\n",
        "\n",
        "ax.set_title('Data Points to Model')\n",
        "ax.set_xlabel('x', fontsize=14)\n",
        "ax.set_ylabel('y', fontsize=14)\n",
        "\n",
        "plt.tight_layout()"
      ],
      "metadata": {
        "colab": {
          "base_uri": "https://localhost:8080/",
          "height": 549
        },
        "id": "yLDPtCU-75n1",
        "outputId": "0081e50d-7fed-458e-a7e7-19f8465f6ec6"
      },
      "execution_count": null,
      "outputs": [
        {
          "output_type": "display_data",
          "data": {
            "text/plain": [
              "<Figure size 800x600 with 1 Axes>"
            ],
            "image/png": "[encoded data removed]"
          },
          "metadata": {}
        }
      ]
    },
    {
      "cell_type": "markdown",
      "source": [
        "### Complete the functions"
      ],
      "metadata": {
        "id": "Wd_v4gxH8ZQ5"
      }
    },
    {
      "cell_type": "code",
      "source": [
        "def partial_deriv(a, b, x_i, y_i, respect_to):\n",
        "    '''\n",
        "    Get the partial derivative for cost function with respect to slope (a)\n",
        "    or intercept (b).\n",
        "    '''\n",
        "    # Code goes here"
      ],
      "metadata": {
        "id": "t-T6uoKa8Acb"
      },
      "execution_count": null,
      "outputs": []
    },
    {
      "cell_type": "code",
      "source": [
        "def step_gradient(a, b, x, y, learning_rate):\n",
        "    #Code goes here\n",
        "\n",
        "    # new_b =\n",
        "    # new_a =\n",
        "\n",
        "    return (new_a, new_b)"
      ],
      "metadata": {
        "id": "wqFbnusd8pEV"
      },
      "execution_count": null,
      "outputs": []
    },
    {
      "cell_type": "code",
      "source": [
        "guesses = []\n",
        "alpha = 0.05\n",
        "\n",
        "guess = {\n",
        "    'slope': 60,\n",
        "    'intercept': 10\n",
        "}\n",
        "\n",
        "step = step_gradient(guess['slope'], guess['intercept'], x, y, learning_rate=alpha)\n",
        "step\n"
      ],
      "metadata": {
        "id": "jVTw5rBq9Fnl",
        "colab": {
          "base_uri": "https://localhost:8080/"
        },
        "outputId": "b5f831ba-af6d-4986-9fd9-c5ed1314dcb7"
      },
      "execution_count": null,
      "outputs": [
        {
          "output_type": "execute_result",
          "data": {
            "text/plain": [
              "(59.32566774732662, 8.907387521525408)"
            ]
          },
          "metadata": {},
          "execution_count": 9
        }
      ]
    },
    {
      "cell_type": "code",
      "source": [
        "def calculate_residuals(x_values, y_values, slope, intercept):\n",
        "    '''Find the residulas for each data point'''\n",
        "    yhat = intercept + slope*x_values\n",
        "    errors = y_values - yhat\n",
        "    return errors\n",
        "\n",
        "def mse(x_values, y_values, slope, intercept):\n",
        "\n",
        "    resid_sq = calculate_residuals(x_values, y_values, slope, intercept)**2\n",
        "\n",
        "    return sum(resid_sq)/len(x_values)"
      ],
      "metadata": {
        "id": "GZSIR7oh9uoO"
      },
      "execution_count": null,
      "outputs": []
    },
    {
      "cell_type": "code",
      "source": [
        "for i in range(200):\n",
        "    # Our guess using the new step\n",
        "    new_slope, new_intercept = step\n",
        "    guess = {\n",
        "        'slope': new_slope,\n",
        "        'intercept': new_intercept\n",
        "    }\n",
        "    guesses.append(guess)\n",
        "\n",
        "    # Getting adjusted parameters\n",
        "    step = step_gradient(guess['slope'], guess['intercept'], x, y, learning_rate=alpha)\n",
        "    #  Only display every 10\n",
        "    if (i % 10) == 0:\n",
        "        print(f'Step # {i}:')\n",
        "        display(step)\n",
        "        display(mse(x, y, guess['slope'], guess['intercept']))\n",
        "        print('-'*30)"
      ],
      "metadata": {
        "id": "6bLDzy4p88Me",
        "colab": {
          "base_uri": "https://localhost:8080/",
          "height": 1000
        },
        "outputId": "1131f00e-ddf0-45e9-b4a1-3d57559be479"
      },
      "execution_count": null,
      "outputs": [
        {
          "output_type": "stream",
          "name": "stdout",
          "text": [
            "Step # 0:\n"
          ]
        },
        {
          "output_type": "display_data",
          "data": {
            "text/plain": [
              "(58.73381283623982, 7.9597570336886125)"
            ]
          },
          "metadata": {}
        },
        {
          "output_type": "display_data",
          "data": {
            "text/plain": [
              "108.25688795061365"
            ]
          },
          "metadata": {}
        },
        {
          "output_type": "stream",
          "name": "stdout",
          "text": [
            "------------------------------\n",
            "Step # 10:\n"
          ]
        },
        {
          "output_type": "display_data",
          "data": {
            "text/plain": [
              "(55.56413952703242, 3.30268142831803)"
            ]
          },
          "metadata": {}
        },
        {
          "output_type": "display_data",
          "data": {
            "text/plain": [
              "17.895273303877264"
            ]
          },
          "metadata": {}
        },
        {
          "output_type": "stream",
          "name": "stdout",
          "text": [
            "------------------------------\n",
            "Step # 20:\n"
          ]
        },
        {
          "output_type": "display_data",
          "data": {
            "text/plain": [
              "(54.49941544843053, 2.3028833870806644)"
            ]
          },
          "metadata": {}
        },
        {
          "output_type": "display_data",
          "data": {
            "text/plain": [
              "11.965816028516684"
            ]
          },
          "metadata": {}
        },
        {
          "output_type": "stream",
          "name": "stdout",
          "text": [
            "------------------------------\n",
            "Step # 30:\n"
          ]
        },
        {
          "output_type": "display_data",
          "data": {
            "text/plain": [
              "(53.97503568458956, 2.2017209870246868)"
            ]
          },
          "metadata": {}
        },
        {
          "output_type": "display_data",
          "data": {
            "text/plain": [
              "11.289660521337783"
            ]
          },
          "metadata": {}
        },
        {
          "output_type": "stream",
          "name": "stdout",
          "text": [
            "------------------------------\n",
            "Step # 40:\n"
          ]
        },
        {
          "output_type": "display_data",
          "data": {
            "text/plain": [
              "(53.60123366064071, 2.314531817777922)"
            ]
          },
          "metadata": {}
        },
        {
          "output_type": "display_data",
          "data": {
            "text/plain": [
              "10.975489223811206"
            ]
          },
          "metadata": {}
        },
        {
          "output_type": "stream",
          "name": "stdout",
          "text": [
            "------------------------------\n",
            "Step # 50:\n"
          ]
        },
        {
          "output_type": "display_data",
          "data": {
            "text/plain": [
              "(53.28015760964471, 2.4718189832068016)"
            ]
          },
          "metadata": {}
        },
        {
          "output_type": "display_data",
          "data": {
            "text/plain": [
              "10.716855356343041"
            ]
          },
          "metadata": {}
        },
        {
          "output_type": "stream",
          "name": "stdout",
          "text": [
            "------------------------------\n",
            "Step # 60:\n"
          ]
        },
        {
          "output_type": "display_data",
          "data": {
            "text/plain": [
              "(52.986536057534174, 2.632023037704469)"
            ]
          },
          "metadata": {}
        },
        {
          "output_type": "display_data",
          "data": {
            "text/plain": [
              "10.490802676499039"
            ]
          },
          "metadata": {}
        },
        {
          "output_type": "stream",
          "name": "stdout",
          "text": [
            "------------------------------\n",
            "Step # 70:\n"
          ]
        },
        {
          "output_type": "display_data",
          "data": {
            "text/plain": [
              "(52.71318808693776, 2.785331592338756)"
            ]
          },
          "metadata": {}
        },
        {
          "output_type": "display_data",
          "data": {
            "text/plain": [
              "10.292361933064205"
            ]
          },
          "metadata": {}
        },
        {
          "output_type": "stream",
          "name": "stdout",
          "text": [
            "------------------------------\n",
            "Step # 80:\n"
          ]
        },
        {
          "output_type": "display_data",
          "data": {
            "text/plain": [
              "(52.45748353424608, 2.9297864775957576)"
            ]
          },
          "metadata": {}
        },
        {
          "output_type": "display_data",
          "data": {
            "text/plain": [
              "10.118106755218896"
            ]
          },
          "metadata": {}
        },
        {
          "output_type": "stream",
          "name": "stdout",
          "text": [
            "------------------------------\n",
            "Step # 90:\n"
          ]
        },
        {
          "output_type": "display_data",
          "data": {
            "text/plain": [
              "(52.217975945014665, 3.0653504631319866)"
            ]
          },
          "metadata": {}
        },
        {
          "output_type": "display_data",
          "data": {
            "text/plain": [
              "9.965086143994448"
            ]
          },
          "metadata": {}
        },
        {
          "output_type": "stream",
          "name": "stdout",
          "text": [
            "------------------------------\n",
            "Step # 100:\n"
          ]
        },
        {
          "output_type": "display_data",
          "data": {
            "text/plain": [
              "(51.993562805242966, 3.1924352475460864)"
            ]
          },
          "metadata": {}
        },
        {
          "output_type": "display_data",
          "data": {
            "text/plain": [
              "9.830712271474585"
            ]
          },
          "metadata": {}
        },
        {
          "output_type": "stream",
          "name": "stdout",
          "text": [
            "------------------------------\n",
            "Step # 110:\n"
          ]
        },
        {
          "output_type": "display_data",
          "data": {
            "text/plain": [
              "(51.78327379292318, 3.3115375687514037)"
            ]
          },
          "metadata": {}
        },
        {
          "output_type": "display_data",
          "data": {
            "text/plain": [
              "9.71271287648894"
            ]
          },
          "metadata": {}
        },
        {
          "output_type": "stream",
          "name": "stdout",
          "text": [
            "------------------------------\n",
            "Step # 120:\n"
          ]
        },
        {
          "output_type": "display_data",
          "data": {
            "text/plain": [
              "(51.58621523577213, 3.4231504746958086)"
            ]
          },
          "metadata": {}
        },
        {
          "output_type": "display_data",
          "data": {
            "text/plain": [
              "9.609092603735096"
            ]
          },
          "metadata": {}
        },
        {
          "output_type": "stream",
          "name": "stdout",
          "text": [
            "------------------------------\n",
            "Step # 130:\n"
          ]
        },
        {
          "output_type": "display_data",
          "data": {
            "text/plain": [
              "(51.40155355771203, 3.5277428428475335)"
            ]
          },
          "metadata": {}
        },
        {
          "output_type": "display_data",
          "data": {
            "text/plain": [
              "9.518099247942445"
            ]
          },
          "metadata": {}
        },
        {
          "output_type": "stream",
          "name": "stdout",
          "text": [
            "------------------------------\n",
            "Step # 140:\n"
          ]
        },
        {
          "output_type": "display_data",
          "data": {
            "text/plain": [
              "(51.228508584062105, 3.6257557553983037)"
            ]
          },
          "metadata": {}
        },
        {
          "output_type": "display_data",
          "data": {
            "text/plain": [
              "9.438194123407746"
            ]
          },
          "metadata": {}
        },
        {
          "output_type": "stream",
          "name": "stdout",
          "text": [
            "------------------------------\n",
            "Step # 150:\n"
          ]
        },
        {
          "output_type": "display_data",
          "data": {
            "text/plain": [
              "(51.06634945823822, 3.71760296963147)"
            ]
          },
          "metadata": {}
        },
        {
          "output_type": "display_data",
          "data": {
            "text/plain": [
              "9.36802604496617"
            ]
          },
          "metadata": {}
        },
        {
          "output_type": "stream",
          "name": "stdout",
          "text": [
            "------------------------------\n",
            "Step # 160:\n"
          ]
        },
        {
          "output_type": "display_data",
          "data": {
            "text/plain": [
              "(50.914391359436166, 3.803672319350046)"
            ]
          },
          "metadata": {}
        },
        {
          "output_type": "display_data",
          "data": {
            "text/plain": [
              "9.306408479624077"
            ]
          },
          "metadata": {}
        },
        {
          "output_type": "stream",
          "name": "stdout",
          "text": [
            "------------------------------\n",
            "Step # 170:\n"
          ]
        },
        {
          "output_type": "display_data",
          "data": {
            "text/plain": [
              "(50.771992561962534, 3.8843272667827873)"
            ]
          },
          "metadata": {}
        },
        {
          "output_type": "display_data",
          "data": {
            "text/plain": [
              "9.252299482441707"
            ]
          },
          "metadata": {}
        },
        {
          "output_type": "stream",
          "name": "stdout",
          "text": [
            "------------------------------\n",
            "Step # 180:\n"
          ]
        },
        {
          "output_type": "display_data",
          "data": {
            "text/plain": [
              "(50.63855171313253, 3.9599084161447986)"
            ]
          },
          "metadata": {}
        },
        {
          "output_type": "display_data",
          "data": {
            "text/plain": [
              "9.20478407738105"
            ]
          },
          "metadata": {}
        },
        {
          "output_type": "stream",
          "name": "stdout",
          "text": [
            "------------------------------\n",
            "Step # 190:\n"
          ]
        },
        {
          "output_type": "display_data",
          "data": {
            "text/plain": [
              "(50.51350529074918, 4.030734946710084)"
            ]
          },
          "metadata": {}
        },
        {
          "output_type": "display_data",
          "data": {
            "text/plain": [
              "9.163058785181136"
            ]
          },
          "metadata": {}
        },
        {
          "output_type": "stream",
          "name": "stdout",
          "text": [
            "------------------------------\n"
          ]
        }
      ]
    },
    {
      "cell_type": "code",
      "source": [
        "# Plotting a guess of a regression line\n",
        "def regression_formula(x, a, b):\n",
        "    return a*x + b\n",
        "\n",
        "def plot_data_and_guess(slope, intercept, ax, x1=x, x2=y, **kwargs):\n",
        "    '''\n",
        "    Plot our data and regression line on the given axis.\n",
        "\n",
        "    Arguments:\n",
        "        slope : float\n",
        "            Value for the slope the regression line.\n",
        "\n",
        "        intercept : float\n",
        "            Value for the intercept the regression line.\n",
        "\n",
        "        ax : Axes\n",
        "            Axis to plot data and regression line\n",
        "\n",
        "        x1 : array-like\n",
        "            Values along the x-axis\n",
        "\n",
        "        x2 : array-like\n",
        "            Values along the y-axis\n",
        "\n",
        "    Returns:\n",
        "        fig : Figure\n",
        "\n",
        "        ax : Axes\n",
        "    '''\n",
        "    # Plot data and regression line\n",
        "    ax.scatter(x1, x2)\n",
        "    yhat = regression_formula(x1, slope ,intercept)\n",
        "    ax.plot(x1, yhat, 'r-', **kwargs)\n",
        "\n",
        "    # Embelishments\n",
        "    ax.set_title('Data Points to Model')\n",
        "    ax.set_xlabel('x', fontsize=14)\n",
        "    ax.set_ylabel('y', fontsize=14)\n",
        "    ax.set_xlim(0,1)\n",
        "    ax.set_ylim(0,60)\n",
        "\n",
        "    return ax"
      ],
      "metadata": {
        "id": "LnGlWpIp9oEM"
      },
      "execution_count": null,
      "outputs": []
    },
    {
      "cell_type": "code",
      "source": [
        "# Plotting out our new parameters\n",
        "f, ax = plt.subplots(figsize=(8,6))\n",
        "plot_data_and_guess(**guesses[-1], ax=ax);"
      ],
      "metadata": {
        "id": "2JFjMa9d9AjL"
      },
      "execution_count": null,
      "outputs": []
    },
    {
      "cell_type": "markdown",
      "source": [
        "## Solution\n",
        "\n"
      ],
      "metadata": {
        "id": "e3bLo8frn1UJ"
      }
    },
    {
      "cell_type": "markdown",
      "metadata": {
        "hidden": true,
        "id": "_u5q3Z936yJn"
      },
      "source": [
        "First we need to find the gradient for each cost function (2-dimensions: a & b; slope & intercept):\n",
        "\n",
        "$$ \\frac{\\partial}{\\partial b} (y_i - (b + ax_i))^2 = -2 \\cdot (y_i-ax_i - b)$$\n",
        "\n",
        "$$ \\frac{\\partial}{\\partial a} (y_i - (b + ax_i))^2 = -2 \\cdot x_i \\cdot (y_i-ax_i - b)$$"
      ]
    },
    {
      "cell_type": "code",
      "execution_count": null,
      "metadata": {
        "hidden": true,
        "id": "s8eYEHJPm4VK"
      },
      "outputs": [],
      "source": [
        "def partial_deriv(a, b, x_i, y_i, respect_to):\n",
        "    '''\n",
        "    Get the partial derivative for cost function with respect to slope (a)\n",
        "    or intercept (b).\n",
        "    '''\n",
        "    if respect_to == 'b': # intercept\n",
        "        return (y_i - (a * x_i + b))\n",
        "    elif respect_to == 'a': # slope\n",
        "        return (x_i * (y_i - (a * x_i + b)))\n",
        "    else:\n",
        "        print('Choose either respect_to: a or b ')\n",
        "        return 0"
      ]
    },
    {
      "cell_type": "code",
      "source": [
        "def step_gradient(a, b, x, y, learning_rate):\n",
        "    db = 0\n",
        "    da = 0\n",
        "    # For each data point, update the derivative for the slope & intercept\n",
        "    N = len(x)\n",
        "    for i in range(len(x)):\n",
        "        # Derivatives already pre-done\n",
        "\n",
        "        # Partial derivatives of loss/cost function with respect to b & a\n",
        "        db +=  -(2/N) * partial_deriv(a,b,x[i],y[i],respect_to='b')\n",
        "        da +=  -(2/N) * partial_deriv(a,b,x[i],y[i],respect_to='a')\n",
        "\n",
        "    # Adjust the slope & intercept by the gradient\n",
        "    new_b = b - (learning_rate * db)\n",
        "    new_a = a - (learning_rate * da)\n",
        "\n",
        "    return (new_a, new_b)"
      ],
      "metadata": {
        "id": "I8hGZU7opC7E"
      },
      "execution_count": null,
      "outputs": []
    },
    {
      "cell_type": "code",
      "source": [],
      "metadata": {
        "id": "uIsBbmvIz_kY"
      },
      "execution_count": null,
      "outputs": []
    }
  ]
}