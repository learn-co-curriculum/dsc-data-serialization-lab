{
  "cells": [
    {
      "cell_type": "markdown",
      "metadata": {
        "id": "view-in-github",
        "colab_type": "text"
      },
      "source": [
        "<a href=\"https://colab.research.google.com/github/sgathai/dsc-data-serialization-lab/blob/master/index_decision_tree_check_point.ipynb\" target=\"_parent\"><img src=\"https://colab.research.google.com/assets/colab-badge.svg\" alt=\"Open In Colab\"/></a>"
      ]
    },
    {
      "cell_type": "markdown",
      "metadata": {
        "deletable": false,
        "editable": false,
        "nbgrader": {
          "cell_type": "markdown",
          "checksum": "c385989d6972c5feb4aaff3646e2e852",
          "grade": false,
          "grade_id": "5df0b86b31697070662e7327922181f7",
          "locked": true,
          "schema_version": 3,
          "solution": false,
          "task": false
        },
        "id": "AhY2AwseG95W"
      },
      "source": [
        "# Decision Trees\n",
        "\n",
        "### Concepts\n",
        "You're given a dataset of **30** elements, 15 of which belong to a positive class (denoted by `+` ) and 15 of which do not (denoted by `-`). These elements are described by two attributes, A and B, that can each have either one of two values, true or false.\n",
        "\n",
        "The diagrams below show the result of splitting the dataset by attribute: the diagram on the left hand side shows that if we split by attribute A there are 13 items of the positive class and 2 of the negative class in one branch and 2 of the positive and 13 of the negative in the other branch. The right hand side shows that if we split the data by attribute B there are 8 items of the positive class and 7 of the negative class in one branch and 7 of the positive and 8 of the negative in the other branch.\n",
        "\n",
        "<img src=\"./decision_stump.png\">\n",
        "\n",
        "### 1) Which one of the two attributes resulted in the best split of the original data?\n",
        "\n",
        "Assign `ans1` to either `\"A\"` or `\"B\"` to represent which attribute is best."
      ]
    },
    {
      "cell_type": "code",
      "execution_count": null,
      "metadata": {
        "deletable": false,
        "nbgrader": {
          "cell_type": "code",
          "checksum": "5c0ff89f7775c96b4b280f00590bf588",
          "grade": false,
          "grade_id": "cell-7f0773ccaaca4a5e",
          "locked": false,
          "schema_version": 3,
          "solution": true,
          "task": false
        },
        "id": "HT79iem4G95g"
      },
      "outputs": [],
      "source": [
        "# Replace None with appropriate code\n",
        "ans1 = \"A\"\n",
        "# YOUR CODE HERE\n",
        "#raise NotImplementedError()"
      ]
    },
    {
      "cell_type": "code",
      "execution_count": null,
      "metadata": {
        "deletable": false,
        "editable": false,
        "nbgrader": {
          "cell_type": "code",
          "checksum": "728afcafd89dc870f6ce514383d9de03",
          "grade": true,
          "grade_id": "cell-e31f81fb8b1e2fbc",
          "locked": true,
          "points": 1,
          "schema_version": 3,
          "solution": false,
          "task": false
        },
        "id": "j-jnE306G95k"
      },
      "outputs": [],
      "source": [
        "# PUT ALL WORK FOR THE ABOVE QUESTION ABOVE THIS CELL\n",
        "# THIS UNALTERABLE CELL CONTAINS HIDDEN TESTS\n",
        "\n",
        "# ans1 should be the string \"A\" or \"B\"\n",
        "assert type(ans1) == str\n"
      ]
    },
    {
      "cell_type": "markdown",
      "metadata": {
        "deletable": false,
        "editable": false,
        "nbgrader": {
          "cell_type": "markdown",
          "checksum": "1186f7bb52c257fdd4299038c6fe6a19",
          "grade": false,
          "grade_id": "6f717f8432b6e6dd1b00d595cc814c93",
          "locked": true,
          "schema_version": 3,
          "solution": false,
          "task": false
        },
        "id": "wptmssZ4G95l"
      },
      "source": [
        "### Decision Trees for Regression\n",
        "\n",
        "In this section, you will use decision trees to fit a regression model to the Combined Cycle Power Plant dataset.\n",
        "\n",
        "This dataset is from the UCI ML Dataset Repository, and has been included in the `data` folder of this repository as an Excel `.xlsx` file, `Folds5x2_pp.xlsx`.\n",
        "\n",
        "The features of this dataset consist of hourly average ambient variables taken from various sensors located around a power plant that record the ambient variables every second.  \n",
        "- Temperature (AT)\n",
        "- Ambient Pressure (AP)\n",
        "- Relative Humidity (RH)\n",
        "- Exhaust Vacuum (V)\n",
        "\n",
        "The target to predict is the net hourly electrical energy output (PE).\n",
        "\n",
        "The features and target variables are not normalized.\n",
        "\n",
        "In the cells below, we import `pandas` and `numpy` for you, and we load the data into a pandas DataFrame. We also include code to inspect the first five rows and get the shape of the DataFrame."
      ]
    },
    {
      "cell_type": "code",
      "execution_count": null,
      "metadata": {
        "deletable": false,
        "editable": false,
        "nbgrader": {
          "cell_type": "code",
          "checksum": "41dec43262bd7f4704df9c32ecda429c",
          "grade": false,
          "grade_id": "690aba12948e0d62fa75104e68337bf3",
          "locked": true,
          "schema_version": 3,
          "solution": false,
          "task": false
        },
        "id": "V8_Jx_3yG95m"
      },
      "outputs": [],
      "source": [
        "# Run this cell without changes\n",
        "\n",
        "import pandas as pd\n",
        "import numpy as np\n",
        "\n",
        "# Load the data\n",
        "filename = 'Folds5x2_pp.csv'\n",
        "df = pd.read_csv(filename, index_col=0)"
      ]
    },
    {
      "cell_type": "code",
      "execution_count": null,
      "metadata": {
        "deletable": false,
        "editable": false,
        "nbgrader": {
          "cell_type": "code",
          "checksum": "65c73c40a9f8b528aac6993c6f0978a0",
          "grade": false,
          "grade_id": "4f8da90fd28c171bbed03778e3ada396",
          "locked": true,
          "schema_version": 3,
          "solution": false,
          "task": false
        },
        "id": "qyjSsf9tG95n",
        "outputId": "fd5a174e-3e21-48ae-8f65-32213f55c0e9"
      },
      "outputs": [
        {
          "data": {
            "text/html": [
              "<div>\n",
              "<style scoped>\n",
              "    .dataframe tbody tr th:only-of-type {\n",
              "        vertical-align: middle;\n",
              "    }\n",
              "\n",
              "    .dataframe tbody tr th {\n",
              "        vertical-align: top;\n",
              "    }\n",
              "\n",
              "    .dataframe thead th {\n",
              "        text-align: right;\n",
              "    }\n",
              "</style>\n",
              "<table border=\"1\" class=\"dataframe\">\n",
              "  <thead>\n",
              "    <tr style=\"text-align: right;\">\n",
              "      <th></th>\n",
              "      <th>AT</th>\n",
              "      <th>V</th>\n",
              "      <th>AP</th>\n",
              "      <th>RH</th>\n",
              "      <th>PE</th>\n",
              "    </tr>\n",
              "  </thead>\n",
              "  <tbody>\n",
              "    <tr>\n",
              "      <th>0</th>\n",
              "      <td>14.96</td>\n",
              "      <td>41.76</td>\n",
              "      <td>1024.07</td>\n",
              "      <td>73.17</td>\n",
              "      <td>463.26</td>\n",
              "    </tr>\n",
              "    <tr>\n",
              "      <th>1</th>\n",
              "      <td>25.18</td>\n",
              "      <td>62.96</td>\n",
              "      <td>1020.04</td>\n",
              "      <td>59.08</td>\n",
              "      <td>444.37</td>\n",
              "    </tr>\n",
              "    <tr>\n",
              "      <th>2</th>\n",
              "      <td>5.11</td>\n",
              "      <td>39.40</td>\n",
              "      <td>1012.16</td>\n",
              "      <td>92.14</td>\n",
              "      <td>488.56</td>\n",
              "    </tr>\n",
              "    <tr>\n",
              "      <th>3</th>\n",
              "      <td>20.86</td>\n",
              "      <td>57.32</td>\n",
              "      <td>1010.24</td>\n",
              "      <td>76.64</td>\n",
              "      <td>446.48</td>\n",
              "    </tr>\n",
              "    <tr>\n",
              "      <th>4</th>\n",
              "      <td>10.82</td>\n",
              "      <td>37.50</td>\n",
              "      <td>1009.23</td>\n",
              "      <td>96.62</td>\n",
              "      <td>473.90</td>\n",
              "    </tr>\n",
              "  </tbody>\n",
              "</table>\n",
              "</div>"
            ],
            "text/plain": [
              "      AT      V       AP     RH      PE\n",
              "0  14.96  41.76  1024.07  73.17  463.26\n",
              "1  25.18  62.96  1020.04  59.08  444.37\n",
              "2   5.11  39.40  1012.16  92.14  488.56\n",
              "3  20.86  57.32  1010.24  76.64  446.48\n",
              "4  10.82  37.50  1009.23  96.62  473.90"
            ]
          },
          "execution_count": 5,
          "metadata": {},
          "output_type": "execute_result"
        }
      ],
      "source": [
        "# Run this cell without changes\n",
        "df.head()"
      ]
    },
    {
      "cell_type": "code",
      "execution_count": null,
      "metadata": {
        "deletable": false,
        "editable": false,
        "nbgrader": {
          "cell_type": "code",
          "checksum": "eb3b2767d8170f5344dd35013fc8b433",
          "grade": false,
          "grade_id": "1c7641f4553750489b2ba012f301ed53",
          "locked": true,
          "schema_version": 3,
          "solution": false,
          "task": false
        },
        "id": "yVDcMFtFG95p",
        "outputId": "a1e9eea3-954d-4a0c-dbc8-9e6478604a05"
      },
      "outputs": [
        {
          "data": {
            "text/plain": [
              "(9568, 5)"
            ]
          },
          "execution_count": 6,
          "metadata": {},
          "output_type": "execute_result"
        }
      ],
      "source": [
        "# Run this cell without changes\n",
        "df.shape"
      ]
    },
    {
      "cell_type": "markdown",
      "metadata": {
        "deletable": false,
        "editable": false,
        "nbgrader": {
          "cell_type": "markdown",
          "checksum": "1d02c20b358b21c98639a529ee68b160",
          "grade": false,
          "grade_id": "2d0f089a2ea3e45c458b7060347f086b",
          "locked": true,
          "schema_version": 3,
          "solution": false,
          "task": false
        },
        "id": "IcqbH7rXG95q"
      },
      "source": [
        "Below, we split the data into features and target ('PE') for you."
      ]
    },
    {
      "cell_type": "code",
      "execution_count": null,
      "metadata": {
        "deletable": false,
        "editable": false,
        "nbgrader": {
          "cell_type": "code",
          "checksum": "67e0c1c993c2edabb89319be7d756bdb",
          "grade": false,
          "grade_id": "1bdaebd958d14fe61f0549b95d7c56db",
          "locked": true,
          "schema_version": 3,
          "solution": false,
          "task": false
        },
        "id": "GoLZcCPeG95r"
      },
      "outputs": [],
      "source": [
        "# Run this cell without changes\n",
        "X = df[df.columns.difference(['PE'])]\n",
        "y = df['PE']"
      ]
    },
    {
      "cell_type": "markdown",
      "metadata": {
        "deletable": false,
        "editable": false,
        "nbgrader": {
          "cell_type": "markdown",
          "checksum": "48461b01959d3e7d243b2c5a221c6611",
          "grade": false,
          "grade_id": "908f11d6d829a74be4edbeead7a738b0",
          "locked": true,
          "schema_version": 3,
          "solution": false,
          "task": false
        },
        "id": "2ZsfdNYvG95t"
      },
      "source": [
        "### 2) Use `train_test_split` ([documentation here](https://scikit-learn.org/stable/modules/generated/sklearn.model_selection.train_test_split.html)) to split the data into training and test sets. Create training and test sets with `test_size=0.5` and `random_state=1`.\n",
        "\n",
        "You will need to import the relevant code from scikit-learn"
      ]
    },
    {
      "cell_type": "code",
      "execution_count": null,
      "metadata": {
        "deletable": false,
        "nbgrader": {
          "cell_type": "code",
          "checksum": "975013d900c00284a6be5417b2237c33",
          "grade": false,
          "grade_id": "0d38786c25982cb53f9a4a1b6e96c717",
          "locked": false,
          "schema_version": 3,
          "solution": true,
          "task": false
        },
        "id": "iJzVKUqRG95w"
      },
      "outputs": [],
      "source": [
        "# Replace None with appropriate code\n",
        "\n",
        "# Import the relevant function\n",
        "from sklearn.model_selection import train_test_split\n",
        "\n",
        "# Split the data\n",
        "X_train, X_test, y_train, y_test = train_test_split(X, y, test_size=0.5, random_state=1)\n",
        "#X_train, X_test, y_train, y_test = None, None, None, None\n",
        "\n",
        "# YOUR CODE HERE\n",
        "#raise NotImplementedError()"
      ]
    },
    {
      "cell_type": "code",
      "execution_count": null,
      "metadata": {
        "deletable": false,
        "editable": false,
        "nbgrader": {
          "cell_type": "code",
          "checksum": "a1a19e0a7f94709d0d97a0da92690cd9",
          "grade": true,
          "grade_id": "d24a4d515abed049b603cf57d0621c24",
          "locked": true,
          "points": 1,
          "schema_version": 3,
          "solution": false,
          "task": false
        },
        "id": "32Pn2l_dG95x"
      },
      "outputs": [],
      "source": [
        "# PUT ALL WORK FOR THE ABOVE QUESTION ABOVE THIS CELL\n",
        "# THIS UNALTERABLE CELL CONTAINS HIDDEN TESTS\n",
        "\n",
        "# X_train and X_test should be dataframes\n",
        "assert type(X_train) == pd.DataFrame and type(X_test) == pd.DataFrame\n",
        "\n",
        "# y_train and y_test should be series\n",
        "assert type(y_train) == pd.Series and type(y_test) == pd.Series\n"
      ]
    },
    {
      "cell_type": "markdown",
      "metadata": {
        "deletable": false,
        "editable": false,
        "nbgrader": {
          "cell_type": "markdown",
          "checksum": "885849572a434a20943fa57e27833061",
          "grade": false,
          "grade_id": "78f78331a39a90e83268b36227be87e0",
          "locked": true,
          "schema_version": 3,
          "solution": false,
          "task": false
        },
        "id": "K7wmnbdbG95y"
      },
      "source": [
        "### 3) Fit a decision tree regression model with scikit-learn to the training data. Use parameter defaults and `random_state=1` for this model\n",
        "\n",
        "For the rest of this section feel free to refer to the scikit-learn documentation on [decision tree regressors](https://scikit-learn.org/stable/modules/generated/sklearn.tree.DecisionTreeRegressor.html).\n",
        "\n",
        "You will need to import the relevant code from scikit-learn\n",
        "\n",
        "Assign your regressor (model) to the variable `dt`"
      ]
    },
    {
      "cell_type": "code",
      "execution_count": null,
      "metadata": {
        "deletable": false,
        "nbgrader": {
          "cell_type": "code",
          "checksum": "48b1603d17d60cc0cc82b1c7a6a831cb",
          "grade": false,
          "grade_id": "a9209fbe3444034fdaa3f956a506fbff",
          "locked": false,
          "schema_version": 3,
          "solution": true,
          "task": false
        },
        "id": "Dp4bj4lgG95z",
        "outputId": "250345e0-4faa-429a-bf10-3d0ab3a3d8a0"
      },
      "outputs": [
        {
          "data": {
            "text/plain": [
              "1.0"
            ]
          },
          "execution_count": 10,
          "metadata": {},
          "output_type": "execute_result"
        }
      ],
      "source": [
        "# Replace None with appropriate code\n",
        "\n",
        "# Import the relevant class\n",
        "from sklearn.tree import DecisionTreeRegressor\n",
        "\n",
        "# Instantiate the model\n",
        "dt = DecisionTreeRegressor()\n",
        "\n",
        "# Fit the model to the training data here\n",
        "dt.fit(X_train, y_train)\n",
        "\n",
        "# YOUR CODE HERE\n",
        "#raise NotImplementedError()\n",
        "\n",
        "# Testing out the model's r2 score on the training data overall\n",
        "dt_train_score = dt.score(X_train, y_train)\n",
        "dt_train_score"
      ]
    },
    {
      "cell_type": "code",
      "execution_count": null,
      "metadata": {
        "deletable": false,
        "editable": false,
        "nbgrader": {
          "cell_type": "code",
          "checksum": "b8d4c6994fb226b3eecaae77c22b415c",
          "grade": true,
          "grade_id": "86c405061165b88b5cfc0b624e3cb7ab",
          "locked": true,
          "points": 0.5,
          "schema_version": 3,
          "solution": false,
          "task": false
        },
        "id": "WSudLKR8G950"
      },
      "outputs": [],
      "source": [
        "# PUT ALL WORK FOR THE ABOVE QUESTION ABOVE THIS CELL\n",
        "# THIS UNALTERABLE CELL CONTAINS HIDDEN TESTS\n",
        "\n",
        "# dt should be a decision tree regressor\n",
        "assert type(dt) == DecisionTreeRegressor\n"
      ]
    },
    {
      "cell_type": "markdown",
      "metadata": {
        "deletable": false,
        "editable": false,
        "nbgrader": {
          "cell_type": "markdown",
          "checksum": "561b10bc70f8e8e203c8f3339cc1fccf",
          "grade": false,
          "grade_id": "5744bc1e50417bfa6dd81742aa693b96",
          "locked": true,
          "schema_version": 3,
          "solution": false,
          "task": false
        },
        "id": "6UwthSFEG950"
      },
      "source": [
        "### 4) That score looks good, but are we overfitting? Obtain the cross-validated coefficient of determination (r2 score) of the predictions of `dt` on the training data\n",
        "\n",
        "You can use the default `cv` value of 5, and you do not need to specify a custom scorer, since r2 is the default for a `DecisionTreeRegressor`\n",
        "\n",
        "You will need to import the relevant code from scikit-learn\n",
        "\n",
        "Assign your answer to the variable `dt_cv`"
      ]
    },
    {
      "cell_type": "code",
      "execution_count": null,
      "metadata": {
        "deletable": false,
        "nbgrader": {
          "cell_type": "code",
          "checksum": "dbd3d81296710c0e8631f6a87d2d2b19",
          "grade": false,
          "grade_id": "f029a5f5197e376c5c4d067faf83d300",
          "locked": false,
          "schema_version": 3,
          "solution": true,
          "task": false
        },
        "id": "Dfqll6WQG951",
        "outputId": "17830b39-7185-4890-876c-2bb9ae5ef5b2"
      },
      "outputs": [
        {
          "data": {
            "text/plain": [
              "array([0.9071056 , 0.91135449, 0.91726215, 0.90454216, 0.91480844])"
            ]
          },
          "execution_count": 12,
          "metadata": {},
          "output_type": "execute_result"
        }
      ],
      "source": [
        "# Replace None with appropriate code\n",
        "\n",
        "# Import the relevant function\n",
        "from sklearn.model_selection import cross_val_score\n",
        "\n",
        "# Assign the cross validated score to dt_cv\n",
        "dt_cv = cross_val_score(dt, X_train, y_train, cv=5)\n",
        "\n",
        "# YOUR CODE HERE\n",
        "#raise NotImplementedError()\n",
        "dt_cv"
      ]
    },
    {
      "cell_type": "code",
      "execution_count": null,
      "metadata": {
        "deletable": false,
        "editable": false,
        "nbgrader": {
          "cell_type": "code",
          "checksum": "db440d79e68977c3a9c023ed64646b06",
          "grade": true,
          "grade_id": "b6f7124b3dbeec9dc9dedf01a4cef54e",
          "locked": true,
          "points": 0.5,
          "schema_version": 3,
          "solution": false,
          "task": false
        },
        "id": "6BfhYd_4G951"
      },
      "outputs": [],
      "source": [
        "# PUT ALL WORK FOR THE ABOVE QUESTION ABOVE THIS CELL\n",
        "# THIS UNALTERABLE CELL CONTAINS HIDDEN TESTS\n",
        "\n",
        "# dt_cv should be a NumPy array\n",
        "assert type(dt_cv) == np.ndarray\n",
        "# there should be 5 scores in dt_cv\n",
        "assert len(dt_cv) == 5\n"
      ]
    },
    {
      "cell_type": "markdown",
      "metadata": {
        "deletable": false,
        "editable": false,
        "nbgrader": {
          "cell_type": "markdown",
          "checksum": "f60676749d0a3d01a9ee39a919eae28a",
          "grade": false,
          "grade_id": "6eeadfaa9ac6a6f0bee921e180021d29",
          "locked": true,
          "schema_version": 3,
          "solution": false,
          "task": false
        },
        "id": "Hiycn-5fG952"
      },
      "source": [
        "### Hyperparameter Tuning of Decision Trees for Regression"
      ]
    },
    {
      "cell_type": "markdown",
      "metadata": {
        "deletable": false,
        "editable": false,
        "nbgrader": {
          "cell_type": "markdown",
          "checksum": "2c2b0cb8722bd5d6d7714bccf3cf26df",
          "grade": false,
          "grade_id": "9d24ef61ce500e76421d06948d486fbc",
          "locked": true,
          "schema_version": 3,
          "solution": false,
          "task": false
        },
        "id": "o-zIJCjfG952"
      },
      "source": [
        "### 5) Create a second decision tree model, this time with the following hyperparameters specified:\n",
        " - `random_state=1`\n",
        " - `max_depth=5`\n",
        "\n",
        "### Fit it to the training data\n",
        "\n",
        "Assign the new model to the variable `dt_tuned`"
      ]
    },
    {
      "cell_type": "code",
      "execution_count": null,
      "metadata": {
        "deletable": false,
        "nbgrader": {
          "cell_type": "code",
          "checksum": "cba5e6a7c8017b9213f165891324b18d",
          "grade": false,
          "grade_id": "92bf6328b83bcf32a2852fb7800e594f",
          "locked": false,
          "schema_version": 3,
          "solution": true,
          "task": false
        },
        "id": "kEK0jF74G952",
        "outputId": "4d399c06-8407-4ae9-e9d3-887ccfd2ed50"
      },
      "outputs": [
        {
          "data": {
            "text/plain": [
              "0.9365685127196766"
            ]
          },
          "execution_count": 14,
          "metadata": {},
          "output_type": "execute_result"
        }
      ],
      "source": [
        "# Replace None with appropriate code\n",
        "\n",
        "# Create a second decision tree model\n",
        "dt_tuned = DecisionTreeRegressor(random_state=1, max_depth=5)\n",
        "\n",
        "# Fit the new model on the training data\n",
        "dt_tuned.fit(X_train, y_train)\n",
        "\n",
        "# YOUR CODE HERE\n",
        "#raise NotImplementedError()\n",
        "\n",
        "# Testing out the model's r2 score on the training data overall\n",
        "dt_tuned_train_score = dt_tuned.score(X_train, y_train)\n",
        "dt_tuned_train_score"
      ]
    },
    {
      "cell_type": "code",
      "execution_count": null,
      "metadata": {
        "deletable": false,
        "editable": false,
        "nbgrader": {
          "cell_type": "code",
          "checksum": "d0cc5b159906d0bc40847539a495a003",
          "grade": true,
          "grade_id": "29b36b6337380071c558d458823a426a",
          "locked": true,
          "points": 0.5,
          "schema_version": 3,
          "solution": false,
          "task": false
        },
        "id": "cHO_CFigG953"
      },
      "outputs": [],
      "source": [
        "# PUT ALL WORK FOR THE ABOVE QUESTION ABOVE THIS CELL\n",
        "# THIS UNALTERABLE CELL CONTAINS HIDDEN TESTS\n",
        "\n",
        "# dt_tuned sould be a DecisionTreeRegressor\n",
        "assert type(dt_tuned) == DecisionTreeRegressor\n"
      ]
    },
    {
      "cell_type": "markdown",
      "metadata": {
        "deletable": false,
        "editable": false,
        "nbgrader": {
          "cell_type": "markdown",
          "checksum": "3b2fcc91b5442d5359d16441772e087c",
          "grade": false,
          "grade_id": "71437920993997cd46b68b01f49f6bb6",
          "locked": true,
          "schema_version": 3,
          "solution": false,
          "task": false
        },
        "id": "mqmq75pfG953"
      },
      "source": [
        "### 6) Now the score on the training data overall is worse, but how does this generalize to unseen data? Obtain the cross-validated coefficient of determination (r2 score) of the predictions of `dt_tuned` on the training data\n",
        "\n",
        "Use the same arguments as the previous cross validation\n",
        "\n",
        "Assign your answer to the variable `dt_tuned_cv`"
      ]
    },
    {
      "cell_type": "code",
      "execution_count": null,
      "metadata": {
        "deletable": false,
        "nbgrader": {
          "cell_type": "code",
          "checksum": "8489f39c14864d44cfc15d9f804088de",
          "grade": false,
          "grade_id": "ffea576577891e8a5cb4df641a1697d4",
          "locked": false,
          "schema_version": 3,
          "solution": true,
          "task": false
        },
        "id": "vxOw9bwFG954",
        "outputId": "6d3b73cd-92ab-4fdd-9bb3-9988cc811480"
      },
      "outputs": [
        {
          "data": {
            "text/plain": [
              "array([0.93172053, 0.93093166, 0.93536142, 0.91836297, 0.92773155])"
            ]
          },
          "execution_count": 18,
          "metadata": {},
          "output_type": "execute_result"
        }
      ],
      "source": [
        "# Replace None with appropriate code\n",
        "dt_tuned_cv = cross_val_score(dt_tuned, X_train, y_train, cv=5)\n",
        "\n",
        "# YOUR CODE HERE\n",
        "#raise NotImplementedError()\n",
        "dt_tuned_cv"
      ]
    },
    {
      "cell_type": "code",
      "execution_count": null,
      "metadata": {
        "deletable": false,
        "editable": false,
        "nbgrader": {
          "cell_type": "code",
          "checksum": "1987284316b5744db77634dce8654fa5",
          "grade": true,
          "grade_id": "028ded720a13491278d805d468432521",
          "locked": true,
          "points": 0.5,
          "schema_version": 3,
          "solution": false,
          "task": false
        },
        "id": "LUfeQEO9G954"
      },
      "outputs": [],
      "source": [
        "# PUT ALL WORK FOR THE ABOVE QUESTION ABOVE THIS CELL\n",
        "# THIS UNALTERABLE CELL CONTAINS HIDDEN TESTS\n",
        "\n",
        "# dt_tuned_cv should be a NumPy array\n",
        "assert type(dt_tuned_cv) == np.ndarray\n",
        "# there should be 5 scores in dt_tuned_cv\n",
        "assert len(dt_tuned_cv) == 5\n"
      ]
    },
    {
      "cell_type": "code",
      "execution_count": null,
      "metadata": {
        "deletable": false,
        "editable": false,
        "nbgrader": {
          "cell_type": "code",
          "checksum": "ede4d6c09dadab09d3becae6eb6b2d2e",
          "grade": false,
          "grade_id": "cell-a60ea4148c5f92ce",
          "locked": true,
          "schema_version": 3,
          "solution": false,
          "task": false
        },
        "id": "os3fBeYyG954",
        "outputId": "b4f92887-c150-4712-8390-a6c9062e1f7b"
      },
      "outputs": [
        {
          "name": "stdout",
          "output_type": "stream",
          "text": [
            "Train score for dt:       1.0\n",
            "Train score for dt_tuned: 0.9365685127196766\n",
            "\n",
            "CV scores for dt:       [0.9071056  0.91135449 0.91726215 0.90454216 0.91480844]\n",
            "CV scores for dt_tuned: [0.93172053 0.93093166 0.93536142 0.91836297 0.92773155]\n"
          ]
        }
      ],
      "source": [
        "# Run this cell without changes:\n",
        "print(\"Train score for dt:      \", dt_train_score)\n",
        "print(\"Train score for dt_tuned:\", dt_tuned_train_score)\n",
        "print()\n",
        "print(\"CV scores for dt:      \", dt_cv)\n",
        "print(\"CV scores for dt_tuned:\", dt_tuned_cv)"
      ]
    },
    {
      "cell_type": "markdown",
      "metadata": {
        "deletable": false,
        "editable": false,
        "nbgrader": {
          "cell_type": "markdown",
          "checksum": "82f185a5586cc7ecb60af940c49d0cca",
          "grade": false,
          "grade_id": "cell-6f918d42a2a505a5",
          "locked": true,
          "schema_version": 3,
          "solution": false,
          "task": false
        },
        "id": "Bgvp2ziAG955"
      },
      "source": [
        "### 7) Assuming you want a generalizable model that will perform well on future, unseen data, which model has better performance?  \n",
        "\n",
        "Assign `ans7` to either `\"dt\"` or `\"dt_tuned\"` to represent which model is best."
      ]
    },
    {
      "cell_type": "code",
      "execution_count": null,
      "metadata": {
        "deletable": false,
        "nbgrader": {
          "cell_type": "code",
          "checksum": "685fcb669e0e1b1a773ede74896fd216",
          "grade": false,
          "grade_id": "cell-feffc934dc6415f8",
          "locked": false,
          "schema_version": 3,
          "solution": true,
          "task": false
        },
        "id": "hll5O2HIG955",
        "outputId": "7214b31c-c201-4dde-d971-38b8b63fff19"
      },
      "outputs": [
        {
          "data": {
            "text/plain": [
              "'dt_tuned'"
            ]
          },
          "execution_count": 21,
          "metadata": {},
          "output_type": "execute_result"
        }
      ],
      "source": [
        "ans7 = \"dt_tuned\"\n",
        "# YOUR CODE HERE\n",
        "#raise NotImplementedError()\n",
        "ans7"
      ]
    },
    {
      "cell_type": "code",
      "execution_count": null,
      "metadata": {
        "deletable": false,
        "editable": false,
        "nbgrader": {
          "cell_type": "code",
          "checksum": "1aa0cf79a3c29d423dce61a8f561ffe8",
          "grade": true,
          "grade_id": "5305c07427b2a67d7dcb6cb40f83785c",
          "locked": true,
          "points": 1,
          "schema_version": 3,
          "solution": false,
          "task": false
        },
        "id": "EEF_FT3tG955"
      },
      "outputs": [],
      "source": [
        "assert type(ans7) == str\n",
        "assert ans7 in ['dt', 'dt_tuned']"
      ]
    }
  ],
  "metadata": {
    "kernelspec": {
      "display_name": "Python 3 (ipykernel)",
      "language": "python",
      "name": "python3"
    },
    "language_info": {
      "codemirror_mode": {
        "name": "ipython",
        "version": 3
      },
      "file_extension": ".py",
      "mimetype": "text/x-python",
      "name": "python",
      "nbconvert_exporter": "python",
      "pygments_lexer": "ipython3",
      "version": "3.9.13"
    },
    "toc": {
      "base_numbering": 1,
      "nav_menu": {},
      "number_sections": true,
      "sideBar": true,
      "skip_h1_title": false,
      "title_cell": "Table of Contents",
      "title_sidebar": "Contents",
      "toc_cell": false,
      "toc_position": {},
      "toc_section_display": true,
      "toc_window_display": false
    },
    "vscode": {
      "interpreter": {
        "hash": "9c94107dbb6f31e400bb19858c9768759ef7c8600537d1d879eb7d5b058e9ee3"
      }
    },
    "colab": {
      "provenance": [],
      "include_colab_link": true
    }
  },
  "nbformat": 4,
  "nbformat_minor": 0
}