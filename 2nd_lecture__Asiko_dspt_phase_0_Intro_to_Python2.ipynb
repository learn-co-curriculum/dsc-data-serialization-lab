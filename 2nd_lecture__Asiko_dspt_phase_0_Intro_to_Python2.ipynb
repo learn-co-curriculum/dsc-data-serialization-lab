{
  "nbformat": 4,
  "nbformat_minor": 0,
  "metadata": {
    "colab": {
      "provenance": [],
      "include_colab_link": true
    },
    "kernelspec": {
      "name": "python3",
      "display_name": "Python 3"
    },
    "language_info": {
      "name": "python"
    }
  },
  "cells": [
    {
      "cell_type": "markdown",
      "metadata": {
        "id": "view-in-github",
        "colab_type": "text"
      },
      "source": [
        "<a href=\"https://colab.research.google.com/github/sgathai/dsc-data-serialization-lab/blob/master/2nd_lecture__Asiko_dspt_phase_0_Intro_to_Python2.ipynb\" target=\"_parent\"><img src=\"https://colab.research.google.com/assets/colab-badge.svg\" alt=\"Open In Colab\"/></a>"
      ]
    },
    {
      "cell_type": "markdown",
      "source": [
        "# Introduction to Python 2\n",
        "\n",
        "**Overview of lecture**\n",
        "\n",
        "1. Looping  \n",
        "  i. For loops  \n",
        "  ii. while loops  \n",
        "  iii. Nested loops  \n",
        "  iv. Break and continue  \n",
        "\n",
        "2. Functions\n",
        "3. User input and output\n"
      ],
      "metadata": {
        "id": "UbUV5rPKR8Oz"
      }
    },
    {
      "cell_type": "markdown",
      "source": [
        "# Looping\n",
        "\n",
        "Loops are used to repeatedly execute a block of code until a certain condition is met.\n",
        "\n",
        "Python provides two types of loops: **for** loops and **while** loops."
      ],
      "metadata": {
        "id": "4Fgw2nuo052E"
      }
    },
    {
      "cell_type": "markdown",
      "source": [
        "## For loops\n",
        "\n",
        "**for** loops iterate over a sequence (such as a list, tuple, or string) or any other iterable object."
      ],
      "metadata": {
        "id": "awzIu14c2Q89"
      }
    },
    {
      "cell_type": "code",
      "source": [
        "# Iterating over a list\n",
        "fruits = ['apple', 'banana', 'cherry']\n",
        "for fruit in fruits:\n",
        "    print(fruit)\n",
        "\n",
        "# Iterating over a string\n",
        "string = \"Hello\"\n",
        "for char in string:\n",
        "    print(char)\n",
        "\n",
        "# Iterating over a range of numbers\n",
        "for num in range(1, 5):\n",
        "    print(num)"
      ],
      "metadata": {
        "id": "gv4q6A712Qbw",
        "colab": {
          "base_uri": "https://localhost:8080/"
        },
        "outputId": "b0fd8977-99ca-49cc-e195-1fafed6480dd"
      },
      "execution_count": null,
      "outputs": [
        {
          "output_type": "stream",
          "name": "stdout",
          "text": [
            "apple\n",
            "banana\n",
            "cherry\n",
            "H\n",
            "e\n",
            "l\n",
            "l\n",
            "o\n",
            "1\n",
            "2\n",
            "3\n",
            "4\n"
          ]
        }
      ]
    },
    {
      "cell_type": "code",
      "source": [
        "?range"
      ],
      "metadata": {
        "id": "Z4TGV6F8peyp"
      },
      "execution_count": null,
      "outputs": []
    },
    {
      "cell_type": "code",
      "source": [
        "j=range(1,11)\n",
        "for x in j:\n",
        "  print(x)"
      ],
      "metadata": {
        "colab": {
          "base_uri": "https://localhost:8080/"
        },
        "id": "Oi5sTQpqrhO5",
        "outputId": "e2cef9c0-6925-4dba-ccdb-1a77d01042db"
      },
      "execution_count": null,
      "outputs": [
        {
          "output_type": "stream",
          "name": "stdout",
          "text": [
            "1\n",
            "2\n",
            "3\n",
            "4\n",
            "5\n",
            "6\n",
            "7\n",
            "8\n",
            "9\n",
            "10\n"
          ]
        }
      ]
    },
    {
      "cell_type": "markdown",
      "source": [
        "### Exercise:\n",
        "\n",
        "Using a for loop:\n",
        "\n",
        "*   Print 1 to 10\n",
        "\n",
        "\n",
        "\n"
      ],
      "metadata": {
        "id": "h32KdIfgwfvw"
      }
    },
    {
      "cell_type": "markdown",
      "source": [
        "## While loops\n",
        "\n",
        "**while** loops execute a block of code as long as a certain condition is true."
      ],
      "metadata": {
        "id": "0RdKjdfM27ps"
      }
    },
    {
      "cell_type": "code",
      "source": [
        "count = 0\n",
        "while count < 5:\n",
        "    print(count)\n",
        "    count += 1 # EXTREMELY IMPORTANT"
      ],
      "metadata": {
        "colab": {
          "base_uri": "https://localhost:8080/"
        },
        "id": "dwEVtsN227Vh",
        "outputId": "a739c9a7-9246-45cf-fbf1-8f2f380e6d80"
      },
      "execution_count": null,
      "outputs": [
        {
          "output_type": "stream",
          "name": "stdout",
          "text": [
            "0\n",
            "1\n",
            "2\n",
            "3\n",
            "4\n"
          ]
        }
      ]
    },
    {
      "cell_type": "code",
      "source": [
        "count = 0\n",
        "count < 5"
      ],
      "metadata": {
        "colab": {
          "base_uri": "https://localhost:8080/"
        },
        "id": "rW3XtA11uFFU",
        "outputId": "4cd96859-8eea-47db-9fc4-d9d4a7b3abb7"
      },
      "execution_count": null,
      "outputs": [
        {
          "output_type": "execute_result",
          "data": {
            "text/plain": [
              "True"
            ]
          },
          "metadata": {},
          "execution_count": 18
        }
      ]
    },
    {
      "cell_type": "code",
      "source": [
        "x = True\n",
        "count = 0\n",
        "while x:\n",
        "  count += 1\n",
        "  print('I am happy')\n",
        "  if count == 5:\n",
        "    x = False"
      ],
      "metadata": {
        "colab": {
          "base_uri": "https://localhost:8080/"
        },
        "id": "87RCYiwOshSh",
        "outputId": "011edfff-fa1f-4092-cdf9-fb9c336b0001"
      },
      "execution_count": null,
      "outputs": [
        {
          "output_type": "stream",
          "name": "stdout",
          "text": [
            "I am happy\n",
            "I am happy\n",
            "I am happy\n",
            "I am happy\n",
            "I am happy\n"
          ]
        }
      ]
    },
    {
      "cell_type": "markdown",
      "source": [
        "### Exercise:\n",
        "\n",
        "Calculate the sum of all even numbers from 1 to 20 using a while loop.\n",
        "\n",
        "\n",
        "\n"
      ],
      "metadata": {
        "id": "nHdY5tWu5ZRS"
      }
    },
    {
      "cell_type": "code",
      "source": [
        "2+4+6+8+10+12+14+16+18+20"
      ],
      "metadata": {
        "colab": {
          "base_uri": "https://localhost:8080/"
        },
        "id": "Itb3e6OfvPxH",
        "outputId": "171ceb95-a18a-4144-e464-1fd02df685c3"
      },
      "execution_count": null,
      "outputs": [
        {
          "output_type": "execute_result",
          "data": {
            "text/plain": [
              "110"
            ]
          },
          "metadata": {},
          "execution_count": 19
        }
      ]
    },
    {
      "cell_type": "code",
      "source": [
        "total = 0\n",
        "num = 2\n",
        "\n",
        "while num <= 20:\n",
        "    total += num\n",
        "    num += 2\n",
        "\n",
        "print(total)"
      ],
      "metadata": {
        "colab": {
          "base_uri": "https://localhost:8080/"
        },
        "id": "Hv7hn3BsvZSI",
        "outputId": "bcb081a8-8b28-47e5-eda4-8104d2276a42"
      },
      "execution_count": null,
      "outputs": [
        {
          "output_type": "stream",
          "name": "stdout",
          "text": [
            "110\n"
          ]
        }
      ]
    },
    {
      "cell_type": "code",
      "source": [
        "num = 1\n",
        "total_sum = 0\n",
        "\n",
        "while num <= 20:\n",
        "    if num % 2 == 0:\n",
        "        total_sum += num\n",
        "    num += 1\n",
        "print(total_sum)"
      ],
      "metadata": {
        "colab": {
          "base_uri": "https://localhost:8080/"
        },
        "id": "Al2pEMz7vvQu",
        "outputId": "467ba8b2-f31b-415d-cf76-4773ae632f95"
      },
      "execution_count": null,
      "outputs": [
        {
          "output_type": "stream",
          "name": "stdout",
          "text": [
            "110\n"
          ]
        }
      ]
    },
    {
      "cell_type": "code",
      "source": [
        "12 % 2"
      ],
      "metadata": {
        "colab": {
          "base_uri": "https://localhost:8080/"
        },
        "id": "NOW6i89zw-GT",
        "outputId": "957608db-5bcd-4687-9a98-8cdcb479c38d"
      },
      "execution_count": null,
      "outputs": [
        {
          "output_type": "execute_result",
          "data": {
            "text/plain": [
              "0"
            ]
          },
          "metadata": {},
          "execution_count": 25
        }
      ]
    },
    {
      "cell_type": "code",
      "source": [
        "count=0\n",
        "sum = 0\n",
        "\n",
        "while count<20:\n",
        "  count +=1\n",
        "  if count % 2 == 0:\n",
        "    sum += count\n",
        "print(sum)"
      ],
      "metadata": {
        "colab": {
          "base_uri": "https://localhost:8080/"
        },
        "id": "ZbK5VygjwpEs",
        "outputId": "61903477-a355-45b0-8e26-a275322a46ef"
      },
      "execution_count": null,
      "outputs": [
        {
          "output_type": "stream",
          "name": "stdout",
          "text": [
            "110\n"
          ]
        }
      ]
    },
    {
      "cell_type": "markdown",
      "source": [
        "## Nested Loops\n",
        "\n",
        "Nested loops are loops within loops.\n",
        "The inner loop is executed completely for each iteration of the outer loop."
      ],
      "metadata": {
        "id": "8gBDm3ky3Nhe"
      }
    },
    {
      "cell_type": "code",
      "source": [
        "?range"
      ],
      "metadata": {
        "id": "kGZ_f0rgzZuN"
      },
      "execution_count": null,
      "outputs": []
    },
    {
      "cell_type": "code",
      "source": [
        "for i in range(1, 4): # Outer loop : for each student\n",
        "    for j in range(1, 4): # Inner loop : give 3 biscuits\n",
        "        print(i, j)"
      ],
      "metadata": {
        "id": "uSLRGVqm3Msc",
        "colab": {
          "base_uri": "https://localhost:8080/"
        },
        "outputId": "2e9c8cda-ee42-4e31-d66b-84db406b932f"
      },
      "execution_count": null,
      "outputs": [
        {
          "output_type": "stream",
          "name": "stdout",
          "text": [
            "1 1\n",
            "1 2\n",
            "1 3\n",
            "2 1\n",
            "2 2\n",
            "2 3\n",
            "3 1\n",
            "3 2\n",
            "3 3\n"
          ]
        }
      ]
    },
    {
      "cell_type": "markdown",
      "source": [
        "### Exercise:\n",
        "\n",
        "Print a square of asterisks in a nested loop.\n",
        "\n",
        "![link text](data:image/png;base64,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)\n",
        "\n"
      ],
      "metadata": {
        "id": "NbzkR2hQ5tm_"
      }
    },
    {
      "cell_type": "code",
      "source": [
        "outer loop - row\n",
        "inner loop - column, esp print '*'"
      ],
      "metadata": {
        "id": "jDlY1in70wDA"
      },
      "execution_count": null,
      "outputs": []
    },
    {
      "cell_type": "code",
      "source": [
        "for i in range(1,4):\n",
        "  print(i, end = ' ')"
      ],
      "metadata": {
        "colab": {
          "base_uri": "https://localhost:8080/"
        },
        "id": "I4OtV_q91_x3",
        "outputId": "1768c746-ea62-4d81-d93d-ac22fe7e6476"
      },
      "execution_count": null,
      "outputs": [
        {
          "output_type": "stream",
          "name": "stdout",
          "text": [
            "1 2 3 "
          ]
        }
      ]
    },
    {
      "cell_type": "code",
      "source": [
        "total = 0\n",
        "\n",
        "while total <=5:\n",
        "  number = 0\n",
        "  while number <=5:\n",
        "    print (\"*\" ,end = ' ')\n",
        "    number += 1\n",
        "  print()\n",
        "  total += 1"
      ],
      "metadata": {
        "colab": {
          "base_uri": "https://localhost:8080/"
        },
        "id": "Da6YFdef2lsm",
        "outputId": "2372b4ad-09e9-4eaa-81ce-65e51ded9625"
      },
      "execution_count": null,
      "outputs": [
        {
          "output_type": "stream",
          "name": "stdout",
          "text": [
            "* * * * * * \n",
            "* * * * * * \n",
            "* * * * * * \n",
            "* * * * * * \n",
            "* * * * * * \n",
            "* * * * * * \n"
          ]
        }
      ]
    },
    {
      "cell_type": "code",
      "source": [
        "a=b=c=d=e=f=\"*\"\n",
        "for i in 6* a:\n",
        "    for j in b:\n",
        "        for k in c:\n",
        "            for l in d:\n",
        "                for m in e:\n",
        "                    for n in f:\n",
        "                        print(i,j,k,l,m,n)"
      ],
      "metadata": {
        "colab": {
          "base_uri": "https://localhost:8080/"
        },
        "id": "Ac30wbDf4mMw",
        "outputId": "3a30f48e-5ac4-4eeb-d435-ebeef6bffd33"
      },
      "execution_count": null,
      "outputs": [
        {
          "output_type": "stream",
          "name": "stdout",
          "text": [
            "* * * * * *\n",
            "* * * * * *\n",
            "* * * * * *\n",
            "* * * * * *\n",
            "* * * * * *\n",
            "* * * * * *\n"
          ]
        }
      ]
    },
    {
      "cell_type": "code",
      "source": [
        "  for j in range(1,6): # correct\n",
        "    print(i,j,end=\"*\")"
      ],
      "metadata": {
        "colab": {
          "base_uri": "https://localhost:8080/"
        },
        "id": "trIshqrG3Dgx",
        "outputId": "bdb270a0-8307-45ee-98e6-6ddefc144571"
      },
      "execution_count": null,
      "outputs": [
        {
          "output_type": "stream",
          "name": "stdout",
          "text": [
            "1 1*1 2*1 3*1 4*1 5*2 1*2 2*2 3*2 4*2 5*3 1*3 2*3 3*3 4*3 5*4 1*4 2*4 3*4 4*4 5*"
          ]
        }
      ]
    },
    {
      "cell_type": "code",
      "source": [
        "for i in range (1,7):\n",
        "  for j in range (1,8):\n",
        "    print ('*', end=' ')\n",
        "  print()"
      ],
      "metadata": {
        "colab": {
          "base_uri": "https://localhost:8080/"
        },
        "id": "sc4SkPjy5ctZ",
        "outputId": "13ec18f6-f2f4-44b3-b2aa-b5e6d42f29c8"
      },
      "execution_count": null,
      "outputs": [
        {
          "output_type": "stream",
          "name": "stdout",
          "text": [
            "* * * * * * * \n",
            "* * * * * * * \n",
            "* * * * * * * \n",
            "* * * * * * * \n",
            "* * * * * * * \n",
            "* * * * * * * \n"
          ]
        }
      ]
    },
    {
      "cell_type": "code",
      "source": [
        "for i in range (1, 3):\n",
        "  for j in range (1,4):\n",
        "    print ('*','*','*','*')"
      ],
      "metadata": {
        "colab": {
          "base_uri": "https://localhost:8080/"
        },
        "id": "xJ2XhLEX51iY",
        "outputId": "a6b53817-4a4e-49d2-b0ec-2cc7571e8ac6"
      },
      "execution_count": null,
      "outputs": [
        {
          "output_type": "stream",
          "name": "stdout",
          "text": [
            "* * * *\n",
            "* * * *\n",
            "* * * *\n",
            "* * * *\n",
            "* * * *\n",
            "* * * *\n"
          ]
        }
      ]
    },
    {
      "cell_type": "code",
      "source": [
        "for x in range (1,7):\n",
        "  for y in range(1,8):\n",
        "    print( end = ' * ' )\n",
        "  print('\\n')\n"
      ],
      "metadata": {
        "colab": {
          "base_uri": "https://localhost:8080/"
        },
        "id": "xlHqdlxv7NZO",
        "outputId": "d7469c3d-632e-4442-8871-e9c533491732"
      },
      "execution_count": null,
      "outputs": [
        {
          "output_type": "stream",
          "name": "stdout",
          "text": [
            " *  *  *  *  *  *  * \n",
            "\n",
            " *  *  *  *  *  *  * \n",
            "\n",
            " *  *  *  *  *  *  * \n",
            "\n",
            " *  *  *  *  *  *  * \n",
            "\n",
            " *  *  *  *  *  *  * \n",
            "\n",
            " *  *  *  *  *  *  * \n",
            "\n"
          ]
        }
      ]
    },
    {
      "cell_type": "markdown",
      "source": [
        "## Break and Continue\n",
        "\n",
        "**Break** is used to exit a loop prematurely, while **continue** is used to skip the rest of the current iteration and move to the next one."
      ],
      "metadata": {
        "id": "zvPLZ_1A3d36"
      }
    },
    {
      "cell_type": "code",
      "source": [
        "# Break\n",
        "print('Breaking')\n",
        "for i in range(1, 6):\n",
        "    if i == 3:\n",
        "        break\n",
        "    print(i)\n",
        "\n",
        "\n",
        "# Continue\n",
        "print('Continuing')\n",
        "for i in range(1, 6):\n",
        "    if i == 3:\n",
        "        continue\n",
        "    print(i)"
      ],
      "metadata": {
        "id": "fDv6DpbZ011x",
        "colab": {
          "base_uri": "https://localhost:8080/"
        },
        "outputId": "3bbef779-69af-4fa7-ffe3-12230fd6d9bc"
      },
      "execution_count": null,
      "outputs": [
        {
          "output_type": "stream",
          "name": "stdout",
          "text": [
            "Breaking\n",
            "1\n",
            "2\n",
            "3\n",
            "Continuing\n",
            "1\n",
            "2\n",
            "4\n",
            "5\n"
          ]
        }
      ]
    },
    {
      "cell_type": "markdown",
      "source": [
        "### Exercise:\n",
        "\n",
        "Print numbers from 1 to 10, but skip printing the number 7 using the continue statement."
      ],
      "metadata": {
        "id": "4ikhU80J6dbh"
      }
    },
    {
      "cell_type": "markdown",
      "source": [
        "# Function\n",
        "\n",
        "Functions in Python are blocks of reusable code that perform a specific task. They allow you to break down complex programs into smaller, more manageable parts."
      ],
      "metadata": {
        "id": "ii0uUTLe3zNq"
      }
    },
    {
      "cell_type": "code",
      "source": [
        "# Example\n",
        "def greet():\n",
        "    print(\"Hello, welcome!\")\n",
        "    return 'DSFPT04'\n",
        "\n",
        "greet()  # Output: Hello, welcome!"
      ],
      "metadata": {
        "colab": {
          "base_uri": "https://localhost:8080/"
        },
        "id": "dUc8VSj635H_",
        "outputId": "ebc595b6-aa5e-4c31-e54a-5e67ffddf686"
      },
      "execution_count": null,
      "outputs": [
        {
          "output_type": "stream",
          "name": "stdout",
          "text": [
            "Hello, welcome!\n"
          ]
        }
      ]
    },
    {
      "cell_type": "code",
      "source": [
        "x = greet()"
      ],
      "metadata": {
        "colab": {
          "base_uri": "https://localhost:8080/"
        },
        "id": "IZCEyWtJiRuC",
        "outputId": "f8c58f12-5381-407c-be4c-0d9660b37e6d"
      },
      "execution_count": null,
      "outputs": [
        {
          "output_type": "stream",
          "name": "stdout",
          "text": [
            "Hello, welcome!\n"
          ]
        }
      ]
    },
    {
      "cell_type": "code",
      "source": [
        "x"
      ],
      "metadata": {
        "id": "cUUABKgrjNu6"
      },
      "execution_count": null,
      "outputs": []
    },
    {
      "cell_type": "markdown",
      "source": [
        "Functions can take parameters (inputs) and return a value (output)."
      ],
      "metadata": {
        "id": "yVEJDRo_4BBh"
      }
    },
    {
      "cell_type": "code",
      "source": [
        "def square(x=2):\n",
        "    return 5 ** x\n",
        "\n",
        "result = square(5)\n",
        "result2 = square(7)\n",
        "print(result)  # Output: 25\n",
        "print(result2)"
      ],
      "metadata": {
        "colab": {
          "base_uri": "https://localhost:8080/"
        },
        "id": "WUGFFN4z3-dZ",
        "outputId": "ee43f005-3a72-4c7d-9e04-49f81fbae799"
      },
      "execution_count": null,
      "outputs": [
        {
          "output_type": "stream",
          "name": "stdout",
          "text": [
            "3125\n",
            "78125\n"
          ]
        }
      ]
    },
    {
      "cell_type": "code",
      "source": [
        "def sos():\n",
        "  return square(n)"
      ],
      "metadata": {
        "id": "CFm__AL0m80L"
      },
      "execution_count": null,
      "outputs": []
    },
    {
      "cell_type": "code",
      "source": [
        "r1 = sos(5)\n",
        "r1"
      ],
      "metadata": {
        "colab": {
          "base_uri": "https://localhost:8080/"
        },
        "id": "16MHFh3ik7E9",
        "outputId": "ee4a92e3-477d-4c83-9645-2e252bce684f"
      },
      "execution_count": null,
      "outputs": [
        {
          "output_type": "execute_result",
          "data": {
            "text/plain": [
              "25"
            ]
          },
          "metadata": {},
          "execution_count": 25
        }
      ]
    },
    {
      "cell_type": "code",
      "source": [
        "r1"
      ],
      "metadata": {
        "colab": {
          "base_uri": "https://localhost:8080/"
        },
        "id": "TqL_8eVfnrlU",
        "outputId": "0adfbafc-4594-4407-a79e-0015bc6b50e9"
      },
      "execution_count": null,
      "outputs": [
        {
          "output_type": "execute_result",
          "data": {
            "text/plain": [
              "25"
            ]
          },
          "metadata": {},
          "execution_count": 26
        }
      ]
    },
    {
      "cell_type": "code",
      "source": [
        "?type"
      ],
      "metadata": {
        "id": "Oleb-YQ1nvGY"
      },
      "execution_count": null,
      "outputs": []
    },
    {
      "cell_type": "markdown",
      "source": [
        "# User Input and Output\n",
        "\n",
        "User input can be obtained using the input() function, while output can be displayed using the print() function."
      ],
      "metadata": {
        "id": "ag051QOT4LFX"
      }
    },
    {
      "cell_type": "code",
      "source": [
        "name = input(\"Enter your name: \")\n",
        "print(\"Hello, \" + name + \"!\")\n",
        "n = name + 1\n",
        "\n",
        "age = input(\"Enter your age: \")\n",
        "print(\"You are \" + age + \" years old.\")"
      ],
      "metadata": {
        "id": "6U-r6tCf4EQ1",
        "colab": {
          "base_uri": "https://localhost:8080/"
        },
        "outputId": "0fab1e12-b6a5-407d-b5b3-d5977ece951c"
      },
      "execution_count": null,
      "outputs": [
        {
          "output_type": "stream",
          "name": "stdout",
          "text": [
            "Enter your name: ecv\n",
            "Hello, ecv!\n",
            "Enter your age: 39\n",
            "You are 39 years old.\n"
          ]
        }
      ]
    },
    {
      "cell_type": "markdown",
      "source": [
        "### Exercise:\n",
        "\n",
        "Write a program that:\n",
        "1. takes two numbers as input from the user and\n",
        "2. performs addition, subtraction, multiplication, and division on them.   \n",
        "3. Display the results.\n",
        "\n",
        "\n",
        "\n"
      ],
      "metadata": {
        "id": "PeFupUUp5EDT"
      }
    },
    {
      "cell_type": "markdown",
      "source": [
        "# Example(putting all thing together):\n",
        "\n",
        "Write a function named print_squared_divisible_by_n(numbers) that takes\n",
        "1. Takes a user input of n\n",
        "2. Creates a list of numbers that run from 1 to numbers.\n",
        "3. The function should iterate over the numbers, square each number, and print the squared values that are divisible by n.\n",
        "\n",
        "\n",
        "\n",
        "\n"
      ],
      "metadata": {
        "id": "z0CqG30u4UXY"
      }
    },
    {
      "cell_type": "code",
      "source": [
        "ls = [i for i in range(1,11)]\n",
        "ls"
      ],
      "metadata": {
        "id": "nh7kFbr87ry4",
        "colab": {
          "base_uri": "https://localhost:8080/"
        },
        "outputId": "1b7afcbb-2b93-4240-f722-a7221c40d202"
      },
      "execution_count": null,
      "outputs": [
        {
          "output_type": "execute_result",
          "data": {
            "text/plain": [
              "[1, 2, 3, 4, 5, 6, 7, 8, 9, 10]"
            ]
          },
          "metadata": {},
          "execution_count": 35
        }
      ]
    },
    {
      "cell_type": "code",
      "source": [
        "def print_squared_divisible_by_n(numbers):\n",
        "  n = int(input('Enter a number: '))\n",
        "\n",
        "  for i in range(1,numbers+1):\n",
        "    sq = i ** 2\n",
        "    if sq % n == 0:\n",
        "      print(sq)"
      ],
      "metadata": {
        "id": "JOTZp_0_yKKP"
      },
      "execution_count": null,
      "outputs": []
    },
    {
      "cell_type": "code",
      "source": [
        "print_squared_divisible_by_n(10)"
      ],
      "metadata": {
        "colab": {
          "base_uri": "https://localhost:8080/"
        },
        "id": "pn0sor5Eznpp",
        "outputId": "ba2b7b28-5907-452d-8036-ede813e36ea6"
      },
      "execution_count": null,
      "outputs": [
        {
          "output_type": "stream",
          "name": "stdout",
          "text": [
            "Enter a number: 3\n",
            "9\n",
            "36\n",
            "81\n"
          ]
        }
      ]
    },
    {
      "cell_type": "code",
      "source": [],
      "metadata": {
        "id": "TnwLvJTpzsfi"
      },
      "execution_count": null,
      "outputs": []
    }
  ]
}