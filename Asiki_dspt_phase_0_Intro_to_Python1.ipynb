{
  "nbformat": 4,
  "nbformat_minor": 0,
  "metadata": {
    "colab": {
      "provenance": [],
      "include_colab_link": true
    },
    "kernelspec": {
      "name": "python3",
      "display_name": "Python 3"
    },
    "language_info": {
      "name": "python"
    }
  },
  "cells": [
    {
      "cell_type": "markdown",
      "metadata": {
        "id": "view-in-github",
        "colab_type": "text"
      },
      "source": [
        "<a href=\"https://colab.research.google.com/github/sgathai/dsc-data-serialization-lab/blob/master/Asiki_dspt_phase_0_Intro_to_Python1.ipynb\" target=\"_parent\"><img src=\"https://colab.research.google.com/assets/colab-badge.svg\" alt=\"Open In Colab\"/></a>"
      ]
    },
    {
      "cell_type": "markdown",
      "source": [
        "# Introduction to Python 1\n",
        "\n",
        "**Overview of lecture**\n",
        "\n",
        "1. Basic operations\n",
        "2. Datatypes\n",
        "3. Lists\n",
        "4. Dictionaries\n",
        "5. Operators(more on basic operations)\n",
        "6. Conditionals\n",
        "    \n",
        "Bonus: Errors and debugging"
      ],
      "metadata": {
        "id": "UbUV5rPKR8Oz"
      }
    },
    {
      "cell_type": "markdown",
      "source": [
        "## What is Python?\n",
        "\n",
        "Let's define **programming** first:  \n",
        "\n",
        "*  This is a particular way for us humans to give instructions to a computer to interpret, to calculate and to present things.\n",
        "\n",
        "**Python:**\n",
        "\n",
        "*  Python is a high-level, interpreted, interactive, and object-oriented scripting language.\n",
        "\n",
        "\n",
        "\n"
      ],
      "metadata": {
        "id": "KbDDZCZ2smAo"
      }
    },
    {
      "cell_type": "markdown",
      "source": [
        "## Basic operations (Python as a calculator)"
      ],
      "metadata": {
        "id": "aJIaLUXStkrY"
      }
    },
    {
      "cell_type": "code",
      "source": [
        "2+3"
      ],
      "metadata": {
        "colab": {
          "base_uri": "https://localhost:8080/"
        },
        "id": "n4_ElKUEUpUG",
        "outputId": "10e50be9-dfd1-4538-a837-c92cba68b792"
      },
      "execution_count": null,
      "outputs": [
        {
          "output_type": "execute_result",
          "data": {
            "text/plain": [
              "5"
            ]
          },
          "metadata": {},
          "execution_count": 4
        }
      ]
    },
    {
      "cell_type": "code",
      "source": [
        "round(5/7,2)"
      ],
      "metadata": {
        "colab": {
          "base_uri": "https://localhost:8080/"
        },
        "id": "mNMb3XN3U0oQ",
        "outputId": "e833c7b7-5bad-47ad-b7bd-e42ebc053e0e"
      },
      "execution_count": null,
      "outputs": [
        {
          "output_type": "execute_result",
          "data": {
            "text/plain": [
              "0.71"
            ]
          },
          "metadata": {},
          "execution_count": 17
        }
      ]
    },
    {
      "cell_type": "code",
      "source": [
        "?print"
      ],
      "metadata": {
        "id": "yuqG08G3YICI"
      },
      "execution_count": null,
      "outputs": []
    },
    {
      "cell_type": "code",
      "source": [
        "print(3+3)"
      ],
      "metadata": {
        "colab": {
          "base_uri": "https://localhost:8080/"
        },
        "id": "9U1i65DVY3b-",
        "outputId": "909908fd-3b59-4006-bd28-1e677be3f22f"
      },
      "execution_count": null,
      "outputs": [
        {
          "output_type": "stream",
          "name": "stdout",
          "text": [
            "6\n"
          ]
        }
      ]
    },
    {
      "cell_type": "code",
      "source": [
        "#@title\n",
        "# Addition\n",
        "print(2 + 2)  # Output: 4\n",
        "\n",
        "# Subtraction\n",
        "print(5 - 3)  # Output: 2\n",
        "\n",
        "# Multiplication\n",
        "print(3 * 3)  # Output: 9\n",
        "\n",
        "# Division\n",
        "print(10 / 2)  # Output: 5.0"
      ],
      "metadata": {
        "colab": {
          "base_uri": "https://localhost:8080/"
        },
        "id": "wrUQ4FNRrs9_",
        "outputId": "f2def09b-d0e0-4fdb-ab9e-a01da48ad7d6"
      },
      "execution_count": null,
      "outputs": [
        {
          "output_type": "stream",
          "name": "stdout",
          "text": [
            "4\n",
            "2\n",
            "9\n",
            "5.0\n"
          ]
        }
      ]
    },
    {
      "cell_type": "code",
      "source": [
        "print(5)"
      ],
      "metadata": {
        "colab": {
          "base_uri": "https://localhost:8080/"
        },
        "id": "Ll6xdHyMV0zb",
        "outputId": "4ac5f961-fb66-40f6-f622-929590209620"
      },
      "execution_count": null,
      "outputs": [
        {
          "output_type": "stream",
          "name": "stdout",
          "text": [
            "5\n"
          ]
        }
      ]
    },
    {
      "cell_type": "markdown",
      "source": [
        "## Datatypes\n",
        "\n",
        "\n",
        "\n",
        "*   These are specific kinds of data in Python.\n",
        "\n",
        "Python datatypes include: integer, float, complex, string, list, tuple, dictionary, and boolean\n",
        "\n"
      ],
      "metadata": {
        "id": "1m0YU2WYuBXp"
      }
    },
    {
      "cell_type": "code",
      "source": [
        "#@title\n",
        "# Integer\n",
        "x = 10  # A variable is a store for values/datatypes\n",
        "print(type(x))  # Output: <class 'int'>\n",
        "\n",
        "# Float\n",
        "y = 10.0\n",
        "print(type(y))  # Output: <class 'float'>\n",
        "\n",
        "# String\n",
        "z = \"Hello Python\"\n",
        "e = '2'\n",
        "print(type(z))  # Output: <class 'str'>\n",
        "print(type(e))  # Output: <class 'str'>\n",
        "\n",
        "# Boolean\n",
        "a = True\n",
        "print(type(a))  # Output: <class 'bool'>\n"
      ],
      "metadata": {
        "colab": {
          "base_uri": "https://localhost:8080/"
        },
        "id": "Em528YfcuDth",
        "outputId": "60913e00-15d9-4330-d3e7-a35dea03294d"
      },
      "execution_count": null,
      "outputs": [
        {
          "output_type": "stream",
          "name": "stdout",
          "text": [
            "<class 'int'>\n",
            "<class 'float'>\n",
            "<class 'str'>\n",
            "<class 'str'>\n",
            "<class 'bool'>\n"
          ]
        }
      ]
    },
    {
      "cell_type": "code",
      "source": [
        "x_3 =5\n",
        "print(x_3)"
      ],
      "metadata": {
        "colab": {
          "base_uri": "https://localhost:8080/"
        },
        "id": "1RR6gG2ObWTp",
        "outputId": "b0b23b9e-da3c-44ac-ad61-06e22eb70467"
      },
      "execution_count": null,
      "outputs": [
        {
          "output_type": "stream",
          "name": "stdout",
          "text": [
            "5\n"
          ]
        }
      ]
    },
    {
      "cell_type": "code",
      "source": [
        "x = 10\n",
        "print(type(x),x)\n",
        "\n",
        "y = '10'\n",
        "print(type(y),y)"
      ],
      "metadata": {
        "colab": {
          "base_uri": "https://localhost:8080/"
        },
        "id": "P9_xcEy1d6RY",
        "outputId": "7a173e7a-9457-4af1-9c4e-7d00e2044a5b"
      },
      "execution_count": null,
      "outputs": [
        {
          "output_type": "stream",
          "name": "stdout",
          "text": [
            "<class 'int'> 10\n",
            "<class 'str'> 10\n"
          ]
        }
      ]
    },
    {
      "cell_type": "code",
      "source": [
        "print(\"My name is Lucy\")"
      ],
      "metadata": {
        "colab": {
          "base_uri": "https://localhost:8080/"
        },
        "id": "2zZJMwKAfGsg",
        "outputId": "e1d96b56-8749-43cd-b766-1edc2da6e865"
      },
      "execution_count": null,
      "outputs": [
        {
          "output_type": "stream",
          "name": "stdout",
          "text": [
            "My name is Lucy\n"
          ]
        }
      ]
    },
    {
      "cell_type": "markdown",
      "source": [
        "### Exercise:\n",
        "\n",
        "Create a variable:\n",
        "\n",
        "1.   Your year of birth as an integer\n",
        "2.   Your year of birth as an string\n",
        "\n"
      ],
      "metadata": {
        "id": "h32KdIfgwfvw"
      }
    },
    {
      "cell_type": "markdown",
      "source": [
        "## List (More complex datatypes)\n",
        "\n",
        "\n",
        "\n",
        "*   A list in Python is a collection of items that are changeable(mutable). Lists allow duplicate members.\n",
        "\n"
      ],
      "metadata": {
        "id": "8du7wdUNytfc"
      }
    },
    {
      "cell_type": "code",
      "source": [
        "#@title\n",
        "# Creating a list\n",
        "fruits = ['apple', 'banana', 'cherry']\n",
        "print(fruits)  # Output: ['apple', 'banana', 'cherry']\n",
        "\n",
        "funny_list = [1, 'banana', True, 1.2, ['f','g','h'],(2,3)]\n",
        "print(funny_list)\n",
        "\n",
        "# Accessing items in a list\n",
        "print(fruits[0])  # Output: apple\n",
        "\n",
        "# Modifying a list\n",
        "fruits[1] = 'blueberry'\n",
        "print(fruits)  # Output: ['apple', 'blueberry', 'cherry']\n",
        "\n",
        "# Adding to a list\n",
        "fruits.append('dragonfruit')\n",
        "print(fruits)  # Output: ['apple', 'blueberry', 'cherry', 'dragonfruit']"
      ],
      "metadata": {
        "colab": {
          "base_uri": "https://localhost:8080/"
        },
        "collapsed": true,
        "id": "owC2YlTuzLVu",
        "outputId": "31aec26f-f29a-4746-c4b2-ae606cc9b856"
      },
      "execution_count": null,
      "outputs": [
        {
          "output_type": "stream",
          "name": "stdout",
          "text": [
            "['apple', 'banana', 'cherry']\n",
            "[1, 'banana', True, 1.2, ['f', 'g', 'h'], (2, 3)]\n",
            "apple\n",
            "['apple', 'blueberry', 'cherry']\n",
            "['apple', 'blueberry', 'cherry', 'dragonfruit']\n"
          ]
        }
      ]
    },
    {
      "cell_type": "code",
      "source": [
        "ls1=[\"Mombasa\", [\"Kitale\", (\"Eldoret\", \"Fill\"),(\"Nakuru\")]]\n",
        "print(ls1[1])\n",
        "ls1[1][1] = ('Machakos','Kisumu')\n",
        "ls1[1].append(x)\n",
        "print(ls1)"
      ],
      "metadata": {
        "colab": {
          "base_uri": "https://localhost:8080/"
        },
        "id": "X6Cihi5kj2mu",
        "outputId": "b7748e60-ba57-404a-a096-813603736c1d"
      },
      "execution_count": null,
      "outputs": [
        {
          "output_type": "stream",
          "name": "stdout",
          "text": [
            "['Kitale', ('Eldoret', 'Fill'), 'Nakuru']\n",
            "['Mombasa', ['Kitale', ('Machakos', 'Kisumu'), 'Nakuru'], 10]\n"
          ]
        }
      ]
    },
    {
      "cell_type": "code",
      "source": [
        "ls1.pop()"
      ],
      "metadata": {
        "colab": {
          "base_uri": "https://localhost:8080/"
        },
        "id": "DOqne5xyxXct",
        "outputId": "f0242bb4-41d8-4908-b1bc-a432804ab194"
      },
      "execution_count": null,
      "outputs": [
        {
          "output_type": "execute_result",
          "data": {
            "text/plain": [
              "10"
            ]
          },
          "metadata": {},
          "execution_count": 44
        }
      ]
    },
    {
      "cell_type": "code",
      "source": [
        "ls1"
      ],
      "metadata": {
        "id": "2QjDu2zRxcV1",
        "outputId": "937a27dc-e7be-4add-b0ff-bad7002fa9eb",
        "colab": {
          "base_uri": "https://localhost:8080/"
        }
      },
      "execution_count": null,
      "outputs": [
        {
          "output_type": "execute_result",
          "data": {
            "text/plain": [
              "['terminator', 'Mombasa', ['Kitale', ('Machakos', 'Kisumu'), 'Nakuru']]"
            ]
          },
          "metadata": {},
          "execution_count": 45
        }
      ]
    },
    {
      "cell_type": "markdown",
      "source": [
        "### Exercise:\n",
        "\n",
        "Create a list:\n",
        "\n",
        "1. of your 5 favorite movies.\n",
        "2. Then add another one to this list.\n",
        "\n"
      ],
      "metadata": {
        "id": "W3xDjoXhzXZm"
      }
    },
    {
      "cell_type": "code",
      "source": [
        "ls1.insert(0, 'terminator')"
      ],
      "metadata": {
        "id": "zUYrvxD-o9h6"
      },
      "execution_count": null,
      "outputs": []
    },
    {
      "cell_type": "code",
      "source": [
        "ls1.append('f')"
      ],
      "metadata": {
        "colab": {
          "base_uri": "https://localhost:8080/"
        },
        "id": "PwKYUtN5pFeq",
        "outputId": "6fb26236-0c8b-4667-8421-52978af4997c"
      },
      "execution_count": null,
      "outputs": [
        {
          "output_type": "execute_result",
          "data": {
            "text/plain": [
              "['terminator', 'Mombasa', ['Kitale', ('Machakos', 'Kisumu'), 'Nakuru'], 10]"
            ]
          },
          "metadata": {},
          "execution_count": 42
        }
      ]
    },
    {
      "cell_type": "markdown",
      "source": [
        "## Dictionaries\n",
        "\n",
        "* A dictionary in Python is a collection of items with a key:value pair."
      ],
      "metadata": {
        "id": "sgy0oP-NzlJI"
      }
    },
    {
      "cell_type": "code",
      "source": [
        "#@title\n",
        "# Creating a dictionary\n",
        "\n",
        "l1 = []\n",
        "# [] brackets are also used for accessing item in different datatype\n",
        "\n",
        "person = {'name': 'John Doe','age': 30,'city': 'New York'}\n",
        "print(person)  # Output: {'name': 'John Doe', 'age': 30, 'city': 'New York'}\n",
        "\n",
        "# Accessing items in a dictionary\n",
        "print(person['name'])  # Output: John Doe\n",
        "\n",
        "# Modifying a dictionary\n",
        "person['age'] = 31\n",
        "print(person)  # Output: {'name': 'John Doe', 'age': 31, 'city': 'New York'}\n",
        "\n",
        "# Adding to a dictionary\n",
        "person['job'] = 'Engineer'\n",
        "print(person)  # Output: {'name': 'John Doe', 'age': 31, 'city': 'New York', 'job': 'Engineer'}"
      ],
      "metadata": {
        "colab": {
          "base_uri": "https://localhost:8080/"
        },
        "id": "Ks1YwI57zkh3",
        "outputId": "52550305-9891-471a-b309-3f2351aa3ee9"
      },
      "execution_count": null,
      "outputs": [
        {
          "output_type": "stream",
          "name": "stdout",
          "text": [
            "{'name': 'John Doe', 'age': 30, 'city': 'New York'}\n",
            "John Doe\n",
            "{'name': 'John Doe', 'age': 31, 'city': 'New York'}\n",
            "{'name': 'John Doe', 'age': 31, 'city': 'New York', 'job': 'Engineer'}\n"
          ]
        }
      ]
    },
    {
      "cell_type": "code",
      "source": [
        "d1 = {'name': 'Eva', 1: 'STM', 'age': 42}\n",
        "print(d1)\n",
        "print(d1[1])"
      ],
      "metadata": {
        "colab": {
          "base_uri": "https://localhost:8080/"
        },
        "id": "K-R3jRA-Shw6",
        "outputId": "20c7295f-5d17-4631-8d59-200928d6568e"
      },
      "execution_count": null,
      "outputs": [
        {
          "output_type": "stream",
          "name": "stdout",
          "text": [
            "{'name': 'Eva', 1: 'STM', 'age': 42}\n",
            "STM\n"
          ]
        }
      ]
    },
    {
      "cell_type": "markdown",
      "source": [
        "### Exercise:\n",
        "\n",
        "Create a dictionary:\n",
        "\n",
        "1.  that describes a book with attributes: title, author, year of publication, and genre.\n",
        "2. Then add the number of pages to this dictionary.\n"
      ],
      "metadata": {
        "id": "mrUAGahM0fiM"
      }
    },
    {
      "cell_type": "code",
      "source": [
        "my_dict = {'a': 1, 'b': 2, 'c': 3}"
      ],
      "metadata": {
        "id": "eo3InsVPZu5A"
      },
      "execution_count": null,
      "outputs": []
    },
    {
      "cell_type": "code",
      "source": [
        "my_dict"
      ],
      "metadata": {
        "colab": {
          "base_uri": "https://localhost:8080/"
        },
        "id": "kZZYdbp9Z0nQ",
        "outputId": "d3e9cbdb-8237-4786-c07c-5bf394279f72"
      },
      "execution_count": null,
      "outputs": [
        {
          "output_type": "execute_result",
          "data": {
            "text/plain": [
              "{'b': 2, 'c': 3}"
            ]
          },
          "metadata": {},
          "execution_count": 14
        }
      ]
    },
    {
      "cell_type": "code",
      "source": [
        "# Deleting an item from a dictionary\n",
        "my_dict = {'a': 1, 'b': 2, 'c': 3}\n",
        "del my_dict['a']\n",
        "print(my_dict)  # Output: {'b': 2, 'c': 3}"
      ],
      "metadata": {
        "colab": {
          "base_uri": "https://localhost:8080/"
        },
        "id": "5wLjQ9XTzWM_",
        "outputId": "375cb30e-0ffb-43d6-8f87-fd6bb821973d"
      },
      "execution_count": null,
      "outputs": [
        {
          "output_type": "stream",
          "name": "stdout",
          "text": [
            "{'b': 2, 'c': 3}\n"
          ]
        }
      ]
    },
    {
      "cell_type": "code",
      "source": [
        "# or\n",
        "my_dict = {'a': 1, 'b': 2, 'c': 3}\n",
        "value = my_dict.pop('a')\n",
        "my_dict['b'] = 20\n",
        "my_dict['z'] = value\n",
        "print(value)  # Output: 1\n",
        "print(my_dict)  # Output: {'b': 2, 'c': 3}"
      ],
      "metadata": {
        "id": "mzcjVMR_0IJc",
        "colab": {
          "base_uri": "https://localhost:8080/"
        },
        "outputId": "ee085ea4-af8c-4c40-e1d0-dfb40b298f81"
      },
      "execution_count": null,
      "outputs": [
        {
          "output_type": "stream",
          "name": "stdout",
          "text": [
            "1\n",
            "{'b': 20, 'c': 3, 'z': 1}\n"
          ]
        }
      ]
    },
    {
      "cell_type": "code",
      "source": [
        "d2 = {'x': 1}\n",
        "my_dict.update(d2)\n",
        "print(my_dict)"
      ],
      "metadata": {
        "colab": {
          "base_uri": "https://localhost:8080/"
        },
        "id": "GdiMZ9SgYzZy",
        "outputId": "9d5222fe-abef-4d74-c239-a7d84aeecf7a"
      },
      "execution_count": null,
      "outputs": [
        {
          "output_type": "stream",
          "name": "stdout",
          "text": [
            "{'b': 20, 'c': 3, 'z': 1, 'x': 1}\n"
          ]
        }
      ]
    },
    {
      "cell_type": "markdown",
      "source": [
        "## Operators\n",
        "\n",
        "* These are used to perform operations on variables and values"
      ],
      "metadata": {
        "id": "47xlyP3UxUeH"
      }
    },
    {
      "cell_type": "code",
      "source": [
        "# Arithmetic operators\n",
        "print(5 + 2)  # Addition\n",
        "print(5 - 2)  # Subtraction\n",
        "print(5 * 2)  # Multiplication\n",
        "print(5 / 2)  # Division\n",
        "print(5 % 2)  # Modulus\n",
        "print(5 ** 2)  # Exponentiation\n",
        "print(5 // 2)  # Floor division"
      ],
      "metadata": {
        "id": "rvuakSc1wfV3",
        "colab": {
          "base_uri": "https://localhost:8080/"
        },
        "outputId": "977d1f4e-b460-418e-8ff9-ba9d54c85731"
      },
      "execution_count": null,
      "outputs": [
        {
          "output_type": "stream",
          "name": "stdout",
          "text": [
            "7\n",
            "3\n",
            "10\n",
            "2.5\n",
            "1\n",
            "25\n",
            "2\n"
          ]
        }
      ]
    },
    {
      "cell_type": "code",
      "source": [
        "# Comparison operators\n",
        "print(5 == 2)  # Equal\n",
        "print(5 != 2)  # Not equal\n",
        "print(5 > 2)  # Greater than\n",
        "print(5 < 2)  # Less than\n",
        "print(5 >= 2)  # Greater than or equal to\n",
        "print(5 <= 2)  # Less than or equal to"
      ],
      "metadata": {
        "id": "tQI6YGO_xnPu",
        "colab": {
          "base_uri": "https://localhost:8080/"
        },
        "outputId": "1e8d6b43-028c-4981-fd6f-6f77b1f301b6"
      },
      "execution_count": null,
      "outputs": [
        {
          "output_type": "stream",
          "name": "stdout",
          "text": [
            "False\n",
            "True\n",
            "True\n",
            "False\n",
            "True\n",
            "False\n"
          ]
        }
      ]
    },
    {
      "cell_type": "code",
      "source": [
        "# Assignment operators\n",
        "# Equals\n",
        "x = 5\n",
        "print(x)\n",
        "\n",
        "# Add AND\n",
        "x += 3  # Equivalent to x = x + 3\n",
        "print(x)\n",
        "\n",
        "# Subtract AND\n",
        "x -= 3  # Equivalent to x = x - 3\n",
        "print(x)"
      ],
      "metadata": {
        "id": "AEG7Qk1pyJNB",
        "colab": {
          "base_uri": "https://localhost:8080/"
        },
        "outputId": "65ada395-2940-4991-befb-d67797e42c23"
      },
      "execution_count": null,
      "outputs": [
        {
          "output_type": "stream",
          "name": "stdout",
          "text": [
            "5\n",
            "8\n",
            "5\n"
          ]
        }
      ]
    },
    {
      "cell_type": "code",
      "source": [
        "# Logical operators\n",
        "# and - Returns True if both statements are true\n",
        "x = 5\n",
        "print(x > 3 and x < 10)  # Output: True\n",
        "\n",
        "# or - Returns True if one of the statements is true\n",
        "x = 5\n",
        "print(x > 3 or x < 4)  # Output: True\n",
        "\n",
        "# not - Reverse the result, returns False if the result is true\n",
        "x = 5\n",
        "print(not(x > 3 and x < 10))  # Output: False"
      ],
      "metadata": {
        "id": "B1hwM9sHyS97",
        "colab": {
          "base_uri": "https://localhost:8080/"
        },
        "outputId": "2b555767-5b59-4de7-eec7-0c2ae1962f06"
      },
      "execution_count": null,
      "outputs": [
        {
          "output_type": "stream",
          "name": "stdout",
          "text": [
            "True\n",
            "True\n",
            "False\n"
          ]
        }
      ]
    },
    {
      "cell_type": "code",
      "source": [
        "True and True = True\n",
        "True and False = False\n",
        "False and True = False\n",
        "False and False = False\n",
        "\n",
        "True or True = True\n",
        "True or False = True\n",
        "False or True = True\n",
        "False or False = False\n",
        "\n",
        "not True = False\n",
        "not False = True"
      ],
      "metadata": {
        "id": "o8s1l57CdPnD"
      },
      "execution_count": null,
      "outputs": []
    },
    {
      "cell_type": "code",
      "source": [
        "# Membership operators\n",
        "# in - Returns True if a sequence with the specified value is present in the object\n",
        "x = [\"apple\", \"banana\"]\n",
        "print(\"banana\" in x)  # Output: True\n",
        "\n",
        "# not in - Returns True if a sequence with the specified value is not present in the object\n",
        "print(\"pineapple\" not in x)  # Output: True"
      ],
      "metadata": {
        "id": "RXzjXcDJycUb"
      },
      "execution_count": null,
      "outputs": []
    },
    {
      "cell_type": "markdown",
      "source": [
        "## Conditionals\n",
        "\n",
        "In programming, **conditional statements** are used to perform different actions based on different conditions. Python supports the usual logical conditions from mathematics:\n",
        "\n",
        "    Equals: a == b\n",
        "    Not Equals: a != b\n",
        "    Less than: a < b\n",
        "    Less than or equal to: a <= b\n",
        "    Greater than: a > b\n",
        "    Greater than or equal to: a >= b\n",
        "\n",
        "These conditions can be used in several ways, most commonly in \"if statements\"."
      ],
      "metadata": {
        "id": "Lukkvjns08BI"
      }
    },
    {
      "cell_type": "markdown",
      "source": [
        "### If Statements\n",
        "\n",
        "An \"if statement\" is written by using the if keyword."
      ],
      "metadata": {
        "id": "FQ4kgGF21nbz"
      }
    },
    {
      "cell_type": "code",
      "source": [
        "a = 33\n",
        "b = 200\n",
        "\n",
        "if b > a:\n",
        "  print(\"b is greater than a\")  # Output: b is greater than a"
      ],
      "metadata": {
        "colab": {
          "base_uri": "https://localhost:8080/"
        },
        "id": "kUki9PZO1hPD",
        "outputId": "9e56968c-4139-4472-abec-622e05d2592f"
      },
      "execution_count": null,
      "outputs": [
        {
          "output_type": "stream",
          "name": "stdout",
          "text": [
            "b is greater than a\n"
          ]
        }
      ]
    },
    {
      "cell_type": "code",
      "source": [
        "a = 200\n",
        "b = 33\n",
        "if b > a:\n",
        "  print(\"b is greater than a\")\n",
        "else:\n",
        "  print(\"b is not greater than a\")  # Output: b is not greater than a"
      ],
      "metadata": {
        "id": "u7dgq32f1sLA",
        "colab": {
          "base_uri": "https://localhost:8080/"
        },
        "outputId": "8d9e19d2-dffc-4032-c8b9-b8e33e042ffe"
      },
      "execution_count": null,
      "outputs": [
        {
          "output_type": "stream",
          "name": "stdout",
          "text": [
            "b is not greater than a\n"
          ]
        }
      ]
    },
    {
      "cell_type": "code",
      "source": [
        "a = 200\n",
        "b = 33\n",
        "if b > a:\n",
        "  print(\"b is greater than a\")\n",
        "elif a == b:\n",
        "  print(\"a and b are equal\")\n",
        "else:\n",
        "  print(\"a is greater than b\")  # Output: a is greater than b"
      ],
      "metadata": {
        "id": "kzkYc12k17Pn",
        "colab": {
          "base_uri": "https://localhost:8080/"
        },
        "outputId": "01c771b2-7221-493a-9ba3-25c0615502c9"
      },
      "execution_count": null,
      "outputs": [
        {
          "output_type": "stream",
          "name": "stdout",
          "text": [
            "a is greater than b\n"
          ]
        }
      ]
    },
    {
      "cell_type": "markdown",
      "source": [
        "### Exercise:\n",
        "\n",
        "Create a program that prints \"Good Morning\" if the time is before 12, \"Good Afternoon\" if the time is between 12 and 17, and \"Good Evening\" otherwise.\n"
      ],
      "metadata": {
        "id": "LX0vFIiQ2fey"
      }
    },
    {
      "cell_type": "code",
      "source": [
        "time = 17\n",
        "if time < 12:\n",
        "  print('Good Morning')\n",
        "elif time <= 17:\n",
        "  print ('Good Afternoon')\n",
        "else:\n",
        "  print ('good Evening')"
      ],
      "metadata": {
        "colab": {
          "base_uri": "https://localhost:8080/"
        },
        "id": "w7jHWq_ch7dX",
        "outputId": "79b828ae-7e3b-441a-c07e-5bc49dbceccc"
      },
      "execution_count": null,
      "outputs": [
        {
          "output_type": "stream",
          "name": "stdout",
          "text": [
            "Good Afternoon\n"
          ]
        }
      ]
    },
    {
      "cell_type": "code",
      "source": [
        "x = 0\n",
        "y = 13\n",
        "try:\n",
        "  print(y/x)\n",
        "except:\n",
        "  print('You are trying to div by')"
      ],
      "metadata": {
        "colab": {
          "base_uri": "https://localhost:8080/"
        },
        "id": "Xt4_C12oj_bI",
        "outputId": "41c39685-5fdb-4918-92cd-2709a311c835"
      },
      "execution_count": null,
      "outputs": [
        {
          "output_type": "stream",
          "name": "stdout",
          "text": [
            "You are trying to div by\n"
          ]
        }
      ]
    },
    {
      "cell_type": "markdown",
      "source": [
        "## Bonus: Errors and debugging\n",
        "\n",
        "Programming in Python or any language can lead to various types of errors, most commonly **syntax errors, runtime errors, and logical errors**."
      ],
      "metadata": {
        "id": "fefEjHHD39vJ"
      }
    },
    {
      "cell_type": "markdown",
      "source": [
        "**Debugging Techniques**\n",
        "\n",
        "1. **Error Messages**: Make sure to read any error messages or exceptions Python shows you. They can often tell you exactly what's wrong, or at least give you a clue.\n",
        "\n",
        "2. **Print Statements**: As mentioned, print() can be a simple but effective debugging tool. You can print out the values of variables at different points in your program to see where things go wrong.\n",
        "\n",
        "3. **Code Review**: Sometimes, just the act of explaining your code to someone else can make an error obvious.\n",
        "\n",
        "4. **Take a Break**: If you've been looking at a piece of code for a while and you can't figure out what's wrong, try to take a break. Fresh eyes can make a big difference.\n",
        "\n",
        "    "
      ],
      "metadata": {
        "id": "97dNk6AV4KF2"
      }
    },
    {
      "cell_type": "code",
      "source": [
        "if time<12:\n",
        "  print(\"goodmorning\")\n",
        "elif time>12 and time<17:\n",
        "  print('goodafternoon')\n",
        "else:\n",
        "  print(\"goodevening\")"
      ],
      "metadata": {
        "id": "69R6B71z22IU",
        "colab": {
          "base_uri": "https://localhost:8080/"
        },
        "outputId": "def19c9d-ca86-4b28-a06a-cb869d852076"
      },
      "execution_count": null,
      "outputs": [
        {
          "output_type": "stream",
          "name": "stdout",
          "text": [
            "goodafternoon\n"
          ]
        }
      ]
    },
    {
      "cell_type": "code",
      "source": [],
      "metadata": {
        "id": "cEle7dUF2aXY"
      },
      "execution_count": null,
      "outputs": []
    }
  ]
}