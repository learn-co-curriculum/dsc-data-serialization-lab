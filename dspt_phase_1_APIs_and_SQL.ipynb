{
  "nbformat": 4,
  "nbformat_minor": 0,
  "metadata": {
    "colab": {
      "provenance": [],
      "include_colab_link": true
    },
    "kernelspec": {
      "name": "python3",
      "display_name": "Python 3"
    },
    "language_info": {
      "name": "python"
    }
  },
  "cells": [
    {
      "cell_type": "markdown",
      "metadata": {
        "id": "view-in-github",
        "colab_type": "text"
      },
      "source": [
        "<a href=\"https://colab.research.google.com/github/sgathai/dsc-data-serialization-lab/blob/master/dspt_phase_1_APIs_and_SQL.ipynb\" target=\"_parent\"><img src=\"https://colab.research.google.com/assets/colab-badge.svg\" alt=\"Open In Colab\"/></a>"
      ]
    },
    {
      "cell_type": "markdown",
      "source": [
        "# APIs and SQL\n",
        "\n",
        "**Lecture Overview**\n",
        "\n",
        "1. API Fundamentals\n",
        "2. Must-know SQL Queries\n"
      ],
      "metadata": {
        "id": "VD_SgW_57I1H"
      }
    },
    {
      "cell_type": "markdown",
      "source": [
        "# API Fundamentals"
      ],
      "metadata": {
        "id": "06CnVaPgZMdK"
      }
    },
    {
      "cell_type": "markdown",
      "source": [
        "![link text](https://www.cleveroad.com/images/article-previews/40ca78a7a9db7adfb6bb861fc6b8910ae2ef4bb79f5508007d166f01df5c1038.png)"
      ],
      "metadata": {
        "id": "b157LuKVaZWD"
      }
    },
    {
      "cell_type": "code",
      "source": [
        "#@title\n",
        "# An API (Application Programming Interface) is a set of rules and protocols for building\n",
        "# and interacting with software. It defines how different software components should\n",
        "# interact with each other and how data should be exchanged between them."
      ],
      "metadata": {
        "id": "IueibgXaZO3P"
      },
      "execution_count": null,
      "outputs": []
    },
    {
      "cell_type": "markdown",
      "source": [
        "Example is:\n",
        "\n",
        "Twitter API: The Twitter API allows developers to access data from Twitter, including tweets, user information, and trending topics.\n",
        "\n",
        "[Twitter API](https://developer.twitter.com/en/docs/twitter-api)"
      ],
      "metadata": {
        "id": "KeWyY7qWbVO8"
      }
    },
    {
      "cell_type": "markdown",
      "source": [
        "What is an endpoint?\n",
        "\n",
        "![link text](data:image/png;base64,iVBORw0KGgoAAAANSUhEUgAAAaAAAAB5CAMAAABIrgU4AAABrVBMVEX///////7+//////wAAAD///r//f////P///j7//9UVFTPz8////X//+Kant1GTMz//+7gqXT/cQDXaQDb3/3T1v///+v4+f8mL9mdoeVfZtXV1dU6Qbj/8NfhaABdZNxTWszx8fHneyKqr/RFTtkxO9/o6Oj2v5P+zZ30zqLmmVbuiDfDw8P/7szzk0ju7u71cACvr6+IiIidnZ33toW4vOLy27X95cvR0vC4uLhYWFhqampyddSssed7e3v//90eHh7ytgCkpKRHR0cwMDBWVlagoKAqKip9hYftaQD977fxvSbzzFujrLD655X0xEj//c7324McI6/p7f81OsDAxffvqHDkdQr36af/5rbfjU793KX8xIvtw5f9553+3nH++8P6fB79uHD8ok/qy2ryzUj7r2j/54D5k0P1rWrpzK3smlHmr3H034fkhDruxi7irYLtvpzZn3f/0pLTkFjZsYr5wUrRiEz+5Kj+xoQ/SrY0O9HbeCYzMZUYGJKGjeP/4UpudMk8Q9j6uCh/he2Njtf21osqNuvLdSqLj8aMkL55er/GhFL71HyxtMul09KXAAAgAElEQVR4nO19C3saR5Z2dRXVXS3oSSvWtBOzOAOJkRDoAtKAdbFQS0r8iWYErGN0iYWkiZTYki3LibOJx96dzczEmdlZ72/+zqkGBBK6gNqW7eF9EJcGmup661zrVImQtwp/+APRqUIVD09JdUr+X4JQD0/5Lwy/H+68pAcAdCei3p7yXxZADYc/6ulwZwxP6DHr/6JAgpjnBClwQrVLkCeIRpEkT20QIthVcR4BnATQRt4SBOIITkIXnuB1EeT38oT/ykjIoe6tSww26A/B98pJEAxCh7M7iStgzBn38sqVqs/lKUOKPNvbEQfB1RGFsYbGUMqUtq6XMYXLJ8pZICr+HGXcu/aDv6UAQa+jN98OghQgg+rQxyAC8IIpUsDl33lBdUVBV/dcP0dYgJFzfvhcGInC6Tx24uBs0bCnZ+wcIC8gMArH9AaMRl2vBmht9CGeQem79Zvz4OPf3FSE6uUFgJMAY8xTgkCjoBf3ltgghek6YcI0jGzWsDShIFXtXTF89s6/ffnBefDZl/9+11MBem0E+d8SglC3aUMD5eEXkStXIvuDvTEDDH6TUToLYFvIrQ+unu/D+vQ08dRLmJh4LQSNvSUEKUJnQ4PLix/WMHo9MmCCGW+HILiej39HhHq2k6AI8ptr3l4BWMDXYIOox35h52C6trb44egocjPqcnQlDWaljebhpXz8O0U5kyC0VkiQlzbIPelr8eLeEugitlwVHpegxbWQHJVtASToHAA/W0qQl0YoHFaastn0sOnyoIKuqbFSQ87CYzD+0OFnrRsCni0ZCXeg4qTD3wGo7BFKXXPRfEoCKm51fHh5cXEUsHg9Uo4NhRT9vG6zPIciCTrXNxTPVRw4CaQxZgGBUqEt2Pc6UUH9omf/yK4jB21QwArCO6qMDo7zgDFGyt/BMALipUt7rJtP+QoOIPgWqFR8Vhsy7gngXIzogbVybDX31cA9wPc/5Vb719YFbc8GXTJBjbk42ecUrxQe1aqMWHl7qSKxYVc4fhY/zvB9vVXI5+biOrBrKJgMu/VMc1yD/DzDYVX9Yv1U8BbncIxq+6OjkbXyeP/Aev/44P7W6OI6Y0I/f6sulyDw4pqSpWiU8JHKeBtzF1S3nMemLntg03llQifqus5BpfAT0gVwELy49rUVde1h44GT0PRr0EbGFV3mCpibuaI1YVK4uY/mB/WbVHPwYl3R20mYXS5BYZ0dmQ+iTFWxMZol4Do5YNPOc6oqlOlGoVAUlKiqSoQlXP5atJLBaTtpjIJRi1Sf5wV8GC0+fg1BXeFXDj1JXdGQoA8/3PrjvWdfSzfhOqg4vQ35vlSC4DqOTnlD/zNQdObK9ooJx81iZcd+CWNU6KpubtsbK1k4zLKV7ZwgAi71+Ek7nvKGnpZG6GTJOQpUctKvqfJCdTxG3DdQ+uFhHKOg0ciz9YFvtvDZiwxc37tig0AxsCaC3IuF6HvJsZ1S1sptw2N+iAFp4DPwnwqO42wUrWLetndyHLRciytFB0PvKFDFHwdVFdDOiQCF9mObgVn4nsLxmwHBmSs+KFqMDg2sReoabjn+YBUGmP6O2aCGAzC2hE7NiuN8W7ALecfZeVQU8noE47owciXgCA7nv3UKOVR3x8+JNqiz+SCMmXVqrfeeE+sWyAjFNivCDA3F1vvx6MF6LB2yAoq8MqH1DgytfvXHveH7w3sP7n21unqwK1hbbvZle3GYPDx0EhgFC2QuOU5ON145dmHFooSblmUYWcPCq2bGSsF2VjStYj/OsVaxEAzeDr04lCCijUfi50RkXMNsm6JoofXB5VEZ66BHAE/iD9OWwMsJxBe39u7F0kNDQ5nYwMP4InhxejsxwKUT1GQvcC5LaBXncQ6I04o5cAUCRu7bHQeDIKfwKGcIQo1cluu6/JR6AkEd1SRIb1Lh+w9M8JGZAF1Vg4CngglN41qAaZrQhNAC3Czvc6oLnYUeLEtuaikDydPi8oAJyjbgenGLi66OgzfWud5GqHXZXtwIToAeGhKdByjIhpOD7sDcn8pzG0COs7OzsZFHlhzQeITDexzl7PFKq1YqHc4HMcyRAUFlAc8FGoqqU41ajIJH1n+g9febB08C5SdmeZdq5X2BE5iry6O1TM5onSO4W9wzqUsQ3L4eHo5LghbX+bsTqIJtRQ3eQJBO+JJdyGE2B3wiVgR6nG9zWgDMbwBkSb40oK/AZ9DBUj0uHm+4rIvrRMXVCOrVhCIyIVFvJbodoP/YkwPzyQ/WwROtHDO/2yVab5xDU5TyaDM9NUn6cDHNiFhbRMLiP6VXn2FWbvRKGrxQ/fwMXa4EEdJMEOEkkLeXAkyBWAd9BTu/YnEiskO5zaLJGTeWHtvoHUD/a9TK24+OT8C7wdFFCBIkNLx4faAW7XAMxzSN6ppJNUHNAA3AvUa18X3MFyixCIrI1mhdv7lK7sPRNfiOvvow4lomN1yND1jghb8rEoRVPUrjaAcLpKzYeYMq4J5ZJcepGMTMfYveNaDwqMh59pXzuBLQoWto0XFaSBBc/B+CnTSmTlBA6Y98v7fV7BH8GOIH35kHvdbBgfV03Xj6hGq9+/jrupUeXhxtSFhXtdxybwgLZ5+sDg083IuDlYrEB++lh2K71fTqOfF2OQlU56qxYb/UQNcZJbtQJFalAGptZ6NU2t7BIGiTBcAHrwQoU4y8UxHHz+l6cR2gboNMZeD6s+FIs099YJLdH7TddWt91/oBbwRtEMY/uyEjfbBfkxspLIuRwfWQlQkRZu4v7z376qtV8OLA3f7+m/iV9QB5ZwJVmc1u8uJAt5HsfzjgxJklZ6cIRsh2tnNZy9Q008hW8rZTsXiu4KyAmVhx8lYLTdZx4WKNoPGAHipH9lcPA9ZAADw4XbcsZpncsoSlsZDJtPE4eJPMXNsfGLKsUHp9vFweHCyXe+/Ba9NIP4jEBLjZOI+6LF33yNYienGMvi43m3hOUDR6xElQoJOsHTtHRMUuZEmuYOdzppvDBNWtGSs7zrbBcxClMv7S3hCtMgkKCY5cyAYFwPyFTFHP+eASJsJ03vvUOug1ygfW2nrox3W0QeBO6oH7oL32QHmFLIBpmpYBQWt5HwKjGKOYLK373ug5oJvdTquqBB2mbjHnL/1KmVBmh5kplMuWBE1MgDGZmZmj0SS8mpuZSZ446xo+VtUOpsRND0ux14kq2IrzylTBvmySYsEpZaEpCk49ULijorjt5LO8AsKjFwuPDZww4q0KzdrPZisyxUx5HNzs5kne6nNl94m1u2vs7prru9qTDLjZIEHg1dyXXjaYmOHBwQflB3trw/EtScdijOvm2qjrxQ2tPtuSydIYa3NGVdYkcLVauVhti/uoolo7nPwQHAg6fu7JSULG5qJjY/4UvJqaiM5MABMU5WMkHFZJVEoK3I2QxNQR7ihOeJGq24WTQSrRtkHDWdt2hRd3nEcGcXN1ctYFGqRn8/aGZcLbLPAIbBDDdE+7U8gndYS8XxscGgqdAHhnyH2Ax6FBkCCgCAgaPfQN6qEQBEKo4mJx9CC2htfW4ujMXS+HGueNzwHKycey2+vFB0dweFzaoGPZlWAqFSRjCRKeCkqCoiQxFu1JTdFEz8xCMOUnU+GJqakxMjMzGUzNN1uHhF9WlxKpxOT8Kfpm4MXlnLymbTglE95F/YK2CetWIIIAhiqi6BSy8MnHFlFVRTT52tC+iY68OCqHI+9fXo5EIi8ipyEu75f7QffpfLiBmQYvG56DisOqq0FUd/g6slZOm20uiMJe+fgvn54T165hqNKMlD8xQ8Zm5iYnXAmaSvVEU8mRqcTkCJlCgibJbDC6EJ30h9Voqvm77pS3UusduNdFCYQDJGSFAEkGtI8rUpJd+cHCgU2nUNRe2kvUemUXsVyTCeVwTHZcF4dKnIP7rqX7+4e3xoe37vWfgHtbw39cHu5fT2s6WCZtuC4+D9OAWNyVKLiPyTQ3N0OZTHp3dzcTsjS3jqmdbDZcyW9u/Ntx/OlPfzp+8Pk1ciz9Nf95zzwZSyWCpKriJqbITGpsbmQ+TGakBBHf3BhYqLH54IkEgSEBAjgzs5sFp6iDgFhWwclRhrWYKidy5sUVJj3wyC6BCOU1umpvFA0Nl9Oxhnxrp5WlLkG4QoDce5Htf2Gd9EHrRX/27/ewlJcJnfPyYi25c88AFIdraYXrGQXnftxiflqrgkFF0FbrQHH9jl49hrt37xw7pv9y7Zh4gviQVGIM05MuQUEy5U+mSCqcSkYXgl+kErNwIJwaSalfzEU/H2n6cjDotkC6UIqSfZSHqAfsf8V+RHJga3RFx0hWEGZlsxbTCYdQnhQfA315p0izOFu0XRGNOh0J6mwRsYKztqCT0gMDX28929v6fuAkbH39bPnrWCwjONMF+OTXq/HP9eVluLmZn9HRFwMCfSuO1dmuenCLTHTS1gIERdogwQ59AeCXkzv/+V+/J6Dc4drrhYuyLu6oeGJnRBOyp6PIUmKERCdIMpUkdG5sBqzTXJLSMTBTiRlw8uYmmr8NFwBWBteUUk75iu0U8qUhrm3bm6Rkryiqrps5A1yH7HahkK+YtLhdZISXIA6qgBcRyJXyBdvO6o1eHE7EdFRAxWQGhsaWr1y5sixvJwHfxbdjnFBBTSs2GDmsHnW13eKL8pDBpdjLSVo0JVSObjzQVvMUcuv5rd8ew927LY598Of2ChdnzowY0c0mVYLEkr2U1UCWjHzBsAqFLIiPWCkscV3JAXWOSwuMkJxdUor2K5AoYWV3gCDlWGzePkOyJTBA1/Zk2N8KoaYnq3vDAqfsn94zzFBsfDC+fF0CotLB9bRlDZV35ewqlpRgzQ+ShStEFKWt9SfQsqt//vdm3HheffL8efMb1+6cT33WumfkjLy/FDxX+qF/2JKdw7iLZQt5s+hsm3D5Vt4ugKuQc0pWBY5U7BU4CAZIZOEPRqLON+wsaUgPYx/4O1FxSDI6lPEy1gvRhoQzrd5nds3dXW034950AYEqWC0eX3wxnjZwUnFoKJN2A1ZjKDa4fD3GFdemVWto3dPgkXYmhJDaq3ca0ff8U/fAzed3m964c9XjonTpJIB3IJMfjANBDHUukBMAKYGO4jkwM5sMCNrYXHJKGhAEn88WClb2cUHDDhWSoMPeRIeuMyfhMNUDZ7XMQ7tG5QDQWe9To7fXeHpg/fhEZhIwFwex833pQe+X12PpdAb8tXSsHxxrOAaB6sW7CBvG3f0KFBRDPND3ZZ/7ztUPbhE3TJemiMry34si3KB9kCDFLRDFmoslexVNKtl0XgkgiGFG2/5ve0OgigOmchwJogRVIJBkYseJV3a2ybHsJBcnBb1OkKlr5RdrGVKfUWWCcVCAlgG8CcPiMiPHtF4IVBnR7leDUwx/tra2anND6GZ7thpRJdytjWRXf5n++ZMbn/w8PT3988/X/vIBPNzBIk6OXoQnAftMQzYBAlWZS2A4QphAFYeT/EAQQzsDDhvQYv81y3N2Ib+d00AJroC7Z9UIgi9pKEFq05QFSbYZqIYX5kgDQRqNXf8mHh9vQj8cfSJ2Y+aT3cD6rvZDmgokiJDAcPNcw2h15k7GQR70l3QzXAcdffU7n33yy58b8beP+uTPSPcdu+GiSi66MFV7Kv1rJlecKRwUCUgQxDo6BxUHlGxznP4u5HfsRwJskAEajboqzijkrex/FDSsMHEJatBxMuBoJ6EPSPiSjTOqfODFV3uj8X0X8jG+FhI4GdRrfNdvPX0SehojmIsDiyKG6wmE+2XA4FYtmeANQTJykIV2HP31Ox988ksTpoEg5hZNKu0lkU5CdH6q6jtIvhXV9RFUFSUIlJbOUDrAEbDA2DibVtF5bOacRxzL6aWKo0AgRqoBXdVpAAni9egMhplC25oRk0jMJg/ngzQ9tL8c6Ter0DT4C1lEt0LCMEnIUgyTGRZIUBxnDvhgPf32vQafLe65yVN3ytsr1K8PVNwR/PmOFC7p1SiHmbiRBVD0Yz3zENik5D08B0UxNj8PgzFZux+D0Ge+B+4n5ntStfuEr5ZQwCSqoriVmSoJgBtQNCxBMQrFPwK+tEa1DaeYw7yoqtKKs0J0kKMSutpC14zsZsHOUqUhkQB9Visa8c/3nBOTsz4/qU836EoolgkcCiF4mBAy8/V1bf2JeLIrDna1gzQNlOMoqDT2YrSq2fbLT8tP97aqiYXFPdMzfrAiDI0BSFGLBR1oJll1TU7dQVQhIiVBP3q0jffRVvfB5vsxX60squYkyGp59NUg3NnOCQWDVAiKuFEaokwUX2azL4sCJJxlX2YJNTecnPbSXuHaUh59B4Mo9egZg4x62dWI/7xILMxHXYJY/CFWFDfOxDPM0cKxg+9wvvs7nPJGFRcYj2Npq26lB5drU6l1GzS6GB8f8sRHkFM98Milo85cRuQaKTmClKoOqskYbS+P1ArJOj8uQTJXKk2RlSth1ahRFZFtCwuU4NcDTNe4itoL3AKqbEIMa+SdLMs6dmGjkoNwsLFRSgczqjPzuK0TRvhi/4EFKg01WxWmGZD3miVvpmVW78HNxuGwG7Iy48M4XVrHVnwwNmRmMp6oOPARuIr1xdLTbrhM6RR4uG1FFQ38yLk+2lhYKriBqg1sj2Hm/7pSs/W0KrtS2MxvnQo4eXmNVexHGj86/wEWaKxNgtSpBRna4lKsQDmytzd4OuT7e3tXxnFGlw8v92csLQThT3kPMFheT2cM08qUr3vjJKDPg1stqLqEnD1VKb5SmVA9XZMqkWwo+8QVAo1ZGaoSseRUAqIE+i3nFIpgEziWwlOshFMlmViLkDW3nRWGZqqFRsba9fa8BJpCfjiX8+8h6ObI6DDcjuJ+7cloZHh0a29v3MKNKXDKe2u4NzZkVB0K0zIysXJkcdQTL465Ba/04+cfHcNnd72npwnHtoJRVKYXQYHhnI/BS/aGwSQtQA4YAuAK2losODmwVjjnbRe04+fErKTeyUpauXkqLg8T/N6L4njEYPwIcN8cRTAzMp59cU8IXe6Lw+9L+7O4uBy5vzf4YHA4voVlvlgr4glBuFePSu48//UG4KNf6+z8CpjWlY7ywmfg8JRhnTQSpDBV0VE4FLMETpqVtzeyVBcBhn40DFZVVTl4bSXQg39doYGSs9JCAzO5gKuTCTus4+c610KhcmT1YeTkie9IefXFg1DIxFWoFAgabYpSa3ErSFCLqrAOgL5L30d/ufv7I/j0xidXPd6u8iiO7jQiS0jkdHa2ABFPNm/nN+VA5YoqQNdRc8WxS4HAtr1tohSZLaYmwXB2VDwvbRl40+nI9euLo3hriUX4G128vgiPkQxW12BNQpUSEJzF6goH+dIbCZK55L6PPjs26PqAIOWExe4eQdbFNRIkVK6D4OR06H5nkxgbjiNnIOQON0wr4mshHtlAYeAlRkLHz9lp4SKmGwnot8Hhgdi5MBBfE7gEaLieivsjTnl/FZeOtiTIAxcLBideEhKkyZzCYXv7ngNBr9cKHfHioDkqREOFQlGn4Avs5JiJtdjf5gxTC5hDKxuOvbMSMJecwibHDxSKreriOt0Kxp2UDsQfmlwGhEcNEB/KiKFQQN7MTIgFMNWjK6xc20vkw2eoFVeHq8X0o8sZj3L/cEmg4ohwy5vq6JMq7rVueqPrR/aLA38fBKjCFa7LEl9NZB/h+pPCTgFLgAuVLDc27MIm5gvMV3aplZPAcJFEB4LPZPkA23+oUSpaROxK+Ufj6VNjrdf6+3ro7/1UZrPBaIUeVNdvj44ub2E6u1rkszzQZkbwRChMSpCsUGsI+SRBmMJWuZyOkLs8XDxZ2gDMT6AWqF8HevaguSwVqQJ742wUhWbgxDYgv1Q0NDMHdqkoZF9md8CfO3otMNblqdtujLvTCGX7vRrVBgbHQ7W5flzegKuYeSYjMhkIP7VMSGRCBAjCahadmLHy8mhDOlsiPh7SvDLg1CVIzpQfJQi7kAtFVZhc9K54GrgqUoIaKAen2szbJdwQCg4GgIxCaVNTNLnbmhkQRi7vPC5lsXCJMz27Y7881h7U0uGOOkbuNEJFvByg6chw5Jt0I1bTnIQyPDPEMyG4aekQZrMFlVEX1dwp72oaITJc7k+HAhfomCM4nSApNVXJ4R4nFnA7sqYDnIhcATQbuNtU6Eq2UrCd/MtcUdYzrchEUC6gCwYiRo2SnTdaVs93tpGFLvNbYr8cEPde/PTN4nIT/h5Svntq9T61nn5n/fhD6Md1Iqe8pd+JoZewQqGMBNghU2BBt2cO1qkEMXb17q1Pb0n0yV0MPPpVhHSzGw+ARIncY6ciVNz+DHzY7EoebI+DKg6XCG3nDLkkP8AoeHj5YqsKQOnFdSBD1N24ASfs0pHI9XKmGYKGQiwUgihJAAFDIR1VnC4lVu6N0Lg5rrvbSHvFO6e17FQJIr/c/P0/b968eeuX4D/uSF/UOwBBrFFRy7l3nkPvgBKr8qioUCElByxQfru0grVx2mYpp+k0+wpskdJqTxWKmyl1CHAP9ntNJtLj69aR+nnK0pmAa4OwaCRETSDI3eRKloG4yw2q6yHcrRPeiAQR9WdC/vGP//mff94kt256M+tdRzisNG1GgXVPnEqGrM28bReWsuhbapaRNQxLCF23ctt/xT0uwJfLF0GejxME/XVWMVFruNl7LT4uGFYTNwwcytDWKAdPjd7vrKcH1v/+EPrfJwqoOGln3A16dNduum6Fe/NM2ZxKkEKm60du3cQ9wjz6VSJX3Tfp6ZrHgFEqhKQbJbBA2yvZgIw+oQusYgUUXh5MUSHvID/Hl9rg1HCHOwS6M4eB/bKgzXJdhavieMjiIY2FLCLK+wFUY/iTckq6WuSryP3JMPvR0ZZBLXA6QWwa7xjTFeXWTdZe2epZ0I9MosslDHBU4NRdxdIkIYWcQO8BtF0FS31XDGGUgKYituV4NyrtFQU2wJ3PUAYj9/r77w309w/Ui+WrzwYG1vEOb/juvcigUv1Fd2sypVaGrVcrBN6IDVKUaSnE+CkgyNvUzwQmzRo61N07nSq6KFaKAvccM3KvsOwKp4pwJry0aaEuMnM/ZcGDaLVKAAma62grGPcrNLN3cs1vM/aGXAZcJuQ2SoS4+5dffFqzEWc4CdPyE4okyONfdgsXWw206mBUVZJ1ClxuLkmzWEfS+HYL4NZGF9uWmVrGOWG+1kRyY5Muk6DTK4XA4hsFJ8sDQghzxWmR2jn6BTDmF/3vJy327TvyfvVTF/qVdhp0aQRFo+T0jWvAypgb9kbpFWBjx/7pzF+XaiYavogiPnsrTOIuAnmtacpGXBpB6ALp7JSlCDhKwTWooVA8+5TuUqmLpCnPJojS1qtFXxcujSBckKErp83aUq6Ac13clCgWW03QNUNxk+MXkaDD/RRP5Kf69gV+pL0WXZqKc2uzT/kAppixCixAOe5xdfaPY4l/h4uIazjHXqXVPXwu8ivt4HK9uOOLrxqgyLp4uVMmwSnvs21Q1Yu7AGiToJyM1zvZfAilRlB1l6g6BZIgIjMJcumZS5DXuThCTskpovAocnxgEXSr8P4o0IJf8J8M1rb9PfFC3SD0lA94C7n6AwkSKodIUefuPtYKkzUJYMOnca9kjqP41k1caOvhbweD7j4JJ6KzPvBH35gH/AYg5y3cohHBGjMlkiBK9GuyXg2PgAR1tj73tB9v75+BnAmFvdEQ5bUD94rmBAnq6/ttX3WxsHzsuyUJ4rpMluJmyQomS70VbPzxU41Qu3CTpecwVu8KmFTypO9Xt3AR8GW1xvTGjV+vXcWtvt1sNtppz3NxQb9cVeFlgpzJfRLeHwmSSkZR+j5Cfm4AS9N6318kWZIgVGjT4Zt9d65iafSnN71NZrszqp76qzJM7WxG9S0FlqUryp3nN6qYJnc+qz79aFouj/z5zv/9301Z/f+PPuKt7yIJ8lSCqgS9P0YI3TKUio/rRdkffFl/9lvpRd3559/+Nj398/TP//x9mzswnAm/3/N/04nMXCxQfbvAufxvSViFgtPrVKGqKqcv5QShQKV+mF6hco2Bdz+uuGuIPdVHUhzfG/mpb913TMkcruhm7j5q1cOephKoXI7k3flqpyVoMLu4OGg0qntPEMU9S7vwBF/Meb6+BUVy5kKpni4OEQ57LkBYQNhZ2VUXx0Bfz79QfZ//Met7gi5Bbzfep2TpewdZova+MXTsaugp73XxNqBLy9uFaAIc03AikQi6e/dSfIXb4o0kSHLskhuHjSLBRMI/QmhHu5F6AX8COiUKjYhWd1odSbjddfiJ5qYFpzwc5HTe9wX8gg8wSVI+eX58kSJJHxmbafps+PYbzkQmfD4YPZO+WZ8vEcaN9y4Dqs/nh7gaO2WMzE+6zfL5Grom7Jtr+kZivpptUiePbEXdAYK+hdtIUBT+gmOzeGhhMkwmfP4JHw1CyxK4wU4iOJGMkjHfzJsdxVMLuPvS5BQhn0+qvotfbEdI+m6nCJmbDcP4pT24ZST2Fr4RTSbD2EH+20kVXmD7gsmJMG4e7vf7QQtN+KYuPKTHbgd9QfmT0SpBUbklVSIMEjTTQ2ZmZ2ZTpMfXc3s2POWbf4OJFAojMzk16RI0NU8vi6CF1BgM4eQsjtrwpEuQPxoNE9/ClG8KRu3kvC8Z9t3GF8DI/O2RCR+BrlrwRcd8CxcVe3UhRYCAoG8sOTk7Igny+9x8I/zMzCRIL/zMyOdT8JHgiO9ilentIulToRFkcn4u5UtdlgTBuIUbtGVsbLaHVCUIMEFA54756MIMfCQ5Aq+TvvC8fIEELeBAV2/PnXn+MwAabt43Cw+TkzN+kpqVh4AGMMmSoKiv5/PJyejkDBlBgt5sJlIOwwkyOTs5NRcOXxJBY775eTA4Sd/nU6kwqUpQMDwCEpRAmZr9goRngaAgdFz09hgY9VQCem4K5D8RvgLsgf0AAAFFSURBVDhBqdlkcswXDLpaVRJEFnqi0J6gJAjHbTRBe3Bk+MNvlqCobyaZnO9xO4VcDkEU3IJkcspH52alXumpERSmLkFkHpULEPQFmfOp8CLqm5A9JwmavagbPDKLe7z6Zqpmr+rF3fYtuF4c2KCU73PfFJU/7Ce3fRNvMEwaw0aB3sB/83VZBEHnJ+TdnKv4q17c7O3ZGSK1Gk2ihAFB8z3QZwnf/O0eFXoObCdqvSnfBRkKy/mtYDAclI5h1PU5wn6c2R8JytfBCQiUglE4GIYA4E0WNUWDGJNB22SraPBS4qAR7BkVnAK/7CE3DgoCohQ7BDsoEQ2OwPBNJHB5EvbWiF+Fz1Ho23DiPSqReKeBfsRl4FLTPu9Szik8150o7KKLLrrooosuuuiiiy666KKLLrrooosuuuiiiy666KKLdxr/H8PDbkarpJrfAAAAAElFTkSuQmCC)"
      ],
      "metadata": {
        "id": "ZuTA0kz-anJ-"
      }
    },
    {
      "cell_type": "code",
      "source": [
        "# An endpoint is a specific location within a web service that an application can \n",
        "# access to retrieve or update data. Endpoints typically have a specific URL, such\n",
        "# as https://example.com/api/users which is used to access a list of users."
      ],
      "metadata": {
        "id": "RRjxRCjibBdu"
      },
      "execution_count": null,
      "outputs": []
    },
    {
      "cell_type": "markdown",
      "source": [
        "**What is REST?**\n",
        "\n",
        "![link text](data:image/png;base64,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)"
      ],
      "metadata": {
        "id": "RsQfpuU0b5h1"
      }
    },
    {
      "cell_type": "code",
      "source": [
        "# REST (Representational State Transfer) is an architectural style for building web services. \n",
        "# RESTful APIs use HTTP requests to POST (create), PUT (update), GET (read), and DELETE data."
      ],
      "metadata": {
        "id": "GCP6iv6ab84T"
      },
      "execution_count": null,
      "outputs": []
    },
    {
      "cell_type": "markdown",
      "source": [
        "An example of API request:\n",
        "\n",
        "```\n",
        "GET https://api.example.com/users/123\n",
        "```\n",
        "\n",
        "This request is sent to the API's endpoint https://api.example.com/users/123 using the GET method to retrieve information about a user with the ID of 123. The API would respond with a JSON object containing the user's information.\n",
        "\n",
        "\n",
        "\n",
        "```\n",
        "{\n",
        "   \"userId\": 123,\n",
        "   \"username\": \"johndoe\",\n",
        "   \"email\": \"johndoe@example.com\"\n",
        "}\n",
        "\n",
        "```\n",
        "\n",
        "\n"
      ],
      "metadata": {
        "id": "yCk4tfIqccOA"
      }
    },
    {
      "cell_type": "code",
      "source": [],
      "metadata": {
        "id": "VxZ2P7KEcbrH"
      },
      "execution_count": null,
      "outputs": []
    },
    {
      "cell_type": "markdown",
      "source": [
        "# Must-know SQL Queries"
      ],
      "metadata": {
        "id": "f70MjL2x_QuZ"
      }
    },
    {
      "cell_type": "markdown",
      "source": [
        "Before we start, we have to load a database to our notebook environment:\n"
      ],
      "metadata": {
        "id": "PekJlfmaAVY6"
      }
    },
    {
      "cell_type": "code",
      "metadata": {
        "id": "XoX87vd2P8nG"
      },
      "source": [
        "# To connect to our database\n",
        "# We will first load the sql extension into our environment\n",
        "%load_ext sql\n",
        "\n",
        "# Then connect to our in memory sqlite database\n",
        "# NB: This database will cease to exist as soon as the database connection is closed. \n",
        "%sql sqlite://"
      ],
      "execution_count": null,
      "outputs": []
    },
    {
      "cell_type": "code",
      "metadata": {
        "id": "0v-T-TEIP-SE"
      },
      "source": [
        "# To import our Data from CSV files\n",
        "# We first import the pandas library\n",
        "# We will use a function read_csv from pandas to read our datasets as shown\n",
        "import pandas as pd "
      ],
      "execution_count": null,
      "outputs": []
    },
    {
      "cell_type": "markdown",
      "source": [
        "## Data definition language (DDL)\n",
        "\n",
        "![#000000](https://placehold.co/15x15/000000/000000.png) This includes commands for creating, modifying, and deleting database structures such as tables and views.\n",
        "\n",
        "Examples of DDL commands include `CREATE TABLE`, `ALTER TABLE`, and `DROP TABLE`."
      ],
      "metadata": {
        "id": "ZbeR18Et_qx6"
      }
    },
    {
      "cell_type": "code",
      "execution_count": null,
      "metadata": {
        "colab": {
          "base_uri": "https://localhost:8080/"
        },
        "id": "sJNH83yZ6-ak",
        "outputId": "372851ae-544e-4625-a043-beda9e8b56b5"
      },
      "outputs": [
        {
          "output_type": "stream",
          "name": "stdout",
          "text": [
            " * sqlite://\n",
            "Done.\n"
          ]
        },
        {
          "output_type": "execute_result",
          "data": {
            "text/plain": [
              "[]"
            ]
          },
          "metadata": {},
          "execution_count": 3
        }
      ],
      "source": [
        "# Examples\n",
        "%%sql\n",
        "CREATE TABLE Employee (\n",
        "    EmployeeID INT PRIMARY KEY,\n",
        "    FirstName VARCHAR(50) NOT NULL,\n",
        "    LastName VARCHAR(50) NOT NULL,\n",
        "    Salary DECIMAL(10,2)\n",
        ");"
      ]
    },
    {
      "cell_type": "code",
      "source": [
        "%%sql\n",
        "CREATE TABLE Employee2 (\n",
        "    EmployeeID INT PRIMARY KEY,\n",
        "    FirstName VARCHAR(50) NOT NULL,\n",
        "    LastName VARCHAR(50) NOT NULL,\n",
        "    Salary DECIMAL(10,2)\n",
        ");"
      ],
      "metadata": {
        "colab": {
          "base_uri": "https://localhost:8080/"
        },
        "id": "XMRPeLwP3lxU",
        "outputId": "78c116bd-4642-4b5d-8c63-82db1b8b7374"
      },
      "execution_count": null,
      "outputs": [
        {
          "output_type": "stream",
          "name": "stdout",
          "text": [
            " * sqlite://\n",
            "Done.\n"
          ]
        },
        {
          "output_type": "execute_result",
          "data": {
            "text/plain": [
              "[]"
            ]
          },
          "metadata": {},
          "execution_count": 7
        }
      ]
    },
    {
      "cell_type": "code",
      "source": [
        "%%sql\n",
        "ALTER TABLE Employee\n",
        "ADD Age INT;\n",
        "\n",
        "ALTER TABLE Employee\n",
        "ADD Address VARCHAR(100);\n",
        "\n",
        "ALTER TABLE Employee\n",
        "MODIFY Salary DECIMAL(12,2);"
      ],
      "metadata": {
        "id": "9gkKXy3IB5zq",
        "colab": {
          "base_uri": "https://localhost:8080/"
        },
        "outputId": "020347b6-5e0c-4527-dc29-4f7bfd091f95"
      },
      "execution_count": null,
      "outputs": [
        {
          "output_type": "stream",
          "name": "stdout",
          "text": [
            " * sqlite://\n",
            "Done.\n",
            "Done.\n",
            "(sqlite3.OperationalError) near \"MODIFY\": syntax error\n",
            "[SQL: ALTER TABLE Employee\n",
            "MODIFY Salary DECIMAL(12,2);]\n",
            "(Background on this error at: https://sqlalche.me/e/14/e3q8)\n"
          ]
        }
      ]
    },
    {
      "cell_type": "markdown",
      "source": [
        "For our modify error:\n",
        "\n",
        "`sqlite3.OperationalError) near \"MODIFY\": syntax error\n",
        "[SQL: ALTER TABLE Employee\n",
        "MODIFY Salary DECIMAL(12,2);]\n",
        "(Background on this error at: https://sqlalche.me/e/14/e3q8)`\n",
        "\n",
        "he error you're encountering is due to the use of the MODIFY keyword, which is not supported in SQLite. SQLite has its own syntax for altering columns in a table.\n",
        "\n",
        "In SQLite, you cannot directly modify an existing column's data type or other attributes. Instead, you need to perform a series of steps to achieve the desired result:\n",
        "\n",
        "-- Step 1: Rename the existing table  \n",
        "`ALTER TABLE Employee RENAME TO Employee_old;`\n",
        "\n",
        "-- Step 2: Create a new table with the modified column structure  \n",
        "`CREATE TABLE Employee (\n",
        "    -- Add all the columns from the original table\n",
        "    -- Replace the Salary column definition with the new data type\n",
        "    Salary DECIMAL(12,2)\n",
        "    -- Add other columns here as in the original table structure\n",
        ");`\n",
        "\n",
        "-- Step 3: Copy the data from the old table to the new table  \n",
        "`INSERT INTO Employee SELECT * FROM Employee_old;`\n",
        "\n",
        "-- Step 4: Drop the old table  \n",
        "`DROP TABLE Employee_old;`"
      ],
      "metadata": {
        "id": "bY8wwmvakWWD"
      }
    },
    {
      "cell_type": "code",
      "source": [
        "%%sql\n",
        "DROP TABLE Employee;"
      ],
      "metadata": {
        "id": "cbZ-hLdqB-Z7",
        "colab": {
          "base_uri": "https://localhost:8080/"
        },
        "outputId": "576791a0-95d5-49b8-b259-b7487973335d"
      },
      "execution_count": null,
      "outputs": [
        {
          "output_type": "stream",
          "name": "stdout",
          "text": [
            " * sqlite://\n",
            "Done.\n"
          ]
        },
        {
          "output_type": "execute_result",
          "data": {
            "text/plain": [
              "[]"
            ]
          },
          "metadata": {},
          "execution_count": 6
        }
      ]
    },
    {
      "cell_type": "markdown",
      "source": [
        "## Data manipulation language (DML)\n",
        "\n",
        "![#000000](https://placehold.co/15x15/000000/000000.png) This includes commands for inserting, updating, and deleting data in a database. \n",
        "\n",
        "Examples of DML commands include `SELECT`, `INSERT`, `UPDATE`, and `DELETE`."
      ],
      "metadata": {
        "id": "6gXqdt0KCCeE"
      }
    },
    {
      "cell_type": "code",
      "source": [
        "%%sql\n",
        "INSERT INTO Employee (FirstName, LastName, Salary)\n",
        "VALUES ('John', 'Doe', 60000);"
      ],
      "metadata": {
        "colab": {
          "base_uri": "https://localhost:8080/"
        },
        "id": "HaUNm5QyCvae",
        "outputId": "928edc36-f81b-4f94-cb79-4a037690d8e5"
      },
      "execution_count": null,
      "outputs": [
        {
          "output_type": "stream",
          "name": "stdout",
          "text": [
            " * sqlite://\n",
            "1 rows affected.\n"
          ]
        },
        {
          "output_type": "execute_result",
          "data": {
            "text/plain": [
              "[]"
            ]
          },
          "metadata": {},
          "execution_count": 5
        }
      ]
    },
    {
      "cell_type": "code",
      "source": [
        "%%sql\n",
        "SELECT FirstName, LastName, Salary\n",
        "FROM Employee\n",
        "WHERE Salary > 50000;"
      ],
      "metadata": {
        "colab": {
          "base_uri": "https://localhost:8080/",
          "height": 96
        },
        "id": "vAw-IrIYCQtL",
        "outputId": "537d5772-9a4d-456c-fc8d-aeb880030bfa"
      },
      "execution_count": null,
      "outputs": [
        {
          "output_type": "stream",
          "name": "stdout",
          "text": [
            " * sqlite://\n",
            "Done.\n"
          ]
        },
        {
          "output_type": "execute_result",
          "data": {
            "text/plain": [
              "[('John', 'Doe', 60000)]"
            ],
            "text/html": [
              "<table>\n",
              "    <thead>\n",
              "        <tr>\n",
              "            <th>FirstName</th>\n",
              "            <th>LastName</th>\n",
              "            <th>Salary</th>\n",
              "        </tr>\n",
              "    </thead>\n",
              "    <tbody>\n",
              "        <tr>\n",
              "            <td>John</td>\n",
              "            <td>Doe</td>\n",
              "            <td>60000</td>\n",
              "        </tr>\n",
              "    </tbody>\n",
              "</table>"
            ]
          },
          "metadata": {},
          "execution_count": 6
        }
      ]
    },
    {
      "cell_type": "code",
      "source": [
        "%%sql\n",
        "UPDATE Employee\n",
        "SET Salary = 65000\n",
        "WHERE EmployeeID = 1;"
      ],
      "metadata": {
        "id": "EnnFZGt2C59C"
      },
      "execution_count": null,
      "outputs": []
    },
    {
      "cell_type": "code",
      "source": [
        "%%sql\n",
        "DELETE FROM Employee\n",
        "WHERE EmployeeID = 1;"
      ],
      "metadata": {
        "id": "GOLSw81cC836"
      },
      "execution_count": null,
      "outputs": []
    },
    {
      "cell_type": "markdown",
      "source": [
        "## Joins\n",
        "![#000000](https://placehold.co/15x15/000000/000000.png) This allows you to retrieve data from multiple tables in a single query. \n",
        "\n",
        "There are different types of joins like inner join, outer join, left join and right join.\n",
        "\n",
        "![link text](https://felixgrayson.files.wordpress.com/2015/06/qje6o.png)"
      ],
      "metadata": {
        "id": "-TMezRpKE_KH"
      }
    },
    {
      "cell_type": "code",
      "source": [
        "%%sql\n",
        "SELECT * FROM Employee A INNER JOIN Employee2 B ON A.EmployeeID=B.EmployeeID; "
      ],
      "metadata": {
        "colab": {
          "base_uri": "https://localhost:8080/",
          "height": 97
        },
        "id": "w-Xr8ARC3zT5",
        "outputId": "fbd1e594-1773-41bc-cff1-8821ee5b26e1"
      },
      "execution_count": null,
      "outputs": [
        {
          "output_type": "stream",
          "name": "stdout",
          "text": [
            " * sqlite://\n",
            "Done.\n"
          ]
        },
        {
          "output_type": "execute_result",
          "data": {
            "text/plain": [
              "[]"
            ],
            "text/html": [
              "<table>\n",
              "    <thead>\n",
              "        <tr>\n",
              "            <th>EmployeeID</th>\n",
              "            <th>FirstName</th>\n",
              "            <th>LastName</th>\n",
              "            <th>Salary</th>\n",
              "            <th>EmployeeID_1</th>\n",
              "            <th>FirstName_1</th>\n",
              "            <th>LastName_1</th>\n",
              "            <th>Salary_1</th>\n",
              "        </tr>\n",
              "    </thead>\n",
              "    <tbody>\n",
              "    </tbody>\n",
              "</table>"
            ]
          },
          "metadata": {},
          "execution_count": 8
        }
      ]
    },
    {
      "cell_type": "markdown",
      "source": [
        "## Subqueries\n",
        "\n",
        "![#000000](https://placehold.co/15x15/000000/000000.png) This allows you to use the result of one query as input for another query."
      ],
      "metadata": {
        "id": "q3luwdN_GDXP"
      }
    },
    {
      "cell_type": "code",
      "source": [
        "# Retrieve all employees who work in the department with the highest average salary\n",
        "%%sql\n",
        "SELECT * \n",
        "FROM Employee \n",
        "WHERE DepartmentID = (SELECT DepartmentID FROM Department WHERE AVG(Salary) = (SELECT MAX(AVG(Salary)) FROM Department));"
      ],
      "metadata": {
        "id": "4EFl0R8OFmMr"
      },
      "execution_count": null,
      "outputs": []
    },
    {
      "cell_type": "markdown",
      "source": [
        "## Aggregate functions: \n",
        "\n",
        "![#000000](https://placehold.co/15x15/000000/000000.png)These are functions like SUM, AVG, COUNT, MIN, MAX etc. that are used to summarize data in a query."
      ],
      "metadata": {
        "id": "79mAwa25X7rH"
      }
    },
    {
      "cell_type": "code",
      "source": [
        "# Count\n",
        "%%sql\n",
        "SELECT COUNT(*) FROM Employee;\n",
        "\n",
        "%%sql\n",
        "SELECT COUNT(Salary) FROM Employee WHERE Salary > 50000;"
      ],
      "metadata": {
        "id": "Ic9BXewVYI8-"
      },
      "execution_count": null,
      "outputs": []
    },
    {
      "cell_type": "code",
      "source": [
        "# Sum\n",
        "%%sql\n",
        "SELECT SUM(Salary) FROM Employee;"
      ],
      "metadata": {
        "id": "cT1VQSfHYNWF"
      },
      "execution_count": null,
      "outputs": []
    },
    {
      "cell_type": "code",
      "source": [
        "# Avg\n",
        "%%sql\n",
        "SELECT AVG(Salary) FROM Employee;"
      ],
      "metadata": {
        "id": "1syzt-9MYi3e"
      },
      "execution_count": null,
      "outputs": []
    },
    {
      "cell_type": "code",
      "source": [
        "# Min/Max\n",
        "%%sql\n",
        "SELECT MIN(Salary) FROM Employee;"
      ],
      "metadata": {
        "id": "fD-mk6RKYxLp"
      },
      "execution_count": null,
      "outputs": []
    },
    {
      "cell_type": "code",
      "source": [
        "# Group By\n",
        "%%sql\n",
        "SELECT Department, COUNT(EmployeeID) FROM Employee GROUP BY Department;"
      ],
      "metadata": {
        "id": "elDROYEpY-yd"
      },
      "execution_count": null,
      "outputs": []
    },
    {
      "cell_type": "markdown",
      "source": [
        "SQL Practice: https://colab.research.google.com/drive/1TXdg1Gb4nFxGk6-T35FU8DyqtfOqJXDY?usp=sharing"
      ],
      "metadata": {
        "id": "PFwCXO_ifsj6"
      }
    },
    {
      "cell_type": "code",
      "source": [],
      "metadata": {
        "id": "K3t7q7xvfwDK"
      },
      "execution_count": null,
      "outputs": []
    }
  ]
}