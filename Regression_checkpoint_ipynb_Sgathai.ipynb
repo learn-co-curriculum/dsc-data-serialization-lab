{
  "cells": [
    {
      "cell_type": "markdown",
      "metadata": {
        "id": "view-in-github",
        "colab_type": "text"
      },
      "source": [
        "<a href=\"https://colab.research.google.com/github/sgathai/dsc-data-serialization-lab/blob/master/Regression_checkpoint_ipynb_Sgathai.ipynb\" target=\"_parent\"><img src=\"https://colab.research.google.com/assets/colab-badge.svg\" alt=\"Open In Colab\"/></a>"
      ]
    },
    {
      "cell_type": "markdown",
      "metadata": {
        "deletable": false,
        "editable": false,
        "nbgrader": {
          "cell_type": "markdown",
          "checksum": "160db7f545a41c1c2ad9ae1938848df1",
          "grade": false,
          "grade_id": "cell-3578a4f6a92df65d",
          "locked": true,
          "schema_version": 3,
          "solution": false,
          "task": false
        },
        "id": "8SsG7BiKb5Zl"
      },
      "source": [
        "# Linear Regression Checkpoint\n",
        "\n",
        "This checkpoint is designed to test your understanding of linear regression.\n",
        "\n",
        "Specifically, this will cover:\n",
        "\n",
        "* Creating simple and multiple linear regression models with StatsModels\n",
        "* Interpreting linear regression model metrics\n",
        "* Interpreting linear regression model parameters"
      ]
    },
    {
      "cell_type": "markdown",
      "metadata": {
        "deletable": false,
        "editable": false,
        "nbgrader": {
          "cell_type": "markdown",
          "checksum": "460adda9d0a182f5c982d705306e96de",
          "grade": false,
          "grade_id": "cell-c20eb151e05b7a00",
          "locked": true,
          "schema_version": 3,
          "solution": false,
          "task": false
        },
        "id": "QRfENVkBb5Zn"
      },
      "source": [
        "## Your Task: Build Linear Regression Models to Predict Home Prices\n",
        "\n",
        "### Data Understanding\n",
        "\n",
        "You will be using the Ames Housing dataset, modeling the `SalePrice` using these numeric features:\n",
        "\n",
        "* `GrLivArea`: Above grade living area (square feet)\n",
        "* `GarageArea`: Size of garage (square feet)\n",
        "* `LotArea`: Lot size (square feet)\n",
        "* `LotFrontage`: Length of street connected to property (feet)"
      ]
    },
    {
      "cell_type": "code",
      "execution_count": 1,
      "metadata": {
        "deletable": false,
        "editable": false,
        "nbgrader": {
          "cell_type": "code",
          "checksum": "e01ea64915af1ba05d9853ede5645f26",
          "grade": false,
          "grade_id": "cell-0c2618a86ae14fdf",
          "locked": true,
          "schema_version": 3,
          "solution": false,
          "task": false
        },
        "colab": {
          "base_uri": "https://localhost:8080/",
          "height": 455
        },
        "id": "zK3sTw_ib5Zn",
        "outputId": "95bccd57-2508-4587-b692-988f51744fed"
      },
      "outputs": [
        {
          "output_type": "execute_result",
          "data": {
            "text/plain": [
              "      SalePrice  GrLivArea  GarageArea  LotArea  LotFrontage\n",
              "Id                                                          \n",
              "1        208500       1710         548     8450         65.0\n",
              "2        181500       1262         460     9600         80.0\n",
              "3        223500       1786         608    11250         68.0\n",
              "4        140000       1717         642     9550         60.0\n",
              "5        250000       2198         836    14260         84.0\n",
              "...         ...        ...         ...      ...          ...\n",
              "1456     175000       1647         460     7917         62.0\n",
              "1457     210000       2073         500    13175         85.0\n",
              "1458     266500       2340         252     9042         66.0\n",
              "1459     142125       1078         240     9717         68.0\n",
              "1460     147500       1256         276     9937         75.0\n",
              "\n",
              "[1460 rows x 5 columns]"
            ],
            "text/html": [
              "\n",
              "  <div id=\"df-4336a91a-d335-4c75-9bbf-ce5ddd567e3a\">\n",
              "    <div class=\"colab-df-container\">\n",
              "      <div>\n",
              "<style scoped>\n",
              "    .dataframe tbody tr th:only-of-type {\n",
              "        vertical-align: middle;\n",
              "    }\n",
              "\n",
              "    .dataframe tbody tr th {\n",
              "        vertical-align: top;\n",
              "    }\n",
              "\n",
              "    .dataframe thead th {\n",
              "        text-align: right;\n",
              "    }\n",
              "</style>\n",
              "<table border=\"1\" class=\"dataframe\">\n",
              "  <thead>\n",
              "    <tr style=\"text-align: right;\">\n",
              "      <th></th>\n",
              "      <th>SalePrice</th>\n",
              "      <th>GrLivArea</th>\n",
              "      <th>GarageArea</th>\n",
              "      <th>LotArea</th>\n",
              "      <th>LotFrontage</th>\n",
              "    </tr>\n",
              "    <tr>\n",
              "      <th>Id</th>\n",
              "      <th></th>\n",
              "      <th></th>\n",
              "      <th></th>\n",
              "      <th></th>\n",
              "      <th></th>\n",
              "    </tr>\n",
              "  </thead>\n",
              "  <tbody>\n",
              "    <tr>\n",
              "      <th>1</th>\n",
              "      <td>208500</td>\n",
              "      <td>1710</td>\n",
              "      <td>548</td>\n",
              "      <td>8450</td>\n",
              "      <td>65.0</td>\n",
              "    </tr>\n",
              "    <tr>\n",
              "      <th>2</th>\n",
              "      <td>181500</td>\n",
              "      <td>1262</td>\n",
              "      <td>460</td>\n",
              "      <td>9600</td>\n",
              "      <td>80.0</td>\n",
              "    </tr>\n",
              "    <tr>\n",
              "      <th>3</th>\n",
              "      <td>223500</td>\n",
              "      <td>1786</td>\n",
              "      <td>608</td>\n",
              "      <td>11250</td>\n",
              "      <td>68.0</td>\n",
              "    </tr>\n",
              "    <tr>\n",
              "      <th>4</th>\n",
              "      <td>140000</td>\n",
              "      <td>1717</td>\n",
              "      <td>642</td>\n",
              "      <td>9550</td>\n",
              "      <td>60.0</td>\n",
              "    </tr>\n",
              "    <tr>\n",
              "      <th>5</th>\n",
              "      <td>250000</td>\n",
              "      <td>2198</td>\n",
              "      <td>836</td>\n",
              "      <td>14260</td>\n",
              "      <td>84.0</td>\n",
              "    </tr>\n",
              "    <tr>\n",
              "      <th>...</th>\n",
              "      <td>...</td>\n",
              "      <td>...</td>\n",
              "      <td>...</td>\n",
              "      <td>...</td>\n",
              "      <td>...</td>\n",
              "    </tr>\n",
              "    <tr>\n",
              "      <th>1456</th>\n",
              "      <td>175000</td>\n",
              "      <td>1647</td>\n",
              "      <td>460</td>\n",
              "      <td>7917</td>\n",
              "      <td>62.0</td>\n",
              "    </tr>\n",
              "    <tr>\n",
              "      <th>1457</th>\n",
              "      <td>210000</td>\n",
              "      <td>2073</td>\n",
              "      <td>500</td>\n",
              "      <td>13175</td>\n",
              "      <td>85.0</td>\n",
              "    </tr>\n",
              "    <tr>\n",
              "      <th>1458</th>\n",
              "      <td>266500</td>\n",
              "      <td>2340</td>\n",
              "      <td>252</td>\n",
              "      <td>9042</td>\n",
              "      <td>66.0</td>\n",
              "    </tr>\n",
              "    <tr>\n",
              "      <th>1459</th>\n",
              "      <td>142125</td>\n",
              "      <td>1078</td>\n",
              "      <td>240</td>\n",
              "      <td>9717</td>\n",
              "      <td>68.0</td>\n",
              "    </tr>\n",
              "    <tr>\n",
              "      <th>1460</th>\n",
              "      <td>147500</td>\n",
              "      <td>1256</td>\n",
              "      <td>276</td>\n",
              "      <td>9937</td>\n",
              "      <td>75.0</td>\n",
              "    </tr>\n",
              "  </tbody>\n",
              "</table>\n",
              "<p>1460 rows × 5 columns</p>\n",
              "</div>\n",
              "      <button class=\"colab-df-convert\" onclick=\"convertToInteractive('df-4336a91a-d335-4c75-9bbf-ce5ddd567e3a')\"\n",
              "              title=\"Convert this dataframe to an interactive table.\"\n",
              "              style=\"display:none;\">\n",
              "        \n",
              "  <svg xmlns=\"http://www.w3.org/2000/svg\" height=\"24px\"viewBox=\"0 0 24 24\"\n",
              "       width=\"24px\">\n",
              "    <path d=\"M0 0h24v24H0V0z\" fill=\"none\"/>\n",
              "    <path d=\"M18.56 5.44l.94 2.06.94-2.06 2.06-.94-2.06-.94-.94-2.06-.94 2.06-2.06.94zm-11 1L8.5 8.5l.94-2.06 2.06-.94-2.06-.94L8.5 2.5l-.94 2.06-2.06.94zm10 10l.94 2.06.94-2.06 2.06-.94-2.06-.94-.94-2.06-.94 2.06-2.06.94z\"/><path d=\"M17.41 7.96l-1.37-1.37c-.4-.4-.92-.59-1.43-.59-.52 0-1.04.2-1.43.59L10.3 9.45l-7.72 7.72c-.78.78-.78 2.05 0 2.83L4 21.41c.39.39.9.59 1.41.59.51 0 1.02-.2 1.41-.59l7.78-7.78 2.81-2.81c.8-.78.8-2.07 0-2.86zM5.41 20L4 18.59l7.72-7.72 1.47 1.35L5.41 20z\"/>\n",
              "  </svg>\n",
              "      </button>\n",
              "      \n",
              "  <style>\n",
              "    .colab-df-container {\n",
              "      display:flex;\n",
              "      flex-wrap:wrap;\n",
              "      gap: 12px;\n",
              "    }\n",
              "\n",
              "    .colab-df-convert {\n",
              "      background-color: #E8F0FE;\n",
              "      border: none;\n",
              "      border-radius: 50%;\n",
              "      cursor: pointer;\n",
              "      display: none;\n",
              "      fill: #1967D2;\n",
              "      height: 32px;\n",
              "      padding: 0 0 0 0;\n",
              "      width: 32px;\n",
              "    }\n",
              "\n",
              "    .colab-df-convert:hover {\n",
              "      background-color: #E2EBFA;\n",
              "      box-shadow: 0px 1px 2px rgba(60, 64, 67, 0.3), 0px 1px 3px 1px rgba(60, 64, 67, 0.15);\n",
              "      fill: #174EA6;\n",
              "    }\n",
              "\n",
              "    [theme=dark] .colab-df-convert {\n",
              "      background-color: #3B4455;\n",
              "      fill: #D2E3FC;\n",
              "    }\n",
              "\n",
              "    [theme=dark] .colab-df-convert:hover {\n",
              "      background-color: #434B5C;\n",
              "      box-shadow: 0px 1px 3px 1px rgba(0, 0, 0, 0.15);\n",
              "      filter: drop-shadow(0px 1px 2px rgba(0, 0, 0, 0.3));\n",
              "      fill: #FFFFFF;\n",
              "    }\n",
              "  </style>\n",
              "\n",
              "      <script>\n",
              "        const buttonEl =\n",
              "          document.querySelector('#df-4336a91a-d335-4c75-9bbf-ce5ddd567e3a button.colab-df-convert');\n",
              "        buttonEl.style.display =\n",
              "          google.colab.kernel.accessAllowed ? 'block' : 'none';\n",
              "\n",
              "        async function convertToInteractive(key) {\n",
              "          const element = document.querySelector('#df-4336a91a-d335-4c75-9bbf-ce5ddd567e3a');\n",
              "          const dataTable =\n",
              "            await google.colab.kernel.invokeFunction('convertToInteractive',\n",
              "                                                     [key], {});\n",
              "          if (!dataTable) return;\n",
              "\n",
              "          const docLinkHtml = 'Like what you see? Visit the ' +\n",
              "            '<a target=\"_blank\" href=https://colab.research.google.com/notebooks/data_table.ipynb>data table notebook</a>'\n",
              "            + ' to learn more about interactive tables.';\n",
              "          element.innerHTML = '';\n",
              "          dataTable['output_type'] = 'display_data';\n",
              "          await google.colab.output.renderOutput(dataTable, element);\n",
              "          const docLink = document.createElement('div');\n",
              "          docLink.innerHTML = docLinkHtml;\n",
              "          element.appendChild(docLink);\n",
              "        }\n",
              "      </script>\n",
              "    </div>\n",
              "  </div>\n",
              "  "
            ]
          },
          "metadata": {},
          "execution_count": 1
        }
      ],
      "source": [
        "# Run this cell without changes\n",
        "\n",
        "import pandas as pd\n",
        "df = pd.read_csv(\"ames.csv\", index_col=0)\n",
        "df = df[[\"SalePrice\", \"GrLivArea\", \"GarageArea\", \"LotArea\", \"LotFrontage\"]].copy()\n",
        "df"
      ]
    },
    {
      "cell_type": "markdown",
      "metadata": {
        "deletable": false,
        "editable": false,
        "nbgrader": {
          "cell_type": "markdown",
          "checksum": "2013ecc110b2275622f8112c8d3034e9",
          "grade": false,
          "grade_id": "cell-b251b9dc9f044806",
          "locked": true,
          "schema_version": 3,
          "solution": false,
          "task": false
        },
        "id": "vXq9Ves7b5Zo"
      },
      "source": [
        "### Modeling\n",
        "\n",
        "You will apply an inferential modeling process using StatsModels. This means that you are trying to create the best model in terms of variance in `SalePrice` that is explained (i.e. r-squared), not RMSE or some other more user-friendly metric. For this reason you also will not use a train-test split.\n",
        "\n",
        "You will build **two models — one simple linear regression model and one multiple linear regresssion model** — then you will interpret the model summaries.\n",
        "\n",
        "There are two relevant components of interpreting the model summaries: model **metrics** such as r-squared and p-values, which tell you how well your model is fit to the data, and model **parameters** (intercept and coefficients), which tell you how the model is using the feature(s) to predict the target.\n",
        "\n",
        "### Requirements"
      ]
    },
    {
      "cell_type": "markdown",
      "metadata": {
        "deletable": false,
        "editable": false,
        "nbgrader": {
          "cell_type": "markdown",
          "checksum": "28616a8e09439d0fa43073ed999812ef",
          "grade": false,
          "grade_id": "cell-b60866e4db6c8525",
          "locked": true,
          "schema_version": 3,
          "solution": false,
          "task": false
        },
        "id": "y9I7gmA5b5Zo"
      },
      "source": [
        "## 1. Build a Simple Linear Regression Using StatsModels\n",
        "\n",
        "Below, we use the `.corr()` method to find which features are most correlated with `SalePrice`:"
      ]
    },
    {
      "cell_type": "code",
      "execution_count": 2,
      "metadata": {
        "deletable": false,
        "editable": false,
        "nbgrader": {
          "cell_type": "code",
          "checksum": "e08c48970c91521ca12abd2e783e620b",
          "grade": false,
          "grade_id": "cell-a7f9739ece571cd3",
          "locked": true,
          "schema_version": 3,
          "solution": false,
          "task": false
        },
        "colab": {
          "base_uri": "https://localhost:8080/"
        },
        "id": "6KN6FLKwb5Zp",
        "outputId": "f58751c8-0d91-4cf1-fa20-dccf5fea9402"
      },
      "outputs": [
        {
          "output_type": "execute_result",
          "data": {
            "text/plain": [
              "SalePrice      1.000000\n",
              "GrLivArea      0.708624\n",
              "GarageArea     0.623431\n",
              "LotArea        0.263843\n",
              "LotFrontage    0.351799\n",
              "Name: SalePrice, dtype: float64"
            ]
          },
          "metadata": {},
          "execution_count": 2
        }
      ],
      "source": [
        "# Run this cell without changes\n",
        "df.corr()[\"SalePrice\"]"
      ]
    },
    {
      "cell_type": "markdown",
      "metadata": {
        "deletable": false,
        "editable": false,
        "nbgrader": {
          "cell_type": "markdown",
          "checksum": "c0777f51c6419c4f9efdbc68ed724d1d",
          "grade": false,
          "grade_id": "cell-ea72d0fe82eed8a9",
          "locked": true,
          "schema_version": 3,
          "solution": false,
          "task": false
        },
        "id": "WaeEkVdhb5Zp"
      },
      "source": [
        "The `GrLivArea` feature has the highest correlation with `SalePrice`, so we will use it to build a simple linear regression model.\n",
        "\n",
        "Recall that the general structure of a StatsModels linear regression model is something like this:\n",
        "\n",
        "```python\n",
        "formula = 'y ~ x'\n",
        "model = ols(formula, df).fit()\n",
        "summary = model.summary()\n",
        "```\n",
        "\n",
        "Where `y` is the name of the target (dependent) variable, `x` is the name of the feature (independent) variable, and `df` is the dataframe containing both `y` and `x`.\n",
        "\n",
        "In the cell below, fill in the appropriate values to create and summarize a simple linear regression model where `SalePrice` is the target and `GrLivArea` is the feature."
      ]
    },
    {
      "cell_type": "code",
      "execution_count": 3,
      "metadata": {
        "deletable": false,
        "nbgrader": {
          "cell_type": "code",
          "checksum": "fec669a72205701aad16e9aafb17f72f",
          "grade": false,
          "grade_id": "cell-652f04adad36b12a",
          "locked": false,
          "schema_version": 3,
          "solution": true,
          "task": false
        },
        "colab": {
          "base_uri": "https://localhost:8080/",
          "height": 482
        },
        "id": "WhavgJfob5Zp",
        "outputId": "6c0d5c76-1e7b-4e16-99d2-b65cbbfea8e4"
      },
      "outputs": [
        {
          "output_type": "execute_result",
          "data": {
            "text/plain": [
              "<class 'statsmodels.iolib.summary.Summary'>\n",
              "\"\"\"\n",
              "                            OLS Regression Results                            \n",
              "==============================================================================\n",
              "Dep. Variable:              SalePrice   R-squared:                       0.502\n",
              "Model:                            OLS   Adj. R-squared:                  0.502\n",
              "Method:                 Least Squares   F-statistic:                     1471.\n",
              "Date:                Sat, 20 May 2023   Prob (F-statistic):          4.52e-223\n",
              "Time:                        15:19:24   Log-Likelihood:                -18035.\n",
              "No. Observations:                1460   AIC:                         3.607e+04\n",
              "Df Residuals:                    1458   BIC:                         3.608e+04\n",
              "Df Model:                           1                                         \n",
              "Covariance Type:            nonrobust                                         \n",
              "==============================================================================\n",
              "                 coef    std err          t      P>|t|      [0.025      0.975]\n",
              "------------------------------------------------------------------------------\n",
              "Intercept   1.857e+04   4480.755      4.144      0.000    9779.612    2.74e+04\n",
              "GrLivArea    107.1304      2.794     38.348      0.000     101.650     112.610\n",
              "==============================================================================\n",
              "Omnibus:                      261.166   Durbin-Watson:                   2.025\n",
              "Prob(Omnibus):                  0.000   Jarque-Bera (JB):             3432.287\n",
              "Skew:                           0.410   Prob(JB):                         0.00\n",
              "Kurtosis:                      10.467   Cond. No.                     4.90e+03\n",
              "==============================================================================\n",
              "\n",
              "Notes:\n",
              "[1] Standard Errors assume that the covariance matrix of the errors is correctly specified.\n",
              "[2] The condition number is large, 4.9e+03. This might indicate that there are\n",
              "strong multicollinearity or other numerical problems.\n",
              "\"\"\""
            ],
            "text/html": [
              "<table class=\"simpletable\">\n",
              "<caption>OLS Regression Results</caption>\n",
              "<tr>\n",
              "  <th>Dep. Variable:</th>        <td>SalePrice</td>    <th>  R-squared:         </th> <td>   0.502</td> \n",
              "</tr>\n",
              "<tr>\n",
              "  <th>Model:</th>                   <td>OLS</td>       <th>  Adj. R-squared:    </th> <td>   0.502</td> \n",
              "</tr>\n",
              "<tr>\n",
              "  <th>Method:</th>             <td>Least Squares</td>  <th>  F-statistic:       </th> <td>   1471.</td> \n",
              "</tr>\n",
              "<tr>\n",
              "  <th>Date:</th>             <td>Sat, 20 May 2023</td> <th>  Prob (F-statistic):</th> <td>4.52e-223</td>\n",
              "</tr>\n",
              "<tr>\n",
              "  <th>Time:</th>                 <td>15:19:24</td>     <th>  Log-Likelihood:    </th> <td> -18035.</td> \n",
              "</tr>\n",
              "<tr>\n",
              "  <th>No. Observations:</th>      <td>  1460</td>      <th>  AIC:               </th> <td>3.607e+04</td>\n",
              "</tr>\n",
              "<tr>\n",
              "  <th>Df Residuals:</th>          <td>  1458</td>      <th>  BIC:               </th> <td>3.608e+04</td>\n",
              "</tr>\n",
              "<tr>\n",
              "  <th>Df Model:</th>              <td>     1</td>      <th>                     </th>     <td> </td>    \n",
              "</tr>\n",
              "<tr>\n",
              "  <th>Covariance Type:</th>      <td>nonrobust</td>    <th>                     </th>     <td> </td>    \n",
              "</tr>\n",
              "</table>\n",
              "<table class=\"simpletable\">\n",
              "<tr>\n",
              "      <td></td>         <th>coef</th>     <th>std err</th>      <th>t</th>      <th>P>|t|</th>  <th>[0.025</th>    <th>0.975]</th>  \n",
              "</tr>\n",
              "<tr>\n",
              "  <th>Intercept</th> <td> 1.857e+04</td> <td> 4480.755</td> <td>    4.144</td> <td> 0.000</td> <td> 9779.612</td> <td> 2.74e+04</td>\n",
              "</tr>\n",
              "<tr>\n",
              "  <th>GrLivArea</th> <td>  107.1304</td> <td>    2.794</td> <td>   38.348</td> <td> 0.000</td> <td>  101.650</td> <td>  112.610</td>\n",
              "</tr>\n",
              "</table>\n",
              "<table class=\"simpletable\">\n",
              "<tr>\n",
              "  <th>Omnibus:</th>       <td>261.166</td> <th>  Durbin-Watson:     </th> <td>   2.025</td>\n",
              "</tr>\n",
              "<tr>\n",
              "  <th>Prob(Omnibus):</th> <td> 0.000</td>  <th>  Jarque-Bera (JB):  </th> <td>3432.287</td>\n",
              "</tr>\n",
              "<tr>\n",
              "  <th>Skew:</th>          <td> 0.410</td>  <th>  Prob(JB):          </th> <td>    0.00</td>\n",
              "</tr>\n",
              "<tr>\n",
              "  <th>Kurtosis:</th>      <td>10.467</td>  <th>  Cond. No.          </th> <td>4.90e+03</td>\n",
              "</tr>\n",
              "</table><br/><br/>Notes:<br/>[1] Standard Errors assume that the covariance matrix of the errors is correctly specified.<br/>[2] The condition number is large, 4.9e+03. This might indicate that there are<br/>strong multicollinearity or other numerical problems."
            ]
          },
          "metadata": {},
          "execution_count": 3
        }
      ],
      "source": [
        "from statsmodels.formula.api import ols\n",
        "\n",
        "# Replace None with appropriate code\n",
        "simple_formula = \"SalePrice ~ GrLivArea\"\n",
        "simple_model = ols(simple_formula, df).fit()\n",
        "simple_model_summary = simple_model.summary()\n",
        "# YOUR CODE HERE\n",
        "\n",
        "simple_model_summary"
      ]
    },
    {
      "cell_type": "code",
      "execution_count": 4,
      "metadata": {
        "deletable": false,
        "editable": false,
        "nbgrader": {
          "cell_type": "code",
          "checksum": "86f6dfc84cc4e7d85c972477ef35dd2f",
          "grade": true,
          "grade_id": "cell-7dd2ee8651ceae28",
          "locked": true,
          "points": 0.5,
          "schema_version": 3,
          "solution": false,
          "task": false
        },
        "id": "YnZVW2Nkb5Zp"
      },
      "outputs": [],
      "source": [
        "import statsmodels\n",
        "\n",
        "# simple_model should be a model fit with 1 feature\n",
        "assert simple_model.df_model == 1\n",
        "\n",
        "# simple_model_summary should be a StatsModels model summary\n",
        "assert type(simple_model_summary) == statsmodels.iolib.summary.Summary\n",
        "\n",
        "# PUT ALL WORK FOR THE ABOVE QUESTION ABOVE THIS CELL\n",
        "# THIS UNALTERABLE CELL CONTAINS HIDDEN TESTS"
      ]
    },
    {
      "cell_type": "markdown",
      "metadata": {
        "deletable": false,
        "editable": false,
        "nbgrader": {
          "cell_type": "markdown",
          "checksum": "795ccaeff6ee082adada242ee62eaa03",
          "grade": false,
          "grade_id": "cell-6a16843c25dfd25c",
          "locked": true,
          "schema_version": 3,
          "solution": false,
          "task": false
        },
        "id": "-QLNaZ_2b5Zp"
      },
      "source": [
        "## 2. Interpret Simple Linear Regression Model Metrics\n",
        "\n",
        "We want to know:\n",
        "\n",
        "1. How much of the variance is explained by this model? This is also known as the r-squared. Fill in `r_squared` with this value — a floating point number between 0 and 1.\n",
        "2. Is the model statistically significant at $\\alpha = 0.05$? This is determined by comparing the probability of the f-statistic to the alpha. Fill in `model_is_significant` with this value — either `True` or `False`.\n",
        "\n",
        "You can either just look at the print-out above and fill in the values, or you can use attributes of `simple_model` ([documentation here](https://www.statsmodels.org/devel/generated/statsmodels.regression.linear_model.RegressionResults.html)). If you are getting stuck, it's usually easier to type the answer in rather than writing code to do it."
      ]
    },
    {
      "cell_type": "code",
      "execution_count": 5,
      "metadata": {
        "deletable": false,
        "nbgrader": {
          "cell_type": "code",
          "checksum": "c987ad3be2c533772092659d086f563c",
          "grade": false,
          "grade_id": "cell-58db32b0f8b50f61",
          "locked": false,
          "schema_version": 3,
          "solution": true,
          "task": false
        },
        "id": "W-4gRLiYb5Zq"
      },
      "outputs": [],
      "source": [
        "# Replace None with appropriate code\n",
        "r_squared = 0.502\n",
        "model_is_significant = True\n",
        "# YOUR CODE HERE\n"
      ]
    },
    {
      "cell_type": "code",
      "execution_count": 6,
      "metadata": {
        "deletable": false,
        "editable": false,
        "nbgrader": {
          "cell_type": "code",
          "checksum": "a9447fc7fdfc9d48ec5f3fd222bc71ff",
          "grade": true,
          "grade_id": "cell-3df92cb526f874ea",
          "locked": true,
          "points": 0.5,
          "schema_version": 3,
          "solution": false,
          "task": false
        },
        "id": "8-unMOYGb5Zq"
      },
      "outputs": [],
      "source": [
        "import numpy as np\n",
        "\n",
        "# r_squared should be a floating point value between 0 and 1\n",
        "assert 0 <= r_squared and r_squared <= 1\n",
        "assert type(r_squared) == float or type(r_squared) == np.float64\n",
        "\n",
        "# PUT ALL WORK FOR THE ABOVE QUESTION ABOVE THIS CELL\n",
        "# THIS UNALTERABLE CELL CONTAINS HIDDEN TESTS"
      ]
    },
    {
      "cell_type": "code",
      "execution_count": 7,
      "metadata": {
        "deletable": false,
        "editable": false,
        "nbgrader": {
          "cell_type": "code",
          "checksum": "000d41b50d6dbe7e71572e03b205878d",
          "grade": true,
          "grade_id": "cell-6822816e90525e07",
          "locked": true,
          "points": 0.5,
          "schema_version": 3,
          "solution": false,
          "task": false
        },
        "id": "09Zzz7qZb5Zq"
      },
      "outputs": [],
      "source": [
        "# model_is_significant should be True or False\n",
        "assert model_is_significant == True or model_is_significant == False\n",
        "\n",
        "# PUT ALL WORK FOR THE ABOVE QUESTION ABOVE THIS CELL\n",
        "# THIS UNALTERABLE CELL CONTAINS HIDDEN TESTS"
      ]
    },
    {
      "cell_type": "markdown",
      "metadata": {
        "deletable": false,
        "editable": false,
        "nbgrader": {
          "cell_type": "markdown",
          "checksum": "11dc25bc5666989e9db0c876f8abcfd8",
          "grade": false,
          "grade_id": "cell-ce249a1b0434aa5b",
          "locked": true,
          "schema_version": 3,
          "solution": false,
          "task": false
        },
        "id": "eUT1Wq7jb5Zq"
      },
      "source": [
        "## 3. Interpret Simple Linear Regression Parameters\n",
        "\n",
        "Now, we want to know what relationship the model has found between the feature and the target. Because this is a simple linear regression, it follows the format of $y = mx + b$ where $y$ is the `SalePrice`, $m$ is the slope of `GrLivArea`, $x$ is `GrLivArea`, and $b$ is the y-intercept (the value of $y$ when $x$ is 0).\n",
        "\n",
        "In the cell below, fill in appropriate values for `m` and `b`. Again, you can use the print-out above or use attributes of `simple_model`."
      ]
    },
    {
      "cell_type": "code",
      "execution_count": 8,
      "metadata": {
        "deletable": false,
        "nbgrader": {
          "cell_type": "code",
          "checksum": "83b927ba7e0e1cc67260420d21bc55d2",
          "grade": false,
          "grade_id": "cell-e75986c4e6645412",
          "locked": false,
          "schema_version": 3,
          "solution": true,
          "task": false
        },
        "colab": {
          "base_uri": "https://localhost:8080/"
        },
        "id": "qOdb2uW2b5Zr",
        "outputId": "55d997e7-bd44-445c-ab45-e78166ab1b20"
      },
      "outputs": [
        {
          "output_type": "stream",
          "name": "stdout",
          "text": [
            "\n",
            "Our simple linear regression model found a y-intercept\n",
            "of $18570.0, then for every increase of 1 square foot\n",
            "above-ground living area, the price increases by $107.13 \n",
            "\n"
          ]
        }
      ],
      "source": [
        "# Replace None with appropriate code\n",
        "\n",
        "# Slope (coefficient of GrLivArea)\n",
        "m = 107.1304\n",
        "\n",
        "# Intercept (coefficient of Intercept)\n",
        "b = 1.857e+04\t\n",
        "\n",
        "# YOUR CODE HERE\n",
        "\n",
        "\n",
        "print(f\"\"\"\n",
        "Our simple linear regression model found a y-intercept\n",
        "of ${round(b, 2)}, then for every increase of 1 square foot\n",
        "above-ground living area, the price increases by ${round(m, 2)} \n",
        "\"\"\")"
      ]
    },
    {
      "cell_type": "code",
      "execution_count": 9,
      "metadata": {
        "deletable": false,
        "editable": false,
        "nbgrader": {
          "cell_type": "code",
          "checksum": "bbeb258f4ee94ed4bc9bf633a8c807c9",
          "grade": true,
          "grade_id": "cell-37315757b2ac6e4c",
          "locked": true,
          "points": 0.5,
          "schema_version": 3,
          "solution": false,
          "task": false
        },
        "id": "dGtdotCib5Zr"
      },
      "outputs": [],
      "source": [
        "from numbers import Number\n",
        "\n",
        "# m should be a number\n",
        "assert isinstance(m, Number)\n",
        "\n",
        "# PUT ALL WORK FOR THE ABOVE QUESTION ABOVE THIS CELL\n",
        "# THIS UNALTERABLE CELL CONTAINS HIDDEN TESTS"
      ]
    },
    {
      "cell_type": "code",
      "execution_count": 10,
      "metadata": {
        "deletable": false,
        "editable": false,
        "nbgrader": {
          "cell_type": "code",
          "checksum": "479afb36fd7abc131885cb051606c96a",
          "grade": true,
          "grade_id": "cell-60df76839beb17a6",
          "locked": true,
          "points": 0.5,
          "schema_version": 3,
          "solution": false,
          "task": false
        },
        "id": "ras0Lujjb5Zr"
      },
      "outputs": [],
      "source": [
        "# b should be a number\n",
        "assert isinstance(b, Number)\n",
        "\n",
        "# PUT ALL WORK FOR THE ABOVE QUESTION ABOVE THIS CELL\n",
        "# THIS UNALTERABLE CELL CONTAINS HIDDEN TESTS"
      ]
    },
    {
      "cell_type": "markdown",
      "metadata": {
        "deletable": false,
        "editable": false,
        "nbgrader": {
          "cell_type": "markdown",
          "checksum": "6427b67a5aea713fe81b3e0c18a00763",
          "grade": false,
          "grade_id": "cell-99898204e2a83336",
          "locked": true,
          "schema_version": 3,
          "solution": false,
          "task": false
        },
        "id": "d2HtPHASb5Zr"
      },
      "source": [
        "## 4. Build a Multiple Regression Model Using StatsModels\n",
        "\n",
        "Now, build a model that contains all of the features present in `df`. Recall that the general process for building a multiple regression model is something like this:\n",
        "\n",
        "```python\n",
        "formula = 'y ~ x_1 + x_2 + x_3'\n",
        "model = ols(formula, df).fit()\n",
        "summary = model.summary()\n",
        "```\n",
        "\n",
        "Where `y` and `df` are the same as in the previous example, but now there are multiple features represented by `x_1`, `x_2`, `x_3`, etc.\n",
        "\n",
        "Specifically, your model should have `SalePrice` as the target, and these columns as features:\n",
        "\n",
        "* `GrLivArea`\n",
        "* `GarageArea`\n",
        "* `LotArea`\n",
        "* `LotFrontage`"
      ]
    },
    {
      "cell_type": "code",
      "execution_count": 11,
      "metadata": {
        "deletable": false,
        "nbgrader": {
          "cell_type": "code",
          "checksum": "8b70f25d3f84886d1e68d7feb40ca06d",
          "grade": false,
          "grade_id": "cell-bd6e3935a342ed4b",
          "locked": false,
          "schema_version": 3,
          "solution": true,
          "task": false
        },
        "colab": {
          "base_uri": "https://localhost:8080/",
          "height": 545
        },
        "id": "xq-eWmZFb5Zr",
        "outputId": "82b1e7ce-e9d3-409c-c638-a2562ec6d96e"
      },
      "outputs": [
        {
          "output_type": "execute_result",
          "data": {
            "text/plain": [
              "<class 'statsmodels.iolib.summary.Summary'>\n",
              "\"\"\"\n",
              "                            OLS Regression Results                            \n",
              "==============================================================================\n",
              "Dep. Variable:              SalePrice   R-squared:                       0.614\n",
              "Model:                            OLS   Adj. R-squared:                  0.613\n",
              "Method:                 Least Squares   F-statistic:                     476.5\n",
              "Date:                Sat, 20 May 2023   Prob (F-statistic):          1.11e-245\n",
              "Time:                        15:19:24   Log-Likelihood:                -14740.\n",
              "No. Observations:                1201   AIC:                         2.949e+04\n",
              "Df Residuals:                    1196   BIC:                         2.952e+04\n",
              "Df Model:                           4                                         \n",
              "Covariance Type:            nonrobust                                         \n",
              "===============================================================================\n",
              "                  coef    std err          t      P>|t|      [0.025      0.975]\n",
              "-------------------------------------------------------------------------------\n",
              "Intercept   -1.151e+04   5421.192     -2.124      0.034   -2.22e+04    -878.343\n",
              "GrLivArea      79.5785      3.390     23.473      0.000      72.927      86.230\n",
              "GarageArea    143.6119      7.833     18.334      0.000     128.244     158.980\n",
              "LotArea         0.7909      0.212      3.730      0.000       0.375       1.207\n",
              "LotFrontage   -52.6476     72.856     -0.723      0.470    -195.588      90.293\n",
              "==============================================================================\n",
              "Omnibus:                      262.972   Durbin-Watson:                   2.047\n",
              "Prob(Omnibus):                  0.000   Jarque-Bera (JB):             9251.057\n",
              "Skew:                          -0.120   Prob(JB):                         0.00\n",
              "Kurtosis:                      16.594   Cond. No.                     4.63e+04\n",
              "==============================================================================\n",
              "\n",
              "Notes:\n",
              "[1] Standard Errors assume that the covariance matrix of the errors is correctly specified.\n",
              "[2] The condition number is large, 4.63e+04. This might indicate that there are\n",
              "strong multicollinearity or other numerical problems.\n",
              "\"\"\""
            ],
            "text/html": [
              "<table class=\"simpletable\">\n",
              "<caption>OLS Regression Results</caption>\n",
              "<tr>\n",
              "  <th>Dep. Variable:</th>        <td>SalePrice</td>    <th>  R-squared:         </th> <td>   0.614</td> \n",
              "</tr>\n",
              "<tr>\n",
              "  <th>Model:</th>                   <td>OLS</td>       <th>  Adj. R-squared:    </th> <td>   0.613</td> \n",
              "</tr>\n",
              "<tr>\n",
              "  <th>Method:</th>             <td>Least Squares</td>  <th>  F-statistic:       </th> <td>   476.5</td> \n",
              "</tr>\n",
              "<tr>\n",
              "  <th>Date:</th>             <td>Sat, 20 May 2023</td> <th>  Prob (F-statistic):</th> <td>1.11e-245</td>\n",
              "</tr>\n",
              "<tr>\n",
              "  <th>Time:</th>                 <td>15:19:24</td>     <th>  Log-Likelihood:    </th> <td> -14740.</td> \n",
              "</tr>\n",
              "<tr>\n",
              "  <th>No. Observations:</th>      <td>  1201</td>      <th>  AIC:               </th> <td>2.949e+04</td>\n",
              "</tr>\n",
              "<tr>\n",
              "  <th>Df Residuals:</th>          <td>  1196</td>      <th>  BIC:               </th> <td>2.952e+04</td>\n",
              "</tr>\n",
              "<tr>\n",
              "  <th>Df Model:</th>              <td>     4</td>      <th>                     </th>     <td> </td>    \n",
              "</tr>\n",
              "<tr>\n",
              "  <th>Covariance Type:</th>      <td>nonrobust</td>    <th>                     </th>     <td> </td>    \n",
              "</tr>\n",
              "</table>\n",
              "<table class=\"simpletable\">\n",
              "<tr>\n",
              "       <td></td>          <th>coef</th>     <th>std err</th>      <th>t</th>      <th>P>|t|</th>  <th>[0.025</th>    <th>0.975]</th>  \n",
              "</tr>\n",
              "<tr>\n",
              "  <th>Intercept</th>   <td>-1.151e+04</td> <td> 5421.192</td> <td>   -2.124</td> <td> 0.034</td> <td>-2.22e+04</td> <td> -878.343</td>\n",
              "</tr>\n",
              "<tr>\n",
              "  <th>GrLivArea</th>   <td>   79.5785</td> <td>    3.390</td> <td>   23.473</td> <td> 0.000</td> <td>   72.927</td> <td>   86.230</td>\n",
              "</tr>\n",
              "<tr>\n",
              "  <th>GarageArea</th>  <td>  143.6119</td> <td>    7.833</td> <td>   18.334</td> <td> 0.000</td> <td>  128.244</td> <td>  158.980</td>\n",
              "</tr>\n",
              "<tr>\n",
              "  <th>LotArea</th>     <td>    0.7909</td> <td>    0.212</td> <td>    3.730</td> <td> 0.000</td> <td>    0.375</td> <td>    1.207</td>\n",
              "</tr>\n",
              "<tr>\n",
              "  <th>LotFrontage</th> <td>  -52.6476</td> <td>   72.856</td> <td>   -0.723</td> <td> 0.470</td> <td> -195.588</td> <td>   90.293</td>\n",
              "</tr>\n",
              "</table>\n",
              "<table class=\"simpletable\">\n",
              "<tr>\n",
              "  <th>Omnibus:</th>       <td>262.972</td> <th>  Durbin-Watson:     </th> <td>   2.047</td>\n",
              "</tr>\n",
              "<tr>\n",
              "  <th>Prob(Omnibus):</th> <td> 0.000</td>  <th>  Jarque-Bera (JB):  </th> <td>9251.057</td>\n",
              "</tr>\n",
              "<tr>\n",
              "  <th>Skew:</th>          <td>-0.120</td>  <th>  Prob(JB):          </th> <td>    0.00</td>\n",
              "</tr>\n",
              "<tr>\n",
              "  <th>Kurtosis:</th>      <td>16.594</td>  <th>  Cond. No.          </th> <td>4.63e+04</td>\n",
              "</tr>\n",
              "</table><br/><br/>Notes:<br/>[1] Standard Errors assume that the covariance matrix of the errors is correctly specified.<br/>[2] The condition number is large, 4.63e+04. This might indicate that there are<br/>strong multicollinearity or other numerical problems."
            ]
          },
          "metadata": {},
          "execution_count": 11
        }
      ],
      "source": [
        "# Replace None with appropriate code\n",
        "multiple_formula ='SalePrice ~ GrLivArea+ GarageArea + LotArea+ LotFrontage'\n",
        "multiple_model =ols(multiple_formula, df).fit()\n",
        "multiple_model_summary = multiple_model.summary()\n",
        "# YOUR CODE HERE\n",
        "\n",
        "multiple_model_summary"
      ]
    },
    {
      "cell_type": "code",
      "execution_count": 12,
      "metadata": {
        "deletable": false,
        "editable": false,
        "nbgrader": {
          "cell_type": "code",
          "checksum": "0243f4f684d8f7351a443cef57671653",
          "grade": true,
          "grade_id": "cell-0139e48f52f47e59",
          "locked": true,
          "points": 0.5,
          "schema_version": 3,
          "solution": false,
          "task": false
        },
        "id": "QSgvA60Db5Zr"
      },
      "outputs": [],
      "source": [
        "# multiple_model should be a model fit with 4 features\n",
        "assert multiple_model.df_model == 4\n",
        "\n",
        "# multiple_model_summary should be a StatsModels model summary\n",
        "assert type(multiple_model_summary) == statsmodels.iolib.summary.Summary\n",
        "\n",
        "# PUT ALL WORK FOR THE ABOVE QUESTION ABOVE THIS CELL\n",
        "# THIS UNALTERABLE CELL CONTAINS HIDDEN TESTS"
      ]
    },
    {
      "cell_type": "markdown",
      "metadata": {
        "deletable": false,
        "editable": false,
        "nbgrader": {
          "cell_type": "markdown",
          "checksum": "3f1c8fe050115cd1d18f052d79b3f09d",
          "grade": false,
          "grade_id": "cell-21fd65acb59f4dc2",
          "locked": true,
          "schema_version": 3,
          "solution": false,
          "task": false
        },
        "id": "uFMA-OwKb5Zr"
      },
      "source": [
        "## 5. Interpret Multiple Regression Model Metrics\n",
        "\n",
        "Now we want to know: **is our multiple linear regression model a better fit than our simple linear regression model? We'll measure this in terms of percentage of variance explained (r-squared)**, where a higher r-squared indicates a better fit.\n",
        "\n",
        "Replace `second_model_is_better` with either `True` if this model is better, or `False` if the previous model was better (or the two models are exactly the same)."
      ]
    },
    {
      "cell_type": "code",
      "execution_count": 13,
      "metadata": {
        "deletable": false,
        "nbgrader": {
          "cell_type": "code",
          "checksum": "a3332b99bd9d0d45b73b8d7874f10d22",
          "grade": false,
          "grade_id": "cell-f0746c6b33a4592d",
          "locked": false,
          "schema_version": 3,
          "solution": true,
          "task": false
        },
        "id": "dxHe8Z6Tb5Zr"
      },
      "outputs": [],
      "source": [
        "# Replace None with appropriate code\n",
        "second_model_is_better = True\n",
        "# YOUR CODE HERE\n"
      ]
    },
    {
      "cell_type": "code",
      "execution_count": 14,
      "metadata": {
        "deletable": false,
        "editable": false,
        "nbgrader": {
          "cell_type": "code",
          "checksum": "73096fd90093a08084cf02adde8657be",
          "grade": true,
          "grade_id": "cell-e28e2c101115d10b",
          "locked": true,
          "points": 1,
          "schema_version": 3,
          "solution": false,
          "task": false
        },
        "id": "yloMGRH1b5Zs"
      },
      "outputs": [],
      "source": [
        "# second_model_is_better should be True or False\n",
        "assert second_model_is_better == True or second_model_is_better == False\n",
        "\n",
        "# PUT ALL WORK FOR THE ABOVE QUESTION ABOVE THIS CELL\n",
        "# THIS UNALTERABLE CELL CONTAINS HIDDEN TESTS"
      ]
    },
    {
      "cell_type": "markdown",
      "metadata": {
        "deletable": false,
        "editable": false,
        "nbgrader": {
          "cell_type": "markdown",
          "checksum": "3d144e7e367dabbead0cde190cf7b0a4",
          "grade": false,
          "grade_id": "cell-0475c4a1b851ba21",
          "locked": true,
          "schema_version": 3,
          "solution": false,
          "task": false
        },
        "id": "ZxkgGwKOb5Zs"
      },
      "source": [
        "**If we need to drop one feature from this model, which should it be?** Consider the p-values in the print-out above, as well as the correlations shown below."
      ]
    },
    {
      "cell_type": "code",
      "execution_count": 15,
      "metadata": {
        "deletable": false,
        "editable": false,
        "nbgrader": {
          "cell_type": "code",
          "checksum": "b3e7e63eaeb21803f1aa9f9171558ae8",
          "grade": false,
          "grade_id": "cell-33a8bea9364bc775",
          "locked": true,
          "schema_version": 3,
          "solution": false,
          "task": false
        },
        "colab": {
          "base_uri": "https://localhost:8080/"
        },
        "id": "vo0jI6Wzb5Zs",
        "outputId": "76d1f586-7340-4a5b-c3ee-51191c82ff90"
      },
      "outputs": [
        {
          "output_type": "execute_result",
          "data": {
            "text/plain": [
              "GrLivArea      0.533728\n",
              "GarageArea     0.498599\n",
              "LotArea        0.467403\n",
              "LotFrontage    0.543472\n",
              "dtype: float64"
            ]
          },
          "metadata": {},
          "execution_count": 15
        }
      ],
      "source": [
        "# Run this cell without changes\n",
        "\n",
        "# Showing the average correlation with other features\n",
        "# (including itself). This does NOT include correlations\n",
        "# with SalePrice, only with other features\n",
        "correlations = df.drop(\"SalePrice\", axis=1).corr().sum() / 4\n",
        "correlations"
      ]
    },
    {
      "cell_type": "markdown",
      "metadata": {
        "deletable": false,
        "editable": false,
        "nbgrader": {
          "cell_type": "markdown",
          "checksum": "f901908964ca282b4711dfa0926c7208",
          "grade": false,
          "grade_id": "cell-18ddedc7874e23e3",
          "locked": true,
          "schema_version": 3,
          "solution": false,
          "task": false
        },
        "id": "Oerab9Zwb5Zs"
      },
      "source": [
        "Replace `feature_to_drop` with the name of the features, which should be one of these four:\n",
        "\n",
        "* `GrLivArea`\n",
        "* `GarageArea`\n",
        "* `LotArea`\n",
        "* `LotFrontage`"
      ]
    },
    {
      "cell_type": "code",
      "execution_count": 16,
      "metadata": {
        "deletable": false,
        "nbgrader": {
          "cell_type": "code",
          "checksum": "8fa509994ce2d92d9ff9fb571906e1fa",
          "grade": false,
          "grade_id": "cell-9822a93057158dfd",
          "locked": false,
          "schema_version": 3,
          "solution": true,
          "task": false
        },
        "id": "i2vKoH0ab5Zs"
      },
      "outputs": [],
      "source": [
        "# Replace None with appropriate code\n",
        "feature_to_drop = \"LotFrontage\"\n",
        "# YOUR CODE HERE\n"
      ]
    },
    {
      "cell_type": "code",
      "execution_count": 17,
      "metadata": {
        "deletable": false,
        "editable": false,
        "nbgrader": {
          "cell_type": "code",
          "checksum": "184e0be7ef9a242e304b483b0a740bfa",
          "grade": true,
          "grade_id": "cell-0d95ff56e49564a3",
          "locked": true,
          "points": 1,
          "schema_version": 3,
          "solution": false,
          "task": false
        },
        "id": "qr-cg3DJb5Zs"
      },
      "outputs": [],
      "source": [
        "# feature_to_drop should be a string\n",
        "assert type(feature_to_drop) == str\n",
        "\n",
        "# It should be one of the features in df\n",
        "assert feature_to_drop in df.columns\n",
        "\n",
        "# PUT ALL WORK FOR THE ABOVE QUESTION ABOVE THIS CELL\n",
        "# THIS UNALTERABLE CELL CONTAINS HIDDEN TESTS"
      ]
    }
  ],
  "metadata": {
    "kernelspec": {
      "display_name": "Python (python3)",
      "language": "python",
      "name": "python3"
    },
    "language_info": {
      "codemirror_mode": {
        "name": "ipython",
        "version": 3
      },
      "file_extension": ".py",
      "mimetype": "text/x-python",
      "name": "python",
      "nbconvert_exporter": "python",
      "pygments_lexer": "ipython3",
      "version": "3.9.5"
    },
    "colab": {
      "provenance": [],
      "include_colab_link": true
    }
  },
  "nbformat": 4,
  "nbformat_minor": 0
}