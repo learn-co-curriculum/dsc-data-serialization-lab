{
  "nbformat": 4,
  "nbformat_minor": 0,
  "metadata": {
    "colab": {
      "provenance": [],
      "include_colab_link": true
    },
    "kernelspec": {
      "name": "python3",
      "display_name": "Python 3"
    },
    "language_info": {
      "name": "python"
    }
  },
  "cells": [
    {
      "cell_type": "markdown",
      "metadata": {
        "id": "view-in-github",
        "colab_type": "text"
      },
      "source": [
        "<a href=\"https://colab.research.google.com/github/sgathai/dsc-data-serialization-lab/blob/master/dspt_phase_3_LinearAlgebra.ipynb\" target=\"_parent\"><img src=\"https://colab.research.google.com/assets/colab-badge.svg\" alt=\"Open In Colab\"/></a>"
      ]
    },
    {
      "cell_type": "markdown",
      "source": [
        "# Linear Algebra\n",
        "\n",
        "**Overview of lecture**\n",
        "\n",
        "1. Systems of linear equations and solving them using NumPy\n",
        "2. Regression analysis using NumPy\n",
        "3. NumPy Linear Algebra Competition"
      ],
      "metadata": {
        "id": "sdUJG4z5Zuf_"
      }
    },
    {
      "cell_type": "markdown",
      "source": [
        "First, let's go back to the basics.\n",
        "\n",
        "What is a linear equation?\n",
        "\n",
        "![link text](https://www.mathsisfun.com/algebra/images/graph-line.svg)\n",
        "\n",
        "$y = mx + 1.b$\n",
        "\n",
        "![link text](https://raw.githubusercontent.com/flatiron-school/ds-linear_algebra-kvo32/405e8e626ce74afca9b95394720ab38c3124a65f//img/different_tensors.png)\n",
        "\n",
        "A **scalar** is a single value and it is represented by a single number.\n",
        "\n",
        "A **vector** is an array of numbers, and it is represented by a list of numbers or coordinates.\n",
        "\n",
        "A **matrix** is a two-dimensional array of numbers, and it is represented by a rectangular array of numbers.\n",
        "\n",
        "A **tensor** is a mathematical object that can be thought of as a multi-dimensional array of values.\n",
        "\n",
        "## Why is linear algebra important for a data scientist?\n",
        "\n",
        "1. Linear algebra underpins most data science tools such machine learning, data analysis etc.\n",
        "\n",
        "2. Provides mathematical foundation to understanding data"
      ],
      "metadata": {
        "id": "6moVQ3H2VLRD"
      }
    },
    {
      "cell_type": "code",
      "source": [
        "import numpy as np"
      ],
      "metadata": {
        "id": "jwQfdBFUe45e"
      },
      "execution_count": null,
      "outputs": []
    },
    {
      "cell_type": "code",
      "source": [
        "# scalar = standardscalar()"
      ],
      "metadata": {
        "id": "aM5Hk5avVT8P"
      },
      "execution_count": null,
      "outputs": []
    },
    {
      "cell_type": "code",
      "execution_count": null,
      "metadata": {
        "colab": {
          "base_uri": "https://localhost:8080/",
          "height": 52
        },
        "id": "CH9MBZ2YYXT5",
        "outputId": "718e4c82-ca42-4d45-8c40-970f439a179a"
      },
      "outputs": [
        {
          "output_type": "display_data",
          "data": {
            "text/plain": [
              "array([0])"
            ]
          },
          "metadata": {}
        },
        {
          "output_type": "execute_result",
          "data": {
            "text/plain": [
              "(1,)"
            ]
          },
          "metadata": {},
          "execution_count": 2
        }
      ],
      "source": [
        "# Scalar example\n",
        "s = np.arange(1)\n",
        "display(s)\n",
        "s.shape"
      ]
    },
    {
      "cell_type": "markdown",
      "source": [
        "What are other ways to instantiate scalars in Numpy?"
      ],
      "metadata": {
        "id": "dBCnQM36fuuA"
      }
    },
    {
      "cell_type": "code",
      "source": [
        "# Write answers here\n",
        "\n",
        "x = 25\n",
        "# etc"
      ],
      "metadata": {
        "id": "xKAOxtGGexv4"
      },
      "execution_count": null,
      "outputs": []
    },
    {
      "cell_type": "code",
      "source": [
        "# Vector example\n",
        "v = np.arange(4)\n",
        "display(v)\n",
        "print('Shape:', np.shape(v))"
      ],
      "metadata": {
        "colab": {
          "base_uri": "https://localhost:8080/",
          "height": 52
        },
        "id": "rDFXlxFGf9yp",
        "outputId": "dbe14d27-c1de-48c4-ed83-73a211c0c9de"
      },
      "execution_count": null,
      "outputs": [
        {
          "output_type": "display_data",
          "data": {
            "text/plain": [
              "array([0, 1, 2, 3])"
            ]
          },
          "metadata": {}
        },
        {
          "output_type": "stream",
          "name": "stdout",
          "text": [
            "Shape: (4,)\n"
          ]
        }
      ]
    },
    {
      "cell_type": "code",
      "source": [
        "v = v.reshape(4,1)\n",
        "v.shape"
      ],
      "metadata": {
        "colab": {
          "base_uri": "https://localhost:8080/"
        },
        "id": "VjuWoYaAXJx3",
        "outputId": "92b53b47-96e8-48f4-b72f-ef8556afaec9"
      },
      "execution_count": null,
      "outputs": [
        {
          "output_type": "execute_result",
          "data": {
            "text/plain": [
              "(4, 1)"
            ]
          },
          "metadata": {},
          "execution_count": 5
        }
      ]
    },
    {
      "cell_type": "code",
      "source": [
        "v"
      ],
      "metadata": {
        "colab": {
          "base_uri": "https://localhost:8080/"
        },
        "id": "RcmY5FmMXfUP",
        "outputId": "e99845db-fd0d-44dc-df67-4a5b8a363c80"
      },
      "execution_count": null,
      "outputs": [
        {
          "output_type": "execute_result",
          "data": {
            "text/plain": [
              "array([[0],\n",
              "       [1],\n",
              "       [2],\n",
              "       [3]])"
            ]
          },
          "metadata": {},
          "execution_count": 6
        }
      ]
    },
    {
      "cell_type": "markdown",
      "source": [
        "What are the other ways to define vectors?"
      ],
      "metadata": {
        "id": "X7WXW_Umgcbb"
      }
    },
    {
      "cell_type": "code",
      "source": [
        "# Write answers here\n",
        "\n",
        "s = [34,45,6,6,7]\n",
        "\n",
        "s2 = np.array([4,5,6,7])\n",
        "\n",
        "s3 = np.zeros(3)\n",
        "# np.ones(5)\n",
        "# np.linspace"
      ],
      "metadata": {
        "id": "3SZSFaOzgOwP"
      },
      "execution_count": null,
      "outputs": []
    },
    {
      "cell_type": "markdown",
      "source": [
        "What is the difference between row vectors and column vectors?"
      ],
      "metadata": {
        "id": "EWuYdHu5hnD5"
      }
    },
    {
      "cell_type": "code",
      "source": [
        "#@title\n",
        "# A row vector is a R*C 1xn matrix, where n is the number of elements in the vector,\n",
        "# and each element is arranged horizontally. For example, a row vector with 3 elements,\n",
        "# [a, b, c], would be represented as:\n",
        "\n",
        "# [a b c]\n",
        "\n",
        "# On the other hand, a column vector is an nx1 matrix, where n is the number of elements\n",
        "# in the vector, and each element is arranged vertically. For example, a column vector\n",
        "# with 3 elements, [a, b, c], would be represented as:\n",
        "\n",
        "# [a]\n",
        "# [b]\n",
        "# [c]\n",
        "\n",
        "# The main difference between row vectors and column vectors is the way the elements\n",
        "# are arranged. Row vectors are arranged horizontally and column vectors are arranged\n",
        "# vertically. This distinction is important when working with matrices and linear algebra\n",
        "# operations. For example, matrix multiplication is defined differently for row vectors and\n",
        "# column vectors, and certain linear algebra operations are only defined for column vectors."
      ],
      "metadata": {
        "id": "LGggbeu0hmja"
      },
      "execution_count": null,
      "outputs": []
    },
    {
      "cell_type": "code",
      "source": [
        "# Matrix example\n",
        "M = np.arange(4 * 2).reshape((4, 2))\n",
        "display(M)"
      ],
      "metadata": {
        "colab": {
          "base_uri": "https://localhost:8080/",
          "height": 86
        },
        "id": "fb7nKg8Hg4L-",
        "outputId": "9e0af180-9a17-45e2-d09a-89ff0ff4d4c4"
      },
      "execution_count": null,
      "outputs": [
        {
          "output_type": "display_data",
          "data": {
            "text/plain": [
              "array([[0, 1],\n",
              "       [2, 3],\n",
              "       [4, 5],\n",
              "       [6, 7]])"
            ]
          },
          "metadata": {}
        }
      ]
    },
    {
      "cell_type": "code",
      "source": [
        "m = np.array([[1,2],[5,6]])\n",
        "m"
      ],
      "metadata": {
        "colab": {
          "base_uri": "https://localhost:8080/"
        },
        "id": "ExigpvegYAY4",
        "outputId": "d30dc92f-5902-4f58-fb60-b3f5513a8b47"
      },
      "execution_count": null,
      "outputs": [
        {
          "output_type": "execute_result",
          "data": {
            "text/plain": [
              "array([[1, 2],\n",
              "       [5, 6]])"
            ]
          },
          "metadata": {},
          "execution_count": 9
        }
      ]
    },
    {
      "cell_type": "code",
      "source": [
        "# 3D Tensor example\n",
        "T_3d = np.arange(4 * 2 * 3).reshape((4, 2, 3))\n",
        "display(T_3d)"
      ],
      "metadata": {
        "colab": {
          "base_uri": "https://localhost:8080/",
          "height": 208
        },
        "id": "t45mMwOkhMhS",
        "outputId": "7ce5beae-d3d7-4efd-b0af-9ab3cbab77c3"
      },
      "execution_count": null,
      "outputs": [
        {
          "output_type": "display_data",
          "data": {
            "text/plain": [
              "array([[[ 0,  1,  2],\n",
              "        [ 3,  4,  5]],\n",
              "\n",
              "       [[ 6,  7,  8],\n",
              "        [ 9, 10, 11]],\n",
              "\n",
              "       [[12, 13, 14],\n",
              "        [15, 16, 17]],\n",
              "\n",
              "       [[18, 19, 20],\n",
              "        [21, 22, 23]]])"
            ]
          },
          "metadata": {}
        }
      ]
    },
    {
      "cell_type": "markdown",
      "source": [
        "# Systems of linear equations"
      ],
      "metadata": {
        "id": "580QqJJ-iTVf"
      }
    },
    {
      "cell_type": "code",
      "source": [
        "[1  -2  3][x =[9\n",
        "[2  -5  10]y  4\n",
        "[0   0   6]z] 0]"
      ],
      "metadata": {
        "id": "-SDfYZUmZ4eF"
      },
      "execution_count": null,
      "outputs": []
    },
    {
      "cell_type": "markdown",
      "source": [
        "A **system of linear equations** is a collection of two or more linear equations with the same variables.\n",
        "\n",
        "$$ \\begin{align}\n",
        " 1x - 2y + 3z &= 9 \\\\\n",
        " 2x - 5y + 10z &= 4 \\\\\n",
        "  6z &= 0\n",
        "\\end{align}$$\n",
        "\n",
        "A system of linear equations can be solved four different ways:\n",
        "\n",
        "\n",
        "        Substitution\n",
        "\n",
        "        Gaussian Elimination\n",
        "\n",
        "        Matrices\n",
        "\n",
        "        Graphing\n",
        "\n",
        "We can convert the above system of equations to its matrix form:\n",
        "$$\n",
        "\\begin{pmatrix}\n",
        "    1 & -2 & 3 \\\\\n",
        "    2 & -5 & 10 \\\\\n",
        "    0 & 0 & 6\n",
        "\\end{pmatrix}\n",
        "\\cdot\n",
        "\\begin{pmatrix}\n",
        "    x \\\\\n",
        "    y \\\\\n",
        "    z\n",
        "\\end{pmatrix}\n",
        "=\n",
        "\\begin{pmatrix}\n",
        "    9 \\\\\n",
        "    4 \\\\\n",
        "    0\n",
        "\\end{pmatrix}\n",
        "$$\n",
        "\n",
        "Solving using matrices would involve:\n",
        "$$ A \\cdot X = B $$\n",
        "$$ A^{-1} \\cdot A \\cdot X = A^{-1} \\cdot B $$\n",
        "$$ I \\cdot X = A^{-1} \\cdot B $$\n",
        "$$ X = A^{-1} \\cdot B $$"
      ],
      "metadata": {
        "id": "dC3xuSB_irp7"
      }
    },
    {
      "cell_type": "code",
      "source": [
        "R C R C\n",
        "3x3 3x1\n",
        "3x1 3x3"
      ],
      "metadata": {
        "id": "2Z_UcU8JcL8T"
      },
      "execution_count": null,
      "outputs": []
    },
    {
      "cell_type": "code",
      "source": [
        "100 2 2 1"
      ],
      "metadata": {
        "id": "UI6iohrwf0dq"
      },
      "execution_count": null,
      "outputs": []
    },
    {
      "cell_type": "markdown",
      "source": [
        "Let's see how it works in Numpy!"
      ],
      "metadata": {
        "id": "I4RxohP8lQN7"
      }
    },
    {
      "cell_type": "code",
      "execution_count": null,
      "metadata": {
        "id": "rh_BNGXDjblu"
      },
      "outputs": [],
      "source": [
        "A = np.array([\n",
        "    [1, -2,  3],\n",
        "    [2, -5, 10],\n",
        "    [0,  0,  6]\n",
        "])"
      ]
    },
    {
      "cell_type": "code",
      "execution_count": null,
      "metadata": {
        "id": "QGMhCZxQjblu"
      },
      "outputs": [],
      "source": [
        "B = np.array([9,4,0]).reshape(3,1)"
      ]
    },
    {
      "cell_type": "code",
      "execution_count": null,
      "metadata": {
        "id": "NkimZ0-ljblu",
        "colab": {
          "base_uri": "https://localhost:8080/"
        },
        "outputId": "06dfb326-6b79-49b1-9608-4cba006bf9e6"
      },
      "outputs": [
        {
          "output_type": "stream",
          "name": "stdout",
          "text": [
            "A:\n",
            "[[ 1 -2  3]\n",
            " [ 2 -5 10]\n",
            " [ 0  0  6]]\n",
            "\n",
            "B:\n",
            "[[9]\n",
            " [4]\n",
            " [0]]\n"
          ]
        }
      ],
      "source": [
        "print('A:')\n",
        "print(A)\n",
        "print()\n",
        "print('B:')\n",
        "print(B)"
      ]
    },
    {
      "cell_type": "markdown",
      "metadata": {
        "id": "muEB6-OVjblu"
      },
      "source": [
        "Find the inverse"
      ]
    },
    {
      "cell_type": "code",
      "execution_count": null,
      "metadata": {
        "id": "VO1TPMFAjblv",
        "colab": {
          "base_uri": "https://localhost:8080/"
        },
        "outputId": "b491ee93-2e64-467b-a28e-1fa649521802"
      },
      "outputs": [
        {
          "output_type": "stream",
          "name": "stdout",
          "text": [
            "[[ 5.         -2.          0.83333333]\n",
            " [ 2.         -1.          0.66666667]\n",
            " [ 0.          0.          0.16666667]]\n"
          ]
        }
      ],
      "source": [
        "A_inv = np.linalg.inv(A)\n",
        "print(A_inv)"
      ]
    },
    {
      "cell_type": "markdown",
      "metadata": {
        "id": "JI6nWFE_jblv"
      },
      "source": [
        "Getting the solution"
      ]
    },
    {
      "cell_type": "code",
      "execution_count": null,
      "metadata": {
        "id": "uAe0yjdxjblw",
        "colab": {
          "base_uri": "https://localhost:8080/"
        },
        "outputId": "de60dca3-9e1e-4001-89f0-f175fa3fe617"
      },
      "outputs": [
        {
          "output_type": "stream",
          "name": "stdout",
          "text": [
            "[[37.]\n",
            " [14.]\n",
            " [ 0.]]\n"
          ]
        }
      ],
      "source": [
        "solution = A_inv @ B\n",
        "print(solution)"
      ]
    },
    {
      "cell_type": "markdown",
      "source": [
        "How else can we solve this problem in NumPy?"
      ],
      "metadata": {
        "id": "TfI8Hp2flrZ8"
      }
    },
    {
      "cell_type": "code",
      "source": [
        "# Write code here\n",
        "\n",
        "np.dot(A_inv, B) #method b"
      ],
      "metadata": {
        "id": "l6PXbatblwei",
        "colab": {
          "base_uri": "https://localhost:8080/"
        },
        "outputId": "049b75cc-69a7-4745-f9a7-ebacf3fb9b33"
      },
      "execution_count": null,
      "outputs": [
        {
          "output_type": "execute_result",
          "data": {
            "text/plain": [
              "array([[37.],\n",
              "       [14.],\n",
              "       [ 0.]])"
            ]
          },
          "metadata": {},
          "execution_count": 12
        }
      ]
    },
    {
      "cell_type": "code",
      "source": [
        "np.linalg.solve(A,B) # method c"
      ],
      "metadata": {
        "colab": {
          "base_uri": "https://localhost:8080/"
        },
        "id": "Vb8ve1UxbpSJ",
        "outputId": "0d0594ab-5c92-4a6b-d6cd-49b8c4ce703f"
      },
      "execution_count": null,
      "outputs": [
        {
          "output_type": "execute_result",
          "data": {
            "text/plain": [
              "array([[37.],\n",
              "       [14.],\n",
              "       [ 0.]])"
            ]
          },
          "metadata": {},
          "execution_count": 16
        }
      ]
    },
    {
      "cell_type": "code",
      "source": [
        "??np.linalg.solve"
      ],
      "metadata": {
        "id": "CsiUiwTddmLF"
      },
      "execution_count": null,
      "outputs": []
    },
    {
      "cell_type": "markdown",
      "source": [
        "# Regression analysis using NumPy"
      ],
      "metadata": {
        "id": "knUwwPVYpgLk"
      }
    },
    {
      "cell_type": "markdown",
      "source": [
        "**Some background**\n",
        "\n",
        "Regression analysis is similar to solving systems on linear equation the problem is formulated in this way:\n",
        "\n",
        "$$\\hat{y} = \\theta_{0} + \\theta_1 x_1 + \\cdots +\\theta_n x_n $$\n",
        "\n",
        "where $x$ are features and $\\theta$ is the parameter/coeffiecient/weights.\n",
        "\n",
        "Transforming this to matrix representation:\n",
        "\n",
        "$$ X^T \\cdot \\theta = Y$$\n",
        "$$ (X^T)^{-1} X^T \\cdot \\theta = (X^T)^{-1} Y $$\n",
        "$$ \\theta = ((X^T)^{-1} X^T)^{-1} (X^T)^{-1} Y$$\n",
        "\n",
        "Using SVD the above equation decomposes to:\n",
        "$$ \\theta =(X^TX)^{-1}X^T Y$$\n",
        "\n",
        "However, we shall stick to the one we can understand.\n",
        "\n",
        "\n",
        "\n"
      ],
      "metadata": {
        "id": "X30-ERxrpkTE"
      }
    },
    {
      "cell_type": "markdown",
      "source": [
        "Try is out:"
      ],
      "metadata": {
        "id": "SCFxsUI_3sUT"
      }
    },
    {
      "cell_type": "code",
      "source": [
        "import matplotlib.pyplot as plt\n",
        "import numpy as np\n",
        "%matplotlib inline"
      ],
      "metadata": {
        "id": "JKCJ8N3l4HeL"
      },
      "execution_count": null,
      "outputs": []
    },
    {
      "cell_type": "code",
      "source": [
        "#Generate data\n",
        "np.random.seed(0)\n",
        "N = 20\n",
        "x_orig = 2 - 3 * np.random.normal(0, 1, N)\n",
        "y_orig = x_orig - 2 * x_orig + 0.5 * x_orig + np.random.normal(-5, 5, N)\n",
        "\n",
        "# transforming the data to include another axis\n",
        "x = x_orig[:, np.newaxis]\n",
        "y = y_orig[:, np.newaxis]\n",
        "print(x.shape, x_orig.shape)\n",
        "plt.scatter(x,y, s=30)\n",
        "plt.show()"
      ],
      "metadata": {
        "colab": {
          "base_uri": "https://localhost:8080/",
          "height": 447
        },
        "id": "Lz0_N5N-3rSC",
        "outputId": "cd8d3371-328e-4741-b1b7-c43b6fccd708"
      },
      "execution_count": null,
      "outputs": [
        {
          "output_type": "stream",
          "name": "stdout",
          "text": [
            "(20, 1) (20,)\n"
          ]
        },
        {
          "output_type": "display_data",
          "data": {
            "text/plain": [
              "<Figure size 640x480 with 1 Axes>"
            ],
            "image/png": "[encoded data removed]"
          },
          "metadata": {}
        }
      ]
    },
    {
      "cell_type": "code",
      "source": [
        "#linear regression model to this dataset.\n",
        "from sklearn.linear_model import LinearRegression\n",
        "from sklearn.metrics import mean_squared_error, r2_score\n",
        "# Instantiate the Linear model\n",
        "model = LinearRegression()\n",
        "# Use the method fit to train the model with input data x and output y\n",
        "model.fit(x, y)\n",
        "# Use the trained model to predict output y_pred from input x\n",
        "y_pred = model.predict(x)\n",
        "# plot the model\n",
        "plt.scatter(x, y, s=40)\n",
        "plt.title('Linear Regression')\n",
        "plt.plot(x, y_pred,label='lineareg')\n",
        "#plt.scatter(x, y_pred, s=20)\n",
        "plt.legend(loc=\"lower right\")\n",
        "plt.show()"
      ],
      "metadata": {
        "colab": {
          "base_uri": "https://localhost:8080/",
          "height": 452
        },
        "id": "XkPD09qYpjgY",
        "outputId": "a7a0aab8-7025-4096-81e9-275751af28e6"
      },
      "execution_count": null,
      "outputs": [
        {
          "output_type": "display_data",
          "data": {
            "text/plain": [
              "<Figure size 640x480 with 1 Axes>"
            ],
            "image/png": "[encoded data removed]"
          },
          "metadata": {}
        }
      ]
    },
    {
      "cell_type": "code",
      "source": [
        "# coefs\n",
        "print(model.coef_, model.intercept_)"
      ],
      "metadata": {
        "colab": {
          "base_uri": "https://localhost:8080/"
        },
        "id": "-wSOha2g5Auk",
        "outputId": "a05196fe-6c78-463f-a1f7-d24966df6edc"
      },
      "execution_count": null,
      "outputs": [
        {
          "output_type": "stream",
          "name": "stdout",
          "text": [
            "[[-0.70348523]] [-4.66183131]\n"
          ]
        }
      ]
    },
    {
      "cell_type": "code",
      "source": [
        " # Compute with the formula with numpy and compare the parameters\n",
        " # solve for thetas"
      ],
      "metadata": {
        "id": "QrqIcLSo5hR4"
      },
      "execution_count": null,
      "outputs": []
    },
    {
      "cell_type": "code",
      "source": [
        "y"
      ],
      "metadata": {
        "id": "E_UXMHnAmAoL",
        "outputId": "803862f6-2492-4e82-c920-b01a18b81598",
        "colab": {
          "base_uri": "https://localhost:8080/"
        }
      },
      "execution_count": null,
      "outputs": [
        {
          "output_type": "execute_result",
          "data": {
            "text/plain": [
              "array([[-16.11887056],\n",
              "       [ -2.13167121],\n",
              "       [ -0.20971203],\n",
              "       [ -6.3494853 ],\n",
              "       [  8.15011011],\n",
              "       [-14.73774519],\n",
              "       [ -4.34607479],\n",
              "       [ -7.16295506],\n",
              "       [  1.50906779],\n",
              "       [  1.9626916 ],\n",
              "       [ -5.00919751],\n",
              "       [ -1.92777714],\n",
              "       [ -9.29737215],\n",
              "       [-15.72146982],\n",
              "       [ -7.0737659 ],\n",
              "       [ -4.71774366],\n",
              "       [  2.39257201],\n",
              "       [ -0.29583815],\n",
              "       [ -7.46703253],\n",
              "       [ -8.79265736]])"
            ]
          },
          "metadata": {},
          "execution_count": 36
        }
      ]
    },
    {
      "cell_type": "code",
      "source": [
        "#@title\n",
        "bias = np.ones(20).reshape(20,1)\n",
        "bias\n",
        "X = np.concatenate((x, bias), axis = 1)\n",
        "X"
      ],
      "metadata": {
        "colab": {
          "base_uri": "https://localhost:8080/"
        },
        "id": "5P3Nv8pZiQio",
        "outputId": "31834f0f-e47f-4e8f-c62e-e3f7b7074e2b"
      },
      "execution_count": null,
      "outputs": [
        {
          "output_type": "execute_result",
          "data": {
            "text/plain": [
              "array([[-3.29215704,  1.        ],\n",
              "       [ 0.79952837,  1.        ],\n",
              "       [-0.93621395,  1.        ],\n",
              "       [-4.7226796 ,  1.        ],\n",
              "       [-3.60267397,  1.        ],\n",
              "       [ 4.93183364,  1.        ],\n",
              "       [-0.85026525,  1.        ],\n",
              "       [ 2.45407162,  1.        ],\n",
              "       [ 2.30965656,  1.        ],\n",
              "       [ 0.76820449,  1.        ],\n",
              "       [ 1.56786929,  1.        ],\n",
              "       [-2.36282052,  1.        ],\n",
              "       [-0.28311318,  1.        ],\n",
              "       [ 1.63497495,  1.        ],\n",
              "       [ 0.6684103 ,  1.        ],\n",
              "       [ 0.99897702,  1.        ],\n",
              "       [-2.48223722,  1.        ],\n",
              "       [ 2.61547479,  1.        ],\n",
              "       [ 1.0607969 ,  1.        ],\n",
              "       [ 4.56228722,  1.        ]])"
            ]
          },
          "metadata": {},
          "execution_count": 27
        }
      ]
    },
    {
      "cell_type": "code",
      "source": [
        "X.T"
      ],
      "metadata": {
        "colab": {
          "base_uri": "https://localhost:8080/"
        },
        "id": "ksJuxq1euPfC",
        "outputId": "5b968b20-3fb2-4516-ac82-d5d44a627083"
      },
      "execution_count": null,
      "outputs": [
        {
          "output_type": "execute_result",
          "data": {
            "text/plain": [
              "array([[-3.29215704,  0.79952837, -0.93621395, -4.7226796 , -3.60267397,\n",
              "         4.93183364, -0.85026525,  2.45407162,  2.30965656,  0.76820449,\n",
              "         1.56786929, -2.36282052, -0.28311318,  1.63497495,  0.6684103 ,\n",
              "         0.99897702, -2.48223722,  2.61547479,  1.0607969 ,  4.56228722],\n",
              "       [ 1.        ,  1.        ,  1.        ,  1.        ,  1.        ,\n",
              "         1.        ,  1.        ,  1.        ,  1.        ,  1.        ,\n",
              "         1.        ,  1.        ,  1.        ,  1.        ,  1.        ,\n",
              "         1.        ,  1.        ,  1.        ,  1.        ,  1.        ]])"
            ]
          },
          "metadata": {},
          "execution_count": 32
        }
      ]
    },
    {
      "cell_type": "markdown",
      "source": [
        "$$ \\theta =(X^TX)^{-1}X^T Y$$"
      ],
      "metadata": {
        "id": "S_VqPq-vlH3S"
      }
    },
    {
      "cell_type": "code",
      "source": [
        "np.dot(np.dot(np.linalg.inv(np.dot(X.T,X)),X.T),y)"
      ],
      "metadata": {
        "colab": {
          "base_uri": "https://localhost:8080/"
        },
        "id": "8aWqSTqMhBbp",
        "outputId": "9f0159ed-93f8-4148-c5a6-c82447b4eda5"
      },
      "execution_count": null,
      "outputs": [
        {
          "output_type": "execute_result",
          "data": {
            "text/plain": [
              "array([[-0.70348523],\n",
              "       [-4.66183131]])"
            ]
          },
          "metadata": {},
          "execution_count": 30
        }
      ]
    },
    {
      "cell_type": "markdown",
      "source": [
        "## NumPy Linear Algebra Competition"
      ],
      "metadata": {
        "id": "sIqb_5kpxJME"
      }
    },
    {
      "cell_type": "markdown",
      "source": [
        "Compute the multiplication of these two matrixes"
      ],
      "metadata": {
        "id": "HPL7vO3DxgO0"
      }
    },
    {
      "cell_type": "code",
      "source": [
        "# First Matrix\n",
        "p = np.array([[1, 2, 3], [4, 5, 6], [7, 8, 9]])\n",
        "\n",
        "# Second Matrix\n",
        "q = np.array([[9, 8, 7], [6, 5, 4], [3, 2, 1]])"
      ],
      "metadata": {
        "id": "EwrabCUpyX0W"
      },
      "execution_count": null,
      "outputs": []
    },
    {
      "cell_type": "code",
      "source": [
        "#@title\n",
        "# Solution\n",
        "result1 = np.dot(p, q)\n",
        "print(\"Result of the said matrix multiplication:\")\n",
        "print(result1)"
      ],
      "metadata": {
        "colab": {
          "base_uri": "https://localhost:8080/"
        },
        "id": "0svXLnx1xc4B",
        "outputId": "ebeade5f-12d5-4d6e-c872-92167da51ba5",
        "cellView": "form",
        "collapsed": true
      },
      "execution_count": null,
      "outputs": [
        {
          "output_type": "stream",
          "name": "stdout",
          "text": [
            "Result of the said matrix multiplication:\n",
            "[[ 30  24  18]\n",
            " [ 84  69  54]\n",
            " [138 114  90]]\n"
          ]
        }
      ]
    },
    {
      "cell_type": "markdown",
      "source": [
        "Compute the outer product of two given vectors"
      ],
      "metadata": {
        "id": "hLRS-XhczVSi"
      }
    },
    {
      "cell_type": "code",
      "source": [
        "p = np.array([[5, 10], [15, 20]])\n",
        "q = np.array([[3, 6], [9, 12]])"
      ],
      "metadata": {
        "id": "E27DlxVLlyn9"
      },
      "execution_count": null,
      "outputs": []
    },
    {
      "cell_type": "code",
      "source": [
        "#@title\n",
        "result = np.outer(p, q)\n",
        "print(\"Outer product of the said two vectors:\")\n",
        "print(result)"
      ],
      "metadata": {
        "colab": {
          "base_uri": "https://localhost:8080/"
        },
        "id": "DEf0QengzLkA",
        "outputId": "8a333578-5c0b-4dfa-e847-41db1070fc23",
        "cellView": "form",
        "collapsed": true
      },
      "execution_count": null,
      "outputs": [
        {
          "output_type": "stream",
          "name": "stdout",
          "text": [
            "Outer product of the said two vectors:\n",
            "[[ 15  30  45  60]\n",
            " [ 30  60  90 120]\n",
            " [ 45  90 135 180]\n",
            " [ 60 120 180 240]]\n"
          ]
        }
      ]
    },
    {
      "cell_type": "markdown",
      "source": [
        "Compute the determinant of a given square array"
      ],
      "metadata": {
        "id": "Dqbp1z9_zydm"
      }
    },
    {
      "cell_type": "code",
      "source": [
        "a = np.array([[1, 2, 3], [4, 5, 6], [7, 8, 9]])"
      ],
      "metadata": {
        "id": "U3GOuAJozxPy"
      },
      "execution_count": null,
      "outputs": []
    },
    {
      "cell_type": "code",
      "source": [
        "#@title\n",
        "print(\"Determinant of the said array:\")\n",
        "print(np.linalg.det(a))"
      ],
      "metadata": {
        "colab": {
          "base_uri": "https://localhost:8080/"
        },
        "id": "Bp24Ryg5zc5Z",
        "outputId": "68a8e936-6134-4c52-9b8b-c817371a7d97",
        "cellView": "form",
        "collapsed": true
      },
      "execution_count": null,
      "outputs": [
        {
          "output_type": "stream",
          "name": "stdout",
          "text": [
            "Determinant of the said 2-D array:\n",
            "0.0\n"
          ]
        }
      ]
    },
    {
      "cell_type": "markdown",
      "source": [
        "Compute the cross product of two given vectors"
      ],
      "metadata": {
        "id": "TUZrGNOF1jXq"
      }
    },
    {
      "cell_type": "code",
      "source": [
        "#@title\n",
        "result1 = np.cross(p, q)\n",
        "result2 = np.cross(q, p)\n",
        "print(\"cross product of the said two vectors(p, q):\")\n",
        "print(result1)\n",
        "print(\"cross product of the said two vectors(q, p):\")\n",
        "print(result2)"
      ],
      "metadata": {
        "colab": {
          "base_uri": "https://localhost:8080/"
        },
        "cellView": "form",
        "id": "Of3RNwLN1KnN",
        "outputId": "10b3d1b4-c84b-4ec2-9815-6c31a91aadce",
        "collapsed": true
      },
      "execution_count": null,
      "outputs": [
        {
          "output_type": "stream",
          "name": "stdout",
          "text": [
            "cross product of the said two vectors(p, q):\n",
            "[0 0]\n",
            "cross product of the said two vectors(q, p):\n",
            "[0 0]\n"
          ]
        }
      ]
    },
    {
      "cell_type": "markdown",
      "source": [
        "Compute the inverse of a given matrix"
      ],
      "metadata": {
        "id": "oBhIvwy32Ms1"
      }
    },
    {
      "cell_type": "code",
      "source": [
        "m = np.array([[1, 2], [3, 4]])"
      ],
      "metadata": {
        "id": "q78R161g2MKa"
      },
      "execution_count": null,
      "outputs": []
    },
    {
      "cell_type": "code",
      "source": [
        "#@title\n",
        "result =  np.linalg.inv(m)\n",
        "print(\"Inverse of the said matrix:\")\n",
        "print(result)"
      ],
      "metadata": {
        "colab": {
          "base_uri": "https://localhost:8080/"
        },
        "id": "cuHFNEOq18-m",
        "outputId": "02bb8148-bb29-4553-83ea-4af7b2fa9d68",
        "collapsed": true,
        "cellView": "form"
      },
      "execution_count": null,
      "outputs": [
        {
          "output_type": "stream",
          "name": "stdout",
          "text": [
            "Inverse of the said matrix:\n",
            "[[-2.   1. ]\n",
            " [ 1.5 -0.5]]\n"
          ]
        }
      ]
    },
    {
      "cell_type": "code",
      "source": [
        "import pandas as pd\n",
        "\n",
        "team_names = [\"Team A\", \"Team B\", \"Team C\", \"Team D\", \"Team E\"]\n",
        "\n",
        "results = {\"Team\": team_names, \"1\": [4,0,5,5,0]}\n",
        "\n",
        "results_df = pd.DataFrame(results)\n",
        "\n",
        "results_df['2'] = [4,5,5,5,5]\n",
        "\n",
        "results_df['3'] = [3,5,4,5,5]\n",
        "\n",
        "results_df['4'] = [2,3,4,5,3]\n",
        "\n",
        "results_df['5'] = [2,3,5,5,4]\n",
        "\n",
        "results_df['Total'] = results_df.sum(axis=1)\n",
        "\n",
        "results_df.sort_values(\"Total\", ascending=False, inplace=True)\n",
        "\n",
        "results_df.reset_index(drop=True, inplace=True)\n",
        "\n",
        "# Print the DataFrame\n",
        "print(results_df)"
      ],
      "metadata": {
        "colab": {
          "base_uri": "https://localhost:8080/"
        },
        "id": "PM8fX9tZ3Kxn",
        "outputId": "23ed07b8-1945-4779-c2ee-b952ab7ffa47"
      },
      "execution_count": null,
      "outputs": [
        {
          "output_type": "stream",
          "name": "stdout",
          "text": [
            "     Team  1  2  3  4  5  Total\n",
            "0  Team D  5  5  5  5  5     25\n",
            "1  Team C  5  5  4  4  5     23\n",
            "2  Team E  0  5  5  3  4     17\n",
            "3  Team B  0  5  5  3  3     16\n",
            "4  Team A  4  4  3  2  2     15\n"
          ]
        },
        {
          "output_type": "stream",
          "name": "stderr",
          "text": [
            "<ipython-input-32-920fcfa7590c>:17: FutureWarning: Dropping of nuisance columns in DataFrame reductions (with 'numeric_only=None') is deprecated; in a future version this will raise TypeError.  Select only valid columns before calling the reduction.\n",
            "  results_df['Total'] = results_df.sum(axis=1)\n"
          ]
        }
      ]
    }
  ]
}