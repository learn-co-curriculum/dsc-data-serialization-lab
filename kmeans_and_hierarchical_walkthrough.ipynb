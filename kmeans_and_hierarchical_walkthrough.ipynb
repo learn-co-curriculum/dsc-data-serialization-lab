{
  "cells": [
    {
      "cell_type": "markdown",
      "metadata": {
        "id": "view-in-github",
        "colab_type": "text"
      },
      "source": [
        "<a href=\"https://colab.research.google.com/github/sgathai/dsc-data-serialization-lab/blob/master/kmeans_and_hierarchical_walkthrough.ipynb\" target=\"_parent\"><img src=\"https://colab.research.google.com/assets/colab-badge.svg\" alt=\"Open In Colab\"/></a>"
      ]
    },
    {
      "cell_type": "markdown",
      "metadata": {
        "id": "39yeySkYGh-y"
      },
      "source": [
        "# K-Means Clustering\n",
        "\n",
        "**1. What is k-means clustering?**\n",
        "\n",
        "![link text](data:image/png;base64,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)"
      ]
    },
    {
      "cell_type": "markdown",
      "metadata": {
        "id": "ppyxhDOvHWS_"
      },
      "source": [
        "**2. How it works**\n",
        "\n",
        "* Initialize K random centroids.\n",
        "You could pick K random data points and make those your starting points.\n",
        "Otherwise, you pick K random values for each variable.\n",
        "* For every data point, look at which centroid is nearest to it.\n",
        "Using some sort of measurement like Euclidean or Cosine distance.\n",
        "* Assign the data point to the nearest centroid.\n",
        "* For every centroid, move the centroid to the average of the points assigned to that centroid.\n",
        "* Repeat the last three steps until the centroid assignment no longer changes.\n",
        "\n",
        "\n",
        "The algorithm is said to have “converged” once there are no more changes.\n",
        "\n",
        "\n"
      ]
    },
    {
      "cell_type": "markdown",
      "source": [
        "# Hierarchical clustering\n",
        "\n",
        "**1. What is hierarchical clustering?**\n",
        "![link text](https://miro.medium.com/v2/resize:fit:1039/0*afzanWwrDq9vd2g-)"
      ],
      "metadata": {
        "id": "qADh7_kWeME-"
      }
    },
    {
      "cell_type": "markdown",
      "source": [
        "**2. How it works**\n",
        "\n",
        "*Agglomerative Hierarchical Clustering (Bottom-Up Approach):*\n",
        "\n",
        "In agglomerative hierarchical clustering, each data point starts in its own cluster, and pairs of clusters are merged as one moves up the hierarchy.\n",
        "\n",
        "    Step-by-step outline of an agglomerative clustering algorithm:\n",
        "        \n",
        "  * Start by assigning each data point to its own cluster, so if you have N data points, you have N clusters.\n",
        "  * Find the closest (most similar) pair of clusters and merge them into a single cluster. The distance between clusters could be computed in various ways. Some common approaches include single linkage (minimum distance between clusters), complete linkage (maximum distance), average linkage (average distance), and Ward's method (minimizes the variance of the clusters being merged).\n",
        "  * Update the distance matrix that measures the distances between the clusters.\n",
        "  * Repeat steps 2 and 3 until all the data points are in one cluster.\n",
        "\n",
        "The output of this clustering is a tree-based representation of the data called a dendrogram, which shows the order in which clusters were merged.\n",
        "\n",
        "*Divisive Hierarchical Clustering (Top-Down Approach):*\n",
        "\n",
        "Divisive hierarchical clustering works in the opposite way. Instead of starting with N clusters (in case of N observations), we start with one cluster and assign all of the observations to that one cluster.\n",
        "\n",
        "    Step-by-step outline of a divisive clustering algorithm:\n",
        " * Start with one cluster that includes all data points.\n",
        " * Find the cluster to split and the way to split it so that it maximizes the distance (or difference) between the resulting clusters.\n",
        " * Repeat step 2 until each data point is in its own cluster.\n",
        "\n",
        "    As with agglomerative clustering, the result of divisive clustering can be visualized using a dendrogram."
      ],
      "metadata": {
        "id": "0Ell5CaMnfB2"
      }
    },
    {
      "cell_type": "code",
      "source": [],
      "metadata": {
        "id": "VbPZHmbunF2a"
      },
      "execution_count": null,
      "outputs": []
    },
    {
      "cell_type": "markdown",
      "metadata": {
        "id": "a6kbcuv5W3ET"
      },
      "source": [
        "# Let's get our hands dirty!\n",
        "\n",
        "Data: http://bit.ly/IPAdvertisingData\n",
        "\n",
        "**Objective:**\n",
        "\n",
        "The objective of this project is to perform clustering on different visitors to a website to identify which type of visitors are generating revenue and which visitors are not generating revenue."
      ]
    },
    {
      "cell_type": "code",
      "execution_count": null,
      "metadata": {
        "id": "GBo36g5Vzg6z"
      },
      "outputs": [],
      "source": [
        "import pandas as pd\n",
        "import numpy as np\n",
        "import matplotlib.pyplot as plt"
      ]
    },
    {
      "cell_type": "code",
      "execution_count": null,
      "metadata": {
        "id": "HCuCfoLMz5Wf"
      },
      "outputs": [],
      "source": [
        "df = pd.read_csv('http://bit.ly/IPAdvertisingData')"
      ]
    },
    {
      "cell_type": "code",
      "execution_count": null,
      "metadata": {
        "colab": {
          "base_uri": "https://localhost:8080/",
          "height": 513
        },
        "id": "HWu_JkrL0AD1",
        "outputId": "d3470881-ffda-4530-b469-3a97f1565c01"
      },
      "outputs": [
        {
          "data": {
            "text/html": [
              "\n",
              "  <div id=\"df-1d085df3-aa1c-46b3-98d8-2d409a6a8855\">\n",
              "    <div class=\"colab-df-container\">\n",
              "      <div>\n",
              "<style scoped>\n",
              "    .dataframe tbody tr th:only-of-type {\n",
              "        vertical-align: middle;\n",
              "    }\n",
              "\n",
              "    .dataframe tbody tr th {\n",
              "        vertical-align: top;\n",
              "    }\n",
              "\n",
              "    .dataframe thead th {\n",
              "        text-align: right;\n",
              "    }\n",
              "</style>\n",
              "<table border=\"1\" class=\"dataframe\">\n",
              "  <thead>\n",
              "    <tr style=\"text-align: right;\">\n",
              "      <th></th>\n",
              "      <th>Daily Time Spent on Site</th>\n",
              "      <th>Age</th>\n",
              "      <th>Area Income</th>\n",
              "      <th>Daily Internet Usage</th>\n",
              "      <th>Ad Topic Line</th>\n",
              "      <th>City</th>\n",
              "      <th>Male</th>\n",
              "      <th>Country</th>\n",
              "      <th>Timestamp</th>\n",
              "      <th>Clicked on Ad</th>\n",
              "    </tr>\n",
              "  </thead>\n",
              "  <tbody>\n",
              "    <tr>\n",
              "      <th>0</th>\n",
              "      <td>68.95</td>\n",
              "      <td>35</td>\n",
              "      <td>61833.90</td>\n",
              "      <td>256.09</td>\n",
              "      <td>Cloned 5thgeneration orchestration</td>\n",
              "      <td>Wrightburgh</td>\n",
              "      <td>0</td>\n",
              "      <td>Tunisia</td>\n",
              "      <td>2016-03-27 00:53:11</td>\n",
              "      <td>0</td>\n",
              "    </tr>\n",
              "    <tr>\n",
              "      <th>1</th>\n",
              "      <td>80.23</td>\n",
              "      <td>31</td>\n",
              "      <td>68441.85</td>\n",
              "      <td>193.77</td>\n",
              "      <td>Monitored national standardization</td>\n",
              "      <td>West Jodi</td>\n",
              "      <td>1</td>\n",
              "      <td>Nauru</td>\n",
              "      <td>2016-04-04 01:39:02</td>\n",
              "      <td>0</td>\n",
              "    </tr>\n",
              "    <tr>\n",
              "      <th>2</th>\n",
              "      <td>69.47</td>\n",
              "      <td>26</td>\n",
              "      <td>59785.94</td>\n",
              "      <td>236.50</td>\n",
              "      <td>Organic bottom-line service-desk</td>\n",
              "      <td>Davidton</td>\n",
              "      <td>0</td>\n",
              "      <td>San Marino</td>\n",
              "      <td>2016-03-13 20:35:42</td>\n",
              "      <td>0</td>\n",
              "    </tr>\n",
              "    <tr>\n",
              "      <th>3</th>\n",
              "      <td>74.15</td>\n",
              "      <td>29</td>\n",
              "      <td>54806.18</td>\n",
              "      <td>245.89</td>\n",
              "      <td>Triple-buffered reciprocal time-frame</td>\n",
              "      <td>West Terrifurt</td>\n",
              "      <td>1</td>\n",
              "      <td>Italy</td>\n",
              "      <td>2016-01-10 02:31:19</td>\n",
              "      <td>0</td>\n",
              "    </tr>\n",
              "    <tr>\n",
              "      <th>4</th>\n",
              "      <td>68.37</td>\n",
              "      <td>35</td>\n",
              "      <td>73889.99</td>\n",
              "      <td>225.58</td>\n",
              "      <td>Robust logistical utilization</td>\n",
              "      <td>South Manuel</td>\n",
              "      <td>0</td>\n",
              "      <td>Iceland</td>\n",
              "      <td>2016-06-03 03:36:18</td>\n",
              "      <td>0</td>\n",
              "    </tr>\n",
              "  </tbody>\n",
              "</table>\n",
              "</div>\n",
              "      <button class=\"colab-df-convert\" onclick=\"convertToInteractive('df-1d085df3-aa1c-46b3-98d8-2d409a6a8855')\"\n",
              "              title=\"Convert this dataframe to an interactive table.\"\n",
              "              style=\"display:none;\">\n",
              "        \n",
              "  <svg xmlns=\"http://www.w3.org/2000/svg\" height=\"24px\"viewBox=\"0 0 24 24\"\n",
              "       width=\"24px\">\n",
              "    <path d=\"M0 0h24v24H0V0z\" fill=\"none\"/>\n",
              "    <path d=\"M18.56 5.44l.94 2.06.94-2.06 2.06-.94-2.06-.94-.94-2.06-.94 2.06-2.06.94zm-11 1L8.5 8.5l.94-2.06 2.06-.94-2.06-.94L8.5 2.5l-.94 2.06-2.06.94zm10 10l.94 2.06.94-2.06 2.06-.94-2.06-.94-.94-2.06-.94 2.06-2.06.94z\"/><path d=\"M17.41 7.96l-1.37-1.37c-.4-.4-.92-.59-1.43-.59-.52 0-1.04.2-1.43.59L10.3 9.45l-7.72 7.72c-.78.78-.78 2.05 0 2.83L4 21.41c.39.39.9.59 1.41.59.51 0 1.02-.2 1.41-.59l7.78-7.78 2.81-2.81c.8-.78.8-2.07 0-2.86zM5.41 20L4 18.59l7.72-7.72 1.47 1.35L5.41 20z\"/>\n",
              "  </svg>\n",
              "      </button>\n",
              "      \n",
              "  <style>\n",
              "    .colab-df-container {\n",
              "      display:flex;\n",
              "      flex-wrap:wrap;\n",
              "      gap: 12px;\n",
              "    }\n",
              "\n",
              "    .colab-df-convert {\n",
              "      background-color: #E8F0FE;\n",
              "      border: none;\n",
              "      border-radius: 50%;\n",
              "      cursor: pointer;\n",
              "      display: none;\n",
              "      fill: #1967D2;\n",
              "      height: 32px;\n",
              "      padding: 0 0 0 0;\n",
              "      width: 32px;\n",
              "    }\n",
              "\n",
              "    .colab-df-convert:hover {\n",
              "      background-color: #E2EBFA;\n",
              "      box-shadow: 0px 1px 2px rgba(60, 64, 67, 0.3), 0px 1px 3px 1px rgba(60, 64, 67, 0.15);\n",
              "      fill: #174EA6;\n",
              "    }\n",
              "\n",
              "    [theme=dark] .colab-df-convert {\n",
              "      background-color: #3B4455;\n",
              "      fill: #D2E3FC;\n",
              "    }\n",
              "\n",
              "    [theme=dark] .colab-df-convert:hover {\n",
              "      background-color: #434B5C;\n",
              "      box-shadow: 0px 1px 3px 1px rgba(0, 0, 0, 0.15);\n",
              "      filter: drop-shadow(0px 1px 2px rgba(0, 0, 0, 0.3));\n",
              "      fill: #FFFFFF;\n",
              "    }\n",
              "  </style>\n",
              "\n",
              "      <script>\n",
              "        const buttonEl =\n",
              "          document.querySelector('#df-1d085df3-aa1c-46b3-98d8-2d409a6a8855 button.colab-df-convert');\n",
              "        buttonEl.style.display =\n",
              "          google.colab.kernel.accessAllowed ? 'block' : 'none';\n",
              "\n",
              "        async function convertToInteractive(key) {\n",
              "          const element = document.querySelector('#df-1d085df3-aa1c-46b3-98d8-2d409a6a8855');\n",
              "          const dataTable =\n",
              "            await google.colab.kernel.invokeFunction('convertToInteractive',\n",
              "                                                     [key], {});\n",
              "          if (!dataTable) return;\n",
              "\n",
              "          const docLinkHtml = 'Like what you see? Visit the ' +\n",
              "            '<a target=\"_blank\" href=https://colab.research.google.com/notebooks/data_table.ipynb>data table notebook</a>'\n",
              "            + ' to learn more about interactive tables.';\n",
              "          element.innerHTML = '';\n",
              "          dataTable['output_type'] = 'display_data';\n",
              "          await google.colab.output.renderOutput(dataTable, element);\n",
              "          const docLink = document.createElement('div');\n",
              "          docLink.innerHTML = docLinkHtml;\n",
              "          element.appendChild(docLink);\n",
              "        }\n",
              "      </script>\n",
              "    </div>\n",
              "  </div>\n",
              "  "
            ],
            "text/plain": [
              "   Daily Time Spent on Site  Age  Area Income  Daily Internet Usage  \\\n",
              "0                     68.95   35     61833.90                256.09   \n",
              "1                     80.23   31     68441.85                193.77   \n",
              "2                     69.47   26     59785.94                236.50   \n",
              "3                     74.15   29     54806.18                245.89   \n",
              "4                     68.37   35     73889.99                225.58   \n",
              "\n",
              "                           Ad Topic Line            City  Male     Country  \\\n",
              "0     Cloned 5thgeneration orchestration     Wrightburgh     0     Tunisia   \n",
              "1     Monitored national standardization       West Jodi     1       Nauru   \n",
              "2       Organic bottom-line service-desk        Davidton     0  San Marino   \n",
              "3  Triple-buffered reciprocal time-frame  West Terrifurt     1       Italy   \n",
              "4          Robust logistical utilization    South Manuel     0     Iceland   \n",
              "\n",
              "             Timestamp  Clicked on Ad  \n",
              "0  2016-03-27 00:53:11              0  \n",
              "1  2016-04-04 01:39:02              0  \n",
              "2  2016-03-13 20:35:42              0  \n",
              "3  2016-01-10 02:31:19              0  \n",
              "4  2016-06-03 03:36:18              0  "
            ]
          },
          "execution_count": 5,
          "metadata": {},
          "output_type": "execute_result"
        }
      ],
      "source": [
        "df.head()"
      ]
    },
    {
      "cell_type": "code",
      "execution_count": null,
      "metadata": {
        "colab": {
          "base_uri": "https://localhost:8080/"
        },
        "id": "cm7U1iO90CRf",
        "outputId": "9ab011fe-85af-49ec-c714-dff8c67924c9"
      },
      "outputs": [
        {
          "data": {
            "text/plain": [
              "(1000, 10)"
            ]
          },
          "execution_count": 6,
          "metadata": {},
          "output_type": "execute_result"
        }
      ],
      "source": [
        "df.shape"
      ]
    },
    {
      "cell_type": "code",
      "execution_count": null,
      "metadata": {
        "colab": {
          "base_uri": "https://localhost:8080/"
        },
        "id": "Y8iax5M50Kiw",
        "outputId": "eb65dda3-84d7-4dd3-b047-dcb254d26d0d"
      },
      "outputs": [
        {
          "data": {
            "text/plain": [
              "Index(['Daily Time Spent on Site', 'Age', 'Area Income',\n",
              "       'Daily Internet Usage', 'Ad Topic Line', 'City', 'Male', 'Country',\n",
              "       'Timestamp', 'Clicked on Ad'],\n",
              "      dtype='object')"
            ]
          },
          "execution_count": 7,
          "metadata": {},
          "output_type": "execute_result"
        }
      ],
      "source": [
        "df.columns"
      ]
    },
    {
      "cell_type": "code",
      "execution_count": null,
      "metadata": {
        "colab": {
          "base_uri": "https://localhost:8080/"
        },
        "id": "6o3G3HjI0NEE",
        "outputId": "f5b4885a-575f-459f-a013-97f8a2b7f522"
      },
      "outputs": [
        {
          "name": "stdout",
          "output_type": "stream",
          "text": [
            "<class 'pandas.core.frame.DataFrame'>\n",
            "RangeIndex: 1000 entries, 0 to 999\n",
            "Data columns (total 10 columns):\n",
            " #   Column                    Non-Null Count  Dtype  \n",
            "---  ------                    --------------  -----  \n",
            " 0   Daily Time Spent on Site  1000 non-null   float64\n",
            " 1   Age                       1000 non-null   int64  \n",
            " 2   Area Income               1000 non-null   float64\n",
            " 3   Daily Internet Usage      1000 non-null   float64\n",
            " 4   Ad Topic Line             1000 non-null   object \n",
            " 5   City                      1000 non-null   object \n",
            " 6   Male                      1000 non-null   int64  \n",
            " 7   Country                   1000 non-null   object \n",
            " 8   Timestamp                 1000 non-null   object \n",
            " 9   Clicked on Ad             1000 non-null   int64  \n",
            "dtypes: float64(3), int64(3), object(4)\n",
            "memory usage: 78.2+ KB\n"
          ]
        }
      ],
      "source": [
        "df.info()"
      ]
    },
    {
      "cell_type": "code",
      "execution_count": null,
      "metadata": {
        "colab": {
          "base_uri": "https://localhost:8080/",
          "height": 315
        },
        "id": "wDgpNf570oXv",
        "outputId": "4d1e2ca5-244d-4e5f-e99d-88c485c855f8"
      },
      "outputs": [
        {
          "data": {
            "text/html": [
              "\n",
              "  <div id=\"df-00ac0c74-e04c-4c31-ad14-d2c55e77da2a\">\n",
              "    <div class=\"colab-df-container\">\n",
              "      <div>\n",
              "<style scoped>\n",
              "    .dataframe tbody tr th:only-of-type {\n",
              "        vertical-align: middle;\n",
              "    }\n",
              "\n",
              "    .dataframe tbody tr th {\n",
              "        vertical-align: top;\n",
              "    }\n",
              "\n",
              "    .dataframe thead th {\n",
              "        text-align: right;\n",
              "    }\n",
              "</style>\n",
              "<table border=\"1\" class=\"dataframe\">\n",
              "  <thead>\n",
              "    <tr style=\"text-align: right;\">\n",
              "      <th></th>\n",
              "      <th>Daily Time Spent on Site</th>\n",
              "      <th>Age</th>\n",
              "      <th>Area Income</th>\n",
              "      <th>Daily Internet Usage</th>\n",
              "      <th>Ad Topic Line</th>\n",
              "      <th>City</th>\n",
              "      <th>Male</th>\n",
              "      <th>Country</th>\n",
              "      <th>Timestamp</th>\n",
              "      <th>Clicked on Ad</th>\n",
              "    </tr>\n",
              "  </thead>\n",
              "  <tbody>\n",
              "    <tr>\n",
              "      <th>0</th>\n",
              "      <td>68.95</td>\n",
              "      <td>35</td>\n",
              "      <td>61833.90</td>\n",
              "      <td>256.09</td>\n",
              "      <td>Cloned 5thgeneration orchestration</td>\n",
              "      <td>Wrightburgh</td>\n",
              "      <td>0</td>\n",
              "      <td>Tunisia</td>\n",
              "      <td>2016-03-27 00:53:11</td>\n",
              "      <td>0</td>\n",
              "    </tr>\n",
              "    <tr>\n",
              "      <th>1</th>\n",
              "      <td>80.23</td>\n",
              "      <td>31</td>\n",
              "      <td>68441.85</td>\n",
              "      <td>193.77</td>\n",
              "      <td>Monitored national standardization</td>\n",
              "      <td>West Jodi</td>\n",
              "      <td>1</td>\n",
              "      <td>Nauru</td>\n",
              "      <td>2016-04-04 01:39:02</td>\n",
              "      <td>0</td>\n",
              "    </tr>\n",
              "  </tbody>\n",
              "</table>\n",
              "</div>\n",
              "      <button class=\"colab-df-convert\" onclick=\"convertToInteractive('df-00ac0c74-e04c-4c31-ad14-d2c55e77da2a')\"\n",
              "              title=\"Convert this dataframe to an interactive table.\"\n",
              "              style=\"display:none;\">\n",
              "        \n",
              "  <svg xmlns=\"http://www.w3.org/2000/svg\" height=\"24px\"viewBox=\"0 0 24 24\"\n",
              "       width=\"24px\">\n",
              "    <path d=\"M0 0h24v24H0V0z\" fill=\"none\"/>\n",
              "    <path d=\"M18.56 5.44l.94 2.06.94-2.06 2.06-.94-2.06-.94-.94-2.06-.94 2.06-2.06.94zm-11 1L8.5 8.5l.94-2.06 2.06-.94-2.06-.94L8.5 2.5l-.94 2.06-2.06.94zm10 10l.94 2.06.94-2.06 2.06-.94-2.06-.94-.94-2.06-.94 2.06-2.06.94z\"/><path d=\"M17.41 7.96l-1.37-1.37c-.4-.4-.92-.59-1.43-.59-.52 0-1.04.2-1.43.59L10.3 9.45l-7.72 7.72c-.78.78-.78 2.05 0 2.83L4 21.41c.39.39.9.59 1.41.59.51 0 1.02-.2 1.41-.59l7.78-7.78 2.81-2.81c.8-.78.8-2.07 0-2.86zM5.41 20L4 18.59l7.72-7.72 1.47 1.35L5.41 20z\"/>\n",
              "  </svg>\n",
              "      </button>\n",
              "      \n",
              "  <style>\n",
              "    .colab-df-container {\n",
              "      display:flex;\n",
              "      flex-wrap:wrap;\n",
              "      gap: 12px;\n",
              "    }\n",
              "\n",
              "    .colab-df-convert {\n",
              "      background-color: #E8F0FE;\n",
              "      border: none;\n",
              "      border-radius: 50%;\n",
              "      cursor: pointer;\n",
              "      display: none;\n",
              "      fill: #1967D2;\n",
              "      height: 32px;\n",
              "      padding: 0 0 0 0;\n",
              "      width: 32px;\n",
              "    }\n",
              "\n",
              "    .colab-df-convert:hover {\n",
              "      background-color: #E2EBFA;\n",
              "      box-shadow: 0px 1px 2px rgba(60, 64, 67, 0.3), 0px 1px 3px 1px rgba(60, 64, 67, 0.15);\n",
              "      fill: #174EA6;\n",
              "    }\n",
              "\n",
              "    [theme=dark] .colab-df-convert {\n",
              "      background-color: #3B4455;\n",
              "      fill: #D2E3FC;\n",
              "    }\n",
              "\n",
              "    [theme=dark] .colab-df-convert:hover {\n",
              "      background-color: #434B5C;\n",
              "      box-shadow: 0px 1px 3px 1px rgba(0, 0, 0, 0.15);\n",
              "      filter: drop-shadow(0px 1px 2px rgba(0, 0, 0, 0.3));\n",
              "      fill: #FFFFFF;\n",
              "    }\n",
              "  </style>\n",
              "\n",
              "      <script>\n",
              "        const buttonEl =\n",
              "          document.querySelector('#df-00ac0c74-e04c-4c31-ad14-d2c55e77da2a button.colab-df-convert');\n",
              "        buttonEl.style.display =\n",
              "          google.colab.kernel.accessAllowed ? 'block' : 'none';\n",
              "\n",
              "        async function convertToInteractive(key) {\n",
              "          const element = document.querySelector('#df-00ac0c74-e04c-4c31-ad14-d2c55e77da2a');\n",
              "          const dataTable =\n",
              "            await google.colab.kernel.invokeFunction('convertToInteractive',\n",
              "                                                     [key], {});\n",
              "          if (!dataTable) return;\n",
              "\n",
              "          const docLinkHtml = 'Like what you see? Visit the ' +\n",
              "            '<a target=\"_blank\" href=https://colab.research.google.com/notebooks/data_table.ipynb>data table notebook</a>'\n",
              "            + ' to learn more about interactive tables.';\n",
              "          element.innerHTML = '';\n",
              "          dataTable['output_type'] = 'display_data';\n",
              "          await google.colab.output.renderOutput(dataTable, element);\n",
              "          const docLink = document.createElement('div');\n",
              "          docLink.innerHTML = docLinkHtml;\n",
              "          element.appendChild(docLink);\n",
              "        }\n",
              "      </script>\n",
              "    </div>\n",
              "  </div>\n",
              "  "
            ],
            "text/plain": [
              "   Daily Time Spent on Site  Age  Area Income  Daily Internet Usage  \\\n",
              "0                     68.95   35     61833.90                256.09   \n",
              "1                     80.23   31     68441.85                193.77   \n",
              "\n",
              "                        Ad Topic Line         City  Male  Country  \\\n",
              "0  Cloned 5thgeneration orchestration  Wrightburgh     0  Tunisia   \n",
              "1  Monitored national standardization    West Jodi     1    Nauru   \n",
              "\n",
              "             Timestamp  Clicked on Ad  \n",
              "0  2016-03-27 00:53:11              0  \n",
              "1  2016-04-04 01:39:02              0  "
            ]
          },
          "execution_count": 9,
          "metadata": {},
          "output_type": "execute_result"
        }
      ],
      "source": [
        "df.head(2)"
      ]
    },
    {
      "cell_type": "code",
      "execution_count": null,
      "metadata": {
        "colab": {
          "base_uri": "https://localhost:8080/"
        },
        "id": "84uKRhYK01U2",
        "outputId": "78786467-545d-420e-86f0-c912810e820d"
      },
      "outputs": [
        {
          "data": {
            "text/plain": [
              "France                                                 9\n",
              "Czech Republic                                         9\n",
              "Peru                                                   8\n",
              "Turkey                                                 8\n",
              "Greece                                                 8\n",
              "                                                      ..\n",
              "Romania                                                1\n",
              "British Indian Ocean Territory (Chagos Archipelago)    1\n",
              "Germany                                                1\n",
              "Aruba                                                  1\n",
              "Lesotho                                                1\n",
              "Name: Country, Length: 237, dtype: int64"
            ]
          },
          "execution_count": 11,
          "metadata": {},
          "output_type": "execute_result"
        }
      ],
      "source": [
        "df['Country'].value_counts()"
      ]
    },
    {
      "cell_type": "code",
      "execution_count": null,
      "metadata": {
        "colab": {
          "base_uri": "https://localhost:8080/"
        },
        "id": "DfmQyCea1OOK",
        "outputId": "c6c76152-d21c-4410-d208-1166f6cd86d3"
      },
      "outputs": [
        {
          "data": {
            "text/plain": [
              "Lisamouth         3\n",
              "Williamsport      3\n",
              "Wrightburgh       2\n",
              "Lake Jose         2\n",
              "Robertfurt        2\n",
              "                 ..\n",
              "Burgessside       1\n",
              "Hurleyborough     1\n",
              "Garychester       1\n",
              "East Kevinbury    1\n",
              "Ronniemouth       1\n",
              "Name: City, Length: 969, dtype: int64"
            ]
          },
          "execution_count": 12,
          "metadata": {},
          "output_type": "execute_result"
        }
      ],
      "source": [
        "df['City'].value_counts()"
      ]
    },
    {
      "cell_type": "code",
      "execution_count": null,
      "metadata": {
        "colab": {
          "base_uri": "https://localhost:8080/"
        },
        "id": "VY6WRVCg1eDS",
        "outputId": "289986d4-d105-4329-846d-e85ef478a51a"
      },
      "outputs": [
        {
          "data": {
            "text/plain": [
              "Cloned 5thgeneration orchestration              1\n",
              "Synchronized multi-tasking ability              1\n",
              "Customer-focused impactful success              1\n",
              "Open-source optimizing parallelism              1\n",
              "Organic logistical adapter                      1\n",
              "                                               ..\n",
              "Enhanced zero tolerance Graphic Interface       1\n",
              "De-engineered tertiary secured line             1\n",
              "Reverse-engineered well-modulated capability    1\n",
              "Integrated coherent pricing structure           1\n",
              "Virtual 5thgeneration emulation                 1\n",
              "Name: Ad Topic Line, Length: 1000, dtype: int64"
            ]
          },
          "execution_count": 13,
          "metadata": {},
          "output_type": "execute_result"
        }
      ],
      "source": [
        "df['Ad Topic Line'].value_counts()"
      ]
    },
    {
      "cell_type": "code",
      "execution_count": null,
      "metadata": {
        "id": "Ho5_mylN2aZb"
      },
      "outputs": [],
      "source": [
        "df.drop(columns=['Ad Topic Line', 'City', 'Country'], inplace = True)"
      ]
    },
    {
      "cell_type": "code",
      "execution_count": null,
      "metadata": {
        "colab": {
          "base_uri": "https://localhost:8080/"
        },
        "id": "Ss2bkNq_3UX5",
        "outputId": "f7b8c475-670c-466f-d4a0-db7c5523308d"
      },
      "outputs": [
        {
          "data": {
            "text/plain": [
              "Index(['Daily Time Spent on Site', 'Age', 'Area Income',\n",
              "       'Daily Internet Usage', 'Male', 'Timestamp', 'Clicked on Ad'],\n",
              "      dtype='object')"
            ]
          },
          "execution_count": 15,
          "metadata": {},
          "output_type": "execute_result"
        }
      ],
      "source": [
        "df.columns"
      ]
    },
    {
      "cell_type": "code",
      "execution_count": null,
      "metadata": {
        "id": "9nminJhx3XqA"
      },
      "outputs": [],
      "source": [
        "df.drop(columns=['Timestamp'], inplace = True)"
      ]
    },
    {
      "cell_type": "code",
      "execution_count": null,
      "metadata": {
        "colab": {
          "base_uri": "https://localhost:8080/"
        },
        "id": "ES_1JPzq3ktp",
        "outputId": "eadd1fc4-9d7f-4040-9adb-28c3566c66cd"
      },
      "outputs": [
        {
          "data": {
            "text/plain": [
              "Index(['Daily Time Spent on Site', 'Age', 'Area Income',\n",
              "       'Daily Internet Usage', 'Male', 'Clicked on Ad'],\n",
              "      dtype='object')"
            ]
          },
          "execution_count": 17,
          "metadata": {},
          "output_type": "execute_result"
        }
      ],
      "source": [
        "df.columns"
      ]
    },
    {
      "cell_type": "code",
      "execution_count": null,
      "metadata": {
        "colab": {
          "base_uri": "https://localhost:8080/"
        },
        "id": "Mhe9qxII3mDt",
        "outputId": "f4d9519b-48c3-49a9-b204-a8cfb7c0286e"
      },
      "outputs": [
        {
          "data": {
            "text/plain": [
              "Daily Time Spent on Site    0\n",
              "Age                         0\n",
              "Area Income                 0\n",
              "Daily Internet Usage        0\n",
              "Male                        0\n",
              "Clicked on Ad               0\n",
              "dtype: int64"
            ]
          },
          "execution_count": 18,
          "metadata": {},
          "output_type": "execute_result"
        }
      ],
      "source": [
        "df.isna().sum()"
      ]
    },
    {
      "cell_type": "code",
      "execution_count": null,
      "metadata": {
        "id": "s0vN6yUJ4xw5"
      },
      "outputs": [],
      "source": [
        "df['Male'] = df['Male'].astype('category')"
      ]
    },
    {
      "cell_type": "code",
      "execution_count": null,
      "metadata": {
        "id": "snFI6lH35P66"
      },
      "outputs": [],
      "source": [
        "df['Clicked on Ad'] = df['Clicked on Ad'].astype('category')"
      ]
    },
    {
      "cell_type": "code",
      "execution_count": null,
      "metadata": {
        "colab": {
          "base_uri": "https://localhost:8080/",
          "height": 455
        },
        "id": "1dlQ0gq-34gR",
        "outputId": "ce05806d-6046-4bb5-91bb-27063b6c9d59"
      },
      "outputs": [
        {
          "data": {
            "text/html": [
              "\n",
              "  <div id=\"df-733b41f1-652d-4054-962e-7bd3f934fd47\">\n",
              "    <div class=\"colab-df-container\">\n",
              "      <div>\n",
              "<style scoped>\n",
              "    .dataframe tbody tr th:only-of-type {\n",
              "        vertical-align: middle;\n",
              "    }\n",
              "\n",
              "    .dataframe tbody tr th {\n",
              "        vertical-align: top;\n",
              "    }\n",
              "\n",
              "    .dataframe thead th {\n",
              "        text-align: right;\n",
              "    }\n",
              "</style>\n",
              "<table border=\"1\" class=\"dataframe\">\n",
              "  <thead>\n",
              "    <tr style=\"text-align: right;\">\n",
              "      <th></th>\n",
              "      <th>Daily Time Spent on Site</th>\n",
              "      <th>Age</th>\n",
              "      <th>Area Income</th>\n",
              "      <th>Daily Internet Usage</th>\n",
              "      <th>Male</th>\n",
              "      <th>Clicked on Ad</th>\n",
              "    </tr>\n",
              "  </thead>\n",
              "  <tbody>\n",
              "    <tr>\n",
              "      <th>count</th>\n",
              "      <td>1000.000000</td>\n",
              "      <td>1000.000000</td>\n",
              "      <td>1000.000000</td>\n",
              "      <td>1000.000000</td>\n",
              "      <td>1000.0</td>\n",
              "      <td>1000.0</td>\n",
              "    </tr>\n",
              "    <tr>\n",
              "      <th>unique</th>\n",
              "      <td>NaN</td>\n",
              "      <td>NaN</td>\n",
              "      <td>NaN</td>\n",
              "      <td>NaN</td>\n",
              "      <td>2.0</td>\n",
              "      <td>2.0</td>\n",
              "    </tr>\n",
              "    <tr>\n",
              "      <th>top</th>\n",
              "      <td>NaN</td>\n",
              "      <td>NaN</td>\n",
              "      <td>NaN</td>\n",
              "      <td>NaN</td>\n",
              "      <td>0.0</td>\n",
              "      <td>0.0</td>\n",
              "    </tr>\n",
              "    <tr>\n",
              "      <th>freq</th>\n",
              "      <td>NaN</td>\n",
              "      <td>NaN</td>\n",
              "      <td>NaN</td>\n",
              "      <td>NaN</td>\n",
              "      <td>519.0</td>\n",
              "      <td>500.0</td>\n",
              "    </tr>\n",
              "    <tr>\n",
              "      <th>mean</th>\n",
              "      <td>65.000200</td>\n",
              "      <td>36.009000</td>\n",
              "      <td>55000.000080</td>\n",
              "      <td>180.000100</td>\n",
              "      <td>NaN</td>\n",
              "      <td>NaN</td>\n",
              "    </tr>\n",
              "    <tr>\n",
              "      <th>std</th>\n",
              "      <td>15.853615</td>\n",
              "      <td>8.785562</td>\n",
              "      <td>13414.634022</td>\n",
              "      <td>43.902339</td>\n",
              "      <td>NaN</td>\n",
              "      <td>NaN</td>\n",
              "    </tr>\n",
              "    <tr>\n",
              "      <th>min</th>\n",
              "      <td>32.600000</td>\n",
              "      <td>19.000000</td>\n",
              "      <td>13996.500000</td>\n",
              "      <td>104.780000</td>\n",
              "      <td>NaN</td>\n",
              "      <td>NaN</td>\n",
              "    </tr>\n",
              "    <tr>\n",
              "      <th>25%</th>\n",
              "      <td>51.360000</td>\n",
              "      <td>29.000000</td>\n",
              "      <td>47031.802500</td>\n",
              "      <td>138.830000</td>\n",
              "      <td>NaN</td>\n",
              "      <td>NaN</td>\n",
              "    </tr>\n",
              "    <tr>\n",
              "      <th>50%</th>\n",
              "      <td>68.215000</td>\n",
              "      <td>35.000000</td>\n",
              "      <td>57012.300000</td>\n",
              "      <td>183.130000</td>\n",
              "      <td>NaN</td>\n",
              "      <td>NaN</td>\n",
              "    </tr>\n",
              "    <tr>\n",
              "      <th>75%</th>\n",
              "      <td>78.547500</td>\n",
              "      <td>42.000000</td>\n",
              "      <td>65470.635000</td>\n",
              "      <td>218.792500</td>\n",
              "      <td>NaN</td>\n",
              "      <td>NaN</td>\n",
              "    </tr>\n",
              "    <tr>\n",
              "      <th>max</th>\n",
              "      <td>91.430000</td>\n",
              "      <td>61.000000</td>\n",
              "      <td>79484.800000</td>\n",
              "      <td>269.960000</td>\n",
              "      <td>NaN</td>\n",
              "      <td>NaN</td>\n",
              "    </tr>\n",
              "  </tbody>\n",
              "</table>\n",
              "</div>\n",
              "      <button class=\"colab-df-convert\" onclick=\"convertToInteractive('df-733b41f1-652d-4054-962e-7bd3f934fd47')\"\n",
              "              title=\"Convert this dataframe to an interactive table.\"\n",
              "              style=\"display:none;\">\n",
              "        \n",
              "  <svg xmlns=\"http://www.w3.org/2000/svg\" height=\"24px\"viewBox=\"0 0 24 24\"\n",
              "       width=\"24px\">\n",
              "    <path d=\"M0 0h24v24H0V0z\" fill=\"none\"/>\n",
              "    <path d=\"M18.56 5.44l.94 2.06.94-2.06 2.06-.94-2.06-.94-.94-2.06-.94 2.06-2.06.94zm-11 1L8.5 8.5l.94-2.06 2.06-.94-2.06-.94L8.5 2.5l-.94 2.06-2.06.94zm10 10l.94 2.06.94-2.06 2.06-.94-2.06-.94-.94-2.06-.94 2.06-2.06.94z\"/><path d=\"M17.41 7.96l-1.37-1.37c-.4-.4-.92-.59-1.43-.59-.52 0-1.04.2-1.43.59L10.3 9.45l-7.72 7.72c-.78.78-.78 2.05 0 2.83L4 21.41c.39.39.9.59 1.41.59.51 0 1.02-.2 1.41-.59l7.78-7.78 2.81-2.81c.8-.78.8-2.07 0-2.86zM5.41 20L4 18.59l7.72-7.72 1.47 1.35L5.41 20z\"/>\n",
              "  </svg>\n",
              "      </button>\n",
              "      \n",
              "  <style>\n",
              "    .colab-df-container {\n",
              "      display:flex;\n",
              "      flex-wrap:wrap;\n",
              "      gap: 12px;\n",
              "    }\n",
              "\n",
              "    .colab-df-convert {\n",
              "      background-color: #E8F0FE;\n",
              "      border: none;\n",
              "      border-radius: 50%;\n",
              "      cursor: pointer;\n",
              "      display: none;\n",
              "      fill: #1967D2;\n",
              "      height: 32px;\n",
              "      padding: 0 0 0 0;\n",
              "      width: 32px;\n",
              "    }\n",
              "\n",
              "    .colab-df-convert:hover {\n",
              "      background-color: #E2EBFA;\n",
              "      box-shadow: 0px 1px 2px rgba(60, 64, 67, 0.3), 0px 1px 3px 1px rgba(60, 64, 67, 0.15);\n",
              "      fill: #174EA6;\n",
              "    }\n",
              "\n",
              "    [theme=dark] .colab-df-convert {\n",
              "      background-color: #3B4455;\n",
              "      fill: #D2E3FC;\n",
              "    }\n",
              "\n",
              "    [theme=dark] .colab-df-convert:hover {\n",
              "      background-color: #434B5C;\n",
              "      box-shadow: 0px 1px 3px 1px rgba(0, 0, 0, 0.15);\n",
              "      filter: drop-shadow(0px 1px 2px rgba(0, 0, 0, 0.3));\n",
              "      fill: #FFFFFF;\n",
              "    }\n",
              "  </style>\n",
              "\n",
              "      <script>\n",
              "        const buttonEl =\n",
              "          document.querySelector('#df-733b41f1-652d-4054-962e-7bd3f934fd47 button.colab-df-convert');\n",
              "        buttonEl.style.display =\n",
              "          google.colab.kernel.accessAllowed ? 'block' : 'none';\n",
              "\n",
              "        async function convertToInteractive(key) {\n",
              "          const element = document.querySelector('#df-733b41f1-652d-4054-962e-7bd3f934fd47');\n",
              "          const dataTable =\n",
              "            await google.colab.kernel.invokeFunction('convertToInteractive',\n",
              "                                                     [key], {});\n",
              "          if (!dataTable) return;\n",
              "\n",
              "          const docLinkHtml = 'Like what you see? Visit the ' +\n",
              "            '<a target=\"_blank\" href=https://colab.research.google.com/notebooks/data_table.ipynb>data table notebook</a>'\n",
              "            + ' to learn more about interactive tables.';\n",
              "          element.innerHTML = '';\n",
              "          dataTable['output_type'] = 'display_data';\n",
              "          await google.colab.output.renderOutput(dataTable, element);\n",
              "          const docLink = document.createElement('div');\n",
              "          docLink.innerHTML = docLinkHtml;\n",
              "          element.appendChild(docLink);\n",
              "        }\n",
              "      </script>\n",
              "    </div>\n",
              "  </div>\n",
              "  "
            ],
            "text/plain": [
              "        Daily Time Spent on Site          Age   Area Income  \\\n",
              "count                1000.000000  1000.000000   1000.000000   \n",
              "unique                       NaN          NaN           NaN   \n",
              "top                          NaN          NaN           NaN   \n",
              "freq                         NaN          NaN           NaN   \n",
              "mean                   65.000200    36.009000  55000.000080   \n",
              "std                    15.853615     8.785562  13414.634022   \n",
              "min                    32.600000    19.000000  13996.500000   \n",
              "25%                    51.360000    29.000000  47031.802500   \n",
              "50%                    68.215000    35.000000  57012.300000   \n",
              "75%                    78.547500    42.000000  65470.635000   \n",
              "max                    91.430000    61.000000  79484.800000   \n",
              "\n",
              "        Daily Internet Usage    Male  Clicked on Ad  \n",
              "count            1000.000000  1000.0         1000.0  \n",
              "unique                   NaN     2.0            2.0  \n",
              "top                      NaN     0.0            0.0  \n",
              "freq                     NaN   519.0          500.0  \n",
              "mean              180.000100     NaN            NaN  \n",
              "std                43.902339     NaN            NaN  \n",
              "min               104.780000     NaN            NaN  \n",
              "25%               138.830000     NaN            NaN  \n",
              "50%               183.130000     NaN            NaN  \n",
              "75%               218.792500     NaN            NaN  \n",
              "max               269.960000     NaN            NaN  "
            ]
          },
          "execution_count": 25,
          "metadata": {},
          "output_type": "execute_result"
        }
      ],
      "source": [
        "df.describe(include='all')"
      ]
    },
    {
      "cell_type": "code",
      "execution_count": null,
      "metadata": {
        "id": "oTrWilNt4Iw-"
      },
      "outputs": [],
      "source": [
        "?df.describe"
      ]
    },
    {
      "cell_type": "code",
      "execution_count": null,
      "metadata": {
        "colab": {
          "base_uri": "https://localhost:8080/",
          "height": 253
        },
        "id": "5fo1pdQw4LpY",
        "outputId": "cc650e6b-cc2b-446b-f52a-7e4f8d2ddde5"
      },
      "outputs": [
        {
          "data": {
            "text/html": [
              "\n",
              "  <div id=\"df-7c8a4632-8af0-4f71-a40f-0c957fddb6f8\">\n",
              "    <div class=\"colab-df-container\">\n",
              "      <div>\n",
              "<style scoped>\n",
              "    .dataframe tbody tr th:only-of-type {\n",
              "        vertical-align: middle;\n",
              "    }\n",
              "\n",
              "    .dataframe tbody tr th {\n",
              "        vertical-align: top;\n",
              "    }\n",
              "\n",
              "    .dataframe thead th {\n",
              "        text-align: right;\n",
              "    }\n",
              "</style>\n",
              "<table border=\"1\" class=\"dataframe\">\n",
              "  <thead>\n",
              "    <tr style=\"text-align: right;\">\n",
              "      <th></th>\n",
              "      <th>Daily Time Spent on Site</th>\n",
              "      <th>Age</th>\n",
              "      <th>Area Income</th>\n",
              "      <th>Daily Internet Usage</th>\n",
              "    </tr>\n",
              "  </thead>\n",
              "  <tbody>\n",
              "    <tr>\n",
              "      <th>Daily Time Spent on Site</th>\n",
              "      <td>1.000000</td>\n",
              "      <td>-0.331513</td>\n",
              "      <td>0.310954</td>\n",
              "      <td>0.518658</td>\n",
              "    </tr>\n",
              "    <tr>\n",
              "      <th>Age</th>\n",
              "      <td>-0.331513</td>\n",
              "      <td>1.000000</td>\n",
              "      <td>-0.182605</td>\n",
              "      <td>-0.367209</td>\n",
              "    </tr>\n",
              "    <tr>\n",
              "      <th>Area Income</th>\n",
              "      <td>0.310954</td>\n",
              "      <td>-0.182605</td>\n",
              "      <td>1.000000</td>\n",
              "      <td>0.337496</td>\n",
              "    </tr>\n",
              "    <tr>\n",
              "      <th>Daily Internet Usage</th>\n",
              "      <td>0.518658</td>\n",
              "      <td>-0.367209</td>\n",
              "      <td>0.337496</td>\n",
              "      <td>1.000000</td>\n",
              "    </tr>\n",
              "  </tbody>\n",
              "</table>\n",
              "</div>\n",
              "      <button class=\"colab-df-convert\" onclick=\"convertToInteractive('df-7c8a4632-8af0-4f71-a40f-0c957fddb6f8')\"\n",
              "              title=\"Convert this dataframe to an interactive table.\"\n",
              "              style=\"display:none;\">\n",
              "        \n",
              "  <svg xmlns=\"http://www.w3.org/2000/svg\" height=\"24px\"viewBox=\"0 0 24 24\"\n",
              "       width=\"24px\">\n",
              "    <path d=\"M0 0h24v24H0V0z\" fill=\"none\"/>\n",
              "    <path d=\"M18.56 5.44l.94 2.06.94-2.06 2.06-.94-2.06-.94-.94-2.06-.94 2.06-2.06.94zm-11 1L8.5 8.5l.94-2.06 2.06-.94-2.06-.94L8.5 2.5l-.94 2.06-2.06.94zm10 10l.94 2.06.94-2.06 2.06-.94-2.06-.94-.94-2.06-.94 2.06-2.06.94z\"/><path d=\"M17.41 7.96l-1.37-1.37c-.4-.4-.92-.59-1.43-.59-.52 0-1.04.2-1.43.59L10.3 9.45l-7.72 7.72c-.78.78-.78 2.05 0 2.83L4 21.41c.39.39.9.59 1.41.59.51 0 1.02-.2 1.41-.59l7.78-7.78 2.81-2.81c.8-.78.8-2.07 0-2.86zM5.41 20L4 18.59l7.72-7.72 1.47 1.35L5.41 20z\"/>\n",
              "  </svg>\n",
              "      </button>\n",
              "      \n",
              "  <style>\n",
              "    .colab-df-container {\n",
              "      display:flex;\n",
              "      flex-wrap:wrap;\n",
              "      gap: 12px;\n",
              "    }\n",
              "\n",
              "    .colab-df-convert {\n",
              "      background-color: #E8F0FE;\n",
              "      border: none;\n",
              "      border-radius: 50%;\n",
              "      cursor: pointer;\n",
              "      display: none;\n",
              "      fill: #1967D2;\n",
              "      height: 32px;\n",
              "      padding: 0 0 0 0;\n",
              "      width: 32px;\n",
              "    }\n",
              "\n",
              "    .colab-df-convert:hover {\n",
              "      background-color: #E2EBFA;\n",
              "      box-shadow: 0px 1px 2px rgba(60, 64, 67, 0.3), 0px 1px 3px 1px rgba(60, 64, 67, 0.15);\n",
              "      fill: #174EA6;\n",
              "    }\n",
              "\n",
              "    [theme=dark] .colab-df-convert {\n",
              "      background-color: #3B4455;\n",
              "      fill: #D2E3FC;\n",
              "    }\n",
              "\n",
              "    [theme=dark] .colab-df-convert:hover {\n",
              "      background-color: #434B5C;\n",
              "      box-shadow: 0px 1px 3px 1px rgba(0, 0, 0, 0.15);\n",
              "      filter: drop-shadow(0px 1px 2px rgba(0, 0, 0, 0.3));\n",
              "      fill: #FFFFFF;\n",
              "    }\n",
              "  </style>\n",
              "\n",
              "      <script>\n",
              "        const buttonEl =\n",
              "          document.querySelector('#df-7c8a4632-8af0-4f71-a40f-0c957fddb6f8 button.colab-df-convert');\n",
              "        buttonEl.style.display =\n",
              "          google.colab.kernel.accessAllowed ? 'block' : 'none';\n",
              "\n",
              "        async function convertToInteractive(key) {\n",
              "          const element = document.querySelector('#df-7c8a4632-8af0-4f71-a40f-0c957fddb6f8');\n",
              "          const dataTable =\n",
              "            await google.colab.kernel.invokeFunction('convertToInteractive',\n",
              "                                                     [key], {});\n",
              "          if (!dataTable) return;\n",
              "\n",
              "          const docLinkHtml = 'Like what you see? Visit the ' +\n",
              "            '<a target=\"_blank\" href=https://colab.research.google.com/notebooks/data_table.ipynb>data table notebook</a>'\n",
              "            + ' to learn more about interactive tables.';\n",
              "          element.innerHTML = '';\n",
              "          dataTable['output_type'] = 'display_data';\n",
              "          await google.colab.output.renderOutput(dataTable, element);\n",
              "          const docLink = document.createElement('div');\n",
              "          docLink.innerHTML = docLinkHtml;\n",
              "          element.appendChild(docLink);\n",
              "        }\n",
              "      </script>\n",
              "    </div>\n",
              "  </div>\n",
              "  "
            ],
            "text/plain": [
              "                          Daily Time Spent on Site       Age  Area Income  \\\n",
              "Daily Time Spent on Site                  1.000000 -0.331513     0.310954   \n",
              "Age                                      -0.331513  1.000000    -0.182605   \n",
              "Area Income                               0.310954 -0.182605     1.000000   \n",
              "Daily Internet Usage                      0.518658 -0.367209     0.337496   \n",
              "\n",
              "                          Daily Internet Usage  \n",
              "Daily Time Spent on Site              0.518658  \n",
              "Age                                  -0.367209  \n",
              "Area Income                           0.337496  \n",
              "Daily Internet Usage                  1.000000  "
            ]
          },
          "execution_count": 26,
          "metadata": {},
          "output_type": "execute_result"
        }
      ],
      "source": [
        "df.corr()"
      ]
    },
    {
      "cell_type": "code",
      "source": [
        "df.info()"
      ],
      "metadata": {
        "colab": {
          "base_uri": "https://localhost:8080/",
          "height": 167
        },
        "id": "-nT9-WjJauhk",
        "outputId": "54656b93-6447-4d08-ee2a-445f7eedb539"
      },
      "execution_count": null,
      "outputs": [
        {
          "output_type": "error",
          "ename": "NameError",
          "evalue": "ignored",
          "traceback": [
            "\u001b[0;31m---------------------------------------------------------------------------\u001b[0m",
            "\u001b[0;31mNameError\u001b[0m                                 Traceback (most recent call last)",
            "\u001b[0;32m<ipython-input-1-a74c58233b9e>\u001b[0m in \u001b[0;36m<cell line: 1>\u001b[0;34m()\u001b[0m\n\u001b[0;32m----> 1\u001b[0;31m \u001b[0mdf\u001b[0m\u001b[0;34m.\u001b[0m\u001b[0minfo\u001b[0m\u001b[0;34m(\u001b[0m\u001b[0;34m)\u001b[0m\u001b[0;34m\u001b[0m\u001b[0;34m\u001b[0m\u001b[0m\n\u001b[0m",
            "\u001b[0;31mNameError\u001b[0m: name 'df' is not defined"
          ]
        }
      ]
    },
    {
      "cell_type": "code",
      "execution_count": null,
      "metadata": {
        "id": "rXyPQyqa6qp4"
      },
      "outputs": [],
      "source": [
        "from sklearn.cluster import KMeans\n",
        "from sklearn.metrics import silhouette_score"
      ]
    },
    {
      "cell_type": "code",
      "execution_count": null,
      "metadata": {
        "id": "4GkiY_C_7lVj"
      },
      "outputs": [],
      "source": [
        "kmeans = KMeans(init='random', n_clusters = 2)"
      ]
    },
    {
      "cell_type": "code",
      "execution_count": null,
      "metadata": {
        "id": "8VHziTnW7szE"
      },
      "outputs": [],
      "source": [
        "?KMeans"
      ]
    },
    {
      "cell_type": "code",
      "source": [],
      "metadata": {
        "id": "UYD0SdWHRzwB"
      },
      "execution_count": null,
      "outputs": []
    },
    {
      "cell_type": "code",
      "source": [],
      "metadata": {
        "id": "yKJQxlIoePo2"
      },
      "execution_count": null,
      "outputs": []
    }
  ],
  "metadata": {
    "colab": {
      "provenance": [],
      "include_colab_link": true
    },
    "kernelspec": {
      "display_name": "Python 3",
      "name": "python3"
    },
    "language_info": {
      "name": "python"
    }
  },
  "nbformat": 4,
  "nbformat_minor": 0
}