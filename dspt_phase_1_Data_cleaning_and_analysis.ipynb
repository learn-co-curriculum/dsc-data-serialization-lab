{
  "nbformat": 4,
  "nbformat_minor": 0,
  "metadata": {
    "colab": {
      "provenance": [],
      "include_colab_link": true
    },
    "kernelspec": {
      "name": "python3",
      "display_name": "Python 3"
    },
    "language_info": {
      "name": "python"
    }
  },
  "cells": [
    {
      "cell_type": "markdown",
      "metadata": {
        "id": "view-in-github",
        "colab_type": "text"
      },
      "source": [
        "<a href=\"https://colab.research.google.com/github/sgathai/dsc-data-serialization-lab/blob/master/dspt_phase_1_Data_cleaning_and_analysis.ipynb\" target=\"_parent\"><img src=\"https://colab.research.google.com/assets/colab-badge.svg\" alt=\"Open In Colab\"/></a>"
      ]
    },
    {
      "cell_type": "markdown",
      "source": [
        "# Data analysis with Pandas\n"
      ],
      "metadata": {
        "id": "pD2haiIMWQ_g"
      }
    },
    {
      "cell_type": "markdown",
      "source": [
        "**Lecture Overview**\n",
        "\n",
        "1. Data exploration in Pandas\n",
        "2. Data cleaning\n",
        "3. Data analysis in Pandas  \n",
        "  i. Univariate analysis  \n",
        "  ii. Bivariate analysis\n",
        "4. Special functions for analysis in pandas or otherwise\n"
      ],
      "metadata": {
        "id": "p8ibQ1EIW_mA"
      }
    },
    {
      "cell_type": "markdown",
      "source": [
        "## Data Exploration\n",
        "\n",
        "![exp](https://www.trainanddevelop.ca/wp-content/uploads/2021/08/Magnifying-glass-on-charts-graphs-spreadsheet-paper-1-scaled.jpeg)\n",
        "Once a data scientist acquires the data, they have to review it before making any decisions about the data/the project. This process includes the following:\n",
        "1. Loading the data\n",
        "2. Check the data and datatypes.\n",
        "3. Note any cleaning and/or engineering to be done.\n",
        "\n",
        "Let's work through these steps using the following dataset:\n",
        "\n",
        "[Student data](https://github.com/Moringa-School-Classroom/dspt-phase-1-Data_cleaning_and_analysis/blob/main/students_data.csv)"
      ],
      "metadata": {
        "id": "uimuWvyCYn0q"
      }
    },
    {
      "cell_type": "code",
      "source": [
        "# Loading needed libraries\n",
        "import numpy as np\n",
        "import pandas as pd"
      ],
      "metadata": {
        "id": "0xVoene0fCY5"
      },
      "execution_count": null,
      "outputs": []
    },
    {
      "cell_type": "markdown",
      "source": [
        "**Loading data**\n",
        "\n",
        "We load data into a data structure called a **dataframe**. A dataframe contains rows and columns; it can be easily manipulated hence appropriate for data analysis."
      ],
      "metadata": {
        "id": "hh2j-HCAfN__"
      }
    },
    {
      "cell_type": "code",
      "source": [
        "df = pd.read_csv('students_data.csv', index_col = 0)\n",
        "# using the index_col=0 argument avoid having the index column as unnamed:0\n",
        "df"
      ],
      "metadata": {
        "id": "rvYfj-vlfTrW",
        "colab": {
          "base_uri": "https://localhost:8080/",
          "height": 782
        },
        "outputId": "b789bdb8-409f-45f0-df26-dbee7ce751a5"
      },
      "execution_count": null,
      "outputs": [
        {
          "output_type": "execute_result",
          "data": {
            "text/plain": [
              "                     names  admission number       house balance  english  \\\n",
              "0      JERIEL NDEDA, OBURA           13259.0         NaN     NaN     81.0   \n",
              "1    MUKUHA TIMOTHY, KAMAU           13243.0         NaN     NaN     85.0   \n",
              "2               JOB, NGARA           13307.0         NaN     NaN     54.0   \n",
              "3       CHEGE DAVID, KAMAU           13258.0         NaN     NaN     71.0   \n",
              "4      RAMADHAN MUSA, TEPO           13363.0         NaN     NaN     40.0   \n",
              "..                     ...               ...         ...     ...      ...   \n",
              "142   TIMOTHY NDEDA, OBURA        13322634.0       Elgon       0    -78.0   \n",
              "143   MUKUHA JERIEL, NGARA         1932845.0  Cherangani     321     94.0   \n",
              "144             JOB, KAMAU         1430232.0       Nandi  43,200     98.0   \n",
              "145           CHEGE, KAMAU             159.0       Nandi     NaN    508.0   \n",
              "146         RAMADHAN, MUSA              87.0  Cherangani     NaN     81.0   \n",
              "\n",
              "     kiswahili  mathematics  science  sst/cre Creative Arts music  \n",
              "0         39.0         50.0     30.0     59.0           99%   80%  \n",
              "1         74.0         68.0     49.0     78.0           38%   86%  \n",
              "2         49.0         53.0     59.0     72.0           86%   62%  \n",
              "3         97.0         92.0     41.0     81.0           77%   80%  \n",
              "4         84.0         74.0     82.0     89.0           64%   46%  \n",
              "..         ...          ...      ...      ...           ...   ...  \n",
              "142       40.0         99.0     70.0     49.0           99&   92&  \n",
              "143      780.0        420.0     71.0     88.0           56%   76%  \n",
              "144       80.0         86.0     64.0     99.0           49%   69%  \n",
              "145      409.0         77.0     58.0     56.0           88%   84%  \n",
              "146       70.0         64.0    680.0     88.0           76%   72%  \n",
              "\n",
              "[147 rows x 11 columns]"
            ],
            "text/html": [
              "\n",
              "  <div id=\"df-dd4d7089-40d2-4c13-a3da-a683638cb1fb\">\n",
              "    <div class=\"colab-df-container\">\n",
              "      <div>\n",
              "<style scoped>\n",
              "    .dataframe tbody tr th:only-of-type {\n",
              "        vertical-align: middle;\n",
              "    }\n",
              "\n",
              "    .dataframe tbody tr th {\n",
              "        vertical-align: top;\n",
              "    }\n",
              "\n",
              "    .dataframe thead th {\n",
              "        text-align: right;\n",
              "    }\n",
              "</style>\n",
              "<table border=\"1\" class=\"dataframe\">\n",
              "  <thead>\n",
              "    <tr style=\"text-align: right;\">\n",
              "      <th></th>\n",
              "      <th>names</th>\n",
              "      <th>admission number</th>\n",
              "      <th>house</th>\n",
              "      <th>balance</th>\n",
              "      <th>english</th>\n",
              "      <th>kiswahili</th>\n",
              "      <th>mathematics</th>\n",
              "      <th>science</th>\n",
              "      <th>sst/cre</th>\n",
              "      <th>Creative Arts</th>\n",
              "      <th>music</th>\n",
              "    </tr>\n",
              "  </thead>\n",
              "  <tbody>\n",
              "    <tr>\n",
              "      <th>0</th>\n",
              "      <td>JERIEL NDEDA, OBURA</td>\n",
              "      <td>13259.0</td>\n",
              "      <td>NaN</td>\n",
              "      <td>NaN</td>\n",
              "      <td>81.0</td>\n",
              "      <td>39.0</td>\n",
              "      <td>50.0</td>\n",
              "      <td>30.0</td>\n",
              "      <td>59.0</td>\n",
              "      <td>99%</td>\n",
              "      <td>80%</td>\n",
              "    </tr>\n",
              "    <tr>\n",
              "      <th>1</th>\n",
              "      <td>MUKUHA TIMOTHY, KAMAU</td>\n",
              "      <td>13243.0</td>\n",
              "      <td>NaN</td>\n",
              "      <td>NaN</td>\n",
              "      <td>85.0</td>\n",
              "      <td>74.0</td>\n",
              "      <td>68.0</td>\n",
              "      <td>49.0</td>\n",
              "      <td>78.0</td>\n",
              "      <td>38%</td>\n",
              "      <td>86%</td>\n",
              "    </tr>\n",
              "    <tr>\n",
              "      <th>2</th>\n",
              "      <td>JOB, NGARA</td>\n",
              "      <td>13307.0</td>\n",
              "      <td>NaN</td>\n",
              "      <td>NaN</td>\n",
              "      <td>54.0</td>\n",
              "      <td>49.0</td>\n",
              "      <td>53.0</td>\n",
              "      <td>59.0</td>\n",
              "      <td>72.0</td>\n",
              "      <td>86%</td>\n",
              "      <td>62%</td>\n",
              "    </tr>\n",
              "    <tr>\n",
              "      <th>3</th>\n",
              "      <td>CHEGE DAVID, KAMAU</td>\n",
              "      <td>13258.0</td>\n",
              "      <td>NaN</td>\n",
              "      <td>NaN</td>\n",
              "      <td>71.0</td>\n",
              "      <td>97.0</td>\n",
              "      <td>92.0</td>\n",
              "      <td>41.0</td>\n",
              "      <td>81.0</td>\n",
              "      <td>77%</td>\n",
              "      <td>80%</td>\n",
              "    </tr>\n",
              "    <tr>\n",
              "      <th>4</th>\n",
              "      <td>RAMADHAN MUSA, TEPO</td>\n",
              "      <td>13363.0</td>\n",
              "      <td>NaN</td>\n",
              "      <td>NaN</td>\n",
              "      <td>40.0</td>\n",
              "      <td>84.0</td>\n",
              "      <td>74.0</td>\n",
              "      <td>82.0</td>\n",
              "      <td>89.0</td>\n",
              "      <td>64%</td>\n",
              "      <td>46%</td>\n",
              "    </tr>\n",
              "    <tr>\n",
              "      <th>...</th>\n",
              "      <td>...</td>\n",
              "      <td>...</td>\n",
              "      <td>...</td>\n",
              "      <td>...</td>\n",
              "      <td>...</td>\n",
              "      <td>...</td>\n",
              "      <td>...</td>\n",
              "      <td>...</td>\n",
              "      <td>...</td>\n",
              "      <td>...</td>\n",
              "      <td>...</td>\n",
              "    </tr>\n",
              "    <tr>\n",
              "      <th>142</th>\n",
              "      <td>TIMOTHY NDEDA, OBURA</td>\n",
              "      <td>13322634.0</td>\n",
              "      <td>Elgon</td>\n",
              "      <td>0</td>\n",
              "      <td>-78.0</td>\n",
              "      <td>40.0</td>\n",
              "      <td>99.0</td>\n",
              "      <td>70.0</td>\n",
              "      <td>49.0</td>\n",
              "      <td>99&amp;</td>\n",
              "      <td>92&amp;</td>\n",
              "    </tr>\n",
              "    <tr>\n",
              "      <th>143</th>\n",
              "      <td>MUKUHA JERIEL, NGARA</td>\n",
              "      <td>1932845.0</td>\n",
              "      <td>Cherangani</td>\n",
              "      <td>321</td>\n",
              "      <td>94.0</td>\n",
              "      <td>780.0</td>\n",
              "      <td>420.0</td>\n",
              "      <td>71.0</td>\n",
              "      <td>88.0</td>\n",
              "      <td>56%</td>\n",
              "      <td>76%</td>\n",
              "    </tr>\n",
              "    <tr>\n",
              "      <th>144</th>\n",
              "      <td>JOB, KAMAU</td>\n",
              "      <td>1430232.0</td>\n",
              "      <td>Nandi</td>\n",
              "      <td>43,200</td>\n",
              "      <td>98.0</td>\n",
              "      <td>80.0</td>\n",
              "      <td>86.0</td>\n",
              "      <td>64.0</td>\n",
              "      <td>99.0</td>\n",
              "      <td>49%</td>\n",
              "      <td>69%</td>\n",
              "    </tr>\n",
              "    <tr>\n",
              "      <th>145</th>\n",
              "      <td>CHEGE, KAMAU</td>\n",
              "      <td>159.0</td>\n",
              "      <td>Nandi</td>\n",
              "      <td>NaN</td>\n",
              "      <td>508.0</td>\n",
              "      <td>409.0</td>\n",
              "      <td>77.0</td>\n",
              "      <td>58.0</td>\n",
              "      <td>56.0</td>\n",
              "      <td>88%</td>\n",
              "      <td>84%</td>\n",
              "    </tr>\n",
              "    <tr>\n",
              "      <th>146</th>\n",
              "      <td>RAMADHAN, MUSA</td>\n",
              "      <td>87.0</td>\n",
              "      <td>Cherangani</td>\n",
              "      <td>NaN</td>\n",
              "      <td>81.0</td>\n",
              "      <td>70.0</td>\n",
              "      <td>64.0</td>\n",
              "      <td>680.0</td>\n",
              "      <td>88.0</td>\n",
              "      <td>76%</td>\n",
              "      <td>72%</td>\n",
              "    </tr>\n",
              "  </tbody>\n",
              "</table>\n",
              "<p>147 rows × 11 columns</p>\n",
              "</div>\n",
              "      <button class=\"colab-df-convert\" onclick=\"convertToInteractive('df-dd4d7089-40d2-4c13-a3da-a683638cb1fb')\"\n",
              "              title=\"Convert this dataframe to an interactive table.\"\n",
              "              style=\"display:none;\">\n",
              "        \n",
              "  <svg xmlns=\"http://www.w3.org/2000/svg\" height=\"24px\"viewBox=\"0 0 24 24\"\n",
              "       width=\"24px\">\n",
              "    <path d=\"M0 0h24v24H0V0z\" fill=\"none\"/>\n",
              "    <path d=\"M18.56 5.44l.94 2.06.94-2.06 2.06-.94-2.06-.94-.94-2.06-.94 2.06-2.06.94zm-11 1L8.5 8.5l.94-2.06 2.06-.94-2.06-.94L8.5 2.5l-.94 2.06-2.06.94zm10 10l.94 2.06.94-2.06 2.06-.94-2.06-.94-.94-2.06-.94 2.06-2.06.94z\"/><path d=\"M17.41 7.96l-1.37-1.37c-.4-.4-.92-.59-1.43-.59-.52 0-1.04.2-1.43.59L10.3 9.45l-7.72 7.72c-.78.78-.78 2.05 0 2.83L4 21.41c.39.39.9.59 1.41.59.51 0 1.02-.2 1.41-.59l7.78-7.78 2.81-2.81c.8-.78.8-2.07 0-2.86zM5.41 20L4 18.59l7.72-7.72 1.47 1.35L5.41 20z\"/>\n",
              "  </svg>\n",
              "      </button>\n",
              "      \n",
              "  <style>\n",
              "    .colab-df-container {\n",
              "      display:flex;\n",
              "      flex-wrap:wrap;\n",
              "      gap: 12px;\n",
              "    }\n",
              "\n",
              "    .colab-df-convert {\n",
              "      background-color: #E8F0FE;\n",
              "      border: none;\n",
              "      border-radius: 50%;\n",
              "      cursor: pointer;\n",
              "      display: none;\n",
              "      fill: #1967D2;\n",
              "      height: 32px;\n",
              "      padding: 0 0 0 0;\n",
              "      width: 32px;\n",
              "    }\n",
              "\n",
              "    .colab-df-convert:hover {\n",
              "      background-color: #E2EBFA;\n",
              "      box-shadow: 0px 1px 2px rgba(60, 64, 67, 0.3), 0px 1px 3px 1px rgba(60, 64, 67, 0.15);\n",
              "      fill: #174EA6;\n",
              "    }\n",
              "\n",
              "    [theme=dark] .colab-df-convert {\n",
              "      background-color: #3B4455;\n",
              "      fill: #D2E3FC;\n",
              "    }\n",
              "\n",
              "    [theme=dark] .colab-df-convert:hover {\n",
              "      background-color: #434B5C;\n",
              "      box-shadow: 0px 1px 3px 1px rgba(0, 0, 0, 0.15);\n",
              "      filter: drop-shadow(0px 1px 2px rgba(0, 0, 0, 0.3));\n",
              "      fill: #FFFFFF;\n",
              "    }\n",
              "  </style>\n",
              "\n",
              "      <script>\n",
              "        const buttonEl =\n",
              "          document.querySelector('#df-dd4d7089-40d2-4c13-a3da-a683638cb1fb button.colab-df-convert');\n",
              "        buttonEl.style.display =\n",
              "          google.colab.kernel.accessAllowed ? 'block' : 'none';\n",
              "\n",
              "        async function convertToInteractive(key) {\n",
              "          const element = document.querySelector('#df-dd4d7089-40d2-4c13-a3da-a683638cb1fb');\n",
              "          const dataTable =\n",
              "            await google.colab.kernel.invokeFunction('convertToInteractive',\n",
              "                                                     [key], {});\n",
              "          if (!dataTable) return;\n",
              "\n",
              "          const docLinkHtml = 'Like what you see? Visit the ' +\n",
              "            '<a target=\"_blank\" href=https://colab.research.google.com/notebooks/data_table.ipynb>data table notebook</a>'\n",
              "            + ' to learn more about interactive tables.';\n",
              "          element.innerHTML = '';\n",
              "          dataTable['output_type'] = 'display_data';\n",
              "          await google.colab.output.renderOutput(dataTable, element);\n",
              "          const docLink = document.createElement('div');\n",
              "          docLink.innerHTML = docLinkHtml;\n",
              "          element.appendChild(docLink);\n",
              "        }\n",
              "      </script>\n",
              "    </div>\n",
              "  </div>\n",
              "  "
            ]
          },
          "metadata": {},
          "execution_count": 2
        }
      ]
    },
    {
      "cell_type": "markdown",
      "source": [
        "![#f03c15](https://placehold.co/15x15/f03c15/f03c15.png) `What other pandas functions can be used to load data?`"
      ],
      "metadata": {
        "id": "uetOlWVGiOy-"
      }
    },
    {
      "cell_type": "code",
      "source": [
        "#@title\n",
        "# df = pd.read_excel(\"data.xlsx\")\n",
        "\n",
        "# df = pd.read_json(\"data.json\")\n",
        "\n",
        "# df_list = pd.read_html(\"data.html\")\n",
        "\n",
        "# df = pd.read_pickle(\"data.pkl\")\n",
        "\n",
        "# from sqlalchemy import create_engine\n",
        "# engine = create_engine('sqlite:///mydatabase.db')\n",
        "# df = pd.read_sql_query('SELECT * FROM mytable', engine)"
      ],
      "metadata": {
        "id": "pNxFMPDZiOaf"
      },
      "execution_count": null,
      "outputs": []
    },
    {
      "cell_type": "code",
      "source": [
        "# Check if the loading was successful\n",
        "df.head(2) # checks for the first 5 rows"
      ],
      "metadata": {
        "colab": {
          "base_uri": "https://localhost:8080/",
          "height": 263
        },
        "id": "KYkmm5DKgDP3",
        "outputId": "140cd9ac-0d90-44d8-d9b2-f0a37da9a4f4"
      },
      "execution_count": null,
      "outputs": [
        {
          "output_type": "execute_result",
          "data": {
            "text/plain": [
              "                   names  admission number house balance  english  kiswahili  \\\n",
              "0    JERIEL NDEDA, OBURA           13259.0   NaN     NaN     81.0       39.0   \n",
              "1  MUKUHA TIMOTHY, KAMAU           13243.0   NaN     NaN     85.0       74.0   \n",
              "\n",
              "   mathematics  science  sst/cre Creative Arts music  \n",
              "0         50.0     30.0     59.0           99%   80%  \n",
              "1         68.0     49.0     78.0           38%   86%  "
            ],
            "text/html": [
              "\n",
              "  <div id=\"df-8e6feb2f-4740-48cd-a27d-6ab08c43832f\">\n",
              "    <div class=\"colab-df-container\">\n",
              "      <div>\n",
              "<style scoped>\n",
              "    .dataframe tbody tr th:only-of-type {\n",
              "        vertical-align: middle;\n",
              "    }\n",
              "\n",
              "    .dataframe tbody tr th {\n",
              "        vertical-align: top;\n",
              "    }\n",
              "\n",
              "    .dataframe thead th {\n",
              "        text-align: right;\n",
              "    }\n",
              "</style>\n",
              "<table border=\"1\" class=\"dataframe\">\n",
              "  <thead>\n",
              "    <tr style=\"text-align: right;\">\n",
              "      <th></th>\n",
              "      <th>names</th>\n",
              "      <th>admission number</th>\n",
              "      <th>house</th>\n",
              "      <th>balance</th>\n",
              "      <th>english</th>\n",
              "      <th>kiswahili</th>\n",
              "      <th>mathematics</th>\n",
              "      <th>science</th>\n",
              "      <th>sst/cre</th>\n",
              "      <th>Creative Arts</th>\n",
              "      <th>music</th>\n",
              "    </tr>\n",
              "  </thead>\n",
              "  <tbody>\n",
              "    <tr>\n",
              "      <th>0</th>\n",
              "      <td>JERIEL NDEDA, OBURA</td>\n",
              "      <td>13259.0</td>\n",
              "      <td>NaN</td>\n",
              "      <td>NaN</td>\n",
              "      <td>81.0</td>\n",
              "      <td>39.0</td>\n",
              "      <td>50.0</td>\n",
              "      <td>30.0</td>\n",
              "      <td>59.0</td>\n",
              "      <td>99%</td>\n",
              "      <td>80%</td>\n",
              "    </tr>\n",
              "    <tr>\n",
              "      <th>1</th>\n",
              "      <td>MUKUHA TIMOTHY, KAMAU</td>\n",
              "      <td>13243.0</td>\n",
              "      <td>NaN</td>\n",
              "      <td>NaN</td>\n",
              "      <td>85.0</td>\n",
              "      <td>74.0</td>\n",
              "      <td>68.0</td>\n",
              "      <td>49.0</td>\n",
              "      <td>78.0</td>\n",
              "      <td>38%</td>\n",
              "      <td>86%</td>\n",
              "    </tr>\n",
              "  </tbody>\n",
              "</table>\n",
              "</div>\n",
              "      <button class=\"colab-df-convert\" onclick=\"convertToInteractive('df-8e6feb2f-4740-48cd-a27d-6ab08c43832f')\"\n",
              "              title=\"Convert this dataframe to an interactive table.\"\n",
              "              style=\"display:none;\">\n",
              "        \n",
              "  <svg xmlns=\"http://www.w3.org/2000/svg\" height=\"24px\"viewBox=\"0 0 24 24\"\n",
              "       width=\"24px\">\n",
              "    <path d=\"M0 0h24v24H0V0z\" fill=\"none\"/>\n",
              "    <path d=\"M18.56 5.44l.94 2.06.94-2.06 2.06-.94-2.06-.94-.94-2.06-.94 2.06-2.06.94zm-11 1L8.5 8.5l.94-2.06 2.06-.94-2.06-.94L8.5 2.5l-.94 2.06-2.06.94zm10 10l.94 2.06.94-2.06 2.06-.94-2.06-.94-.94-2.06-.94 2.06-2.06.94z\"/><path d=\"M17.41 7.96l-1.37-1.37c-.4-.4-.92-.59-1.43-.59-.52 0-1.04.2-1.43.59L10.3 9.45l-7.72 7.72c-.78.78-.78 2.05 0 2.83L4 21.41c.39.39.9.59 1.41.59.51 0 1.02-.2 1.41-.59l7.78-7.78 2.81-2.81c.8-.78.8-2.07 0-2.86zM5.41 20L4 18.59l7.72-7.72 1.47 1.35L5.41 20z\"/>\n",
              "  </svg>\n",
              "      </button>\n",
              "      \n",
              "  <style>\n",
              "    .colab-df-container {\n",
              "      display:flex;\n",
              "      flex-wrap:wrap;\n",
              "      gap: 12px;\n",
              "    }\n",
              "\n",
              "    .colab-df-convert {\n",
              "      background-color: #E8F0FE;\n",
              "      border: none;\n",
              "      border-radius: 50%;\n",
              "      cursor: pointer;\n",
              "      display: none;\n",
              "      fill: #1967D2;\n",
              "      height: 32px;\n",
              "      padding: 0 0 0 0;\n",
              "      width: 32px;\n",
              "    }\n",
              "\n",
              "    .colab-df-convert:hover {\n",
              "      background-color: #E2EBFA;\n",
              "      box-shadow: 0px 1px 2px rgba(60, 64, 67, 0.3), 0px 1px 3px 1px rgba(60, 64, 67, 0.15);\n",
              "      fill: #174EA6;\n",
              "    }\n",
              "\n",
              "    [theme=dark] .colab-df-convert {\n",
              "      background-color: #3B4455;\n",
              "      fill: #D2E3FC;\n",
              "    }\n",
              "\n",
              "    [theme=dark] .colab-df-convert:hover {\n",
              "      background-color: #434B5C;\n",
              "      box-shadow: 0px 1px 3px 1px rgba(0, 0, 0, 0.15);\n",
              "      filter: drop-shadow(0px 1px 2px rgba(0, 0, 0, 0.3));\n",
              "      fill: #FFFFFF;\n",
              "    }\n",
              "  </style>\n",
              "\n",
              "      <script>\n",
              "        const buttonEl =\n",
              "          document.querySelector('#df-8e6feb2f-4740-48cd-a27d-6ab08c43832f button.colab-df-convert');\n",
              "        buttonEl.style.display =\n",
              "          google.colab.kernel.accessAllowed ? 'block' : 'none';\n",
              "\n",
              "        async function convertToInteractive(key) {\n",
              "          const element = document.querySelector('#df-8e6feb2f-4740-48cd-a27d-6ab08c43832f');\n",
              "          const dataTable =\n",
              "            await google.colab.kernel.invokeFunction('convertToInteractive',\n",
              "                                                     [key], {});\n",
              "          if (!dataTable) return;\n",
              "\n",
              "          const docLinkHtml = 'Like what you see? Visit the ' +\n",
              "            '<a target=\"_blank\" href=https://colab.research.google.com/notebooks/data_table.ipynb>data table notebook</a>'\n",
              "            + ' to learn more about interactive tables.';\n",
              "          element.innerHTML = '';\n",
              "          dataTable['output_type'] = 'display_data';\n",
              "          await google.colab.output.renderOutput(dataTable, element);\n",
              "          const docLink = document.createElement('div');\n",
              "          docLink.innerHTML = docLinkHtml;\n",
              "          element.appendChild(docLink);\n",
              "        }\n",
              "      </script>\n",
              "    </div>\n",
              "  </div>\n",
              "  "
            ]
          },
          "metadata": {},
          "execution_count": 5
        }
      ]
    },
    {
      "cell_type": "code",
      "source": [
        "df.tail(2) # checks for the last 5 rows"
      ],
      "metadata": {
        "colab": {
          "base_uri": "https://localhost:8080/",
          "height": 228
        },
        "id": "Izum2ycwgLLC",
        "outputId": "943156d4-f781-4ced-c5ed-cc5357b19fb9"
      },
      "execution_count": null,
      "outputs": [
        {
          "output_type": "execute_result",
          "data": {
            "text/plain": [
              "              names  admission number       house balance  english  kiswahili  \\\n",
              "145    CHEGE, KAMAU             159.0       Nandi     NaN    508.0      409.0   \n",
              "146  RAMADHAN, MUSA              87.0  Cherangani     NaN     81.0       70.0   \n",
              "\n",
              "     mathematics  science  sst/cre Creative Arts music  \n",
              "145         77.0     58.0     56.0           88%   84%  \n",
              "146         64.0    680.0     88.0           76%   72%  "
            ],
            "text/html": [
              "\n",
              "  <div id=\"df-0ae5d4eb-2968-46e0-a9cc-b183efabe66e\">\n",
              "    <div class=\"colab-df-container\">\n",
              "      <div>\n",
              "<style scoped>\n",
              "    .dataframe tbody tr th:only-of-type {\n",
              "        vertical-align: middle;\n",
              "    }\n",
              "\n",
              "    .dataframe tbody tr th {\n",
              "        vertical-align: top;\n",
              "    }\n",
              "\n",
              "    .dataframe thead th {\n",
              "        text-align: right;\n",
              "    }\n",
              "</style>\n",
              "<table border=\"1\" class=\"dataframe\">\n",
              "  <thead>\n",
              "    <tr style=\"text-align: right;\">\n",
              "      <th></th>\n",
              "      <th>names</th>\n",
              "      <th>admission number</th>\n",
              "      <th>house</th>\n",
              "      <th>balance</th>\n",
              "      <th>english</th>\n",
              "      <th>kiswahili</th>\n",
              "      <th>mathematics</th>\n",
              "      <th>science</th>\n",
              "      <th>sst/cre</th>\n",
              "      <th>Creative Arts</th>\n",
              "      <th>music</th>\n",
              "    </tr>\n",
              "  </thead>\n",
              "  <tbody>\n",
              "    <tr>\n",
              "      <th>145</th>\n",
              "      <td>CHEGE, KAMAU</td>\n",
              "      <td>159.0</td>\n",
              "      <td>Nandi</td>\n",
              "      <td>NaN</td>\n",
              "      <td>508.0</td>\n",
              "      <td>409.0</td>\n",
              "      <td>77.0</td>\n",
              "      <td>58.0</td>\n",
              "      <td>56.0</td>\n",
              "      <td>88%</td>\n",
              "      <td>84%</td>\n",
              "    </tr>\n",
              "    <tr>\n",
              "      <th>146</th>\n",
              "      <td>RAMADHAN, MUSA</td>\n",
              "      <td>87.0</td>\n",
              "      <td>Cherangani</td>\n",
              "      <td>NaN</td>\n",
              "      <td>81.0</td>\n",
              "      <td>70.0</td>\n",
              "      <td>64.0</td>\n",
              "      <td>680.0</td>\n",
              "      <td>88.0</td>\n",
              "      <td>76%</td>\n",
              "      <td>72%</td>\n",
              "    </tr>\n",
              "  </tbody>\n",
              "</table>\n",
              "</div>\n",
              "      <button class=\"colab-df-convert\" onclick=\"convertToInteractive('df-0ae5d4eb-2968-46e0-a9cc-b183efabe66e')\"\n",
              "              title=\"Convert this dataframe to an interactive table.\"\n",
              "              style=\"display:none;\">\n",
              "        \n",
              "  <svg xmlns=\"http://www.w3.org/2000/svg\" height=\"24px\"viewBox=\"0 0 24 24\"\n",
              "       width=\"24px\">\n",
              "    <path d=\"M0 0h24v24H0V0z\" fill=\"none\"/>\n",
              "    <path d=\"M18.56 5.44l.94 2.06.94-2.06 2.06-.94-2.06-.94-.94-2.06-.94 2.06-2.06.94zm-11 1L8.5 8.5l.94-2.06 2.06-.94-2.06-.94L8.5 2.5l-.94 2.06-2.06.94zm10 10l.94 2.06.94-2.06 2.06-.94-2.06-.94-.94-2.06-.94 2.06-2.06.94z\"/><path d=\"M17.41 7.96l-1.37-1.37c-.4-.4-.92-.59-1.43-.59-.52 0-1.04.2-1.43.59L10.3 9.45l-7.72 7.72c-.78.78-.78 2.05 0 2.83L4 21.41c.39.39.9.59 1.41.59.51 0 1.02-.2 1.41-.59l7.78-7.78 2.81-2.81c.8-.78.8-2.07 0-2.86zM5.41 20L4 18.59l7.72-7.72 1.47 1.35L5.41 20z\"/>\n",
              "  </svg>\n",
              "      </button>\n",
              "      \n",
              "  <style>\n",
              "    .colab-df-container {\n",
              "      display:flex;\n",
              "      flex-wrap:wrap;\n",
              "      gap: 12px;\n",
              "    }\n",
              "\n",
              "    .colab-df-convert {\n",
              "      background-color: #E8F0FE;\n",
              "      border: none;\n",
              "      border-radius: 50%;\n",
              "      cursor: pointer;\n",
              "      display: none;\n",
              "      fill: #1967D2;\n",
              "      height: 32px;\n",
              "      padding: 0 0 0 0;\n",
              "      width: 32px;\n",
              "    }\n",
              "\n",
              "    .colab-df-convert:hover {\n",
              "      background-color: #E2EBFA;\n",
              "      box-shadow: 0px 1px 2px rgba(60, 64, 67, 0.3), 0px 1px 3px 1px rgba(60, 64, 67, 0.15);\n",
              "      fill: #174EA6;\n",
              "    }\n",
              "\n",
              "    [theme=dark] .colab-df-convert {\n",
              "      background-color: #3B4455;\n",
              "      fill: #D2E3FC;\n",
              "    }\n",
              "\n",
              "    [theme=dark] .colab-df-convert:hover {\n",
              "      background-color: #434B5C;\n",
              "      box-shadow: 0px 1px 3px 1px rgba(0, 0, 0, 0.15);\n",
              "      filter: drop-shadow(0px 1px 2px rgba(0, 0, 0, 0.3));\n",
              "      fill: #FFFFFF;\n",
              "    }\n",
              "  </style>\n",
              "\n",
              "      <script>\n",
              "        const buttonEl =\n",
              "          document.querySelector('#df-0ae5d4eb-2968-46e0-a9cc-b183efabe66e button.colab-df-convert');\n",
              "        buttonEl.style.display =\n",
              "          google.colab.kernel.accessAllowed ? 'block' : 'none';\n",
              "\n",
              "        async function convertToInteractive(key) {\n",
              "          const element = document.querySelector('#df-0ae5d4eb-2968-46e0-a9cc-b183efabe66e');\n",
              "          const dataTable =\n",
              "            await google.colab.kernel.invokeFunction('convertToInteractive',\n",
              "                                                     [key], {});\n",
              "          if (!dataTable) return;\n",
              "\n",
              "          const docLinkHtml = 'Like what you see? Visit the ' +\n",
              "            '<a target=\"_blank\" href=https://colab.research.google.com/notebooks/data_table.ipynb>data table notebook</a>'\n",
              "            + ' to learn more about interactive tables.';\n",
              "          element.innerHTML = '';\n",
              "          dataTable['output_type'] = 'display_data';\n",
              "          await google.colab.output.renderOutput(dataTable, element);\n",
              "          const docLink = document.createElement('div');\n",
              "          docLink.innerHTML = docLinkHtml;\n",
              "          element.appendChild(docLink);\n",
              "        }\n",
              "      </script>\n",
              "    </div>\n",
              "  </div>\n",
              "  "
            ]
          },
          "metadata": {},
          "execution_count": 6
        }
      ]
    },
    {
      "cell_type": "code",
      "source": [
        "df.sample(4)"
      ],
      "metadata": {
        "colab": {
          "base_uri": "https://localhost:8080/",
          "height": 377
        },
        "id": "nKQTAesUiVQs",
        "outputId": "4a6d6334-1233-439f-ab0d-9a6abc90846d"
      },
      "execution_count": null,
      "outputs": [
        {
          "output_type": "execute_result",
          "data": {
            "text/plain": [
              "                       names  admission number  house balance  english  \\\n",
              "110    Faith Kamau, Kithinji           13268.0    NaN  28,928     76.0   \n",
              "74          MAINGI, NYAMBURA           13289.0  Nandi     NaN     65.0   \n",
              "90        SADRA FUAD, SULTAN           13338.0    NaN     NaN     94.0   \n",
              "108  Christine Karimi, Clare           13259.0    NaN     NaN     58.0   \n",
              "\n",
              "     kiswahili  mathematics  science  sst/cre Creative Arts music  \n",
              "110       78.0         84.0     89.0     40.0           55%   38%  \n",
              "74        78.0         85.0     36.0     84.0           47%   75%  \n",
              "90        60.0         39.0     29.0     89.0           NaN   86%  \n",
              "108       65.0         74.0     54.0     58.0           51%   96%  "
            ],
            "text/html": [
              "\n",
              "  <div id=\"df-fb462b28-7c0b-42eb-bfb3-4d6046db0cd5\">\n",
              "    <div class=\"colab-df-container\">\n",
              "      <div>\n",
              "<style scoped>\n",
              "    .dataframe tbody tr th:only-of-type {\n",
              "        vertical-align: middle;\n",
              "    }\n",
              "\n",
              "    .dataframe tbody tr th {\n",
              "        vertical-align: top;\n",
              "    }\n",
              "\n",
              "    .dataframe thead th {\n",
              "        text-align: right;\n",
              "    }\n",
              "</style>\n",
              "<table border=\"1\" class=\"dataframe\">\n",
              "  <thead>\n",
              "    <tr style=\"text-align: right;\">\n",
              "      <th></th>\n",
              "      <th>names</th>\n",
              "      <th>admission number</th>\n",
              "      <th>house</th>\n",
              "      <th>balance</th>\n",
              "      <th>english</th>\n",
              "      <th>kiswahili</th>\n",
              "      <th>mathematics</th>\n",
              "      <th>science</th>\n",
              "      <th>sst/cre</th>\n",
              "      <th>Creative Arts</th>\n",
              "      <th>music</th>\n",
              "    </tr>\n",
              "  </thead>\n",
              "  <tbody>\n",
              "    <tr>\n",
              "      <th>110</th>\n",
              "      <td>Faith Kamau, Kithinji</td>\n",
              "      <td>13268.0</td>\n",
              "      <td>NaN</td>\n",
              "      <td>28,928</td>\n",
              "      <td>76.0</td>\n",
              "      <td>78.0</td>\n",
              "      <td>84.0</td>\n",
              "      <td>89.0</td>\n",
              "      <td>40.0</td>\n",
              "      <td>55%</td>\n",
              "      <td>38%</td>\n",
              "    </tr>\n",
              "    <tr>\n",
              "      <th>74</th>\n",
              "      <td>MAINGI, NYAMBURA</td>\n",
              "      <td>13289.0</td>\n",
              "      <td>Nandi</td>\n",
              "      <td>NaN</td>\n",
              "      <td>65.0</td>\n",
              "      <td>78.0</td>\n",
              "      <td>85.0</td>\n",
              "      <td>36.0</td>\n",
              "      <td>84.0</td>\n",
              "      <td>47%</td>\n",
              "      <td>75%</td>\n",
              "    </tr>\n",
              "    <tr>\n",
              "      <th>90</th>\n",
              "      <td>SADRA FUAD, SULTAN</td>\n",
              "      <td>13338.0</td>\n",
              "      <td>NaN</td>\n",
              "      <td>NaN</td>\n",
              "      <td>94.0</td>\n",
              "      <td>60.0</td>\n",
              "      <td>39.0</td>\n",
              "      <td>29.0</td>\n",
              "      <td>89.0</td>\n",
              "      <td>NaN</td>\n",
              "      <td>86%</td>\n",
              "    </tr>\n",
              "    <tr>\n",
              "      <th>108</th>\n",
              "      <td>Christine Karimi, Clare</td>\n",
              "      <td>13259.0</td>\n",
              "      <td>NaN</td>\n",
              "      <td>NaN</td>\n",
              "      <td>58.0</td>\n",
              "      <td>65.0</td>\n",
              "      <td>74.0</td>\n",
              "      <td>54.0</td>\n",
              "      <td>58.0</td>\n",
              "      <td>51%</td>\n",
              "      <td>96%</td>\n",
              "    </tr>\n",
              "  </tbody>\n",
              "</table>\n",
              "</div>\n",
              "      <button class=\"colab-df-convert\" onclick=\"convertToInteractive('df-fb462b28-7c0b-42eb-bfb3-4d6046db0cd5')\"\n",
              "              title=\"Convert this dataframe to an interactive table.\"\n",
              "              style=\"display:none;\">\n",
              "        \n",
              "  <svg xmlns=\"http://www.w3.org/2000/svg\" height=\"24px\"viewBox=\"0 0 24 24\"\n",
              "       width=\"24px\">\n",
              "    <path d=\"M0 0h24v24H0V0z\" fill=\"none\"/>\n",
              "    <path d=\"M18.56 5.44l.94 2.06.94-2.06 2.06-.94-2.06-.94-.94-2.06-.94 2.06-2.06.94zm-11 1L8.5 8.5l.94-2.06 2.06-.94-2.06-.94L8.5 2.5l-.94 2.06-2.06.94zm10 10l.94 2.06.94-2.06 2.06-.94-2.06-.94-.94-2.06-.94 2.06-2.06.94z\"/><path d=\"M17.41 7.96l-1.37-1.37c-.4-.4-.92-.59-1.43-.59-.52 0-1.04.2-1.43.59L10.3 9.45l-7.72 7.72c-.78.78-.78 2.05 0 2.83L4 21.41c.39.39.9.59 1.41.59.51 0 1.02-.2 1.41-.59l7.78-7.78 2.81-2.81c.8-.78.8-2.07 0-2.86zM5.41 20L4 18.59l7.72-7.72 1.47 1.35L5.41 20z\"/>\n",
              "  </svg>\n",
              "      </button>\n",
              "      \n",
              "  <style>\n",
              "    .colab-df-container {\n",
              "      display:flex;\n",
              "      flex-wrap:wrap;\n",
              "      gap: 12px;\n",
              "    }\n",
              "\n",
              "    .colab-df-convert {\n",
              "      background-color: #E8F0FE;\n",
              "      border: none;\n",
              "      border-radius: 50%;\n",
              "      cursor: pointer;\n",
              "      display: none;\n",
              "      fill: #1967D2;\n",
              "      height: 32px;\n",
              "      padding: 0 0 0 0;\n",
              "      width: 32px;\n",
              "    }\n",
              "\n",
              "    .colab-df-convert:hover {\n",
              "      background-color: #E2EBFA;\n",
              "      box-shadow: 0px 1px 2px rgba(60, 64, 67, 0.3), 0px 1px 3px 1px rgba(60, 64, 67, 0.15);\n",
              "      fill: #174EA6;\n",
              "    }\n",
              "\n",
              "    [theme=dark] .colab-df-convert {\n",
              "      background-color: #3B4455;\n",
              "      fill: #D2E3FC;\n",
              "    }\n",
              "\n",
              "    [theme=dark] .colab-df-convert:hover {\n",
              "      background-color: #434B5C;\n",
              "      box-shadow: 0px 1px 3px 1px rgba(0, 0, 0, 0.15);\n",
              "      filter: drop-shadow(0px 1px 2px rgba(0, 0, 0, 0.3));\n",
              "      fill: #FFFFFF;\n",
              "    }\n",
              "  </style>\n",
              "\n",
              "      <script>\n",
              "        const buttonEl =\n",
              "          document.querySelector('#df-fb462b28-7c0b-42eb-bfb3-4d6046db0cd5 button.colab-df-convert');\n",
              "        buttonEl.style.display =\n",
              "          google.colab.kernel.accessAllowed ? 'block' : 'none';\n",
              "\n",
              "        async function convertToInteractive(key) {\n",
              "          const element = document.querySelector('#df-fb462b28-7c0b-42eb-bfb3-4d6046db0cd5');\n",
              "          const dataTable =\n",
              "            await google.colab.kernel.invokeFunction('convertToInteractive',\n",
              "                                                     [key], {});\n",
              "          if (!dataTable) return;\n",
              "\n",
              "          const docLinkHtml = 'Like what you see? Visit the ' +\n",
              "            '<a target=\"_blank\" href=https://colab.research.google.com/notebooks/data_table.ipynb>data table notebook</a>'\n",
              "            + ' to learn more about interactive tables.';\n",
              "          element.innerHTML = '';\n",
              "          dataTable['output_type'] = 'display_data';\n",
              "          await google.colab.output.renderOutput(dataTable, element);\n",
              "          const docLink = document.createElement('div');\n",
              "          docLink.innerHTML = docLinkHtml;\n",
              "          element.appendChild(docLink);\n",
              "        }\n",
              "      </script>\n",
              "    </div>\n",
              "  </div>\n",
              "  "
            ]
          },
          "metadata": {},
          "execution_count": 7
        }
      ]
    },
    {
      "cell_type": "markdown",
      "source": [
        "![#f03c15](https://placehold.co/15x15/f03c15/f03c15.png) `What can you notice when previewing the data?`"
      ],
      "metadata": {
        "id": "cjWNxSV3gVPS"
      }
    },
    {
      "cell_type": "markdown",
      "source": [
        "**Checking the data and datatypes**"
      ],
      "metadata": {
        "id": "RI-px5jQhdu0"
      }
    },
    {
      "cell_type": "code",
      "source": [
        "df.shape # checks for the number of rows and columns"
      ],
      "metadata": {
        "colab": {
          "base_uri": "https://localhost:8080/"
        },
        "id": "eiRf9IpohdC0",
        "outputId": "04f348fb-a121-4d6f-a3ff-f7cc09751f21"
      },
      "execution_count": null,
      "outputs": [
        {
          "output_type": "execute_result",
          "data": {
            "text/plain": [
              "(147, 11)"
            ]
          },
          "metadata": {},
          "execution_count": 8
        }
      ]
    },
    {
      "cell_type": "code",
      "source": [
        "df.columns # prints out the column names"
      ],
      "metadata": {
        "colab": {
          "base_uri": "https://localhost:8080/"
        },
        "id": "YA01okcmkF3b",
        "outputId": "1ff72aca-2a2b-4e0d-ac70-9d22a41d5a0f"
      },
      "execution_count": null,
      "outputs": [
        {
          "output_type": "execute_result",
          "data": {
            "text/plain": [
              "Index(['names', 'admission number', 'house', 'balance', 'english', 'kiswahili',\n",
              "       'mathematics', 'science', 'sst/cre', 'Creative Arts', 'music'],\n",
              "      dtype='object')"
            ]
          },
          "metadata": {},
          "execution_count": 9
        }
      ]
    },
    {
      "cell_type": "code",
      "source": [
        "df.info() # checks for the overview of the data"
      ],
      "metadata": {
        "colab": {
          "base_uri": "https://localhost:8080/"
        },
        "id": "7w5qNfqphq50",
        "outputId": "468e12ae-7ea6-45e7-efb7-74f287db431c"
      },
      "execution_count": null,
      "outputs": [
        {
          "output_type": "stream",
          "name": "stdout",
          "text": [
            "<class 'pandas.core.frame.DataFrame'>\n",
            "Int64Index: 147 entries, 0 to 146\n",
            "Data columns (total 11 columns):\n",
            " #   Column            Non-Null Count  Dtype  \n",
            "---  ------            --------------  -----  \n",
            " 0   names             147 non-null    object \n",
            " 1   admission number  124 non-null    float64\n",
            " 2   house             26 non-null     object \n",
            " 3   balance           58 non-null     object \n",
            " 4   english           121 non-null    float64\n",
            " 5   kiswahili         119 non-null    float64\n",
            " 6   mathematics       130 non-null    float64\n",
            " 7   science           117 non-null    float64\n",
            " 8   sst/cre           132 non-null    float64\n",
            " 9   Creative Arts     143 non-null    object \n",
            " 10  music             147 non-null    object \n",
            "dtypes: float64(6), object(5)\n",
            "memory usage: 13.8+ KB\n"
          ]
        }
      ]
    },
    {
      "cell_type": "code",
      "source": [
        "df.dtypes"
      ],
      "metadata": {
        "colab": {
          "base_uri": "https://localhost:8080/"
        },
        "id": "eDJtCh-WkOee",
        "outputId": "984068e9-f804-4a57-ff75-ddcf7116dc73"
      },
      "execution_count": null,
      "outputs": [
        {
          "output_type": "execute_result",
          "data": {
            "text/plain": [
              "names                object\n",
              "admission number    float64\n",
              "house                object\n",
              "balance              object\n",
              "english             float64\n",
              "kiswahili           float64\n",
              "mathematics         float64\n",
              "science             float64\n",
              "sst/cre             float64\n",
              "Creative Arts        object\n",
              "music                object\n",
              "dtype: object"
            ]
          },
          "metadata": {},
          "execution_count": 10
        }
      ]
    },
    {
      "cell_type": "code",
      "source": [
        "df.describe(include ='all') # check for a statistical summary of the data"
      ],
      "metadata": {
        "colab": {
          "base_uri": "https://localhost:8080/",
          "height": 510
        },
        "id": "PztnM3jEjrvH",
        "outputId": "8c398be5-cead-42eb-e707-127e96246eb1"
      },
      "execution_count": null,
      "outputs": [
        {
          "output_type": "execute_result",
          "data": {
            "text/plain": [
              "                        names  admission number  house balance     english  \\\n",
              "count                     147      1.240000e+02     26      58  121.000000   \n",
              "unique                    139               NaN      3      57         NaN   \n",
              "top     MUENDO CICILY, MUTHEU               NaN  Nandi  24,463         NaN   \n",
              "freq                        3               NaN      9       2         NaN   \n",
              "mean                      NaN      1.473303e+05    NaN     NaN   70.958678   \n",
              "std                       NaN      1.211743e+06    NaN     NaN   45.884710   \n",
              "min                       NaN      8.700000e+01    NaN     NaN  -78.000000   \n",
              "25%                       NaN      1.326200e+04    NaN     NaN   54.000000   \n",
              "50%                       NaN      1.330650e+04    NaN     NaN   71.000000   \n",
              "75%                       NaN      1.335625e+04    NaN     NaN   83.000000   \n",
              "max                       NaN      1.332263e+07    NaN     NaN  508.000000   \n",
              "\n",
              "         kiswahili  mathematics     science     sst/cre Creative Arts music  \n",
              "count   119.000000   130.000000  117.000000  132.000000           143   147  \n",
              "unique         NaN          NaN         NaN         NaN            55    56  \n",
              "top            NaN          NaN         NaN         NaN           86%   80%  \n",
              "freq           NaN          NaN         NaN         NaN             9     7  \n",
              "mean     74.764706    72.938462   68.179487   70.833333           NaN   NaN  \n",
              "std      74.971035    35.293180   60.666928   18.617142           NaN   NaN  \n",
              "min      29.000000    32.000000   28.000000   29.000000           NaN   NaN  \n",
              "25%      49.500000    55.500000   46.000000   54.750000           NaN   NaN  \n",
              "50%      66.000000    71.000000   66.000000   73.000000           NaN   NaN  \n",
              "75%      82.500000    86.000000   79.000000   87.000000           NaN   NaN  \n",
              "max     780.000000   420.000000  680.000000  100.000000           NaN   NaN  "
            ],
            "text/html": [
              "\n",
              "  <div id=\"df-5b20e52a-adc4-4cc8-9c23-11ea741eff0d\">\n",
              "    <div class=\"colab-df-container\">\n",
              "      <div>\n",
              "<style scoped>\n",
              "    .dataframe tbody tr th:only-of-type {\n",
              "        vertical-align: middle;\n",
              "    }\n",
              "\n",
              "    .dataframe tbody tr th {\n",
              "        vertical-align: top;\n",
              "    }\n",
              "\n",
              "    .dataframe thead th {\n",
              "        text-align: right;\n",
              "    }\n",
              "</style>\n",
              "<table border=\"1\" class=\"dataframe\">\n",
              "  <thead>\n",
              "    <tr style=\"text-align: right;\">\n",
              "      <th></th>\n",
              "      <th>names</th>\n",
              "      <th>admission number</th>\n",
              "      <th>house</th>\n",
              "      <th>balance</th>\n",
              "      <th>english</th>\n",
              "      <th>kiswahili</th>\n",
              "      <th>mathematics</th>\n",
              "      <th>science</th>\n",
              "      <th>sst/cre</th>\n",
              "      <th>Creative Arts</th>\n",
              "      <th>music</th>\n",
              "    </tr>\n",
              "  </thead>\n",
              "  <tbody>\n",
              "    <tr>\n",
              "      <th>count</th>\n",
              "      <td>147</td>\n",
              "      <td>1.240000e+02</td>\n",
              "      <td>26</td>\n",
              "      <td>58</td>\n",
              "      <td>121.000000</td>\n",
              "      <td>119.000000</td>\n",
              "      <td>130.000000</td>\n",
              "      <td>117.000000</td>\n",
              "      <td>132.000000</td>\n",
              "      <td>143</td>\n",
              "      <td>147</td>\n",
              "    </tr>\n",
              "    <tr>\n",
              "      <th>unique</th>\n",
              "      <td>139</td>\n",
              "      <td>NaN</td>\n",
              "      <td>3</td>\n",
              "      <td>57</td>\n",
              "      <td>NaN</td>\n",
              "      <td>NaN</td>\n",
              "      <td>NaN</td>\n",
              "      <td>NaN</td>\n",
              "      <td>NaN</td>\n",
              "      <td>55</td>\n",
              "      <td>56</td>\n",
              "    </tr>\n",
              "    <tr>\n",
              "      <th>top</th>\n",
              "      <td>MUENDO CICILY, MUTHEU</td>\n",
              "      <td>NaN</td>\n",
              "      <td>Nandi</td>\n",
              "      <td>24,463</td>\n",
              "      <td>NaN</td>\n",
              "      <td>NaN</td>\n",
              "      <td>NaN</td>\n",
              "      <td>NaN</td>\n",
              "      <td>NaN</td>\n",
              "      <td>86%</td>\n",
              "      <td>80%</td>\n",
              "    </tr>\n",
              "    <tr>\n",
              "      <th>freq</th>\n",
              "      <td>3</td>\n",
              "      <td>NaN</td>\n",
              "      <td>9</td>\n",
              "      <td>2</td>\n",
              "      <td>NaN</td>\n",
              "      <td>NaN</td>\n",
              "      <td>NaN</td>\n",
              "      <td>NaN</td>\n",
              "      <td>NaN</td>\n",
              "      <td>9</td>\n",
              "      <td>7</td>\n",
              "    </tr>\n",
              "    <tr>\n",
              "      <th>mean</th>\n",
              "      <td>NaN</td>\n",
              "      <td>1.473303e+05</td>\n",
              "      <td>NaN</td>\n",
              "      <td>NaN</td>\n",
              "      <td>70.958678</td>\n",
              "      <td>74.764706</td>\n",
              "      <td>72.938462</td>\n",
              "      <td>68.179487</td>\n",
              "      <td>70.833333</td>\n",
              "      <td>NaN</td>\n",
              "      <td>NaN</td>\n",
              "    </tr>\n",
              "    <tr>\n",
              "      <th>std</th>\n",
              "      <td>NaN</td>\n",
              "      <td>1.211743e+06</td>\n",
              "      <td>NaN</td>\n",
              "      <td>NaN</td>\n",
              "      <td>45.884710</td>\n",
              "      <td>74.971035</td>\n",
              "      <td>35.293180</td>\n",
              "      <td>60.666928</td>\n",
              "      <td>18.617142</td>\n",
              "      <td>NaN</td>\n",
              "      <td>NaN</td>\n",
              "    </tr>\n",
              "    <tr>\n",
              "      <th>min</th>\n",
              "      <td>NaN</td>\n",
              "      <td>8.700000e+01</td>\n",
              "      <td>NaN</td>\n",
              "      <td>NaN</td>\n",
              "      <td>-78.000000</td>\n",
              "      <td>29.000000</td>\n",
              "      <td>32.000000</td>\n",
              "      <td>28.000000</td>\n",
              "      <td>29.000000</td>\n",
              "      <td>NaN</td>\n",
              "      <td>NaN</td>\n",
              "    </tr>\n",
              "    <tr>\n",
              "      <th>25%</th>\n",
              "      <td>NaN</td>\n",
              "      <td>1.326200e+04</td>\n",
              "      <td>NaN</td>\n",
              "      <td>NaN</td>\n",
              "      <td>54.000000</td>\n",
              "      <td>49.500000</td>\n",
              "      <td>55.500000</td>\n",
              "      <td>46.000000</td>\n",
              "      <td>54.750000</td>\n",
              "      <td>NaN</td>\n",
              "      <td>NaN</td>\n",
              "    </tr>\n",
              "    <tr>\n",
              "      <th>50%</th>\n",
              "      <td>NaN</td>\n",
              "      <td>1.330650e+04</td>\n",
              "      <td>NaN</td>\n",
              "      <td>NaN</td>\n",
              "      <td>71.000000</td>\n",
              "      <td>66.000000</td>\n",
              "      <td>71.000000</td>\n",
              "      <td>66.000000</td>\n",
              "      <td>73.000000</td>\n",
              "      <td>NaN</td>\n",
              "      <td>NaN</td>\n",
              "    </tr>\n",
              "    <tr>\n",
              "      <th>75%</th>\n",
              "      <td>NaN</td>\n",
              "      <td>1.335625e+04</td>\n",
              "      <td>NaN</td>\n",
              "      <td>NaN</td>\n",
              "      <td>83.000000</td>\n",
              "      <td>82.500000</td>\n",
              "      <td>86.000000</td>\n",
              "      <td>79.000000</td>\n",
              "      <td>87.000000</td>\n",
              "      <td>NaN</td>\n",
              "      <td>NaN</td>\n",
              "    </tr>\n",
              "    <tr>\n",
              "      <th>max</th>\n",
              "      <td>NaN</td>\n",
              "      <td>1.332263e+07</td>\n",
              "      <td>NaN</td>\n",
              "      <td>NaN</td>\n",
              "      <td>508.000000</td>\n",
              "      <td>780.000000</td>\n",
              "      <td>420.000000</td>\n",
              "      <td>680.000000</td>\n",
              "      <td>100.000000</td>\n",
              "      <td>NaN</td>\n",
              "      <td>NaN</td>\n",
              "    </tr>\n",
              "  </tbody>\n",
              "</table>\n",
              "</div>\n",
              "      <button class=\"colab-df-convert\" onclick=\"convertToInteractive('df-5b20e52a-adc4-4cc8-9c23-11ea741eff0d')\"\n",
              "              title=\"Convert this dataframe to an interactive table.\"\n",
              "              style=\"display:none;\">\n",
              "        \n",
              "  <svg xmlns=\"http://www.w3.org/2000/svg\" height=\"24px\"viewBox=\"0 0 24 24\"\n",
              "       width=\"24px\">\n",
              "    <path d=\"M0 0h24v24H0V0z\" fill=\"none\"/>\n",
              "    <path d=\"M18.56 5.44l.94 2.06.94-2.06 2.06-.94-2.06-.94-.94-2.06-.94 2.06-2.06.94zm-11 1L8.5 8.5l.94-2.06 2.06-.94-2.06-.94L8.5 2.5l-.94 2.06-2.06.94zm10 10l.94 2.06.94-2.06 2.06-.94-2.06-.94-.94-2.06-.94 2.06-2.06.94z\"/><path d=\"M17.41 7.96l-1.37-1.37c-.4-.4-.92-.59-1.43-.59-.52 0-1.04.2-1.43.59L10.3 9.45l-7.72 7.72c-.78.78-.78 2.05 0 2.83L4 21.41c.39.39.9.59 1.41.59.51 0 1.02-.2 1.41-.59l7.78-7.78 2.81-2.81c.8-.78.8-2.07 0-2.86zM5.41 20L4 18.59l7.72-7.72 1.47 1.35L5.41 20z\"/>\n",
              "  </svg>\n",
              "      </button>\n",
              "      \n",
              "  <style>\n",
              "    .colab-df-container {\n",
              "      display:flex;\n",
              "      flex-wrap:wrap;\n",
              "      gap: 12px;\n",
              "    }\n",
              "\n",
              "    .colab-df-convert {\n",
              "      background-color: #E8F0FE;\n",
              "      border: none;\n",
              "      border-radius: 50%;\n",
              "      cursor: pointer;\n",
              "      display: none;\n",
              "      fill: #1967D2;\n",
              "      height: 32px;\n",
              "      padding: 0 0 0 0;\n",
              "      width: 32px;\n",
              "    }\n",
              "\n",
              "    .colab-df-convert:hover {\n",
              "      background-color: #E2EBFA;\n",
              "      box-shadow: 0px 1px 2px rgba(60, 64, 67, 0.3), 0px 1px 3px 1px rgba(60, 64, 67, 0.15);\n",
              "      fill: #174EA6;\n",
              "    }\n",
              "\n",
              "    [theme=dark] .colab-df-convert {\n",
              "      background-color: #3B4455;\n",
              "      fill: #D2E3FC;\n",
              "    }\n",
              "\n",
              "    [theme=dark] .colab-df-convert:hover {\n",
              "      background-color: #434B5C;\n",
              "      box-shadow: 0px 1px 3px 1px rgba(0, 0, 0, 0.15);\n",
              "      filter: drop-shadow(0px 1px 2px rgba(0, 0, 0, 0.3));\n",
              "      fill: #FFFFFF;\n",
              "    }\n",
              "  </style>\n",
              "\n",
              "      <script>\n",
              "        const buttonEl =\n",
              "          document.querySelector('#df-5b20e52a-adc4-4cc8-9c23-11ea741eff0d button.colab-df-convert');\n",
              "        buttonEl.style.display =\n",
              "          google.colab.kernel.accessAllowed ? 'block' : 'none';\n",
              "\n",
              "        async function convertToInteractive(key) {\n",
              "          const element = document.querySelector('#df-5b20e52a-adc4-4cc8-9c23-11ea741eff0d');\n",
              "          const dataTable =\n",
              "            await google.colab.kernel.invokeFunction('convertToInteractive',\n",
              "                                                     [key], {});\n",
              "          if (!dataTable) return;\n",
              "\n",
              "          const docLinkHtml = 'Like what you see? Visit the ' +\n",
              "            '<a target=\"_blank\" href=https://colab.research.google.com/notebooks/data_table.ipynb>data table notebook</a>'\n",
              "            + ' to learn more about interactive tables.';\n",
              "          element.innerHTML = '';\n",
              "          dataTable['output_type'] = 'display_data';\n",
              "          await google.colab.output.renderOutput(dataTable, element);\n",
              "          const docLink = document.createElement('div');\n",
              "          docLink.innerHTML = docLinkHtml;\n",
              "          element.appendChild(docLink);\n",
              "        }\n",
              "      </script>\n",
              "    </div>\n",
              "  </div>\n",
              "  "
            ]
          },
          "metadata": {},
          "execution_count": 14
        }
      ]
    },
    {
      "cell_type": "code",
      "source": [
        "df['english'].sum()"
      ],
      "metadata": {
        "colab": {
          "base_uri": "https://localhost:8080/"
        },
        "id": "yAcasH4AmyN5",
        "outputId": "b586fe78-2fa1-49cf-8c83-f57a3ddb5899"
      },
      "execution_count": null,
      "outputs": [
        {
          "output_type": "execute_result",
          "data": {
            "text/plain": [
              "8586.0"
            ]
          },
          "metadata": {},
          "execution_count": 17
        }
      ]
    },
    {
      "cell_type": "code",
      "source": [
        "8586/147"
      ],
      "metadata": {
        "colab": {
          "base_uri": "https://localhost:8080/"
        },
        "id": "m3TNnoDcm934",
        "outputId": "41fed7c9-566f-443b-ca45-6d39bf24c893"
      },
      "execution_count": null,
      "outputs": [
        {
          "output_type": "execute_result",
          "data": {
            "text/plain": [
              "58.40816326530612"
            ]
          },
          "metadata": {},
          "execution_count": 19
        }
      ]
    },
    {
      "cell_type": "code",
      "source": [
        "?df.describe"
      ],
      "metadata": {
        "id": "r7rZdiYl1JQY"
      },
      "execution_count": null,
      "outputs": []
    },
    {
      "cell_type": "markdown",
      "metadata": {
        "id": "dcAfkn006Myz"
      },
      "source": [
        "## Data preprocessing and/or Cleaning\n",
        "\n",
        "* **Data cleaning** refers to the process of identifying and correcting or removing incorrect, incomplete, incorrectly formatted, corrupted, duplicate or irrelevant data within the provided data.\n",
        "\n",
        "while \n",
        "\n",
        "* **Data preprocessing** can refer to manipulation or dropping of data before it is used in order to ensure or enhance performance, and is an important step in the data mining process.\n",
        "\n",
        "\n",
        "There is no one  way to carry out data cleaning/preprocessing because the process will differ depending on the data at hand.\n",
        "\n"
      ]
    },
    {
      "cell_type": "markdown",
      "metadata": {
        "id": "a_jokNZe6My0"
      },
      "source": [
        "### What are the different types of data issues?\n",
        "\n",
        "* **Missing Data** - No data value is stored for an attribute in an observation hence data ends up with missing fields.\n",
        "* **Duplicated Entries** - An entry that shares data with another entry.\n",
        "* **Invalid Data** - This includes wrong data types and wrong data formats which in turn interferes with the analysis process.\n",
        "* **Conflicting Data** - Occurs when there are same records with different attributes example grams and kgs."
      ]
    },
    {
      "cell_type": "markdown",
      "metadata": {
        "id": "ejqM-HS26My9"
      },
      "source": [
        "### Dealing with missing values\n",
        "\n",
        "There are various methods of dealing with missing values:\n",
        "\n",
        "1. Drop missing values \n",
        "2. Fill/replace with mean/median/mode/, backward fill/forward fill, certain value\n",
        "3. Interpolate\n",
        "\n",
        "One selects the above methods based on a missing pattern.\n",
        "\n",
        "What is a missing pattern?\n",
        "\n",
        " *   Missing completely at random (MCAR): This occurs when the probability of a value being missing is the same for all observations and is not related to any other variables in the dataset.\n",
        "\n",
        " *   Missing at random (MAR): This occurs when the probability of a value being missing is related to one or more other variables in the dataset, but not the variable of interest.\n",
        "\n",
        " *   Missing not at random (MNAR): This occurs when the probability of a value being missing is related to the variable of interest.\n",
        "\n",
        " * ... etc"
      ]
    },
    {
      "cell_type": "markdown",
      "source": [
        "Let's check for missing values."
      ],
      "metadata": {
        "id": "8ohTcryYp-6V"
      }
    },
    {
      "cell_type": "code",
      "source": [
        "missing_values = df.isna() # Checks missing values\n",
        "missing_values "
      ],
      "metadata": {
        "colab": {
          "base_uri": "https://localhost:8080/",
          "height": 424
        },
        "id": "1jpz7F-Ll93Q",
        "outputId": "6b10d0cc-2371-49f0-b890-4578f7d32119"
      },
      "execution_count": null,
      "outputs": [
        {
          "output_type": "execute_result",
          "data": {
            "text/plain": [
              "     names  admission number  house  balance  english  kiswahili  mathematics  \\\n",
              "0    False             False   True     True    False      False        False   \n",
              "1    False             False   True     True    False      False        False   \n",
              "2    False             False   True     True    False      False        False   \n",
              "3    False             False   True     True    False      False        False   \n",
              "4    False             False   True     True    False      False        False   \n",
              "..     ...               ...    ...      ...      ...        ...          ...   \n",
              "142  False             False  False    False    False      False        False   \n",
              "143  False             False  False    False    False      False        False   \n",
              "144  False             False  False    False    False      False        False   \n",
              "145  False             False  False     True    False      False        False   \n",
              "146  False             False  False     True    False      False        False   \n",
              "\n",
              "     science  sst/cre  Creative Arts  music  \n",
              "0      False    False          False  False  \n",
              "1      False    False          False  False  \n",
              "2      False    False          False  False  \n",
              "3      False    False          False  False  \n",
              "4      False    False          False  False  \n",
              "..       ...      ...            ...    ...  \n",
              "142    False    False          False  False  \n",
              "143    False    False          False  False  \n",
              "144    False    False          False  False  \n",
              "145    False    False          False  False  \n",
              "146    False    False          False  False  \n",
              "\n",
              "[147 rows x 11 columns]"
            ],
            "text/html": [
              "\n",
              "  <div id=\"df-5a7f5694-7d74-431b-a1d1-3f2c191175af\">\n",
              "    <div class=\"colab-df-container\">\n",
              "      <div>\n",
              "<style scoped>\n",
              "    .dataframe tbody tr th:only-of-type {\n",
              "        vertical-align: middle;\n",
              "    }\n",
              "\n",
              "    .dataframe tbody tr th {\n",
              "        vertical-align: top;\n",
              "    }\n",
              "\n",
              "    .dataframe thead th {\n",
              "        text-align: right;\n",
              "    }\n",
              "</style>\n",
              "<table border=\"1\" class=\"dataframe\">\n",
              "  <thead>\n",
              "    <tr style=\"text-align: right;\">\n",
              "      <th></th>\n",
              "      <th>names</th>\n",
              "      <th>admission number</th>\n",
              "      <th>house</th>\n",
              "      <th>balance</th>\n",
              "      <th>english</th>\n",
              "      <th>kiswahili</th>\n",
              "      <th>mathematics</th>\n",
              "      <th>science</th>\n",
              "      <th>sst/cre</th>\n",
              "      <th>Creative Arts</th>\n",
              "      <th>music</th>\n",
              "    </tr>\n",
              "  </thead>\n",
              "  <tbody>\n",
              "    <tr>\n",
              "      <th>0</th>\n",
              "      <td>False</td>\n",
              "      <td>False</td>\n",
              "      <td>True</td>\n",
              "      <td>True</td>\n",
              "      <td>False</td>\n",
              "      <td>False</td>\n",
              "      <td>False</td>\n",
              "      <td>False</td>\n",
              "      <td>False</td>\n",
              "      <td>False</td>\n",
              "      <td>False</td>\n",
              "    </tr>\n",
              "    <tr>\n",
              "      <th>1</th>\n",
              "      <td>False</td>\n",
              "      <td>False</td>\n",
              "      <td>True</td>\n",
              "      <td>True</td>\n",
              "      <td>False</td>\n",
              "      <td>False</td>\n",
              "      <td>False</td>\n",
              "      <td>False</td>\n",
              "      <td>False</td>\n",
              "      <td>False</td>\n",
              "      <td>False</td>\n",
              "    </tr>\n",
              "    <tr>\n",
              "      <th>2</th>\n",
              "      <td>False</td>\n",
              "      <td>False</td>\n",
              "      <td>True</td>\n",
              "      <td>True</td>\n",
              "      <td>False</td>\n",
              "      <td>False</td>\n",
              "      <td>False</td>\n",
              "      <td>False</td>\n",
              "      <td>False</td>\n",
              "      <td>False</td>\n",
              "      <td>False</td>\n",
              "    </tr>\n",
              "    <tr>\n",
              "      <th>3</th>\n",
              "      <td>False</td>\n",
              "      <td>False</td>\n",
              "      <td>True</td>\n",
              "      <td>True</td>\n",
              "      <td>False</td>\n",
              "      <td>False</td>\n",
              "      <td>False</td>\n",
              "      <td>False</td>\n",
              "      <td>False</td>\n",
              "      <td>False</td>\n",
              "      <td>False</td>\n",
              "    </tr>\n",
              "    <tr>\n",
              "      <th>4</th>\n",
              "      <td>False</td>\n",
              "      <td>False</td>\n",
              "      <td>True</td>\n",
              "      <td>True</td>\n",
              "      <td>False</td>\n",
              "      <td>False</td>\n",
              "      <td>False</td>\n",
              "      <td>False</td>\n",
              "      <td>False</td>\n",
              "      <td>False</td>\n",
              "      <td>False</td>\n",
              "    </tr>\n",
              "    <tr>\n",
              "      <th>...</th>\n",
              "      <td>...</td>\n",
              "      <td>...</td>\n",
              "      <td>...</td>\n",
              "      <td>...</td>\n",
              "      <td>...</td>\n",
              "      <td>...</td>\n",
              "      <td>...</td>\n",
              "      <td>...</td>\n",
              "      <td>...</td>\n",
              "      <td>...</td>\n",
              "      <td>...</td>\n",
              "    </tr>\n",
              "    <tr>\n",
              "      <th>142</th>\n",
              "      <td>False</td>\n",
              "      <td>False</td>\n",
              "      <td>False</td>\n",
              "      <td>False</td>\n",
              "      <td>False</td>\n",
              "      <td>False</td>\n",
              "      <td>False</td>\n",
              "      <td>False</td>\n",
              "      <td>False</td>\n",
              "      <td>False</td>\n",
              "      <td>False</td>\n",
              "    </tr>\n",
              "    <tr>\n",
              "      <th>143</th>\n",
              "      <td>False</td>\n",
              "      <td>False</td>\n",
              "      <td>False</td>\n",
              "      <td>False</td>\n",
              "      <td>False</td>\n",
              "      <td>False</td>\n",
              "      <td>False</td>\n",
              "      <td>False</td>\n",
              "      <td>False</td>\n",
              "      <td>False</td>\n",
              "      <td>False</td>\n",
              "    </tr>\n",
              "    <tr>\n",
              "      <th>144</th>\n",
              "      <td>False</td>\n",
              "      <td>False</td>\n",
              "      <td>False</td>\n",
              "      <td>False</td>\n",
              "      <td>False</td>\n",
              "      <td>False</td>\n",
              "      <td>False</td>\n",
              "      <td>False</td>\n",
              "      <td>False</td>\n",
              "      <td>False</td>\n",
              "      <td>False</td>\n",
              "    </tr>\n",
              "    <tr>\n",
              "      <th>145</th>\n",
              "      <td>False</td>\n",
              "      <td>False</td>\n",
              "      <td>False</td>\n",
              "      <td>True</td>\n",
              "      <td>False</td>\n",
              "      <td>False</td>\n",
              "      <td>False</td>\n",
              "      <td>False</td>\n",
              "      <td>False</td>\n",
              "      <td>False</td>\n",
              "      <td>False</td>\n",
              "    </tr>\n",
              "    <tr>\n",
              "      <th>146</th>\n",
              "      <td>False</td>\n",
              "      <td>False</td>\n",
              "      <td>False</td>\n",
              "      <td>True</td>\n",
              "      <td>False</td>\n",
              "      <td>False</td>\n",
              "      <td>False</td>\n",
              "      <td>False</td>\n",
              "      <td>False</td>\n",
              "      <td>False</td>\n",
              "      <td>False</td>\n",
              "    </tr>\n",
              "  </tbody>\n",
              "</table>\n",
              "<p>147 rows × 11 columns</p>\n",
              "</div>\n",
              "      <button class=\"colab-df-convert\" onclick=\"convertToInteractive('df-5a7f5694-7d74-431b-a1d1-3f2c191175af')\"\n",
              "              title=\"Convert this dataframe to an interactive table.\"\n",
              "              style=\"display:none;\">\n",
              "        \n",
              "  <svg xmlns=\"http://www.w3.org/2000/svg\" height=\"24px\"viewBox=\"0 0 24 24\"\n",
              "       width=\"24px\">\n",
              "    <path d=\"M0 0h24v24H0V0z\" fill=\"none\"/>\n",
              "    <path d=\"M18.56 5.44l.94 2.06.94-2.06 2.06-.94-2.06-.94-.94-2.06-.94 2.06-2.06.94zm-11 1L8.5 8.5l.94-2.06 2.06-.94-2.06-.94L8.5 2.5l-.94 2.06-2.06.94zm10 10l.94 2.06.94-2.06 2.06-.94-2.06-.94-.94-2.06-.94 2.06-2.06.94z\"/><path d=\"M17.41 7.96l-1.37-1.37c-.4-.4-.92-.59-1.43-.59-.52 0-1.04.2-1.43.59L10.3 9.45l-7.72 7.72c-.78.78-.78 2.05 0 2.83L4 21.41c.39.39.9.59 1.41.59.51 0 1.02-.2 1.41-.59l7.78-7.78 2.81-2.81c.8-.78.8-2.07 0-2.86zM5.41 20L4 18.59l7.72-7.72 1.47 1.35L5.41 20z\"/>\n",
              "  </svg>\n",
              "      </button>\n",
              "      \n",
              "  <style>\n",
              "    .colab-df-container {\n",
              "      display:flex;\n",
              "      flex-wrap:wrap;\n",
              "      gap: 12px;\n",
              "    }\n",
              "\n",
              "    .colab-df-convert {\n",
              "      background-color: #E8F0FE;\n",
              "      border: none;\n",
              "      border-radius: 50%;\n",
              "      cursor: pointer;\n",
              "      display: none;\n",
              "      fill: #1967D2;\n",
              "      height: 32px;\n",
              "      padding: 0 0 0 0;\n",
              "      width: 32px;\n",
              "    }\n",
              "\n",
              "    .colab-df-convert:hover {\n",
              "      background-color: #E2EBFA;\n",
              "      box-shadow: 0px 1px 2px rgba(60, 64, 67, 0.3), 0px 1px 3px 1px rgba(60, 64, 67, 0.15);\n",
              "      fill: #174EA6;\n",
              "    }\n",
              "\n",
              "    [theme=dark] .colab-df-convert {\n",
              "      background-color: #3B4455;\n",
              "      fill: #D2E3FC;\n",
              "    }\n",
              "\n",
              "    [theme=dark] .colab-df-convert:hover {\n",
              "      background-color: #434B5C;\n",
              "      box-shadow: 0px 1px 3px 1px rgba(0, 0, 0, 0.15);\n",
              "      filter: drop-shadow(0px 1px 2px rgba(0, 0, 0, 0.3));\n",
              "      fill: #FFFFFF;\n",
              "    }\n",
              "  </style>\n",
              "\n",
              "      <script>\n",
              "        const buttonEl =\n",
              "          document.querySelector('#df-5a7f5694-7d74-431b-a1d1-3f2c191175af button.colab-df-convert');\n",
              "        buttonEl.style.display =\n",
              "          google.colab.kernel.accessAllowed ? 'block' : 'none';\n",
              "\n",
              "        async function convertToInteractive(key) {\n",
              "          const element = document.querySelector('#df-5a7f5694-7d74-431b-a1d1-3f2c191175af');\n",
              "          const dataTable =\n",
              "            await google.colab.kernel.invokeFunction('convertToInteractive',\n",
              "                                                     [key], {});\n",
              "          if (!dataTable) return;\n",
              "\n",
              "          const docLinkHtml = 'Like what you see? Visit the ' +\n",
              "            '<a target=\"_blank\" href=https://colab.research.google.com/notebooks/data_table.ipynb>data table notebook</a>'\n",
              "            + ' to learn more about interactive tables.';\n",
              "          element.innerHTML = '';\n",
              "          dataTable['output_type'] = 'display_data';\n",
              "          await google.colab.output.renderOutput(dataTable, element);\n",
              "          const docLink = document.createElement('div');\n",
              "          docLink.innerHTML = docLinkHtml;\n",
              "          element.appendChild(docLink);\n",
              "        }\n",
              "      </script>\n",
              "    </div>\n",
              "  </div>\n",
              "  "
            ]
          },
          "metadata": {},
          "execution_count": 14
        }
      ]
    },
    {
      "cell_type": "code",
      "source": [
        "# an interpretable version\n",
        "df.isna().sum() # Gets count of missing values"
      ],
      "metadata": {
        "colab": {
          "base_uri": "https://localhost:8080/"
        },
        "id": "8AQxC3VuqcXa",
        "outputId": "22a875a1-0fe7-412c-d9de-ae1feb223fe8"
      },
      "execution_count": null,
      "outputs": [
        {
          "output_type": "execute_result",
          "data": {
            "text/plain": [
              "names                 0\n",
              "admission number     23\n",
              "house               121\n",
              "balance              89\n",
              "english              26\n",
              "kiswahili            28\n",
              "mathematics          17\n",
              "science              30\n",
              "sst/cre              15\n",
              "Creative Arts         4\n",
              "music                 0\n",
              "dtype: int64"
            ]
          },
          "metadata": {},
          "execution_count": 15
        }
      ]
    },
    {
      "cell_type": "code",
      "source": [
        "df[df['english'] == -78]"
      ],
      "metadata": {
        "colab": {
          "base_uri": "https://localhost:8080/",
          "height": 196
        },
        "id": "G9rJdyZgveYC",
        "outputId": "4c5eb08d-81b6-4399-b953-9a9a7661a2a2"
      },
      "execution_count": null,
      "outputs": [
        {
          "output_type": "execute_result",
          "data": {
            "text/plain": [
              "                    names  admission number  house balance  english  \\\n",
              "142  TIMOTHY NDEDA, OBURA        13322634.0  Elgon       0    -78.0   \n",
              "\n",
              "     kiswahili  mathematics  science  sst/cre Creative Arts music  \n",
              "142       40.0         99.0     70.0     49.0           99&   92&  "
            ],
            "text/html": [
              "\n",
              "  <div id=\"df-b02d9457-929e-4ad7-90d0-74b79d935105\">\n",
              "    <div class=\"colab-df-container\">\n",
              "      <div>\n",
              "<style scoped>\n",
              "    .dataframe tbody tr th:only-of-type {\n",
              "        vertical-align: middle;\n",
              "    }\n",
              "\n",
              "    .dataframe tbody tr th {\n",
              "        vertical-align: top;\n",
              "    }\n",
              "\n",
              "    .dataframe thead th {\n",
              "        text-align: right;\n",
              "    }\n",
              "</style>\n",
              "<table border=\"1\" class=\"dataframe\">\n",
              "  <thead>\n",
              "    <tr style=\"text-align: right;\">\n",
              "      <th></th>\n",
              "      <th>names</th>\n",
              "      <th>admission number</th>\n",
              "      <th>house</th>\n",
              "      <th>balance</th>\n",
              "      <th>english</th>\n",
              "      <th>kiswahili</th>\n",
              "      <th>mathematics</th>\n",
              "      <th>science</th>\n",
              "      <th>sst/cre</th>\n",
              "      <th>Creative Arts</th>\n",
              "      <th>music</th>\n",
              "    </tr>\n",
              "  </thead>\n",
              "  <tbody>\n",
              "    <tr>\n",
              "      <th>142</th>\n",
              "      <td>TIMOTHY NDEDA, OBURA</td>\n",
              "      <td>13322634.0</td>\n",
              "      <td>Elgon</td>\n",
              "      <td>0</td>\n",
              "      <td>-78.0</td>\n",
              "      <td>40.0</td>\n",
              "      <td>99.0</td>\n",
              "      <td>70.0</td>\n",
              "      <td>49.0</td>\n",
              "      <td>99&amp;</td>\n",
              "      <td>92&amp;</td>\n",
              "    </tr>\n",
              "  </tbody>\n",
              "</table>\n",
              "</div>\n",
              "      <button class=\"colab-df-convert\" onclick=\"convertToInteractive('df-b02d9457-929e-4ad7-90d0-74b79d935105')\"\n",
              "              title=\"Convert this dataframe to an interactive table.\"\n",
              "              style=\"display:none;\">\n",
              "        \n",
              "  <svg xmlns=\"http://www.w3.org/2000/svg\" height=\"24px\"viewBox=\"0 0 24 24\"\n",
              "       width=\"24px\">\n",
              "    <path d=\"M0 0h24v24H0V0z\" fill=\"none\"/>\n",
              "    <path d=\"M18.56 5.44l.94 2.06.94-2.06 2.06-.94-2.06-.94-.94-2.06-.94 2.06-2.06.94zm-11 1L8.5 8.5l.94-2.06 2.06-.94-2.06-.94L8.5 2.5l-.94 2.06-2.06.94zm10 10l.94 2.06.94-2.06 2.06-.94-2.06-.94-.94-2.06-.94 2.06-2.06.94z\"/><path d=\"M17.41 7.96l-1.37-1.37c-.4-.4-.92-.59-1.43-.59-.52 0-1.04.2-1.43.59L10.3 9.45l-7.72 7.72c-.78.78-.78 2.05 0 2.83L4 21.41c.39.39.9.59 1.41.59.51 0 1.02-.2 1.41-.59l7.78-7.78 2.81-2.81c.8-.78.8-2.07 0-2.86zM5.41 20L4 18.59l7.72-7.72 1.47 1.35L5.41 20z\"/>\n",
              "  </svg>\n",
              "      </button>\n",
              "      \n",
              "  <style>\n",
              "    .colab-df-container {\n",
              "      display:flex;\n",
              "      flex-wrap:wrap;\n",
              "      gap: 12px;\n",
              "    }\n",
              "\n",
              "    .colab-df-convert {\n",
              "      background-color: #E8F0FE;\n",
              "      border: none;\n",
              "      border-radius: 50%;\n",
              "      cursor: pointer;\n",
              "      display: none;\n",
              "      fill: #1967D2;\n",
              "      height: 32px;\n",
              "      padding: 0 0 0 0;\n",
              "      width: 32px;\n",
              "    }\n",
              "\n",
              "    .colab-df-convert:hover {\n",
              "      background-color: #E2EBFA;\n",
              "      box-shadow: 0px 1px 2px rgba(60, 64, 67, 0.3), 0px 1px 3px 1px rgba(60, 64, 67, 0.15);\n",
              "      fill: #174EA6;\n",
              "    }\n",
              "\n",
              "    [theme=dark] .colab-df-convert {\n",
              "      background-color: #3B4455;\n",
              "      fill: #D2E3FC;\n",
              "    }\n",
              "\n",
              "    [theme=dark] .colab-df-convert:hover {\n",
              "      background-color: #434B5C;\n",
              "      box-shadow: 0px 1px 3px 1px rgba(0, 0, 0, 0.15);\n",
              "      filter: drop-shadow(0px 1px 2px rgba(0, 0, 0, 0.3));\n",
              "      fill: #FFFFFF;\n",
              "    }\n",
              "  </style>\n",
              "\n",
              "      <script>\n",
              "        const buttonEl =\n",
              "          document.querySelector('#df-b02d9457-929e-4ad7-90d0-74b79d935105 button.colab-df-convert');\n",
              "        buttonEl.style.display =\n",
              "          google.colab.kernel.accessAllowed ? 'block' : 'none';\n",
              "\n",
              "        async function convertToInteractive(key) {\n",
              "          const element = document.querySelector('#df-b02d9457-929e-4ad7-90d0-74b79d935105');\n",
              "          const dataTable =\n",
              "            await google.colab.kernel.invokeFunction('convertToInteractive',\n",
              "                                                     [key], {});\n",
              "          if (!dataTable) return;\n",
              "\n",
              "          const docLinkHtml = 'Like what you see? Visit the ' +\n",
              "            '<a target=\"_blank\" href=https://colab.research.google.com/notebooks/data_table.ipynb>data table notebook</a>'\n",
              "            + ' to learn more about interactive tables.';\n",
              "          element.innerHTML = '';\n",
              "          dataTable['output_type'] = 'display_data';\n",
              "          await google.colab.output.renderOutput(dataTable, element);\n",
              "          const docLink = document.createElement('div');\n",
              "          docLink.innerHTML = docLinkHtml;\n",
              "          element.appendChild(docLink);\n",
              "        }\n",
              "      </script>\n",
              "    </div>\n",
              "  </div>\n",
              "  "
            ]
          },
          "metadata": {},
          "execution_count": 27
        }
      ]
    },
    {
      "cell_type": "code",
      "source": [
        "# a more interpretable version\n",
        "def missing_values(data):\n",
        "    \"\"\"A simple function to identify data has missing values\"\"\"\n",
        "    # identify the total missing values per column\n",
        "    # sort in order \n",
        "    miss = data.isnull().sum().sort_values(ascending = False)\n",
        "\n",
        "    # calculate percentage of the missing values\n",
        "    percentage_miss = (data.isnull().sum() / len(data)).sort_values(ascending = False)\n",
        "\n",
        "    # store in a dataframe \n",
        "    missing = pd.DataFrame({\"Missing Values\": miss, \"Percentage\": percentage_miss}).reset_index()\n",
        "\n",
        "    # remove values that are missing \n",
        "    missing.drop(missing[missing[\"Percentage\"] == 0].index, inplace = True)\n",
        "\n",
        "    return missing\n",
        "\n",
        "\n",
        "missing_data = missing_values(df)\n",
        "missing_data"
      ],
      "metadata": {
        "colab": {
          "base_uri": "https://localhost:8080/",
          "height": 300
        },
        "id": "CtsEBmf4rGyk",
        "outputId": "a2b865a2-1ae9-47ef-b815-a956de9f368a"
      },
      "execution_count": null,
      "outputs": [
        {
          "output_type": "execute_result",
          "data": {
            "text/plain": [
              "              index  Missing Values  Percentage\n",
              "0           balance              89    0.605442\n",
              "1           science              30    0.204082\n",
              "2         kiswahili              28    0.190476\n",
              "3           english              26    0.176871\n",
              "4  admission number              23    0.156463\n",
              "5       mathematics              17    0.115646\n",
              "6           sst/cre              15    0.102041\n",
              "7     Creative Arts               4    0.027211"
            ],
            "text/html": [
              "\n",
              "  <div id=\"df-9059a288-9d98-443c-8b05-cab974325667\">\n",
              "    <div class=\"colab-df-container\">\n",
              "      <div>\n",
              "<style scoped>\n",
              "    .dataframe tbody tr th:only-of-type {\n",
              "        vertical-align: middle;\n",
              "    }\n",
              "\n",
              "    .dataframe tbody tr th {\n",
              "        vertical-align: top;\n",
              "    }\n",
              "\n",
              "    .dataframe thead th {\n",
              "        text-align: right;\n",
              "    }\n",
              "</style>\n",
              "<table border=\"1\" class=\"dataframe\">\n",
              "  <thead>\n",
              "    <tr style=\"text-align: right;\">\n",
              "      <th></th>\n",
              "      <th>index</th>\n",
              "      <th>Missing Values</th>\n",
              "      <th>Percentage</th>\n",
              "    </tr>\n",
              "  </thead>\n",
              "  <tbody>\n",
              "    <tr>\n",
              "      <th>0</th>\n",
              "      <td>balance</td>\n",
              "      <td>89</td>\n",
              "      <td>0.605442</td>\n",
              "    </tr>\n",
              "    <tr>\n",
              "      <th>1</th>\n",
              "      <td>science</td>\n",
              "      <td>30</td>\n",
              "      <td>0.204082</td>\n",
              "    </tr>\n",
              "    <tr>\n",
              "      <th>2</th>\n",
              "      <td>kiswahili</td>\n",
              "      <td>28</td>\n",
              "      <td>0.190476</td>\n",
              "    </tr>\n",
              "    <tr>\n",
              "      <th>3</th>\n",
              "      <td>english</td>\n",
              "      <td>26</td>\n",
              "      <td>0.176871</td>\n",
              "    </tr>\n",
              "    <tr>\n",
              "      <th>4</th>\n",
              "      <td>admission number</td>\n",
              "      <td>23</td>\n",
              "      <td>0.156463</td>\n",
              "    </tr>\n",
              "    <tr>\n",
              "      <th>5</th>\n",
              "      <td>mathematics</td>\n",
              "      <td>17</td>\n",
              "      <td>0.115646</td>\n",
              "    </tr>\n",
              "    <tr>\n",
              "      <th>6</th>\n",
              "      <td>sst/cre</td>\n",
              "      <td>15</td>\n",
              "      <td>0.102041</td>\n",
              "    </tr>\n",
              "    <tr>\n",
              "      <th>7</th>\n",
              "      <td>Creative Arts</td>\n",
              "      <td>4</td>\n",
              "      <td>0.027211</td>\n",
              "    </tr>\n",
              "  </tbody>\n",
              "</table>\n",
              "</div>\n",
              "      <button class=\"colab-df-convert\" onclick=\"convertToInteractive('df-9059a288-9d98-443c-8b05-cab974325667')\"\n",
              "              title=\"Convert this dataframe to an interactive table.\"\n",
              "              style=\"display:none;\">\n",
              "        \n",
              "  <svg xmlns=\"http://www.w3.org/2000/svg\" height=\"24px\"viewBox=\"0 0 24 24\"\n",
              "       width=\"24px\">\n",
              "    <path d=\"M0 0h24v24H0V0z\" fill=\"none\"/>\n",
              "    <path d=\"M18.56 5.44l.94 2.06.94-2.06 2.06-.94-2.06-.94-.94-2.06-.94 2.06-2.06.94zm-11 1L8.5 8.5l.94-2.06 2.06-.94-2.06-.94L8.5 2.5l-.94 2.06-2.06.94zm10 10l.94 2.06.94-2.06 2.06-.94-2.06-.94-.94-2.06-.94 2.06-2.06.94z\"/><path d=\"M17.41 7.96l-1.37-1.37c-.4-.4-.92-.59-1.43-.59-.52 0-1.04.2-1.43.59L10.3 9.45l-7.72 7.72c-.78.78-.78 2.05 0 2.83L4 21.41c.39.39.9.59 1.41.59.51 0 1.02-.2 1.41-.59l7.78-7.78 2.81-2.81c.8-.78.8-2.07 0-2.86zM5.41 20L4 18.59l7.72-7.72 1.47 1.35L5.41 20z\"/>\n",
              "  </svg>\n",
              "      </button>\n",
              "      \n",
              "  <style>\n",
              "    .colab-df-container {\n",
              "      display:flex;\n",
              "      flex-wrap:wrap;\n",
              "      gap: 12px;\n",
              "    }\n",
              "\n",
              "    .colab-df-convert {\n",
              "      background-color: #E8F0FE;\n",
              "      border: none;\n",
              "      border-radius: 50%;\n",
              "      cursor: pointer;\n",
              "      display: none;\n",
              "      fill: #1967D2;\n",
              "      height: 32px;\n",
              "      padding: 0 0 0 0;\n",
              "      width: 32px;\n",
              "    }\n",
              "\n",
              "    .colab-df-convert:hover {\n",
              "      background-color: #E2EBFA;\n",
              "      box-shadow: 0px 1px 2px rgba(60, 64, 67, 0.3), 0px 1px 3px 1px rgba(60, 64, 67, 0.15);\n",
              "      fill: #174EA6;\n",
              "    }\n",
              "\n",
              "    [theme=dark] .colab-df-convert {\n",
              "      background-color: #3B4455;\n",
              "      fill: #D2E3FC;\n",
              "    }\n",
              "\n",
              "    [theme=dark] .colab-df-convert:hover {\n",
              "      background-color: #434B5C;\n",
              "      box-shadow: 0px 1px 3px 1px rgba(0, 0, 0, 0.15);\n",
              "      filter: drop-shadow(0px 1px 2px rgba(0, 0, 0, 0.3));\n",
              "      fill: #FFFFFF;\n",
              "    }\n",
              "  </style>\n",
              "\n",
              "      <script>\n",
              "        const buttonEl =\n",
              "          document.querySelector('#df-9059a288-9d98-443c-8b05-cab974325667 button.colab-df-convert');\n",
              "        buttonEl.style.display =\n",
              "          google.colab.kernel.accessAllowed ? 'block' : 'none';\n",
              "\n",
              "        async function convertToInteractive(key) {\n",
              "          const element = document.querySelector('#df-9059a288-9d98-443c-8b05-cab974325667');\n",
              "          const dataTable =\n",
              "            await google.colab.kernel.invokeFunction('convertToInteractive',\n",
              "                                                     [key], {});\n",
              "          if (!dataTable) return;\n",
              "\n",
              "          const docLinkHtml = 'Like what you see? Visit the ' +\n",
              "            '<a target=\"_blank\" href=https://colab.research.google.com/notebooks/data_table.ipynb>data table notebook</a>'\n",
              "            + ' to learn more about interactive tables.';\n",
              "          element.innerHTML = '';\n",
              "          dataTable['output_type'] = 'display_data';\n",
              "          await google.colab.output.renderOutput(dataTable, element);\n",
              "          const docLink = document.createElement('div');\n",
              "          docLink.innerHTML = docLinkHtml;\n",
              "          element.appendChild(docLink);\n",
              "        }\n",
              "      </script>\n",
              "    </div>\n",
              "  </div>\n",
              "  "
            ]
          },
          "metadata": {},
          "execution_count": 30
        }
      ]
    },
    {
      "cell_type": "markdown",
      "source": [
        "![#c5f015](https://placehold.co/15x15/c5f015/c5f015.png) `The column house has ~82% of its values missing. Even if we are to take a guess, chances are we will most likely end up too much wrong information. Therefore, because of the amount of missing value we can safely drop the column house.`"
      ],
      "metadata": {
        "id": "q0UruxSgr1uz"
      }
    },
    {
      "cell_type": "code",
      "source": [
        "df.drop('house', axis = 1, inplace = True) #Drops the column house"
      ],
      "metadata": {
        "id": "5SZS-M1brv-p"
      },
      "execution_count": null,
      "outputs": []
    },
    {
      "cell_type": "code",
      "source": [
        "\n",
        "df.head(2)"
      ],
      "metadata": {
        "colab": {
          "base_uri": "https://localhost:8080/",
          "height": 243
        },
        "id": "enI3Utrfsi6A",
        "outputId": "4dc88e43-480a-425e-ff2f-a4c048a7a03e"
      },
      "execution_count": null,
      "outputs": [
        {
          "output_type": "execute_result",
          "data": {
            "text/plain": [
              "                   names  admission number balance  english  kiswahili  \\\n",
              "0    JERIEL NDEDA, OBURA           13259.0     NaN     81.0       39.0   \n",
              "1  MUKUHA TIMOTHY, KAMAU           13243.0     NaN     85.0       74.0   \n",
              "\n",
              "   mathematics  science  sst/cre Creative Arts music  \n",
              "0         50.0     30.0     59.0           99%   80%  \n",
              "1         68.0     49.0     78.0           38%   86%  "
            ],
            "text/html": [
              "\n",
              "  <div id=\"df-d31a429c-0905-4ea1-8595-7ae846206da8\">\n",
              "    <div class=\"colab-df-container\">\n",
              "      <div>\n",
              "<style scoped>\n",
              "    .dataframe tbody tr th:only-of-type {\n",
              "        vertical-align: middle;\n",
              "    }\n",
              "\n",
              "    .dataframe tbody tr th {\n",
              "        vertical-align: top;\n",
              "    }\n",
              "\n",
              "    .dataframe thead th {\n",
              "        text-align: right;\n",
              "    }\n",
              "</style>\n",
              "<table border=\"1\" class=\"dataframe\">\n",
              "  <thead>\n",
              "    <tr style=\"text-align: right;\">\n",
              "      <th></th>\n",
              "      <th>names</th>\n",
              "      <th>admission number</th>\n",
              "      <th>balance</th>\n",
              "      <th>english</th>\n",
              "      <th>kiswahili</th>\n",
              "      <th>mathematics</th>\n",
              "      <th>science</th>\n",
              "      <th>sst/cre</th>\n",
              "      <th>Creative Arts</th>\n",
              "      <th>music</th>\n",
              "    </tr>\n",
              "  </thead>\n",
              "  <tbody>\n",
              "    <tr>\n",
              "      <th>0</th>\n",
              "      <td>JERIEL NDEDA, OBURA</td>\n",
              "      <td>13259.0</td>\n",
              "      <td>NaN</td>\n",
              "      <td>81.0</td>\n",
              "      <td>39.0</td>\n",
              "      <td>50.0</td>\n",
              "      <td>30.0</td>\n",
              "      <td>59.0</td>\n",
              "      <td>99%</td>\n",
              "      <td>80%</td>\n",
              "    </tr>\n",
              "    <tr>\n",
              "      <th>1</th>\n",
              "      <td>MUKUHA TIMOTHY, KAMAU</td>\n",
              "      <td>13243.0</td>\n",
              "      <td>NaN</td>\n",
              "      <td>85.0</td>\n",
              "      <td>74.0</td>\n",
              "      <td>68.0</td>\n",
              "      <td>49.0</td>\n",
              "      <td>78.0</td>\n",
              "      <td>38%</td>\n",
              "      <td>86%</td>\n",
              "    </tr>\n",
              "  </tbody>\n",
              "</table>\n",
              "</div>\n",
              "      <button class=\"colab-df-convert\" onclick=\"convertToInteractive('df-d31a429c-0905-4ea1-8595-7ae846206da8')\"\n",
              "              title=\"Convert this dataframe to an interactive table.\"\n",
              "              style=\"display:none;\">\n",
              "        \n",
              "  <svg xmlns=\"http://www.w3.org/2000/svg\" height=\"24px\"viewBox=\"0 0 24 24\"\n",
              "       width=\"24px\">\n",
              "    <path d=\"M0 0h24v24H0V0z\" fill=\"none\"/>\n",
              "    <path d=\"M18.56 5.44l.94 2.06.94-2.06 2.06-.94-2.06-.94-.94-2.06-.94 2.06-2.06.94zm-11 1L8.5 8.5l.94-2.06 2.06-.94-2.06-.94L8.5 2.5l-.94 2.06-2.06.94zm10 10l.94 2.06.94-2.06 2.06-.94-2.06-.94-.94-2.06-.94 2.06-2.06.94z\"/><path d=\"M17.41 7.96l-1.37-1.37c-.4-.4-.92-.59-1.43-.59-.52 0-1.04.2-1.43.59L10.3 9.45l-7.72 7.72c-.78.78-.78 2.05 0 2.83L4 21.41c.39.39.9.59 1.41.59.51 0 1.02-.2 1.41-.59l7.78-7.78 2.81-2.81c.8-.78.8-2.07 0-2.86zM5.41 20L4 18.59l7.72-7.72 1.47 1.35L5.41 20z\"/>\n",
              "  </svg>\n",
              "      </button>\n",
              "      \n",
              "  <style>\n",
              "    .colab-df-container {\n",
              "      display:flex;\n",
              "      flex-wrap:wrap;\n",
              "      gap: 12px;\n",
              "    }\n",
              "\n",
              "    .colab-df-convert {\n",
              "      background-color: #E8F0FE;\n",
              "      border: none;\n",
              "      border-radius: 50%;\n",
              "      cursor: pointer;\n",
              "      display: none;\n",
              "      fill: #1967D2;\n",
              "      height: 32px;\n",
              "      padding: 0 0 0 0;\n",
              "      width: 32px;\n",
              "    }\n",
              "\n",
              "    .colab-df-convert:hover {\n",
              "      background-color: #E2EBFA;\n",
              "      box-shadow: 0px 1px 2px rgba(60, 64, 67, 0.3), 0px 1px 3px 1px rgba(60, 64, 67, 0.15);\n",
              "      fill: #174EA6;\n",
              "    }\n",
              "\n",
              "    [theme=dark] .colab-df-convert {\n",
              "      background-color: #3B4455;\n",
              "      fill: #D2E3FC;\n",
              "    }\n",
              "\n",
              "    [theme=dark] .colab-df-convert:hover {\n",
              "      background-color: #434B5C;\n",
              "      box-shadow: 0px 1px 3px 1px rgba(0, 0, 0, 0.15);\n",
              "      filter: drop-shadow(0px 1px 2px rgba(0, 0, 0, 0.3));\n",
              "      fill: #FFFFFF;\n",
              "    }\n",
              "  </style>\n",
              "\n",
              "      <script>\n",
              "        const buttonEl =\n",
              "          document.querySelector('#df-d31a429c-0905-4ea1-8595-7ae846206da8 button.colab-df-convert');\n",
              "        buttonEl.style.display =\n",
              "          google.colab.kernel.accessAllowed ? 'block' : 'none';\n",
              "\n",
              "        async function convertToInteractive(key) {\n",
              "          const element = document.querySelector('#df-d31a429c-0905-4ea1-8595-7ae846206da8');\n",
              "          const dataTable =\n",
              "            await google.colab.kernel.invokeFunction('convertToInteractive',\n",
              "                                                     [key], {});\n",
              "          if (!dataTable) return;\n",
              "\n",
              "          const docLinkHtml = 'Like what you see? Visit the ' +\n",
              "            '<a target=\"_blank\" href=https://colab.research.google.com/notebooks/data_table.ipynb>data table notebook</a>'\n",
              "            + ' to learn more about interactive tables.';\n",
              "          element.innerHTML = '';\n",
              "          dataTable['output_type'] = 'display_data';\n",
              "          await google.colab.output.renderOutput(dataTable, element);\n",
              "          const docLink = document.createElement('div');\n",
              "          docLink.innerHTML = docLinkHtml;\n",
              "          element.appendChild(docLink);\n",
              "        }\n",
              "      </script>\n",
              "    </div>\n",
              "  </div>\n",
              "  "
            ]
          },
          "metadata": {},
          "execution_count": 29
        }
      ]
    },
    {
      "cell_type": "code",
      "source": [
        "missing_data"
      ],
      "metadata": {
        "colab": {
          "base_uri": "https://localhost:8080/",
          "height": 300
        },
        "id": "SDdkrwqRzSzr",
        "outputId": "a45476db-2737-420c-8e34-dec24a6010c2"
      },
      "execution_count": null,
      "outputs": [
        {
          "output_type": "execute_result",
          "data": {
            "text/plain": [
              "              index  Missing Values  Percentage\n",
              "0           balance              89    0.605442\n",
              "1           science              30    0.204082\n",
              "2         kiswahili              28    0.190476\n",
              "3           english              26    0.176871\n",
              "4  admission number              23    0.156463\n",
              "5       mathematics              17    0.115646\n",
              "6           sst/cre              15    0.102041\n",
              "7     Creative Arts               4    0.027211"
            ],
            "text/html": [
              "\n",
              "  <div id=\"df-c06dec60-4aa2-474f-ba73-e85246b8baa1\">\n",
              "    <div class=\"colab-df-container\">\n",
              "      <div>\n",
              "<style scoped>\n",
              "    .dataframe tbody tr th:only-of-type {\n",
              "        vertical-align: middle;\n",
              "    }\n",
              "\n",
              "    .dataframe tbody tr th {\n",
              "        vertical-align: top;\n",
              "    }\n",
              "\n",
              "    .dataframe thead th {\n",
              "        text-align: right;\n",
              "    }\n",
              "</style>\n",
              "<table border=\"1\" class=\"dataframe\">\n",
              "  <thead>\n",
              "    <tr style=\"text-align: right;\">\n",
              "      <th></th>\n",
              "      <th>index</th>\n",
              "      <th>Missing Values</th>\n",
              "      <th>Percentage</th>\n",
              "    </tr>\n",
              "  </thead>\n",
              "  <tbody>\n",
              "    <tr>\n",
              "      <th>0</th>\n",
              "      <td>balance</td>\n",
              "      <td>89</td>\n",
              "      <td>0.605442</td>\n",
              "    </tr>\n",
              "    <tr>\n",
              "      <th>1</th>\n",
              "      <td>science</td>\n",
              "      <td>30</td>\n",
              "      <td>0.204082</td>\n",
              "    </tr>\n",
              "    <tr>\n",
              "      <th>2</th>\n",
              "      <td>kiswahili</td>\n",
              "      <td>28</td>\n",
              "      <td>0.190476</td>\n",
              "    </tr>\n",
              "    <tr>\n",
              "      <th>3</th>\n",
              "      <td>english</td>\n",
              "      <td>26</td>\n",
              "      <td>0.176871</td>\n",
              "    </tr>\n",
              "    <tr>\n",
              "      <th>4</th>\n",
              "      <td>admission number</td>\n",
              "      <td>23</td>\n",
              "      <td>0.156463</td>\n",
              "    </tr>\n",
              "    <tr>\n",
              "      <th>5</th>\n",
              "      <td>mathematics</td>\n",
              "      <td>17</td>\n",
              "      <td>0.115646</td>\n",
              "    </tr>\n",
              "    <tr>\n",
              "      <th>6</th>\n",
              "      <td>sst/cre</td>\n",
              "      <td>15</td>\n",
              "      <td>0.102041</td>\n",
              "    </tr>\n",
              "    <tr>\n",
              "      <th>7</th>\n",
              "      <td>Creative Arts</td>\n",
              "      <td>4</td>\n",
              "      <td>0.027211</td>\n",
              "    </tr>\n",
              "  </tbody>\n",
              "</table>\n",
              "</div>\n",
              "      <button class=\"colab-df-convert\" onclick=\"convertToInteractive('df-c06dec60-4aa2-474f-ba73-e85246b8baa1')\"\n",
              "              title=\"Convert this dataframe to an interactive table.\"\n",
              "              style=\"display:none;\">\n",
              "        \n",
              "  <svg xmlns=\"http://www.w3.org/2000/svg\" height=\"24px\"viewBox=\"0 0 24 24\"\n",
              "       width=\"24px\">\n",
              "    <path d=\"M0 0h24v24H0V0z\" fill=\"none\"/>\n",
              "    <path d=\"M18.56 5.44l.94 2.06.94-2.06 2.06-.94-2.06-.94-.94-2.06-.94 2.06-2.06.94zm-11 1L8.5 8.5l.94-2.06 2.06-.94-2.06-.94L8.5 2.5l-.94 2.06-2.06.94zm10 10l.94 2.06.94-2.06 2.06-.94-2.06-.94-.94-2.06-.94 2.06-2.06.94z\"/><path d=\"M17.41 7.96l-1.37-1.37c-.4-.4-.92-.59-1.43-.59-.52 0-1.04.2-1.43.59L10.3 9.45l-7.72 7.72c-.78.78-.78 2.05 0 2.83L4 21.41c.39.39.9.59 1.41.59.51 0 1.02-.2 1.41-.59l7.78-7.78 2.81-2.81c.8-.78.8-2.07 0-2.86zM5.41 20L4 18.59l7.72-7.72 1.47 1.35L5.41 20z\"/>\n",
              "  </svg>\n",
              "      </button>\n",
              "      \n",
              "  <style>\n",
              "    .colab-df-container {\n",
              "      display:flex;\n",
              "      flex-wrap:wrap;\n",
              "      gap: 12px;\n",
              "    }\n",
              "\n",
              "    .colab-df-convert {\n",
              "      background-color: #E8F0FE;\n",
              "      border: none;\n",
              "      border-radius: 50%;\n",
              "      cursor: pointer;\n",
              "      display: none;\n",
              "      fill: #1967D2;\n",
              "      height: 32px;\n",
              "      padding: 0 0 0 0;\n",
              "      width: 32px;\n",
              "    }\n",
              "\n",
              "    .colab-df-convert:hover {\n",
              "      background-color: #E2EBFA;\n",
              "      box-shadow: 0px 1px 2px rgba(60, 64, 67, 0.3), 0px 1px 3px 1px rgba(60, 64, 67, 0.15);\n",
              "      fill: #174EA6;\n",
              "    }\n",
              "\n",
              "    [theme=dark] .colab-df-convert {\n",
              "      background-color: #3B4455;\n",
              "      fill: #D2E3FC;\n",
              "    }\n",
              "\n",
              "    [theme=dark] .colab-df-convert:hover {\n",
              "      background-color: #434B5C;\n",
              "      box-shadow: 0px 1px 3px 1px rgba(0, 0, 0, 0.15);\n",
              "      filter: drop-shadow(0px 1px 2px rgba(0, 0, 0, 0.3));\n",
              "      fill: #FFFFFF;\n",
              "    }\n",
              "  </style>\n",
              "\n",
              "      <script>\n",
              "        const buttonEl =\n",
              "          document.querySelector('#df-c06dec60-4aa2-474f-ba73-e85246b8baa1 button.colab-df-convert');\n",
              "        buttonEl.style.display =\n",
              "          google.colab.kernel.accessAllowed ? 'block' : 'none';\n",
              "\n",
              "        async function convertToInteractive(key) {\n",
              "          const element = document.querySelector('#df-c06dec60-4aa2-474f-ba73-e85246b8baa1');\n",
              "          const dataTable =\n",
              "            await google.colab.kernel.invokeFunction('convertToInteractive',\n",
              "                                                     [key], {});\n",
              "          if (!dataTable) return;\n",
              "\n",
              "          const docLinkHtml = 'Like what you see? Visit the ' +\n",
              "            '<a target=\"_blank\" href=https://colab.research.google.com/notebooks/data_table.ipynb>data table notebook</a>'\n",
              "            + ' to learn more about interactive tables.';\n",
              "          element.innerHTML = '';\n",
              "          dataTable['output_type'] = 'display_data';\n",
              "          await google.colab.output.renderOutput(dataTable, element);\n",
              "          const docLink = document.createElement('div');\n",
              "          docLink.innerHTML = docLinkHtml;\n",
              "          element.appendChild(docLink);\n",
              "        }\n",
              "      </script>\n",
              "    </div>\n",
              "  </div>\n",
              "  "
            ]
          },
          "metadata": {},
          "execution_count": 31
        }
      ]
    },
    {
      "cell_type": "markdown",
      "source": [
        "![#c5f015](https://placehold.co/15x15/c5f015/c5f015.png) `The column balance has ~60% of its values missing. What do you think is the best way to handle this data?`"
      ],
      "metadata": {
        "id": "sH3hw6i9tVNj"
      }
    },
    {
      "cell_type": "code",
      "source": [
        "# If you do have some real world knowledge about a variable,\n",
        "# you can use this information when replacing data, \n",
        "# for example, it is likely that the students with missing fee balances have no balance at all\n",
        "# so we can replace with zero, however, when analysing this column keep in mind that you have skewed this data point.\n",
        "\n",
        "df['balance'].replace(np.nan, 0, inplace=True, regex=False) # replaces nan with 0"
      ],
      "metadata": {
        "id": "mFFGlwJOtUNe"
      },
      "execution_count": null,
      "outputs": []
    },
    {
      "cell_type": "code",
      "source": [
        "df.head(2)"
      ],
      "metadata": {
        "colab": {
          "base_uri": "https://localhost:8080/",
          "height": 243
        },
        "id": "A2-B6d-8uxLG",
        "outputId": "cd01dd60-8099-4ef5-887b-c587c6602763"
      },
      "execution_count": null,
      "outputs": [
        {
          "output_type": "execute_result",
          "data": {
            "text/plain": [
              "                   names  admission number balance  english  kiswahili  \\\n",
              "0    JERIEL NDEDA, OBURA           13259.0       0     81.0       39.0   \n",
              "1  MUKUHA TIMOTHY, KAMAU           13243.0       0     85.0       74.0   \n",
              "\n",
              "   mathematics  science  sst/cre Creative Arts music  \n",
              "0         50.0     30.0     59.0           99%   80%  \n",
              "1         68.0     49.0     78.0           38%   86%  "
            ],
            "text/html": [
              "\n",
              "  <div id=\"df-ed877b89-37e8-451a-897b-646823c10862\">\n",
              "    <div class=\"colab-df-container\">\n",
              "      <div>\n",
              "<style scoped>\n",
              "    .dataframe tbody tr th:only-of-type {\n",
              "        vertical-align: middle;\n",
              "    }\n",
              "\n",
              "    .dataframe tbody tr th {\n",
              "        vertical-align: top;\n",
              "    }\n",
              "\n",
              "    .dataframe thead th {\n",
              "        text-align: right;\n",
              "    }\n",
              "</style>\n",
              "<table border=\"1\" class=\"dataframe\">\n",
              "  <thead>\n",
              "    <tr style=\"text-align: right;\">\n",
              "      <th></th>\n",
              "      <th>names</th>\n",
              "      <th>admission number</th>\n",
              "      <th>balance</th>\n",
              "      <th>english</th>\n",
              "      <th>kiswahili</th>\n",
              "      <th>mathematics</th>\n",
              "      <th>science</th>\n",
              "      <th>sst/cre</th>\n",
              "      <th>Creative Arts</th>\n",
              "      <th>music</th>\n",
              "    </tr>\n",
              "  </thead>\n",
              "  <tbody>\n",
              "    <tr>\n",
              "      <th>0</th>\n",
              "      <td>JERIEL NDEDA, OBURA</td>\n",
              "      <td>13259.0</td>\n",
              "      <td>0</td>\n",
              "      <td>81.0</td>\n",
              "      <td>39.0</td>\n",
              "      <td>50.0</td>\n",
              "      <td>30.0</td>\n",
              "      <td>59.0</td>\n",
              "      <td>99%</td>\n",
              "      <td>80%</td>\n",
              "    </tr>\n",
              "    <tr>\n",
              "      <th>1</th>\n",
              "      <td>MUKUHA TIMOTHY, KAMAU</td>\n",
              "      <td>13243.0</td>\n",
              "      <td>0</td>\n",
              "      <td>85.0</td>\n",
              "      <td>74.0</td>\n",
              "      <td>68.0</td>\n",
              "      <td>49.0</td>\n",
              "      <td>78.0</td>\n",
              "      <td>38%</td>\n",
              "      <td>86%</td>\n",
              "    </tr>\n",
              "  </tbody>\n",
              "</table>\n",
              "</div>\n",
              "      <button class=\"colab-df-convert\" onclick=\"convertToInteractive('df-ed877b89-37e8-451a-897b-646823c10862')\"\n",
              "              title=\"Convert this dataframe to an interactive table.\"\n",
              "              style=\"display:none;\">\n",
              "        \n",
              "  <svg xmlns=\"http://www.w3.org/2000/svg\" height=\"24px\"viewBox=\"0 0 24 24\"\n",
              "       width=\"24px\">\n",
              "    <path d=\"M0 0h24v24H0V0z\" fill=\"none\"/>\n",
              "    <path d=\"M18.56 5.44l.94 2.06.94-2.06 2.06-.94-2.06-.94-.94-2.06-.94 2.06-2.06.94zm-11 1L8.5 8.5l.94-2.06 2.06-.94-2.06-.94L8.5 2.5l-.94 2.06-2.06.94zm10 10l.94 2.06.94-2.06 2.06-.94-2.06-.94-.94-2.06-.94 2.06-2.06.94z\"/><path d=\"M17.41 7.96l-1.37-1.37c-.4-.4-.92-.59-1.43-.59-.52 0-1.04.2-1.43.59L10.3 9.45l-7.72 7.72c-.78.78-.78 2.05 0 2.83L4 21.41c.39.39.9.59 1.41.59.51 0 1.02-.2 1.41-.59l7.78-7.78 2.81-2.81c.8-.78.8-2.07 0-2.86zM5.41 20L4 18.59l7.72-7.72 1.47 1.35L5.41 20z\"/>\n",
              "  </svg>\n",
              "      </button>\n",
              "      \n",
              "  <style>\n",
              "    .colab-df-container {\n",
              "      display:flex;\n",
              "      flex-wrap:wrap;\n",
              "      gap: 12px;\n",
              "    }\n",
              "\n",
              "    .colab-df-convert {\n",
              "      background-color: #E8F0FE;\n",
              "      border: none;\n",
              "      border-radius: 50%;\n",
              "      cursor: pointer;\n",
              "      display: none;\n",
              "      fill: #1967D2;\n",
              "      height: 32px;\n",
              "      padding: 0 0 0 0;\n",
              "      width: 32px;\n",
              "    }\n",
              "\n",
              "    .colab-df-convert:hover {\n",
              "      background-color: #E2EBFA;\n",
              "      box-shadow: 0px 1px 2px rgba(60, 64, 67, 0.3), 0px 1px 3px 1px rgba(60, 64, 67, 0.15);\n",
              "      fill: #174EA6;\n",
              "    }\n",
              "\n",
              "    [theme=dark] .colab-df-convert {\n",
              "      background-color: #3B4455;\n",
              "      fill: #D2E3FC;\n",
              "    }\n",
              "\n",
              "    [theme=dark] .colab-df-convert:hover {\n",
              "      background-color: #434B5C;\n",
              "      box-shadow: 0px 1px 3px 1px rgba(0, 0, 0, 0.15);\n",
              "      filter: drop-shadow(0px 1px 2px rgba(0, 0, 0, 0.3));\n",
              "      fill: #FFFFFF;\n",
              "    }\n",
              "  </style>\n",
              "\n",
              "      <script>\n",
              "        const buttonEl =\n",
              "          document.querySelector('#df-ed877b89-37e8-451a-897b-646823c10862 button.colab-df-convert');\n",
              "        buttonEl.style.display =\n",
              "          google.colab.kernel.accessAllowed ? 'block' : 'none';\n",
              "\n",
              "        async function convertToInteractive(key) {\n",
              "          const element = document.querySelector('#df-ed877b89-37e8-451a-897b-646823c10862');\n",
              "          const dataTable =\n",
              "            await google.colab.kernel.invokeFunction('convertToInteractive',\n",
              "                                                     [key], {});\n",
              "          if (!dataTable) return;\n",
              "\n",
              "          const docLinkHtml = 'Like what you see? Visit the ' +\n",
              "            '<a target=\"_blank\" href=https://colab.research.google.com/notebooks/data_table.ipynb>data table notebook</a>'\n",
              "            + ' to learn more about interactive tables.';\n",
              "          element.innerHTML = '';\n",
              "          dataTable['output_type'] = 'display_data';\n",
              "          await google.colab.output.renderOutput(dataTable, element);\n",
              "          const docLink = document.createElement('div');\n",
              "          docLink.innerHTML = docLinkHtml;\n",
              "          element.appendChild(docLink);\n",
              "        }\n",
              "      </script>\n",
              "    </div>\n",
              "  </div>\n",
              "  "
            ]
          },
          "metadata": {},
          "execution_count": 33
        }
      ]
    },
    {
      "cell_type": "markdown",
      "source": [
        "The columns english, **kiswahili, mathematics, science, sst/cre** are numeric columns with a very low perentage of missing values. We can replace them with the mean scores in those subjects."
      ],
      "metadata": {
        "id": "aE6xZLdHxW05"
      }
    },
    {
      "cell_type": "code",
      "source": [
        "# Write a function that replaces nulls with mean simultaneously?\n",
        "df['eng'].fillna()"
      ],
      "metadata": {
        "id": "ZrxPh_opyTzw"
      },
      "execution_count": null,
      "outputs": []
    },
    {
      "cell_type": "code",
      "source": [
        "#@title\n",
        "columns =['english', 'kiswahili', 'mathematics', 'science', 'sst/cre']\n",
        "def fill_numeric_missing(data, cols):\n",
        "    \"\"\"Simple function to replace missing values\"\"\"\n",
        "    for col in cols:\n",
        "        data[col].fillna(data[col].mean(), inplace=True)\n",
        "\n",
        "fill_numeric_missing(df, columns) "
      ],
      "metadata": {
        "id": "UAWaZ_5kxkR-"
      },
      "execution_count": null,
      "outputs": []
    },
    {
      "cell_type": "code",
      "source": [
        "missing_values(df)"
      ],
      "metadata": {
        "colab": {
          "base_uri": "https://localhost:8080/",
          "height": 112
        },
        "id": "0reTjg0_yY0p",
        "outputId": "a0d0f5ef-cab9-4ddd-9333-ee6fe814b73d"
      },
      "execution_count": null,
      "outputs": [
        {
          "output_type": "execute_result",
          "data": {
            "text/plain": [
              "                  Missing Values  Percentage\n",
              "admission number              23    0.156463\n",
              "Creative Arts                  4    0.027211"
            ],
            "text/html": [
              "\n",
              "  <div id=\"df-a17dfecd-5ea4-462c-87dc-00e64f1d7c44\">\n",
              "    <div class=\"colab-df-container\">\n",
              "      <div>\n",
              "<style scoped>\n",
              "    .dataframe tbody tr th:only-of-type {\n",
              "        vertical-align: middle;\n",
              "    }\n",
              "\n",
              "    .dataframe tbody tr th {\n",
              "        vertical-align: top;\n",
              "    }\n",
              "\n",
              "    .dataframe thead th {\n",
              "        text-align: right;\n",
              "    }\n",
              "</style>\n",
              "<table border=\"1\" class=\"dataframe\">\n",
              "  <thead>\n",
              "    <tr style=\"text-align: right;\">\n",
              "      <th></th>\n",
              "      <th>Missing Values</th>\n",
              "      <th>Percentage</th>\n",
              "    </tr>\n",
              "  </thead>\n",
              "  <tbody>\n",
              "    <tr>\n",
              "      <th>admission number</th>\n",
              "      <td>23</td>\n",
              "      <td>0.156463</td>\n",
              "    </tr>\n",
              "    <tr>\n",
              "      <th>Creative Arts</th>\n",
              "      <td>4</td>\n",
              "      <td>0.027211</td>\n",
              "    </tr>\n",
              "  </tbody>\n",
              "</table>\n",
              "</div>\n",
              "      <button class=\"colab-df-convert\" onclick=\"convertToInteractive('df-a17dfecd-5ea4-462c-87dc-00e64f1d7c44')\"\n",
              "              title=\"Convert this dataframe to an interactive table.\"\n",
              "              style=\"display:none;\">\n",
              "        \n",
              "  <svg xmlns=\"http://www.w3.org/2000/svg\" height=\"24px\"viewBox=\"0 0 24 24\"\n",
              "       width=\"24px\">\n",
              "    <path d=\"M0 0h24v24H0V0z\" fill=\"none\"/>\n",
              "    <path d=\"M18.56 5.44l.94 2.06.94-2.06 2.06-.94-2.06-.94-.94-2.06-.94 2.06-2.06.94zm-11 1L8.5 8.5l.94-2.06 2.06-.94-2.06-.94L8.5 2.5l-.94 2.06-2.06.94zm10 10l.94 2.06.94-2.06 2.06-.94-2.06-.94-.94-2.06-.94 2.06-2.06.94z\"/><path d=\"M17.41 7.96l-1.37-1.37c-.4-.4-.92-.59-1.43-.59-.52 0-1.04.2-1.43.59L10.3 9.45l-7.72 7.72c-.78.78-.78 2.05 0 2.83L4 21.41c.39.39.9.59 1.41.59.51 0 1.02-.2 1.41-.59l7.78-7.78 2.81-2.81c.8-.78.8-2.07 0-2.86zM5.41 20L4 18.59l7.72-7.72 1.47 1.35L5.41 20z\"/>\n",
              "  </svg>\n",
              "      </button>\n",
              "      \n",
              "  <style>\n",
              "    .colab-df-container {\n",
              "      display:flex;\n",
              "      flex-wrap:wrap;\n",
              "      gap: 12px;\n",
              "    }\n",
              "\n",
              "    .colab-df-convert {\n",
              "      background-color: #E8F0FE;\n",
              "      border: none;\n",
              "      border-radius: 50%;\n",
              "      cursor: pointer;\n",
              "      display: none;\n",
              "      fill: #1967D2;\n",
              "      height: 32px;\n",
              "      padding: 0 0 0 0;\n",
              "      width: 32px;\n",
              "    }\n",
              "\n",
              "    .colab-df-convert:hover {\n",
              "      background-color: #E2EBFA;\n",
              "      box-shadow: 0px 1px 2px rgba(60, 64, 67, 0.3), 0px 1px 3px 1px rgba(60, 64, 67, 0.15);\n",
              "      fill: #174EA6;\n",
              "    }\n",
              "\n",
              "    [theme=dark] .colab-df-convert {\n",
              "      background-color: #3B4455;\n",
              "      fill: #D2E3FC;\n",
              "    }\n",
              "\n",
              "    [theme=dark] .colab-df-convert:hover {\n",
              "      background-color: #434B5C;\n",
              "      box-shadow: 0px 1px 3px 1px rgba(0, 0, 0, 0.15);\n",
              "      filter: drop-shadow(0px 1px 2px rgba(0, 0, 0, 0.3));\n",
              "      fill: #FFFFFF;\n",
              "    }\n",
              "  </style>\n",
              "\n",
              "      <script>\n",
              "        const buttonEl =\n",
              "          document.querySelector('#df-a17dfecd-5ea4-462c-87dc-00e64f1d7c44 button.colab-df-convert');\n",
              "        buttonEl.style.display =\n",
              "          google.colab.kernel.accessAllowed ? 'block' : 'none';\n",
              "\n",
              "        async function convertToInteractive(key) {\n",
              "          const element = document.querySelector('#df-a17dfecd-5ea4-462c-87dc-00e64f1d7c44');\n",
              "          const dataTable =\n",
              "            await google.colab.kernel.invokeFunction('convertToInteractive',\n",
              "                                                     [key], {});\n",
              "          if (!dataTable) return;\n",
              "\n",
              "          const docLinkHtml = 'Like what you see? Visit the ' +\n",
              "            '<a target=\"_blank\" href=https://colab.research.google.com/notebooks/data_table.ipynb>data table notebook</a>'\n",
              "            + ' to learn more about interactive tables.';\n",
              "          element.innerHTML = '';\n",
              "          dataTable['output_type'] = 'display_data';\n",
              "          await google.colab.output.renderOutput(dataTable, element);\n",
              "          const docLink = document.createElement('div');\n",
              "          docLink.innerHTML = docLinkHtml;\n",
              "          element.appendChild(docLink);\n",
              "        }\n",
              "      </script>\n",
              "    </div>\n",
              "  </div>\n",
              "  "
            ]
          },
          "metadata": {},
          "execution_count": 26
        }
      ]
    },
    {
      "cell_type": "code",
      "source": [
        "# Drop the rows where admission number is missing"
      ],
      "metadata": {
        "id": "ygGo8IZLzF4y"
      },
      "execution_count": null,
      "outputs": []
    },
    {
      "cell_type": "code",
      "source": [
        "#@title\n",
        "# drop along the row using axis = 0\n",
        "# specify the column using subset\n",
        "df.dropna(axis = 0, subset=['admission number'], inplace=True)"
      ],
      "metadata": {
        "id": "bes4qmAtzCh9"
      },
      "execution_count": null,
      "outputs": []
    },
    {
      "cell_type": "code",
      "source": [
        "missing_values(df)"
      ],
      "metadata": {
        "colab": {
          "base_uri": "https://localhost:8080/",
          "height": 80
        },
        "id": "5pTLRPn6zpug",
        "outputId": "d6327345-a652-4c22-ccbb-9ddae23c136e"
      },
      "execution_count": null,
      "outputs": [
        {
          "output_type": "execute_result",
          "data": {
            "text/plain": [
              "               Missing Values  Percentage\n",
              "Creative Arts               4    0.032258"
            ],
            "text/html": [
              "\n",
              "  <div id=\"df-9cf86d69-cf99-4c56-a9f5-f0c36543e215\">\n",
              "    <div class=\"colab-df-container\">\n",
              "      <div>\n",
              "<style scoped>\n",
              "    .dataframe tbody tr th:only-of-type {\n",
              "        vertical-align: middle;\n",
              "    }\n",
              "\n",
              "    .dataframe tbody tr th {\n",
              "        vertical-align: top;\n",
              "    }\n",
              "\n",
              "    .dataframe thead th {\n",
              "        text-align: right;\n",
              "    }\n",
              "</style>\n",
              "<table border=\"1\" class=\"dataframe\">\n",
              "  <thead>\n",
              "    <tr style=\"text-align: right;\">\n",
              "      <th></th>\n",
              "      <th>Missing Values</th>\n",
              "      <th>Percentage</th>\n",
              "    </tr>\n",
              "  </thead>\n",
              "  <tbody>\n",
              "    <tr>\n",
              "      <th>Creative Arts</th>\n",
              "      <td>4</td>\n",
              "      <td>0.032258</td>\n",
              "    </tr>\n",
              "  </tbody>\n",
              "</table>\n",
              "</div>\n",
              "      <button class=\"colab-df-convert\" onclick=\"convertToInteractive('df-9cf86d69-cf99-4c56-a9f5-f0c36543e215')\"\n",
              "              title=\"Convert this dataframe to an interactive table.\"\n",
              "              style=\"display:none;\">\n",
              "        \n",
              "  <svg xmlns=\"http://www.w3.org/2000/svg\" height=\"24px\"viewBox=\"0 0 24 24\"\n",
              "       width=\"24px\">\n",
              "    <path d=\"M0 0h24v24H0V0z\" fill=\"none\"/>\n",
              "    <path d=\"M18.56 5.44l.94 2.06.94-2.06 2.06-.94-2.06-.94-.94-2.06-.94 2.06-2.06.94zm-11 1L8.5 8.5l.94-2.06 2.06-.94-2.06-.94L8.5 2.5l-.94 2.06-2.06.94zm10 10l.94 2.06.94-2.06 2.06-.94-2.06-.94-.94-2.06-.94 2.06-2.06.94z\"/><path d=\"M17.41 7.96l-1.37-1.37c-.4-.4-.92-.59-1.43-.59-.52 0-1.04.2-1.43.59L10.3 9.45l-7.72 7.72c-.78.78-.78 2.05 0 2.83L4 21.41c.39.39.9.59 1.41.59.51 0 1.02-.2 1.41-.59l7.78-7.78 2.81-2.81c.8-.78.8-2.07 0-2.86zM5.41 20L4 18.59l7.72-7.72 1.47 1.35L5.41 20z\"/>\n",
              "  </svg>\n",
              "      </button>\n",
              "      \n",
              "  <style>\n",
              "    .colab-df-container {\n",
              "      display:flex;\n",
              "      flex-wrap:wrap;\n",
              "      gap: 12px;\n",
              "    }\n",
              "\n",
              "    .colab-df-convert {\n",
              "      background-color: #E8F0FE;\n",
              "      border: none;\n",
              "      border-radius: 50%;\n",
              "      cursor: pointer;\n",
              "      display: none;\n",
              "      fill: #1967D2;\n",
              "      height: 32px;\n",
              "      padding: 0 0 0 0;\n",
              "      width: 32px;\n",
              "    }\n",
              "\n",
              "    .colab-df-convert:hover {\n",
              "      background-color: #E2EBFA;\n",
              "      box-shadow: 0px 1px 2px rgba(60, 64, 67, 0.3), 0px 1px 3px 1px rgba(60, 64, 67, 0.15);\n",
              "      fill: #174EA6;\n",
              "    }\n",
              "\n",
              "    [theme=dark] .colab-df-convert {\n",
              "      background-color: #3B4455;\n",
              "      fill: #D2E3FC;\n",
              "    }\n",
              "\n",
              "    [theme=dark] .colab-df-convert:hover {\n",
              "      background-color: #434B5C;\n",
              "      box-shadow: 0px 1px 3px 1px rgba(0, 0, 0, 0.15);\n",
              "      filter: drop-shadow(0px 1px 2px rgba(0, 0, 0, 0.3));\n",
              "      fill: #FFFFFF;\n",
              "    }\n",
              "  </style>\n",
              "\n",
              "      <script>\n",
              "        const buttonEl =\n",
              "          document.querySelector('#df-9cf86d69-cf99-4c56-a9f5-f0c36543e215 button.colab-df-convert');\n",
              "        buttonEl.style.display =\n",
              "          google.colab.kernel.accessAllowed ? 'block' : 'none';\n",
              "\n",
              "        async function convertToInteractive(key) {\n",
              "          const element = document.querySelector('#df-9cf86d69-cf99-4c56-a9f5-f0c36543e215');\n",
              "          const dataTable =\n",
              "            await google.colab.kernel.invokeFunction('convertToInteractive',\n",
              "                                                     [key], {});\n",
              "          if (!dataTable) return;\n",
              "\n",
              "          const docLinkHtml = 'Like what you see? Visit the ' +\n",
              "            '<a target=\"_blank\" href=https://colab.research.google.com/notebooks/data_table.ipynb>data table notebook</a>'\n",
              "            + ' to learn more about interactive tables.';\n",
              "          element.innerHTML = '';\n",
              "          dataTable['output_type'] = 'display_data';\n",
              "          await google.colab.output.renderOutput(dataTable, element);\n",
              "          const docLink = document.createElement('div');\n",
              "          docLink.innerHTML = docLinkHtml;\n",
              "          element.appendChild(docLink);\n",
              "        }\n",
              "      </script>\n",
              "    </div>\n",
              "  </div>\n",
              "  "
            ]
          },
          "metadata": {},
          "execution_count": 28
        }
      ]
    },
    {
      "cell_type": "markdown",
      "source": [
        "Columns creative arts and music have data stored in percentages. This should be numeric, however the percentage sign is restricting the data type to object."
      ],
      "metadata": {
        "id": "IuCVKwqtz2Wr"
      }
    },
    {
      "cell_type": "markdown",
      "metadata": {
        "id": "hwtECi616MzD"
      },
      "source": [
        "### Fix Structural Issues"
      ]
    },
    {
      "cell_type": "code",
      "execution_count": null,
      "metadata": {
        "id": "yl1yVN0K6MzD",
        "outputId": "eb101139-add1-4de7-849e-c125ef3f258b",
        "colab": {
          "base_uri": "https://localhost:8080/",
          "height": 206
        }
      },
      "outputs": [
        {
          "output_type": "execute_result",
          "data": {
            "text/plain": [
              "                   names  admission number balance  english  kiswahili  \\\n",
              "0    JERIEL NDEDA, OBURA           13259.0       0     81.0       39.0   \n",
              "1  MUKUHA TIMOTHY, KAMAU           13243.0       0     85.0       74.0   \n",
              "2             JOB, NGARA           13307.0       0     54.0       49.0   \n",
              "3     CHEGE DAVID, KAMAU           13258.0       0     71.0       97.0   \n",
              "4    RAMADHAN MUSA, TEPO           13363.0       0     40.0       84.0   \n",
              "\n",
              "   mathematics  science  sst/cre Creative Arts music  \n",
              "0         50.0     30.0     59.0            99    80  \n",
              "1         68.0     49.0     78.0            38    86  \n",
              "2         53.0     59.0     72.0            86    62  \n",
              "3         92.0     41.0     81.0            77    80  \n",
              "4         74.0     82.0     89.0            64    46  "
            ],
            "text/html": [
              "\n",
              "  <div id=\"df-83f739b5-75f7-4731-aacb-d7102c3724b1\">\n",
              "    <div class=\"colab-df-container\">\n",
              "      <div>\n",
              "<style scoped>\n",
              "    .dataframe tbody tr th:only-of-type {\n",
              "        vertical-align: middle;\n",
              "    }\n",
              "\n",
              "    .dataframe tbody tr th {\n",
              "        vertical-align: top;\n",
              "    }\n",
              "\n",
              "    .dataframe thead th {\n",
              "        text-align: right;\n",
              "    }\n",
              "</style>\n",
              "<table border=\"1\" class=\"dataframe\">\n",
              "  <thead>\n",
              "    <tr style=\"text-align: right;\">\n",
              "      <th></th>\n",
              "      <th>names</th>\n",
              "      <th>admission number</th>\n",
              "      <th>balance</th>\n",
              "      <th>english</th>\n",
              "      <th>kiswahili</th>\n",
              "      <th>mathematics</th>\n",
              "      <th>science</th>\n",
              "      <th>sst/cre</th>\n",
              "      <th>Creative Arts</th>\n",
              "      <th>music</th>\n",
              "    </tr>\n",
              "  </thead>\n",
              "  <tbody>\n",
              "    <tr>\n",
              "      <th>0</th>\n",
              "      <td>JERIEL NDEDA, OBURA</td>\n",
              "      <td>13259.0</td>\n",
              "      <td>0</td>\n",
              "      <td>81.0</td>\n",
              "      <td>39.0</td>\n",
              "      <td>50.0</td>\n",
              "      <td>30.0</td>\n",
              "      <td>59.0</td>\n",
              "      <td>99</td>\n",
              "      <td>80</td>\n",
              "    </tr>\n",
              "    <tr>\n",
              "      <th>1</th>\n",
              "      <td>MUKUHA TIMOTHY, KAMAU</td>\n",
              "      <td>13243.0</td>\n",
              "      <td>0</td>\n",
              "      <td>85.0</td>\n",
              "      <td>74.0</td>\n",
              "      <td>68.0</td>\n",
              "      <td>49.0</td>\n",
              "      <td>78.0</td>\n",
              "      <td>38</td>\n",
              "      <td>86</td>\n",
              "    </tr>\n",
              "    <tr>\n",
              "      <th>2</th>\n",
              "      <td>JOB, NGARA</td>\n",
              "      <td>13307.0</td>\n",
              "      <td>0</td>\n",
              "      <td>54.0</td>\n",
              "      <td>49.0</td>\n",
              "      <td>53.0</td>\n",
              "      <td>59.0</td>\n",
              "      <td>72.0</td>\n",
              "      <td>86</td>\n",
              "      <td>62</td>\n",
              "    </tr>\n",
              "    <tr>\n",
              "      <th>3</th>\n",
              "      <td>CHEGE DAVID, KAMAU</td>\n",
              "      <td>13258.0</td>\n",
              "      <td>0</td>\n",
              "      <td>71.0</td>\n",
              "      <td>97.0</td>\n",
              "      <td>92.0</td>\n",
              "      <td>41.0</td>\n",
              "      <td>81.0</td>\n",
              "      <td>77</td>\n",
              "      <td>80</td>\n",
              "    </tr>\n",
              "    <tr>\n",
              "      <th>4</th>\n",
              "      <td>RAMADHAN MUSA, TEPO</td>\n",
              "      <td>13363.0</td>\n",
              "      <td>0</td>\n",
              "      <td>40.0</td>\n",
              "      <td>84.0</td>\n",
              "      <td>74.0</td>\n",
              "      <td>82.0</td>\n",
              "      <td>89.0</td>\n",
              "      <td>64</td>\n",
              "      <td>46</td>\n",
              "    </tr>\n",
              "  </tbody>\n",
              "</table>\n",
              "</div>\n",
              "      <button class=\"colab-df-convert\" onclick=\"convertToInteractive('df-83f739b5-75f7-4731-aacb-d7102c3724b1')\"\n",
              "              title=\"Convert this dataframe to an interactive table.\"\n",
              "              style=\"display:none;\">\n",
              "        \n",
              "  <svg xmlns=\"http://www.w3.org/2000/svg\" height=\"24px\"viewBox=\"0 0 24 24\"\n",
              "       width=\"24px\">\n",
              "    <path d=\"M0 0h24v24H0V0z\" fill=\"none\"/>\n",
              "    <path d=\"M18.56 5.44l.94 2.06.94-2.06 2.06-.94-2.06-.94-.94-2.06-.94 2.06-2.06.94zm-11 1L8.5 8.5l.94-2.06 2.06-.94-2.06-.94L8.5 2.5l-.94 2.06-2.06.94zm10 10l.94 2.06.94-2.06 2.06-.94-2.06-.94-.94-2.06-.94 2.06-2.06.94z\"/><path d=\"M17.41 7.96l-1.37-1.37c-.4-.4-.92-.59-1.43-.59-.52 0-1.04.2-1.43.59L10.3 9.45l-7.72 7.72c-.78.78-.78 2.05 0 2.83L4 21.41c.39.39.9.59 1.41.59.51 0 1.02-.2 1.41-.59l7.78-7.78 2.81-2.81c.8-.78.8-2.07 0-2.86zM5.41 20L4 18.59l7.72-7.72 1.47 1.35L5.41 20z\"/>\n",
              "  </svg>\n",
              "      </button>\n",
              "      \n",
              "  <style>\n",
              "    .colab-df-container {\n",
              "      display:flex;\n",
              "      flex-wrap:wrap;\n",
              "      gap: 12px;\n",
              "    }\n",
              "\n",
              "    .colab-df-convert {\n",
              "      background-color: #E8F0FE;\n",
              "      border: none;\n",
              "      border-radius: 50%;\n",
              "      cursor: pointer;\n",
              "      display: none;\n",
              "      fill: #1967D2;\n",
              "      height: 32px;\n",
              "      padding: 0 0 0 0;\n",
              "      width: 32px;\n",
              "    }\n",
              "\n",
              "    .colab-df-convert:hover {\n",
              "      background-color: #E2EBFA;\n",
              "      box-shadow: 0px 1px 2px rgba(60, 64, 67, 0.3), 0px 1px 3px 1px rgba(60, 64, 67, 0.15);\n",
              "      fill: #174EA6;\n",
              "    }\n",
              "\n",
              "    [theme=dark] .colab-df-convert {\n",
              "      background-color: #3B4455;\n",
              "      fill: #D2E3FC;\n",
              "    }\n",
              "\n",
              "    [theme=dark] .colab-df-convert:hover {\n",
              "      background-color: #434B5C;\n",
              "      box-shadow: 0px 1px 3px 1px rgba(0, 0, 0, 0.15);\n",
              "      filter: drop-shadow(0px 1px 2px rgba(0, 0, 0, 0.3));\n",
              "      fill: #FFFFFF;\n",
              "    }\n",
              "  </style>\n",
              "\n",
              "      <script>\n",
              "        const buttonEl =\n",
              "          document.querySelector('#df-83f739b5-75f7-4731-aacb-d7102c3724b1 button.colab-df-convert');\n",
              "        buttonEl.style.display =\n",
              "          google.colab.kernel.accessAllowed ? 'block' : 'none';\n",
              "\n",
              "        async function convertToInteractive(key) {\n",
              "          const element = document.querySelector('#df-83f739b5-75f7-4731-aacb-d7102c3724b1');\n",
              "          const dataTable =\n",
              "            await google.colab.kernel.invokeFunction('convertToInteractive',\n",
              "                                                     [key], {});\n",
              "          if (!dataTable) return;\n",
              "\n",
              "          const docLinkHtml = 'Like what you see? Visit the ' +\n",
              "            '<a target=\"_blank\" href=https://colab.research.google.com/notebooks/data_table.ipynb>data table notebook</a>'\n",
              "            + ' to learn more about interactive tables.';\n",
              "          element.innerHTML = '';\n",
              "          dataTable['output_type'] = 'display_data';\n",
              "          await google.colab.output.renderOutput(dataTable, element);\n",
              "          const docLink = document.createElement('div');\n",
              "          docLink.innerHTML = docLinkHtml;\n",
              "          element.appendChild(docLink);\n",
              "        }\n",
              "      </script>\n",
              "    </div>\n",
              "  </div>\n",
              "  "
            ]
          },
          "metadata": {},
          "execution_count": 29
        }
      ],
      "source": [
        "def remove_character(data, cols, characters):\n",
        "    \"\"\"simple function to remove characters\"\"\"\n",
        "    # loop through the columns\n",
        "    for col in cols:\n",
        "        data[col] = data[col].str.strip(characters)\n",
        "\n",
        "    return data.head()\n",
        "\n",
        "remove_character(df, ['Creative Arts', 'music'], '%')"
      ]
    },
    {
      "cell_type": "markdown",
      "metadata": {
        "id": "aWoCr7WI6MzD"
      },
      "source": [
        "Even after removing the ```%``` sign, we still have to \"explain\" to the computer that this are actually numbers and not characters. \n"
      ]
    },
    {
      "cell_type": "code",
      "execution_count": null,
      "metadata": {
        "id": "VPXTxrZg6MzE",
        "outputId": "419977ff-2f56-47ff-cbcc-5b93adf307b8",
        "colab": {
          "base_uri": "https://localhost:8080/",
          "height": 206
        }
      },
      "outputs": [
        {
          "output_type": "execute_result",
          "data": {
            "text/plain": [
              "                   names  admission number balance  english  kiswahili  \\\n",
              "0    JERIEL NDEDA, OBURA           13259.0       0     81.0       39.0   \n",
              "1  MUKUHA TIMOTHY, KAMAU           13243.0       0     85.0       74.0   \n",
              "2             JOB, NGARA           13307.0       0     54.0       49.0   \n",
              "3     CHEGE DAVID, KAMAU           13258.0       0     71.0       97.0   \n",
              "4    RAMADHAN MUSA, TEPO           13363.0       0     40.0       84.0   \n",
              "\n",
              "   mathematics  science  sst/cre Creative Arts music  \n",
              "0         50.0     30.0     59.0            99    80  \n",
              "1         68.0     49.0     78.0            38    86  \n",
              "2         53.0     59.0     72.0            86    62  \n",
              "3         92.0     41.0     81.0            77    80  \n",
              "4         74.0     82.0     89.0            64    46  "
            ],
            "text/html": [
              "\n",
              "  <div id=\"df-c86508f4-1caa-4064-a92f-d6903f7f54a4\">\n",
              "    <div class=\"colab-df-container\">\n",
              "      <div>\n",
              "<style scoped>\n",
              "    .dataframe tbody tr th:only-of-type {\n",
              "        vertical-align: middle;\n",
              "    }\n",
              "\n",
              "    .dataframe tbody tr th {\n",
              "        vertical-align: top;\n",
              "    }\n",
              "\n",
              "    .dataframe thead th {\n",
              "        text-align: right;\n",
              "    }\n",
              "</style>\n",
              "<table border=\"1\" class=\"dataframe\">\n",
              "  <thead>\n",
              "    <tr style=\"text-align: right;\">\n",
              "      <th></th>\n",
              "      <th>names</th>\n",
              "      <th>admission number</th>\n",
              "      <th>balance</th>\n",
              "      <th>english</th>\n",
              "      <th>kiswahili</th>\n",
              "      <th>mathematics</th>\n",
              "      <th>science</th>\n",
              "      <th>sst/cre</th>\n",
              "      <th>Creative Arts</th>\n",
              "      <th>music</th>\n",
              "    </tr>\n",
              "  </thead>\n",
              "  <tbody>\n",
              "    <tr>\n",
              "      <th>0</th>\n",
              "      <td>JERIEL NDEDA, OBURA</td>\n",
              "      <td>13259.0</td>\n",
              "      <td>0</td>\n",
              "      <td>81.0</td>\n",
              "      <td>39.0</td>\n",
              "      <td>50.0</td>\n",
              "      <td>30.0</td>\n",
              "      <td>59.0</td>\n",
              "      <td>99</td>\n",
              "      <td>80</td>\n",
              "    </tr>\n",
              "    <tr>\n",
              "      <th>1</th>\n",
              "      <td>MUKUHA TIMOTHY, KAMAU</td>\n",
              "      <td>13243.0</td>\n",
              "      <td>0</td>\n",
              "      <td>85.0</td>\n",
              "      <td>74.0</td>\n",
              "      <td>68.0</td>\n",
              "      <td>49.0</td>\n",
              "      <td>78.0</td>\n",
              "      <td>38</td>\n",
              "      <td>86</td>\n",
              "    </tr>\n",
              "    <tr>\n",
              "      <th>2</th>\n",
              "      <td>JOB, NGARA</td>\n",
              "      <td>13307.0</td>\n",
              "      <td>0</td>\n",
              "      <td>54.0</td>\n",
              "      <td>49.0</td>\n",
              "      <td>53.0</td>\n",
              "      <td>59.0</td>\n",
              "      <td>72.0</td>\n",
              "      <td>86</td>\n",
              "      <td>62</td>\n",
              "    </tr>\n",
              "    <tr>\n",
              "      <th>3</th>\n",
              "      <td>CHEGE DAVID, KAMAU</td>\n",
              "      <td>13258.0</td>\n",
              "      <td>0</td>\n",
              "      <td>71.0</td>\n",
              "      <td>97.0</td>\n",
              "      <td>92.0</td>\n",
              "      <td>41.0</td>\n",
              "      <td>81.0</td>\n",
              "      <td>77</td>\n",
              "      <td>80</td>\n",
              "    </tr>\n",
              "    <tr>\n",
              "      <th>4</th>\n",
              "      <td>RAMADHAN MUSA, TEPO</td>\n",
              "      <td>13363.0</td>\n",
              "      <td>0</td>\n",
              "      <td>40.0</td>\n",
              "      <td>84.0</td>\n",
              "      <td>74.0</td>\n",
              "      <td>82.0</td>\n",
              "      <td>89.0</td>\n",
              "      <td>64</td>\n",
              "      <td>46</td>\n",
              "    </tr>\n",
              "  </tbody>\n",
              "</table>\n",
              "</div>\n",
              "      <button class=\"colab-df-convert\" onclick=\"convertToInteractive('df-c86508f4-1caa-4064-a92f-d6903f7f54a4')\"\n",
              "              title=\"Convert this dataframe to an interactive table.\"\n",
              "              style=\"display:none;\">\n",
              "        \n",
              "  <svg xmlns=\"http://www.w3.org/2000/svg\" height=\"24px\"viewBox=\"0 0 24 24\"\n",
              "       width=\"24px\">\n",
              "    <path d=\"M0 0h24v24H0V0z\" fill=\"none\"/>\n",
              "    <path d=\"M18.56 5.44l.94 2.06.94-2.06 2.06-.94-2.06-.94-.94-2.06-.94 2.06-2.06.94zm-11 1L8.5 8.5l.94-2.06 2.06-.94-2.06-.94L8.5 2.5l-.94 2.06-2.06.94zm10 10l.94 2.06.94-2.06 2.06-.94-2.06-.94-.94-2.06-.94 2.06-2.06.94z\"/><path d=\"M17.41 7.96l-1.37-1.37c-.4-.4-.92-.59-1.43-.59-.52 0-1.04.2-1.43.59L10.3 9.45l-7.72 7.72c-.78.78-.78 2.05 0 2.83L4 21.41c.39.39.9.59 1.41.59.51 0 1.02-.2 1.41-.59l7.78-7.78 2.81-2.81c.8-.78.8-2.07 0-2.86zM5.41 20L4 18.59l7.72-7.72 1.47 1.35L5.41 20z\"/>\n",
              "  </svg>\n",
              "      </button>\n",
              "      \n",
              "  <style>\n",
              "    .colab-df-container {\n",
              "      display:flex;\n",
              "      flex-wrap:wrap;\n",
              "      gap: 12px;\n",
              "    }\n",
              "\n",
              "    .colab-df-convert {\n",
              "      background-color: #E8F0FE;\n",
              "      border: none;\n",
              "      border-radius: 50%;\n",
              "      cursor: pointer;\n",
              "      display: none;\n",
              "      fill: #1967D2;\n",
              "      height: 32px;\n",
              "      padding: 0 0 0 0;\n",
              "      width: 32px;\n",
              "    }\n",
              "\n",
              "    .colab-df-convert:hover {\n",
              "      background-color: #E2EBFA;\n",
              "      box-shadow: 0px 1px 2px rgba(60, 64, 67, 0.3), 0px 1px 3px 1px rgba(60, 64, 67, 0.15);\n",
              "      fill: #174EA6;\n",
              "    }\n",
              "\n",
              "    [theme=dark] .colab-df-convert {\n",
              "      background-color: #3B4455;\n",
              "      fill: #D2E3FC;\n",
              "    }\n",
              "\n",
              "    [theme=dark] .colab-df-convert:hover {\n",
              "      background-color: #434B5C;\n",
              "      box-shadow: 0px 1px 3px 1px rgba(0, 0, 0, 0.15);\n",
              "      filter: drop-shadow(0px 1px 2px rgba(0, 0, 0, 0.3));\n",
              "      fill: #FFFFFF;\n",
              "    }\n",
              "  </style>\n",
              "\n",
              "      <script>\n",
              "        const buttonEl =\n",
              "          document.querySelector('#df-c86508f4-1caa-4064-a92f-d6903f7f54a4 button.colab-df-convert');\n",
              "        buttonEl.style.display =\n",
              "          google.colab.kernel.accessAllowed ? 'block' : 'none';\n",
              "\n",
              "        async function convertToInteractive(key) {\n",
              "          const element = document.querySelector('#df-c86508f4-1caa-4064-a92f-d6903f7f54a4');\n",
              "          const dataTable =\n",
              "            await google.colab.kernel.invokeFunction('convertToInteractive',\n",
              "                                                     [key], {});\n",
              "          if (!dataTable) return;\n",
              "\n",
              "          const docLinkHtml = 'Like what you see? Visit the ' +\n",
              "            '<a target=\"_blank\" href=https://colab.research.google.com/notebooks/data_table.ipynb>data table notebook</a>'\n",
              "            + ' to learn more about interactive tables.';\n",
              "          element.innerHTML = '';\n",
              "          dataTable['output_type'] = 'display_data';\n",
              "          await google.colab.output.renderOutput(dataTable, element);\n",
              "          const docLink = document.createElement('div');\n",
              "          docLink.innerHTML = docLinkHtml;\n",
              "          element.appendChild(docLink);\n",
              "        }\n",
              "      </script>\n",
              "    </div>\n",
              "  </div>\n",
              "  "
            ]
          },
          "metadata": {},
          "execution_count": 30
        }
      ],
      "source": [
        "# remove the & sign \n",
        "remove_character(df, ['Creative Arts', 'music'], '&')"
      ]
    },
    {
      "cell_type": "markdown",
      "metadata": {
        "id": "A-X9YZKM6MzF"
      },
      "source": [
        "When dealing with numbers, especially money, we are most likely to add the ```,``` to show thousands, millions etc. In the event we have such data, like in this case the column **balance**, the computer is going to categorize ```14,000``` as a string and not a number."
      ]
    },
    {
      "cell_type": "code",
      "execution_count": null,
      "metadata": {
        "id": "BBO5IU8W6MzG"
      },
      "outputs": [],
      "source": [
        "# remove the , character from balance\n",
        "df['balance'].replace(\",\", \"\", inplace=True, regex=True) # removes ,"
      ]
    },
    {
      "cell_type": "markdown",
      "metadata": {
        "id": "dUbLGzFl6MzG"
      },
      "source": [
        "📝 **Note** - Setting regex as ```True``` since the value we are replacing is a string."
      ]
    },
    {
      "cell_type": "code",
      "execution_count": null,
      "metadata": {
        "id": "n-TlFIMO6MzE",
        "outputId": "bb8eaf92-9b7c-405a-ceb0-4ff02a2fd13d",
        "colab": {
          "base_uri": "https://localhost:8080/"
        }
      },
      "outputs": [
        {
          "output_type": "execute_result",
          "data": {
            "text/plain": [
              "names                object\n",
              "admission number    float64\n",
              "balance              object\n",
              "english             float64\n",
              "kiswahili           float64\n",
              "mathematics         float64\n",
              "science             float64\n",
              "sst/cre             float64\n",
              "Creative Arts        object\n",
              "music                object\n",
              "dtype: object"
            ]
          },
          "metadata": {},
          "execution_count": 32
        }
      ],
      "source": [
        "# data types\n",
        "df.dtypes"
      ]
    },
    {
      "cell_type": "code",
      "execution_count": null,
      "metadata": {
        "id": "DdG27f3x6MzF",
        "outputId": "9ad705a5-9aa1-4ddb-84d8-e6aed660a168",
        "colab": {
          "base_uri": "https://localhost:8080/"
        }
      },
      "outputs": [
        {
          "output_type": "execute_result",
          "data": {
            "text/plain": [
              "names                object\n",
              "admission number    float64\n",
              "balance             float64\n",
              "english             float64\n",
              "kiswahili           float64\n",
              "mathematics         float64\n",
              "science             float64\n",
              "sst/cre             float64\n",
              "Creative Arts       float64\n",
              "music               float64\n",
              "dtype: object"
            ]
          },
          "metadata": {},
          "execution_count": 33
        }
      ],
      "source": [
        "# change data types\n",
        "def change_data_type(data, cols, type):\n",
        "    \"\"\"Simple function to change columns data type\"\"\"\n",
        "    for col in cols:\n",
        "        data[col] = data[col].astype(type) # changes dtypes\n",
        "\n",
        "    return data.dtypes # confirm the data types\n",
        "\n",
        "\n",
        "change_data_type(df, [\"balance\", \"Creative Arts\", \"music\"], 'float')\n"
      ]
    },
    {
      "cell_type": "code",
      "source": [
        "missing_values(df)"
      ],
      "metadata": {
        "colab": {
          "base_uri": "https://localhost:8080/",
          "height": 80
        },
        "id": "xAf7PpWW1-vo",
        "outputId": "b551145a-ee45-4028-f5b3-6253a65ca1ac"
      },
      "execution_count": null,
      "outputs": [
        {
          "output_type": "execute_result",
          "data": {
            "text/plain": [
              "               Missing Values  Percentage\n",
              "Creative Arts               4    0.032258"
            ],
            "text/html": [
              "\n",
              "  <div id=\"df-4d1222da-b7b3-4c53-b710-7c851b222c97\">\n",
              "    <div class=\"colab-df-container\">\n",
              "      <div>\n",
              "<style scoped>\n",
              "    .dataframe tbody tr th:only-of-type {\n",
              "        vertical-align: middle;\n",
              "    }\n",
              "\n",
              "    .dataframe tbody tr th {\n",
              "        vertical-align: top;\n",
              "    }\n",
              "\n",
              "    .dataframe thead th {\n",
              "        text-align: right;\n",
              "    }\n",
              "</style>\n",
              "<table border=\"1\" class=\"dataframe\">\n",
              "  <thead>\n",
              "    <tr style=\"text-align: right;\">\n",
              "      <th></th>\n",
              "      <th>Missing Values</th>\n",
              "      <th>Percentage</th>\n",
              "    </tr>\n",
              "  </thead>\n",
              "  <tbody>\n",
              "    <tr>\n",
              "      <th>Creative Arts</th>\n",
              "      <td>4</td>\n",
              "      <td>0.032258</td>\n",
              "    </tr>\n",
              "  </tbody>\n",
              "</table>\n",
              "</div>\n",
              "      <button class=\"colab-df-convert\" onclick=\"convertToInteractive('df-4d1222da-b7b3-4c53-b710-7c851b222c97')\"\n",
              "              title=\"Convert this dataframe to an interactive table.\"\n",
              "              style=\"display:none;\">\n",
              "        \n",
              "  <svg xmlns=\"http://www.w3.org/2000/svg\" height=\"24px\"viewBox=\"0 0 24 24\"\n",
              "       width=\"24px\">\n",
              "    <path d=\"M0 0h24v24H0V0z\" fill=\"none\"/>\n",
              "    <path d=\"M18.56 5.44l.94 2.06.94-2.06 2.06-.94-2.06-.94-.94-2.06-.94 2.06-2.06.94zm-11 1L8.5 8.5l.94-2.06 2.06-.94-2.06-.94L8.5 2.5l-.94 2.06-2.06.94zm10 10l.94 2.06.94-2.06 2.06-.94-2.06-.94-.94-2.06-.94 2.06-2.06.94z\"/><path d=\"M17.41 7.96l-1.37-1.37c-.4-.4-.92-.59-1.43-.59-.52 0-1.04.2-1.43.59L10.3 9.45l-7.72 7.72c-.78.78-.78 2.05 0 2.83L4 21.41c.39.39.9.59 1.41.59.51 0 1.02-.2 1.41-.59l7.78-7.78 2.81-2.81c.8-.78.8-2.07 0-2.86zM5.41 20L4 18.59l7.72-7.72 1.47 1.35L5.41 20z\"/>\n",
              "  </svg>\n",
              "      </button>\n",
              "      \n",
              "  <style>\n",
              "    .colab-df-container {\n",
              "      display:flex;\n",
              "      flex-wrap:wrap;\n",
              "      gap: 12px;\n",
              "    }\n",
              "\n",
              "    .colab-df-convert {\n",
              "      background-color: #E8F0FE;\n",
              "      border: none;\n",
              "      border-radius: 50%;\n",
              "      cursor: pointer;\n",
              "      display: none;\n",
              "      fill: #1967D2;\n",
              "      height: 32px;\n",
              "      padding: 0 0 0 0;\n",
              "      width: 32px;\n",
              "    }\n",
              "\n",
              "    .colab-df-convert:hover {\n",
              "      background-color: #E2EBFA;\n",
              "      box-shadow: 0px 1px 2px rgba(60, 64, 67, 0.3), 0px 1px 3px 1px rgba(60, 64, 67, 0.15);\n",
              "      fill: #174EA6;\n",
              "    }\n",
              "\n",
              "    [theme=dark] .colab-df-convert {\n",
              "      background-color: #3B4455;\n",
              "      fill: #D2E3FC;\n",
              "    }\n",
              "\n",
              "    [theme=dark] .colab-df-convert:hover {\n",
              "      background-color: #434B5C;\n",
              "      box-shadow: 0px 1px 3px 1px rgba(0, 0, 0, 0.15);\n",
              "      filter: drop-shadow(0px 1px 2px rgba(0, 0, 0, 0.3));\n",
              "      fill: #FFFFFF;\n",
              "    }\n",
              "  </style>\n",
              "\n",
              "      <script>\n",
              "        const buttonEl =\n",
              "          document.querySelector('#df-4d1222da-b7b3-4c53-b710-7c851b222c97 button.colab-df-convert');\n",
              "        buttonEl.style.display =\n",
              "          google.colab.kernel.accessAllowed ? 'block' : 'none';\n",
              "\n",
              "        async function convertToInteractive(key) {\n",
              "          const element = document.querySelector('#df-4d1222da-b7b3-4c53-b710-7c851b222c97');\n",
              "          const dataTable =\n",
              "            await google.colab.kernel.invokeFunction('convertToInteractive',\n",
              "                                                     [key], {});\n",
              "          if (!dataTable) return;\n",
              "\n",
              "          const docLinkHtml = 'Like what you see? Visit the ' +\n",
              "            '<a target=\"_blank\" href=https://colab.research.google.com/notebooks/data_table.ipynb>data table notebook</a>'\n",
              "            + ' to learn more about interactive tables.';\n",
              "          element.innerHTML = '';\n",
              "          dataTable['output_type'] = 'display_data';\n",
              "          await google.colab.output.renderOutput(dataTable, element);\n",
              "          const docLink = document.createElement('div');\n",
              "          docLink.innerHTML = docLinkHtml;\n",
              "          element.appendChild(docLink);\n",
              "        }\n",
              "      </script>\n",
              "    </div>\n",
              "  </div>\n",
              "  "
            ]
          },
          "metadata": {},
          "execution_count": 34
        }
      ]
    },
    {
      "cell_type": "code",
      "source": [
        "# specify the column using subset\n",
        "df.dropna(axis = 0, subset=['Creative Arts'], inplace=True)\n",
        "missing_values(df)"
      ],
      "metadata": {
        "colab": {
          "base_uri": "https://localhost:8080/",
          "height": 49
        },
        "id": "jIddyaeo2Bmq",
        "outputId": "7b8b3eb1-eee1-492c-ae1f-1184d059635f"
      },
      "execution_count": null,
      "outputs": [
        {
          "output_type": "execute_result",
          "data": {
            "text/plain": [
              "Empty DataFrame\n",
              "Columns: [Missing Values, Percentage]\n",
              "Index: []"
            ],
            "text/html": [
              "\n",
              "  <div id=\"df-80c409b2-0048-415e-b954-9b6efd9ded65\">\n",
              "    <div class=\"colab-df-container\">\n",
              "      <div>\n",
              "<style scoped>\n",
              "    .dataframe tbody tr th:only-of-type {\n",
              "        vertical-align: middle;\n",
              "    }\n",
              "\n",
              "    .dataframe tbody tr th {\n",
              "        vertical-align: top;\n",
              "    }\n",
              "\n",
              "    .dataframe thead th {\n",
              "        text-align: right;\n",
              "    }\n",
              "</style>\n",
              "<table border=\"1\" class=\"dataframe\">\n",
              "  <thead>\n",
              "    <tr style=\"text-align: right;\">\n",
              "      <th></th>\n",
              "      <th>Missing Values</th>\n",
              "      <th>Percentage</th>\n",
              "    </tr>\n",
              "  </thead>\n",
              "  <tbody>\n",
              "  </tbody>\n",
              "</table>\n",
              "</div>\n",
              "      <button class=\"colab-df-convert\" onclick=\"convertToInteractive('df-80c409b2-0048-415e-b954-9b6efd9ded65')\"\n",
              "              title=\"Convert this dataframe to an interactive table.\"\n",
              "              style=\"display:none;\">\n",
              "        \n",
              "  <svg xmlns=\"http://www.w3.org/2000/svg\" height=\"24px\"viewBox=\"0 0 24 24\"\n",
              "       width=\"24px\">\n",
              "    <path d=\"M0 0h24v24H0V0z\" fill=\"none\"/>\n",
              "    <path d=\"M18.56 5.44l.94 2.06.94-2.06 2.06-.94-2.06-.94-.94-2.06-.94 2.06-2.06.94zm-11 1L8.5 8.5l.94-2.06 2.06-.94-2.06-.94L8.5 2.5l-.94 2.06-2.06.94zm10 10l.94 2.06.94-2.06 2.06-.94-2.06-.94-.94-2.06-.94 2.06-2.06.94z\"/><path d=\"M17.41 7.96l-1.37-1.37c-.4-.4-.92-.59-1.43-.59-.52 0-1.04.2-1.43.59L10.3 9.45l-7.72 7.72c-.78.78-.78 2.05 0 2.83L4 21.41c.39.39.9.59 1.41.59.51 0 1.02-.2 1.41-.59l7.78-7.78 2.81-2.81c.8-.78.8-2.07 0-2.86zM5.41 20L4 18.59l7.72-7.72 1.47 1.35L5.41 20z\"/>\n",
              "  </svg>\n",
              "      </button>\n",
              "      \n",
              "  <style>\n",
              "    .colab-df-container {\n",
              "      display:flex;\n",
              "      flex-wrap:wrap;\n",
              "      gap: 12px;\n",
              "    }\n",
              "\n",
              "    .colab-df-convert {\n",
              "      background-color: #E8F0FE;\n",
              "      border: none;\n",
              "      border-radius: 50%;\n",
              "      cursor: pointer;\n",
              "      display: none;\n",
              "      fill: #1967D2;\n",
              "      height: 32px;\n",
              "      padding: 0 0 0 0;\n",
              "      width: 32px;\n",
              "    }\n",
              "\n",
              "    .colab-df-convert:hover {\n",
              "      background-color: #E2EBFA;\n",
              "      box-shadow: 0px 1px 2px rgba(60, 64, 67, 0.3), 0px 1px 3px 1px rgba(60, 64, 67, 0.15);\n",
              "      fill: #174EA6;\n",
              "    }\n",
              "\n",
              "    [theme=dark] .colab-df-convert {\n",
              "      background-color: #3B4455;\n",
              "      fill: #D2E3FC;\n",
              "    }\n",
              "\n",
              "    [theme=dark] .colab-df-convert:hover {\n",
              "      background-color: #434B5C;\n",
              "      box-shadow: 0px 1px 3px 1px rgba(0, 0, 0, 0.15);\n",
              "      filter: drop-shadow(0px 1px 2px rgba(0, 0, 0, 0.3));\n",
              "      fill: #FFFFFF;\n",
              "    }\n",
              "  </style>\n",
              "\n",
              "      <script>\n",
              "        const buttonEl =\n",
              "          document.querySelector('#df-80c409b2-0048-415e-b954-9b6efd9ded65 button.colab-df-convert');\n",
              "        buttonEl.style.display =\n",
              "          google.colab.kernel.accessAllowed ? 'block' : 'none';\n",
              "\n",
              "        async function convertToInteractive(key) {\n",
              "          const element = document.querySelector('#df-80c409b2-0048-415e-b954-9b6efd9ded65');\n",
              "          const dataTable =\n",
              "            await google.colab.kernel.invokeFunction('convertToInteractive',\n",
              "                                                     [key], {});\n",
              "          if (!dataTable) return;\n",
              "\n",
              "          const docLinkHtml = 'Like what you see? Visit the ' +\n",
              "            '<a target=\"_blank\" href=https://colab.research.google.com/notebooks/data_table.ipynb>data table notebook</a>'\n",
              "            + ' to learn more about interactive tables.';\n",
              "          element.innerHTML = '';\n",
              "          dataTable['output_type'] = 'display_data';\n",
              "          await google.colab.output.renderOutput(dataTable, element);\n",
              "          const docLink = document.createElement('div');\n",
              "          docLink.innerHTML = docLinkHtml;\n",
              "          element.appendChild(docLink);\n",
              "        }\n",
              "      </script>\n",
              "    </div>\n",
              "  </div>\n",
              "  "
            ]
          },
          "metadata": {},
          "execution_count": 35
        }
      ]
    },
    {
      "cell_type": "markdown",
      "metadata": {
        "id": "jXFIoBHq6My9"
      },
      "source": [
        "### Removal of Duplicate and Unwanted Observations\n",
        "\n",
        "* **Duplicated Entries** - Complete carbon copy of rows or column values. \n",
        "* **Unwanted observations** - Irrelevant data records that don’t actually fit the specific problem you are trying to analyze or solve"
      ]
    },
    {
      "cell_type": "code",
      "source": [
        "# Identify duplicate data\n",
        "duplicate_rows = df[df.duplicated()]\n",
        "duplicate_rows"
      ],
      "metadata": {
        "colab": {
          "base_uri": "https://localhost:8080/",
          "height": 300
        },
        "id": "6bFj5Nsa2qvk",
        "outputId": "5ab6b8f8-7649-4ba8-c4f0-905340f27393"
      },
      "execution_count": null,
      "outputs": [
        {
          "output_type": "execute_result",
          "data": {
            "text/plain": [
              "                     names  admission number  balance  english  kiswahili  \\\n",
              "62    MSHINDI DANIEL, OUMA           13367.0  24463.0     78.0       29.0   \n",
              "88   MUENDO CICILY, MUTHEU           13283.0      0.0     43.0       60.0   \n",
              "100    JERIEL NDEDA, OBURA           13259.0      0.0     81.0       39.0   \n",
              "101  MUKUHA TIMOTHY, KAMAU           13243.0      0.0     85.0       74.0   \n",
              "102             JOB, NGARA           13307.0      0.0     54.0       49.0   \n",
              "103     CHEGE DAVID, KAMAU           13258.0      0.0     71.0       97.0   \n",
              "104    RAMADHAN MUSA, TEPO           13363.0      0.0     40.0       84.0   \n",
              "105  MUENDO CICILY, MUTHEU           13283.0      0.0     43.0       60.0   \n",
              "\n",
              "     mathematics  science  sst/cre  Creative Arts  music  \n",
              "62          50.0     62.0     50.0           86.0   53.0  \n",
              "88          48.0     94.0     97.0           69.0   45.0  \n",
              "100         50.0     30.0     59.0           99.0   80.0  \n",
              "101         68.0     49.0     78.0           38.0   86.0  \n",
              "102         53.0     59.0     72.0           86.0   62.0  \n",
              "103         92.0     41.0     81.0           77.0   80.0  \n",
              "104         74.0     82.0     89.0           64.0   46.0  \n",
              "105         48.0     94.0     97.0           69.0   45.0  "
            ],
            "text/html": [
              "\n",
              "  <div id=\"df-21207dda-827d-4810-bd62-08514a66b51a\">\n",
              "    <div class=\"colab-df-container\">\n",
              "      <div>\n",
              "<style scoped>\n",
              "    .dataframe tbody tr th:only-of-type {\n",
              "        vertical-align: middle;\n",
              "    }\n",
              "\n",
              "    .dataframe tbody tr th {\n",
              "        vertical-align: top;\n",
              "    }\n",
              "\n",
              "    .dataframe thead th {\n",
              "        text-align: right;\n",
              "    }\n",
              "</style>\n",
              "<table border=\"1\" class=\"dataframe\">\n",
              "  <thead>\n",
              "    <tr style=\"text-align: right;\">\n",
              "      <th></th>\n",
              "      <th>names</th>\n",
              "      <th>admission number</th>\n",
              "      <th>balance</th>\n",
              "      <th>english</th>\n",
              "      <th>kiswahili</th>\n",
              "      <th>mathematics</th>\n",
              "      <th>science</th>\n",
              "      <th>sst/cre</th>\n",
              "      <th>Creative Arts</th>\n",
              "      <th>music</th>\n",
              "    </tr>\n",
              "  </thead>\n",
              "  <tbody>\n",
              "    <tr>\n",
              "      <th>62</th>\n",
              "      <td>MSHINDI DANIEL, OUMA</td>\n",
              "      <td>13367.0</td>\n",
              "      <td>24463.0</td>\n",
              "      <td>78.0</td>\n",
              "      <td>29.0</td>\n",
              "      <td>50.0</td>\n",
              "      <td>62.0</td>\n",
              "      <td>50.0</td>\n",
              "      <td>86.0</td>\n",
              "      <td>53.0</td>\n",
              "    </tr>\n",
              "    <tr>\n",
              "      <th>88</th>\n",
              "      <td>MUENDO CICILY, MUTHEU</td>\n",
              "      <td>13283.0</td>\n",
              "      <td>0.0</td>\n",
              "      <td>43.0</td>\n",
              "      <td>60.0</td>\n",
              "      <td>48.0</td>\n",
              "      <td>94.0</td>\n",
              "      <td>97.0</td>\n",
              "      <td>69.0</td>\n",
              "      <td>45.0</td>\n",
              "    </tr>\n",
              "    <tr>\n",
              "      <th>100</th>\n",
              "      <td>JERIEL NDEDA, OBURA</td>\n",
              "      <td>13259.0</td>\n",
              "      <td>0.0</td>\n",
              "      <td>81.0</td>\n",
              "      <td>39.0</td>\n",
              "      <td>50.0</td>\n",
              "      <td>30.0</td>\n",
              "      <td>59.0</td>\n",
              "      <td>99.0</td>\n",
              "      <td>80.0</td>\n",
              "    </tr>\n",
              "    <tr>\n",
              "      <th>101</th>\n",
              "      <td>MUKUHA TIMOTHY, KAMAU</td>\n",
              "      <td>13243.0</td>\n",
              "      <td>0.0</td>\n",
              "      <td>85.0</td>\n",
              "      <td>74.0</td>\n",
              "      <td>68.0</td>\n",
              "      <td>49.0</td>\n",
              "      <td>78.0</td>\n",
              "      <td>38.0</td>\n",
              "      <td>86.0</td>\n",
              "    </tr>\n",
              "    <tr>\n",
              "      <th>102</th>\n",
              "      <td>JOB, NGARA</td>\n",
              "      <td>13307.0</td>\n",
              "      <td>0.0</td>\n",
              "      <td>54.0</td>\n",
              "      <td>49.0</td>\n",
              "      <td>53.0</td>\n",
              "      <td>59.0</td>\n",
              "      <td>72.0</td>\n",
              "      <td>86.0</td>\n",
              "      <td>62.0</td>\n",
              "    </tr>\n",
              "    <tr>\n",
              "      <th>103</th>\n",
              "      <td>CHEGE DAVID, KAMAU</td>\n",
              "      <td>13258.0</td>\n",
              "      <td>0.0</td>\n",
              "      <td>71.0</td>\n",
              "      <td>97.0</td>\n",
              "      <td>92.0</td>\n",
              "      <td>41.0</td>\n",
              "      <td>81.0</td>\n",
              "      <td>77.0</td>\n",
              "      <td>80.0</td>\n",
              "    </tr>\n",
              "    <tr>\n",
              "      <th>104</th>\n",
              "      <td>RAMADHAN MUSA, TEPO</td>\n",
              "      <td>13363.0</td>\n",
              "      <td>0.0</td>\n",
              "      <td>40.0</td>\n",
              "      <td>84.0</td>\n",
              "      <td>74.0</td>\n",
              "      <td>82.0</td>\n",
              "      <td>89.0</td>\n",
              "      <td>64.0</td>\n",
              "      <td>46.0</td>\n",
              "    </tr>\n",
              "    <tr>\n",
              "      <th>105</th>\n",
              "      <td>MUENDO CICILY, MUTHEU</td>\n",
              "      <td>13283.0</td>\n",
              "      <td>0.0</td>\n",
              "      <td>43.0</td>\n",
              "      <td>60.0</td>\n",
              "      <td>48.0</td>\n",
              "      <td>94.0</td>\n",
              "      <td>97.0</td>\n",
              "      <td>69.0</td>\n",
              "      <td>45.0</td>\n",
              "    </tr>\n",
              "  </tbody>\n",
              "</table>\n",
              "</div>\n",
              "      <button class=\"colab-df-convert\" onclick=\"convertToInteractive('df-21207dda-827d-4810-bd62-08514a66b51a')\"\n",
              "              title=\"Convert this dataframe to an interactive table.\"\n",
              "              style=\"display:none;\">\n",
              "        \n",
              "  <svg xmlns=\"http://www.w3.org/2000/svg\" height=\"24px\"viewBox=\"0 0 24 24\"\n",
              "       width=\"24px\">\n",
              "    <path d=\"M0 0h24v24H0V0z\" fill=\"none\"/>\n",
              "    <path d=\"M18.56 5.44l.94 2.06.94-2.06 2.06-.94-2.06-.94-.94-2.06-.94 2.06-2.06.94zm-11 1L8.5 8.5l.94-2.06 2.06-.94-2.06-.94L8.5 2.5l-.94 2.06-2.06.94zm10 10l.94 2.06.94-2.06 2.06-.94-2.06-.94-.94-2.06-.94 2.06-2.06.94z\"/><path d=\"M17.41 7.96l-1.37-1.37c-.4-.4-.92-.59-1.43-.59-.52 0-1.04.2-1.43.59L10.3 9.45l-7.72 7.72c-.78.78-.78 2.05 0 2.83L4 21.41c.39.39.9.59 1.41.59.51 0 1.02-.2 1.41-.59l7.78-7.78 2.81-2.81c.8-.78.8-2.07 0-2.86zM5.41 20L4 18.59l7.72-7.72 1.47 1.35L5.41 20z\"/>\n",
              "  </svg>\n",
              "      </button>\n",
              "      \n",
              "  <style>\n",
              "    .colab-df-container {\n",
              "      display:flex;\n",
              "      flex-wrap:wrap;\n",
              "      gap: 12px;\n",
              "    }\n",
              "\n",
              "    .colab-df-convert {\n",
              "      background-color: #E8F0FE;\n",
              "      border: none;\n",
              "      border-radius: 50%;\n",
              "      cursor: pointer;\n",
              "      display: none;\n",
              "      fill: #1967D2;\n",
              "      height: 32px;\n",
              "      padding: 0 0 0 0;\n",
              "      width: 32px;\n",
              "    }\n",
              "\n",
              "    .colab-df-convert:hover {\n",
              "      background-color: #E2EBFA;\n",
              "      box-shadow: 0px 1px 2px rgba(60, 64, 67, 0.3), 0px 1px 3px 1px rgba(60, 64, 67, 0.15);\n",
              "      fill: #174EA6;\n",
              "    }\n",
              "\n",
              "    [theme=dark] .colab-df-convert {\n",
              "      background-color: #3B4455;\n",
              "      fill: #D2E3FC;\n",
              "    }\n",
              "\n",
              "    [theme=dark] .colab-df-convert:hover {\n",
              "      background-color: #434B5C;\n",
              "      box-shadow: 0px 1px 3px 1px rgba(0, 0, 0, 0.15);\n",
              "      filter: drop-shadow(0px 1px 2px rgba(0, 0, 0, 0.3));\n",
              "      fill: #FFFFFF;\n",
              "    }\n",
              "  </style>\n",
              "\n",
              "      <script>\n",
              "        const buttonEl =\n",
              "          document.querySelector('#df-21207dda-827d-4810-bd62-08514a66b51a button.colab-df-convert');\n",
              "        buttonEl.style.display =\n",
              "          google.colab.kernel.accessAllowed ? 'block' : 'none';\n",
              "\n",
              "        async function convertToInteractive(key) {\n",
              "          const element = document.querySelector('#df-21207dda-827d-4810-bd62-08514a66b51a');\n",
              "          const dataTable =\n",
              "            await google.colab.kernel.invokeFunction('convertToInteractive',\n",
              "                                                     [key], {});\n",
              "          if (!dataTable) return;\n",
              "\n",
              "          const docLinkHtml = 'Like what you see? Visit the ' +\n",
              "            '<a target=\"_blank\" href=https://colab.research.google.com/notebooks/data_table.ipynb>data table notebook</a>'\n",
              "            + ' to learn more about interactive tables.';\n",
              "          element.innerHTML = '';\n",
              "          dataTable['output_type'] = 'display_data';\n",
              "          await google.colab.output.renderOutput(dataTable, element);\n",
              "          const docLink = document.createElement('div');\n",
              "          docLink.innerHTML = docLinkHtml;\n",
              "          element.appendChild(docLink);\n",
              "        }\n",
              "      </script>\n",
              "    </div>\n",
              "  </div>\n",
              "  "
            ]
          },
          "metadata": {},
          "execution_count": 36
        }
      ]
    },
    {
      "cell_type": "code",
      "source": [
        "# Useful addition:\n",
        "df.duplicated().sum() #counts duplicated data"
      ],
      "metadata": {
        "colab": {
          "base_uri": "https://localhost:8080/"
        },
        "id": "6hH7TWjzEphn",
        "outputId": "15d07d97-2579-4315-8af7-4d28459dc940"
      },
      "execution_count": null,
      "outputs": [
        {
          "output_type": "execute_result",
          "data": {
            "text/plain": [
              "8"
            ]
          },
          "metadata": {},
          "execution_count": 37
        }
      ]
    },
    {
      "cell_type": "code",
      "source": [
        "# Also, if you want to be specific to a row:\n",
        "df.duplicated(['names', 'admission number']).sum()"
      ],
      "metadata": {
        "colab": {
          "base_uri": "https://localhost:8080/"
        },
        "id": "ToBhGnFOFAvf",
        "outputId": "9876918e-c6a6-4bda-96e2-f1a9777da781"
      },
      "execution_count": null,
      "outputs": [
        {
          "output_type": "execute_result",
          "data": {
            "text/plain": [
              "8"
            ]
          },
          "metadata": {},
          "execution_count": 38
        }
      ]
    },
    {
      "cell_type": "code",
      "source": [
        "print(df.duplicated(['admission number']).sum())\n",
        "print(df.duplicated(['admission number']).sum()/df.shape[0])"
      ],
      "metadata": {
        "colab": {
          "base_uri": "https://localhost:8080/"
        },
        "id": "N2Q2BOozGTWc",
        "outputId": "73d4782d-064d-4164-c9e2-d399bf68ecc5"
      },
      "execution_count": null,
      "outputs": [
        {
          "output_type": "stream",
          "name": "stdout",
          "text": [
            "32\n",
            "0.26666666666666666\n"
          ]
        }
      ]
    },
    {
      "cell_type": "markdown",
      "source": [
        "We handle duplicates in two ways:\n",
        "\n",
        "1. Removing duplicates\n",
        "2. Keeping them\n",
        "\n",
        "This is dependent on the amount and type of data."
      ],
      "metadata": {
        "id": "IHnaBbOIFwO_"
      }
    },
    {
      "cell_type": "markdown",
      "source": [
        "From above, we can clearly point out that 24 students have the same admission number, which practically is not possible as each student is required to have a unique admission number. What do you think you should do?"
      ],
      "metadata": {
        "id": "9Xiceh3xGoed"
      }
    },
    {
      "cell_type": "code",
      "execution_count": null,
      "metadata": {
        "id": "vt2mPkvg6My-",
        "outputId": "90f64e6e-8b2c-4893-e13f-40d8e05ad2dd",
        "colab": {
          "base_uri": "https://localhost:8080/"
        }
      },
      "outputs": [
        {
          "output_type": "execute_result",
          "data": {
            "text/plain": [
              "0"
            ]
          },
          "metadata": {},
          "execution_count": 40
        }
      ],
      "source": [
        "# handling the duplicates \n",
        "# remove duplicated rows\n",
        "df.drop_duplicates(subset=None, keep=\"first\", inplace=True)\n",
        "df.duplicated().sum() "
      ]
    },
    {
      "cell_type": "markdown",
      "metadata": {
        "id": "q_zNV0PW6MzH"
      },
      "source": [
        "### Outliers\n",
        "\n",
        "![outliers](https://www.researchgate.net/publication/10633674/figure/fig5/AS:267602974998545@1440812929396/A-normal-distribution-with-outliers-showing-the-relative-positions-of-the-mean-median_Q640.jpg)\n",
        "\n",
        "Outliers are extreme data points that vary immensely from the other points. They are the hardest to detect using ones eye among other data inaccuracies within the data in the sense that they are often of the same type as the other observations. Therefore, it is important to understand that just because they exist, doesn’t mean they are incorrect and as such, there should be a valid reason to remove these data points.\n",
        "\n",
        "Because of the data that we have we are going to use \"unconventional\" techniques to handle this outliers.\n",
        "\n",
        "```Z-score``` and ```IQR``` are common techniques used for identifying and removing outliers. However, ```boxplot``` are the easiest to utilise when visualizing outliers.\n",
        "\n",
        "Understanding boxplots:\n",
        "![boxplot](https://justinsighting.com/wp-content/uploads/2016/12/boxplot-description.png)\n",
        "\n",
        "📝 _Just because they exist, doesn't mean they are wrong_.\n"
      ]
    },
    {
      "cell_type": "code",
      "execution_count": null,
      "metadata": {
        "id": "YsCzl-Jg6MzI",
        "outputId": "4dee9c02-ab67-4387-c36c-e508cc794039",
        "colab": {
          "base_uri": "https://localhost:8080/",
          "height": 282
        }
      },
      "outputs": [
        {
          "output_type": "execute_result",
          "data": {
            "text/plain": [
              "<matplotlib.axes._subplots.AxesSubplot at 0x7fe455cf71c0>"
            ]
          },
          "metadata": {},
          "execution_count": 44
        },
        {
          "output_type": "display_data",
          "data": {
            "text/plain": [
              "<Figure size 432x288 with 1 Axes>"
            ],
            "image/png": "[encoded data removed]"
          },
          "metadata": {
            "needs_background": "light"
          }
        }
      ],
      "source": [
        "# we can also use a box plot to identify outliers\n",
        "scores_columns = ['english', 'kiswahili', 'mathematics', 'science', 'sst/cre', 'Creative Arts', 'music']\n",
        "df.boxplot(column=scores_columns)  "
      ]
    },
    {
      "cell_type": "code",
      "source": [
        "# More precisely, we can visualize using one column\n",
        "df.boxplot(column='english')  "
      ],
      "metadata": {
        "colab": {
          "base_uri": "https://localhost:8080/",
          "height": 282
        },
        "id": "s9serUEsHOS7",
        "outputId": "5764688e-8076-47a6-8837-f29dfd03d0e9"
      },
      "execution_count": null,
      "outputs": [
        {
          "output_type": "execute_result",
          "data": {
            "text/plain": [
              "<matplotlib.axes._subplots.AxesSubplot at 0x7f2d38122af0>"
            ]
          },
          "metadata": {},
          "execution_count": 29
        },
        {
          "output_type": "display_data",
          "data": {
            "text/plain": [
              "<Figure size 432x288 with 1 Axes>"
            ],
            "image/png": "[encoded data removed]"
          },
          "metadata": {
            "needs_background": "light"
          }
        }
      ]
    },
    {
      "cell_type": "code",
      "execution_count": null,
      "metadata": {
        "id": "C7Wn0wuG6MzI",
        "outputId": "85fee09b-28fb-4efd-9534-8413a9f22812",
        "colab": {
          "base_uri": "https://localhost:8080/"
        }
      },
      "outputs": [
        {
          "output_type": "execute_result",
          "data": {
            "text/plain": [
              "[-78.0, 508.0]"
            ]
          },
          "metadata": {},
          "execution_count": 41
        }
      ],
      "source": [
        "# Getting outliers\n",
        "def IQR_outliers(data, column):\n",
        "    \"\"\"Simple function to identify and remove outliers using IQR\"\"\"\n",
        "    # get Q1 and Q2\n",
        "    Q1 = data[column].quantile(0.25)\n",
        "    Q3 = data[column].quantile(0.75)\n",
        "    # calculate IQR\n",
        "    IQR = Q3-Q1\n",
        "    # identify ouliers (returns True if an outlier)\n",
        "    out = ((data[column]<(Q1-1.5*IQR)) | (data[column]>(Q3+1.5*IQR)))\n",
        "\n",
        "    # identify the outlier using index\n",
        "    outliers_list = list(out[out==True].index)\n",
        "    # identify the actual outliers using index\n",
        "    outliers = []\n",
        "    for val in outliers_list:\n",
        "        outliers.append(data[column][val])\n",
        "\n",
        "    \n",
        "    return outliers, Q1, Q3, IQR\n",
        "\n",
        "\n",
        "english_outliers = IQR_outliers(df, \"english\")\n",
        "english_outliers[0]"
      ]
    },
    {
      "cell_type": "code",
      "execution_count": null,
      "metadata": {
        "id": "To252ZgF6MzJ"
      },
      "outputs": [],
      "source": [
        "# Dealing with outliers using IQR\n",
        "def IQR_remove_outliers(data, column):\n",
        "    \"\"\"Simple function to remove the ouliers\"\"\"\n",
        "    # get values from previous function \n",
        "    identify = IQR_outliers(data, column)\n",
        "    Q1 = identify[1]\n",
        "    Q3 = identify[2]\n",
        "    IQR = identify[3]\n",
        "    # remove the outliers\n",
        "    df = data[~((data[column]<(Q1-1.5*IQR)) | (data[column]>(Q3+1.5*IQR)))]\n",
        "\n",
        "    return df"
      ]
    },
    {
      "cell_type": "code",
      "source": [
        "# Removing simultaneously\n",
        "for i in scores_columns:\n",
        "  df = IQR_remove_outliers(df, i)"
      ],
      "metadata": {
        "id": "fvp7yhS4IJp_"
      },
      "execution_count": null,
      "outputs": []
    },
    {
      "cell_type": "code",
      "execution_count": null,
      "metadata": {
        "id": "C9wco38j6MzJ",
        "outputId": "2cad0d49-3708-466a-da59-0daca79248f8",
        "colab": {
          "base_uri": "https://localhost:8080/",
          "height": 282
        }
      },
      "outputs": [
        {
          "output_type": "execute_result",
          "data": {
            "text/plain": [
              "<matplotlib.axes._subplots.AxesSubplot at 0x7fe455c1e910>"
            ]
          },
          "metadata": {},
          "execution_count": 46
        },
        {
          "output_type": "display_data",
          "data": {
            "text/plain": [
              "<Figure size 432x288 with 1 Axes>"
            ],
            "image/png": "[encoded data removed]"
          },
          "metadata": {
            "needs_background": "light"
          }
        }
      ],
      "source": [
        "# confirm using a box plot\n",
        "df.boxplot(column=scores_columns)  "
      ]
    },
    {
      "cell_type": "markdown",
      "metadata": {
        "id": "zxse_NQx6MzP"
      },
      "source": [
        "As much as the above balances are categorised as outliers, its practically possible to have such balances since they are not that extreme.\n",
        "\n",
        "Do you think we should remove them?"
      ]
    },
    {
      "cell_type": "markdown",
      "metadata": {
        "id": "gbInc3656MzP"
      },
      "source": [
        "What happens when the data is normally distributed?\n",
        "\n",
        "In this scenario, we can determine the quartile from mean and median.\n",
        "\n",
        "```Q1 = mean - 0.675 * stdev```\n",
        "```Q3 = mean + 0.675 * stdev```\n",
        "\n",
        "```Upper Limit = Q3 + 1.5 * IQR = mean + 2.7 * stdev```\n",
        "```Lower Limit = Q1 - 1.5 * IQR = mean - 2.7 * stdev```\n",
        "\n",
        "Alternatively, we can use the Z-score, preferably when the data is normally distributed."
      ]
    },
    {
      "cell_type": "markdown",
      "metadata": {
        "id": "FSglRgSz6MzQ"
      },
      "source": [
        "### Final Data"
      ]
    },
    {
      "cell_type": "code",
      "execution_count": null,
      "metadata": {
        "id": "ILUPeDab6MzQ",
        "outputId": "7205f662-3147-4514-c521-f2af8993bf3b",
        "colab": {
          "base_uri": "https://localhost:8080/",
          "height": 206
        }
      },
      "outputs": [
        {
          "output_type": "execute_result",
          "data": {
            "text/plain": [
              "                   names  admission number  balance  english  kiswahili  \\\n",
              "0    JERIEL NDEDA, OBURA           13259.0      0.0     81.0       39.0   \n",
              "1  MUKUHA TIMOTHY, KAMAU           13243.0      0.0     85.0       74.0   \n",
              "2             JOB, NGARA           13307.0      0.0     54.0       49.0   \n",
              "3     CHEGE DAVID, KAMAU           13258.0      0.0     71.0       97.0   \n",
              "4    RAMADHAN MUSA, TEPO           13363.0      0.0     40.0       84.0   \n",
              "\n",
              "   mathematics  science  sst/cre  Creative Arts  music  \n",
              "0         50.0     30.0     59.0           99.0   80.0  \n",
              "1         68.0     49.0     78.0           38.0   86.0  \n",
              "2         53.0     59.0     72.0           86.0   62.0  \n",
              "3         92.0     41.0     81.0           77.0   80.0  \n",
              "4         74.0     82.0     89.0           64.0   46.0  "
            ],
            "text/html": [
              "\n",
              "  <div id=\"df-6dcc031a-83d2-42a9-8a20-39e65ed93bb4\">\n",
              "    <div class=\"colab-df-container\">\n",
              "      <div>\n",
              "<style scoped>\n",
              "    .dataframe tbody tr th:only-of-type {\n",
              "        vertical-align: middle;\n",
              "    }\n",
              "\n",
              "    .dataframe tbody tr th {\n",
              "        vertical-align: top;\n",
              "    }\n",
              "\n",
              "    .dataframe thead th {\n",
              "        text-align: right;\n",
              "    }\n",
              "</style>\n",
              "<table border=\"1\" class=\"dataframe\">\n",
              "  <thead>\n",
              "    <tr style=\"text-align: right;\">\n",
              "      <th></th>\n",
              "      <th>names</th>\n",
              "      <th>admission number</th>\n",
              "      <th>balance</th>\n",
              "      <th>english</th>\n",
              "      <th>kiswahili</th>\n",
              "      <th>mathematics</th>\n",
              "      <th>science</th>\n",
              "      <th>sst/cre</th>\n",
              "      <th>Creative Arts</th>\n",
              "      <th>music</th>\n",
              "    </tr>\n",
              "  </thead>\n",
              "  <tbody>\n",
              "    <tr>\n",
              "      <th>0</th>\n",
              "      <td>JERIEL NDEDA, OBURA</td>\n",
              "      <td>13259.0</td>\n",
              "      <td>0.0</td>\n",
              "      <td>81.0</td>\n",
              "      <td>39.0</td>\n",
              "      <td>50.0</td>\n",
              "      <td>30.0</td>\n",
              "      <td>59.0</td>\n",
              "      <td>99.0</td>\n",
              "      <td>80.0</td>\n",
              "    </tr>\n",
              "    <tr>\n",
              "      <th>1</th>\n",
              "      <td>MUKUHA TIMOTHY, KAMAU</td>\n",
              "      <td>13243.0</td>\n",
              "      <td>0.0</td>\n",
              "      <td>85.0</td>\n",
              "      <td>74.0</td>\n",
              "      <td>68.0</td>\n",
              "      <td>49.0</td>\n",
              "      <td>78.0</td>\n",
              "      <td>38.0</td>\n",
              "      <td>86.0</td>\n",
              "    </tr>\n",
              "    <tr>\n",
              "      <th>2</th>\n",
              "      <td>JOB, NGARA</td>\n",
              "      <td>13307.0</td>\n",
              "      <td>0.0</td>\n",
              "      <td>54.0</td>\n",
              "      <td>49.0</td>\n",
              "      <td>53.0</td>\n",
              "      <td>59.0</td>\n",
              "      <td>72.0</td>\n",
              "      <td>86.0</td>\n",
              "      <td>62.0</td>\n",
              "    </tr>\n",
              "    <tr>\n",
              "      <th>3</th>\n",
              "      <td>CHEGE DAVID, KAMAU</td>\n",
              "      <td>13258.0</td>\n",
              "      <td>0.0</td>\n",
              "      <td>71.0</td>\n",
              "      <td>97.0</td>\n",
              "      <td>92.0</td>\n",
              "      <td>41.0</td>\n",
              "      <td>81.0</td>\n",
              "      <td>77.0</td>\n",
              "      <td>80.0</td>\n",
              "    </tr>\n",
              "    <tr>\n",
              "      <th>4</th>\n",
              "      <td>RAMADHAN MUSA, TEPO</td>\n",
              "      <td>13363.0</td>\n",
              "      <td>0.0</td>\n",
              "      <td>40.0</td>\n",
              "      <td>84.0</td>\n",
              "      <td>74.0</td>\n",
              "      <td>82.0</td>\n",
              "      <td>89.0</td>\n",
              "      <td>64.0</td>\n",
              "      <td>46.0</td>\n",
              "    </tr>\n",
              "  </tbody>\n",
              "</table>\n",
              "</div>\n",
              "      <button class=\"colab-df-convert\" onclick=\"convertToInteractive('df-6dcc031a-83d2-42a9-8a20-39e65ed93bb4')\"\n",
              "              title=\"Convert this dataframe to an interactive table.\"\n",
              "              style=\"display:none;\">\n",
              "        \n",
              "  <svg xmlns=\"http://www.w3.org/2000/svg\" height=\"24px\"viewBox=\"0 0 24 24\"\n",
              "       width=\"24px\">\n",
              "    <path d=\"M0 0h24v24H0V0z\" fill=\"none\"/>\n",
              "    <path d=\"M18.56 5.44l.94 2.06.94-2.06 2.06-.94-2.06-.94-.94-2.06-.94 2.06-2.06.94zm-11 1L8.5 8.5l.94-2.06 2.06-.94-2.06-.94L8.5 2.5l-.94 2.06-2.06.94zm10 10l.94 2.06.94-2.06 2.06-.94-2.06-.94-.94-2.06-.94 2.06-2.06.94z\"/><path d=\"M17.41 7.96l-1.37-1.37c-.4-.4-.92-.59-1.43-.59-.52 0-1.04.2-1.43.59L10.3 9.45l-7.72 7.72c-.78.78-.78 2.05 0 2.83L4 21.41c.39.39.9.59 1.41.59.51 0 1.02-.2 1.41-.59l7.78-7.78 2.81-2.81c.8-.78.8-2.07 0-2.86zM5.41 20L4 18.59l7.72-7.72 1.47 1.35L5.41 20z\"/>\n",
              "  </svg>\n",
              "      </button>\n",
              "      \n",
              "  <style>\n",
              "    .colab-df-container {\n",
              "      display:flex;\n",
              "      flex-wrap:wrap;\n",
              "      gap: 12px;\n",
              "    }\n",
              "\n",
              "    .colab-df-convert {\n",
              "      background-color: #E8F0FE;\n",
              "      border: none;\n",
              "      border-radius: 50%;\n",
              "      cursor: pointer;\n",
              "      display: none;\n",
              "      fill: #1967D2;\n",
              "      height: 32px;\n",
              "      padding: 0 0 0 0;\n",
              "      width: 32px;\n",
              "    }\n",
              "\n",
              "    .colab-df-convert:hover {\n",
              "      background-color: #E2EBFA;\n",
              "      box-shadow: 0px 1px 2px rgba(60, 64, 67, 0.3), 0px 1px 3px 1px rgba(60, 64, 67, 0.15);\n",
              "      fill: #174EA6;\n",
              "    }\n",
              "\n",
              "    [theme=dark] .colab-df-convert {\n",
              "      background-color: #3B4455;\n",
              "      fill: #D2E3FC;\n",
              "    }\n",
              "\n",
              "    [theme=dark] .colab-df-convert:hover {\n",
              "      background-color: #434B5C;\n",
              "      box-shadow: 0px 1px 3px 1px rgba(0, 0, 0, 0.15);\n",
              "      filter: drop-shadow(0px 1px 2px rgba(0, 0, 0, 0.3));\n",
              "      fill: #FFFFFF;\n",
              "    }\n",
              "  </style>\n",
              "\n",
              "      <script>\n",
              "        const buttonEl =\n",
              "          document.querySelector('#df-6dcc031a-83d2-42a9-8a20-39e65ed93bb4 button.colab-df-convert');\n",
              "        buttonEl.style.display =\n",
              "          google.colab.kernel.accessAllowed ? 'block' : 'none';\n",
              "\n",
              "        async function convertToInteractive(key) {\n",
              "          const element = document.querySelector('#df-6dcc031a-83d2-42a9-8a20-39e65ed93bb4');\n",
              "          const dataTable =\n",
              "            await google.colab.kernel.invokeFunction('convertToInteractive',\n",
              "                                                     [key], {});\n",
              "          if (!dataTable) return;\n",
              "\n",
              "          const docLinkHtml = 'Like what you see? Visit the ' +\n",
              "            '<a target=\"_blank\" href=https://colab.research.google.com/notebooks/data_table.ipynb>data table notebook</a>'\n",
              "            + ' to learn more about interactive tables.';\n",
              "          element.innerHTML = '';\n",
              "          dataTable['output_type'] = 'display_data';\n",
              "          await google.colab.output.renderOutput(dataTable, element);\n",
              "          const docLink = document.createElement('div');\n",
              "          docLink.innerHTML = docLinkHtml;\n",
              "          element.appendChild(docLink);\n",
              "        }\n",
              "      </script>\n",
              "    </div>\n",
              "  </div>\n",
              "  "
            ]
          },
          "metadata": {},
          "execution_count": 47
        }
      ],
      "source": [
        "# preview first 5 columns\n",
        "df.head()"
      ]
    },
    {
      "cell_type": "code",
      "execution_count": null,
      "metadata": {
        "id": "Y32oEJI_6MzQ",
        "outputId": "648f04d7-cd87-4a9c-deb3-f594dae38fad",
        "colab": {
          "base_uri": "https://localhost:8080/",
          "height": 206
        }
      },
      "outputs": [
        {
          "output_type": "execute_result",
          "data": {
            "text/plain": [
              "                       names  admission number  balance    english  kiswahili  \\\n",
              "115         Bin Amin, Ng'eno           13159.0      0.0  58.000000  74.764706   \n",
              "116  Catherine Ndung'u, Kate           13187.0      0.0  84.000000  74.764706   \n",
              "117    Daisy Machoka, Daniel           13168.0  18161.0  70.958678  74.764706   \n",
              "118   Daniel Karanja, Wambui           13133.0  33619.0  78.000000  74.764706   \n",
              "144               JOB, KAMAU         1430232.0  43200.0  98.000000  80.000000   \n",
              "\n",
              "     mathematics    science    sst/cre  Creative Arts  music  \n",
              "115    72.938462  68.179487  70.833333           51.0   44.0  \n",
              "116    68.000000  68.179487  48.000000           91.0   64.0  \n",
              "117    72.938462  68.179487  70.833333           78.0   86.0  \n",
              "118    78.000000  68.179487  29.000000           80.0   84.0  \n",
              "144    86.000000  64.000000  99.000000           49.0   69.0  "
            ],
            "text/html": [
              "\n",
              "  <div id=\"df-5c91193e-d1dc-4853-8d23-2c5d2ae9c987\">\n",
              "    <div class=\"colab-df-container\">\n",
              "      <div>\n",
              "<style scoped>\n",
              "    .dataframe tbody tr th:only-of-type {\n",
              "        vertical-align: middle;\n",
              "    }\n",
              "\n",
              "    .dataframe tbody tr th {\n",
              "        vertical-align: top;\n",
              "    }\n",
              "\n",
              "    .dataframe thead th {\n",
              "        text-align: right;\n",
              "    }\n",
              "</style>\n",
              "<table border=\"1\" class=\"dataframe\">\n",
              "  <thead>\n",
              "    <tr style=\"text-align: right;\">\n",
              "      <th></th>\n",
              "      <th>names</th>\n",
              "      <th>admission number</th>\n",
              "      <th>balance</th>\n",
              "      <th>english</th>\n",
              "      <th>kiswahili</th>\n",
              "      <th>mathematics</th>\n",
              "      <th>science</th>\n",
              "      <th>sst/cre</th>\n",
              "      <th>Creative Arts</th>\n",
              "      <th>music</th>\n",
              "    </tr>\n",
              "  </thead>\n",
              "  <tbody>\n",
              "    <tr>\n",
              "      <th>115</th>\n",
              "      <td>Bin Amin, Ng'eno</td>\n",
              "      <td>13159.0</td>\n",
              "      <td>0.0</td>\n",
              "      <td>58.000000</td>\n",
              "      <td>74.764706</td>\n",
              "      <td>72.938462</td>\n",
              "      <td>68.179487</td>\n",
              "      <td>70.833333</td>\n",
              "      <td>51.0</td>\n",
              "      <td>44.0</td>\n",
              "    </tr>\n",
              "    <tr>\n",
              "      <th>116</th>\n",
              "      <td>Catherine Ndung'u, Kate</td>\n",
              "      <td>13187.0</td>\n",
              "      <td>0.0</td>\n",
              "      <td>84.000000</td>\n",
              "      <td>74.764706</td>\n",
              "      <td>68.000000</td>\n",
              "      <td>68.179487</td>\n",
              "      <td>48.000000</td>\n",
              "      <td>91.0</td>\n",
              "      <td>64.0</td>\n",
              "    </tr>\n",
              "    <tr>\n",
              "      <th>117</th>\n",
              "      <td>Daisy Machoka, Daniel</td>\n",
              "      <td>13168.0</td>\n",
              "      <td>18161.0</td>\n",
              "      <td>70.958678</td>\n",
              "      <td>74.764706</td>\n",
              "      <td>72.938462</td>\n",
              "      <td>68.179487</td>\n",
              "      <td>70.833333</td>\n",
              "      <td>78.0</td>\n",
              "      <td>86.0</td>\n",
              "    </tr>\n",
              "    <tr>\n",
              "      <th>118</th>\n",
              "      <td>Daniel Karanja, Wambui</td>\n",
              "      <td>13133.0</td>\n",
              "      <td>33619.0</td>\n",
              "      <td>78.000000</td>\n",
              "      <td>74.764706</td>\n",
              "      <td>78.000000</td>\n",
              "      <td>68.179487</td>\n",
              "      <td>29.000000</td>\n",
              "      <td>80.0</td>\n",
              "      <td>84.0</td>\n",
              "    </tr>\n",
              "    <tr>\n",
              "      <th>144</th>\n",
              "      <td>JOB, KAMAU</td>\n",
              "      <td>1430232.0</td>\n",
              "      <td>43200.0</td>\n",
              "      <td>98.000000</td>\n",
              "      <td>80.000000</td>\n",
              "      <td>86.000000</td>\n",
              "      <td>64.000000</td>\n",
              "      <td>99.000000</td>\n",
              "      <td>49.0</td>\n",
              "      <td>69.0</td>\n",
              "    </tr>\n",
              "  </tbody>\n",
              "</table>\n",
              "</div>\n",
              "      <button class=\"colab-df-convert\" onclick=\"convertToInteractive('df-5c91193e-d1dc-4853-8d23-2c5d2ae9c987')\"\n",
              "              title=\"Convert this dataframe to an interactive table.\"\n",
              "              style=\"display:none;\">\n",
              "        \n",
              "  <svg xmlns=\"http://www.w3.org/2000/svg\" height=\"24px\"viewBox=\"0 0 24 24\"\n",
              "       width=\"24px\">\n",
              "    <path d=\"M0 0h24v24H0V0z\" fill=\"none\"/>\n",
              "    <path d=\"M18.56 5.44l.94 2.06.94-2.06 2.06-.94-2.06-.94-.94-2.06-.94 2.06-2.06.94zm-11 1L8.5 8.5l.94-2.06 2.06-.94-2.06-.94L8.5 2.5l-.94 2.06-2.06.94zm10 10l.94 2.06.94-2.06 2.06-.94-2.06-.94-.94-2.06-.94 2.06-2.06.94z\"/><path d=\"M17.41 7.96l-1.37-1.37c-.4-.4-.92-.59-1.43-.59-.52 0-1.04.2-1.43.59L10.3 9.45l-7.72 7.72c-.78.78-.78 2.05 0 2.83L4 21.41c.39.39.9.59 1.41.59.51 0 1.02-.2 1.41-.59l7.78-7.78 2.81-2.81c.8-.78.8-2.07 0-2.86zM5.41 20L4 18.59l7.72-7.72 1.47 1.35L5.41 20z\"/>\n",
              "  </svg>\n",
              "      </button>\n",
              "      \n",
              "  <style>\n",
              "    .colab-df-container {\n",
              "      display:flex;\n",
              "      flex-wrap:wrap;\n",
              "      gap: 12px;\n",
              "    }\n",
              "\n",
              "    .colab-df-convert {\n",
              "      background-color: #E8F0FE;\n",
              "      border: none;\n",
              "      border-radius: 50%;\n",
              "      cursor: pointer;\n",
              "      display: none;\n",
              "      fill: #1967D2;\n",
              "      height: 32px;\n",
              "      padding: 0 0 0 0;\n",
              "      width: 32px;\n",
              "    }\n",
              "\n",
              "    .colab-df-convert:hover {\n",
              "      background-color: #E2EBFA;\n",
              "      box-shadow: 0px 1px 2px rgba(60, 64, 67, 0.3), 0px 1px 3px 1px rgba(60, 64, 67, 0.15);\n",
              "      fill: #174EA6;\n",
              "    }\n",
              "\n",
              "    [theme=dark] .colab-df-convert {\n",
              "      background-color: #3B4455;\n",
              "      fill: #D2E3FC;\n",
              "    }\n",
              "\n",
              "    [theme=dark] .colab-df-convert:hover {\n",
              "      background-color: #434B5C;\n",
              "      box-shadow: 0px 1px 3px 1px rgba(0, 0, 0, 0.15);\n",
              "      filter: drop-shadow(0px 1px 2px rgba(0, 0, 0, 0.3));\n",
              "      fill: #FFFFFF;\n",
              "    }\n",
              "  </style>\n",
              "\n",
              "      <script>\n",
              "        const buttonEl =\n",
              "          document.querySelector('#df-5c91193e-d1dc-4853-8d23-2c5d2ae9c987 button.colab-df-convert');\n",
              "        buttonEl.style.display =\n",
              "          google.colab.kernel.accessAllowed ? 'block' : 'none';\n",
              "\n",
              "        async function convertToInteractive(key) {\n",
              "          const element = document.querySelector('#df-5c91193e-d1dc-4853-8d23-2c5d2ae9c987');\n",
              "          const dataTable =\n",
              "            await google.colab.kernel.invokeFunction('convertToInteractive',\n",
              "                                                     [key], {});\n",
              "          if (!dataTable) return;\n",
              "\n",
              "          const docLinkHtml = 'Like what you see? Visit the ' +\n",
              "            '<a target=\"_blank\" href=https://colab.research.google.com/notebooks/data_table.ipynb>data table notebook</a>'\n",
              "            + ' to learn more about interactive tables.';\n",
              "          element.innerHTML = '';\n",
              "          dataTable['output_type'] = 'display_data';\n",
              "          await google.colab.output.renderOutput(dataTable, element);\n",
              "          const docLink = document.createElement('div');\n",
              "          docLink.innerHTML = docLinkHtml;\n",
              "          element.appendChild(docLink);\n",
              "        }\n",
              "      </script>\n",
              "    </div>\n",
              "  </div>\n",
              "  "
            ]
          },
          "metadata": {},
          "execution_count": 48
        }
      ],
      "source": [
        "# preview last 5 columns\n",
        "df.tail()"
      ]
    },
    {
      "cell_type": "markdown",
      "source": [
        "## Data analysis in Pandas"
      ],
      "metadata": {
        "id": "lpTxvVidJKzY"
      }
    },
    {
      "cell_type": "markdown",
      "metadata": {
        "id": "27lBf9A6OzdM"
      },
      "source": [
        "### Univariate analysis"
      ]
    },
    {
      "cell_type": "code",
      "source": [
        "import pandas as pd\n",
        "import numpy as np\n",
        "\n",
        "import matplotlib.pyplot as plt\n",
        "import seaborn as sns\n",
        "\n",
        "%matplotlib inline"
      ],
      "metadata": {
        "id": "f-Bi6e5kf2tv"
      },
      "execution_count": null,
      "outputs": []
    },
    {
      "cell_type": "code",
      "metadata": {
        "id": "QhDhAMQUOrvl"
      },
      "source": [
        "# For categorical variables\n",
        "\n",
        "# 1. Get frequency tables and plot value counts: choose appropriate visualizations\n",
        "# eg barplots or pie charts\n",
        "# 2. State observations or summarize findings"
      ],
      "execution_count": null,
      "outputs": []
    },
    {
      "cell_type": "code",
      "source": [
        "# Example \n",
        "# Creating our dataframe\n",
        "iris_df = pd.read_csv('http://bit.ly/IrisDataset')\n",
        "iris_df.head()"
      ],
      "metadata": {
        "colab": {
          "base_uri": "https://localhost:8080/",
          "height": 206
        },
        "id": "vT-6glyeKNbH",
        "outputId": "efd355a2-bbe6-455e-cfd0-de514d17b0d0"
      },
      "execution_count": null,
      "outputs": [
        {
          "output_type": "execute_result",
          "data": {
            "text/plain": [
              "   sepal_length  sepal_width  petal_length  petal_width      species\n",
              "0           5.1          3.5           1.4          0.2  Iris-setosa\n",
              "1           4.9          3.0           1.4          0.2  Iris-setosa\n",
              "2           4.7          3.2           1.3          0.2  Iris-setosa\n",
              "3           4.6          3.1           1.5          0.2  Iris-setosa\n",
              "4           5.0          3.6           1.4          0.2  Iris-setosa"
            ],
            "text/html": [
              "\n",
              "  <div id=\"df-cc2a6f3b-7ae5-4364-9093-6ff07e662d6e\">\n",
              "    <div class=\"colab-df-container\">\n",
              "      <div>\n",
              "<style scoped>\n",
              "    .dataframe tbody tr th:only-of-type {\n",
              "        vertical-align: middle;\n",
              "    }\n",
              "\n",
              "    .dataframe tbody tr th {\n",
              "        vertical-align: top;\n",
              "    }\n",
              "\n",
              "    .dataframe thead th {\n",
              "        text-align: right;\n",
              "    }\n",
              "</style>\n",
              "<table border=\"1\" class=\"dataframe\">\n",
              "  <thead>\n",
              "    <tr style=\"text-align: right;\">\n",
              "      <th></th>\n",
              "      <th>sepal_length</th>\n",
              "      <th>sepal_width</th>\n",
              "      <th>petal_length</th>\n",
              "      <th>petal_width</th>\n",
              "      <th>species</th>\n",
              "    </tr>\n",
              "  </thead>\n",
              "  <tbody>\n",
              "    <tr>\n",
              "      <th>0</th>\n",
              "      <td>5.1</td>\n",
              "      <td>3.5</td>\n",
              "      <td>1.4</td>\n",
              "      <td>0.2</td>\n",
              "      <td>Iris-setosa</td>\n",
              "    </tr>\n",
              "    <tr>\n",
              "      <th>1</th>\n",
              "      <td>4.9</td>\n",
              "      <td>3.0</td>\n",
              "      <td>1.4</td>\n",
              "      <td>0.2</td>\n",
              "      <td>Iris-setosa</td>\n",
              "    </tr>\n",
              "    <tr>\n",
              "      <th>2</th>\n",
              "      <td>4.7</td>\n",
              "      <td>3.2</td>\n",
              "      <td>1.3</td>\n",
              "      <td>0.2</td>\n",
              "      <td>Iris-setosa</td>\n",
              "    </tr>\n",
              "    <tr>\n",
              "      <th>3</th>\n",
              "      <td>4.6</td>\n",
              "      <td>3.1</td>\n",
              "      <td>1.5</td>\n",
              "      <td>0.2</td>\n",
              "      <td>Iris-setosa</td>\n",
              "    </tr>\n",
              "    <tr>\n",
              "      <th>4</th>\n",
              "      <td>5.0</td>\n",
              "      <td>3.6</td>\n",
              "      <td>1.4</td>\n",
              "      <td>0.2</td>\n",
              "      <td>Iris-setosa</td>\n",
              "    </tr>\n",
              "  </tbody>\n",
              "</table>\n",
              "</div>\n",
              "      <button class=\"colab-df-convert\" onclick=\"convertToInteractive('df-cc2a6f3b-7ae5-4364-9093-6ff07e662d6e')\"\n",
              "              title=\"Convert this dataframe to an interactive table.\"\n",
              "              style=\"display:none;\">\n",
              "        \n",
              "  <svg xmlns=\"http://www.w3.org/2000/svg\" height=\"24px\"viewBox=\"0 0 24 24\"\n",
              "       width=\"24px\">\n",
              "    <path d=\"M0 0h24v24H0V0z\" fill=\"none\"/>\n",
              "    <path d=\"M18.56 5.44l.94 2.06.94-2.06 2.06-.94-2.06-.94-.94-2.06-.94 2.06-2.06.94zm-11 1L8.5 8.5l.94-2.06 2.06-.94-2.06-.94L8.5 2.5l-.94 2.06-2.06.94zm10 10l.94 2.06.94-2.06 2.06-.94-2.06-.94-.94-2.06-.94 2.06-2.06.94z\"/><path d=\"M17.41 7.96l-1.37-1.37c-.4-.4-.92-.59-1.43-.59-.52 0-1.04.2-1.43.59L10.3 9.45l-7.72 7.72c-.78.78-.78 2.05 0 2.83L4 21.41c.39.39.9.59 1.41.59.51 0 1.02-.2 1.41-.59l7.78-7.78 2.81-2.81c.8-.78.8-2.07 0-2.86zM5.41 20L4 18.59l7.72-7.72 1.47 1.35L5.41 20z\"/>\n",
              "  </svg>\n",
              "      </button>\n",
              "      \n",
              "  <style>\n",
              "    .colab-df-container {\n",
              "      display:flex;\n",
              "      flex-wrap:wrap;\n",
              "      gap: 12px;\n",
              "    }\n",
              "\n",
              "    .colab-df-convert {\n",
              "      background-color: #E8F0FE;\n",
              "      border: none;\n",
              "      border-radius: 50%;\n",
              "      cursor: pointer;\n",
              "      display: none;\n",
              "      fill: #1967D2;\n",
              "      height: 32px;\n",
              "      padding: 0 0 0 0;\n",
              "      width: 32px;\n",
              "    }\n",
              "\n",
              "    .colab-df-convert:hover {\n",
              "      background-color: #E2EBFA;\n",
              "      box-shadow: 0px 1px 2px rgba(60, 64, 67, 0.3), 0px 1px 3px 1px rgba(60, 64, 67, 0.15);\n",
              "      fill: #174EA6;\n",
              "    }\n",
              "\n",
              "    [theme=dark] .colab-df-convert {\n",
              "      background-color: #3B4455;\n",
              "      fill: #D2E3FC;\n",
              "    }\n",
              "\n",
              "    [theme=dark] .colab-df-convert:hover {\n",
              "      background-color: #434B5C;\n",
              "      box-shadow: 0px 1px 3px 1px rgba(0, 0, 0, 0.15);\n",
              "      filter: drop-shadow(0px 1px 2px rgba(0, 0, 0, 0.3));\n",
              "      fill: #FFFFFF;\n",
              "    }\n",
              "  </style>\n",
              "\n",
              "      <script>\n",
              "        const buttonEl =\n",
              "          document.querySelector('#df-cc2a6f3b-7ae5-4364-9093-6ff07e662d6e button.colab-df-convert');\n",
              "        buttonEl.style.display =\n",
              "          google.colab.kernel.accessAllowed ? 'block' : 'none';\n",
              "\n",
              "        async function convertToInteractive(key) {\n",
              "          const element = document.querySelector('#df-cc2a6f3b-7ae5-4364-9093-6ff07e662d6e');\n",
              "          const dataTable =\n",
              "            await google.colab.kernel.invokeFunction('convertToInteractive',\n",
              "                                                     [key], {});\n",
              "          if (!dataTable) return;\n",
              "\n",
              "          const docLinkHtml = 'Like what you see? Visit the ' +\n",
              "            '<a target=\"_blank\" href=https://colab.research.google.com/notebooks/data_table.ipynb>data table notebook</a>'\n",
              "            + ' to learn more about interactive tables.';\n",
              "          element.innerHTML = '';\n",
              "          dataTable['output_type'] = 'display_data';\n",
              "          await google.colab.output.renderOutput(dataTable, element);\n",
              "          const docLink = document.createElement('div');\n",
              "          docLink.innerHTML = docLinkHtml;\n",
              "          element.appendChild(docLink);\n",
              "        }\n",
              "      </script>\n",
              "    </div>\n",
              "  </div>\n",
              "  "
            ]
          },
          "metadata": {},
          "execution_count": 3
        }
      ]
    },
    {
      "cell_type": "code",
      "source": [
        "iris_df.species.value_counts() # Frequency table"
      ],
      "metadata": {
        "colab": {
          "base_uri": "https://localhost:8080/"
        },
        "id": "VbQam28nK-gX",
        "outputId": "b7a70f8f-6cda-47ca-9807-7c7ab2a72f37"
      },
      "execution_count": null,
      "outputs": [
        {
          "output_type": "execute_result",
          "data": {
            "text/plain": [
              "Iris-setosa        50\n",
              "Iris-versicolor    50\n",
              "Iris-virginica     50\n",
              "Name: species, dtype: int64"
            ]
          },
          "metadata": {},
          "execution_count": 5
        }
      ]
    },
    {
      "cell_type": "code",
      "source": [
        "# pandas\n",
        "iris_df.species.value_counts().plot.bar()"
      ],
      "metadata": {
        "colab": {
          "base_uri": "https://localhost:8080/",
          "height": 526
        },
        "id": "EM55VGZWLMWH",
        "outputId": "68b19985-2897-4654-d2ee-9041a9a8ba0b"
      },
      "execution_count": null,
      "outputs": [
        {
          "output_type": "execute_result",
          "data": {
            "text/plain": [
              "<Axes: >"
            ]
          },
          "metadata": {},
          "execution_count": 6
        },
        {
          "output_type": "display_data",
          "data": {
            "text/plain": [
              "<Figure size 640x480 with 1 Axes>"
            ],
            "image/png": "[encoded data removed]"
          },
          "metadata": {}
        }
      ]
    },
    {
      "cell_type": "code",
      "source": [
        "?plt.bar(x,y)"
      ],
      "metadata": {
        "id": "pORLKRZhiqKc"
      },
      "execution_count": null,
      "outputs": []
    },
    {
      "cell_type": "code",
      "source": [
        "?iris_df.species.nunique"
      ],
      "metadata": {
        "id": "v-XpILTMjmv0"
      },
      "execution_count": null,
      "outputs": []
    },
    {
      "cell_type": "code",
      "source": [
        "# Matplotlib\n",
        "y = iris_df.species.value_counts()\n",
        "x = iris_df['species'].unique()\n",
        "\n",
        "plt.bar(x,y)\n",
        "plt.xlabel('Species')\n",
        "plt.ylabel('Frequency')\n",
        "plt.title('Species Barchart')"
      ],
      "metadata": {
        "colab": {
          "base_uri": "https://localhost:8080/",
          "height": 489
        },
        "id": "EQrEsg10g0Ha",
        "outputId": "fbdaa5e7-81f8-4a9a-d7c6-0e8b22c1b45b"
      },
      "execution_count": null,
      "outputs": [
        {
          "output_type": "execute_result",
          "data": {
            "text/plain": [
              "Text(0.5, 1.0, 'Species Barchart')"
            ]
          },
          "metadata": {},
          "execution_count": 18
        },
        {
          "output_type": "display_data",
          "data": {
            "text/plain": [
              "<Figure size 640x480 with 1 Axes>"
            ],
            "image/png": "[encoded data removed]"
          },
          "metadata": {}
        }
      ]
    },
    {
      "cell_type": "code",
      "source": [
        "# Seaborn bar chart(univariate)\n",
        "sns.countplot(x='species', data=iris_df)"
      ],
      "metadata": {
        "colab": {
          "base_uri": "https://localhost:8080/",
          "height": 466
        },
        "id": "LO-9esmBkvzI",
        "outputId": "d8eac13a-18d4-4be9-d200-ade5781f7925"
      },
      "execution_count": null,
      "outputs": [
        {
          "output_type": "execute_result",
          "data": {
            "text/plain": [
              "<Axes: xlabel='species', ylabel='count'>"
            ]
          },
          "metadata": {},
          "execution_count": 54
        },
        {
          "output_type": "display_data",
          "data": {
            "text/plain": [
              "<Figure size 640x480 with 1 Axes>"
            ],
            "image/png": "[encoded data removed]"
          },
          "metadata": {}
        }
      ]
    },
    {
      "cell_type": "code",
      "metadata": {
        "id": "sF_9ODMbQwVT"
      },
      "source": [
        "# For numerical variables\n",
        "\n",
        "# 1. Calculate measures of central tendency, dispersion and other statistics such as skewness and kurtosis.\n",
        "# 2. Interpret the results/numbers you get.\n",
        "# 3. Plot distribution\n",
        "\n",
        "# Perform normality tests if you want to work on modelling(Helps inform the choice of algorithm)"
      ],
      "execution_count": null,
      "outputs": []
    },
    {
      "cell_type": "code",
      "source": [
        "# Mean\n",
        "print('Mean:', iris_df[\"petal_length\"].mean())\n",
        "\n",
        "# Median\n",
        "print('Median:', iris_df[\"petal_length\"].median())"
      ],
      "metadata": {
        "colab": {
          "base_uri": "https://localhost:8080/"
        },
        "id": "Wt3QkerMLyV0",
        "outputId": "2160305f-6dd4-498d-8ec5-6cb618e66ba3"
      },
      "execution_count": null,
      "outputs": [
        {
          "output_type": "stream",
          "name": "stdout",
          "text": [
            "Mean: 3.758666666666666\n",
            "Median: 4.35\n"
          ]
        }
      ]
    },
    {
      "cell_type": "code",
      "source": [
        "?"
      ],
      "metadata": {
        "id": "NlYfHBjPnQdY"
      },
      "execution_count": null,
      "outputs": []
    },
    {
      "cell_type": "code",
      "source": [
        "# Visualizing pandas\n",
        "iris_df[\"petal_length\"].hist(bins = 5)"
      ],
      "metadata": {
        "colab": {
          "base_uri": "https://localhost:8080/",
          "height": 447
        },
        "id": "_NtzBI8PMmnL",
        "outputId": "b6eed2ee-a9e6-4214-8415-0ab69b73aced"
      },
      "execution_count": null,
      "outputs": [
        {
          "output_type": "execute_result",
          "data": {
            "text/plain": [
              "<Axes: >"
            ]
          },
          "metadata": {},
          "execution_count": 33
        },
        {
          "output_type": "display_data",
          "data": {
            "text/plain": [
              "<Figure size 640x480 with 1 Axes>"
            ],
            "image/png": "[encoded data removed]"
          },
          "metadata": {}
        }
      ]
    },
    {
      "cell_type": "code",
      "source": [
        "# Matplotlib\n",
        "plt.hist(iris_df[\"petal_length\"])"
      ],
      "metadata": {
        "colab": {
          "base_uri": "https://localhost:8080/",
          "height": 482
        },
        "id": "D5m79U63m05N",
        "outputId": "06c52a5f-bd3c-4384-c084-56b1090301e4"
      },
      "execution_count": null,
      "outputs": [
        {
          "output_type": "execute_result",
          "data": {
            "text/plain": [
              "(array([37., 13.,  0.,  3.,  8., 26., 29., 18., 11.,  5.]),\n",
              " array([1.  , 1.59, 2.18, 2.77, 3.36, 3.95, 4.54, 5.13, 5.72, 6.31, 6.9 ]),\n",
              " <BarContainer object of 10 artists>)"
            ]
          },
          "metadata": {},
          "execution_count": 34
        },
        {
          "output_type": "display_data",
          "data": {
            "text/plain": [
              "<Figure size 640x480 with 1 Axes>"
            ],
            "image/png": "[encoded data removed]"
          },
          "metadata": {}
        }
      ]
    },
    {
      "cell_type": "markdown",
      "source": [
        "*Majority of the flowers have petal length of 1 cm and 5 cm*\n",
        "*There no flowers of length, between 2 and 3*"
      ],
      "metadata": {
        "id": "7bp7_85eoDrR"
      }
    },
    {
      "cell_type": "code",
      "source": [
        "#seaborn\n",
        "sns.histplot(data = iris_df, x =\"petal_length\")"
      ],
      "metadata": {
        "colab": {
          "base_uri": "https://localhost:8080/",
          "height": 467
        },
        "id": "rhP8S8wknnEG",
        "outputId": "abd6b709-c51c-4f2d-c5ac-7afb4634180e"
      },
      "execution_count": null,
      "outputs": [
        {
          "output_type": "execute_result",
          "data": {
            "text/plain": [
              "<Axes: xlabel='petal_length', ylabel='Count'>"
            ]
          },
          "metadata": {},
          "execution_count": 55
        },
        {
          "output_type": "display_data",
          "data": {
            "text/plain": [
              "<Figure size 640x480 with 1 Axes>"
            ],
            "image/png": "[encoded data removed]"
          },
          "metadata": {}
        }
      ]
    },
    {
      "cell_type": "markdown",
      "source": [
        "![#f03c15](https://placehold.co/15x15/f03c15/f03c15.png) `Do univariate analysis on the students data. How did the students perform in different subjects?`"
      ],
      "metadata": {
        "id": "VgFBcQlAM2Tc"
      }
    },
    {
      "cell_type": "markdown",
      "metadata": {
        "id": "yyUXRNDXS2V8"
      },
      "source": [
        "### Bivariate analysis"
      ]
    },
    {
      "cell_type": "code",
      "metadata": {
        "id": "UFuSHcpaQ5gf"
      },
      "source": [
        "# When both variables are categorical\n",
        "\n",
        "# 1. Plot grouped-by value counts.\n",
        "# 2. State observations or summarize findings"
      ],
      "execution_count": null,
      "outputs": []
    },
    {
      "cell_type": "code",
      "source": [
        "titanic = sns.load_dataset('titanic')"
      ],
      "metadata": {
        "id": "OmcE2CnjqAMq"
      },
      "execution_count": null,
      "outputs": []
    },
    {
      "cell_type": "code",
      "source": [
        "# Example:\n",
        "titanic = pd.read_csv(\"titanic.csv\")\n",
        "\n",
        "# Changing to categorical variable\n",
        "cat = ['Pclass', 'Sex', 'Embarked','Survived']\n",
        "for i in cat:\n",
        "    titanic[i] = titanic[i].astype('category')\n",
        "\n",
        "# Group the data by gender and survival rate\n",
        "gender_survival = titanic.groupby('Survived')['Sex'].value_counts()\n",
        "\n",
        "# Create a bar chart of the survival rate by gender\n",
        "gender_survival.plot.bar()"
      ],
      "metadata": {
        "colab": {
          "base_uri": "https://localhost:8080/",
          "height": 341
        },
        "id": "NIVVcVfFRSSs",
        "outputId": "3544d6e0-04c5-4c3b-9a52-36ed5a656937"
      },
      "execution_count": null,
      "outputs": [
        {
          "output_type": "execute_result",
          "data": {
            "text/plain": [
              "<matplotlib.axes._subplots.AxesSubplot at 0x7f2d37292df0>"
            ]
          },
          "metadata": {},
          "execution_count": 81
        },
        {
          "output_type": "display_data",
          "data": {
            "text/plain": [
              "<Figure size 432x288 with 1 Axes>"
            ],
            "image/png": "[encoded data removed]"
          },
          "metadata": {
            "needs_background": "light"
          }
        }
      ]
    },
    {
      "cell_type": "code",
      "source": [
        "sns.countplot(x=\"sex\", hue=\"survived\", data=titanic)"
      ],
      "metadata": {
        "colab": {
          "base_uri": "https://localhost:8080/",
          "height": 466
        },
        "id": "qykntOIqpecm",
        "outputId": "ddf05ff0-b674-47bd-896a-46f7976f0b1a"
      },
      "execution_count": null,
      "outputs": [
        {
          "output_type": "execute_result",
          "data": {
            "text/plain": [
              "<Axes: xlabel='sex', ylabel='count'>"
            ]
          },
          "metadata": {},
          "execution_count": 40
        },
        {
          "output_type": "display_data",
          "data": {
            "text/plain": [
              "<Figure size 640x480 with 1 Axes>"
            ],
            "image/png": "[encoded data removed]"
          },
          "metadata": {}
        }
      ]
    },
    {
      "cell_type": "code",
      "metadata": {
        "id": "HEDPwrhEUfSP"
      },
      "source": [
        "# When variables are categorical and numerical\n",
        "\n",
        "# 1. Plot box-plots or bar plots of each category.\n",
        "# 2. State observations or summarize findings"
      ],
      "execution_count": null,
      "outputs": []
    },
    {
      "cell_type": "code",
      "source": [
        "# Group the data by class and calculate the survival rate\n",
        "petals = iris_df.groupby('species')['petal_length'].mean()\n",
        "\n",
        "petals.plot.bar()"
      ],
      "metadata": {
        "colab": {
          "base_uri": "https://localhost:8080/",
          "height": 354
        },
        "id": "78zXF46bVEBU",
        "outputId": "028a0977-d431-4c1b-d7bd-75d8fe2bcf05"
      },
      "execution_count": null,
      "outputs": [
        {
          "output_type": "execute_result",
          "data": {
            "text/plain": [
              "<matplotlib.axes._subplots.AxesSubplot at 0x7f2d36f025b0>"
            ]
          },
          "metadata": {},
          "execution_count": 84
        },
        {
          "output_type": "display_data",
          "data": {
            "text/plain": [
              "<Figure size 432x288 with 1 Axes>"
            ],
            "image/png": "[encoded data removed]"
          },
          "metadata": {
            "needs_background": "light"
          }
        }
      ]
    },
    {
      "cell_type": "code",
      "metadata": {
        "id": "qph--ijGUzFS"
      },
      "source": [
        "# When both variables are numerical\n",
        "\n",
        "# 1. Plot scatterplots and calculate correlation.\n",
        "# 2. State observatidata[col].replace(to_replace, value, inplace=True, regex=regex_value)ons or summarize findings"
      ],
      "execution_count": null,
      "outputs": []
    },
    {
      "cell_type": "code",
      "source": [
        "iris_df.plot.scatter(x='sepal_length',y ='petal_length' ) # Plots a scatter plot"
      ],
      "metadata": {
        "colab": {
          "base_uri": "https://localhost:8080/",
          "height": 297
        },
        "id": "QxUPXZCAJSF_",
        "outputId": "f294f5e2-8b6f-4017-8450-83c132deb184"
      },
      "execution_count": null,
      "outputs": [
        {
          "output_type": "execute_result",
          "data": {
            "text/plain": [
              "<matplotlib.axes._subplots.AxesSubplot at 0x7f2d36ebd880>"
            ]
          },
          "metadata": {},
          "execution_count": 86
        },
        {
          "output_type": "display_data",
          "data": {
            "text/plain": [
              "<Figure size 432x288 with 1 Axes>"
            ],
            "image/png": "[encoded data removed]"
          },
          "metadata": {
            "needs_background": "light"
          }
        }
      ]
    },
    {
      "cell_type": "code",
      "source": [
        "sns.pairplot(data = iris_df)\n",
        "plt.show()"
      ],
      "metadata": {
        "colab": {
          "base_uri": "https://localhost:8080/",
          "height": 988
        },
        "id": "JPXI4owRrnuf",
        "outputId": "7716cb94-8e4c-42e4-d94f-e27049e21a66"
      },
      "execution_count": null,
      "outputs": [
        {
          "output_type": "display_data",
          "data": {
            "text/plain": [
              "<Figure size 1000x1000 with 20 Axes>"
            ],
            "image/png": "[encoded data removed]"
          },
          "metadata": {}
        }
      ]
    },
    {
      "cell_type": "code",
      "source": [
        "?plt.subplot"
      ],
      "metadata": {
        "id": "ETnzJPpmsxpI"
      },
      "execution_count": null,
      "outputs": []
    },
    {
      "cell_type": "code",
      "source": [
        "fig , (ax1,ax2) = plt.subplots(1,2,figsize =(20,10))\n",
        "ax1.hist(iris_df[\"petal_length\"])"
      ],
      "metadata": {
        "colab": {
          "base_uri": "https://localhost:8080/",
          "height": 564
        },
        "id": "imQpJ3JOsWAZ",
        "outputId": "970dd1d6-9871-4129-b7f2-f0337067a7d4"
      },
      "execution_count": null,
      "outputs": [
        {
          "output_type": "execute_result",
          "data": {
            "text/plain": [
              "(array([37., 13.,  0.,  3.,  8., 26., 29., 18., 11.,  5.]),\n",
              " array([1.  , 1.59, 2.18, 2.77, 3.36, 3.95, 4.54, 5.13, 5.72, 6.31, 6.9 ]),\n",
              " <BarContainer object of 10 artists>)"
            ]
          },
          "metadata": {},
          "execution_count": 53
        },
        {
          "output_type": "display_data",
          "data": {
            "text/plain": [
              "<Figure size 2000x1000 with 2 Axes>"
            ],
            "image/png": "[encoded data removed]"
          },
          "metadata": {}
        }
      ]
    },
    {
      "cell_type": "code",
      "source": [
        "iris_df.corr() # Gets the correlation matrix"
      ],
      "metadata": {
        "colab": {
          "base_uri": "https://localhost:8080/",
          "height": 175
        },
        "id": "1AKUcLJjcamk",
        "outputId": "afb41241-4509-49eb-9a39-ffcc7cc6c0f7"
      },
      "execution_count": null,
      "outputs": [
        {
          "output_type": "execute_result",
          "data": {
            "text/plain": [
              "              sepal_length  sepal_width  petal_length  petal_width\n",
              "sepal_length      1.000000    -0.109369      0.871754     0.817954\n",
              "sepal_width      -0.109369     1.000000     -0.420516    -0.356544\n",
              "petal_length      0.871754    -0.420516      1.000000     0.962757\n",
              "petal_width       0.817954    -0.356544      0.962757     1.000000"
            ],
            "text/html": [
              "\n",
              "  <div id=\"df-8375a9ed-a678-404d-ac59-5ed4b4c5f4a3\">\n",
              "    <div class=\"colab-df-container\">\n",
              "      <div>\n",
              "<style scoped>\n",
              "    .dataframe tbody tr th:only-of-type {\n",
              "        vertical-align: middle;\n",
              "    }\n",
              "\n",
              "    .dataframe tbody tr th {\n",
              "        vertical-align: top;\n",
              "    }\n",
              "\n",
              "    .dataframe thead th {\n",
              "        text-align: right;\n",
              "    }\n",
              "</style>\n",
              "<table border=\"1\" class=\"dataframe\">\n",
              "  <thead>\n",
              "    <tr style=\"text-align: right;\">\n",
              "      <th></th>\n",
              "      <th>sepal_length</th>\n",
              "      <th>sepal_width</th>\n",
              "      <th>petal_length</th>\n",
              "      <th>petal_width</th>\n",
              "    </tr>\n",
              "  </thead>\n",
              "  <tbody>\n",
              "    <tr>\n",
              "      <th>sepal_length</th>\n",
              "      <td>1.000000</td>\n",
              "      <td>-0.109369</td>\n",
              "      <td>0.871754</td>\n",
              "      <td>0.817954</td>\n",
              "    </tr>\n",
              "    <tr>\n",
              "      <th>sepal_width</th>\n",
              "      <td>-0.109369</td>\n",
              "      <td>1.000000</td>\n",
              "      <td>-0.420516</td>\n",
              "      <td>-0.356544</td>\n",
              "    </tr>\n",
              "    <tr>\n",
              "      <th>petal_length</th>\n",
              "      <td>0.871754</td>\n",
              "      <td>-0.420516</td>\n",
              "      <td>1.000000</td>\n",
              "      <td>0.962757</td>\n",
              "    </tr>\n",
              "    <tr>\n",
              "      <th>petal_width</th>\n",
              "      <td>0.817954</td>\n",
              "      <td>-0.356544</td>\n",
              "      <td>0.962757</td>\n",
              "      <td>1.000000</td>\n",
              "    </tr>\n",
              "  </tbody>\n",
              "</table>\n",
              "</div>\n",
              "      <button class=\"colab-df-convert\" onclick=\"convertToInteractive('df-8375a9ed-a678-404d-ac59-5ed4b4c5f4a3')\"\n",
              "              title=\"Convert this dataframe to an interactive table.\"\n",
              "              style=\"display:none;\">\n",
              "        \n",
              "  <svg xmlns=\"http://www.w3.org/2000/svg\" height=\"24px\"viewBox=\"0 0 24 24\"\n",
              "       width=\"24px\">\n",
              "    <path d=\"M0 0h24v24H0V0z\" fill=\"none\"/>\n",
              "    <path d=\"M18.56 5.44l.94 2.06.94-2.06 2.06-.94-2.06-.94-.94-2.06-.94 2.06-2.06.94zm-11 1L8.5 8.5l.94-2.06 2.06-.94-2.06-.94L8.5 2.5l-.94 2.06-2.06.94zm10 10l.94 2.06.94-2.06 2.06-.94-2.06-.94-.94-2.06-.94 2.06-2.06.94z\"/><path d=\"M17.41 7.96l-1.37-1.37c-.4-.4-.92-.59-1.43-.59-.52 0-1.04.2-1.43.59L10.3 9.45l-7.72 7.72c-.78.78-.78 2.05 0 2.83L4 21.41c.39.39.9.59 1.41.59.51 0 1.02-.2 1.41-.59l7.78-7.78 2.81-2.81c.8-.78.8-2.07 0-2.86zM5.41 20L4 18.59l7.72-7.72 1.47 1.35L5.41 20z\"/>\n",
              "  </svg>\n",
              "      </button>\n",
              "      \n",
              "  <style>\n",
              "    .colab-df-container {\n",
              "      display:flex;\n",
              "      flex-wrap:wrap;\n",
              "      gap: 12px;\n",
              "    }\n",
              "\n",
              "    .colab-df-convert {\n",
              "      background-color: #E8F0FE;\n",
              "      border: none;\n",
              "      border-radius: 50%;\n",
              "      cursor: pointer;\n",
              "      display: none;\n",
              "      fill: #1967D2;\n",
              "      height: 32px;\n",
              "      padding: 0 0 0 0;\n",
              "      width: 32px;\n",
              "    }\n",
              "\n",
              "    .colab-df-convert:hover {\n",
              "      background-color: #E2EBFA;\n",
              "      box-shadow: 0px 1px 2px rgba(60, 64, 67, 0.3), 0px 1px 3px 1px rgba(60, 64, 67, 0.15);\n",
              "      fill: #174EA6;\n",
              "    }\n",
              "\n",
              "    [theme=dark] .colab-df-convert {\n",
              "      background-color: #3B4455;\n",
              "      fill: #D2E3FC;\n",
              "    }\n",
              "\n",
              "    [theme=dark] .colab-df-convert:hover {\n",
              "      background-color: #434B5C;\n",
              "      box-shadow: 0px 1px 3px 1px rgba(0, 0, 0, 0.15);\n",
              "      filter: drop-shadow(0px 1px 2px rgba(0, 0, 0, 0.3));\n",
              "      fill: #FFFFFF;\n",
              "    }\n",
              "  </style>\n",
              "\n",
              "      <script>\n",
              "        const buttonEl =\n",
              "          document.querySelector('#df-8375a9ed-a678-404d-ac59-5ed4b4c5f4a3 button.colab-df-convert');\n",
              "        buttonEl.style.display =\n",
              "          google.colab.kernel.accessAllowed ? 'block' : 'none';\n",
              "\n",
              "        async function convertToInteractive(key) {\n",
              "          const element = document.querySelector('#df-8375a9ed-a678-404d-ac59-5ed4b4c5f4a3');\n",
              "          const dataTable =\n",
              "            await google.colab.kernel.invokeFunction('convertToInteractive',\n",
              "                                                     [key], {});\n",
              "          if (!dataTable) return;\n",
              "\n",
              "          const docLinkHtml = 'Like what you see? Visit the ' +\n",
              "            '<a target=\"_blank\" href=https://colab.research.google.com/notebooks/data_table.ipynb>data table notebook</a>'\n",
              "            + ' to learn more about interactive tables.';\n",
              "          element.innerHTML = '';\n",
              "          dataTable['output_type'] = 'display_data';\n",
              "          await google.colab.output.renderOutput(dataTable, element);\n",
              "          const docLink = document.createElement('div');\n",
              "          docLink.innerHTML = docLinkHtml;\n",
              "          element.appendChild(docLink);\n",
              "        }\n",
              "      </script>\n",
              "    </div>\n",
              "  </div>\n",
              "  "
            ]
          },
          "metadata": {},
          "execution_count": 87
        }
      ]
    },
    {
      "cell_type": "markdown",
      "source": [
        "![#f03c15](https://placehold.co/15x15/f03c15/f03c15.png) `Do bivariate analysis on the students data. Come up with your own analysis questions.`"
      ],
      "metadata": {
        "id": "HjGVk1Facm25"
      }
    },
    {
      "cell_type": "markdown",
      "source": [
        "## Special functions for analysis in pandas or otherwise"
      ],
      "metadata": {
        "id": "XxR1x-9sdKBn"
      }
    },
    {
      "cell_type": "markdown",
      "metadata": {
        "id": "FIlc2kWT6MzQ"
      },
      "source": [
        "## Using Lambda functions\n",
        "\n",
        "What is a lambda function?\n",
        "\n",
        "Refers to an anonymous function (ie a function definition that is not bound to an identifier unless assigned one) intended as a shorthand function. \n",
        "\n",
        "They come in handy since one doesn't have to write multiple lines of code defining a function, and they are written inline."
      ]
    },
    {
      "cell_type": "markdown",
      "metadata": {
        "id": "fr8FPLZJ6MzR"
      },
      "source": [
        "### using ```.apply()```"
      ]
    },
    {
      "cell_type": "code",
      "execution_count": null,
      "metadata": {
        "id": "6x24_6I06MzR",
        "outputId": "bc72eb40-ef77-45ca-d240-48cd96c35404",
        "colab": {
          "base_uri": "https://localhost:8080/",
          "height": 206
        }
      },
      "outputs": [
        {
          "output_type": "execute_result",
          "data": {
            "text/plain": [
              "                       names  admission number  balance  english  kiswahili  \\\n",
              "115         Bin Amin, Ng'eno           13159.0      0.0     58.0       74.0   \n",
              "116  Catherine Ndung'u, Kate           13187.0      0.0     84.0       74.0   \n",
              "117    Daisy Machoka, Daniel           13168.0  18161.0     70.0       74.0   \n",
              "118   Daniel Karanja, Wambui           13133.0  33619.0     78.0       74.0   \n",
              "144               JOB, KAMAU         1430232.0  43200.0     98.0       80.0   \n",
              "\n",
              "     mathematics  science  sst/cre  Creative Arts  music  \n",
              "115         72.0     68.0     70.0           51.0   44.0  \n",
              "116         68.0     68.0     48.0           91.0   64.0  \n",
              "117         72.0     68.0     70.0           78.0   86.0  \n",
              "118         78.0     68.0     29.0           80.0   84.0  \n",
              "144         86.0     64.0     99.0           49.0   69.0  "
            ],
            "text/html": [
              "\n",
              "  <div id=\"df-bf707195-dc29-4061-aebc-35e0f266440a\">\n",
              "    <div class=\"colab-df-container\">\n",
              "      <div>\n",
              "<style scoped>\n",
              "    .dataframe tbody tr th:only-of-type {\n",
              "        vertical-align: middle;\n",
              "    }\n",
              "\n",
              "    .dataframe tbody tr th {\n",
              "        vertical-align: top;\n",
              "    }\n",
              "\n",
              "    .dataframe thead th {\n",
              "        text-align: right;\n",
              "    }\n",
              "</style>\n",
              "<table border=\"1\" class=\"dataframe\">\n",
              "  <thead>\n",
              "    <tr style=\"text-align: right;\">\n",
              "      <th></th>\n",
              "      <th>names</th>\n",
              "      <th>admission number</th>\n",
              "      <th>balance</th>\n",
              "      <th>english</th>\n",
              "      <th>kiswahili</th>\n",
              "      <th>mathematics</th>\n",
              "      <th>science</th>\n",
              "      <th>sst/cre</th>\n",
              "      <th>Creative Arts</th>\n",
              "      <th>music</th>\n",
              "    </tr>\n",
              "  </thead>\n",
              "  <tbody>\n",
              "    <tr>\n",
              "      <th>115</th>\n",
              "      <td>Bin Amin, Ng'eno</td>\n",
              "      <td>13159.0</td>\n",
              "      <td>0.0</td>\n",
              "      <td>58.0</td>\n",
              "      <td>74.0</td>\n",
              "      <td>72.0</td>\n",
              "      <td>68.0</td>\n",
              "      <td>70.0</td>\n",
              "      <td>51.0</td>\n",
              "      <td>44.0</td>\n",
              "    </tr>\n",
              "    <tr>\n",
              "      <th>116</th>\n",
              "      <td>Catherine Ndung'u, Kate</td>\n",
              "      <td>13187.0</td>\n",
              "      <td>0.0</td>\n",
              "      <td>84.0</td>\n",
              "      <td>74.0</td>\n",
              "      <td>68.0</td>\n",
              "      <td>68.0</td>\n",
              "      <td>48.0</td>\n",
              "      <td>91.0</td>\n",
              "      <td>64.0</td>\n",
              "    </tr>\n",
              "    <tr>\n",
              "      <th>117</th>\n",
              "      <td>Daisy Machoka, Daniel</td>\n",
              "      <td>13168.0</td>\n",
              "      <td>18161.0</td>\n",
              "      <td>70.0</td>\n",
              "      <td>74.0</td>\n",
              "      <td>72.0</td>\n",
              "      <td>68.0</td>\n",
              "      <td>70.0</td>\n",
              "      <td>78.0</td>\n",
              "      <td>86.0</td>\n",
              "    </tr>\n",
              "    <tr>\n",
              "      <th>118</th>\n",
              "      <td>Daniel Karanja, Wambui</td>\n",
              "      <td>13133.0</td>\n",
              "      <td>33619.0</td>\n",
              "      <td>78.0</td>\n",
              "      <td>74.0</td>\n",
              "      <td>78.0</td>\n",
              "      <td>68.0</td>\n",
              "      <td>29.0</td>\n",
              "      <td>80.0</td>\n",
              "      <td>84.0</td>\n",
              "    </tr>\n",
              "    <tr>\n",
              "      <th>144</th>\n",
              "      <td>JOB, KAMAU</td>\n",
              "      <td>1430232.0</td>\n",
              "      <td>43200.0</td>\n",
              "      <td>98.0</td>\n",
              "      <td>80.0</td>\n",
              "      <td>86.0</td>\n",
              "      <td>64.0</td>\n",
              "      <td>99.0</td>\n",
              "      <td>49.0</td>\n",
              "      <td>69.0</td>\n",
              "    </tr>\n",
              "  </tbody>\n",
              "</table>\n",
              "</div>\n",
              "      <button class=\"colab-df-convert\" onclick=\"convertToInteractive('df-bf707195-dc29-4061-aebc-35e0f266440a')\"\n",
              "              title=\"Convert this dataframe to an interactive table.\"\n",
              "              style=\"display:none;\">\n",
              "        \n",
              "  <svg xmlns=\"http://www.w3.org/2000/svg\" height=\"24px\"viewBox=\"0 0 24 24\"\n",
              "       width=\"24px\">\n",
              "    <path d=\"M0 0h24v24H0V0z\" fill=\"none\"/>\n",
              "    <path d=\"M18.56 5.44l.94 2.06.94-2.06 2.06-.94-2.06-.94-.94-2.06-.94 2.06-2.06.94zm-11 1L8.5 8.5l.94-2.06 2.06-.94-2.06-.94L8.5 2.5l-.94 2.06-2.06.94zm10 10l.94 2.06.94-2.06 2.06-.94-2.06-.94-.94-2.06-.94 2.06-2.06.94z\"/><path d=\"M17.41 7.96l-1.37-1.37c-.4-.4-.92-.59-1.43-.59-.52 0-1.04.2-1.43.59L10.3 9.45l-7.72 7.72c-.78.78-.78 2.05 0 2.83L4 21.41c.39.39.9.59 1.41.59.51 0 1.02-.2 1.41-.59l7.78-7.78 2.81-2.81c.8-.78.8-2.07 0-2.86zM5.41 20L4 18.59l7.72-7.72 1.47 1.35L5.41 20z\"/>\n",
              "  </svg>\n",
              "      </button>\n",
              "      \n",
              "  <style>\n",
              "    .colab-df-container {\n",
              "      display:flex;\n",
              "      flex-wrap:wrap;\n",
              "      gap: 12px;\n",
              "    }\n",
              "\n",
              "    .colab-df-convert {\n",
              "      background-color: #E8F0FE;\n",
              "      border: none;\n",
              "      border-radius: 50%;\n",
              "      cursor: pointer;\n",
              "      display: none;\n",
              "      fill: #1967D2;\n",
              "      height: 32px;\n",
              "      padding: 0 0 0 0;\n",
              "      width: 32px;\n",
              "    }\n",
              "\n",
              "    .colab-df-convert:hover {\n",
              "      background-color: #E2EBFA;\n",
              "      box-shadow: 0px 1px 2px rgba(60, 64, 67, 0.3), 0px 1px 3px 1px rgba(60, 64, 67, 0.15);\n",
              "      fill: #174EA6;\n",
              "    }\n",
              "\n",
              "    [theme=dark] .colab-df-convert {\n",
              "      background-color: #3B4455;\n",
              "      fill: #D2E3FC;\n",
              "    }\n",
              "\n",
              "    [theme=dark] .colab-df-convert:hover {\n",
              "      background-color: #434B5C;\n",
              "      box-shadow: 0px 1px 3px 1px rgba(0, 0, 0, 0.15);\n",
              "      filter: drop-shadow(0px 1px 2px rgba(0, 0, 0, 0.3));\n",
              "      fill: #FFFFFF;\n",
              "    }\n",
              "  </style>\n",
              "\n",
              "      <script>\n",
              "        const buttonEl =\n",
              "          document.querySelector('#df-bf707195-dc29-4061-aebc-35e0f266440a button.colab-df-convert');\n",
              "        buttonEl.style.display =\n",
              "          google.colab.kernel.accessAllowed ? 'block' : 'none';\n",
              "\n",
              "        async function convertToInteractive(key) {\n",
              "          const element = document.querySelector('#df-bf707195-dc29-4061-aebc-35e0f266440a');\n",
              "          const dataTable =\n",
              "            await google.colab.kernel.invokeFunction('convertToInteractive',\n",
              "                                                     [key], {});\n",
              "          if (!dataTable) return;\n",
              "\n",
              "          const docLinkHtml = 'Like what you see? Visit the ' +\n",
              "            '<a target=\"_blank\" href=https://colab.research.google.com/notebooks/data_table.ipynb>data table notebook</a>'\n",
              "            + ' to learn more about interactive tables.';\n",
              "          element.innerHTML = '';\n",
              "          dataTable['output_type'] = 'display_data';\n",
              "          await google.colab.output.renderOutput(dataTable, element);\n",
              "          const docLink = document.createElement('div');\n",
              "          docLink.innerHTML = docLinkHtml;\n",
              "          element.appendChild(docLink);\n",
              "        }\n",
              "      </script>\n",
              "    </div>\n",
              "  </div>\n",
              "  "
            ]
          },
          "metadata": {},
          "execution_count": 98
        }
      ],
      "source": [
        "# using lamda function to remove the decimals in the scores that resulted from replacing with mean\n",
        "deci_columns = [\"english\", \"kiswahili\", \"mathematics\",\"science\", \"sst/cre\"]\n",
        "\n",
        "for col in deci_columns:\n",
        "    df[col] = df[col].apply(lambda x: np.trunc(x))\n",
        "\n",
        "# preview the data\n",
        "df.tail()"
      ]
    },
    {
      "cell_type": "code",
      "source": [
        "df.dtypes"
      ],
      "metadata": {
        "colab": {
          "base_uri": "https://localhost:8080/"
        },
        "id": "iKA2_KTteIgd",
        "outputId": "5b26d3db-d120-4bf4-eb05-4021e410f786"
      },
      "execution_count": null,
      "outputs": [
        {
          "output_type": "execute_result",
          "data": {
            "text/plain": [
              "names                object\n",
              "admission number    float64\n",
              "balance             float64\n",
              "english             float64\n",
              "kiswahili           float64\n",
              "mathematics         float64\n",
              "science             float64\n",
              "sst/cre             float64\n",
              "Creative Arts       float64\n",
              "music               float64\n",
              "dtype: object"
            ]
          },
          "metadata": {},
          "execution_count": 99
        }
      ]
    },
    {
      "cell_type": "markdown",
      "metadata": {
        "id": "ta0NxNai6MzR"
      },
      "source": [
        "### using ```.assign()```"
      ]
    },
    {
      "cell_type": "code",
      "execution_count": null,
      "metadata": {
        "id": "OwJ_lYJ46MzS"
      },
      "outputs": [],
      "source": [
        "# lets find the students total\n",
        "df = df.assign(Total = lambda x: x[\"english\"] + x[\"kiswahili\"] + x[\"mathematics\"] + x[\"science\"] + x[\"sst/cre\"] + x[\"Creative Arts\"] + x[\"music\"])"
      ]
    },
    {
      "cell_type": "code",
      "execution_count": null,
      "metadata": {
        "id": "3sgsxEg66MzS",
        "outputId": "8a1f2ea6-11d1-4370-f575-b17d85e5a059",
        "colab": {
          "base_uri": "https://localhost:8080/",
          "height": 206
        }
      },
      "outputs": [
        {
          "output_type": "execute_result",
          "data": {
            "text/plain": [
              "                   names  admission number  balance  english  kiswahili  \\\n",
              "0    JERIEL NDEDA, OBURA           13259.0      0.0     81.0       39.0   \n",
              "1  MUKUHA TIMOTHY, KAMAU           13243.0      0.0     85.0       74.0   \n",
              "2             JOB, NGARA           13307.0      0.0     54.0       49.0   \n",
              "3     CHEGE DAVID, KAMAU           13258.0      0.0     71.0       97.0   \n",
              "4    RAMADHAN MUSA, TEPO           13363.0      0.0     40.0       84.0   \n",
              "\n",
              "   mathematics  science  sst/cre  Creative Arts  music  Total  \n",
              "0         50.0     30.0     59.0           99.0   80.0  438.0  \n",
              "1         68.0     49.0     78.0           38.0   86.0  478.0  \n",
              "2         53.0     59.0     72.0           86.0   62.0  435.0  \n",
              "3         92.0     41.0     81.0           77.0   80.0  539.0  \n",
              "4         74.0     82.0     89.0           64.0   46.0  479.0  "
            ],
            "text/html": [
              "\n",
              "  <div id=\"df-e1e97f19-371e-4441-bdfb-87216da0bad2\">\n",
              "    <div class=\"colab-df-container\">\n",
              "      <div>\n",
              "<style scoped>\n",
              "    .dataframe tbody tr th:only-of-type {\n",
              "        vertical-align: middle;\n",
              "    }\n",
              "\n",
              "    .dataframe tbody tr th {\n",
              "        vertical-align: top;\n",
              "    }\n",
              "\n",
              "    .dataframe thead th {\n",
              "        text-align: right;\n",
              "    }\n",
              "</style>\n",
              "<table border=\"1\" class=\"dataframe\">\n",
              "  <thead>\n",
              "    <tr style=\"text-align: right;\">\n",
              "      <th></th>\n",
              "      <th>names</th>\n",
              "      <th>admission number</th>\n",
              "      <th>balance</th>\n",
              "      <th>english</th>\n",
              "      <th>kiswahili</th>\n",
              "      <th>mathematics</th>\n",
              "      <th>science</th>\n",
              "      <th>sst/cre</th>\n",
              "      <th>Creative Arts</th>\n",
              "      <th>music</th>\n",
              "      <th>Total</th>\n",
              "    </tr>\n",
              "  </thead>\n",
              "  <tbody>\n",
              "    <tr>\n",
              "      <th>0</th>\n",
              "      <td>JERIEL NDEDA, OBURA</td>\n",
              "      <td>13259.0</td>\n",
              "      <td>0.0</td>\n",
              "      <td>81.0</td>\n",
              "      <td>39.0</td>\n",
              "      <td>50.0</td>\n",
              "      <td>30.0</td>\n",
              "      <td>59.0</td>\n",
              "      <td>99.0</td>\n",
              "      <td>80.0</td>\n",
              "      <td>438.0</td>\n",
              "    </tr>\n",
              "    <tr>\n",
              "      <th>1</th>\n",
              "      <td>MUKUHA TIMOTHY, KAMAU</td>\n",
              "      <td>13243.0</td>\n",
              "      <td>0.0</td>\n",
              "      <td>85.0</td>\n",
              "      <td>74.0</td>\n",
              "      <td>68.0</td>\n",
              "      <td>49.0</td>\n",
              "      <td>78.0</td>\n",
              "      <td>38.0</td>\n",
              "      <td>86.0</td>\n",
              "      <td>478.0</td>\n",
              "    </tr>\n",
              "    <tr>\n",
              "      <th>2</th>\n",
              "      <td>JOB, NGARA</td>\n",
              "      <td>13307.0</td>\n",
              "      <td>0.0</td>\n",
              "      <td>54.0</td>\n",
              "      <td>49.0</td>\n",
              "      <td>53.0</td>\n",
              "      <td>59.0</td>\n",
              "      <td>72.0</td>\n",
              "      <td>86.0</td>\n",
              "      <td>62.0</td>\n",
              "      <td>435.0</td>\n",
              "    </tr>\n",
              "    <tr>\n",
              "      <th>3</th>\n",
              "      <td>CHEGE DAVID, KAMAU</td>\n",
              "      <td>13258.0</td>\n",
              "      <td>0.0</td>\n",
              "      <td>71.0</td>\n",
              "      <td>97.0</td>\n",
              "      <td>92.0</td>\n",
              "      <td>41.0</td>\n",
              "      <td>81.0</td>\n",
              "      <td>77.0</td>\n",
              "      <td>80.0</td>\n",
              "      <td>539.0</td>\n",
              "    </tr>\n",
              "    <tr>\n",
              "      <th>4</th>\n",
              "      <td>RAMADHAN MUSA, TEPO</td>\n",
              "      <td>13363.0</td>\n",
              "      <td>0.0</td>\n",
              "      <td>40.0</td>\n",
              "      <td>84.0</td>\n",
              "      <td>74.0</td>\n",
              "      <td>82.0</td>\n",
              "      <td>89.0</td>\n",
              "      <td>64.0</td>\n",
              "      <td>46.0</td>\n",
              "      <td>479.0</td>\n",
              "    </tr>\n",
              "  </tbody>\n",
              "</table>\n",
              "</div>\n",
              "      <button class=\"colab-df-convert\" onclick=\"convertToInteractive('df-e1e97f19-371e-4441-bdfb-87216da0bad2')\"\n",
              "              title=\"Convert this dataframe to an interactive table.\"\n",
              "              style=\"display:none;\">\n",
              "        \n",
              "  <svg xmlns=\"http://www.w3.org/2000/svg\" height=\"24px\"viewBox=\"0 0 24 24\"\n",
              "       width=\"24px\">\n",
              "    <path d=\"M0 0h24v24H0V0z\" fill=\"none\"/>\n",
              "    <path d=\"M18.56 5.44l.94 2.06.94-2.06 2.06-.94-2.06-.94-.94-2.06-.94 2.06-2.06.94zm-11 1L8.5 8.5l.94-2.06 2.06-.94-2.06-.94L8.5 2.5l-.94 2.06-2.06.94zm10 10l.94 2.06.94-2.06 2.06-.94-2.06-.94-.94-2.06-.94 2.06-2.06.94z\"/><path d=\"M17.41 7.96l-1.37-1.37c-.4-.4-.92-.59-1.43-.59-.52 0-1.04.2-1.43.59L10.3 9.45l-7.72 7.72c-.78.78-.78 2.05 0 2.83L4 21.41c.39.39.9.59 1.41.59.51 0 1.02-.2 1.41-.59l7.78-7.78 2.81-2.81c.8-.78.8-2.07 0-2.86zM5.41 20L4 18.59l7.72-7.72 1.47 1.35L5.41 20z\"/>\n",
              "  </svg>\n",
              "      </button>\n",
              "      \n",
              "  <style>\n",
              "    .colab-df-container {\n",
              "      display:flex;\n",
              "      flex-wrap:wrap;\n",
              "      gap: 12px;\n",
              "    }\n",
              "\n",
              "    .colab-df-convert {\n",
              "      background-color: #E8F0FE;\n",
              "      border: none;\n",
              "      border-radius: 50%;\n",
              "      cursor: pointer;\n",
              "      display: none;\n",
              "      fill: #1967D2;\n",
              "      height: 32px;\n",
              "      padding: 0 0 0 0;\n",
              "      width: 32px;\n",
              "    }\n",
              "\n",
              "    .colab-df-convert:hover {\n",
              "      background-color: #E2EBFA;\n",
              "      box-shadow: 0px 1px 2px rgba(60, 64, 67, 0.3), 0px 1px 3px 1px rgba(60, 64, 67, 0.15);\n",
              "      fill: #174EA6;\n",
              "    }\n",
              "\n",
              "    [theme=dark] .colab-df-convert {\n",
              "      background-color: #3B4455;\n",
              "      fill: #D2E3FC;\n",
              "    }\n",
              "\n",
              "    [theme=dark] .colab-df-convert:hover {\n",
              "      background-color: #434B5C;\n",
              "      box-shadow: 0px 1px 3px 1px rgba(0, 0, 0, 0.15);\n",
              "      filter: drop-shadow(0px 1px 2px rgba(0, 0, 0, 0.3));\n",
              "      fill: #FFFFFF;\n",
              "    }\n",
              "  </style>\n",
              "\n",
              "      <script>\n",
              "        const buttonEl =\n",
              "          document.querySelector('#df-e1e97f19-371e-4441-bdfb-87216da0bad2 button.colab-df-convert');\n",
              "        buttonEl.style.display =\n",
              "          google.colab.kernel.accessAllowed ? 'block' : 'none';\n",
              "\n",
              "        async function convertToInteractive(key) {\n",
              "          const element = document.querySelector('#df-e1e97f19-371e-4441-bdfb-87216da0bad2');\n",
              "          const dataTable =\n",
              "            await google.colab.kernel.invokeFunction('convertToInteractive',\n",
              "                                                     [key], {});\n",
              "          if (!dataTable) return;\n",
              "\n",
              "          const docLinkHtml = 'Like what you see? Visit the ' +\n",
              "            '<a target=\"_blank\" href=https://colab.research.google.com/notebooks/data_table.ipynb>data table notebook</a>'\n",
              "            + ' to learn more about interactive tables.';\n",
              "          element.innerHTML = '';\n",
              "          dataTable['output_type'] = 'display_data';\n",
              "          await google.colab.output.renderOutput(dataTable, element);\n",
              "          const docLink = document.createElement('div');\n",
              "          docLink.innerHTML = docLinkHtml;\n",
              "          element.appendChild(docLink);\n",
              "        }\n",
              "      </script>\n",
              "    </div>\n",
              "  </div>\n",
              "  "
            ]
          },
          "metadata": {},
          "execution_count": 101
        }
      ],
      "source": [
        "df.head()"
      ]
    },
    {
      "cell_type": "code",
      "source": [],
      "metadata": {
        "id": "DRq1B62_fYgj"
      },
      "execution_count": null,
      "outputs": []
    }
  ]
}