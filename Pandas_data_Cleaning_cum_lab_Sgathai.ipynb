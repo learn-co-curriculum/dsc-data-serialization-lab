{
  "cells": [
    {
      "cell_type": "markdown",
      "metadata": {
        "id": "view-in-github",
        "colab_type": "text"
      },
      "source": [
        "<a href=\"https://colab.research.google.com/github/sgathai/dsc-data-serialization-lab/blob/master/Pandas_data_Cleaning_cum_lab_Sgathai.ipynb\" target=\"_parent\"><img src=\"https://colab.research.google.com/assets/colab-badge.svg\" alt=\"Open In Colab\"/></a>"
      ]
    },
    {
      "cell_type": "markdown",
      "metadata": {
        "id": "A3MPTag6cUfs"
      },
      "source": [
        "# Pandas Data Cleaning - Cumulative Lab\n",
        "\n",
        "## Introduction\n",
        "In this lab, we'll make use of everything we've learned about pandas, data cleaning, and exploratory data analysis. In order to complete this lab, you'll have to import, clean, combine, reshape, and visualize data to answer questions provided, as well as your own questions!\n",
        "\n",
        "## Objectives\n",
        "You will be able to:\n",
        "- Practice opening and inspecting the contents of CSVs using pandas dataframes\n",
        "- Practice identifying and handling missing values\n",
        "- Practice identifying and handling invalid values\n",
        "- Practice cleaning text data by removing whitespace and fixing typos\n",
        "- Practice joining multiple dataframes"
      ]
    },
    {
      "cell_type": "markdown",
      "metadata": {
        "id": "nOHcKE8ZcUfu"
      },
      "source": [
        "## Your Task: Clean the Superheroes Dataset with Pandas\n",
        "\n",
        "![LEGO superheroes](images/lego_superheroes.jpg)\n",
        "\n",
        "Photo by <a href=\"https://unsplash.com/@yuliamatvienko?utm_source=unsplash&utm_medium=referral&utm_content=creditCopyText\">Yulia Matvienko</a> on <a href=\"/s/photos/superhero?utm_source=unsplash&utm_medium=referral&utm_content=creditCopyText\">Unsplash</a>"
      ]
    },
    {
      "cell_type": "markdown",
      "metadata": {
        "id": "_uAO4VcUcUfu"
      },
      "source": [
        "### Data Understanding\n",
        "In this lab, we'll work with a version of the comprehensive Superheroes Dataset, which can be found on [Kaggle](https://www.kaggle.com/claudiodavi/superhero-set/data) and was originally scraped from [SuperHeroDb](https://www.superherodb.com/). We have modified the structure and contents of the dataset somewhat for the purposes of this lab.  Note that this data was collected in June 2017, so it may not reflect the most up-to-date superhero lore.\n",
        "\n",
        "The data is contained in two separate CSV files:\n",
        "\n",
        "1. `heroes_information.csv`: each record represents a superhero, with attributes of that superhero (e.g. eye color). Height is measured in centimeters, and weight is measured in pounds.\n",
        "2. `super_hero_powers.csv`: each record represents a superpower, then has True/False values representing whether each superhero has that power\n",
        "\n",
        "### Business Understanding\n",
        "\n",
        "The business questions you have been provided are:\n",
        "\n",
        "1. What is the distribution of superheroes by publisher?\n",
        "2. What is the relationship between height and number of superpowers? And does this differ based on gender?\n",
        "3. What are the 5 most common superpowers in Marvel Comics vs. DC Comics?\n",
        "\n",
        "This lab also simulates something you are likely to encounter at some point or another in your career in data science: someone has given you access to a dataset, as well as a few questions, and has told you to \"find something interesting\".\n",
        "\n",
        "So, in addition to completing the basic data cleaning tasks and the aggregation and reshaping tasks needed to answer the provided questions, you will also need to formulate a question of your own and perform any additional cleaning/aggregation/reshaping that is needed to answer it."
      ]
    },
    {
      "cell_type": "markdown",
      "metadata": {
        "id": "6nDFgBCBcUfv"
      },
      "source": [
        "### Requirements\n",
        "\n",
        "#### 1. Load the Data with Pandas\n",
        "\n",
        "Create a dataframes `heroes_df` and `powers_df` that represent the two CSV files. Use pandas methods to inspect the shape and other attributes of these dataframes.\n",
        "\n",
        "#### 2. Perform Data Cleaning Required to Answer First Question\n",
        "\n",
        "The first question is: *What is the distribution of superheroes by publisher?*\n",
        "\n",
        "In order to answer this question, you will need to:\n",
        "\n",
        "* Identify and handle missing values\n",
        "* Identify and handle text data requiring cleaning\n",
        "\n",
        "#### 3. Perform Data Aggregation and Cleaning Required to Answer Second Question\n",
        "\n",
        "The second question is: *What is the relationship between height and number of superpowers? And does this differ based on gender?*\n",
        "\n",
        "In order to answer this question, you will need to:\n",
        "\n",
        "* Join the dataframes together\n",
        "* Identify and handle invalid values\n",
        "\n",
        "#### 4. Perform Data Aggregation Required to Answer Third Question\n",
        "\n",
        "The third question is: *What are the 5 most common superpowers in Marvel Comics vs. DC Comics?*\n",
        "\n",
        "This should not require any additional data cleaning or joining of tables, but it will require some additional aggregation.\n",
        "\n",
        "#### 5. Formulate and Answer Your Own Question\n",
        "\n",
        "This part is fairly open-ended. Think of a question that can be answered with the available data, and perform any cleaning or aggregation required to answer that question."
      ]
    },
    {
      "cell_type": "markdown",
      "metadata": {
        "id": "Nz9Puxr8cUfv"
      },
      "source": [
        "## 1. Load the Data with Pandas\n",
        "\n",
        "In the cell below, we:\n",
        "\n",
        "* Import and alias `pandas` as `pd`\n",
        "* Import and alias `numpy` as `np`\n",
        "* Import and alias `seaborn` as `sns`\n",
        "* Import and alias `matplotlib.pyplot` as `plt`\n",
        "* Set Matplotlib visualizations to display inline in the notebook"
      ]
    },
    {
      "cell_type": "code",
      "execution_count": null,
      "metadata": {
        "id": "4nnaBw5icUfv"
      },
      "outputs": [],
      "source": [
        "# Run this cell without changes\n",
        "\n",
        "import pandas as pd\n",
        "import numpy as np\n",
        "import seaborn as sns\n",
        "import matplotlib.pyplot as plt\n",
        "\n",
        "%matplotlib inline"
      ]
    },
    {
      "cell_type": "markdown",
      "metadata": {
        "id": "WsHOiQfHcUfw"
      },
      "source": [
        "### Superheroes\n",
        "\n",
        "In the cell below, load `heroes_information.csv` as `heroes_df`:"
      ]
    },
    {
      "cell_type": "code",
      "execution_count": 32,
      "metadata": {
        "id": "eQJ9FO1qcUfw",
        "colab": {
          "base_uri": "https://localhost:8080/",
          "height": 250
        },
        "outputId": "954e585f-2905-4be6-f415-8e9509695f63"
      },
      "outputs": [
        {
          "output_type": "execute_result",
          "data": {
            "text/plain": [
              "   Unnamed: 0         name Gender Eye color               Race Hair color  \\\n",
              "0           0       A-Bomb   Male    yellow              Human    No Hair   \n",
              "1           1   Abe Sapien   Male      blue      Icthyo Sapien    No Hair   \n",
              "2           2     Abin Sur   Male      blue            Ungaran    No Hair   \n",
              "3           3  Abomination   Male     green  Human / Radiation    No Hair   \n",
              "4           4      Abraxas   Male      blue      Cosmic Entity      Black   \n",
              "\n",
              "   Height          Publisher Skin color Alignment  Weight  \n",
              "0   203.0      Marvel Comics          -      good   441.0  \n",
              "1   191.0  Dark Horse Comics       blue      good    65.0  \n",
              "2   185.0          DC Comics        red      good    90.0  \n",
              "3   203.0      Marvel Comics          -       bad   441.0  \n",
              "4   -99.0      Marvel Comics          -       bad   -99.0  "
            ],
            "text/html": [
              "\n",
              "  <div id=\"df-48c94961-681c-4c16-b63b-b74fbfa3be46\">\n",
              "    <div class=\"colab-df-container\">\n",
              "      <div>\n",
              "<style scoped>\n",
              "    .dataframe tbody tr th:only-of-type {\n",
              "        vertical-align: middle;\n",
              "    }\n",
              "\n",
              "    .dataframe tbody tr th {\n",
              "        vertical-align: top;\n",
              "    }\n",
              "\n",
              "    .dataframe thead th {\n",
              "        text-align: right;\n",
              "    }\n",
              "</style>\n",
              "<table border=\"1\" class=\"dataframe\">\n",
              "  <thead>\n",
              "    <tr style=\"text-align: right;\">\n",
              "      <th></th>\n",
              "      <th>Unnamed: 0</th>\n",
              "      <th>name</th>\n",
              "      <th>Gender</th>\n",
              "      <th>Eye color</th>\n",
              "      <th>Race</th>\n",
              "      <th>Hair color</th>\n",
              "      <th>Height</th>\n",
              "      <th>Publisher</th>\n",
              "      <th>Skin color</th>\n",
              "      <th>Alignment</th>\n",
              "      <th>Weight</th>\n",
              "    </tr>\n",
              "  </thead>\n",
              "  <tbody>\n",
              "    <tr>\n",
              "      <th>0</th>\n",
              "      <td>0</td>\n",
              "      <td>A-Bomb</td>\n",
              "      <td>Male</td>\n",
              "      <td>yellow</td>\n",
              "      <td>Human</td>\n",
              "      <td>No Hair</td>\n",
              "      <td>203.0</td>\n",
              "      <td>Marvel Comics</td>\n",
              "      <td>-</td>\n",
              "      <td>good</td>\n",
              "      <td>441.0</td>\n",
              "    </tr>\n",
              "    <tr>\n",
              "      <th>1</th>\n",
              "      <td>1</td>\n",
              "      <td>Abe Sapien</td>\n",
              "      <td>Male</td>\n",
              "      <td>blue</td>\n",
              "      <td>Icthyo Sapien</td>\n",
              "      <td>No Hair</td>\n",
              "      <td>191.0</td>\n",
              "      <td>Dark Horse Comics</td>\n",
              "      <td>blue</td>\n",
              "      <td>good</td>\n",
              "      <td>65.0</td>\n",
              "    </tr>\n",
              "    <tr>\n",
              "      <th>2</th>\n",
              "      <td>2</td>\n",
              "      <td>Abin Sur</td>\n",
              "      <td>Male</td>\n",
              "      <td>blue</td>\n",
              "      <td>Ungaran</td>\n",
              "      <td>No Hair</td>\n",
              "      <td>185.0</td>\n",
              "      <td>DC Comics</td>\n",
              "      <td>red</td>\n",
              "      <td>good</td>\n",
              "      <td>90.0</td>\n",
              "    </tr>\n",
              "    <tr>\n",
              "      <th>3</th>\n",
              "      <td>3</td>\n",
              "      <td>Abomination</td>\n",
              "      <td>Male</td>\n",
              "      <td>green</td>\n",
              "      <td>Human / Radiation</td>\n",
              "      <td>No Hair</td>\n",
              "      <td>203.0</td>\n",
              "      <td>Marvel Comics</td>\n",
              "      <td>-</td>\n",
              "      <td>bad</td>\n",
              "      <td>441.0</td>\n",
              "    </tr>\n",
              "    <tr>\n",
              "      <th>4</th>\n",
              "      <td>4</td>\n",
              "      <td>Abraxas</td>\n",
              "      <td>Male</td>\n",
              "      <td>blue</td>\n",
              "      <td>Cosmic Entity</td>\n",
              "      <td>Black</td>\n",
              "      <td>-99.0</td>\n",
              "      <td>Marvel Comics</td>\n",
              "      <td>-</td>\n",
              "      <td>bad</td>\n",
              "      <td>-99.0</td>\n",
              "    </tr>\n",
              "  </tbody>\n",
              "</table>\n",
              "</div>\n",
              "      <button class=\"colab-df-convert\" onclick=\"convertToInteractive('df-48c94961-681c-4c16-b63b-b74fbfa3be46')\"\n",
              "              title=\"Convert this dataframe to an interactive table.\"\n",
              "              style=\"display:none;\">\n",
              "        \n",
              "  <svg xmlns=\"http://www.w3.org/2000/svg\" height=\"24px\"viewBox=\"0 0 24 24\"\n",
              "       width=\"24px\">\n",
              "    <path d=\"M0 0h24v24H0V0z\" fill=\"none\"/>\n",
              "    <path d=\"M18.56 5.44l.94 2.06.94-2.06 2.06-.94-2.06-.94-.94-2.06-.94 2.06-2.06.94zm-11 1L8.5 8.5l.94-2.06 2.06-.94-2.06-.94L8.5 2.5l-.94 2.06-2.06.94zm10 10l.94 2.06.94-2.06 2.06-.94-2.06-.94-.94-2.06-.94 2.06-2.06.94z\"/><path d=\"M17.41 7.96l-1.37-1.37c-.4-.4-.92-.59-1.43-.59-.52 0-1.04.2-1.43.59L10.3 9.45l-7.72 7.72c-.78.78-.78 2.05 0 2.83L4 21.41c.39.39.9.59 1.41.59.51 0 1.02-.2 1.41-.59l7.78-7.78 2.81-2.81c.8-.78.8-2.07 0-2.86zM5.41 20L4 18.59l7.72-7.72 1.47 1.35L5.41 20z\"/>\n",
              "  </svg>\n",
              "      </button>\n",
              "      \n",
              "  <style>\n",
              "    .colab-df-container {\n",
              "      display:flex;\n",
              "      flex-wrap:wrap;\n",
              "      gap: 12px;\n",
              "    }\n",
              "\n",
              "    .colab-df-convert {\n",
              "      background-color: #E8F0FE;\n",
              "      border: none;\n",
              "      border-radius: 50%;\n",
              "      cursor: pointer;\n",
              "      display: none;\n",
              "      fill: #1967D2;\n",
              "      height: 32px;\n",
              "      padding: 0 0 0 0;\n",
              "      width: 32px;\n",
              "    }\n",
              "\n",
              "    .colab-df-convert:hover {\n",
              "      background-color: #E2EBFA;\n",
              "      box-shadow: 0px 1px 2px rgba(60, 64, 67, 0.3), 0px 1px 3px 1px rgba(60, 64, 67, 0.15);\n",
              "      fill: #174EA6;\n",
              "    }\n",
              "\n",
              "    [theme=dark] .colab-df-convert {\n",
              "      background-color: #3B4455;\n",
              "      fill: #D2E3FC;\n",
              "    }\n",
              "\n",
              "    [theme=dark] .colab-df-convert:hover {\n",
              "      background-color: #434B5C;\n",
              "      box-shadow: 0px 1px 3px 1px rgba(0, 0, 0, 0.15);\n",
              "      filter: drop-shadow(0px 1px 2px rgba(0, 0, 0, 0.3));\n",
              "      fill: #FFFFFF;\n",
              "    }\n",
              "  </style>\n",
              "\n",
              "      <script>\n",
              "        const buttonEl =\n",
              "          document.querySelector('#df-48c94961-681c-4c16-b63b-b74fbfa3be46 button.colab-df-convert');\n",
              "        buttonEl.style.display =\n",
              "          google.colab.kernel.accessAllowed ? 'block' : 'none';\n",
              "\n",
              "        async function convertToInteractive(key) {\n",
              "          const element = document.querySelector('#df-48c94961-681c-4c16-b63b-b74fbfa3be46');\n",
              "          const dataTable =\n",
              "            await google.colab.kernel.invokeFunction('convertToInteractive',\n",
              "                                                     [key], {});\n",
              "          if (!dataTable) return;\n",
              "\n",
              "          const docLinkHtml = 'Like what you see? Visit the ' +\n",
              "            '<a target=\"_blank\" href=https://colab.research.google.com/notebooks/data_table.ipynb>data table notebook</a>'\n",
              "            + ' to learn more about interactive tables.';\n",
              "          element.innerHTML = '';\n",
              "          dataTable['output_type'] = 'display_data';\n",
              "          await google.colab.output.renderOutput(dataTable, element);\n",
              "          const docLink = document.createElement('div');\n",
              "          docLink.innerHTML = docLinkHtml;\n",
              "          element.appendChild(docLink);\n",
              "        }\n",
              "      </script>\n",
              "    </div>\n",
              "  </div>\n",
              "  "
            ]
          },
          "metadata": {},
          "execution_count": 32
        }
      ],
      "source": [
        "# Your code here\n",
        "\n",
        "#heroes_df.head()\n",
        "heroes_df=pd.read_csv('heroes_information.csv')\n",
        "heroes_df\n",
        "heroes_df.head()"
      ]
    },
    {
      "cell_type": "code",
      "source": [
        "from google.colab import drive\n",
        "drive.mount('/content/drive')"
      ],
      "metadata": {
        "id": "JNEeEuKUtIXU"
      },
      "execution_count": null,
      "outputs": []
    },
    {
      "cell_type": "markdown",
      "metadata": {
        "id": "LpF3oQMJcUfw"
      },
      "source": [
        "It looks like that CSV came with an index column, resulting in an extra column called `Unnamed: 0`. We don't need that column, so write code to get rid of it below.\n",
        "\n",
        "There are two ways to do this:\n",
        "\n",
        "1. Re-load with `read_csv`, and specify the parameter `index_col=0`\n",
        "2. Drop the column `Unnamed: 0` with `axis=1`"
      ]
    },
    {
      "cell_type": "code",
      "execution_count": 33,
      "metadata": {
        "id": "hA5qYDTLcUfw",
        "colab": {
          "base_uri": "https://localhost:8080/",
          "height": 206
        },
        "outputId": "9646e378-f886-4225-9590-fbca9edfd8a6"
      },
      "outputs": [
        {
          "output_type": "execute_result",
          "data": {
            "text/plain": [
              "          name Gender Eye color               Race Hair color  Height  \\\n",
              "0       A-Bomb   Male    yellow              Human    No Hair   203.0   \n",
              "1   Abe Sapien   Male      blue      Icthyo Sapien    No Hair   191.0   \n",
              "2     Abin Sur   Male      blue            Ungaran    No Hair   185.0   \n",
              "3  Abomination   Male     green  Human / Radiation    No Hair   203.0   \n",
              "4      Abraxas   Male      blue      Cosmic Entity      Black   -99.0   \n",
              "\n",
              "           Publisher Skin color Alignment  Weight  \n",
              "0      Marvel Comics          -      good   441.0  \n",
              "1  Dark Horse Comics       blue      good    65.0  \n",
              "2          DC Comics        red      good    90.0  \n",
              "3      Marvel Comics          -       bad   441.0  \n",
              "4      Marvel Comics          -       bad   -99.0  "
            ],
            "text/html": [
              "\n",
              "  <div id=\"df-0c44211e-284e-48d8-82f0-5f08e003865f\">\n",
              "    <div class=\"colab-df-container\">\n",
              "      <div>\n",
              "<style scoped>\n",
              "    .dataframe tbody tr th:only-of-type {\n",
              "        vertical-align: middle;\n",
              "    }\n",
              "\n",
              "    .dataframe tbody tr th {\n",
              "        vertical-align: top;\n",
              "    }\n",
              "\n",
              "    .dataframe thead th {\n",
              "        text-align: right;\n",
              "    }\n",
              "</style>\n",
              "<table border=\"1\" class=\"dataframe\">\n",
              "  <thead>\n",
              "    <tr style=\"text-align: right;\">\n",
              "      <th></th>\n",
              "      <th>name</th>\n",
              "      <th>Gender</th>\n",
              "      <th>Eye color</th>\n",
              "      <th>Race</th>\n",
              "      <th>Hair color</th>\n",
              "      <th>Height</th>\n",
              "      <th>Publisher</th>\n",
              "      <th>Skin color</th>\n",
              "      <th>Alignment</th>\n",
              "      <th>Weight</th>\n",
              "    </tr>\n",
              "  </thead>\n",
              "  <tbody>\n",
              "    <tr>\n",
              "      <th>0</th>\n",
              "      <td>A-Bomb</td>\n",
              "      <td>Male</td>\n",
              "      <td>yellow</td>\n",
              "      <td>Human</td>\n",
              "      <td>No Hair</td>\n",
              "      <td>203.0</td>\n",
              "      <td>Marvel Comics</td>\n",
              "      <td>-</td>\n",
              "      <td>good</td>\n",
              "      <td>441.0</td>\n",
              "    </tr>\n",
              "    <tr>\n",
              "      <th>1</th>\n",
              "      <td>Abe Sapien</td>\n",
              "      <td>Male</td>\n",
              "      <td>blue</td>\n",
              "      <td>Icthyo Sapien</td>\n",
              "      <td>No Hair</td>\n",
              "      <td>191.0</td>\n",
              "      <td>Dark Horse Comics</td>\n",
              "      <td>blue</td>\n",
              "      <td>good</td>\n",
              "      <td>65.0</td>\n",
              "    </tr>\n",
              "    <tr>\n",
              "      <th>2</th>\n",
              "      <td>Abin Sur</td>\n",
              "      <td>Male</td>\n",
              "      <td>blue</td>\n",
              "      <td>Ungaran</td>\n",
              "      <td>No Hair</td>\n",
              "      <td>185.0</td>\n",
              "      <td>DC Comics</td>\n",
              "      <td>red</td>\n",
              "      <td>good</td>\n",
              "      <td>90.0</td>\n",
              "    </tr>\n",
              "    <tr>\n",
              "      <th>3</th>\n",
              "      <td>Abomination</td>\n",
              "      <td>Male</td>\n",
              "      <td>green</td>\n",
              "      <td>Human / Radiation</td>\n",
              "      <td>No Hair</td>\n",
              "      <td>203.0</td>\n",
              "      <td>Marvel Comics</td>\n",
              "      <td>-</td>\n",
              "      <td>bad</td>\n",
              "      <td>441.0</td>\n",
              "    </tr>\n",
              "    <tr>\n",
              "      <th>4</th>\n",
              "      <td>Abraxas</td>\n",
              "      <td>Male</td>\n",
              "      <td>blue</td>\n",
              "      <td>Cosmic Entity</td>\n",
              "      <td>Black</td>\n",
              "      <td>-99.0</td>\n",
              "      <td>Marvel Comics</td>\n",
              "      <td>-</td>\n",
              "      <td>bad</td>\n",
              "      <td>-99.0</td>\n",
              "    </tr>\n",
              "  </tbody>\n",
              "</table>\n",
              "</div>\n",
              "      <button class=\"colab-df-convert\" onclick=\"convertToInteractive('df-0c44211e-284e-48d8-82f0-5f08e003865f')\"\n",
              "              title=\"Convert this dataframe to an interactive table.\"\n",
              "              style=\"display:none;\">\n",
              "        \n",
              "  <svg xmlns=\"http://www.w3.org/2000/svg\" height=\"24px\"viewBox=\"0 0 24 24\"\n",
              "       width=\"24px\">\n",
              "    <path d=\"M0 0h24v24H0V0z\" fill=\"none\"/>\n",
              "    <path d=\"M18.56 5.44l.94 2.06.94-2.06 2.06-.94-2.06-.94-.94-2.06-.94 2.06-2.06.94zm-11 1L8.5 8.5l.94-2.06 2.06-.94-2.06-.94L8.5 2.5l-.94 2.06-2.06.94zm10 10l.94 2.06.94-2.06 2.06-.94-2.06-.94-.94-2.06-.94 2.06-2.06.94z\"/><path d=\"M17.41 7.96l-1.37-1.37c-.4-.4-.92-.59-1.43-.59-.52 0-1.04.2-1.43.59L10.3 9.45l-7.72 7.72c-.78.78-.78 2.05 0 2.83L4 21.41c.39.39.9.59 1.41.59.51 0 1.02-.2 1.41-.59l7.78-7.78 2.81-2.81c.8-.78.8-2.07 0-2.86zM5.41 20L4 18.59l7.72-7.72 1.47 1.35L5.41 20z\"/>\n",
              "  </svg>\n",
              "      </button>\n",
              "      \n",
              "  <style>\n",
              "    .colab-df-container {\n",
              "      display:flex;\n",
              "      flex-wrap:wrap;\n",
              "      gap: 12px;\n",
              "    }\n",
              "\n",
              "    .colab-df-convert {\n",
              "      background-color: #E8F0FE;\n",
              "      border: none;\n",
              "      border-radius: 50%;\n",
              "      cursor: pointer;\n",
              "      display: none;\n",
              "      fill: #1967D2;\n",
              "      height: 32px;\n",
              "      padding: 0 0 0 0;\n",
              "      width: 32px;\n",
              "    }\n",
              "\n",
              "    .colab-df-convert:hover {\n",
              "      background-color: #E2EBFA;\n",
              "      box-shadow: 0px 1px 2px rgba(60, 64, 67, 0.3), 0px 1px 3px 1px rgba(60, 64, 67, 0.15);\n",
              "      fill: #174EA6;\n",
              "    }\n",
              "\n",
              "    [theme=dark] .colab-df-convert {\n",
              "      background-color: #3B4455;\n",
              "      fill: #D2E3FC;\n",
              "    }\n",
              "\n",
              "    [theme=dark] .colab-df-convert:hover {\n",
              "      background-color: #434B5C;\n",
              "      box-shadow: 0px 1px 3px 1px rgba(0, 0, 0, 0.15);\n",
              "      filter: drop-shadow(0px 1px 2px rgba(0, 0, 0, 0.3));\n",
              "      fill: #FFFFFF;\n",
              "    }\n",
              "  </style>\n",
              "\n",
              "      <script>\n",
              "        const buttonEl =\n",
              "          document.querySelector('#df-0c44211e-284e-48d8-82f0-5f08e003865f button.colab-df-convert');\n",
              "        buttonEl.style.display =\n",
              "          google.colab.kernel.accessAllowed ? 'block' : 'none';\n",
              "\n",
              "        async function convertToInteractive(key) {\n",
              "          const element = document.querySelector('#df-0c44211e-284e-48d8-82f0-5f08e003865f');\n",
              "          const dataTable =\n",
              "            await google.colab.kernel.invokeFunction('convertToInteractive',\n",
              "                                                     [key], {});\n",
              "          if (!dataTable) return;\n",
              "\n",
              "          const docLinkHtml = 'Like what you see? Visit the ' +\n",
              "            '<a target=\"_blank\" href=https://colab.research.google.com/notebooks/data_table.ipynb>data table notebook</a>'\n",
              "            + ' to learn more about interactive tables.';\n",
              "          element.innerHTML = '';\n",
              "          dataTable['output_type'] = 'display_data';\n",
              "          await google.colab.output.renderOutput(dataTable, element);\n",
              "          const docLink = document.createElement('div');\n",
              "          docLink.innerHTML = docLinkHtml;\n",
              "          element.appendChild(docLink);\n",
              "        }\n",
              "      </script>\n",
              "    </div>\n",
              "  </div>\n",
              "  "
            ]
          },
          "metadata": {},
          "execution_count": 33
        }
      ],
      "source": [
        "# Your code here\n",
        "\n",
        "#heroes_df.head()\n",
        "#Re-load with read_csv, and specify the parameter index_col=0\n",
        "heroes_df=pd.read_csv('heroes_information.csv', index_col=0)\n",
        "heroes_df.head()\n"
      ]
    },
    {
      "cell_type": "code",
      "source": [
        "#Drop the column Unnamed: 0 with axis=1\n",
        "#heroes_df.drop('Unnamed: 0', axis=1, inplace=True)\n",
        "#heroes_df.head()\n",
        "heroes_df.columns\n",
        "\n"
      ],
      "metadata": {
        "colab": {
          "base_uri": "https://localhost:8080/"
        },
        "id": "lPQgbt1fkpcK",
        "outputId": "45c6569c-97ad-47f6-ce81-1517fa6b1dcb"
      },
      "execution_count": 34,
      "outputs": [
        {
          "output_type": "execute_result",
          "data": {
            "text/plain": [
              "Index(['name', 'Gender', 'Eye color', 'Race', 'Hair color', 'Height',\n",
              "       'Publisher', 'Skin color', 'Alignment', 'Weight'],\n",
              "      dtype='object')"
            ]
          },
          "metadata": {},
          "execution_count": 34
        }
      ]
    },
    {
      "cell_type": "code",
      "source": [
        "heroes_df.isna().sum()"
      ],
      "metadata": {
        "colab": {
          "base_uri": "https://localhost:8080/"
        },
        "id": "d3DUCgQdr8-O",
        "outputId": "636196e2-1188-40b4-82d4-166fe1bf56cb"
      },
      "execution_count": 35,
      "outputs": [
        {
          "output_type": "execute_result",
          "data": {
            "text/plain": [
              "name           0\n",
              "Gender         0\n",
              "Eye color      0\n",
              "Race           0\n",
              "Hair color     0\n",
              "Height         0\n",
              "Publisher     15\n",
              "Skin color     0\n",
              "Alignment      0\n",
              "Weight         2\n",
              "dtype: int64"
            ]
          },
          "metadata": {},
          "execution_count": 35
        }
      ]
    },
    {
      "cell_type": "code",
      "source": [
        "heroes_df.shape"
      ],
      "metadata": {
        "colab": {
          "base_uri": "https://localhost:8080/"
        },
        "id": "RM6Lu-d0sQtx",
        "outputId": "849a7045-4437-4e32-9165-0a7d844267de"
      },
      "execution_count": 36,
      "outputs": [
        {
          "output_type": "execute_result",
          "data": {
            "text/plain": [
              "(734, 10)"
            ]
          },
          "metadata": {},
          "execution_count": 36
        }
      ]
    },
    {
      "cell_type": "code",
      "source": [
        "heroes_df.describe()"
      ],
      "metadata": {
        "colab": {
          "base_uri": "https://localhost:8080/",
          "height": 300
        },
        "id": "kjS3R_N9sbxx",
        "outputId": "3d99fe6d-02f2-4f08-a138-2155d062b2fa"
      },
      "execution_count": 37,
      "outputs": [
        {
          "output_type": "execute_result",
          "data": {
            "text/plain": [
              "           Height      Weight\n",
              "count  734.000000  732.000000\n",
              "mean   102.254087   43.855191\n",
              "std    139.624543  130.823733\n",
              "min    -99.000000  -99.000000\n",
              "25%    -99.000000  -99.000000\n",
              "50%    175.000000   62.000000\n",
              "75%    185.000000   90.000000\n",
              "max    975.000000  900.000000"
            ],
            "text/html": [
              "\n",
              "  <div id=\"df-ef4d2b81-7c0b-48f1-9b66-6ff208b53698\">\n",
              "    <div class=\"colab-df-container\">\n",
              "      <div>\n",
              "<style scoped>\n",
              "    .dataframe tbody tr th:only-of-type {\n",
              "        vertical-align: middle;\n",
              "    }\n",
              "\n",
              "    .dataframe tbody tr th {\n",
              "        vertical-align: top;\n",
              "    }\n",
              "\n",
              "    .dataframe thead th {\n",
              "        text-align: right;\n",
              "    }\n",
              "</style>\n",
              "<table border=\"1\" class=\"dataframe\">\n",
              "  <thead>\n",
              "    <tr style=\"text-align: right;\">\n",
              "      <th></th>\n",
              "      <th>Height</th>\n",
              "      <th>Weight</th>\n",
              "    </tr>\n",
              "  </thead>\n",
              "  <tbody>\n",
              "    <tr>\n",
              "      <th>count</th>\n",
              "      <td>734.000000</td>\n",
              "      <td>732.000000</td>\n",
              "    </tr>\n",
              "    <tr>\n",
              "      <th>mean</th>\n",
              "      <td>102.254087</td>\n",
              "      <td>43.855191</td>\n",
              "    </tr>\n",
              "    <tr>\n",
              "      <th>std</th>\n",
              "      <td>139.624543</td>\n",
              "      <td>130.823733</td>\n",
              "    </tr>\n",
              "    <tr>\n",
              "      <th>min</th>\n",
              "      <td>-99.000000</td>\n",
              "      <td>-99.000000</td>\n",
              "    </tr>\n",
              "    <tr>\n",
              "      <th>25%</th>\n",
              "      <td>-99.000000</td>\n",
              "      <td>-99.000000</td>\n",
              "    </tr>\n",
              "    <tr>\n",
              "      <th>50%</th>\n",
              "      <td>175.000000</td>\n",
              "      <td>62.000000</td>\n",
              "    </tr>\n",
              "    <tr>\n",
              "      <th>75%</th>\n",
              "      <td>185.000000</td>\n",
              "      <td>90.000000</td>\n",
              "    </tr>\n",
              "    <tr>\n",
              "      <th>max</th>\n",
              "      <td>975.000000</td>\n",
              "      <td>900.000000</td>\n",
              "    </tr>\n",
              "  </tbody>\n",
              "</table>\n",
              "</div>\n",
              "      <button class=\"colab-df-convert\" onclick=\"convertToInteractive('df-ef4d2b81-7c0b-48f1-9b66-6ff208b53698')\"\n",
              "              title=\"Convert this dataframe to an interactive table.\"\n",
              "              style=\"display:none;\">\n",
              "        \n",
              "  <svg xmlns=\"http://www.w3.org/2000/svg\" height=\"24px\"viewBox=\"0 0 24 24\"\n",
              "       width=\"24px\">\n",
              "    <path d=\"M0 0h24v24H0V0z\" fill=\"none\"/>\n",
              "    <path d=\"M18.56 5.44l.94 2.06.94-2.06 2.06-.94-2.06-.94-.94-2.06-.94 2.06-2.06.94zm-11 1L8.5 8.5l.94-2.06 2.06-.94-2.06-.94L8.5 2.5l-.94 2.06-2.06.94zm10 10l.94 2.06.94-2.06 2.06-.94-2.06-.94-.94-2.06-.94 2.06-2.06.94z\"/><path d=\"M17.41 7.96l-1.37-1.37c-.4-.4-.92-.59-1.43-.59-.52 0-1.04.2-1.43.59L10.3 9.45l-7.72 7.72c-.78.78-.78 2.05 0 2.83L4 21.41c.39.39.9.59 1.41.59.51 0 1.02-.2 1.41-.59l7.78-7.78 2.81-2.81c.8-.78.8-2.07 0-2.86zM5.41 20L4 18.59l7.72-7.72 1.47 1.35L5.41 20z\"/>\n",
              "  </svg>\n",
              "      </button>\n",
              "      \n",
              "  <style>\n",
              "    .colab-df-container {\n",
              "      display:flex;\n",
              "      flex-wrap:wrap;\n",
              "      gap: 12px;\n",
              "    }\n",
              "\n",
              "    .colab-df-convert {\n",
              "      background-color: #E8F0FE;\n",
              "      border: none;\n",
              "      border-radius: 50%;\n",
              "      cursor: pointer;\n",
              "      display: none;\n",
              "      fill: #1967D2;\n",
              "      height: 32px;\n",
              "      padding: 0 0 0 0;\n",
              "      width: 32px;\n",
              "    }\n",
              "\n",
              "    .colab-df-convert:hover {\n",
              "      background-color: #E2EBFA;\n",
              "      box-shadow: 0px 1px 2px rgba(60, 64, 67, 0.3), 0px 1px 3px 1px rgba(60, 64, 67, 0.15);\n",
              "      fill: #174EA6;\n",
              "    }\n",
              "\n",
              "    [theme=dark] .colab-df-convert {\n",
              "      background-color: #3B4455;\n",
              "      fill: #D2E3FC;\n",
              "    }\n",
              "\n",
              "    [theme=dark] .colab-df-convert:hover {\n",
              "      background-color: #434B5C;\n",
              "      box-shadow: 0px 1px 3px 1px rgba(0, 0, 0, 0.15);\n",
              "      filter: drop-shadow(0px 1px 2px rgba(0, 0, 0, 0.3));\n",
              "      fill: #FFFFFF;\n",
              "    }\n",
              "  </style>\n",
              "\n",
              "      <script>\n",
              "        const buttonEl =\n",
              "          document.querySelector('#df-ef4d2b81-7c0b-48f1-9b66-6ff208b53698 button.colab-df-convert');\n",
              "        buttonEl.style.display =\n",
              "          google.colab.kernel.accessAllowed ? 'block' : 'none';\n",
              "\n",
              "        async function convertToInteractive(key) {\n",
              "          const element = document.querySelector('#df-ef4d2b81-7c0b-48f1-9b66-6ff208b53698');\n",
              "          const dataTable =\n",
              "            await google.colab.kernel.invokeFunction('convertToInteractive',\n",
              "                                                     [key], {});\n",
              "          if (!dataTable) return;\n",
              "\n",
              "          const docLinkHtml = 'Like what you see? Visit the ' +\n",
              "            '<a target=\"_blank\" href=https://colab.research.google.com/notebooks/data_table.ipynb>data table notebook</a>'\n",
              "            + ' to learn more about interactive tables.';\n",
              "          element.innerHTML = '';\n",
              "          dataTable['output_type'] = 'display_data';\n",
              "          await google.colab.output.renderOutput(dataTable, element);\n",
              "          const docLink = document.createElement('div');\n",
              "          docLink.innerHTML = docLinkHtml;\n",
              "          element.appendChild(docLink);\n",
              "        }\n",
              "      </script>\n",
              "    </div>\n",
              "  </div>\n",
              "  "
            ]
          },
          "metadata": {},
          "execution_count": 37
        }
      ]
    },
    {
      "cell_type": "code",
      "source": [
        "heroes_df.tail()"
      ],
      "metadata": {
        "colab": {
          "base_uri": "https://localhost:8080/",
          "height": 206
        },
        "id": "4wwaGwkRsk5u",
        "outputId": "b56dd0ca-c1f3-43ca-8c29-39dc27e3e777"
      },
      "execution_count": 38,
      "outputs": [
        {
          "output_type": "execute_result",
          "data": {
            "text/plain": [
              "                name  Gender Eye color            Race        Hair color  \\\n",
              "729  Yellowjacket II  Female      blue           Human  Strawberry Blond   \n",
              "730             Ymir    Male     white     Frost Giant           No Hair   \n",
              "731             Yoda    Male     brown  Yoda's species             White   \n",
              "732          Zatanna  Female      blue           Human             Black   \n",
              "733             Zoom    Male       red               -             Brown   \n",
              "\n",
              "     Height      Publisher Skin color Alignment  Weight  \n",
              "729   165.0  Marvel Comics          -      good    52.0  \n",
              "730   304.8  Marvel Comics      white      good   -99.0  \n",
              "731    66.0   George Lucas      green      good    17.0  \n",
              "732   170.0      DC Comics          -      good    57.0  \n",
              "733   185.0      DC Comics          -       bad    81.0  "
            ],
            "text/html": [
              "\n",
              "  <div id=\"df-a92c111f-f2ca-4c42-8115-94210d34f1d1\">\n",
              "    <div class=\"colab-df-container\">\n",
              "      <div>\n",
              "<style scoped>\n",
              "    .dataframe tbody tr th:only-of-type {\n",
              "        vertical-align: middle;\n",
              "    }\n",
              "\n",
              "    .dataframe tbody tr th {\n",
              "        vertical-align: top;\n",
              "    }\n",
              "\n",
              "    .dataframe thead th {\n",
              "        text-align: right;\n",
              "    }\n",
              "</style>\n",
              "<table border=\"1\" class=\"dataframe\">\n",
              "  <thead>\n",
              "    <tr style=\"text-align: right;\">\n",
              "      <th></th>\n",
              "      <th>name</th>\n",
              "      <th>Gender</th>\n",
              "      <th>Eye color</th>\n",
              "      <th>Race</th>\n",
              "      <th>Hair color</th>\n",
              "      <th>Height</th>\n",
              "      <th>Publisher</th>\n",
              "      <th>Skin color</th>\n",
              "      <th>Alignment</th>\n",
              "      <th>Weight</th>\n",
              "    </tr>\n",
              "  </thead>\n",
              "  <tbody>\n",
              "    <tr>\n",
              "      <th>729</th>\n",
              "      <td>Yellowjacket II</td>\n",
              "      <td>Female</td>\n",
              "      <td>blue</td>\n",
              "      <td>Human</td>\n",
              "      <td>Strawberry Blond</td>\n",
              "      <td>165.0</td>\n",
              "      <td>Marvel Comics</td>\n",
              "      <td>-</td>\n",
              "      <td>good</td>\n",
              "      <td>52.0</td>\n",
              "    </tr>\n",
              "    <tr>\n",
              "      <th>730</th>\n",
              "      <td>Ymir</td>\n",
              "      <td>Male</td>\n",
              "      <td>white</td>\n",
              "      <td>Frost Giant</td>\n",
              "      <td>No Hair</td>\n",
              "      <td>304.8</td>\n",
              "      <td>Marvel Comics</td>\n",
              "      <td>white</td>\n",
              "      <td>good</td>\n",
              "      <td>-99.0</td>\n",
              "    </tr>\n",
              "    <tr>\n",
              "      <th>731</th>\n",
              "      <td>Yoda</td>\n",
              "      <td>Male</td>\n",
              "      <td>brown</td>\n",
              "      <td>Yoda's species</td>\n",
              "      <td>White</td>\n",
              "      <td>66.0</td>\n",
              "      <td>George Lucas</td>\n",
              "      <td>green</td>\n",
              "      <td>good</td>\n",
              "      <td>17.0</td>\n",
              "    </tr>\n",
              "    <tr>\n",
              "      <th>732</th>\n",
              "      <td>Zatanna</td>\n",
              "      <td>Female</td>\n",
              "      <td>blue</td>\n",
              "      <td>Human</td>\n",
              "      <td>Black</td>\n",
              "      <td>170.0</td>\n",
              "      <td>DC Comics</td>\n",
              "      <td>-</td>\n",
              "      <td>good</td>\n",
              "      <td>57.0</td>\n",
              "    </tr>\n",
              "    <tr>\n",
              "      <th>733</th>\n",
              "      <td>Zoom</td>\n",
              "      <td>Male</td>\n",
              "      <td>red</td>\n",
              "      <td>-</td>\n",
              "      <td>Brown</td>\n",
              "      <td>185.0</td>\n",
              "      <td>DC Comics</td>\n",
              "      <td>-</td>\n",
              "      <td>bad</td>\n",
              "      <td>81.0</td>\n",
              "    </tr>\n",
              "  </tbody>\n",
              "</table>\n",
              "</div>\n",
              "      <button class=\"colab-df-convert\" onclick=\"convertToInteractive('df-a92c111f-f2ca-4c42-8115-94210d34f1d1')\"\n",
              "              title=\"Convert this dataframe to an interactive table.\"\n",
              "              style=\"display:none;\">\n",
              "        \n",
              "  <svg xmlns=\"http://www.w3.org/2000/svg\" height=\"24px\"viewBox=\"0 0 24 24\"\n",
              "       width=\"24px\">\n",
              "    <path d=\"M0 0h24v24H0V0z\" fill=\"none\"/>\n",
              "    <path d=\"M18.56 5.44l.94 2.06.94-2.06 2.06-.94-2.06-.94-.94-2.06-.94 2.06-2.06.94zm-11 1L8.5 8.5l.94-2.06 2.06-.94-2.06-.94L8.5 2.5l-.94 2.06-2.06.94zm10 10l.94 2.06.94-2.06 2.06-.94-2.06-.94-.94-2.06-.94 2.06-2.06.94z\"/><path d=\"M17.41 7.96l-1.37-1.37c-.4-.4-.92-.59-1.43-.59-.52 0-1.04.2-1.43.59L10.3 9.45l-7.72 7.72c-.78.78-.78 2.05 0 2.83L4 21.41c.39.39.9.59 1.41.59.51 0 1.02-.2 1.41-.59l7.78-7.78 2.81-2.81c.8-.78.8-2.07 0-2.86zM5.41 20L4 18.59l7.72-7.72 1.47 1.35L5.41 20z\"/>\n",
              "  </svg>\n",
              "      </button>\n",
              "      \n",
              "  <style>\n",
              "    .colab-df-container {\n",
              "      display:flex;\n",
              "      flex-wrap:wrap;\n",
              "      gap: 12px;\n",
              "    }\n",
              "\n",
              "    .colab-df-convert {\n",
              "      background-color: #E8F0FE;\n",
              "      border: none;\n",
              "      border-radius: 50%;\n",
              "      cursor: pointer;\n",
              "      display: none;\n",
              "      fill: #1967D2;\n",
              "      height: 32px;\n",
              "      padding: 0 0 0 0;\n",
              "      width: 32px;\n",
              "    }\n",
              "\n",
              "    .colab-df-convert:hover {\n",
              "      background-color: #E2EBFA;\n",
              "      box-shadow: 0px 1px 2px rgba(60, 64, 67, 0.3), 0px 1px 3px 1px rgba(60, 64, 67, 0.15);\n",
              "      fill: #174EA6;\n",
              "    }\n",
              "\n",
              "    [theme=dark] .colab-df-convert {\n",
              "      background-color: #3B4455;\n",
              "      fill: #D2E3FC;\n",
              "    }\n",
              "\n",
              "    [theme=dark] .colab-df-convert:hover {\n",
              "      background-color: #434B5C;\n",
              "      box-shadow: 0px 1px 3px 1px rgba(0, 0, 0, 0.15);\n",
              "      filter: drop-shadow(0px 1px 2px rgba(0, 0, 0, 0.3));\n",
              "      fill: #FFFFFF;\n",
              "    }\n",
              "  </style>\n",
              "\n",
              "      <script>\n",
              "        const buttonEl =\n",
              "          document.querySelector('#df-a92c111f-f2ca-4c42-8115-94210d34f1d1 button.colab-df-convert');\n",
              "        buttonEl.style.display =\n",
              "          google.colab.kernel.accessAllowed ? 'block' : 'none';\n",
              "\n",
              "        async function convertToInteractive(key) {\n",
              "          const element = document.querySelector('#df-a92c111f-f2ca-4c42-8115-94210d34f1d1');\n",
              "          const dataTable =\n",
              "            await google.colab.kernel.invokeFunction('convertToInteractive',\n",
              "                                                     [key], {});\n",
              "          if (!dataTable) return;\n",
              "\n",
              "          const docLinkHtml = 'Like what you see? Visit the ' +\n",
              "            '<a target=\"_blank\" href=https://colab.research.google.com/notebooks/data_table.ipynb>data table notebook</a>'\n",
              "            + ' to learn more about interactive tables.';\n",
              "          element.innerHTML = '';\n",
              "          dataTable['output_type'] = 'display_data';\n",
              "          await google.colab.output.renderOutput(dataTable, element);\n",
              "          const docLink = document.createElement('div');\n",
              "          docLink.innerHTML = docLinkHtml;\n",
              "          element.appendChild(docLink);\n",
              "        }\n",
              "      </script>\n",
              "    </div>\n",
              "  </div>\n",
              "  "
            ]
          },
          "metadata": {},
          "execution_count": 38
        }
      ]
    },
    {
      "cell_type": "markdown",
      "metadata": {
        "id": "ffeeriYtcUfx"
      },
      "source": [
        "The following code checks that the dataframe was loaded correctly."
      ]
    },
    {
      "cell_type": "code",
      "execution_count": 40,
      "metadata": {
        "id": "EWSc6LWxcUfx",
        "colab": {
          "base_uri": "https://localhost:8080/"
        },
        "outputId": "c616cbc1-e0df-465b-a3cb-800d6ac8b6b9"
      },
      "outputs": [
        {
          "output_type": "stream",
          "name": "stdout",
          "text": [
            "(734, 10)\n"
          ]
        }
      ],
      "source": [
        "# Run this cell without changes\n",
        "\n",
        "# There should be 734 rows\n",
        "assert heroes_df.shape[0] == 734\n",
        "\n",
        "# There should be 10 columns. If this fails, make sure you got rid of\n",
        "# the extra index column\n",
        "assert heroes_df.shape[1] == 10\n",
        "print(heroes_df.shape)\n",
        "\n",
        "# These should be the columns\n",
        "assert list(heroes_df.columns) == [\n",
        "    \"name\",\n",
        "    \"Gender\",\n",
        "    \"Eye color\",\n",
        "    \"Race\",\n",
        "    \"Hair color\",\n",
        "    \"Height\",\n",
        "    \"Publisher\",\n",
        "    \"Skin color\",\n",
        "    \"Alignment\",\n",
        "    \"Weight\",\n",
        "]"
      ]
    },
    {
      "cell_type": "code",
      "source": [],
      "metadata": {
        "id": "dIP7mh3rznjD"
      },
      "execution_count": null,
      "outputs": []
    },
    {
      "cell_type": "code",
      "source": [
        "#asserting on the number of rows and columns \n",
        "#asserting on the names of columns\n",
        "print(heroes_df.shape)\n",
        "print(heroes_df.columns)"
      ],
      "metadata": {
        "colab": {
          "base_uri": "https://localhost:8080/"
        },
        "id": "JE87qFUDujce",
        "outputId": "3e018824-a3b9-4b1a-80e9-85de89819699"
      },
      "execution_count": 42,
      "outputs": [
        {
          "output_type": "stream",
          "name": "stdout",
          "text": [
            "(734, 10)\n",
            "Index(['name', 'Gender', 'Eye color', 'Race', 'Hair color', 'Height',\n",
            "       'Publisher', 'Skin color', 'Alignment', 'Weight'],\n",
            "      dtype='object')\n"
          ]
        }
      ]
    },
    {
      "cell_type": "markdown",
      "metadata": {
        "id": "G0m5nywkcUfx"
      },
      "source": [
        "Now you want to get familiar with the data.  This step includes:\n",
        "\n",
        "* Understanding the dimensionality of your dataset\n",
        "* Investigating what type of data it contains, and the data types used to store it\n",
        "* Discovering how missing values are encoded, and how many there are\n",
        "* Getting a feel for what information it does and doesn't contain\n",
        "\n",
        "In the cell below, inspect the overall shape of the dataframe:"
      ]
    },
    {
      "cell_type": "code",
      "execution_count": 43,
      "metadata": {
        "id": "3LzY3PpqcUfx",
        "colab": {
          "base_uri": "https://localhost:8080/"
        },
        "outputId": "233c1347-165d-4b7c-b8da-4b8c03c7d5e3"
      },
      "outputs": [
        {
          "output_type": "execute_result",
          "data": {
            "text/plain": [
              "(734, 10)"
            ]
          },
          "metadata": {},
          "execution_count": 43
        }
      ],
      "source": [
        "# Your code here\n",
        "heroes_df.shape"
      ]
    },
    {
      "cell_type": "markdown",
      "metadata": {
        "id": "DDa7GuOEcUfx"
      },
      "source": [
        "Now let's look at the info printout:"
      ]
    },
    {
      "cell_type": "code",
      "execution_count": 44,
      "metadata": {
        "id": "fm8MalczcUfx",
        "colab": {
          "base_uri": "https://localhost:8080/"
        },
        "outputId": "e60e5d0c-7b44-4357-c2bd-39437c749659"
      },
      "outputs": [
        {
          "output_type": "stream",
          "name": "stdout",
          "text": [
            "<class 'pandas.core.frame.DataFrame'>\n",
            "Int64Index: 734 entries, 0 to 733\n",
            "Data columns (total 10 columns):\n",
            " #   Column      Non-Null Count  Dtype  \n",
            "---  ------      --------------  -----  \n",
            " 0   name        734 non-null    object \n",
            " 1   Gender      734 non-null    object \n",
            " 2   Eye color   734 non-null    object \n",
            " 3   Race        734 non-null    object \n",
            " 4   Hair color  734 non-null    object \n",
            " 5   Height      734 non-null    float64\n",
            " 6   Publisher   719 non-null    object \n",
            " 7   Skin color  734 non-null    object \n",
            " 8   Alignment   734 non-null    object \n",
            " 9   Weight      732 non-null    float64\n",
            "dtypes: float64(2), object(8)\n",
            "memory usage: 63.1+ KB\n"
          ]
        }
      ],
      "source": [
        "# Run this cell without changes\n",
        "#heroes_df.info()\n",
        "heroes_df.info()"
      ]
    },
    {
      "cell_type": "markdown",
      "metadata": {
        "id": "KSGS6d7wcUfx"
      },
      "source": [
        "In the cell below, interpret that information. Do the data types line up with what we expect? Are there any missing values?"
      ]
    },
    {
      "cell_type": "code",
      "execution_count": 45,
      "metadata": {
        "id": "VRSVgQOTcUfy",
        "colab": {
          "base_uri": "https://localhost:8080/"
        },
        "outputId": "2eb84342-cd6e-4ec0-b5e7-5b9d4ea89efb"
      },
      "outputs": [
        {
          "output_type": "execute_result",
          "data": {
            "text/plain": [
              "name           0\n",
              "Gender         0\n",
              "Eye color      0\n",
              "Race           0\n",
              "Hair color     0\n",
              "Height         0\n",
              "Publisher     15\n",
              "Skin color     0\n",
              "Alignment      0\n",
              "Weight         2\n",
              "dtype: int64"
            ]
          },
          "metadata": {},
          "execution_count": 45
        }
      ],
      "source": [
        "# Replace None with appropriate text\n",
        "#\"\"\"\n",
        "#None\n",
        "heroes_df.isna().sum()\n",
        "#publisher has 15 missing values \n",
        "#Weight has 2 missing values \n",
        "#name/Gender/Eye color/Race/Hair color /height/Skin color and Alignment has no missing values .\n",
        "#\"\"\""
      ]
    },
    {
      "cell_type": "markdown",
      "metadata": {
        "id": "XyXXD-jXcUfy"
      },
      "source": [
        "### Superpowers\n",
        "\n",
        "Now, repeat the same process with `super_hero_powers.csv`. Name the dataframe `powers_df`. This time, make sure you use `index_col=0` when opening the CSV because the index contains important information."
      ]
    },
    {
      "cell_type": "code",
      "execution_count": null,
      "metadata": {
        "id": "OGaIyhVPcUfy",
        "colab": {
          "base_uri": "https://localhost:8080/",
          "height": 609
        },
        "outputId": "8d58aec0-8e95-4841-9b92-bfcc663476d6"
      },
      "outputs": [
        {
          "output_type": "execute_result",
          "data": {
            "text/plain": [
              "                Unnamed: 0  3-D Man  A-Bomb  Abe Sapien  Abin Sur  \\\n",
              "0                  Agility     True   False        True     False   \n",
              "1      Accelerated Healing    False    True        True     False   \n",
              "2       Lantern Power Ring    False   False       False      True   \n",
              "3    Dimensional Awareness    False   False       False     False   \n",
              "4          Cold Resistance    False   False        True     False   \n",
              "..                     ...      ...     ...         ...       ...   \n",
              "162          Phoenix Force    False   False       False     False   \n",
              "163  Molecular Dissipation    False   False       False     False   \n",
              "164          Vision - Cryo    False   False       False     False   \n",
              "165            Omnipresent    False   False       False     False   \n",
              "166             Omniscient    False   False       False     False   \n",
              "\n",
              "     Abomination  Abraxas  Absorbing Man  Adam Monroe  Adam Strange  ...  \\\n",
              "0          False    False          False        False         False  ...   \n",
              "1           True    False          False         True         False  ...   \n",
              "2          False    False          False        False         False  ...   \n",
              "3          False     True          False        False         False  ...   \n",
              "4          False    False           True        False         False  ...   \n",
              "..           ...      ...            ...          ...           ...  ...   \n",
              "162        False    False          False        False         False  ...   \n",
              "163        False    False          False        False         False  ...   \n",
              "164        False    False          False        False         False  ...   \n",
              "165        False    False          False        False         False  ...   \n",
              "166        False    False          False        False         False  ...   \n",
              "\n",
              "     Wonder Man  Wonder Woman   X-23  X-Man  Yellowjacket  Yellowjacket II  \\\n",
              "0         False         False   True  False         False            False   \n",
              "1         False          True   True  False         False            False   \n",
              "2         False         False  False  False         False            False   \n",
              "3         False         False  False  False         False            False   \n",
              "4         False         False  False  False         False            False   \n",
              "..          ...           ...    ...    ...           ...              ...   \n",
              "162       False         False  False  False         False            False   \n",
              "163       False         False  False  False         False            False   \n",
              "164       False         False  False  False         False            False   \n",
              "165       False         False  False  False         False            False   \n",
              "166       False         False  False  False         False            False   \n",
              "\n",
              "      Ymir   Yoda  Zatanna   Zoom  \n",
              "0    False   True    False  False  \n",
              "1    False  False    False  False  \n",
              "2    False  False    False  False  \n",
              "3    False  False    False  False  \n",
              "4     True  False    False  False  \n",
              "..     ...    ...      ...    ...  \n",
              "162  False  False    False  False  \n",
              "163  False  False    False  False  \n",
              "164  False  False    False  False  \n",
              "165  False  False    False  False  \n",
              "166  False  False    False  False  \n",
              "\n",
              "[167 rows x 668 columns]"
            ],
            "text/html": [
              "\n",
              "  <div id=\"df-1aff44c5-3ab6-4611-b98c-cfaa23cc363b\">\n",
              "    <div class=\"colab-df-container\">\n",
              "      <div>\n",
              "<style scoped>\n",
              "    .dataframe tbody tr th:only-of-type {\n",
              "        vertical-align: middle;\n",
              "    }\n",
              "\n",
              "    .dataframe tbody tr th {\n",
              "        vertical-align: top;\n",
              "    }\n",
              "\n",
              "    .dataframe thead th {\n",
              "        text-align: right;\n",
              "    }\n",
              "</style>\n",
              "<table border=\"1\" class=\"dataframe\">\n",
              "  <thead>\n",
              "    <tr style=\"text-align: right;\">\n",
              "      <th></th>\n",
              "      <th>Unnamed: 0</th>\n",
              "      <th>3-D Man</th>\n",
              "      <th>A-Bomb</th>\n",
              "      <th>Abe Sapien</th>\n",
              "      <th>Abin Sur</th>\n",
              "      <th>Abomination</th>\n",
              "      <th>Abraxas</th>\n",
              "      <th>Absorbing Man</th>\n",
              "      <th>Adam Monroe</th>\n",
              "      <th>Adam Strange</th>\n",
              "      <th>...</th>\n",
              "      <th>Wonder Man</th>\n",
              "      <th>Wonder Woman</th>\n",
              "      <th>X-23</th>\n",
              "      <th>X-Man</th>\n",
              "      <th>Yellowjacket</th>\n",
              "      <th>Yellowjacket II</th>\n",
              "      <th>Ymir</th>\n",
              "      <th>Yoda</th>\n",
              "      <th>Zatanna</th>\n",
              "      <th>Zoom</th>\n",
              "    </tr>\n",
              "  </thead>\n",
              "  <tbody>\n",
              "    <tr>\n",
              "      <th>0</th>\n",
              "      <td>Agility</td>\n",
              "      <td>True</td>\n",
              "      <td>False</td>\n",
              "      <td>True</td>\n",
              "      <td>False</td>\n",
              "      <td>False</td>\n",
              "      <td>False</td>\n",
              "      <td>False</td>\n",
              "      <td>False</td>\n",
              "      <td>False</td>\n",
              "      <td>...</td>\n",
              "      <td>False</td>\n",
              "      <td>False</td>\n",
              "      <td>True</td>\n",
              "      <td>False</td>\n",
              "      <td>False</td>\n",
              "      <td>False</td>\n",
              "      <td>False</td>\n",
              "      <td>True</td>\n",
              "      <td>False</td>\n",
              "      <td>False</td>\n",
              "    </tr>\n",
              "    <tr>\n",
              "      <th>1</th>\n",
              "      <td>Accelerated Healing</td>\n",
              "      <td>False</td>\n",
              "      <td>True</td>\n",
              "      <td>True</td>\n",
              "      <td>False</td>\n",
              "      <td>True</td>\n",
              "      <td>False</td>\n",
              "      <td>False</td>\n",
              "      <td>True</td>\n",
              "      <td>False</td>\n",
              "      <td>...</td>\n",
              "      <td>False</td>\n",
              "      <td>True</td>\n",
              "      <td>True</td>\n",
              "      <td>False</td>\n",
              "      <td>False</td>\n",
              "      <td>False</td>\n",
              "      <td>False</td>\n",
              "      <td>False</td>\n",
              "      <td>False</td>\n",
              "      <td>False</td>\n",
              "    </tr>\n",
              "    <tr>\n",
              "      <th>2</th>\n",
              "      <td>Lantern Power Ring</td>\n",
              "      <td>False</td>\n",
              "      <td>False</td>\n",
              "      <td>False</td>\n",
              "      <td>True</td>\n",
              "      <td>False</td>\n",
              "      <td>False</td>\n",
              "      <td>False</td>\n",
              "      <td>False</td>\n",
              "      <td>False</td>\n",
              "      <td>...</td>\n",
              "      <td>False</td>\n",
              "      <td>False</td>\n",
              "      <td>False</td>\n",
              "      <td>False</td>\n",
              "      <td>False</td>\n",
              "      <td>False</td>\n",
              "      <td>False</td>\n",
              "      <td>False</td>\n",
              "      <td>False</td>\n",
              "      <td>False</td>\n",
              "    </tr>\n",
              "    <tr>\n",
              "      <th>3</th>\n",
              "      <td>Dimensional Awareness</td>\n",
              "      <td>False</td>\n",
              "      <td>False</td>\n",
              "      <td>False</td>\n",
              "      <td>False</td>\n",
              "      <td>False</td>\n",
              "      <td>True</td>\n",
              "      <td>False</td>\n",
              "      <td>False</td>\n",
              "      <td>False</td>\n",
              "      <td>...</td>\n",
              "      <td>False</td>\n",
              "      <td>False</td>\n",
              "      <td>False</td>\n",
              "      <td>False</td>\n",
              "      <td>False</td>\n",
              "      <td>False</td>\n",
              "      <td>False</td>\n",
              "      <td>False</td>\n",
              "      <td>False</td>\n",
              "      <td>False</td>\n",
              "    </tr>\n",
              "    <tr>\n",
              "      <th>4</th>\n",
              "      <td>Cold Resistance</td>\n",
              "      <td>False</td>\n",
              "      <td>False</td>\n",
              "      <td>True</td>\n",
              "      <td>False</td>\n",
              "      <td>False</td>\n",
              "      <td>False</td>\n",
              "      <td>True</td>\n",
              "      <td>False</td>\n",
              "      <td>False</td>\n",
              "      <td>...</td>\n",
              "      <td>False</td>\n",
              "      <td>False</td>\n",
              "      <td>False</td>\n",
              "      <td>False</td>\n",
              "      <td>False</td>\n",
              "      <td>False</td>\n",
              "      <td>True</td>\n",
              "      <td>False</td>\n",
              "      <td>False</td>\n",
              "      <td>False</td>\n",
              "    </tr>\n",
              "    <tr>\n",
              "      <th>...</th>\n",
              "      <td>...</td>\n",
              "      <td>...</td>\n",
              "      <td>...</td>\n",
              "      <td>...</td>\n",
              "      <td>...</td>\n",
              "      <td>...</td>\n",
              "      <td>...</td>\n",
              "      <td>...</td>\n",
              "      <td>...</td>\n",
              "      <td>...</td>\n",
              "      <td>...</td>\n",
              "      <td>...</td>\n",
              "      <td>...</td>\n",
              "      <td>...</td>\n",
              "      <td>...</td>\n",
              "      <td>...</td>\n",
              "      <td>...</td>\n",
              "      <td>...</td>\n",
              "      <td>...</td>\n",
              "      <td>...</td>\n",
              "      <td>...</td>\n",
              "    </tr>\n",
              "    <tr>\n",
              "      <th>162</th>\n",
              "      <td>Phoenix Force</td>\n",
              "      <td>False</td>\n",
              "      <td>False</td>\n",
              "      <td>False</td>\n",
              "      <td>False</td>\n",
              "      <td>False</td>\n",
              "      <td>False</td>\n",
              "      <td>False</td>\n",
              "      <td>False</td>\n",
              "      <td>False</td>\n",
              "      <td>...</td>\n",
              "      <td>False</td>\n",
              "      <td>False</td>\n",
              "      <td>False</td>\n",
              "      <td>False</td>\n",
              "      <td>False</td>\n",
              "      <td>False</td>\n",
              "      <td>False</td>\n",
              "      <td>False</td>\n",
              "      <td>False</td>\n",
              "      <td>False</td>\n",
              "    </tr>\n",
              "    <tr>\n",
              "      <th>163</th>\n",
              "      <td>Molecular Dissipation</td>\n",
              "      <td>False</td>\n",
              "      <td>False</td>\n",
              "      <td>False</td>\n",
              "      <td>False</td>\n",
              "      <td>False</td>\n",
              "      <td>False</td>\n",
              "      <td>False</td>\n",
              "      <td>False</td>\n",
              "      <td>False</td>\n",
              "      <td>...</td>\n",
              "      <td>False</td>\n",
              "      <td>False</td>\n",
              "      <td>False</td>\n",
              "      <td>False</td>\n",
              "      <td>False</td>\n",
              "      <td>False</td>\n",
              "      <td>False</td>\n",
              "      <td>False</td>\n",
              "      <td>False</td>\n",
              "      <td>False</td>\n",
              "    </tr>\n",
              "    <tr>\n",
              "      <th>164</th>\n",
              "      <td>Vision - Cryo</td>\n",
              "      <td>False</td>\n",
              "      <td>False</td>\n",
              "      <td>False</td>\n",
              "      <td>False</td>\n",
              "      <td>False</td>\n",
              "      <td>False</td>\n",
              "      <td>False</td>\n",
              "      <td>False</td>\n",
              "      <td>False</td>\n",
              "      <td>...</td>\n",
              "      <td>False</td>\n",
              "      <td>False</td>\n",
              "      <td>False</td>\n",
              "      <td>False</td>\n",
              "      <td>False</td>\n",
              "      <td>False</td>\n",
              "      <td>False</td>\n",
              "      <td>False</td>\n",
              "      <td>False</td>\n",
              "      <td>False</td>\n",
              "    </tr>\n",
              "    <tr>\n",
              "      <th>165</th>\n",
              "      <td>Omnipresent</td>\n",
              "      <td>False</td>\n",
              "      <td>False</td>\n",
              "      <td>False</td>\n",
              "      <td>False</td>\n",
              "      <td>False</td>\n",
              "      <td>False</td>\n",
              "      <td>False</td>\n",
              "      <td>False</td>\n",
              "      <td>False</td>\n",
              "      <td>...</td>\n",
              "      <td>False</td>\n",
              "      <td>False</td>\n",
              "      <td>False</td>\n",
              "      <td>False</td>\n",
              "      <td>False</td>\n",
              "      <td>False</td>\n",
              "      <td>False</td>\n",
              "      <td>False</td>\n",
              "      <td>False</td>\n",
              "      <td>False</td>\n",
              "    </tr>\n",
              "    <tr>\n",
              "      <th>166</th>\n",
              "      <td>Omniscient</td>\n",
              "      <td>False</td>\n",
              "      <td>False</td>\n",
              "      <td>False</td>\n",
              "      <td>False</td>\n",
              "      <td>False</td>\n",
              "      <td>False</td>\n",
              "      <td>False</td>\n",
              "      <td>False</td>\n",
              "      <td>False</td>\n",
              "      <td>...</td>\n",
              "      <td>False</td>\n",
              "      <td>False</td>\n",
              "      <td>False</td>\n",
              "      <td>False</td>\n",
              "      <td>False</td>\n",
              "      <td>False</td>\n",
              "      <td>False</td>\n",
              "      <td>False</td>\n",
              "      <td>False</td>\n",
              "      <td>False</td>\n",
              "    </tr>\n",
              "  </tbody>\n",
              "</table>\n",
              "<p>167 rows × 668 columns</p>\n",
              "</div>\n",
              "      <button class=\"colab-df-convert\" onclick=\"convertToInteractive('df-1aff44c5-3ab6-4611-b98c-cfaa23cc363b')\"\n",
              "              title=\"Convert this dataframe to an interactive table.\"\n",
              "              style=\"display:none;\">\n",
              "        \n",
              "  <svg xmlns=\"http://www.w3.org/2000/svg\" height=\"24px\"viewBox=\"0 0 24 24\"\n",
              "       width=\"24px\">\n",
              "    <path d=\"M0 0h24v24H0V0z\" fill=\"none\"/>\n",
              "    <path d=\"M18.56 5.44l.94 2.06.94-2.06 2.06-.94-2.06-.94-.94-2.06-.94 2.06-2.06.94zm-11 1L8.5 8.5l.94-2.06 2.06-.94-2.06-.94L8.5 2.5l-.94 2.06-2.06.94zm10 10l.94 2.06.94-2.06 2.06-.94-2.06-.94-.94-2.06-.94 2.06-2.06.94z\"/><path d=\"M17.41 7.96l-1.37-1.37c-.4-.4-.92-.59-1.43-.59-.52 0-1.04.2-1.43.59L10.3 9.45l-7.72 7.72c-.78.78-.78 2.05 0 2.83L4 21.41c.39.39.9.59 1.41.59.51 0 1.02-.2 1.41-.59l7.78-7.78 2.81-2.81c.8-.78.8-2.07 0-2.86zM5.41 20L4 18.59l7.72-7.72 1.47 1.35L5.41 20z\"/>\n",
              "  </svg>\n",
              "      </button>\n",
              "      \n",
              "  <style>\n",
              "    .colab-df-container {\n",
              "      display:flex;\n",
              "      flex-wrap:wrap;\n",
              "      gap: 12px;\n",
              "    }\n",
              "\n",
              "    .colab-df-convert {\n",
              "      background-color: #E8F0FE;\n",
              "      border: none;\n",
              "      border-radius: 50%;\n",
              "      cursor: pointer;\n",
              "      display: none;\n",
              "      fill: #1967D2;\n",
              "      height: 32px;\n",
              "      padding: 0 0 0 0;\n",
              "      width: 32px;\n",
              "    }\n",
              "\n",
              "    .colab-df-convert:hover {\n",
              "      background-color: #E2EBFA;\n",
              "      box-shadow: 0px 1px 2px rgba(60, 64, 67, 0.3), 0px 1px 3px 1px rgba(60, 64, 67, 0.15);\n",
              "      fill: #174EA6;\n",
              "    }\n",
              "\n",
              "    [theme=dark] .colab-df-convert {\n",
              "      background-color: #3B4455;\n",
              "      fill: #D2E3FC;\n",
              "    }\n",
              "\n",
              "    [theme=dark] .colab-df-convert:hover {\n",
              "      background-color: #434B5C;\n",
              "      box-shadow: 0px 1px 3px 1px rgba(0, 0, 0, 0.15);\n",
              "      filter: drop-shadow(0px 1px 2px rgba(0, 0, 0, 0.3));\n",
              "      fill: #FFFFFF;\n",
              "    }\n",
              "  </style>\n",
              "\n",
              "      <script>\n",
              "        const buttonEl =\n",
              "          document.querySelector('#df-1aff44c5-3ab6-4611-b98c-cfaa23cc363b button.colab-df-convert');\n",
              "        buttonEl.style.display =\n",
              "          google.colab.kernel.accessAllowed ? 'block' : 'none';\n",
              "\n",
              "        async function convertToInteractive(key) {\n",
              "          const element = document.querySelector('#df-1aff44c5-3ab6-4611-b98c-cfaa23cc363b');\n",
              "          const dataTable =\n",
              "            await google.colab.kernel.invokeFunction('convertToInteractive',\n",
              "                                                     [key], {});\n",
              "          if (!dataTable) return;\n",
              "\n",
              "          const docLinkHtml = 'Like what you see? Visit the ' +\n",
              "            '<a target=\"_blank\" href=https://colab.research.google.com/notebooks/data_table.ipynb>data table notebook</a>'\n",
              "            + ' to learn more about interactive tables.';\n",
              "          element.innerHTML = '';\n",
              "          dataTable['output_type'] = 'display_data';\n",
              "          await google.colab.output.renderOutput(dataTable, element);\n",
              "          const docLink = document.createElement('div');\n",
              "          docLink.innerHTML = docLinkHtml;\n",
              "          element.appendChild(docLink);\n",
              "        }\n",
              "      </script>\n",
              "    </div>\n",
              "  </div>\n",
              "  "
            ]
          },
          "metadata": {},
          "execution_count": 30
        }
      ],
      "source": [
        "# Your code here (create more cells as needed)\n",
        "powers_df=pd.read_csv('super_hero_powers.csv')\n",
        "powers_df"
      ]
    },
    {
      "cell_type": "code",
      "source": [
        "powers_df=pd.read_csv('super_hero_powers.csv',index_col=0)\n",
        "powers_df"
      ],
      "metadata": {
        "colab": {
          "base_uri": "https://localhost:8080/",
          "height": 609
        },
        "id": "M933gDUvxabB",
        "outputId": "78a1baa4-3d2b-422a-d7f1-d2ee35974b13"
      },
      "execution_count": null,
      "outputs": [
        {
          "output_type": "execute_result",
          "data": {
            "text/plain": [
              "                       3-D Man  A-Bomb  Abe Sapien  Abin Sur  Abomination  \\\n",
              "Agility                   True   False        True     False        False   \n",
              "Accelerated Healing      False    True        True     False         True   \n",
              "Lantern Power Ring       False   False       False      True        False   \n",
              "Dimensional Awareness    False   False       False     False        False   \n",
              "Cold Resistance          False   False        True     False        False   \n",
              "...                        ...     ...         ...       ...          ...   \n",
              "Phoenix Force            False   False       False     False        False   \n",
              "Molecular Dissipation    False   False       False     False        False   \n",
              "Vision - Cryo            False   False       False     False        False   \n",
              "Omnipresent              False   False       False     False        False   \n",
              "Omniscient               False   False       False     False        False   \n",
              "\n",
              "                       Abraxas  Absorbing Man  Adam Monroe  Adam Strange  \\\n",
              "Agility                  False          False        False         False   \n",
              "Accelerated Healing      False          False         True         False   \n",
              "Lantern Power Ring       False          False        False         False   \n",
              "Dimensional Awareness     True          False        False         False   \n",
              "Cold Resistance          False           True        False         False   \n",
              "...                        ...            ...          ...           ...   \n",
              "Phoenix Force            False          False        False         False   \n",
              "Molecular Dissipation    False          False        False         False   \n",
              "Vision - Cryo            False          False        False         False   \n",
              "Omnipresent              False          False        False         False   \n",
              "Omniscient               False          False        False         False   \n",
              "\n",
              "                       Agent Bob  ...  Wonder Man  Wonder Woman   X-23  X-Man  \\\n",
              "Agility                    False  ...       False         False   True  False   \n",
              "Accelerated Healing        False  ...       False          True   True  False   \n",
              "Lantern Power Ring         False  ...       False         False  False  False   \n",
              "Dimensional Awareness      False  ...       False         False  False  False   \n",
              "Cold Resistance            False  ...       False         False  False  False   \n",
              "...                          ...  ...         ...           ...    ...    ...   \n",
              "Phoenix Force              False  ...       False         False  False  False   \n",
              "Molecular Dissipation      False  ...       False         False  False  False   \n",
              "Vision - Cryo              False  ...       False         False  False  False   \n",
              "Omnipresent                False  ...       False         False  False  False   \n",
              "Omniscient                 False  ...       False         False  False  False   \n",
              "\n",
              "                       Yellowjacket  Yellowjacket II   Ymir   Yoda  Zatanna  \\\n",
              "Agility                       False            False  False   True    False   \n",
              "Accelerated Healing           False            False  False  False    False   \n",
              "Lantern Power Ring            False            False  False  False    False   \n",
              "Dimensional Awareness         False            False  False  False    False   \n",
              "Cold Resistance               False            False   True  False    False   \n",
              "...                             ...              ...    ...    ...      ...   \n",
              "Phoenix Force                 False            False  False  False    False   \n",
              "Molecular Dissipation         False            False  False  False    False   \n",
              "Vision - Cryo                 False            False  False  False    False   \n",
              "Omnipresent                   False            False  False  False    False   \n",
              "Omniscient                    False            False  False  False    False   \n",
              "\n",
              "                        Zoom  \n",
              "Agility                False  \n",
              "Accelerated Healing    False  \n",
              "Lantern Power Ring     False  \n",
              "Dimensional Awareness  False  \n",
              "Cold Resistance        False  \n",
              "...                      ...  \n",
              "Phoenix Force          False  \n",
              "Molecular Dissipation  False  \n",
              "Vision - Cryo          False  \n",
              "Omnipresent            False  \n",
              "Omniscient             False  \n",
              "\n",
              "[167 rows x 667 columns]"
            ],
            "text/html": [
              "\n",
              "  <div id=\"df-ab1b7499-9e24-4f6b-9de9-6b91bb5d540b\">\n",
              "    <div class=\"colab-df-container\">\n",
              "      <div>\n",
              "<style scoped>\n",
              "    .dataframe tbody tr th:only-of-type {\n",
              "        vertical-align: middle;\n",
              "    }\n",
              "\n",
              "    .dataframe tbody tr th {\n",
              "        vertical-align: top;\n",
              "    }\n",
              "\n",
              "    .dataframe thead th {\n",
              "        text-align: right;\n",
              "    }\n",
              "</style>\n",
              "<table border=\"1\" class=\"dataframe\">\n",
              "  <thead>\n",
              "    <tr style=\"text-align: right;\">\n",
              "      <th></th>\n",
              "      <th>3-D Man</th>\n",
              "      <th>A-Bomb</th>\n",
              "      <th>Abe Sapien</th>\n",
              "      <th>Abin Sur</th>\n",
              "      <th>Abomination</th>\n",
              "      <th>Abraxas</th>\n",
              "      <th>Absorbing Man</th>\n",
              "      <th>Adam Monroe</th>\n",
              "      <th>Adam Strange</th>\n",
              "      <th>Agent Bob</th>\n",
              "      <th>...</th>\n",
              "      <th>Wonder Man</th>\n",
              "      <th>Wonder Woman</th>\n",
              "      <th>X-23</th>\n",
              "      <th>X-Man</th>\n",
              "      <th>Yellowjacket</th>\n",
              "      <th>Yellowjacket II</th>\n",
              "      <th>Ymir</th>\n",
              "      <th>Yoda</th>\n",
              "      <th>Zatanna</th>\n",
              "      <th>Zoom</th>\n",
              "    </tr>\n",
              "  </thead>\n",
              "  <tbody>\n",
              "    <tr>\n",
              "      <th>Agility</th>\n",
              "      <td>True</td>\n",
              "      <td>False</td>\n",
              "      <td>True</td>\n",
              "      <td>False</td>\n",
              "      <td>False</td>\n",
              "      <td>False</td>\n",
              "      <td>False</td>\n",
              "      <td>False</td>\n",
              "      <td>False</td>\n",
              "      <td>False</td>\n",
              "      <td>...</td>\n",
              "      <td>False</td>\n",
              "      <td>False</td>\n",
              "      <td>True</td>\n",
              "      <td>False</td>\n",
              "      <td>False</td>\n",
              "      <td>False</td>\n",
              "      <td>False</td>\n",
              "      <td>True</td>\n",
              "      <td>False</td>\n",
              "      <td>False</td>\n",
              "    </tr>\n",
              "    <tr>\n",
              "      <th>Accelerated Healing</th>\n",
              "      <td>False</td>\n",
              "      <td>True</td>\n",
              "      <td>True</td>\n",
              "      <td>False</td>\n",
              "      <td>True</td>\n",
              "      <td>False</td>\n",
              "      <td>False</td>\n",
              "      <td>True</td>\n",
              "      <td>False</td>\n",
              "      <td>False</td>\n",
              "      <td>...</td>\n",
              "      <td>False</td>\n",
              "      <td>True</td>\n",
              "      <td>True</td>\n",
              "      <td>False</td>\n",
              "      <td>False</td>\n",
              "      <td>False</td>\n",
              "      <td>False</td>\n",
              "      <td>False</td>\n",
              "      <td>False</td>\n",
              "      <td>False</td>\n",
              "    </tr>\n",
              "    <tr>\n",
              "      <th>Lantern Power Ring</th>\n",
              "      <td>False</td>\n",
              "      <td>False</td>\n",
              "      <td>False</td>\n",
              "      <td>True</td>\n",
              "      <td>False</td>\n",
              "      <td>False</td>\n",
              "      <td>False</td>\n",
              "      <td>False</td>\n",
              "      <td>False</td>\n",
              "      <td>False</td>\n",
              "      <td>...</td>\n",
              "      <td>False</td>\n",
              "      <td>False</td>\n",
              "      <td>False</td>\n",
              "      <td>False</td>\n",
              "      <td>False</td>\n",
              "      <td>False</td>\n",
              "      <td>False</td>\n",
              "      <td>False</td>\n",
              "      <td>False</td>\n",
              "      <td>False</td>\n",
              "    </tr>\n",
              "    <tr>\n",
              "      <th>Dimensional Awareness</th>\n",
              "      <td>False</td>\n",
              "      <td>False</td>\n",
              "      <td>False</td>\n",
              "      <td>False</td>\n",
              "      <td>False</td>\n",
              "      <td>True</td>\n",
              "      <td>False</td>\n",
              "      <td>False</td>\n",
              "      <td>False</td>\n",
              "      <td>False</td>\n",
              "      <td>...</td>\n",
              "      <td>False</td>\n",
              "      <td>False</td>\n",
              "      <td>False</td>\n",
              "      <td>False</td>\n",
              "      <td>False</td>\n",
              "      <td>False</td>\n",
              "      <td>False</td>\n",
              "      <td>False</td>\n",
              "      <td>False</td>\n",
              "      <td>False</td>\n",
              "    </tr>\n",
              "    <tr>\n",
              "      <th>Cold Resistance</th>\n",
              "      <td>False</td>\n",
              "      <td>False</td>\n",
              "      <td>True</td>\n",
              "      <td>False</td>\n",
              "      <td>False</td>\n",
              "      <td>False</td>\n",
              "      <td>True</td>\n",
              "      <td>False</td>\n",
              "      <td>False</td>\n",
              "      <td>False</td>\n",
              "      <td>...</td>\n",
              "      <td>False</td>\n",
              "      <td>False</td>\n",
              "      <td>False</td>\n",
              "      <td>False</td>\n",
              "      <td>False</td>\n",
              "      <td>False</td>\n",
              "      <td>True</td>\n",
              "      <td>False</td>\n",
              "      <td>False</td>\n",
              "      <td>False</td>\n",
              "    </tr>\n",
              "    <tr>\n",
              "      <th>...</th>\n",
              "      <td>...</td>\n",
              "      <td>...</td>\n",
              "      <td>...</td>\n",
              "      <td>...</td>\n",
              "      <td>...</td>\n",
              "      <td>...</td>\n",
              "      <td>...</td>\n",
              "      <td>...</td>\n",
              "      <td>...</td>\n",
              "      <td>...</td>\n",
              "      <td>...</td>\n",
              "      <td>...</td>\n",
              "      <td>...</td>\n",
              "      <td>...</td>\n",
              "      <td>...</td>\n",
              "      <td>...</td>\n",
              "      <td>...</td>\n",
              "      <td>...</td>\n",
              "      <td>...</td>\n",
              "      <td>...</td>\n",
              "      <td>...</td>\n",
              "    </tr>\n",
              "    <tr>\n",
              "      <th>Phoenix Force</th>\n",
              "      <td>False</td>\n",
              "      <td>False</td>\n",
              "      <td>False</td>\n",
              "      <td>False</td>\n",
              "      <td>False</td>\n",
              "      <td>False</td>\n",
              "      <td>False</td>\n",
              "      <td>False</td>\n",
              "      <td>False</td>\n",
              "      <td>False</td>\n",
              "      <td>...</td>\n",
              "      <td>False</td>\n",
              "      <td>False</td>\n",
              "      <td>False</td>\n",
              "      <td>False</td>\n",
              "      <td>False</td>\n",
              "      <td>False</td>\n",
              "      <td>False</td>\n",
              "      <td>False</td>\n",
              "      <td>False</td>\n",
              "      <td>False</td>\n",
              "    </tr>\n",
              "    <tr>\n",
              "      <th>Molecular Dissipation</th>\n",
              "      <td>False</td>\n",
              "      <td>False</td>\n",
              "      <td>False</td>\n",
              "      <td>False</td>\n",
              "      <td>False</td>\n",
              "      <td>False</td>\n",
              "      <td>False</td>\n",
              "      <td>False</td>\n",
              "      <td>False</td>\n",
              "      <td>False</td>\n",
              "      <td>...</td>\n",
              "      <td>False</td>\n",
              "      <td>False</td>\n",
              "      <td>False</td>\n",
              "      <td>False</td>\n",
              "      <td>False</td>\n",
              "      <td>False</td>\n",
              "      <td>False</td>\n",
              "      <td>False</td>\n",
              "      <td>False</td>\n",
              "      <td>False</td>\n",
              "    </tr>\n",
              "    <tr>\n",
              "      <th>Vision - Cryo</th>\n",
              "      <td>False</td>\n",
              "      <td>False</td>\n",
              "      <td>False</td>\n",
              "      <td>False</td>\n",
              "      <td>False</td>\n",
              "      <td>False</td>\n",
              "      <td>False</td>\n",
              "      <td>False</td>\n",
              "      <td>False</td>\n",
              "      <td>False</td>\n",
              "      <td>...</td>\n",
              "      <td>False</td>\n",
              "      <td>False</td>\n",
              "      <td>False</td>\n",
              "      <td>False</td>\n",
              "      <td>False</td>\n",
              "      <td>False</td>\n",
              "      <td>False</td>\n",
              "      <td>False</td>\n",
              "      <td>False</td>\n",
              "      <td>False</td>\n",
              "    </tr>\n",
              "    <tr>\n",
              "      <th>Omnipresent</th>\n",
              "      <td>False</td>\n",
              "      <td>False</td>\n",
              "      <td>False</td>\n",
              "      <td>False</td>\n",
              "      <td>False</td>\n",
              "      <td>False</td>\n",
              "      <td>False</td>\n",
              "      <td>False</td>\n",
              "      <td>False</td>\n",
              "      <td>False</td>\n",
              "      <td>...</td>\n",
              "      <td>False</td>\n",
              "      <td>False</td>\n",
              "      <td>False</td>\n",
              "      <td>False</td>\n",
              "      <td>False</td>\n",
              "      <td>False</td>\n",
              "      <td>False</td>\n",
              "      <td>False</td>\n",
              "      <td>False</td>\n",
              "      <td>False</td>\n",
              "    </tr>\n",
              "    <tr>\n",
              "      <th>Omniscient</th>\n",
              "      <td>False</td>\n",
              "      <td>False</td>\n",
              "      <td>False</td>\n",
              "      <td>False</td>\n",
              "      <td>False</td>\n",
              "      <td>False</td>\n",
              "      <td>False</td>\n",
              "      <td>False</td>\n",
              "      <td>False</td>\n",
              "      <td>False</td>\n",
              "      <td>...</td>\n",
              "      <td>False</td>\n",
              "      <td>False</td>\n",
              "      <td>False</td>\n",
              "      <td>False</td>\n",
              "      <td>False</td>\n",
              "      <td>False</td>\n",
              "      <td>False</td>\n",
              "      <td>False</td>\n",
              "      <td>False</td>\n",
              "      <td>False</td>\n",
              "    </tr>\n",
              "  </tbody>\n",
              "</table>\n",
              "<p>167 rows × 667 columns</p>\n",
              "</div>\n",
              "      <button class=\"colab-df-convert\" onclick=\"convertToInteractive('df-ab1b7499-9e24-4f6b-9de9-6b91bb5d540b')\"\n",
              "              title=\"Convert this dataframe to an interactive table.\"\n",
              "              style=\"display:none;\">\n",
              "        \n",
              "  <svg xmlns=\"http://www.w3.org/2000/svg\" height=\"24px\"viewBox=\"0 0 24 24\"\n",
              "       width=\"24px\">\n",
              "    <path d=\"M0 0h24v24H0V0z\" fill=\"none\"/>\n",
              "    <path d=\"M18.56 5.44l.94 2.06.94-2.06 2.06-.94-2.06-.94-.94-2.06-.94 2.06-2.06.94zm-11 1L8.5 8.5l.94-2.06 2.06-.94-2.06-.94L8.5 2.5l-.94 2.06-2.06.94zm10 10l.94 2.06.94-2.06 2.06-.94-2.06-.94-.94-2.06-.94 2.06-2.06.94z\"/><path d=\"M17.41 7.96l-1.37-1.37c-.4-.4-.92-.59-1.43-.59-.52 0-1.04.2-1.43.59L10.3 9.45l-7.72 7.72c-.78.78-.78 2.05 0 2.83L4 21.41c.39.39.9.59 1.41.59.51 0 1.02-.2 1.41-.59l7.78-7.78 2.81-2.81c.8-.78.8-2.07 0-2.86zM5.41 20L4 18.59l7.72-7.72 1.47 1.35L5.41 20z\"/>\n",
              "  </svg>\n",
              "      </button>\n",
              "      \n",
              "  <style>\n",
              "    .colab-df-container {\n",
              "      display:flex;\n",
              "      flex-wrap:wrap;\n",
              "      gap: 12px;\n",
              "    }\n",
              "\n",
              "    .colab-df-convert {\n",
              "      background-color: #E8F0FE;\n",
              "      border: none;\n",
              "      border-radius: 50%;\n",
              "      cursor: pointer;\n",
              "      display: none;\n",
              "      fill: #1967D2;\n",
              "      height: 32px;\n",
              "      padding: 0 0 0 0;\n",
              "      width: 32px;\n",
              "    }\n",
              "\n",
              "    .colab-df-convert:hover {\n",
              "      background-color: #E2EBFA;\n",
              "      box-shadow: 0px 1px 2px rgba(60, 64, 67, 0.3), 0px 1px 3px 1px rgba(60, 64, 67, 0.15);\n",
              "      fill: #174EA6;\n",
              "    }\n",
              "\n",
              "    [theme=dark] .colab-df-convert {\n",
              "      background-color: #3B4455;\n",
              "      fill: #D2E3FC;\n",
              "    }\n",
              "\n",
              "    [theme=dark] .colab-df-convert:hover {\n",
              "      background-color: #434B5C;\n",
              "      box-shadow: 0px 1px 3px 1px rgba(0, 0, 0, 0.15);\n",
              "      filter: drop-shadow(0px 1px 2px rgba(0, 0, 0, 0.3));\n",
              "      fill: #FFFFFF;\n",
              "    }\n",
              "  </style>\n",
              "\n",
              "      <script>\n",
              "        const buttonEl =\n",
              "          document.querySelector('#df-ab1b7499-9e24-4f6b-9de9-6b91bb5d540b button.colab-df-convert');\n",
              "        buttonEl.style.display =\n",
              "          google.colab.kernel.accessAllowed ? 'block' : 'none';\n",
              "\n",
              "        async function convertToInteractive(key) {\n",
              "          const element = document.querySelector('#df-ab1b7499-9e24-4f6b-9de9-6b91bb5d540b');\n",
              "          const dataTable =\n",
              "            await google.colab.kernel.invokeFunction('convertToInteractive',\n",
              "                                                     [key], {});\n",
              "          if (!dataTable) return;\n",
              "\n",
              "          const docLinkHtml = 'Like what you see? Visit the ' +\n",
              "            '<a target=\"_blank\" href=https://colab.research.google.com/notebooks/data_table.ipynb>data table notebook</a>'\n",
              "            + ' to learn more about interactive tables.';\n",
              "          element.innerHTML = '';\n",
              "          dataTable['output_type'] = 'display_data';\n",
              "          await google.colab.output.renderOutput(dataTable, element);\n",
              "          const docLink = document.createElement('div');\n",
              "          docLink.innerHTML = docLinkHtml;\n",
              "          element.appendChild(docLink);\n",
              "        }\n",
              "      </script>\n",
              "    </div>\n",
              "  </div>\n",
              "  "
            ]
          },
          "metadata": {},
          "execution_count": 31
        }
      ]
    },
    {
      "cell_type": "markdown",
      "metadata": {
        "id": "0KGcxCBkcUfy"
      },
      "source": [
        "The following code will check if it was loaded correctly:"
      ]
    },
    {
      "cell_type": "code",
      "execution_count": null,
      "metadata": {
        "id": "rseIg64jcUfy",
        "colab": {
          "base_uri": "https://localhost:8080/",
          "height": 108
        },
        "outputId": "6984a152-1b3e-4869-e6d3-0b88b6903f62"
      },
      "outputs": [
        {
          "output_type": "stream",
          "name": "stdout",
          "text": [
            "(167, 667)\n",
            "3-D Man\n",
            "Zoom\n",
            "Agility\n"
          ]
        },
        {
          "output_type": "execute_result",
          "data": {
            "text/plain": [
              "'Omniscient'"
            ],
            "application/vnd.google.colaboratory.intrinsic+json": {
              "type": "string"
            }
          },
          "metadata": {},
          "execution_count": 41
        }
      ],
      "source": [
        "# Run this cell without changes\n",
        "\n",
        "# There should be 167 rows, 667 columns\n",
        "#assert powers_df.shape == (167, 667)\n",
        "print(powers_df.shape)\n",
        "\n",
        "# The first column should be '3-D Man'\n",
        "assert powers_df.columns[0] == \"3-D Man\"\n",
        "print(powers_df.columns[0])\n",
        "\n",
        "# The last column should be 'Zoom'\n",
        "assert powers_df.columns[-1] == \"Zoom\"\n",
        "print(powers_df.columns[-1])\n",
        "\n",
        "# The first index should be 'Agility'\n",
        "assert powers_df.index[0] == \"Agility\"\n",
        "print(powers_df.index[0])\n",
        "\n",
        "# The last index should be 'Omniscient'\n",
        "assert powers_df.index[-1] == \"Omniscient\"\n",
        "powers_df.index[-1]"
      ]
    },
    {
      "cell_type": "code",
      "source": [
        "powers_df.index"
      ],
      "metadata": {
        "colab": {
          "base_uri": "https://localhost:8080/"
        },
        "id": "LIR7LHKhzr8l",
        "outputId": "e6d41d98-a9de-4265-e21a-4060c96506c2"
      },
      "execution_count": null,
      "outputs": [
        {
          "output_type": "execute_result",
          "data": {
            "text/plain": [
              "Index(['Agility', 'Accelerated Healing', 'Lantern Power Ring',\n",
              "       'Dimensional Awareness', 'Cold Resistance', 'Durability', 'Stealth',\n",
              "       'Energy Absorption', 'Flight', 'Danger Sense',\n",
              "       ...\n",
              "       'Web Creation', 'Reality Warping', 'Odin Force', 'Symbiote Costume',\n",
              "       'Speed Force', 'Phoenix Force', 'Molecular Dissipation',\n",
              "       'Vision - Cryo', 'Omnipresent', 'Omniscient'],\n",
              "      dtype='object', length=167)"
            ]
          },
          "metadata": {},
          "execution_count": 43
        }
      ]
    },
    {
      "cell_type": "code",
      "source": [
        "powers_df.columns"
      ],
      "metadata": {
        "colab": {
          "base_uri": "https://localhost:8080/"
        },
        "id": "jJNhTrAHz3vK",
        "outputId": "1f68f96f-b754-4e68-e34a-5b8fad9500ae"
      },
      "execution_count": null,
      "outputs": [
        {
          "output_type": "execute_result",
          "data": {
            "text/plain": [
              "Index(['3-D Man', 'A-Bomb', 'Abe Sapien', 'Abin Sur', 'Abomination', 'Abraxas',\n",
              "       'Absorbing Man', 'Adam Monroe', 'Adam Strange', 'Agent Bob',\n",
              "       ...\n",
              "       'Wonder Man', 'Wonder Woman', 'X-23', 'X-Man', 'Yellowjacket',\n",
              "       'Yellowjacket II', 'Ymir', 'Yoda', 'Zatanna', 'Zoom'],\n",
              "      dtype='object', length=667)"
            ]
          },
          "metadata": {},
          "execution_count": 46
        }
      ]
    },
    {
      "cell_type": "markdown",
      "metadata": {
        "id": "g4T8HXMOcUfy"
      },
      "source": [
        "## 2. Perform Data Cleaning Required to Answer First Question\n",
        "\n",
        "Recall that the first question is: *What is the distribution of superheroes by publisher?*\n",
        "\n",
        "To answer this question, we will only need to use `heroes_df`, which contains the `Publisher` column.\n",
        "\n",
        "### Identifying and Handling Missing Values\n",
        "\n",
        "As you likely noted above, the `Publisher` column is missing some values. Let's take a look at some samples with and without missing publisher values:"
      ]
    },
    {
      "cell_type": "code",
      "execution_count": 47,
      "metadata": {
        "id": "bFwQhXeNcUfy",
        "colab": {
          "base_uri": "https://localhost:8080/",
          "height": 206
        },
        "outputId": "bb480410-2d26-489c-8dd6-1aad1d0544bd"
      },
      "outputs": [
        {
          "output_type": "execute_result",
          "data": {
            "text/plain": [
              "           name  Gender Eye color   Race        Hair color  Height  \\\n",
              "60      Banshee    Male     green  Human  Strawberry Blond   183.0   \n",
              "61       Bantam    Male     brown      -             Black   165.0   \n",
              "219  DL Hawkins    Male         -      -                 -   -99.0   \n",
              "650       Synch    Male     brown      -             Black   180.0   \n",
              "8      Agent 13  Female      blue      -             Blond   173.0   \n",
              "\n",
              "         Publisher Skin color Alignment  Weight  \n",
              "60   Marvel Comics          -      good    77.0  \n",
              "61   Marvel Comics          -      good    54.0  \n",
              "219   NBC - Heroes          -      good   -99.0  \n",
              "650  Marvel Comics          -      good    74.0  \n",
              "8    Marvel Comics          -      good    61.0  "
            ],
            "text/html": [
              "\n",
              "  <div id=\"df-1546d3c2-d3da-4538-9d3a-e4963b4865b7\">\n",
              "    <div class=\"colab-df-container\">\n",
              "      <div>\n",
              "<style scoped>\n",
              "    .dataframe tbody tr th:only-of-type {\n",
              "        vertical-align: middle;\n",
              "    }\n",
              "\n",
              "    .dataframe tbody tr th {\n",
              "        vertical-align: top;\n",
              "    }\n",
              "\n",
              "    .dataframe thead th {\n",
              "        text-align: right;\n",
              "    }\n",
              "</style>\n",
              "<table border=\"1\" class=\"dataframe\">\n",
              "  <thead>\n",
              "    <tr style=\"text-align: right;\">\n",
              "      <th></th>\n",
              "      <th>name</th>\n",
              "      <th>Gender</th>\n",
              "      <th>Eye color</th>\n",
              "      <th>Race</th>\n",
              "      <th>Hair color</th>\n",
              "      <th>Height</th>\n",
              "      <th>Publisher</th>\n",
              "      <th>Skin color</th>\n",
              "      <th>Alignment</th>\n",
              "      <th>Weight</th>\n",
              "    </tr>\n",
              "  </thead>\n",
              "  <tbody>\n",
              "    <tr>\n",
              "      <th>60</th>\n",
              "      <td>Banshee</td>\n",
              "      <td>Male</td>\n",
              "      <td>green</td>\n",
              "      <td>Human</td>\n",
              "      <td>Strawberry Blond</td>\n",
              "      <td>183.0</td>\n",
              "      <td>Marvel Comics</td>\n",
              "      <td>-</td>\n",
              "      <td>good</td>\n",
              "      <td>77.0</td>\n",
              "    </tr>\n",
              "    <tr>\n",
              "      <th>61</th>\n",
              "      <td>Bantam</td>\n",
              "      <td>Male</td>\n",
              "      <td>brown</td>\n",
              "      <td>-</td>\n",
              "      <td>Black</td>\n",
              "      <td>165.0</td>\n",
              "      <td>Marvel Comics</td>\n",
              "      <td>-</td>\n",
              "      <td>good</td>\n",
              "      <td>54.0</td>\n",
              "    </tr>\n",
              "    <tr>\n",
              "      <th>219</th>\n",
              "      <td>DL Hawkins</td>\n",
              "      <td>Male</td>\n",
              "      <td>-</td>\n",
              "      <td>-</td>\n",
              "      <td>-</td>\n",
              "      <td>-99.0</td>\n",
              "      <td>NBC - Heroes</td>\n",
              "      <td>-</td>\n",
              "      <td>good</td>\n",
              "      <td>-99.0</td>\n",
              "    </tr>\n",
              "    <tr>\n",
              "      <th>650</th>\n",
              "      <td>Synch</td>\n",
              "      <td>Male</td>\n",
              "      <td>brown</td>\n",
              "      <td>-</td>\n",
              "      <td>Black</td>\n",
              "      <td>180.0</td>\n",
              "      <td>Marvel Comics</td>\n",
              "      <td>-</td>\n",
              "      <td>good</td>\n",
              "      <td>74.0</td>\n",
              "    </tr>\n",
              "    <tr>\n",
              "      <th>8</th>\n",
              "      <td>Agent 13</td>\n",
              "      <td>Female</td>\n",
              "      <td>blue</td>\n",
              "      <td>-</td>\n",
              "      <td>Blond</td>\n",
              "      <td>173.0</td>\n",
              "      <td>Marvel Comics</td>\n",
              "      <td>-</td>\n",
              "      <td>good</td>\n",
              "      <td>61.0</td>\n",
              "    </tr>\n",
              "  </tbody>\n",
              "</table>\n",
              "</div>\n",
              "      <button class=\"colab-df-convert\" onclick=\"convertToInteractive('df-1546d3c2-d3da-4538-9d3a-e4963b4865b7')\"\n",
              "              title=\"Convert this dataframe to an interactive table.\"\n",
              "              style=\"display:none;\">\n",
              "        \n",
              "  <svg xmlns=\"http://www.w3.org/2000/svg\" height=\"24px\"viewBox=\"0 0 24 24\"\n",
              "       width=\"24px\">\n",
              "    <path d=\"M0 0h24v24H0V0z\" fill=\"none\"/>\n",
              "    <path d=\"M18.56 5.44l.94 2.06.94-2.06 2.06-.94-2.06-.94-.94-2.06-.94 2.06-2.06.94zm-11 1L8.5 8.5l.94-2.06 2.06-.94-2.06-.94L8.5 2.5l-.94 2.06-2.06.94zm10 10l.94 2.06.94-2.06 2.06-.94-2.06-.94-.94-2.06-.94 2.06-2.06.94z\"/><path d=\"M17.41 7.96l-1.37-1.37c-.4-.4-.92-.59-1.43-.59-.52 0-1.04.2-1.43.59L10.3 9.45l-7.72 7.72c-.78.78-.78 2.05 0 2.83L4 21.41c.39.39.9.59 1.41.59.51 0 1.02-.2 1.41-.59l7.78-7.78 2.81-2.81c.8-.78.8-2.07 0-2.86zM5.41 20L4 18.59l7.72-7.72 1.47 1.35L5.41 20z\"/>\n",
              "  </svg>\n",
              "      </button>\n",
              "      \n",
              "  <style>\n",
              "    .colab-df-container {\n",
              "      display:flex;\n",
              "      flex-wrap:wrap;\n",
              "      gap: 12px;\n",
              "    }\n",
              "\n",
              "    .colab-df-convert {\n",
              "      background-color: #E8F0FE;\n",
              "      border: none;\n",
              "      border-radius: 50%;\n",
              "      cursor: pointer;\n",
              "      display: none;\n",
              "      fill: #1967D2;\n",
              "      height: 32px;\n",
              "      padding: 0 0 0 0;\n",
              "      width: 32px;\n",
              "    }\n",
              "\n",
              "    .colab-df-convert:hover {\n",
              "      background-color: #E2EBFA;\n",
              "      box-shadow: 0px 1px 2px rgba(60, 64, 67, 0.3), 0px 1px 3px 1px rgba(60, 64, 67, 0.15);\n",
              "      fill: #174EA6;\n",
              "    }\n",
              "\n",
              "    [theme=dark] .colab-df-convert {\n",
              "      background-color: #3B4455;\n",
              "      fill: #D2E3FC;\n",
              "    }\n",
              "\n",
              "    [theme=dark] .colab-df-convert:hover {\n",
              "      background-color: #434B5C;\n",
              "      box-shadow: 0px 1px 3px 1px rgba(0, 0, 0, 0.15);\n",
              "      filter: drop-shadow(0px 1px 2px rgba(0, 0, 0, 0.3));\n",
              "      fill: #FFFFFF;\n",
              "    }\n",
              "  </style>\n",
              "\n",
              "      <script>\n",
              "        const buttonEl =\n",
              "          document.querySelector('#df-1546d3c2-d3da-4538-9d3a-e4963b4865b7 button.colab-df-convert');\n",
              "        buttonEl.style.display =\n",
              "          google.colab.kernel.accessAllowed ? 'block' : 'none';\n",
              "\n",
              "        async function convertToInteractive(key) {\n",
              "          const element = document.querySelector('#df-1546d3c2-d3da-4538-9d3a-e4963b4865b7');\n",
              "          const dataTable =\n",
              "            await google.colab.kernel.invokeFunction('convertToInteractive',\n",
              "                                                     [key], {});\n",
              "          if (!dataTable) return;\n",
              "\n",
              "          const docLinkHtml = 'Like what you see? Visit the ' +\n",
              "            '<a target=\"_blank\" href=https://colab.research.google.com/notebooks/data_table.ipynb>data table notebook</a>'\n",
              "            + ' to learn more about interactive tables.';\n",
              "          element.innerHTML = '';\n",
              "          dataTable['output_type'] = 'display_data';\n",
              "          await google.colab.output.renderOutput(dataTable, element);\n",
              "          const docLink = document.createElement('div');\n",
              "          docLink.innerHTML = docLinkHtml;\n",
              "          element.appendChild(docLink);\n",
              "        }\n",
              "      </script>\n",
              "    </div>\n",
              "  </div>\n",
              "  "
            ]
          },
          "metadata": {},
          "execution_count": 47
        }
      ],
      "source": [
        "# Run this cell without changes\n",
        "has_publisher_sample = heroes_df[heroes_df[\"Publisher\"].notna()].sample(\n",
        "    5, random_state=1\n",
        ")\n",
        "has_publisher_sample\n",
        "\n",
        "\n",
        "\n",
        "\n"
      ]
    },
    {
      "cell_type": "code",
      "source": [
        "#import pandas as pd\n",
        "#heros_df=pd.read_csv('heroes_information.csv', index_col=0)\n",
        "#heros_df\n",
        "#has_publisher_sample = heros_df[heros_df[\"Publisher\"].notna()].sample(\n"
      ],
      "metadata": {
        "id": "9DPZ3gqJfYzJ"
      },
      "execution_count": null,
      "outputs": []
    },
    {
      "cell_type": "code",
      "execution_count": 53,
      "metadata": {
        "id": "7hq5-MFucUfz",
        "colab": {
          "base_uri": "https://localhost:8080/",
          "height": 206
        },
        "outputId": "bc91c646-dd94-4e5d-a6f8-c151f4045eaa"
      },
      "outputs": [
        {
          "output_type": "execute_result",
          "data": {
            "text/plain": [
              "                 name  Gender Eye color    Race Hair color  Height Publisher  \\\n",
              "175      Chuck Norris    Male         -       -          -   178.0       NaN   \n",
              "286          Godzilla       -         -   Kaiju          -   108.0       NaN   \n",
              "263      Flash Gordon    Male         -       -          -   -99.0       NaN   \n",
              "138        Brundlefly    Male         -  Mutant          -   193.0       NaN   \n",
              "381  Katniss Everdeen  Female         -   Human          -   -99.0       NaN   \n",
              "\n",
              "    Skin color Alignment  Weight  \n",
              "175          -      good   -99.0  \n",
              "286       grey       bad     NaN  \n",
              "263          -      good   -99.0  \n",
              "138          -         -   -99.0  \n",
              "381          -      good   -99.0  "
            ],
            "text/html": [
              "\n",
              "  <div id=\"df-6c9b403a-c217-46d7-b065-0742bce8ef1e\">\n",
              "    <div class=\"colab-df-container\">\n",
              "      <div>\n",
              "<style scoped>\n",
              "    .dataframe tbody tr th:only-of-type {\n",
              "        vertical-align: middle;\n",
              "    }\n",
              "\n",
              "    .dataframe tbody tr th {\n",
              "        vertical-align: top;\n",
              "    }\n",
              "\n",
              "    .dataframe thead th {\n",
              "        text-align: right;\n",
              "    }\n",
              "</style>\n",
              "<table border=\"1\" class=\"dataframe\">\n",
              "  <thead>\n",
              "    <tr style=\"text-align: right;\">\n",
              "      <th></th>\n",
              "      <th>name</th>\n",
              "      <th>Gender</th>\n",
              "      <th>Eye color</th>\n",
              "      <th>Race</th>\n",
              "      <th>Hair color</th>\n",
              "      <th>Height</th>\n",
              "      <th>Publisher</th>\n",
              "      <th>Skin color</th>\n",
              "      <th>Alignment</th>\n",
              "      <th>Weight</th>\n",
              "    </tr>\n",
              "  </thead>\n",
              "  <tbody>\n",
              "    <tr>\n",
              "      <th>175</th>\n",
              "      <td>Chuck Norris</td>\n",
              "      <td>Male</td>\n",
              "      <td>-</td>\n",
              "      <td>-</td>\n",
              "      <td>-</td>\n",
              "      <td>178.0</td>\n",
              "      <td>NaN</td>\n",
              "      <td>-</td>\n",
              "      <td>good</td>\n",
              "      <td>-99.0</td>\n",
              "    </tr>\n",
              "    <tr>\n",
              "      <th>286</th>\n",
              "      <td>Godzilla</td>\n",
              "      <td>-</td>\n",
              "      <td>-</td>\n",
              "      <td>Kaiju</td>\n",
              "      <td>-</td>\n",
              "      <td>108.0</td>\n",
              "      <td>NaN</td>\n",
              "      <td>grey</td>\n",
              "      <td>bad</td>\n",
              "      <td>NaN</td>\n",
              "    </tr>\n",
              "    <tr>\n",
              "      <th>263</th>\n",
              "      <td>Flash Gordon</td>\n",
              "      <td>Male</td>\n",
              "      <td>-</td>\n",
              "      <td>-</td>\n",
              "      <td>-</td>\n",
              "      <td>-99.0</td>\n",
              "      <td>NaN</td>\n",
              "      <td>-</td>\n",
              "      <td>good</td>\n",
              "      <td>-99.0</td>\n",
              "    </tr>\n",
              "    <tr>\n",
              "      <th>138</th>\n",
              "      <td>Brundlefly</td>\n",
              "      <td>Male</td>\n",
              "      <td>-</td>\n",
              "      <td>Mutant</td>\n",
              "      <td>-</td>\n",
              "      <td>193.0</td>\n",
              "      <td>NaN</td>\n",
              "      <td>-</td>\n",
              "      <td>-</td>\n",
              "      <td>-99.0</td>\n",
              "    </tr>\n",
              "    <tr>\n",
              "      <th>381</th>\n",
              "      <td>Katniss Everdeen</td>\n",
              "      <td>Female</td>\n",
              "      <td>-</td>\n",
              "      <td>Human</td>\n",
              "      <td>-</td>\n",
              "      <td>-99.0</td>\n",
              "      <td>NaN</td>\n",
              "      <td>-</td>\n",
              "      <td>good</td>\n",
              "      <td>-99.0</td>\n",
              "    </tr>\n",
              "  </tbody>\n",
              "</table>\n",
              "</div>\n",
              "      <button class=\"colab-df-convert\" onclick=\"convertToInteractive('df-6c9b403a-c217-46d7-b065-0742bce8ef1e')\"\n",
              "              title=\"Convert this dataframe to an interactive table.\"\n",
              "              style=\"display:none;\">\n",
              "        \n",
              "  <svg xmlns=\"http://www.w3.org/2000/svg\" height=\"24px\"viewBox=\"0 0 24 24\"\n",
              "       width=\"24px\">\n",
              "    <path d=\"M0 0h24v24H0V0z\" fill=\"none\"/>\n",
              "    <path d=\"M18.56 5.44l.94 2.06.94-2.06 2.06-.94-2.06-.94-.94-2.06-.94 2.06-2.06.94zm-11 1L8.5 8.5l.94-2.06 2.06-.94-2.06-.94L8.5 2.5l-.94 2.06-2.06.94zm10 10l.94 2.06.94-2.06 2.06-.94-2.06-.94-.94-2.06-.94 2.06-2.06.94z\"/><path d=\"M17.41 7.96l-1.37-1.37c-.4-.4-.92-.59-1.43-.59-.52 0-1.04.2-1.43.59L10.3 9.45l-7.72 7.72c-.78.78-.78 2.05 0 2.83L4 21.41c.39.39.9.59 1.41.59.51 0 1.02-.2 1.41-.59l7.78-7.78 2.81-2.81c.8-.78.8-2.07 0-2.86zM5.41 20L4 18.59l7.72-7.72 1.47 1.35L5.41 20z\"/>\n",
              "  </svg>\n",
              "      </button>\n",
              "      \n",
              "  <style>\n",
              "    .colab-df-container {\n",
              "      display:flex;\n",
              "      flex-wrap:wrap;\n",
              "      gap: 12px;\n",
              "    }\n",
              "\n",
              "    .colab-df-convert {\n",
              "      background-color: #E8F0FE;\n",
              "      border: none;\n",
              "      border-radius: 50%;\n",
              "      cursor: pointer;\n",
              "      display: none;\n",
              "      fill: #1967D2;\n",
              "      height: 32px;\n",
              "      padding: 0 0 0 0;\n",
              "      width: 32px;\n",
              "    }\n",
              "\n",
              "    .colab-df-convert:hover {\n",
              "      background-color: #E2EBFA;\n",
              "      box-shadow: 0px 1px 2px rgba(60, 64, 67, 0.3), 0px 1px 3px 1px rgba(60, 64, 67, 0.15);\n",
              "      fill: #174EA6;\n",
              "    }\n",
              "\n",
              "    [theme=dark] .colab-df-convert {\n",
              "      background-color: #3B4455;\n",
              "      fill: #D2E3FC;\n",
              "    }\n",
              "\n",
              "    [theme=dark] .colab-df-convert:hover {\n",
              "      background-color: #434B5C;\n",
              "      box-shadow: 0px 1px 3px 1px rgba(0, 0, 0, 0.15);\n",
              "      filter: drop-shadow(0px 1px 2px rgba(0, 0, 0, 0.3));\n",
              "      fill: #FFFFFF;\n",
              "    }\n",
              "  </style>\n",
              "\n",
              "      <script>\n",
              "        const buttonEl =\n",
              "          document.querySelector('#df-6c9b403a-c217-46d7-b065-0742bce8ef1e button.colab-df-convert');\n",
              "        buttonEl.style.display =\n",
              "          google.colab.kernel.accessAllowed ? 'block' : 'none';\n",
              "\n",
              "        async function convertToInteractive(key) {\n",
              "          const element = document.querySelector('#df-6c9b403a-c217-46d7-b065-0742bce8ef1e');\n",
              "          const dataTable =\n",
              "            await google.colab.kernel.invokeFunction('convertToInteractive',\n",
              "                                                     [key], {});\n",
              "          if (!dataTable) return;\n",
              "\n",
              "          const docLinkHtml = 'Like what you see? Visit the ' +\n",
              "            '<a target=\"_blank\" href=https://colab.research.google.com/notebooks/data_table.ipynb>data table notebook</a>'\n",
              "            + ' to learn more about interactive tables.';\n",
              "          element.innerHTML = '';\n",
              "          dataTable['output_type'] = 'display_data';\n",
              "          await google.colab.output.renderOutput(dataTable, element);\n",
              "          const docLink = document.createElement('div');\n",
              "          docLink.innerHTML = docLinkHtml;\n",
              "          element.appendChild(docLink);\n",
              "        }\n",
              "      </script>\n",
              "    </div>\n",
              "  </div>\n",
              "  "
            ]
          },
          "metadata": {},
          "execution_count": 53
        }
      ],
      "source": [
        "# Run this cell without changes\n",
        "missing_publisher_sample = heroes_df[heroes_df[\"Publisher\"].isna()].sample(\n",
        "    5, random_state=1\n",
        ")\n",
        "missing_publisher_sample"
      ]
    },
    {
      "cell_type": "markdown",
      "metadata": {
        "id": "uLRS6AvOcUfz"
      },
      "source": [
        "What do we want to do about these missing values?\n",
        "\n",
        "Recall that there are two general strategies for dealing with missing values:\n",
        "\n",
        "1. Fill in missing values (either using another value from the column, e.g. the mean or mode, or using some other value like \"Unknown\")\n",
        "2. Drop rows with missing values\n",
        "\n",
        "Write your answer below, and explain how it relates to the information we have:"
      ]
    },
    {
      "cell_type": "code",
      "execution_count": 56,
      "metadata": {
        "id": "m7ferLWfcUfz",
        "colab": {
          "base_uri": "https://localhost:8080/"
        },
        "outputId": "37c4340b-88ab-4053-85e0-fef1b51c4ce0"
      },
      "outputs": [
        {
          "output_type": "stream",
          "name": "stdout",
          "text": [
            "Index(['name', 'Gender', 'Eye color', 'Race', 'Hair color', 'Height',\n",
            "       'Publisher', 'Skin color', 'Alignment', 'Weight'],\n",
            "      dtype='object')\n"
          ]
        }
      ],
      "source": [
        "# Replace None with appropriate text\n",
        "#\"\"\"\n",
        "#None\n",
        "#\"\"\"\n",
        "# I will replace with words \"Publisher unkown\" coz these are objects \n",
        "print(heroes_df.columns)\n"
      ]
    },
    {
      "cell_type": "markdown",
      "metadata": {
        "id": "OMROecLjcUfz"
      },
      "source": [
        "Now, implement the strategy to drop rows with missing values using code. (You can also check the solution branch for the answer to the question above if you're really not sure.)"
      ]
    },
    {
      "cell_type": "code",
      "execution_count": 57,
      "metadata": {
        "id": "IOJGuiLBcUfz",
        "colab": {
          "base_uri": "https://localhost:8080/",
          "height": 338
        },
        "outputId": "4664c0f6-d301-4289-dee6-bf32a8aee63a"
      },
      "outputs": [
        {
          "output_type": "error",
          "ename": "KeyError",
          "evalue": "ignored",
          "traceback": [
            "\u001b[0;31m---------------------------------------------------------------------------\u001b[0m",
            "\u001b[0;31mKeyError\u001b[0m                                  Traceback (most recent call last)",
            "\u001b[0;32m<ipython-input-57-fea01284cdf5>\u001b[0m in \u001b[0;36m<cell line: 2>\u001b[0;34m()\u001b[0m\n\u001b[1;32m      1\u001b[0m \u001b[0;31m# Your code here\u001b[0m\u001b[0;34m\u001b[0m\u001b[0;34m\u001b[0m\u001b[0m\n\u001b[0;32m----> 2\u001b[0;31m \u001b[0mheroes_df\u001b[0m\u001b[0;34m.\u001b[0m\u001b[0mdropna\u001b[0m\u001b[0;34m(\u001b[0m\u001b[0msubset\u001b[0m\u001b[0;34m=\u001b[0m\u001b[0;34m[\u001b[0m\u001b[0;34m'Publisher'\u001b[0m\u001b[0;34m]\u001b[0m\u001b[0;34m,\u001b[0m \u001b[0maxis\u001b[0m\u001b[0;34m=\u001b[0m\u001b[0;36m1\u001b[0m\u001b[0;34m,\u001b[0m \u001b[0minplace\u001b[0m\u001b[0;34m=\u001b[0m\u001b[0;32mTrue\u001b[0m\u001b[0;34m)\u001b[0m\u001b[0;34m\u001b[0m\u001b[0;34m\u001b[0m\u001b[0m\n\u001b[0m",
            "\u001b[0;32m/usr/local/lib/python3.9/dist-packages/pandas/util/_decorators.py\u001b[0m in \u001b[0;36mwrapper\u001b[0;34m(*args, **kwargs)\u001b[0m\n\u001b[1;32m    309\u001b[0m                     \u001b[0mstacklevel\u001b[0m\u001b[0;34m=\u001b[0m\u001b[0mstacklevel\u001b[0m\u001b[0;34m,\u001b[0m\u001b[0;34m\u001b[0m\u001b[0;34m\u001b[0m\u001b[0m\n\u001b[1;32m    310\u001b[0m                 )\n\u001b[0;32m--> 311\u001b[0;31m             \u001b[0;32mreturn\u001b[0m \u001b[0mfunc\u001b[0m\u001b[0;34m(\u001b[0m\u001b[0;34m*\u001b[0m\u001b[0margs\u001b[0m\u001b[0;34m,\u001b[0m \u001b[0;34m**\u001b[0m\u001b[0mkwargs\u001b[0m\u001b[0;34m)\u001b[0m\u001b[0;34m\u001b[0m\u001b[0;34m\u001b[0m\u001b[0m\n\u001b[0m\u001b[1;32m    312\u001b[0m \u001b[0;34m\u001b[0m\u001b[0m\n\u001b[1;32m    313\u001b[0m         \u001b[0;32mreturn\u001b[0m \u001b[0mwrapper\u001b[0m\u001b[0;34m\u001b[0m\u001b[0;34m\u001b[0m\u001b[0m\n",
            "\u001b[0;32m/usr/local/lib/python3.9/dist-packages/pandas/core/frame.py\u001b[0m in \u001b[0;36mdropna\u001b[0;34m(self, axis, how, thresh, subset, inplace)\u001b[0m\n\u001b[1;32m   6009\u001b[0m             \u001b[0mcheck\u001b[0m \u001b[0;34m=\u001b[0m \u001b[0mindices\u001b[0m \u001b[0;34m==\u001b[0m \u001b[0;34m-\u001b[0m\u001b[0;36m1\u001b[0m\u001b[0;34m\u001b[0m\u001b[0;34m\u001b[0m\u001b[0m\n\u001b[1;32m   6010\u001b[0m             \u001b[0;32mif\u001b[0m \u001b[0mcheck\u001b[0m\u001b[0;34m.\u001b[0m\u001b[0many\u001b[0m\u001b[0;34m(\u001b[0m\u001b[0;34m)\u001b[0m\u001b[0;34m:\u001b[0m\u001b[0;34m\u001b[0m\u001b[0;34m\u001b[0m\u001b[0m\n\u001b[0;32m-> 6011\u001b[0;31m                 \u001b[0;32mraise\u001b[0m \u001b[0mKeyError\u001b[0m\u001b[0;34m(\u001b[0m\u001b[0mnp\u001b[0m\u001b[0;34m.\u001b[0m\u001b[0marray\u001b[0m\u001b[0;34m(\u001b[0m\u001b[0msubset\u001b[0m\u001b[0;34m)\u001b[0m\u001b[0;34m[\u001b[0m\u001b[0mcheck\u001b[0m\u001b[0;34m]\u001b[0m\u001b[0;34m.\u001b[0m\u001b[0mtolist\u001b[0m\u001b[0;34m(\u001b[0m\u001b[0;34m)\u001b[0m\u001b[0;34m)\u001b[0m\u001b[0;34m\u001b[0m\u001b[0;34m\u001b[0m\u001b[0m\n\u001b[0m\u001b[1;32m   6012\u001b[0m             \u001b[0magg_obj\u001b[0m \u001b[0;34m=\u001b[0m \u001b[0mself\u001b[0m\u001b[0;34m.\u001b[0m\u001b[0mtake\u001b[0m\u001b[0;34m(\u001b[0m\u001b[0mindices\u001b[0m\u001b[0;34m,\u001b[0m \u001b[0maxis\u001b[0m\u001b[0;34m=\u001b[0m\u001b[0magg_axis\u001b[0m\u001b[0;34m)\u001b[0m\u001b[0;34m\u001b[0m\u001b[0;34m\u001b[0m\u001b[0m\n\u001b[1;32m   6013\u001b[0m \u001b[0;34m\u001b[0m\u001b[0m\n",
            "\u001b[0;31mKeyError\u001b[0m: ['Publisher']"
          ]
        }
      ],
      "source": [
        "# Your code here\n",
        "heroes_df.dropna(subset=['Publisher'], axis=1, inplace=True)\n"
      ]
    },
    {
      "cell_type": "markdown",
      "metadata": {
        "id": "yB6G3ZCvcUfz"
      },
      "source": [
        "Now there should be no missing values in the publisher column:"
      ]
    },
    {
      "cell_type": "code",
      "execution_count": null,
      "metadata": {
        "id": "jLAv4_iUcUfz"
      },
      "outputs": [],
      "source": [
        "# Run this cell without changes\n",
        "assert heroes_df[\"Publisher\"].isna().sum() == 0"
      ]
    },
    {
      "cell_type": "markdown",
      "metadata": {
        "id": "T9TWec34cUfz"
      },
      "source": [
        "### Identifying and Handling Text Data Requiring Cleaning\n",
        "\n",
        "The overall field of natural language processing (NLP) is quite broad, and we're not going to get into any advanced text processing, but it's useful to be able to clean up minor issues in text data.\n",
        "\n",
        "Let's take a look at the counts of heroes grouped by publisher:"
      ]
    },
    {
      "cell_type": "code",
      "execution_count": null,
      "metadata": {
        "id": "92jkRW0YcUfz"
      },
      "outputs": [],
      "source": [
        "# Run this cell without changes\n",
        "heroes_df[\"Publisher\"].value_counts()"
      ]
    },
    {
      "cell_type": "markdown",
      "metadata": {
        "id": "79nJDHcVcUf0"
      },
      "source": [
        "There are two cases where we appear to have data entry issues, and publishers that should be encoded the same have not been. In other words, there are four categories present that really should be counted as two categories (and you do not need specific comic book knowledge to be able to identify them).\n",
        "\n",
        "Identify those two cases below:"
      ]
    },
    {
      "cell_type": "code",
      "execution_count": null,
      "metadata": {
        "id": "yPbI-59pcUf0"
      },
      "outputs": [],
      "source": [
        "# Replace None with appropriate text\n",
        "\"\"\"\n",
        "None\n",
        "\"\"\""
      ]
    },
    {
      "cell_type": "markdown",
      "metadata": {
        "id": "Vt5MYRsjcUf0"
      },
      "source": [
        "Now, write some code to handle these cases. If you're not sure where to start, look at the pandas documentation for [replacing values](https://pandas.pydata.org/pandas-docs/stable/reference/api/pandas.Series.replace.html) and [stripping off whitespace](https://pandas.pydata.org/pandas-docs/stable/reference/api/pandas.Series.str.strip.html)."
      ]
    },
    {
      "cell_type": "code",
      "execution_count": null,
      "metadata": {
        "id": "BzlNyxCNcUf0"
      },
      "outputs": [],
      "source": [
        "# Your code here"
      ]
    },
    {
      "cell_type": "markdown",
      "metadata": {
        "id": "7zcS4L_EcUf0"
      },
      "source": [
        "Check your work below:"
      ]
    },
    {
      "cell_type": "code",
      "execution_count": null,
      "metadata": {
        "id": "hzosxjLRcUf0"
      },
      "outputs": [],
      "source": [
        "# Run this cell without changes\n",
        "heroes_df[\"Publisher\"].value_counts()"
      ]
    },
    {
      "cell_type": "markdown",
      "metadata": {
        "id": "nTkm6pEYcUf0"
      },
      "source": [
        "### Answering the Question\n",
        "\n",
        "Now we should be able to answer *What is the distribution of superheroes by publisher?*\n",
        "\n",
        "If your data cleaning was done correctly, this code should work without any further changes:"
      ]
    },
    {
      "cell_type": "code",
      "execution_count": null,
      "metadata": {
        "id": "Gr4KcLkdcUf0"
      },
      "outputs": [],
      "source": [
        "# Run this cell without changes\n",
        "\n",
        "# Set up plots\n",
        "fig, (ax1, ax2) = plt.subplots(ncols=2, figsize=(16, 5))\n",
        "\n",
        "# Create variables for easier reuse\n",
        "value_counts = heroes_df[\"Publisher\"].value_counts()\n",
        "top_5_counts = value_counts.iloc[:5]\n",
        "\n",
        "# Plot data\n",
        "ax1.bar(value_counts.index, value_counts.values)\n",
        "ax2.bar(top_5_counts.index, top_5_counts.values)\n",
        "\n",
        "# Customize appearance\n",
        "ax1.tick_params(axis=\"x\", labelrotation=90)\n",
        "ax2.tick_params(axis=\"x\", labelrotation=45)\n",
        "ax1.set_ylabel(\"Count of Superheroes\")\n",
        "ax2.set_ylabel(\"Count of Superheroes\")\n",
        "ax1.set_title(\"Distribution of Superheroes by Publisher\")\n",
        "ax2.set_title(\"Top 5 Publishers by Count of Superheroes\");"
      ]
    },
    {
      "cell_type": "markdown",
      "metadata": {
        "id": "iNvB94KjcUf0"
      },
      "source": [
        "## 3. Perform Data Aggregation and Cleaning Required to Answer Second Question\n",
        "\n",
        "Recall that the second question is: *What is the relationship between height and number of superpowers? And does this differ based on gender?*\n",
        "\n",
        "Unlike the previous question, we won't be able to answer this with just `heroes_df`, since information about height is contained in `heroes_df`, while information about superpowers is contained in `powers_df`.\n",
        "\n",
        "### Joining the Dataframes Together\n",
        "\n",
        "First, identify the shared key between `heroes_df` and `powers_df`. (Shared key meaning, the values you want to join on.) Let's look at them again:"
      ]
    },
    {
      "cell_type": "code",
      "execution_count": null,
      "metadata": {
        "id": "zA42VT7lcUf0"
      },
      "outputs": [],
      "source": [
        "# Run this cell without changes\n",
        "heroes_df"
      ]
    },
    {
      "cell_type": "code",
      "execution_count": null,
      "metadata": {
        "id": "b5tb92vXcUf1"
      },
      "outputs": [],
      "source": [
        "# Run this cell without changes\n",
        "powers_df"
      ]
    },
    {
      "cell_type": "markdown",
      "metadata": {
        "id": "zHGxvBWycUf1"
      },
      "source": [
        "In the cell below, identify the shared key, and your strategy for joining the data (e.g. what will one record represent after you join, will you do a left/right/inner/outer join):"
      ]
    },
    {
      "cell_type": "code",
      "execution_count": null,
      "metadata": {
        "id": "U5MPtn1rcUf1"
      },
      "outputs": [],
      "source": [
        "# Replace None with appropriate text\n",
        "\"\"\"\n",
        "None\n",
        "\"\"\""
      ]
    },
    {
      "cell_type": "markdown",
      "metadata": {
        "id": "PL6pziufcUf1"
      },
      "source": [
        "In the cell below, create a new dataframe called `heroes_and_powers_df` that contains the joined data. You can look at the above answer in the solution branch if you're not sure where to start.\n",
        "\n",
        "***Hint:*** Note that the `.join` method requires that the two dataframes share an index ([documentation here](https://pandas.pydata.org/pandas-docs/stable/reference/api/pandas.DataFrame.join.html)) whereas the `.merge` method can join using any columns ([documentation here](https://pandas.pydata.org/pandas-docs/stable/reference/api/pandas.DataFrame.merge.html)). It is up to you which one you want to use."
      ]
    },
    {
      "cell_type": "code",
      "execution_count": null,
      "metadata": {
        "id": "vn_VbwKHcUf1"
      },
      "outputs": [],
      "source": [
        "# Your code here (create more cells as needed)"
      ]
    },
    {
      "cell_type": "markdown",
      "metadata": {
        "id": "e_yVOFp7cUf1"
      },
      "source": [
        "Run the code below to check your work:"
      ]
    },
    {
      "cell_type": "code",
      "execution_count": null,
      "metadata": {
        "id": "m4oFsAo8cUf1"
      },
      "outputs": [],
      "source": [
        "# Run this cell without changes\n",
        "\n",
        "# Confirms you have created a DataFrame with the specified name\n",
        "assert type(heroes_and_powers_df) == pd.DataFrame\n",
        "\n",
        "# Confirms you have the right number of rows\n",
        "assert heroes_and_powers_df.shape[0] == 647\n",
        "\n",
        "# Confirms you have the necessary columns\n",
        "# (If you modified the value of powers_df along the way, you might need to\n",
        "# modify this test. We are checking that all of the powers are present as\n",
        "# columns.)\n",
        "assert [power in heroes_and_powers_df.columns for power in powers_df.index]\n",
        "# (If you modified the value of heroes_df along the way, you might need to\n",
        "# modify this as well. We are checking that all of the attribute columns from\n",
        "# heroes_df are present as columns in the joined df)\n",
        "assert [attribute in heroes_and_powers_df.columns for attribute in heroes_df.columns]"
      ]
    },
    {
      "cell_type": "markdown",
      "metadata": {
        "id": "EC7auLYBcUf2"
      },
      "source": [
        "Now that we have created a joined dataframe, we can aggregate the number of superpowers by superhero. This code is written for you:"
      ]
    },
    {
      "cell_type": "code",
      "execution_count": null,
      "metadata": {
        "id": "kNhmziBmcUf2"
      },
      "outputs": [],
      "source": [
        "# Run this cell without changes\n",
        "\n",
        "# Note: we can use sum() with True and False values and they will\n",
        "# automatically be cast to 1s and 0s\n",
        "heroes_and_powers_df[\"Power Count\"] = sum(\n",
        "    [heroes_and_powers_df[power_name] for power_name in powers_df.index]\n",
        ")\n",
        "heroes_and_powers_df"
      ]
    },
    {
      "cell_type": "markdown",
      "metadata": {
        "id": "5JmVEZxIcUf2"
      },
      "source": [
        "### Answering the Question\n",
        "\n",
        "Now we can plot the height vs. the count of powers:"
      ]
    },
    {
      "cell_type": "code",
      "execution_count": null,
      "metadata": {
        "id": "-LtSnsdQcUf2"
      },
      "outputs": [],
      "source": [
        "# Run this cell without changes\n",
        "\n",
        "fig, ax = plt.subplots(figsize=(16, 8))\n",
        "\n",
        "ax.scatter(\n",
        "    x=heroes_and_powers_df[\"Height\"], y=heroes_and_powers_df[\"Power Count\"], alpha=0.3\n",
        ")\n",
        "\n",
        "ax.set_xlabel(\"Height (cm)\")\n",
        "ax.set_ylabel(\"Number of Superpowers\")\n",
        "ax.set_title(\"Height vs. Power Count\");"
      ]
    },
    {
      "cell_type": "markdown",
      "metadata": {
        "id": "DddPgT6XcUf2"
      },
      "source": [
        "Hmm...what is that stack of values off below zero? What is a \"negative\" height?"
      ]
    },
    {
      "cell_type": "markdown",
      "metadata": {
        "id": "eN2xCvilcUf2"
      },
      "source": [
        "### Identifying and Handling Invalid values\n",
        "\n",
        "One of the trickier tasks in data cleaning is identifying invalid or impossible values. In these cases, you have to apply your domain knowledge rather than any particular computational technique. For example, if you were looking at data containing dates of past home sales, and one of those dates was 100 years in the future, pandas wouldn't flag that as an issue, but you as a data scientist should be able to identify it.\n",
        "\n",
        "In this case, we are looking at heights, which are 1-dimensional, positive numbers. In theory we could have a very tiny height close to 0 cm because the hero is microscopic, but it does not make sense that we would have a height below zero.\n",
        "\n",
        "Let's take a look at a sample of those negative heights:"
      ]
    },
    {
      "cell_type": "code",
      "execution_count": null,
      "metadata": {
        "id": "T_OgedA4cUf2"
      },
      "outputs": [],
      "source": [
        "# Run this cell without changes\n",
        "heroes_and_powers_df[heroes_and_powers_df[\"Height\"] < 0].sample(5, random_state=1)"
      ]
    },
    {
      "cell_type": "markdown",
      "metadata": {
        "id": "_q2NKZW9cUf2"
      },
      "source": [
        "It looks like not only are those heights negative, those weights are negative also, and all of them are set to exactly -99.0.\n",
        "\n",
        "It seems like this data source probably filled in -99.0 as the height or weight whenever it was unknown, instead of just leaving it as NaN.\n",
        "\n",
        "Depending on the purpose of the analysis, maybe this would be a useful piece of information, but for our current question, let's go ahead and drop the records where the height is -99.0. We'll make a new temporary dataframe to make sure we don't accidentally delete anything that will be needed in a future question."
      ]
    },
    {
      "cell_type": "code",
      "execution_count": null,
      "metadata": {
        "id": "xSJVX1w-cUf3"
      },
      "outputs": [],
      "source": [
        "# Run this cell without changes\n",
        "question_2_df = heroes_and_powers_df[heroes_and_powers_df[\"Height\"] != -99.0].copy()\n",
        "question_2_df"
      ]
    },
    {
      "cell_type": "markdown",
      "metadata": {
        "id": "jmgZAZvpcUf3"
      },
      "source": [
        "### Answering the Question, Again\n",
        "\n",
        "Now we can redo that plot without those negative heights:"
      ]
    },
    {
      "cell_type": "code",
      "execution_count": null,
      "metadata": {
        "id": "DVLtIsr8cUf3"
      },
      "outputs": [],
      "source": [
        "# Run this cell without changes\n",
        "\n",
        "fig, ax = plt.subplots(figsize=(16, 8))\n",
        "\n",
        "ax.scatter(x=question_2_df[\"Height\"], y=question_2_df[\"Power Count\"], alpha=0.3)\n",
        "\n",
        "ax.set_xlabel(\"Height (cm)\")\n",
        "ax.set_ylabel(\"Number of Superpowers\")\n",
        "ax.set_title(\"Height vs. Power Count\");"
      ]
    },
    {
      "cell_type": "markdown",
      "metadata": {
        "id": "K07pKArIcUf3"
      },
      "source": [
        "Ok, that makes more sense. It looks like there is not much of a relationship between height and number of superpowers.\n",
        "\n",
        "Now we can go on to answering the second half of question 2: *And does this differ based on gender?*\n",
        "\n",
        "To indicate multiple categories within a scatter plot, we can use color to add a third dimension:"
      ]
    },
    {
      "cell_type": "code",
      "execution_count": null,
      "metadata": {
        "id": "a65XmP2RcUf3"
      },
      "outputs": [],
      "source": [
        "# Run this cell without changes\n",
        "\n",
        "fig, ax = plt.subplots(figsize=(16, 8))\n",
        "\n",
        "# Select subsets\n",
        "question_2_male = question_2_df[question_2_df[\"Gender\"] == \"Male\"]\n",
        "question_2_female = question_2_df[question_2_df[\"Gender\"] == \"Female\"]\n",
        "question_2_other = question_2_df[\n",
        "    (question_2_df[\"Gender\"] != \"Male\") & (question_2_df[\"Gender\"] != \"Female\")\n",
        "]\n",
        "\n",
        "# Plot data with different colors\n",
        "ax.scatter(\n",
        "    x=question_2_male[\"Height\"],\n",
        "    y=question_2_male[\"Power Count\"],\n",
        "    alpha=0.5,\n",
        "    color=\"cyan\",\n",
        "    label=\"Male\",\n",
        ")\n",
        "ax.scatter(\n",
        "    x=question_2_female[\"Height\"],\n",
        "    y=question_2_female[\"Power Count\"],\n",
        "    alpha=0.5,\n",
        "    color=\"gray\",\n",
        "    label=\"Female\",\n",
        ")\n",
        "ax.scatter(\n",
        "    x=question_2_other[\"Height\"],\n",
        "    y=question_2_other[\"Power Count\"],\n",
        "    alpha=0.5,\n",
        "    color=\"yellow\",\n",
        "    label=\"Other\",\n",
        ")\n",
        "\n",
        "# Customize appearance\n",
        "ax.set_xlabel(\"Height (cm)\")\n",
        "ax.set_ylabel(\"Number of Superpowers\")\n",
        "ax.set_title(\"Height vs. Power Count\")\n",
        "ax.legend();"
      ]
    },
    {
      "cell_type": "markdown",
      "metadata": {
        "id": "-XBeMHiecUf4"
      },
      "source": [
        "It appears that there is still no clear relationship between count of powers and height, regardless of gender. We do however note that \"Male\" is the most common gender, and that male superheroes tend to be taller, on average."
      ]
    },
    {
      "cell_type": "markdown",
      "metadata": {
        "id": "Vf_pU9j5cUf4"
      },
      "source": [
        "## 4. Perform Data Aggregation Required to Answer Third Question\n",
        "\n",
        "Recall that the third question is: *What are the 5 most common superpowers in Marvel Comics vs. DC Comics?*\n",
        "\n",
        "We'll need to keep using `heroes_and_powers_df` since we require information from both `heroes_df` and `powers_df`.\n",
        "\n",
        "Your resulting `question_3_df` should contain aggregated data, with columns `Superpower Name`, `Marvel Comics` (containing the count of occurrences in Marvel Comics), and `DC Comics` (containing the count of occurrences in DC Comics). Each row should represent a superpower.\n",
        "\n",
        "In other words, `question_3_df` should look like this:\n",
        "\n",
        "![question 3 df](images/question_3.png)\n",
        "\n",
        "Don't worry if the rows or columns are in a different order, all that matters is that you have the right rows and columns with all the data.\n",
        "\n",
        "***Hint:*** refer to the [documentation for `.groupby`](https://pandas.pydata.org/pandas-docs/stable/reference/api/pandas.DataFrame.groupby.html) and treat each publisher as a group."
      ]
    },
    {
      "cell_type": "code",
      "execution_count": null,
      "metadata": {
        "id": "svsx_Nt5cUf4"
      },
      "outputs": [],
      "source": [
        "# Your code here (create more cells as needed)"
      ]
    },
    {
      "cell_type": "markdown",
      "metadata": {
        "id": "KE_VF-nycUf4"
      },
      "source": [
        "The code below checks that you have the correct dataframe structure:"
      ]
    },
    {
      "cell_type": "code",
      "execution_count": null,
      "metadata": {
        "id": "7gR_XKe9cUf4"
      },
      "outputs": [],
      "source": [
        "# Run this cell without changes\n",
        "\n",
        "# Checking that you made a dataframe called question_3_df\n",
        "assert type(question_3_df) == pd.DataFrame\n",
        "\n",
        "# Checking the shape\n",
        "assert question_3_df.shape == (167, 3)\n",
        "\n",
        "# Checking the column names\n",
        "assert sorted(list(question_3_df.columns)) == [\n",
        "    \"DC Comics\",\n",
        "    \"Marvel Comics\",\n",
        "    \"Superpower Name\",\n",
        "]"
      ]
    },
    {
      "cell_type": "markdown",
      "metadata": {
        "id": "F9Bp56J5cUf4"
      },
      "source": [
        "### Answering the Question\n",
        "\n",
        "The code below uses the dataframe you created to find and plot the most common superpowers in Marvel Comics and DC Comics."
      ]
    },
    {
      "cell_type": "code",
      "execution_count": null,
      "metadata": {
        "id": "Lwu3NdXkcUf4"
      },
      "outputs": [],
      "source": [
        "# Run this cell without changes\n",
        "\n",
        "marvel_most_common = question_3_df.drop(\"DC Comics\", axis=1)\n",
        "marvel_most_common = marvel_most_common.sort_values(\n",
        "    by=\"Marvel Comics\", ascending=False\n",
        ")[:5]\n",
        "marvel_most_common"
      ]
    },
    {
      "cell_type": "code",
      "execution_count": null,
      "metadata": {
        "id": "prsKOkKncUf4"
      },
      "outputs": [],
      "source": [
        "# Run this cell without changes\n",
        "\n",
        "dc_most_common = question_3_df.drop(\"Marvel Comics\", axis=1)\n",
        "dc_most_common = dc_most_common.sort_values(by=\"DC Comics\", ascending=False)[:5]\n",
        "dc_most_common"
      ]
    },
    {
      "cell_type": "code",
      "execution_count": null,
      "metadata": {
        "id": "2QW53oe6cUf4"
      },
      "outputs": [],
      "source": [
        "# Run this cell without changes\n",
        "\n",
        "fig, (ax1, ax2) = plt.subplots(ncols=2, figsize=(15, 5))\n",
        "\n",
        "ax1.bar(\n",
        "    x=marvel_most_common[\"Superpower Name\"], height=marvel_most_common[\"Marvel Comics\"]\n",
        ")\n",
        "ax2.bar(x=dc_most_common[\"Superpower Name\"], height=dc_most_common[\"DC Comics\"])\n",
        "\n",
        "ax1.set_ylabel(\"Count of Superheroes\")\n",
        "ax2.set_ylabel(\"Count of Superheroes\")\n",
        "ax1.set_title(\"Frequency of Top Superpowers in Marvel Comics\")\n",
        "ax2.set_title(\"Frequency of Top Superpowers in DC Comics\");"
      ]
    },
    {
      "cell_type": "markdown",
      "metadata": {
        "id": "F9Rr96IGcUf5"
      },
      "source": [
        "It looks like super strength is the most popular power in both Marvel Comics and DC Comics. Overall, the top 5 powers are fairly similar — 4 out of 5 overlap, although Marvel contains agility whereas DC contains flight."
      ]
    },
    {
      "cell_type": "markdown",
      "metadata": {
        "id": "6y4-0bVtcUf5"
      },
      "source": [
        "## 5. Formulate and Answer Your Own Question\n",
        "\n",
        "For the remainder of this lab, you'll be focusing on coming up with and answering your own question, just like we did above.  Your question should not be overly simple, and should require both descriptive statistics and data visualization to answer.  In case you're unsure of what questions to ask, some sample questions have been provided below.\n",
        "\n",
        "Pick one of the following questions to investigate and answer, or come up with one of your own!\n",
        "\n",
        "* Which powers have the highest chance of co-occurring in a hero (e.g. super strength and flight)?\n",
        "* What is the distribution of skin colors amongst alien heroes?\n",
        "* How are eye color and hair color related in this dataset?\n",
        "\n",
        "Explain your question below:"
      ]
    },
    {
      "cell_type": "code",
      "execution_count": null,
      "metadata": {
        "id": "rBnuIQz9cUf5"
      },
      "outputs": [],
      "source": [
        "# Replace None with appropriate text:\n",
        "\"\"\"\n",
        "None\n",
        "\"\"\""
      ]
    },
    {
      "cell_type": "markdown",
      "metadata": {
        "id": "EYNxKk1mcUf5"
      },
      "source": [
        "Some sample cells have been provided to give you room to work. Feel free to create more cells as needed.\n",
        "\n",
        "Be sure to include thoughtful, well-labeled visualizations to back up your analysis!\n",
        "\n",
        "(There is no solution branch for this part, and feel free to move on to the next lesson if you have already spent more than 90 minutes.)"
      ]
    },
    {
      "cell_type": "code",
      "execution_count": null,
      "metadata": {
        "id": "LjUcCtCdcUf5"
      },
      "outputs": [],
      "source": []
    },
    {
      "cell_type": "code",
      "execution_count": null,
      "metadata": {
        "id": "homjSD8ScUf5"
      },
      "outputs": [],
      "source": []
    },
    {
      "cell_type": "code",
      "execution_count": null,
      "metadata": {
        "id": "NRORIf3ncUf5"
      },
      "outputs": [],
      "source": []
    },
    {
      "cell_type": "code",
      "execution_count": null,
      "metadata": {
        "id": "MUS4Q9VbcUf5"
      },
      "outputs": [],
      "source": []
    },
    {
      "cell_type": "code",
      "execution_count": null,
      "metadata": {
        "id": "SLKVIqPncUf6"
      },
      "outputs": [],
      "source": []
    },
    {
      "cell_type": "markdown",
      "metadata": {
        "id": "PK9aREuocUf6"
      },
      "source": [
        "## Summary\n",
        "\n",
        "In this lab, you demonstrated your mastery of using pandas to clean and aggregate data in order to answer several business questions. This included identifying and handling missing values, text requiring preprocessing, and invalid values. You also performed aggregation and reshaping tasks such as transposing, joining, and grouping data. Great job, there was a lot here!"
      ]
    }
  ],
  "metadata": {
    "kernelspec": {
      "display_name": "Python 3",
      "language": "python",
      "name": "python3"
    },
    "language_info": {
      "codemirror_mode": {
        "name": "ipython",
        "version": 3
      },
      "file_extension": ".py",
      "mimetype": "text/x-python",
      "name": "python",
      "nbconvert_exporter": "python",
      "pygments_lexer": "ipython3",
      "version": "3.8.5"
    },
    "vscode": {
      "interpreter": {
        "hash": "7525ddc99344d304bee386e4294f627a69ef3ddf90a93199e89e426185c49e1b"
      }
    },
    "colab": {
      "provenance": [],
      "include_colab_link": true
    }
  },
  "nbformat": 4,
  "nbformat_minor": 0
}