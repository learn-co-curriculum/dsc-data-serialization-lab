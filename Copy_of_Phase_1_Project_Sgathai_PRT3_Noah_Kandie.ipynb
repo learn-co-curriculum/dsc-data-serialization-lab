{
  "nbformat": 4,
  "nbformat_minor": 0,
  "metadata": {
    "colab": {
      "provenance": [],
      "authorship_tag": "ABX9TyO2E3+bQKa3/2kuUOapnnGy",
      "include_colab_link": true
    },
    "kernelspec": {
      "name": "python3",
      "display_name": "Python 3"
    },
    "language_info": {
      "name": "python"
    }
  },
  "cells": [
    {
      "cell_type": "markdown",
      "metadata": {
        "id": "view-in-github",
        "colab_type": "text"
      },
      "source": [
        "<a href=\"https://colab.research.google.com/github/sgathai/dsc-data-serialization-lab/blob/master/Copy_of_Phase_1_Project_Sgathai_PRT3_Noah_Kandie.ipynb\" target=\"_parent\"><img src=\"https://colab.research.google.com/assets/colab-badge.svg\" alt=\"Open In Colab\"/></a>"
      ]
    },
    {
      "cell_type": "markdown",
      "source": [
        "\n",
        "Final Project Submission\n",
        "Please fill out:\n",
        "\n",
        "**Student name**: Stephen Gathai\n",
        "\n",
        "**Student pace**: part time \n",
        "\n",
        "**Scheduled project review date/time:**\n",
        "\n",
        "**Instructor name**: Mr. Noah Kandie \n",
        "\n",
        "\n",
        "Blog post URL: \n",
        "\n",
        "\n",
        "\n",
        "# ***Data analysis project on insights of how google should create a new movie studio By Stephen Gathai.***\n",
        "\n",
        "***A.      Introduction;***\n",
        "We have been tasked to undertake this project on how best should google make informed decision on setting of a movie studio.Outlined below find definition of the business problem ,our approaches /goals/objectives ,methodolgies /tools used in our analysis alongside detailed observations ,recommendations and conclusions thereoff.\n",
        "\n",
        "***B.      Business /Understanding Problem***\n",
        "\n",
        "The project will be geared towards helping google make informed decision on how to create a new movie studio .\n",
        "\n",
        "***C.      Key objectives /goals are ;***\n",
        "\n",
        "1.Assist google create a movie studio that will help them grow revenue \n",
        "\n",
        "2.Give insights to google on key areas of addressing/interest/concern as they venture into movie studio business .\n",
        "\n",
        "***D.        Data sets to be used in the analysis *** \n",
        "\n",
        "For this analysis we shall rely on three sets on data as outlined below ;\n",
        "\n",
        " 1.bom.movie_gross.csv.gz  to be refered  as 'data_set_1_bom_df'\n",
        "\n",
        " 2.tn.movie_budgets.csv.gz  to be refered as 'data_set_2_tn_df'\n",
        "\n",
        " 3.'tmdb.movies.csv.gz to be refered as 'data_set_3_tmdb_df'\n",
        "\n",
        " In order to draw objective observation and recommendations thereoff.\n",
        "\n",
        "*** E.    Examples of Analytical tools to be used.***\n",
        "\n",
        "In order to make our analysis and visualizations below tools among others shall be used ;\n",
        "\n",
        "1.Pandas \n",
        "\n",
        "2.Numpy \n",
        "\n",
        "3.Matplotlib\n",
        "\n",
        "4.Seaborns \n",
        "\n",
        "***F.Data understanding,analysis and visualization ***\n",
        "\n",
        "Under this section we shall explore our various datasets as discussed above inorder for us to draw business insights .\n",
        "\n",
        "We shall conduct mutiple analysis and or tests which shall be denoted as \"Working(no.) and or References (no.) where brief remarks shall be indicated on why we decided to have the said tests /analysis .Alongside we shall document a few notes on our observations and or recommendations from the said analysis /tests if need be.\n",
        "\n",
        "\n",
        "\n",
        " \n",
        "\n",
        "\n",
        "\n"
      ],
      "metadata": {
        "id": "zSCmAMhdPgH4"
      }
    },
    {
      "cell_type": "markdown",
      "source": [
        "# 1.Importation of key libraries to be used in our project."
      ],
      "metadata": {
        "id": "erPu8dxPppF0"
      }
    },
    {
      "cell_type": "code",
      "source": [
        "import pandas as pd\n",
        "import numpy as np\n",
        "import matplotlib.pyplot as plt\n",
        "import seaborn as sns\n",
        "%matplotlib inline"
      ],
      "metadata": {
        "id": "L7goylXSqnje"
      },
      "execution_count": 2,
      "outputs": []
    },
    {
      "cell_type": "markdown",
      "source": [
        "**Working with data set** ; \n",
        "\n",
        "(**1.bom.movie_gross.csv.gz to be refered as 'data_set_1_bom_df**) \n",
        "\n",
        "\n",
        "Funtions and attributes to understand our dataset\n",
        "\n",
        "**Working 1 and or reference 1.**"
      ],
      "metadata": {
        "id": "nmS9I6OMqyCz"
      }
    },
    {
      "cell_type": "code",
      "source": [
        "import pandas as pd\n",
        "import numpy as np\n",
        "import matplotlib.pyplot as plt\n",
        "import seaborn as sns\n",
        "%matplotlib inline\n",
        "\n",
        "data_set_1_bom_df=pd.read_csv('bom.movie_gross.csv.gz')\n",
        "data_set_1_bom_df"
      ],
      "metadata": {
        "id": "HcypWeDL5-GX",
        "colab": {
          "base_uri": "https://localhost:8080/",
          "height": 423
        },
        "outputId": "c8b2c710-35fa-4e12-ff01-32d05425a04f"
      },
      "execution_count": 3,
      "outputs": [
        {
          "output_type": "execute_result",
          "data": {
            "text/plain": [
              "                                            title      studio  domestic_gross  \\\n",
              "0                                     Toy Story 3          BV     415000000.0   \n",
              "1                      Alice in Wonderland (2010)          BV     334200000.0   \n",
              "2     Harry Potter and the Deathly Hallows Part 1          WB     296000000.0   \n",
              "3                                       Inception          WB     292600000.0   \n",
              "4                             Shrek Forever After        P/DW     238700000.0   \n",
              "...                                           ...         ...             ...   \n",
              "3382                                    The Quake       Magn.          6200.0   \n",
              "3383                  Edward II (2018 re-release)          FM          4800.0   \n",
              "3384                                     El Pacto        Sony          2500.0   \n",
              "3385                                     The Swan  Synergetic          2400.0   \n",
              "3386                            An Actor Prepares       Grav.          1700.0   \n",
              "\n",
              "     foreign_gross  year  \n",
              "0        652000000  2010  \n",
              "1        691300000  2010  \n",
              "2        664300000  2010  \n",
              "3        535700000  2010  \n",
              "4        513900000  2010  \n",
              "...            ...   ...  \n",
              "3382           NaN  2018  \n",
              "3383           NaN  2018  \n",
              "3384           NaN  2018  \n",
              "3385           NaN  2018  \n",
              "3386           NaN  2018  \n",
              "\n",
              "[3387 rows x 5 columns]"
            ],
            "text/html": [
              "\n",
              "  <div id=\"df-9aac70fb-b2ad-467b-9580-94c5a0e0f58d\">\n",
              "    <div class=\"colab-df-container\">\n",
              "      <div>\n",
              "<style scoped>\n",
              "    .dataframe tbody tr th:only-of-type {\n",
              "        vertical-align: middle;\n",
              "    }\n",
              "\n",
              "    .dataframe tbody tr th {\n",
              "        vertical-align: top;\n",
              "    }\n",
              "\n",
              "    .dataframe thead th {\n",
              "        text-align: right;\n",
              "    }\n",
              "</style>\n",
              "<table border=\"1\" class=\"dataframe\">\n",
              "  <thead>\n",
              "    <tr style=\"text-align: right;\">\n",
              "      <th></th>\n",
              "      <th>title</th>\n",
              "      <th>studio</th>\n",
              "      <th>domestic_gross</th>\n",
              "      <th>foreign_gross</th>\n",
              "      <th>year</th>\n",
              "    </tr>\n",
              "  </thead>\n",
              "  <tbody>\n",
              "    <tr>\n",
              "      <th>0</th>\n",
              "      <td>Toy Story 3</td>\n",
              "      <td>BV</td>\n",
              "      <td>415000000.0</td>\n",
              "      <td>652000000</td>\n",
              "      <td>2010</td>\n",
              "    </tr>\n",
              "    <tr>\n",
              "      <th>1</th>\n",
              "      <td>Alice in Wonderland (2010)</td>\n",
              "      <td>BV</td>\n",
              "      <td>334200000.0</td>\n",
              "      <td>691300000</td>\n",
              "      <td>2010</td>\n",
              "    </tr>\n",
              "    <tr>\n",
              "      <th>2</th>\n",
              "      <td>Harry Potter and the Deathly Hallows Part 1</td>\n",
              "      <td>WB</td>\n",
              "      <td>296000000.0</td>\n",
              "      <td>664300000</td>\n",
              "      <td>2010</td>\n",
              "    </tr>\n",
              "    <tr>\n",
              "      <th>3</th>\n",
              "      <td>Inception</td>\n",
              "      <td>WB</td>\n",
              "      <td>292600000.0</td>\n",
              "      <td>535700000</td>\n",
              "      <td>2010</td>\n",
              "    </tr>\n",
              "    <tr>\n",
              "      <th>4</th>\n",
              "      <td>Shrek Forever After</td>\n",
              "      <td>P/DW</td>\n",
              "      <td>238700000.0</td>\n",
              "      <td>513900000</td>\n",
              "      <td>2010</td>\n",
              "    </tr>\n",
              "    <tr>\n",
              "      <th>...</th>\n",
              "      <td>...</td>\n",
              "      <td>...</td>\n",
              "      <td>...</td>\n",
              "      <td>...</td>\n",
              "      <td>...</td>\n",
              "    </tr>\n",
              "    <tr>\n",
              "      <th>3382</th>\n",
              "      <td>The Quake</td>\n",
              "      <td>Magn.</td>\n",
              "      <td>6200.0</td>\n",
              "      <td>NaN</td>\n",
              "      <td>2018</td>\n",
              "    </tr>\n",
              "    <tr>\n",
              "      <th>3383</th>\n",
              "      <td>Edward II (2018 re-release)</td>\n",
              "      <td>FM</td>\n",
              "      <td>4800.0</td>\n",
              "      <td>NaN</td>\n",
              "      <td>2018</td>\n",
              "    </tr>\n",
              "    <tr>\n",
              "      <th>3384</th>\n",
              "      <td>El Pacto</td>\n",
              "      <td>Sony</td>\n",
              "      <td>2500.0</td>\n",
              "      <td>NaN</td>\n",
              "      <td>2018</td>\n",
              "    </tr>\n",
              "    <tr>\n",
              "      <th>3385</th>\n",
              "      <td>The Swan</td>\n",
              "      <td>Synergetic</td>\n",
              "      <td>2400.0</td>\n",
              "      <td>NaN</td>\n",
              "      <td>2018</td>\n",
              "    </tr>\n",
              "    <tr>\n",
              "      <th>3386</th>\n",
              "      <td>An Actor Prepares</td>\n",
              "      <td>Grav.</td>\n",
              "      <td>1700.0</td>\n",
              "      <td>NaN</td>\n",
              "      <td>2018</td>\n",
              "    </tr>\n",
              "  </tbody>\n",
              "</table>\n",
              "<p>3387 rows × 5 columns</p>\n",
              "</div>\n",
              "      <button class=\"colab-df-convert\" onclick=\"convertToInteractive('df-9aac70fb-b2ad-467b-9580-94c5a0e0f58d')\"\n",
              "              title=\"Convert this dataframe to an interactive table.\"\n",
              "              style=\"display:none;\">\n",
              "        \n",
              "  <svg xmlns=\"http://www.w3.org/2000/svg\" height=\"24px\"viewBox=\"0 0 24 24\"\n",
              "       width=\"24px\">\n",
              "    <path d=\"M0 0h24v24H0V0z\" fill=\"none\"/>\n",
              "    <path d=\"M18.56 5.44l.94 2.06.94-2.06 2.06-.94-2.06-.94-.94-2.06-.94 2.06-2.06.94zm-11 1L8.5 8.5l.94-2.06 2.06-.94-2.06-.94L8.5 2.5l-.94 2.06-2.06.94zm10 10l.94 2.06.94-2.06 2.06-.94-2.06-.94-.94-2.06-.94 2.06-2.06.94z\"/><path d=\"M17.41 7.96l-1.37-1.37c-.4-.4-.92-.59-1.43-.59-.52 0-1.04.2-1.43.59L10.3 9.45l-7.72 7.72c-.78.78-.78 2.05 0 2.83L4 21.41c.39.39.9.59 1.41.59.51 0 1.02-.2 1.41-.59l7.78-7.78 2.81-2.81c.8-.78.8-2.07 0-2.86zM5.41 20L4 18.59l7.72-7.72 1.47 1.35L5.41 20z\"/>\n",
              "  </svg>\n",
              "      </button>\n",
              "      \n",
              "  <style>\n",
              "    .colab-df-container {\n",
              "      display:flex;\n",
              "      flex-wrap:wrap;\n",
              "      gap: 12px;\n",
              "    }\n",
              "\n",
              "    .colab-df-convert {\n",
              "      background-color: #E8F0FE;\n",
              "      border: none;\n",
              "      border-radius: 50%;\n",
              "      cursor: pointer;\n",
              "      display: none;\n",
              "      fill: #1967D2;\n",
              "      height: 32px;\n",
              "      padding: 0 0 0 0;\n",
              "      width: 32px;\n",
              "    }\n",
              "\n",
              "    .colab-df-convert:hover {\n",
              "      background-color: #E2EBFA;\n",
              "      box-shadow: 0px 1px 2px rgba(60, 64, 67, 0.3), 0px 1px 3px 1px rgba(60, 64, 67, 0.15);\n",
              "      fill: #174EA6;\n",
              "    }\n",
              "\n",
              "    [theme=dark] .colab-df-convert {\n",
              "      background-color: #3B4455;\n",
              "      fill: #D2E3FC;\n",
              "    }\n",
              "\n",
              "    [theme=dark] .colab-df-convert:hover {\n",
              "      background-color: #434B5C;\n",
              "      box-shadow: 0px 1px 3px 1px rgba(0, 0, 0, 0.15);\n",
              "      filter: drop-shadow(0px 1px 2px rgba(0, 0, 0, 0.3));\n",
              "      fill: #FFFFFF;\n",
              "    }\n",
              "  </style>\n",
              "\n",
              "      <script>\n",
              "        const buttonEl =\n",
              "          document.querySelector('#df-9aac70fb-b2ad-467b-9580-94c5a0e0f58d button.colab-df-convert');\n",
              "        buttonEl.style.display =\n",
              "          google.colab.kernel.accessAllowed ? 'block' : 'none';\n",
              "\n",
              "        async function convertToInteractive(key) {\n",
              "          const element = document.querySelector('#df-9aac70fb-b2ad-467b-9580-94c5a0e0f58d');\n",
              "          const dataTable =\n",
              "            await google.colab.kernel.invokeFunction('convertToInteractive',\n",
              "                                                     [key], {});\n",
              "          if (!dataTable) return;\n",
              "\n",
              "          const docLinkHtml = 'Like what you see? Visit the ' +\n",
              "            '<a target=\"_blank\" href=https://colab.research.google.com/notebooks/data_table.ipynb>data table notebook</a>'\n",
              "            + ' to learn more about interactive tables.';\n",
              "          element.innerHTML = '';\n",
              "          dataTable['output_type'] = 'display_data';\n",
              "          await google.colab.output.renderOutput(dataTable, element);\n",
              "          const docLink = document.createElement('div');\n",
              "          docLink.innerHTML = docLinkHtml;\n",
              "          element.appendChild(docLink);\n",
              "        }\n",
              "      </script>\n",
              "    </div>\n",
              "  </div>\n",
              "  "
            ]
          },
          "metadata": {},
          "execution_count": 3
        }
      ]
    },
    {
      "cell_type": "markdown",
      "source": [
        "**working 2 and or reference 2**\n",
        "\n",
        "**Function to read the first five rows of our data set** \n"
      ],
      "metadata": {
        "id": "ugtRpRmscaF1"
      }
    },
    {
      "cell_type": "code",
      "source": [
        "data_set_1_bom_df.head(5)"
      ],
      "metadata": {
        "id": "ddwZlPUTrKPb",
        "colab": {
          "base_uri": "https://localhost:8080/",
          "height": 206
        },
        "outputId": "062c76b4-b8d4-4669-8fce-0a193cb5e90a"
      },
      "execution_count": 4,
      "outputs": [
        {
          "output_type": "execute_result",
          "data": {
            "text/plain": [
              "                                         title studio  domestic_gross  \\\n",
              "0                                  Toy Story 3     BV     415000000.0   \n",
              "1                   Alice in Wonderland (2010)     BV     334200000.0   \n",
              "2  Harry Potter and the Deathly Hallows Part 1     WB     296000000.0   \n",
              "3                                    Inception     WB     292600000.0   \n",
              "4                          Shrek Forever After   P/DW     238700000.0   \n",
              "\n",
              "  foreign_gross  year  \n",
              "0     652000000  2010  \n",
              "1     691300000  2010  \n",
              "2     664300000  2010  \n",
              "3     535700000  2010  \n",
              "4     513900000  2010  "
            ],
            "text/html": [
              "\n",
              "  <div id=\"df-bc3b93a8-a5c9-47d1-a554-c7b658c16a18\">\n",
              "    <div class=\"colab-df-container\">\n",
              "      <div>\n",
              "<style scoped>\n",
              "    .dataframe tbody tr th:only-of-type {\n",
              "        vertical-align: middle;\n",
              "    }\n",
              "\n",
              "    .dataframe tbody tr th {\n",
              "        vertical-align: top;\n",
              "    }\n",
              "\n",
              "    .dataframe thead th {\n",
              "        text-align: right;\n",
              "    }\n",
              "</style>\n",
              "<table border=\"1\" class=\"dataframe\">\n",
              "  <thead>\n",
              "    <tr style=\"text-align: right;\">\n",
              "      <th></th>\n",
              "      <th>title</th>\n",
              "      <th>studio</th>\n",
              "      <th>domestic_gross</th>\n",
              "      <th>foreign_gross</th>\n",
              "      <th>year</th>\n",
              "    </tr>\n",
              "  </thead>\n",
              "  <tbody>\n",
              "    <tr>\n",
              "      <th>0</th>\n",
              "      <td>Toy Story 3</td>\n",
              "      <td>BV</td>\n",
              "      <td>415000000.0</td>\n",
              "      <td>652000000</td>\n",
              "      <td>2010</td>\n",
              "    </tr>\n",
              "    <tr>\n",
              "      <th>1</th>\n",
              "      <td>Alice in Wonderland (2010)</td>\n",
              "      <td>BV</td>\n",
              "      <td>334200000.0</td>\n",
              "      <td>691300000</td>\n",
              "      <td>2010</td>\n",
              "    </tr>\n",
              "    <tr>\n",
              "      <th>2</th>\n",
              "      <td>Harry Potter and the Deathly Hallows Part 1</td>\n",
              "      <td>WB</td>\n",
              "      <td>296000000.0</td>\n",
              "      <td>664300000</td>\n",
              "      <td>2010</td>\n",
              "    </tr>\n",
              "    <tr>\n",
              "      <th>3</th>\n",
              "      <td>Inception</td>\n",
              "      <td>WB</td>\n",
              "      <td>292600000.0</td>\n",
              "      <td>535700000</td>\n",
              "      <td>2010</td>\n",
              "    </tr>\n",
              "    <tr>\n",
              "      <th>4</th>\n",
              "      <td>Shrek Forever After</td>\n",
              "      <td>P/DW</td>\n",
              "      <td>238700000.0</td>\n",
              "      <td>513900000</td>\n",
              "      <td>2010</td>\n",
              "    </tr>\n",
              "  </tbody>\n",
              "</table>\n",
              "</div>\n",
              "      <button class=\"colab-df-convert\" onclick=\"convertToInteractive('df-bc3b93a8-a5c9-47d1-a554-c7b658c16a18')\"\n",
              "              title=\"Convert this dataframe to an interactive table.\"\n",
              "              style=\"display:none;\">\n",
              "        \n",
              "  <svg xmlns=\"http://www.w3.org/2000/svg\" height=\"24px\"viewBox=\"0 0 24 24\"\n",
              "       width=\"24px\">\n",
              "    <path d=\"M0 0h24v24H0V0z\" fill=\"none\"/>\n",
              "    <path d=\"M18.56 5.44l.94 2.06.94-2.06 2.06-.94-2.06-.94-.94-2.06-.94 2.06-2.06.94zm-11 1L8.5 8.5l.94-2.06 2.06-.94-2.06-.94L8.5 2.5l-.94 2.06-2.06.94zm10 10l.94 2.06.94-2.06 2.06-.94-2.06-.94-.94-2.06-.94 2.06-2.06.94z\"/><path d=\"M17.41 7.96l-1.37-1.37c-.4-.4-.92-.59-1.43-.59-.52 0-1.04.2-1.43.59L10.3 9.45l-7.72 7.72c-.78.78-.78 2.05 0 2.83L4 21.41c.39.39.9.59 1.41.59.51 0 1.02-.2 1.41-.59l7.78-7.78 2.81-2.81c.8-.78.8-2.07 0-2.86zM5.41 20L4 18.59l7.72-7.72 1.47 1.35L5.41 20z\"/>\n",
              "  </svg>\n",
              "      </button>\n",
              "      \n",
              "  <style>\n",
              "    .colab-df-container {\n",
              "      display:flex;\n",
              "      flex-wrap:wrap;\n",
              "      gap: 12px;\n",
              "    }\n",
              "\n",
              "    .colab-df-convert {\n",
              "      background-color: #E8F0FE;\n",
              "      border: none;\n",
              "      border-radius: 50%;\n",
              "      cursor: pointer;\n",
              "      display: none;\n",
              "      fill: #1967D2;\n",
              "      height: 32px;\n",
              "      padding: 0 0 0 0;\n",
              "      width: 32px;\n",
              "    }\n",
              "\n",
              "    .colab-df-convert:hover {\n",
              "      background-color: #E2EBFA;\n",
              "      box-shadow: 0px 1px 2px rgba(60, 64, 67, 0.3), 0px 1px 3px 1px rgba(60, 64, 67, 0.15);\n",
              "      fill: #174EA6;\n",
              "    }\n",
              "\n",
              "    [theme=dark] .colab-df-convert {\n",
              "      background-color: #3B4455;\n",
              "      fill: #D2E3FC;\n",
              "    }\n",
              "\n",
              "    [theme=dark] .colab-df-convert:hover {\n",
              "      background-color: #434B5C;\n",
              "      box-shadow: 0px 1px 3px 1px rgba(0, 0, 0, 0.15);\n",
              "      filter: drop-shadow(0px 1px 2px rgba(0, 0, 0, 0.3));\n",
              "      fill: #FFFFFF;\n",
              "    }\n",
              "  </style>\n",
              "\n",
              "      <script>\n",
              "        const buttonEl =\n",
              "          document.querySelector('#df-bc3b93a8-a5c9-47d1-a554-c7b658c16a18 button.colab-df-convert');\n",
              "        buttonEl.style.display =\n",
              "          google.colab.kernel.accessAllowed ? 'block' : 'none';\n",
              "\n",
              "        async function convertToInteractive(key) {\n",
              "          const element = document.querySelector('#df-bc3b93a8-a5c9-47d1-a554-c7b658c16a18');\n",
              "          const dataTable =\n",
              "            await google.colab.kernel.invokeFunction('convertToInteractive',\n",
              "                                                     [key], {});\n",
              "          if (!dataTable) return;\n",
              "\n",
              "          const docLinkHtml = 'Like what you see? Visit the ' +\n",
              "            '<a target=\"_blank\" href=https://colab.research.google.com/notebooks/data_table.ipynb>data table notebook</a>'\n",
              "            + ' to learn more about interactive tables.';\n",
              "          element.innerHTML = '';\n",
              "          dataTable['output_type'] = 'display_data';\n",
              "          await google.colab.output.renderOutput(dataTable, element);\n",
              "          const docLink = document.createElement('div');\n",
              "          docLink.innerHTML = docLinkHtml;\n",
              "          element.appendChild(docLink);\n",
              "        }\n",
              "      </script>\n",
              "    </div>\n",
              "  </div>\n",
              "  "
            ]
          },
          "metadata": {},
          "execution_count": 4
        }
      ]
    },
    {
      "cell_type": "markdown",
      "source": [
        "**Working 3 and or reference 3**\n",
        "\n",
        "**Data shape**"
      ],
      "metadata": {
        "id": "83kwAI-XdhRe"
      }
    },
    {
      "cell_type": "code",
      "source": [
        "data_set_1_bom_df.shape"
      ],
      "metadata": {
        "colab": {
          "base_uri": "https://localhost:8080/",
          "height": 0
        },
        "id": "NG07hWC2eiHA",
        "outputId": "5d3e5af0-c70d-44a0-bf41-ee70af25280d"
      },
      "execution_count": 5,
      "outputs": [
        {
          "output_type": "execute_result",
          "data": {
            "text/plain": [
              "(3387, 5)"
            ]
          },
          "metadata": {},
          "execution_count": 5
        }
      ]
    },
    {
      "cell_type": "markdown",
      "source": [
        "Interpretation of df.shape_Our data set contains 3,387 rows and 5 columns\n"
      ],
      "metadata": {
        "id": "fT6I5hf7euzV"
      }
    },
    {
      "cell_type": "markdown",
      "source": [
        "**working 4 and or reference 4**\n",
        "\n",
        " **Name of columns **."
      ],
      "metadata": {
        "id": "rBkO1Ky4fLw3"
      }
    },
    {
      "cell_type": "code",
      "source": [
        "data_set_1_bom_df.columns"
      ],
      "metadata": {
        "colab": {
          "base_uri": "https://localhost:8080/",
          "height": 0
        },
        "id": "cU2nEeShfYRd",
        "outputId": "92916d32-350f-42a3-e950-fb0c4571b5ae"
      },
      "execution_count": 6,
      "outputs": [
        {
          "output_type": "execute_result",
          "data": {
            "text/plain": [
              "Index(['title', 'studio', 'domestic_gross', 'foreign_gross', 'year'], dtype='object')"
            ]
          },
          "metadata": {},
          "execution_count": 6
        }
      ]
    },
    {
      "cell_type": "markdown",
      "source": [
        "**Working 5 and or references 5.**\n",
        "\n",
        "**Data info**"
      ],
      "metadata": {
        "id": "YZ0-g6sgfo_6"
      }
    },
    {
      "cell_type": "code",
      "source": [
        "data_set_1_bom_df.info()"
      ],
      "metadata": {
        "colab": {
          "base_uri": "https://localhost:8080/",
          "height": 0
        },
        "id": "FkSSYQ9Ff3Vn",
        "outputId": "64390521-608a-4377-e1b1-f1c10fd32a7d"
      },
      "execution_count": 7,
      "outputs": [
        {
          "output_type": "stream",
          "name": "stdout",
          "text": [
            "<class 'pandas.core.frame.DataFrame'>\n",
            "RangeIndex: 3387 entries, 0 to 3386\n",
            "Data columns (total 5 columns):\n",
            " #   Column          Non-Null Count  Dtype  \n",
            "---  ------          --------------  -----  \n",
            " 0   title           3387 non-null   object \n",
            " 1   studio          3382 non-null   object \n",
            " 2   domestic_gross  3359 non-null   float64\n",
            " 3   foreign_gross   2037 non-null   object \n",
            " 4   year            3387 non-null   int64  \n",
            "dtypes: float64(1), int64(1), object(3)\n",
            "memory usage: 132.4+ KB\n"
          ]
        }
      ]
    },
    {
      "cell_type": "markdown",
      "source": [
        "Intrepretation of Data info_There are five columns where 3 are objects ,1 float and 1 interger ."
      ],
      "metadata": {
        "id": "AMLCgADAgTcc"
      }
    },
    {
      "cell_type": "markdown",
      "source": [
        "**Working 6 and or reference 6**\n",
        "\n",
        "**Checking on descriptive measures.**"
      ],
      "metadata": {
        "id": "6fd8rh1Dglx1"
      }
    },
    {
      "cell_type": "code",
      "source": [
        "data_set_1_bom_df.describe()"
      ],
      "metadata": {
        "colab": {
          "base_uri": "https://localhost:8080/",
          "height": 300
        },
        "id": "AsK5XTRSg5xF",
        "outputId": "c7399a2e-65fc-4120-ed84-fe5d2b3739f0"
      },
      "execution_count": 8,
      "outputs": [
        {
          "output_type": "execute_result",
          "data": {
            "text/plain": [
              "       domestic_gross         year\n",
              "count    3.359000e+03  3387.000000\n",
              "mean     2.874585e+07  2013.958075\n",
              "std      6.698250e+07     2.478141\n",
              "min      1.000000e+02  2010.000000\n",
              "25%      1.200000e+05  2012.000000\n",
              "50%      1.400000e+06  2014.000000\n",
              "75%      2.790000e+07  2016.000000\n",
              "max      9.367000e+08  2018.000000"
            ],
            "text/html": [
              "\n",
              "  <div id=\"df-e549b481-13a9-427e-91bb-6ba906f87905\">\n",
              "    <div class=\"colab-df-container\">\n",
              "      <div>\n",
              "<style scoped>\n",
              "    .dataframe tbody tr th:only-of-type {\n",
              "        vertical-align: middle;\n",
              "    }\n",
              "\n",
              "    .dataframe tbody tr th {\n",
              "        vertical-align: top;\n",
              "    }\n",
              "\n",
              "    .dataframe thead th {\n",
              "        text-align: right;\n",
              "    }\n",
              "</style>\n",
              "<table border=\"1\" class=\"dataframe\">\n",
              "  <thead>\n",
              "    <tr style=\"text-align: right;\">\n",
              "      <th></th>\n",
              "      <th>domestic_gross</th>\n",
              "      <th>year</th>\n",
              "    </tr>\n",
              "  </thead>\n",
              "  <tbody>\n",
              "    <tr>\n",
              "      <th>count</th>\n",
              "      <td>3.359000e+03</td>\n",
              "      <td>3387.000000</td>\n",
              "    </tr>\n",
              "    <tr>\n",
              "      <th>mean</th>\n",
              "      <td>2.874585e+07</td>\n",
              "      <td>2013.958075</td>\n",
              "    </tr>\n",
              "    <tr>\n",
              "      <th>std</th>\n",
              "      <td>6.698250e+07</td>\n",
              "      <td>2.478141</td>\n",
              "    </tr>\n",
              "    <tr>\n",
              "      <th>min</th>\n",
              "      <td>1.000000e+02</td>\n",
              "      <td>2010.000000</td>\n",
              "    </tr>\n",
              "    <tr>\n",
              "      <th>25%</th>\n",
              "      <td>1.200000e+05</td>\n",
              "      <td>2012.000000</td>\n",
              "    </tr>\n",
              "    <tr>\n",
              "      <th>50%</th>\n",
              "      <td>1.400000e+06</td>\n",
              "      <td>2014.000000</td>\n",
              "    </tr>\n",
              "    <tr>\n",
              "      <th>75%</th>\n",
              "      <td>2.790000e+07</td>\n",
              "      <td>2016.000000</td>\n",
              "    </tr>\n",
              "    <tr>\n",
              "      <th>max</th>\n",
              "      <td>9.367000e+08</td>\n",
              "      <td>2018.000000</td>\n",
              "    </tr>\n",
              "  </tbody>\n",
              "</table>\n",
              "</div>\n",
              "      <button class=\"colab-df-convert\" onclick=\"convertToInteractive('df-e549b481-13a9-427e-91bb-6ba906f87905')\"\n",
              "              title=\"Convert this dataframe to an interactive table.\"\n",
              "              style=\"display:none;\">\n",
              "        \n",
              "  <svg xmlns=\"http://www.w3.org/2000/svg\" height=\"24px\"viewBox=\"0 0 24 24\"\n",
              "       width=\"24px\">\n",
              "    <path d=\"M0 0h24v24H0V0z\" fill=\"none\"/>\n",
              "    <path d=\"M18.56 5.44l.94 2.06.94-2.06 2.06-.94-2.06-.94-.94-2.06-.94 2.06-2.06.94zm-11 1L8.5 8.5l.94-2.06 2.06-.94-2.06-.94L8.5 2.5l-.94 2.06-2.06.94zm10 10l.94 2.06.94-2.06 2.06-.94-2.06-.94-.94-2.06-.94 2.06-2.06.94z\"/><path d=\"M17.41 7.96l-1.37-1.37c-.4-.4-.92-.59-1.43-.59-.52 0-1.04.2-1.43.59L10.3 9.45l-7.72 7.72c-.78.78-.78 2.05 0 2.83L4 21.41c.39.39.9.59 1.41.59.51 0 1.02-.2 1.41-.59l7.78-7.78 2.81-2.81c.8-.78.8-2.07 0-2.86zM5.41 20L4 18.59l7.72-7.72 1.47 1.35L5.41 20z\"/>\n",
              "  </svg>\n",
              "      </button>\n",
              "      \n",
              "  <style>\n",
              "    .colab-df-container {\n",
              "      display:flex;\n",
              "      flex-wrap:wrap;\n",
              "      gap: 12px;\n",
              "    }\n",
              "\n",
              "    .colab-df-convert {\n",
              "      background-color: #E8F0FE;\n",
              "      border: none;\n",
              "      border-radius: 50%;\n",
              "      cursor: pointer;\n",
              "      display: none;\n",
              "      fill: #1967D2;\n",
              "      height: 32px;\n",
              "      padding: 0 0 0 0;\n",
              "      width: 32px;\n",
              "    }\n",
              "\n",
              "    .colab-df-convert:hover {\n",
              "      background-color: #E2EBFA;\n",
              "      box-shadow: 0px 1px 2px rgba(60, 64, 67, 0.3), 0px 1px 3px 1px rgba(60, 64, 67, 0.15);\n",
              "      fill: #174EA6;\n",
              "    }\n",
              "\n",
              "    [theme=dark] .colab-df-convert {\n",
              "      background-color: #3B4455;\n",
              "      fill: #D2E3FC;\n",
              "    }\n",
              "\n",
              "    [theme=dark] .colab-df-convert:hover {\n",
              "      background-color: #434B5C;\n",
              "      box-shadow: 0px 1px 3px 1px rgba(0, 0, 0, 0.15);\n",
              "      filter: drop-shadow(0px 1px 2px rgba(0, 0, 0, 0.3));\n",
              "      fill: #FFFFFF;\n",
              "    }\n",
              "  </style>\n",
              "\n",
              "      <script>\n",
              "        const buttonEl =\n",
              "          document.querySelector('#df-e549b481-13a9-427e-91bb-6ba906f87905 button.colab-df-convert');\n",
              "        buttonEl.style.display =\n",
              "          google.colab.kernel.accessAllowed ? 'block' : 'none';\n",
              "\n",
              "        async function convertToInteractive(key) {\n",
              "          const element = document.querySelector('#df-e549b481-13a9-427e-91bb-6ba906f87905');\n",
              "          const dataTable =\n",
              "            await google.colab.kernel.invokeFunction('convertToInteractive',\n",
              "                                                     [key], {});\n",
              "          if (!dataTable) return;\n",
              "\n",
              "          const docLinkHtml = 'Like what you see? Visit the ' +\n",
              "            '<a target=\"_blank\" href=https://colab.research.google.com/notebooks/data_table.ipynb>data table notebook</a>'\n",
              "            + ' to learn more about interactive tables.';\n",
              "          element.innerHTML = '';\n",
              "          dataTable['output_type'] = 'display_data';\n",
              "          await google.colab.output.renderOutput(dataTable, element);\n",
              "          const docLink = document.createElement('div');\n",
              "          docLink.innerHTML = docLinkHtml;\n",
              "          element.appendChild(docLink);\n",
              "        }\n",
              "      </script>\n",
              "    </div>\n",
              "  </div>\n",
              "  "
            ]
          },
          "metadata": {},
          "execution_count": 8
        }
      ]
    },
    {
      "cell_type": "markdown",
      "source": [
        "**Working 7 and or reference 7.**\n",
        "\n",
        "**A view of the last 5 rows of our data .**"
      ],
      "metadata": {
        "id": "ujGrwIEDhUs9"
      }
    },
    {
      "cell_type": "code",
      "source": [
        "data_set_1_bom_df.tail(5)"
      ],
      "metadata": {
        "colab": {
          "base_uri": "https://localhost:8080/",
          "height": 206
        },
        "id": "av-Cobf1ho06",
        "outputId": "a978c723-fd9a-44c6-ffb8-32f229f718d5"
      },
      "execution_count": 9,
      "outputs": [
        {
          "output_type": "execute_result",
          "data": {
            "text/plain": [
              "                            title      studio  domestic_gross foreign_gross  \\\n",
              "3382                    The Quake       Magn.          6200.0           NaN   \n",
              "3383  Edward II (2018 re-release)          FM          4800.0           NaN   \n",
              "3384                     El Pacto        Sony          2500.0           NaN   \n",
              "3385                     The Swan  Synergetic          2400.0           NaN   \n",
              "3386            An Actor Prepares       Grav.          1700.0           NaN   \n",
              "\n",
              "      year  \n",
              "3382  2018  \n",
              "3383  2018  \n",
              "3384  2018  \n",
              "3385  2018  \n",
              "3386  2018  "
            ],
            "text/html": [
              "\n",
              "  <div id=\"df-aa7f116e-9d19-4e80-a088-d3539ca8c5a3\">\n",
              "    <div class=\"colab-df-container\">\n",
              "      <div>\n",
              "<style scoped>\n",
              "    .dataframe tbody tr th:only-of-type {\n",
              "        vertical-align: middle;\n",
              "    }\n",
              "\n",
              "    .dataframe tbody tr th {\n",
              "        vertical-align: top;\n",
              "    }\n",
              "\n",
              "    .dataframe thead th {\n",
              "        text-align: right;\n",
              "    }\n",
              "</style>\n",
              "<table border=\"1\" class=\"dataframe\">\n",
              "  <thead>\n",
              "    <tr style=\"text-align: right;\">\n",
              "      <th></th>\n",
              "      <th>title</th>\n",
              "      <th>studio</th>\n",
              "      <th>domestic_gross</th>\n",
              "      <th>foreign_gross</th>\n",
              "      <th>year</th>\n",
              "    </tr>\n",
              "  </thead>\n",
              "  <tbody>\n",
              "    <tr>\n",
              "      <th>3382</th>\n",
              "      <td>The Quake</td>\n",
              "      <td>Magn.</td>\n",
              "      <td>6200.0</td>\n",
              "      <td>NaN</td>\n",
              "      <td>2018</td>\n",
              "    </tr>\n",
              "    <tr>\n",
              "      <th>3383</th>\n",
              "      <td>Edward II (2018 re-release)</td>\n",
              "      <td>FM</td>\n",
              "      <td>4800.0</td>\n",
              "      <td>NaN</td>\n",
              "      <td>2018</td>\n",
              "    </tr>\n",
              "    <tr>\n",
              "      <th>3384</th>\n",
              "      <td>El Pacto</td>\n",
              "      <td>Sony</td>\n",
              "      <td>2500.0</td>\n",
              "      <td>NaN</td>\n",
              "      <td>2018</td>\n",
              "    </tr>\n",
              "    <tr>\n",
              "      <th>3385</th>\n",
              "      <td>The Swan</td>\n",
              "      <td>Synergetic</td>\n",
              "      <td>2400.0</td>\n",
              "      <td>NaN</td>\n",
              "      <td>2018</td>\n",
              "    </tr>\n",
              "    <tr>\n",
              "      <th>3386</th>\n",
              "      <td>An Actor Prepares</td>\n",
              "      <td>Grav.</td>\n",
              "      <td>1700.0</td>\n",
              "      <td>NaN</td>\n",
              "      <td>2018</td>\n",
              "    </tr>\n",
              "  </tbody>\n",
              "</table>\n",
              "</div>\n",
              "      <button class=\"colab-df-convert\" onclick=\"convertToInteractive('df-aa7f116e-9d19-4e80-a088-d3539ca8c5a3')\"\n",
              "              title=\"Convert this dataframe to an interactive table.\"\n",
              "              style=\"display:none;\">\n",
              "        \n",
              "  <svg xmlns=\"http://www.w3.org/2000/svg\" height=\"24px\"viewBox=\"0 0 24 24\"\n",
              "       width=\"24px\">\n",
              "    <path d=\"M0 0h24v24H0V0z\" fill=\"none\"/>\n",
              "    <path d=\"M18.56 5.44l.94 2.06.94-2.06 2.06-.94-2.06-.94-.94-2.06-.94 2.06-2.06.94zm-11 1L8.5 8.5l.94-2.06 2.06-.94-2.06-.94L8.5 2.5l-.94 2.06-2.06.94zm10 10l.94 2.06.94-2.06 2.06-.94-2.06-.94-.94-2.06-.94 2.06-2.06.94z\"/><path d=\"M17.41 7.96l-1.37-1.37c-.4-.4-.92-.59-1.43-.59-.52 0-1.04.2-1.43.59L10.3 9.45l-7.72 7.72c-.78.78-.78 2.05 0 2.83L4 21.41c.39.39.9.59 1.41.59.51 0 1.02-.2 1.41-.59l7.78-7.78 2.81-2.81c.8-.78.8-2.07 0-2.86zM5.41 20L4 18.59l7.72-7.72 1.47 1.35L5.41 20z\"/>\n",
              "  </svg>\n",
              "      </button>\n",
              "      \n",
              "  <style>\n",
              "    .colab-df-container {\n",
              "      display:flex;\n",
              "      flex-wrap:wrap;\n",
              "      gap: 12px;\n",
              "    }\n",
              "\n",
              "    .colab-df-convert {\n",
              "      background-color: #E8F0FE;\n",
              "      border: none;\n",
              "      border-radius: 50%;\n",
              "      cursor: pointer;\n",
              "      display: none;\n",
              "      fill: #1967D2;\n",
              "      height: 32px;\n",
              "      padding: 0 0 0 0;\n",
              "      width: 32px;\n",
              "    }\n",
              "\n",
              "    .colab-df-convert:hover {\n",
              "      background-color: #E2EBFA;\n",
              "      box-shadow: 0px 1px 2px rgba(60, 64, 67, 0.3), 0px 1px 3px 1px rgba(60, 64, 67, 0.15);\n",
              "      fill: #174EA6;\n",
              "    }\n",
              "\n",
              "    [theme=dark] .colab-df-convert {\n",
              "      background-color: #3B4455;\n",
              "      fill: #D2E3FC;\n",
              "    }\n",
              "\n",
              "    [theme=dark] .colab-df-convert:hover {\n",
              "      background-color: #434B5C;\n",
              "      box-shadow: 0px 1px 3px 1px rgba(0, 0, 0, 0.15);\n",
              "      filter: drop-shadow(0px 1px 2px rgba(0, 0, 0, 0.3));\n",
              "      fill: #FFFFFF;\n",
              "    }\n",
              "  </style>\n",
              "\n",
              "      <script>\n",
              "        const buttonEl =\n",
              "          document.querySelector('#df-aa7f116e-9d19-4e80-a088-d3539ca8c5a3 button.colab-df-convert');\n",
              "        buttonEl.style.display =\n",
              "          google.colab.kernel.accessAllowed ? 'block' : 'none';\n",
              "\n",
              "        async function convertToInteractive(key) {\n",
              "          const element = document.querySelector('#df-aa7f116e-9d19-4e80-a088-d3539ca8c5a3');\n",
              "          const dataTable =\n",
              "            await google.colab.kernel.invokeFunction('convertToInteractive',\n",
              "                                                     [key], {});\n",
              "          if (!dataTable) return;\n",
              "\n",
              "          const docLinkHtml = 'Like what you see? Visit the ' +\n",
              "            '<a target=\"_blank\" href=https://colab.research.google.com/notebooks/data_table.ipynb>data table notebook</a>'\n",
              "            + ' to learn more about interactive tables.';\n",
              "          element.innerHTML = '';\n",
              "          dataTable['output_type'] = 'display_data';\n",
              "          await google.colab.output.renderOutput(dataTable, element);\n",
              "          const docLink = document.createElement('div');\n",
              "          docLink.innerHTML = docLinkHtml;\n",
              "          element.appendChild(docLink);\n",
              "        }\n",
              "      </script>\n",
              "    </div>\n",
              "  </div>\n",
              "  "
            ]
          },
          "metadata": {},
          "execution_count": 9
        }
      ]
    },
    {
      "cell_type": "code",
      "source": [
        "#Checking for outliers in the data set.\n",
        "plt.figure(figsize = (10, 5))\n",
        "data_set_1_bom_df.boxplot()\n",
        "plt.show()"
      ],
      "metadata": {
        "colab": {
          "base_uri": "https://localhost:8080/",
          "height": 461
        },
        "id": "bcWL2vNtUGbv",
        "outputId": "5dfac062-84d0-41ad-838e-f08fc8426bfc"
      },
      "execution_count": 94,
      "outputs": [
        {
          "output_type": "display_data",
          "data": {
            "text/plain": [
              "<Figure size 1000x500 with 1 Axes>"
            ],
            "image/png": "[encoded data removed]"
          },
          "metadata": {}
        }
      ]
    },
    {
      "cell_type": "markdown",
      "source": [
        "Interpretation; \n",
        "\n",
        "From the data set there is outliers values on domestic_gross which could be explained by the expected disparities in sales volume from one movie title to another thus okay."
      ],
      "metadata": {
        "id": "hkXk3rgd7mtQ"
      }
    },
    {
      "cell_type": "markdown",
      "source": [
        "**Working 8 and or reference 8**\n",
        "\n",
        "**To understand columns with missing data**\n"
      ],
      "metadata": {
        "id": "gCP95b06ijmo"
      }
    },
    {
      "cell_type": "code",
      "source": [
        "data_set_1_bom_df.isna().sum()"
      ],
      "metadata": {
        "colab": {
          "base_uri": "https://localhost:8080/",
          "height": 0
        },
        "id": "DNHnwLHHizPd",
        "outputId": "b190dde9-070d-4086-d642-59837185da05"
      },
      "execution_count": 10,
      "outputs": [
        {
          "output_type": "execute_result",
          "data": {
            "text/plain": [
              "title                0\n",
              "studio               5\n",
              "domestic_gross      28\n",
              "foreign_gross     1350\n",
              "year                 0\n",
              "dtype: int64"
            ]
          },
          "metadata": {},
          "execution_count": 10
        }
      ]
    },
    {
      "cell_type": "markdown",
      "source": [
        "**Interpretation of results on columns with missing data. **\n",
        "\n",
        "1.For studio column there are only five rows with missing data 2.For domestic_gross column there are total of 28 rows with missing data 3.For foreign_gross column there are a total of 1350 rows with missing data and thus this column may not be very dependable for data anlaysis and sound decision making."
      ],
      "metadata": {
        "id": "BP-WLkSXjERm"
      }
    },
    {
      "cell_type": "markdown",
      "source": [
        "From the results of working 8 and or reference 8 we need to do ***data cleaning*** .\n",
        "\n",
        "1.We will drop the empty rows with missing data on 'studio'.The rows to be dropped are only 5/3387 and thus it won't affect the data set materialily.\n",
        "\n",
        "2.We will drop the empty rows with missing data on 'domestic_gross'.The rows to be dropped are only 28/3387 and thus it won't affect the data set materialily.\n",
        "\n",
        "3.We will retain the rows with missing data on column'foreign_gross'.Dropping 1350/3387 rows may affect the data and thus our  retention decision."
      ],
      "metadata": {
        "id": "nSUYAJVWjVfA"
      }
    },
    {
      "cell_type": "markdown",
      "source": [
        "**Working 9 and or reference 9.**\n",
        "\n",
        "**Dropping of columns with missing data.**"
      ],
      "metadata": {
        "id": "NmY0jtRlmYEt"
      }
    },
    {
      "cell_type": "code",
      "source": [
        "data_set_1_bom_df.dropna(subset=['domestic_gross'], inplace=True)\n",
        "print(data_set_1_bom_df)"
      ],
      "metadata": {
        "colab": {
          "base_uri": "https://localhost:8080/",
          "height": 0
        },
        "id": "0hJbP2JnmjNH",
        "outputId": "c5eaf57f-646f-4e26-de86-72be208c03a1"
      },
      "execution_count": 11,
      "outputs": [
        {
          "output_type": "stream",
          "name": "stdout",
          "text": [
            "                                            title      studio  domestic_gross  \\\n",
            "0                                     Toy Story 3          BV     415000000.0   \n",
            "1                      Alice in Wonderland (2010)          BV     334200000.0   \n",
            "2     Harry Potter and the Deathly Hallows Part 1          WB     296000000.0   \n",
            "3                                       Inception          WB     292600000.0   \n",
            "4                             Shrek Forever After        P/DW     238700000.0   \n",
            "...                                           ...         ...             ...   \n",
            "3382                                    The Quake       Magn.          6200.0   \n",
            "3383                  Edward II (2018 re-release)          FM          4800.0   \n",
            "3384                                     El Pacto        Sony          2500.0   \n",
            "3385                                     The Swan  Synergetic          2400.0   \n",
            "3386                            An Actor Prepares       Grav.          1700.0   \n",
            "\n",
            "     foreign_gross  year  \n",
            "0        652000000  2010  \n",
            "1        691300000  2010  \n",
            "2        664300000  2010  \n",
            "3        535700000  2010  \n",
            "4        513900000  2010  \n",
            "...            ...   ...  \n",
            "3382           NaN  2018  \n",
            "3383           NaN  2018  \n",
            "3384           NaN  2018  \n",
            "3385           NaN  2018  \n",
            "3386           NaN  2018  \n",
            "\n",
            "[3359 rows x 5 columns]\n"
          ]
        }
      ]
    },
    {
      "cell_type": "code",
      "source": [
        "data_set_1_bom_df.dropna(subset=['studio'], inplace=True)\n",
        "print(data_set_1_bom_df)"
      ],
      "metadata": {
        "colab": {
          "base_uri": "https://localhost:8080/",
          "height": 0
        },
        "id": "-iDfz5vdmxPi",
        "outputId": "295a734e-4913-431e-977c-ffcf7876f188"
      },
      "execution_count": 12,
      "outputs": [
        {
          "output_type": "stream",
          "name": "stdout",
          "text": [
            "                                            title      studio  domestic_gross  \\\n",
            "0                                     Toy Story 3          BV     415000000.0   \n",
            "1                      Alice in Wonderland (2010)          BV     334200000.0   \n",
            "2     Harry Potter and the Deathly Hallows Part 1          WB     296000000.0   \n",
            "3                                       Inception          WB     292600000.0   \n",
            "4                             Shrek Forever After        P/DW     238700000.0   \n",
            "...                                           ...         ...             ...   \n",
            "3382                                    The Quake       Magn.          6200.0   \n",
            "3383                  Edward II (2018 re-release)          FM          4800.0   \n",
            "3384                                     El Pacto        Sony          2500.0   \n",
            "3385                                     The Swan  Synergetic          2400.0   \n",
            "3386                            An Actor Prepares       Grav.          1700.0   \n",
            "\n",
            "     foreign_gross  year  \n",
            "0        652000000  2010  \n",
            "1        691300000  2010  \n",
            "2        664300000  2010  \n",
            "3        535700000  2010  \n",
            "4        513900000  2010  \n",
            "...            ...   ...  \n",
            "3382           NaN  2018  \n",
            "3383           NaN  2018  \n",
            "3384           NaN  2018  \n",
            "3385           NaN  2018  \n",
            "3386           NaN  2018  \n",
            "\n",
            "[3356 rows x 5 columns]\n"
          ]
        }
      ]
    },
    {
      "cell_type": "markdown",
      "source": [
        "**Working 10 and or Reference 10.**\n",
        "\n",
        "**Testing if columns with missing data on columns 'domestic_gross' and 'studio' were dropped successively.** "
      ],
      "metadata": {
        "id": "GAfRYXYvoFsu"
      }
    },
    {
      "cell_type": "code",
      "source": [
        "data_set_1_bom_df.isna().sum()"
      ],
      "metadata": {
        "colab": {
          "base_uri": "https://localhost:8080/",
          "height": 0
        },
        "id": "zT3oA-bEo7j5",
        "outputId": "46b14388-2e9d-411c-b25c-f4b18c573d4a"
      },
      "execution_count": 13,
      "outputs": [
        {
          "output_type": "execute_result",
          "data": {
            "text/plain": [
              "title                0\n",
              "studio               0\n",
              "domestic_gross       0\n",
              "foreign_gross     1349\n",
              "year                 0\n",
              "dtype: int64"
            ]
          },
          "metadata": {},
          "execution_count": 13
        }
      ]
    },
    {
      "cell_type": "code",
      "source": [
        "data_set_1_bom_df.shape"
      ],
      "metadata": {
        "colab": {
          "base_uri": "https://localhost:8080/",
          "height": 0
        },
        "id": "WSsSK8vGpENj",
        "outputId": "9680defc-9489-49d5-d478-56788ddf41da"
      },
      "execution_count": 14,
      "outputs": [
        {
          "output_type": "execute_result",
          "data": {
            "text/plain": [
              "(3356, 5)"
            ]
          },
          "metadata": {},
          "execution_count": 14
        }
      ]
    },
    {
      "cell_type": "markdown",
      "source": [
        "The rows with missing data on columns 'studio' and domestic_gross were successively dropped .The total number of rows reduced from 3,387 to 3,356."
      ],
      "metadata": {
        "id": "jjeckx1_pM2V"
      }
    },
    {
      "cell_type": "markdown",
      "source": [
        "# **Data analysis and Visualizations.**"
      ],
      "metadata": {
        "id": "CZG5MwyfqGpy"
      }
    },
    {
      "cell_type": "markdown",
      "source": [
        "**Working 11 and or Reference 11**\n",
        "\n",
        "**Grouping data by year in order to view the performance per year.**"
      ],
      "metadata": {
        "id": "WkMlafawqYbt"
      }
    },
    {
      "cell_type": "markdown",
      "source": [
        "**(a)table on year and data**"
      ],
      "metadata": {
        "id": "fMPU0mtuqVI_"
      }
    },
    {
      "cell_type": "code",
      "source": [
        "data_set_1_bom_df.groupby('year').sum()"
      ],
      "metadata": {
        "colab": {
          "base_uri": "https://localhost:8080/",
          "height": 362
        },
        "id": "Xj8HWBtprLVa",
        "outputId": "92b92d5d-898a-45d8-9157-0ebc12343a23"
      },
      "execution_count": 15,
      "outputs": [
        {
          "output_type": "execute_result",
          "data": {
            "text/plain": [
              "      domestic_gross\n",
              "year                \n",
              "2010    1.015683e+10\n",
              "2011    1.006409e+10\n",
              "2012    1.087661e+10\n",
              "2013    1.079233e+10\n",
              "2014    1.033773e+10\n",
              "2015    1.105141e+10\n",
              "2016    1.125365e+10\n",
              "2017    1.093327e+10\n",
              "2018    1.109121e+10"
            ],
            "text/html": [
              "\n",
              "  <div id=\"df-55819c3e-8b8a-4448-8c3e-3c7d1bc8c449\">\n",
              "    <div class=\"colab-df-container\">\n",
              "      <div>\n",
              "<style scoped>\n",
              "    .dataframe tbody tr th:only-of-type {\n",
              "        vertical-align: middle;\n",
              "    }\n",
              "\n",
              "    .dataframe tbody tr th {\n",
              "        vertical-align: top;\n",
              "    }\n",
              "\n",
              "    .dataframe thead th {\n",
              "        text-align: right;\n",
              "    }\n",
              "</style>\n",
              "<table border=\"1\" class=\"dataframe\">\n",
              "  <thead>\n",
              "    <tr style=\"text-align: right;\">\n",
              "      <th></th>\n",
              "      <th>domestic_gross</th>\n",
              "    </tr>\n",
              "    <tr>\n",
              "      <th>year</th>\n",
              "      <th></th>\n",
              "    </tr>\n",
              "  </thead>\n",
              "  <tbody>\n",
              "    <tr>\n",
              "      <th>2010</th>\n",
              "      <td>1.015683e+10</td>\n",
              "    </tr>\n",
              "    <tr>\n",
              "      <th>2011</th>\n",
              "      <td>1.006409e+10</td>\n",
              "    </tr>\n",
              "    <tr>\n",
              "      <th>2012</th>\n",
              "      <td>1.087661e+10</td>\n",
              "    </tr>\n",
              "    <tr>\n",
              "      <th>2013</th>\n",
              "      <td>1.079233e+10</td>\n",
              "    </tr>\n",
              "    <tr>\n",
              "      <th>2014</th>\n",
              "      <td>1.033773e+10</td>\n",
              "    </tr>\n",
              "    <tr>\n",
              "      <th>2015</th>\n",
              "      <td>1.105141e+10</td>\n",
              "    </tr>\n",
              "    <tr>\n",
              "      <th>2016</th>\n",
              "      <td>1.125365e+10</td>\n",
              "    </tr>\n",
              "    <tr>\n",
              "      <th>2017</th>\n",
              "      <td>1.093327e+10</td>\n",
              "    </tr>\n",
              "    <tr>\n",
              "      <th>2018</th>\n",
              "      <td>1.109121e+10</td>\n",
              "    </tr>\n",
              "  </tbody>\n",
              "</table>\n",
              "</div>\n",
              "      <button class=\"colab-df-convert\" onclick=\"convertToInteractive('df-55819c3e-8b8a-4448-8c3e-3c7d1bc8c449')\"\n",
              "              title=\"Convert this dataframe to an interactive table.\"\n",
              "              style=\"display:none;\">\n",
              "        \n",
              "  <svg xmlns=\"http://www.w3.org/2000/svg\" height=\"24px\"viewBox=\"0 0 24 24\"\n",
              "       width=\"24px\">\n",
              "    <path d=\"M0 0h24v24H0V0z\" fill=\"none\"/>\n",
              "    <path d=\"M18.56 5.44l.94 2.06.94-2.06 2.06-.94-2.06-.94-.94-2.06-.94 2.06-2.06.94zm-11 1L8.5 8.5l.94-2.06 2.06-.94-2.06-.94L8.5 2.5l-.94 2.06-2.06.94zm10 10l.94 2.06.94-2.06 2.06-.94-2.06-.94-.94-2.06-.94 2.06-2.06.94z\"/><path d=\"M17.41 7.96l-1.37-1.37c-.4-.4-.92-.59-1.43-.59-.52 0-1.04.2-1.43.59L10.3 9.45l-7.72 7.72c-.78.78-.78 2.05 0 2.83L4 21.41c.39.39.9.59 1.41.59.51 0 1.02-.2 1.41-.59l7.78-7.78 2.81-2.81c.8-.78.8-2.07 0-2.86zM5.41 20L4 18.59l7.72-7.72 1.47 1.35L5.41 20z\"/>\n",
              "  </svg>\n",
              "      </button>\n",
              "      \n",
              "  <style>\n",
              "    .colab-df-container {\n",
              "      display:flex;\n",
              "      flex-wrap:wrap;\n",
              "      gap: 12px;\n",
              "    }\n",
              "\n",
              "    .colab-df-convert {\n",
              "      background-color: #E8F0FE;\n",
              "      border: none;\n",
              "      border-radius: 50%;\n",
              "      cursor: pointer;\n",
              "      display: none;\n",
              "      fill: #1967D2;\n",
              "      height: 32px;\n",
              "      padding: 0 0 0 0;\n",
              "      width: 32px;\n",
              "    }\n",
              "\n",
              "    .colab-df-convert:hover {\n",
              "      background-color: #E2EBFA;\n",
              "      box-shadow: 0px 1px 2px rgba(60, 64, 67, 0.3), 0px 1px 3px 1px rgba(60, 64, 67, 0.15);\n",
              "      fill: #174EA6;\n",
              "    }\n",
              "\n",
              "    [theme=dark] .colab-df-convert {\n",
              "      background-color: #3B4455;\n",
              "      fill: #D2E3FC;\n",
              "    }\n",
              "\n",
              "    [theme=dark] .colab-df-convert:hover {\n",
              "      background-color: #434B5C;\n",
              "      box-shadow: 0px 1px 3px 1px rgba(0, 0, 0, 0.15);\n",
              "      filter: drop-shadow(0px 1px 2px rgba(0, 0, 0, 0.3));\n",
              "      fill: #FFFFFF;\n",
              "    }\n",
              "  </style>\n",
              "\n",
              "      <script>\n",
              "        const buttonEl =\n",
              "          document.querySelector('#df-55819c3e-8b8a-4448-8c3e-3c7d1bc8c449 button.colab-df-convert');\n",
              "        buttonEl.style.display =\n",
              "          google.colab.kernel.accessAllowed ? 'block' : 'none';\n",
              "\n",
              "        async function convertToInteractive(key) {\n",
              "          const element = document.querySelector('#df-55819c3e-8b8a-4448-8c3e-3c7d1bc8c449');\n",
              "          const dataTable =\n",
              "            await google.colab.kernel.invokeFunction('convertToInteractive',\n",
              "                                                     [key], {});\n",
              "          if (!dataTable) return;\n",
              "\n",
              "          const docLinkHtml = 'Like what you see? Visit the ' +\n",
              "            '<a target=\"_blank\" href=https://colab.research.google.com/notebooks/data_table.ipynb>data table notebook</a>'\n",
              "            + ' to learn more about interactive tables.';\n",
              "          element.innerHTML = '';\n",
              "          dataTable['output_type'] = 'display_data';\n",
              "          await google.colab.output.renderOutput(dataTable, element);\n",
              "          const docLink = document.createElement('div');\n",
              "          docLink.innerHTML = docLinkHtml;\n",
              "          element.appendChild(docLink);\n",
              "        }\n",
              "      </script>\n",
              "    </div>\n",
              "  </div>\n",
              "  "
            ]
          },
          "metadata": {},
          "execution_count": 15
        }
      ]
    },
    {
      "cell_type": "markdown",
      "source": [
        "**(b) Bar_graph**"
      ],
      "metadata": {
        "id": "N3pCTj8Jvm8j"
      }
    },
    {
      "cell_type": "code",
      "source": [
        "domestic_gross_by_year = data_set_1_bom_df.groupby('year')['domestic_gross'].sum()\n",
        "domestic_gross_by_year.plot(kind='bar', title='Total Domestic Gross by year')"
      ],
      "metadata": {
        "colab": {
          "base_uri": "https://localhost:8080/",
          "height": 511
        },
        "id": "2Rnoc2c-tq3I",
        "outputId": "3fafa99f-de4a-4448-a019-5f3b990b8f7a"
      },
      "execution_count": 16,
      "outputs": [
        {
          "output_type": "execute_result",
          "data": {
            "text/plain": [
              "<Axes: title={'center': 'Total Domestic Gross by year'}, xlabel='year'>"
            ]
          },
          "metadata": {},
          "execution_count": 16
        },
        {
          "output_type": "display_data",
          "data": {
            "text/plain": [
              "<Figure size 640x480 with 1 Axes>"
            ],
            "image/png": "[encoded data removed]"
          },
          "metadata": {}
        }
      ]
    },
    {
      "cell_type": "markdown",
      "source": [
        "**(c) Pie_chart.**"
      ],
      "metadata": {
        "id": "nQ60QXX1vwjh"
      }
    },
    {
      "cell_type": "code",
      "source": [
        "domestic_gross_by_year = data_set_1_bom_df.groupby('year')['domestic_gross'].sum()\n",
        "domestic_gross_by_year.plot(kind='pie', autopct='%1.1f%%', startangle=90, title='Pie Chart of Domestic Gross by Year')\n",
        "plt.show()"
      ],
      "metadata": {
        "colab": {
          "base_uri": "https://localhost:8080/",
          "height": 428
        },
        "id": "7Mw0Pld2t2I7",
        "outputId": "d0442061-006c-4385-c0e7-fda1d1305ca1"
      },
      "execution_count": 17,
      "outputs": [
        {
          "output_type": "display_data",
          "data": {
            "text/plain": [
              "<Figure size 640x480 with 1 Axes>"
            ],
            "image/png": "[encoded data removed]"
          },
          "metadata": {}
        }
      ]
    },
    {
      "cell_type": "markdown",
      "source": [
        "**(d) Line_graph**"
      ],
      "metadata": {
        "id": "FygYMpMVv7eZ"
      }
    },
    {
      "cell_type": "code",
      "source": [
        "import pandas as pd\n",
        "import matplotlib.pyplot as plt\n",
        "domestic_gross_by_year = data_set_1_bom_df.groupby('year')['domestic_gross'].sum()\n",
        "domestic_gross_by_year.plot(kind='line', title='Domestic Gross by Year')\n",
        "plt.xlabel('Year')\n",
        "plt.ylabel('Domestic Gross')\n",
        "plt.show()\n"
      ],
      "metadata": {
        "colab": {
          "base_uri": "https://localhost:8080/",
          "height": 472
        },
        "id": "53viGxH3ul5h",
        "outputId": "ef508b60-f0d0-4c7d-ba31-98084765c770"
      },
      "execution_count": 18,
      "outputs": [
        {
          "output_type": "display_data",
          "data": {
            "text/plain": [
              "<Figure size 640x480 with 1 Axes>"
            ],
            "image/png": "[encoded data removed]"
          },
          "metadata": {}
        }
      ]
    },
    {
      "cell_type": "markdown",
      "source": [
        "**Observations /intrepretation of results of Working 11 and or Reference 11.**\n",
        "\n",
        "1.Year 2016 recorded the highest revenue based on 'domestic_gross' at 11.7 % while year 2011 recorded the lowest revenue based on 'domestic _gross' at 10.4% of total 'domestic_gross'.As shown by the line graph,there were steady rise and drops across the years which could point out to possibility of unrealized revenues in some years .\n",
        "\n",
        "**Recommendations .**\n",
        "\n",
        "1. Year 2016 performed exemplarilry  well as compaired to other years and especially year 2011 ,as an analyst we face a limitation of what could have been the factors behind the notable success .This could be as a result of rigourous marketing and or there were more movie realeases for the said year .Google will need to ensure that they maintain a rich database from start with both qualititive and quantitive information.\n",
        "\n",
        "2.From the above observation there is an evidence of lost value on missing informations for effective and or sound decision making.E.g. The data set missed crucial information on movies rating/preferences /demographical consumptions parameters and thus my advise to google is that as they set a movie studio they need to ensure that their database is rich with information  that will  greatly aid in sound decision making .\n",
        "\n",
        "3.Missing data /information on some columns /rows limits our analyses in that we were not able to analyze performance based on 'foreign_gross'column because the rows with missing data were approxiamte 40% of all rows i.e. 1349/3387.Thus google need to enhance comprehensiveness in data collection as they venture into movie studio business and or disclosures for sound analysis and decision making.Also information on this column could be missing because the said movies were only sold locally."
      ],
      "metadata": {
        "id": "iTMpurKrzTJA"
      }
    },
    {
      "cell_type": "markdown",
      "source": [
        "***Working 12 and or Reference 12 ***\n",
        "\n",
        "# sort the data frame by domestic_gross in descending order and display the top 20 sold movies by title"
      ],
      "metadata": {
        "id": "XxR-hvrb4ZrD"
      }
    },
    {
      "cell_type": "code",
      "source": [
        "top_20_performance_by_domestic_gross = data_set_1_bom_df.sort_values(by='domestic_gross', ascending=False).head(20)\n",
        "print(top_20_performance_by_domestic_gross[['title', 'domestic_gross']])"
      ],
      "metadata": {
        "colab": {
          "base_uri": "https://localhost:8080/",
          "height": 0
        },
        "id": "hM1_1wke6gj3",
        "outputId": "16affa6f-ffc3-4437-ffef-16a0dcd2088f"
      },
      "execution_count": 19,
      "outputs": [
        {
          "output_type": "stream",
          "name": "stdout",
          "text": [
            "                                title  domestic_gross\n",
            "1872     Star Wars: The Force Awakens     936700000.0\n",
            "3080                    Black Panther     700100000.0\n",
            "3079           Avengers: Infinity War     678800000.0\n",
            "1873                   Jurassic World     652300000.0\n",
            "727             Marvel's The Avengers     623400000.0\n",
            "2758         Star Wars: The Last Jedi     620200000.0\n",
            "3082                    Incredibles 2     608600000.0\n",
            "2323     Rogue One: A Star Wars Story     532200000.0\n",
            "2759      Beauty and the Beast (2017)     504000000.0\n",
            "2324                     Finding Dory     486300000.0\n",
            "1875          Avengers: Age of Ultron     459000000.0\n",
            "729             The Dark Knight Rises     448100000.0\n",
            "1131  The Hunger Games: Catching Fire     424700000.0\n",
            "3081   Jurassic World: Fallen Kingdom     417700000.0\n",
            "0                         Toy Story 3     415000000.0\n",
            "2767                     Wonder Woman     412600000.0\n",
            "1128                       Iron Man 3     409000000.0\n",
            "2322       Captain America: Civil War     408100000.0\n",
            "735                  The Hunger Games     408000000.0\n",
            "2762   Jumanji: Welcome to the Jungle     404500000.0\n"
          ]
        }
      ]
    },
    {
      "cell_type": "markdown",
      "source": [
        "**Observations /intrepretation of results of Working 12 and or Reference 12.**\n",
        "\n",
        "1.Movie by the title \"Star Wars:The Force Awakens\",\"Black Panther\",\"Avengers:Infinity War\",\"Jurassic World\",\"Marvel's The Avengers\" registered the highest domestic_gross values .Above ,we have attached a list of 15 other movie title with high domestic_gross values .\n",
        "\n",
        "**Recommendation to google;**\n",
        "\n",
        "1.As google endevours to create a movie studio great emphasises/focus  need to be on above list of twenty movies title coz from above analysis they registered the highest domestic_gross_values .To begin with,in depth understanding on charateristics /actors /release _dates of the said movie titles will inform objectively while making stocking/listing decisions."
      ],
      "metadata": {
        "id": "P4hFJB7I-jZW"
      }
    },
    {
      "cell_type": "markdown",
      "source": [
        "***Working 13 and or Reference 13*** "
      ],
      "metadata": {
        "id": "ey_xPK_yDDh3"
      }
    },
    {
      "cell_type": "markdown",
      "source": [
        " sort the data frame by domestic_gross in descending order and display the least 20 sold movies by title\n"
      ],
      "metadata": {
        "id": "HcJE_RJzCAgi"
      }
    },
    {
      "cell_type": "code",
      "source": [
        "\n",
        "bottom_20_domestic_gross =data_set_1_bom_df .sort_values(by='domestic_gross', ascending=True).head(20)\n",
        "print(bottom_20_domestic_gross[['title', 'domestic_gross']])"
      ],
      "metadata": {
        "colab": {
          "base_uri": "https://localhost:8080/",
          "height": 0
        },
        "id": "M2r5deiHCHFL",
        "outputId": "8a96cfa5-ca5c-410a-97c7-97d25ae6b86c"
      },
      "execution_count": 20,
      "outputs": [
        {
          "output_type": "stream",
          "name": "stdout",
          "text": [
            "                                      title  domestic_gross\n",
            "1476                             Storage 24           100.0\n",
            "2321                        The Chambermaid           300.0\n",
            "2757                                Satanic           300.0\n",
            "2756                  News From Planet Mars           300.0\n",
            "1018                          Apartment 143           400.0\n",
            "3078                                   2:22           400.0\n",
            "3077                             Max & Leon           500.0\n",
            "1126                   Death of a Superhero           600.0\n",
            "2920              Amityville: The Awakening           700.0\n",
            "1475                         Into the White           700.0\n",
            "2755                           Down By Love           700.0\n",
            "2319  It's All So Quiet (Boven is het stil)           700.0\n",
            "2320             Tough Being Loved By Jerks           700.0\n",
            "642                          Illegal (2011)           700.0\n",
            "1738                                Jackpot           800.0\n",
            "292                        Perrier's Bounty           800.0\n",
            "1474                 I Spit on Your Grave 2           800.0\n",
            "2318                      REC 4: Apocalypse           800.0\n",
            "2753       Next Time I'll Aim for the Heart           800.0\n",
            "2754              The Student and Mr. Henri           800.0\n"
          ]
        }
      ]
    },
    {
      "cell_type": "markdown",
      "source": [
        "**Observations /intrepretation of results of Working 13 and or Reference 13.**\n",
        "\n",
        "1.Movie by the title \"Storage 24\",\"The Chambermaid\",\"Satanic\",\"News From Planet Mars\",\"Apartment 143\". registered the least domestic_gross values .Above ,we have attached a list of 15 other movie title with least domestic_gross values .\n",
        "\n",
        "**Recommendation to google;**\n",
        "\n",
        "1.Stocking/listing of above movies may lead to low sales volumes and thus google may not stock movies with similar characteristics in huge numbers."
      ],
      "metadata": {
        "id": "Rm5kzbNsC8Jf"
      }
    },
    {
      "cell_type": "markdown",
      "source": [
        "***Working 14 and or Reference 14***\n",
        "\n",
        "**To check counts rank by studio.**"
      ],
      "metadata": {
        "id": "i3DWVI8qGJ25"
      }
    },
    {
      "cell_type": "code",
      "source": [
        "\n",
        "print(data_set_1_bom_df['studio'].value_counts())"
      ],
      "metadata": {
        "colab": {
          "base_uri": "https://localhost:8080/",
          "height": 0
        },
        "id": "PlnZd7GyFF6Q",
        "outputId": "0c21e99b-9609-418d-f34f-59b06a778f70"
      },
      "execution_count": 21,
      "outputs": [
        {
          "output_type": "stream",
          "name": "stdout",
          "text": [
            "IFC           166\n",
            "Uni.          147\n",
            "WB            140\n",
            "Magn.         136\n",
            "Fox           136\n",
            "             ... \n",
            "TVC             1\n",
            "E1              1\n",
            "ELS             1\n",
            "PalT            1\n",
            "Synergetic      1\n",
            "Name: studio, Length: 255, dtype: int64\n"
          ]
        }
      ]
    },
    {
      "cell_type": "markdown",
      "source": [
        "***Observations /intrepretation of results of Working 14 and or Reference 14.***\n",
        "\n",
        "1.Movie by the studio **(IFC@166,Uni@147,WB@140,Magn@136 and Fox@136)** registered the highest unique value and or frequency.\n",
        "\n",
        "***Recommendation to google;***\n",
        "\n",
        "1.As google endevours to create a movie studio great emphasises/focus need to be on above list of  movies **\"studio's\"** coz from above analysis they registered the highest value counts .Movies under highlighted studios should be given stocking preferences ."
      ],
      "metadata": {
        "id": "yIAHpXvyGery"
      }
    },
    {
      "cell_type": "markdown",
      "source": [
        "# **Working with data set;**\n",
        "\n",
        "# **2.tn.movie_budgets.csv.gz to be refered as 'data_set_2_tn_df **"
      ],
      "metadata": {
        "id": "Vw_XFNOKfx1Y"
      }
    },
    {
      "cell_type": "markdown",
      "source": [
        "***Importing necessary libraries***"
      ],
      "metadata": {
        "id": "TOtyJFDYhcN2"
      }
    },
    {
      "cell_type": "code",
      "source": [
        "import pandas as pd\n",
        "import numpy as np\n",
        "import matplotlib.pyplot as plt\n",
        "import seaborn as sns\n",
        "%matplotlib inline\n"
      ],
      "metadata": {
        "id": "Lfhvz8DIgVG1"
      },
      "execution_count": 23,
      "outputs": []
    },
    {
      "cell_type": "markdown",
      "source": [
        "***Working 15 and or Reference 15 ***\n",
        "\n",
        "**Uploading our data frame for purposes of analysis and conducting of functions and Attributes tests in order to get an understanding of the data. **"
      ],
      "metadata": {
        "id": "X13x-SE-h17a"
      }
    },
    {
      "cell_type": "code",
      "source": [
        "#WK 15(a)\n",
        "data_set_2_tn_df=pd.read_csv('tn.movie_budgets.csv.gz')\n",
        "data_set_2_tn_df"
      ],
      "metadata": {
        "colab": {
          "base_uri": "https://localhost:8080/",
          "height": 423
        },
        "id": "g7O5Acn8imEc",
        "outputId": "c11a6e5d-aa21-41ba-efce-1b9d79603b9d"
      },
      "execution_count": 24,
      "outputs": [
        {
          "output_type": "execute_result",
          "data": {
            "text/plain": [
              "      id  release_date                                        movie  \\\n",
              "0      1  Dec 18, 2009                                       Avatar   \n",
              "1      2  May 20, 2011  Pirates of the Caribbean: On Stranger Tides   \n",
              "2      3   Jun 7, 2019                                 Dark Phoenix   \n",
              "3      4   May 1, 2015                      Avengers: Age of Ultron   \n",
              "4      5  Dec 15, 2017            Star Wars Ep. VIII: The Last Jedi   \n",
              "...   ..           ...                                          ...   \n",
              "5777  78  Dec 31, 2018                                       Red 11   \n",
              "5778  79   Apr 2, 1999                                    Following   \n",
              "5779  80  Jul 13, 2005                Return to the Land of Wonders   \n",
              "5780  81  Sep 29, 2015                         A Plague So Pleasant   \n",
              "5781  82   Aug 5, 2005                            My Date With Drew   \n",
              "\n",
              "     production_budget domestic_gross worldwide_gross  \n",
              "0         $425,000,000   $760,507,625  $2,776,345,279  \n",
              "1         $410,600,000   $241,063,875  $1,045,663,875  \n",
              "2         $350,000,000    $42,762,350    $149,762,350  \n",
              "3         $330,600,000   $459,005,868  $1,403,013,963  \n",
              "4         $317,000,000   $620,181,382  $1,316,721,747  \n",
              "...                ...            ...             ...  \n",
              "5777            $7,000             $0              $0  \n",
              "5778            $6,000        $48,482        $240,495  \n",
              "5779            $5,000         $1,338          $1,338  \n",
              "5780            $1,400             $0              $0  \n",
              "5781            $1,100       $181,041        $181,041  \n",
              "\n",
              "[5782 rows x 6 columns]"
            ],
            "text/html": [
              "\n",
              "  <div id=\"df-cdaad11e-dfd1-4515-9f5d-39dd3f050beb\">\n",
              "    <div class=\"colab-df-container\">\n",
              "      <div>\n",
              "<style scoped>\n",
              "    .dataframe tbody tr th:only-of-type {\n",
              "        vertical-align: middle;\n",
              "    }\n",
              "\n",
              "    .dataframe tbody tr th {\n",
              "        vertical-align: top;\n",
              "    }\n",
              "\n",
              "    .dataframe thead th {\n",
              "        text-align: right;\n",
              "    }\n",
              "</style>\n",
              "<table border=\"1\" class=\"dataframe\">\n",
              "  <thead>\n",
              "    <tr style=\"text-align: right;\">\n",
              "      <th></th>\n",
              "      <th>id</th>\n",
              "      <th>release_date</th>\n",
              "      <th>movie</th>\n",
              "      <th>production_budget</th>\n",
              "      <th>domestic_gross</th>\n",
              "      <th>worldwide_gross</th>\n",
              "    </tr>\n",
              "  </thead>\n",
              "  <tbody>\n",
              "    <tr>\n",
              "      <th>0</th>\n",
              "      <td>1</td>\n",
              "      <td>Dec 18, 2009</td>\n",
              "      <td>Avatar</td>\n",
              "      <td>$425,000,000</td>\n",
              "      <td>$760,507,625</td>\n",
              "      <td>$2,776,345,279</td>\n",
              "    </tr>\n",
              "    <tr>\n",
              "      <th>1</th>\n",
              "      <td>2</td>\n",
              "      <td>May 20, 2011</td>\n",
              "      <td>Pirates of the Caribbean: On Stranger Tides</td>\n",
              "      <td>$410,600,000</td>\n",
              "      <td>$241,063,875</td>\n",
              "      <td>$1,045,663,875</td>\n",
              "    </tr>\n",
              "    <tr>\n",
              "      <th>2</th>\n",
              "      <td>3</td>\n",
              "      <td>Jun 7, 2019</td>\n",
              "      <td>Dark Phoenix</td>\n",
              "      <td>$350,000,000</td>\n",
              "      <td>$42,762,350</td>\n",
              "      <td>$149,762,350</td>\n",
              "    </tr>\n",
              "    <tr>\n",
              "      <th>3</th>\n",
              "      <td>4</td>\n",
              "      <td>May 1, 2015</td>\n",
              "      <td>Avengers: Age of Ultron</td>\n",
              "      <td>$330,600,000</td>\n",
              "      <td>$459,005,868</td>\n",
              "      <td>$1,403,013,963</td>\n",
              "    </tr>\n",
              "    <tr>\n",
              "      <th>4</th>\n",
              "      <td>5</td>\n",
              "      <td>Dec 15, 2017</td>\n",
              "      <td>Star Wars Ep. VIII: The Last Jedi</td>\n",
              "      <td>$317,000,000</td>\n",
              "      <td>$620,181,382</td>\n",
              "      <td>$1,316,721,747</td>\n",
              "    </tr>\n",
              "    <tr>\n",
              "      <th>...</th>\n",
              "      <td>...</td>\n",
              "      <td>...</td>\n",
              "      <td>...</td>\n",
              "      <td>...</td>\n",
              "      <td>...</td>\n",
              "      <td>...</td>\n",
              "    </tr>\n",
              "    <tr>\n",
              "      <th>5777</th>\n",
              "      <td>78</td>\n",
              "      <td>Dec 31, 2018</td>\n",
              "      <td>Red 11</td>\n",
              "      <td>$7,000</td>\n",
              "      <td>$0</td>\n",
              "      <td>$0</td>\n",
              "    </tr>\n",
              "    <tr>\n",
              "      <th>5778</th>\n",
              "      <td>79</td>\n",
              "      <td>Apr 2, 1999</td>\n",
              "      <td>Following</td>\n",
              "      <td>$6,000</td>\n",
              "      <td>$48,482</td>\n",
              "      <td>$240,495</td>\n",
              "    </tr>\n",
              "    <tr>\n",
              "      <th>5779</th>\n",
              "      <td>80</td>\n",
              "      <td>Jul 13, 2005</td>\n",
              "      <td>Return to the Land of Wonders</td>\n",
              "      <td>$5,000</td>\n",
              "      <td>$1,338</td>\n",
              "      <td>$1,338</td>\n",
              "    </tr>\n",
              "    <tr>\n",
              "      <th>5780</th>\n",
              "      <td>81</td>\n",
              "      <td>Sep 29, 2015</td>\n",
              "      <td>A Plague So Pleasant</td>\n",
              "      <td>$1,400</td>\n",
              "      <td>$0</td>\n",
              "      <td>$0</td>\n",
              "    </tr>\n",
              "    <tr>\n",
              "      <th>5781</th>\n",
              "      <td>82</td>\n",
              "      <td>Aug 5, 2005</td>\n",
              "      <td>My Date With Drew</td>\n",
              "      <td>$1,100</td>\n",
              "      <td>$181,041</td>\n",
              "      <td>$181,041</td>\n",
              "    </tr>\n",
              "  </tbody>\n",
              "</table>\n",
              "<p>5782 rows × 6 columns</p>\n",
              "</div>\n",
              "      <button class=\"colab-df-convert\" onclick=\"convertToInteractive('df-cdaad11e-dfd1-4515-9f5d-39dd3f050beb')\"\n",
              "              title=\"Convert this dataframe to an interactive table.\"\n",
              "              style=\"display:none;\">\n",
              "        \n",
              "  <svg xmlns=\"http://www.w3.org/2000/svg\" height=\"24px\"viewBox=\"0 0 24 24\"\n",
              "       width=\"24px\">\n",
              "    <path d=\"M0 0h24v24H0V0z\" fill=\"none\"/>\n",
              "    <path d=\"M18.56 5.44l.94 2.06.94-2.06 2.06-.94-2.06-.94-.94-2.06-.94 2.06-2.06.94zm-11 1L8.5 8.5l.94-2.06 2.06-.94-2.06-.94L8.5 2.5l-.94 2.06-2.06.94zm10 10l.94 2.06.94-2.06 2.06-.94-2.06-.94-.94-2.06-.94 2.06-2.06.94z\"/><path d=\"M17.41 7.96l-1.37-1.37c-.4-.4-.92-.59-1.43-.59-.52 0-1.04.2-1.43.59L10.3 9.45l-7.72 7.72c-.78.78-.78 2.05 0 2.83L4 21.41c.39.39.9.59 1.41.59.51 0 1.02-.2 1.41-.59l7.78-7.78 2.81-2.81c.8-.78.8-2.07 0-2.86zM5.41 20L4 18.59l7.72-7.72 1.47 1.35L5.41 20z\"/>\n",
              "  </svg>\n",
              "      </button>\n",
              "      \n",
              "  <style>\n",
              "    .colab-df-container {\n",
              "      display:flex;\n",
              "      flex-wrap:wrap;\n",
              "      gap: 12px;\n",
              "    }\n",
              "\n",
              "    .colab-df-convert {\n",
              "      background-color: #E8F0FE;\n",
              "      border: none;\n",
              "      border-radius: 50%;\n",
              "      cursor: pointer;\n",
              "      display: none;\n",
              "      fill: #1967D2;\n",
              "      height: 32px;\n",
              "      padding: 0 0 0 0;\n",
              "      width: 32px;\n",
              "    }\n",
              "\n",
              "    .colab-df-convert:hover {\n",
              "      background-color: #E2EBFA;\n",
              "      box-shadow: 0px 1px 2px rgba(60, 64, 67, 0.3), 0px 1px 3px 1px rgba(60, 64, 67, 0.15);\n",
              "      fill: #174EA6;\n",
              "    }\n",
              "\n",
              "    [theme=dark] .colab-df-convert {\n",
              "      background-color: #3B4455;\n",
              "      fill: #D2E3FC;\n",
              "    }\n",
              "\n",
              "    [theme=dark] .colab-df-convert:hover {\n",
              "      background-color: #434B5C;\n",
              "      box-shadow: 0px 1px 3px 1px rgba(0, 0, 0, 0.15);\n",
              "      filter: drop-shadow(0px 1px 2px rgba(0, 0, 0, 0.3));\n",
              "      fill: #FFFFFF;\n",
              "    }\n",
              "  </style>\n",
              "\n",
              "      <script>\n",
              "        const buttonEl =\n",
              "          document.querySelector('#df-cdaad11e-dfd1-4515-9f5d-39dd3f050beb button.colab-df-convert');\n",
              "        buttonEl.style.display =\n",
              "          google.colab.kernel.accessAllowed ? 'block' : 'none';\n",
              "\n",
              "        async function convertToInteractive(key) {\n",
              "          const element = document.querySelector('#df-cdaad11e-dfd1-4515-9f5d-39dd3f050beb');\n",
              "          const dataTable =\n",
              "            await google.colab.kernel.invokeFunction('convertToInteractive',\n",
              "                                                     [key], {});\n",
              "          if (!dataTable) return;\n",
              "\n",
              "          const docLinkHtml = 'Like what you see? Visit the ' +\n",
              "            '<a target=\"_blank\" href=https://colab.research.google.com/notebooks/data_table.ipynb>data table notebook</a>'\n",
              "            + ' to learn more about interactive tables.';\n",
              "          element.innerHTML = '';\n",
              "          dataTable['output_type'] = 'display_data';\n",
              "          await google.colab.output.renderOutput(dataTable, element);\n",
              "          const docLink = document.createElement('div');\n",
              "          docLink.innerHTML = docLinkHtml;\n",
              "          element.appendChild(docLink);\n",
              "        }\n",
              "      </script>\n",
              "    </div>\n",
              "  </div>\n",
              "  "
            ]
          },
          "metadata": {},
          "execution_count": 24
        }
      ]
    },
    {
      "cell_type": "code",
      "source": [
        "#Wk 15 (b)\n",
        "#Viewing the first 5 rows of the data set \n",
        "data_set_2_tn_df.head(5)"
      ],
      "metadata": {
        "colab": {
          "base_uri": "https://localhost:8080/",
          "height": 206
        },
        "id": "W7pFuEx7jMfg",
        "outputId": "121ebd4a-2296-4bb3-f283-73aa92b93b12"
      },
      "execution_count": 25,
      "outputs": [
        {
          "output_type": "execute_result",
          "data": {
            "text/plain": [
              "   id  release_date                                        movie  \\\n",
              "0   1  Dec 18, 2009                                       Avatar   \n",
              "1   2  May 20, 2011  Pirates of the Caribbean: On Stranger Tides   \n",
              "2   3   Jun 7, 2019                                 Dark Phoenix   \n",
              "3   4   May 1, 2015                      Avengers: Age of Ultron   \n",
              "4   5  Dec 15, 2017            Star Wars Ep. VIII: The Last Jedi   \n",
              "\n",
              "  production_budget domestic_gross worldwide_gross  \n",
              "0      $425,000,000   $760,507,625  $2,776,345,279  \n",
              "1      $410,600,000   $241,063,875  $1,045,663,875  \n",
              "2      $350,000,000    $42,762,350    $149,762,350  \n",
              "3      $330,600,000   $459,005,868  $1,403,013,963  \n",
              "4      $317,000,000   $620,181,382  $1,316,721,747  "
            ],
            "text/html": [
              "\n",
              "  <div id=\"df-ed7c2bb9-c526-4f13-bf1f-71c2b38c44ac\">\n",
              "    <div class=\"colab-df-container\">\n",
              "      <div>\n",
              "<style scoped>\n",
              "    .dataframe tbody tr th:only-of-type {\n",
              "        vertical-align: middle;\n",
              "    }\n",
              "\n",
              "    .dataframe tbody tr th {\n",
              "        vertical-align: top;\n",
              "    }\n",
              "\n",
              "    .dataframe thead th {\n",
              "        text-align: right;\n",
              "    }\n",
              "</style>\n",
              "<table border=\"1\" class=\"dataframe\">\n",
              "  <thead>\n",
              "    <tr style=\"text-align: right;\">\n",
              "      <th></th>\n",
              "      <th>id</th>\n",
              "      <th>release_date</th>\n",
              "      <th>movie</th>\n",
              "      <th>production_budget</th>\n",
              "      <th>domestic_gross</th>\n",
              "      <th>worldwide_gross</th>\n",
              "    </tr>\n",
              "  </thead>\n",
              "  <tbody>\n",
              "    <tr>\n",
              "      <th>0</th>\n",
              "      <td>1</td>\n",
              "      <td>Dec 18, 2009</td>\n",
              "      <td>Avatar</td>\n",
              "      <td>$425,000,000</td>\n",
              "      <td>$760,507,625</td>\n",
              "      <td>$2,776,345,279</td>\n",
              "    </tr>\n",
              "    <tr>\n",
              "      <th>1</th>\n",
              "      <td>2</td>\n",
              "      <td>May 20, 2011</td>\n",
              "      <td>Pirates of the Caribbean: On Stranger Tides</td>\n",
              "      <td>$410,600,000</td>\n",
              "      <td>$241,063,875</td>\n",
              "      <td>$1,045,663,875</td>\n",
              "    </tr>\n",
              "    <tr>\n",
              "      <th>2</th>\n",
              "      <td>3</td>\n",
              "      <td>Jun 7, 2019</td>\n",
              "      <td>Dark Phoenix</td>\n",
              "      <td>$350,000,000</td>\n",
              "      <td>$42,762,350</td>\n",
              "      <td>$149,762,350</td>\n",
              "    </tr>\n",
              "    <tr>\n",
              "      <th>3</th>\n",
              "      <td>4</td>\n",
              "      <td>May 1, 2015</td>\n",
              "      <td>Avengers: Age of Ultron</td>\n",
              "      <td>$330,600,000</td>\n",
              "      <td>$459,005,868</td>\n",
              "      <td>$1,403,013,963</td>\n",
              "    </tr>\n",
              "    <tr>\n",
              "      <th>4</th>\n",
              "      <td>5</td>\n",
              "      <td>Dec 15, 2017</td>\n",
              "      <td>Star Wars Ep. VIII: The Last Jedi</td>\n",
              "      <td>$317,000,000</td>\n",
              "      <td>$620,181,382</td>\n",
              "      <td>$1,316,721,747</td>\n",
              "    </tr>\n",
              "  </tbody>\n",
              "</table>\n",
              "</div>\n",
              "      <button class=\"colab-df-convert\" onclick=\"convertToInteractive('df-ed7c2bb9-c526-4f13-bf1f-71c2b38c44ac')\"\n",
              "              title=\"Convert this dataframe to an interactive table.\"\n",
              "              style=\"display:none;\">\n",
              "        \n",
              "  <svg xmlns=\"http://www.w3.org/2000/svg\" height=\"24px\"viewBox=\"0 0 24 24\"\n",
              "       width=\"24px\">\n",
              "    <path d=\"M0 0h24v24H0V0z\" fill=\"none\"/>\n",
              "    <path d=\"M18.56 5.44l.94 2.06.94-2.06 2.06-.94-2.06-.94-.94-2.06-.94 2.06-2.06.94zm-11 1L8.5 8.5l.94-2.06 2.06-.94-2.06-.94L8.5 2.5l-.94 2.06-2.06.94zm10 10l.94 2.06.94-2.06 2.06-.94-2.06-.94-.94-2.06-.94 2.06-2.06.94z\"/><path d=\"M17.41 7.96l-1.37-1.37c-.4-.4-.92-.59-1.43-.59-.52 0-1.04.2-1.43.59L10.3 9.45l-7.72 7.72c-.78.78-.78 2.05 0 2.83L4 21.41c.39.39.9.59 1.41.59.51 0 1.02-.2 1.41-.59l7.78-7.78 2.81-2.81c.8-.78.8-2.07 0-2.86zM5.41 20L4 18.59l7.72-7.72 1.47 1.35L5.41 20z\"/>\n",
              "  </svg>\n",
              "      </button>\n",
              "      \n",
              "  <style>\n",
              "    .colab-df-container {\n",
              "      display:flex;\n",
              "      flex-wrap:wrap;\n",
              "      gap: 12px;\n",
              "    }\n",
              "\n",
              "    .colab-df-convert {\n",
              "      background-color: #E8F0FE;\n",
              "      border: none;\n",
              "      border-radius: 50%;\n",
              "      cursor: pointer;\n",
              "      display: none;\n",
              "      fill: #1967D2;\n",
              "      height: 32px;\n",
              "      padding: 0 0 0 0;\n",
              "      width: 32px;\n",
              "    }\n",
              "\n",
              "    .colab-df-convert:hover {\n",
              "      background-color: #E2EBFA;\n",
              "      box-shadow: 0px 1px 2px rgba(60, 64, 67, 0.3), 0px 1px 3px 1px rgba(60, 64, 67, 0.15);\n",
              "      fill: #174EA6;\n",
              "    }\n",
              "\n",
              "    [theme=dark] .colab-df-convert {\n",
              "      background-color: #3B4455;\n",
              "      fill: #D2E3FC;\n",
              "    }\n",
              "\n",
              "    [theme=dark] .colab-df-convert:hover {\n",
              "      background-color: #434B5C;\n",
              "      box-shadow: 0px 1px 3px 1px rgba(0, 0, 0, 0.15);\n",
              "      filter: drop-shadow(0px 1px 2px rgba(0, 0, 0, 0.3));\n",
              "      fill: #FFFFFF;\n",
              "    }\n",
              "  </style>\n",
              "\n",
              "      <script>\n",
              "        const buttonEl =\n",
              "          document.querySelector('#df-ed7c2bb9-c526-4f13-bf1f-71c2b38c44ac button.colab-df-convert');\n",
              "        buttonEl.style.display =\n",
              "          google.colab.kernel.accessAllowed ? 'block' : 'none';\n",
              "\n",
              "        async function convertToInteractive(key) {\n",
              "          const element = document.querySelector('#df-ed7c2bb9-c526-4f13-bf1f-71c2b38c44ac');\n",
              "          const dataTable =\n",
              "            await google.colab.kernel.invokeFunction('convertToInteractive',\n",
              "                                                     [key], {});\n",
              "          if (!dataTable) return;\n",
              "\n",
              "          const docLinkHtml = 'Like what you see? Visit the ' +\n",
              "            '<a target=\"_blank\" href=https://colab.research.google.com/notebooks/data_table.ipynb>data table notebook</a>'\n",
              "            + ' to learn more about interactive tables.';\n",
              "          element.innerHTML = '';\n",
              "          dataTable['output_type'] = 'display_data';\n",
              "          await google.colab.output.renderOutput(dataTable, element);\n",
              "          const docLink = document.createElement('div');\n",
              "          docLink.innerHTML = docLinkHtml;\n",
              "          element.appendChild(docLink);\n",
              "        }\n",
              "      </script>\n",
              "    </div>\n",
              "  </div>\n",
              "  "
            ]
          },
          "metadata": {},
          "execution_count": 25
        }
      ]
    },
    {
      "cell_type": "code",
      "source": [
        "#Wk 15 (c)\n",
        "#Viewing the last 5 rows of the data set \n",
        "data_set_2_tn_df.tail(5)"
      ],
      "metadata": {
        "id": "i2Y2sJ_hkJrb",
        "colab": {
          "base_uri": "https://localhost:8080/",
          "height": 206
        },
        "outputId": "8e0c1857-8a02-45c4-8885-edccbcc56919"
      },
      "execution_count": 26,
      "outputs": [
        {
          "output_type": "execute_result",
          "data": {
            "text/plain": [
              "      id  release_date                          movie production_budget  \\\n",
              "5777  78  Dec 31, 2018                         Red 11            $7,000   \n",
              "5778  79   Apr 2, 1999                      Following            $6,000   \n",
              "5779  80  Jul 13, 2005  Return to the Land of Wonders            $5,000   \n",
              "5780  81  Sep 29, 2015           A Plague So Pleasant            $1,400   \n",
              "5781  82   Aug 5, 2005              My Date With Drew            $1,100   \n",
              "\n",
              "     domestic_gross worldwide_gross  \n",
              "5777             $0              $0  \n",
              "5778        $48,482        $240,495  \n",
              "5779         $1,338          $1,338  \n",
              "5780             $0              $0  \n",
              "5781       $181,041        $181,041  "
            ],
            "text/html": [
              "\n",
              "  <div id=\"df-2c04bc09-f98c-46bd-a2ff-1c033da11b81\">\n",
              "    <div class=\"colab-df-container\">\n",
              "      <div>\n",
              "<style scoped>\n",
              "    .dataframe tbody tr th:only-of-type {\n",
              "        vertical-align: middle;\n",
              "    }\n",
              "\n",
              "    .dataframe tbody tr th {\n",
              "        vertical-align: top;\n",
              "    }\n",
              "\n",
              "    .dataframe thead th {\n",
              "        text-align: right;\n",
              "    }\n",
              "</style>\n",
              "<table border=\"1\" class=\"dataframe\">\n",
              "  <thead>\n",
              "    <tr style=\"text-align: right;\">\n",
              "      <th></th>\n",
              "      <th>id</th>\n",
              "      <th>release_date</th>\n",
              "      <th>movie</th>\n",
              "      <th>production_budget</th>\n",
              "      <th>domestic_gross</th>\n",
              "      <th>worldwide_gross</th>\n",
              "    </tr>\n",
              "  </thead>\n",
              "  <tbody>\n",
              "    <tr>\n",
              "      <th>5777</th>\n",
              "      <td>78</td>\n",
              "      <td>Dec 31, 2018</td>\n",
              "      <td>Red 11</td>\n",
              "      <td>$7,000</td>\n",
              "      <td>$0</td>\n",
              "      <td>$0</td>\n",
              "    </tr>\n",
              "    <tr>\n",
              "      <th>5778</th>\n",
              "      <td>79</td>\n",
              "      <td>Apr 2, 1999</td>\n",
              "      <td>Following</td>\n",
              "      <td>$6,000</td>\n",
              "      <td>$48,482</td>\n",
              "      <td>$240,495</td>\n",
              "    </tr>\n",
              "    <tr>\n",
              "      <th>5779</th>\n",
              "      <td>80</td>\n",
              "      <td>Jul 13, 2005</td>\n",
              "      <td>Return to the Land of Wonders</td>\n",
              "      <td>$5,000</td>\n",
              "      <td>$1,338</td>\n",
              "      <td>$1,338</td>\n",
              "    </tr>\n",
              "    <tr>\n",
              "      <th>5780</th>\n",
              "      <td>81</td>\n",
              "      <td>Sep 29, 2015</td>\n",
              "      <td>A Plague So Pleasant</td>\n",
              "      <td>$1,400</td>\n",
              "      <td>$0</td>\n",
              "      <td>$0</td>\n",
              "    </tr>\n",
              "    <tr>\n",
              "      <th>5781</th>\n",
              "      <td>82</td>\n",
              "      <td>Aug 5, 2005</td>\n",
              "      <td>My Date With Drew</td>\n",
              "      <td>$1,100</td>\n",
              "      <td>$181,041</td>\n",
              "      <td>$181,041</td>\n",
              "    </tr>\n",
              "  </tbody>\n",
              "</table>\n",
              "</div>\n",
              "      <button class=\"colab-df-convert\" onclick=\"convertToInteractive('df-2c04bc09-f98c-46bd-a2ff-1c033da11b81')\"\n",
              "              title=\"Convert this dataframe to an interactive table.\"\n",
              "              style=\"display:none;\">\n",
              "        \n",
              "  <svg xmlns=\"http://www.w3.org/2000/svg\" height=\"24px\"viewBox=\"0 0 24 24\"\n",
              "       width=\"24px\">\n",
              "    <path d=\"M0 0h24v24H0V0z\" fill=\"none\"/>\n",
              "    <path d=\"M18.56 5.44l.94 2.06.94-2.06 2.06-.94-2.06-.94-.94-2.06-.94 2.06-2.06.94zm-11 1L8.5 8.5l.94-2.06 2.06-.94-2.06-.94L8.5 2.5l-.94 2.06-2.06.94zm10 10l.94 2.06.94-2.06 2.06-.94-2.06-.94-.94-2.06-.94 2.06-2.06.94z\"/><path d=\"M17.41 7.96l-1.37-1.37c-.4-.4-.92-.59-1.43-.59-.52 0-1.04.2-1.43.59L10.3 9.45l-7.72 7.72c-.78.78-.78 2.05 0 2.83L4 21.41c.39.39.9.59 1.41.59.51 0 1.02-.2 1.41-.59l7.78-7.78 2.81-2.81c.8-.78.8-2.07 0-2.86zM5.41 20L4 18.59l7.72-7.72 1.47 1.35L5.41 20z\"/>\n",
              "  </svg>\n",
              "      </button>\n",
              "      \n",
              "  <style>\n",
              "    .colab-df-container {\n",
              "      display:flex;\n",
              "      flex-wrap:wrap;\n",
              "      gap: 12px;\n",
              "    }\n",
              "\n",
              "    .colab-df-convert {\n",
              "      background-color: #E8F0FE;\n",
              "      border: none;\n",
              "      border-radius: 50%;\n",
              "      cursor: pointer;\n",
              "      display: none;\n",
              "      fill: #1967D2;\n",
              "      height: 32px;\n",
              "      padding: 0 0 0 0;\n",
              "      width: 32px;\n",
              "    }\n",
              "\n",
              "    .colab-df-convert:hover {\n",
              "      background-color: #E2EBFA;\n",
              "      box-shadow: 0px 1px 2px rgba(60, 64, 67, 0.3), 0px 1px 3px 1px rgba(60, 64, 67, 0.15);\n",
              "      fill: #174EA6;\n",
              "    }\n",
              "\n",
              "    [theme=dark] .colab-df-convert {\n",
              "      background-color: #3B4455;\n",
              "      fill: #D2E3FC;\n",
              "    }\n",
              "\n",
              "    [theme=dark] .colab-df-convert:hover {\n",
              "      background-color: #434B5C;\n",
              "      box-shadow: 0px 1px 3px 1px rgba(0, 0, 0, 0.15);\n",
              "      filter: drop-shadow(0px 1px 2px rgba(0, 0, 0, 0.3));\n",
              "      fill: #FFFFFF;\n",
              "    }\n",
              "  </style>\n",
              "\n",
              "      <script>\n",
              "        const buttonEl =\n",
              "          document.querySelector('#df-2c04bc09-f98c-46bd-a2ff-1c033da11b81 button.colab-df-convert');\n",
              "        buttonEl.style.display =\n",
              "          google.colab.kernel.accessAllowed ? 'block' : 'none';\n",
              "\n",
              "        async function convertToInteractive(key) {\n",
              "          const element = document.querySelector('#df-2c04bc09-f98c-46bd-a2ff-1c033da11b81');\n",
              "          const dataTable =\n",
              "            await google.colab.kernel.invokeFunction('convertToInteractive',\n",
              "                                                     [key], {});\n",
              "          if (!dataTable) return;\n",
              "\n",
              "          const docLinkHtml = 'Like what you see? Visit the ' +\n",
              "            '<a target=\"_blank\" href=https://colab.research.google.com/notebooks/data_table.ipynb>data table notebook</a>'\n",
              "            + ' to learn more about interactive tables.';\n",
              "          element.innerHTML = '';\n",
              "          dataTable['output_type'] = 'display_data';\n",
              "          await google.colab.output.renderOutput(dataTable, element);\n",
              "          const docLink = document.createElement('div');\n",
              "          docLink.innerHTML = docLinkHtml;\n",
              "          element.appendChild(docLink);\n",
              "        }\n",
              "      </script>\n",
              "    </div>\n",
              "  </div>\n",
              "  "
            ]
          },
          "metadata": {},
          "execution_count": 26
        }
      ]
    },
    {
      "cell_type": "code",
      "source": [
        "# Wk 15 (d)\n",
        "#removing un_neccessary columns\n",
        "data_set_2_tn_df=pd.read_csv('tn.movie_budgets.csv.gz',index_col=0)\n",
        "data_set_2_tn_df\n"
      ],
      "metadata": {
        "colab": {
          "base_uri": "https://localhost:8080/",
          "height": 455
        },
        "id": "_r2sd8C9ldpX",
        "outputId": "b41ec275-b08c-4129-ee99-29afc3d6c825"
      },
      "execution_count": 27,
      "outputs": [
        {
          "output_type": "execute_result",
          "data": {
            "text/plain": [
              "    release_date                                        movie  \\\n",
              "id                                                              \n",
              "1   Dec 18, 2009                                       Avatar   \n",
              "2   May 20, 2011  Pirates of the Caribbean: On Stranger Tides   \n",
              "3    Jun 7, 2019                                 Dark Phoenix   \n",
              "4    May 1, 2015                      Avengers: Age of Ultron   \n",
              "5   Dec 15, 2017            Star Wars Ep. VIII: The Last Jedi   \n",
              "..           ...                                          ...   \n",
              "78  Dec 31, 2018                                       Red 11   \n",
              "79   Apr 2, 1999                                    Following   \n",
              "80  Jul 13, 2005                Return to the Land of Wonders   \n",
              "81  Sep 29, 2015                         A Plague So Pleasant   \n",
              "82   Aug 5, 2005                            My Date With Drew   \n",
              "\n",
              "   production_budget domestic_gross worldwide_gross  \n",
              "id                                                   \n",
              "1       $425,000,000   $760,507,625  $2,776,345,279  \n",
              "2       $410,600,000   $241,063,875  $1,045,663,875  \n",
              "3       $350,000,000    $42,762,350    $149,762,350  \n",
              "4       $330,600,000   $459,005,868  $1,403,013,963  \n",
              "5       $317,000,000   $620,181,382  $1,316,721,747  \n",
              "..               ...            ...             ...  \n",
              "78            $7,000             $0              $0  \n",
              "79            $6,000        $48,482        $240,495  \n",
              "80            $5,000         $1,338          $1,338  \n",
              "81            $1,400             $0              $0  \n",
              "82            $1,100       $181,041        $181,041  \n",
              "\n",
              "[5782 rows x 5 columns]"
            ],
            "text/html": [
              "\n",
              "  <div id=\"df-492986b1-ec38-40ef-8f49-544e73ac1aae\">\n",
              "    <div class=\"colab-df-container\">\n",
              "      <div>\n",
              "<style scoped>\n",
              "    .dataframe tbody tr th:only-of-type {\n",
              "        vertical-align: middle;\n",
              "    }\n",
              "\n",
              "    .dataframe tbody tr th {\n",
              "        vertical-align: top;\n",
              "    }\n",
              "\n",
              "    .dataframe thead th {\n",
              "        text-align: right;\n",
              "    }\n",
              "</style>\n",
              "<table border=\"1\" class=\"dataframe\">\n",
              "  <thead>\n",
              "    <tr style=\"text-align: right;\">\n",
              "      <th></th>\n",
              "      <th>release_date</th>\n",
              "      <th>movie</th>\n",
              "      <th>production_budget</th>\n",
              "      <th>domestic_gross</th>\n",
              "      <th>worldwide_gross</th>\n",
              "    </tr>\n",
              "    <tr>\n",
              "      <th>id</th>\n",
              "      <th></th>\n",
              "      <th></th>\n",
              "      <th></th>\n",
              "      <th></th>\n",
              "      <th></th>\n",
              "    </tr>\n",
              "  </thead>\n",
              "  <tbody>\n",
              "    <tr>\n",
              "      <th>1</th>\n",
              "      <td>Dec 18, 2009</td>\n",
              "      <td>Avatar</td>\n",
              "      <td>$425,000,000</td>\n",
              "      <td>$760,507,625</td>\n",
              "      <td>$2,776,345,279</td>\n",
              "    </tr>\n",
              "    <tr>\n",
              "      <th>2</th>\n",
              "      <td>May 20, 2011</td>\n",
              "      <td>Pirates of the Caribbean: On Stranger Tides</td>\n",
              "      <td>$410,600,000</td>\n",
              "      <td>$241,063,875</td>\n",
              "      <td>$1,045,663,875</td>\n",
              "    </tr>\n",
              "    <tr>\n",
              "      <th>3</th>\n",
              "      <td>Jun 7, 2019</td>\n",
              "      <td>Dark Phoenix</td>\n",
              "      <td>$350,000,000</td>\n",
              "      <td>$42,762,350</td>\n",
              "      <td>$149,762,350</td>\n",
              "    </tr>\n",
              "    <tr>\n",
              "      <th>4</th>\n",
              "      <td>May 1, 2015</td>\n",
              "      <td>Avengers: Age of Ultron</td>\n",
              "      <td>$330,600,000</td>\n",
              "      <td>$459,005,868</td>\n",
              "      <td>$1,403,013,963</td>\n",
              "    </tr>\n",
              "    <tr>\n",
              "      <th>5</th>\n",
              "      <td>Dec 15, 2017</td>\n",
              "      <td>Star Wars Ep. VIII: The Last Jedi</td>\n",
              "      <td>$317,000,000</td>\n",
              "      <td>$620,181,382</td>\n",
              "      <td>$1,316,721,747</td>\n",
              "    </tr>\n",
              "    <tr>\n",
              "      <th>...</th>\n",
              "      <td>...</td>\n",
              "      <td>...</td>\n",
              "      <td>...</td>\n",
              "      <td>...</td>\n",
              "      <td>...</td>\n",
              "    </tr>\n",
              "    <tr>\n",
              "      <th>78</th>\n",
              "      <td>Dec 31, 2018</td>\n",
              "      <td>Red 11</td>\n",
              "      <td>$7,000</td>\n",
              "      <td>$0</td>\n",
              "      <td>$0</td>\n",
              "    </tr>\n",
              "    <tr>\n",
              "      <th>79</th>\n",
              "      <td>Apr 2, 1999</td>\n",
              "      <td>Following</td>\n",
              "      <td>$6,000</td>\n",
              "      <td>$48,482</td>\n",
              "      <td>$240,495</td>\n",
              "    </tr>\n",
              "    <tr>\n",
              "      <th>80</th>\n",
              "      <td>Jul 13, 2005</td>\n",
              "      <td>Return to the Land of Wonders</td>\n",
              "      <td>$5,000</td>\n",
              "      <td>$1,338</td>\n",
              "      <td>$1,338</td>\n",
              "    </tr>\n",
              "    <tr>\n",
              "      <th>81</th>\n",
              "      <td>Sep 29, 2015</td>\n",
              "      <td>A Plague So Pleasant</td>\n",
              "      <td>$1,400</td>\n",
              "      <td>$0</td>\n",
              "      <td>$0</td>\n",
              "    </tr>\n",
              "    <tr>\n",
              "      <th>82</th>\n",
              "      <td>Aug 5, 2005</td>\n",
              "      <td>My Date With Drew</td>\n",
              "      <td>$1,100</td>\n",
              "      <td>$181,041</td>\n",
              "      <td>$181,041</td>\n",
              "    </tr>\n",
              "  </tbody>\n",
              "</table>\n",
              "<p>5782 rows × 5 columns</p>\n",
              "</div>\n",
              "      <button class=\"colab-df-convert\" onclick=\"convertToInteractive('df-492986b1-ec38-40ef-8f49-544e73ac1aae')\"\n",
              "              title=\"Convert this dataframe to an interactive table.\"\n",
              "              style=\"display:none;\">\n",
              "        \n",
              "  <svg xmlns=\"http://www.w3.org/2000/svg\" height=\"24px\"viewBox=\"0 0 24 24\"\n",
              "       width=\"24px\">\n",
              "    <path d=\"M0 0h24v24H0V0z\" fill=\"none\"/>\n",
              "    <path d=\"M18.56 5.44l.94 2.06.94-2.06 2.06-.94-2.06-.94-.94-2.06-.94 2.06-2.06.94zm-11 1L8.5 8.5l.94-2.06 2.06-.94-2.06-.94L8.5 2.5l-.94 2.06-2.06.94zm10 10l.94 2.06.94-2.06 2.06-.94-2.06-.94-.94-2.06-.94 2.06-2.06.94z\"/><path d=\"M17.41 7.96l-1.37-1.37c-.4-.4-.92-.59-1.43-.59-.52 0-1.04.2-1.43.59L10.3 9.45l-7.72 7.72c-.78.78-.78 2.05 0 2.83L4 21.41c.39.39.9.59 1.41.59.51 0 1.02-.2 1.41-.59l7.78-7.78 2.81-2.81c.8-.78.8-2.07 0-2.86zM5.41 20L4 18.59l7.72-7.72 1.47 1.35L5.41 20z\"/>\n",
              "  </svg>\n",
              "      </button>\n",
              "      \n",
              "  <style>\n",
              "    .colab-df-container {\n",
              "      display:flex;\n",
              "      flex-wrap:wrap;\n",
              "      gap: 12px;\n",
              "    }\n",
              "\n",
              "    .colab-df-convert {\n",
              "      background-color: #E8F0FE;\n",
              "      border: none;\n",
              "      border-radius: 50%;\n",
              "      cursor: pointer;\n",
              "      display: none;\n",
              "      fill: #1967D2;\n",
              "      height: 32px;\n",
              "      padding: 0 0 0 0;\n",
              "      width: 32px;\n",
              "    }\n",
              "\n",
              "    .colab-df-convert:hover {\n",
              "      background-color: #E2EBFA;\n",
              "      box-shadow: 0px 1px 2px rgba(60, 64, 67, 0.3), 0px 1px 3px 1px rgba(60, 64, 67, 0.15);\n",
              "      fill: #174EA6;\n",
              "    }\n",
              "\n",
              "    [theme=dark] .colab-df-convert {\n",
              "      background-color: #3B4455;\n",
              "      fill: #D2E3FC;\n",
              "    }\n",
              "\n",
              "    [theme=dark] .colab-df-convert:hover {\n",
              "      background-color: #434B5C;\n",
              "      box-shadow: 0px 1px 3px 1px rgba(0, 0, 0, 0.15);\n",
              "      filter: drop-shadow(0px 1px 2px rgba(0, 0, 0, 0.3));\n",
              "      fill: #FFFFFF;\n",
              "    }\n",
              "  </style>\n",
              "\n",
              "      <script>\n",
              "        const buttonEl =\n",
              "          document.querySelector('#df-492986b1-ec38-40ef-8f49-544e73ac1aae button.colab-df-convert');\n",
              "        buttonEl.style.display =\n",
              "          google.colab.kernel.accessAllowed ? 'block' : 'none';\n",
              "\n",
              "        async function convertToInteractive(key) {\n",
              "          const element = document.querySelector('#df-492986b1-ec38-40ef-8f49-544e73ac1aae');\n",
              "          const dataTable =\n",
              "            await google.colab.kernel.invokeFunction('convertToInteractive',\n",
              "                                                     [key], {});\n",
              "          if (!dataTable) return;\n",
              "\n",
              "          const docLinkHtml = 'Like what you see? Visit the ' +\n",
              "            '<a target=\"_blank\" href=https://colab.research.google.com/notebooks/data_table.ipynb>data table notebook</a>'\n",
              "            + ' to learn more about interactive tables.';\n",
              "          element.innerHTML = '';\n",
              "          dataTable['output_type'] = 'display_data';\n",
              "          await google.colab.output.renderOutput(dataTable, element);\n",
              "          const docLink = document.createElement('div');\n",
              "          docLink.innerHTML = docLinkHtml;\n",
              "          element.appendChild(docLink);\n",
              "        }\n",
              "      </script>\n",
              "    </div>\n",
              "  </div>\n",
              "  "
            ]
          },
          "metadata": {},
          "execution_count": 27
        }
      ]
    },
    {
      "cell_type": "code",
      "source": [
        "#Wk 15(e)\n",
        "#Understanding the shape of the data \n",
        "data_set_2_tn_df.shape"
      ],
      "metadata": {
        "colab": {
          "base_uri": "https://localhost:8080/",
          "height": 0
        },
        "id": "ih6DhITlnNH6",
        "outputId": "43f77dfd-01c8-46d2-dc36-f4f2cc3f1118"
      },
      "execution_count": 28,
      "outputs": [
        {
          "output_type": "execute_result",
          "data": {
            "text/plain": [
              "(5782, 5)"
            ]
          },
          "metadata": {},
          "execution_count": 28
        }
      ]
    },
    {
      "cell_type": "markdown",
      "source": [
        "Interpretation of the shape;\n",
        "\n",
        "The data set \"data_set_2_tn_df contains 5,782 rows and 5 columns ."
      ],
      "metadata": {
        "id": "S0vUu0DNnfWL"
      }
    },
    {
      "cell_type": "code",
      "source": [
        "#Wk 15(f)\n",
        "#Checking at the column names \n",
        "data_set_2_tn_df.columns"
      ],
      "metadata": {
        "colab": {
          "base_uri": "https://localhost:8080/",
          "height": 0
        },
        "id": "saUnKHlEn1_c",
        "outputId": "63a34bc4-7d4f-498e-e0c2-904d0faedb25"
      },
      "execution_count": 29,
      "outputs": [
        {
          "output_type": "execute_result",
          "data": {
            "text/plain": [
              "Index(['release_date', 'movie', 'production_budget', 'domestic_gross',\n",
              "       'worldwide_gross'],\n",
              "      dtype='object')"
            ]
          },
          "metadata": {},
          "execution_count": 29
        }
      ]
    },
    {
      "cell_type": "code",
      "source": [
        "#Wk 15(g)\n",
        "#Understanding the columns in the data frame are what data type\n",
        "data_set_2_tn_df.info()"
      ],
      "metadata": {
        "colab": {
          "base_uri": "https://localhost:8080/",
          "height": 0
        },
        "id": "0mA0MXW7oOMH",
        "outputId": "a230297b-68c1-4d61-ae48-9dec4fa9e08b"
      },
      "execution_count": 30,
      "outputs": [
        {
          "output_type": "stream",
          "name": "stdout",
          "text": [
            "<class 'pandas.core.frame.DataFrame'>\n",
            "Int64Index: 5782 entries, 1 to 82\n",
            "Data columns (total 5 columns):\n",
            " #   Column             Non-Null Count  Dtype \n",
            "---  ------             --------------  ----- \n",
            " 0   release_date       5782 non-null   object\n",
            " 1   movie              5782 non-null   object\n",
            " 2   production_budget  5782 non-null   object\n",
            " 3   domestic_gross     5782 non-null   object\n",
            " 4   worldwide_gross    5782 non-null   object\n",
            "dtypes: object(5)\n",
            "memory usage: 271.0+ KB\n"
          ]
        }
      ]
    },
    {
      "cell_type": "markdown",
      "source": [
        "Intrepretation of the data type of the columns ;\n",
        "\n",
        "All the 5 columns are objects "
      ],
      "metadata": {
        "id": "pwHKQwHjovg6"
      }
    },
    {
      "cell_type": "code",
      "source": [
        "#Wk 15 (h)\n",
        "#Checking if our data set contains some missing values in rows and columns \n",
        "data_set_2_tn_df.isna().sum()"
      ],
      "metadata": {
        "colab": {
          "base_uri": "https://localhost:8080/",
          "height": 0
        },
        "id": "43KWJhAso74r",
        "outputId": "64fed081-90b2-4a6b-d0e5-3d93bfbe5671"
      },
      "execution_count": 31,
      "outputs": [
        {
          "output_type": "execute_result",
          "data": {
            "text/plain": [
              "release_date         0\n",
              "movie                0\n",
              "production_budget    0\n",
              "domestic_gross       0\n",
              "worldwide_gross      0\n",
              "dtype: int64"
            ]
          },
          "metadata": {},
          "execution_count": 31
        }
      ]
    },
    {
      "cell_type": "markdown",
      "source": [
        "From the above check of missing value it is confirmed that there is NO missing values in columns and rows .Thus all rows and columns will be retained for further analysis and visualizations."
      ],
      "metadata": {
        "id": "l9QJ_yU0pYu6"
      }
    },
    {
      "cell_type": "code",
      "source": [
        "#Wk 15 (i)\n",
        "#Checking at descriptive measures \n",
        "data_set_2_tn_df.describe()"
      ],
      "metadata": {
        "colab": {
          "base_uri": "https://localhost:8080/",
          "height": 174
        },
        "id": "ApmqLDt3p28V",
        "outputId": "ebdd1f0c-9c4e-4f76-8022-96bb88c07a4d"
      },
      "execution_count": 32,
      "outputs": [
        {
          "output_type": "execute_result",
          "data": {
            "text/plain": [
              "        release_date      movie production_budget domestic_gross  \\\n",
              "count           5782       5782              5782           5782   \n",
              "unique          2418       5698               509           5164   \n",
              "top     Dec 31, 2014  Halloween       $20,000,000             $0   \n",
              "freq              24          3               231            548   \n",
              "\n",
              "       worldwide_gross  \n",
              "count             5782  \n",
              "unique            5356  \n",
              "top                 $0  \n",
              "freq               367  "
            ],
            "text/html": [
              "\n",
              "  <div id=\"df-c75c63bb-baf6-4868-909f-6eb206af2351\">\n",
              "    <div class=\"colab-df-container\">\n",
              "      <div>\n",
              "<style scoped>\n",
              "    .dataframe tbody tr th:only-of-type {\n",
              "        vertical-align: middle;\n",
              "    }\n",
              "\n",
              "    .dataframe tbody tr th {\n",
              "        vertical-align: top;\n",
              "    }\n",
              "\n",
              "    .dataframe thead th {\n",
              "        text-align: right;\n",
              "    }\n",
              "</style>\n",
              "<table border=\"1\" class=\"dataframe\">\n",
              "  <thead>\n",
              "    <tr style=\"text-align: right;\">\n",
              "      <th></th>\n",
              "      <th>release_date</th>\n",
              "      <th>movie</th>\n",
              "      <th>production_budget</th>\n",
              "      <th>domestic_gross</th>\n",
              "      <th>worldwide_gross</th>\n",
              "    </tr>\n",
              "  </thead>\n",
              "  <tbody>\n",
              "    <tr>\n",
              "      <th>count</th>\n",
              "      <td>5782</td>\n",
              "      <td>5782</td>\n",
              "      <td>5782</td>\n",
              "      <td>5782</td>\n",
              "      <td>5782</td>\n",
              "    </tr>\n",
              "    <tr>\n",
              "      <th>unique</th>\n",
              "      <td>2418</td>\n",
              "      <td>5698</td>\n",
              "      <td>509</td>\n",
              "      <td>5164</td>\n",
              "      <td>5356</td>\n",
              "    </tr>\n",
              "    <tr>\n",
              "      <th>top</th>\n",
              "      <td>Dec 31, 2014</td>\n",
              "      <td>Halloween</td>\n",
              "      <td>$20,000,000</td>\n",
              "      <td>$0</td>\n",
              "      <td>$0</td>\n",
              "    </tr>\n",
              "    <tr>\n",
              "      <th>freq</th>\n",
              "      <td>24</td>\n",
              "      <td>3</td>\n",
              "      <td>231</td>\n",
              "      <td>548</td>\n",
              "      <td>367</td>\n",
              "    </tr>\n",
              "  </tbody>\n",
              "</table>\n",
              "</div>\n",
              "      <button class=\"colab-df-convert\" onclick=\"convertToInteractive('df-c75c63bb-baf6-4868-909f-6eb206af2351')\"\n",
              "              title=\"Convert this dataframe to an interactive table.\"\n",
              "              style=\"display:none;\">\n",
              "        \n",
              "  <svg xmlns=\"http://www.w3.org/2000/svg\" height=\"24px\"viewBox=\"0 0 24 24\"\n",
              "       width=\"24px\">\n",
              "    <path d=\"M0 0h24v24H0V0z\" fill=\"none\"/>\n",
              "    <path d=\"M18.56 5.44l.94 2.06.94-2.06 2.06-.94-2.06-.94-.94-2.06-.94 2.06-2.06.94zm-11 1L8.5 8.5l.94-2.06 2.06-.94-2.06-.94L8.5 2.5l-.94 2.06-2.06.94zm10 10l.94 2.06.94-2.06 2.06-.94-2.06-.94-.94-2.06-.94 2.06-2.06.94z\"/><path d=\"M17.41 7.96l-1.37-1.37c-.4-.4-.92-.59-1.43-.59-.52 0-1.04.2-1.43.59L10.3 9.45l-7.72 7.72c-.78.78-.78 2.05 0 2.83L4 21.41c.39.39.9.59 1.41.59.51 0 1.02-.2 1.41-.59l7.78-7.78 2.81-2.81c.8-.78.8-2.07 0-2.86zM5.41 20L4 18.59l7.72-7.72 1.47 1.35L5.41 20z\"/>\n",
              "  </svg>\n",
              "      </button>\n",
              "      \n",
              "  <style>\n",
              "    .colab-df-container {\n",
              "      display:flex;\n",
              "      flex-wrap:wrap;\n",
              "      gap: 12px;\n",
              "    }\n",
              "\n",
              "    .colab-df-convert {\n",
              "      background-color: #E8F0FE;\n",
              "      border: none;\n",
              "      border-radius: 50%;\n",
              "      cursor: pointer;\n",
              "      display: none;\n",
              "      fill: #1967D2;\n",
              "      height: 32px;\n",
              "      padding: 0 0 0 0;\n",
              "      width: 32px;\n",
              "    }\n",
              "\n",
              "    .colab-df-convert:hover {\n",
              "      background-color: #E2EBFA;\n",
              "      box-shadow: 0px 1px 2px rgba(60, 64, 67, 0.3), 0px 1px 3px 1px rgba(60, 64, 67, 0.15);\n",
              "      fill: #174EA6;\n",
              "    }\n",
              "\n",
              "    [theme=dark] .colab-df-convert {\n",
              "      background-color: #3B4455;\n",
              "      fill: #D2E3FC;\n",
              "    }\n",
              "\n",
              "    [theme=dark] .colab-df-convert:hover {\n",
              "      background-color: #434B5C;\n",
              "      box-shadow: 0px 1px 3px 1px rgba(0, 0, 0, 0.15);\n",
              "      filter: drop-shadow(0px 1px 2px rgba(0, 0, 0, 0.3));\n",
              "      fill: #FFFFFF;\n",
              "    }\n",
              "  </style>\n",
              "\n",
              "      <script>\n",
              "        const buttonEl =\n",
              "          document.querySelector('#df-c75c63bb-baf6-4868-909f-6eb206af2351 button.colab-df-convert');\n",
              "        buttonEl.style.display =\n",
              "          google.colab.kernel.accessAllowed ? 'block' : 'none';\n",
              "\n",
              "        async function convertToInteractive(key) {\n",
              "          const element = document.querySelector('#df-c75c63bb-baf6-4868-909f-6eb206af2351');\n",
              "          const dataTable =\n",
              "            await google.colab.kernel.invokeFunction('convertToInteractive',\n",
              "                                                     [key], {});\n",
              "          if (!dataTable) return;\n",
              "\n",
              "          const docLinkHtml = 'Like what you see? Visit the ' +\n",
              "            '<a target=\"_blank\" href=https://colab.research.google.com/notebooks/data_table.ipynb>data table notebook</a>'\n",
              "            + ' to learn more about interactive tables.';\n",
              "          element.innerHTML = '';\n",
              "          dataTable['output_type'] = 'display_data';\n",
              "          await google.colab.output.renderOutput(dataTable, element);\n",
              "          const docLink = document.createElement('div');\n",
              "          docLink.innerHTML = docLinkHtml;\n",
              "          element.appendChild(docLink);\n",
              "        }\n",
              "      </script>\n",
              "    </div>\n",
              "  </div>\n",
              "  "
            ]
          },
          "metadata": {},
          "execution_count": 32
        }
      ]
    },
    {
      "cell_type": "markdown",
      "source": [
        "## Checking if the data set contains duplicates ."
      ],
      "metadata": {
        "id": "q0c2wbRSCmOw"
      }
    },
    {
      "cell_type": "code",
      "source": [
        "data_set_2_tn_df.duplicated().sum()"
      ],
      "metadata": {
        "colab": {
          "base_uri": "https://localhost:8080/",
          "height": 0
        },
        "id": "_le6AjzXs6GT",
        "outputId": "2b9f224a-8bec-4a40-863a-0de3e9a973eb"
      },
      "execution_count": 51,
      "outputs": [
        {
          "output_type": "execute_result",
          "data": {
            "text/plain": [
              "0"
            ]
          },
          "metadata": {},
          "execution_count": 51
        }
      ]
    },
    {
      "cell_type": "markdown",
      "source": [
        "Interpretations;\n",
        "\n",
        "Data set \"data_set_2_tn_df\" does not contain duplicates."
      ],
      "metadata": {
        "id": "ylxW2PVQDBqG"
      }
    },
    {
      "cell_type": "markdown",
      "source": [
        "# **Working with data set;**\n",
        "\n",
        "# **3.'tmdb.movies.csv.gz to be refered as 'data_set_3_tmdb_df**\n"
      ],
      "metadata": {
        "id": "Br5GAz8ty14I"
      }
    },
    {
      "cell_type": "code",
      "source": [
        "# Importing our third data set in order to conduct some functions and attributes test for \n",
        "#a deeper understanding of the said data set \"data_set_3_tmdb_df\"\n",
        "\n",
        "\n",
        "\n",
        "\n",
        "data_set_3_tmdb_df=pd.read_csv('tmdb.movies.csv.gz')\n",
        "data_set_3_tmdb_df\n",
        "\n",
        "\n"
      ],
      "metadata": {
        "colab": {
          "base_uri": "https://localhost:8080/",
          "height": 661
        },
        "id": "AI-qSFAkzOYV",
        "outputId": "2b89d470-38e4-4425-df30-e9be56c4ce40"
      },
      "execution_count": 37,
      "outputs": [
        {
          "output_type": "execute_result",
          "data": {
            "text/plain": [
              "       Unnamed: 0            genre_ids      id original_language  \\\n",
              "0               0      [12, 14, 10751]   12444                en   \n",
              "1               1  [14, 12, 16, 10751]   10191                en   \n",
              "2               2        [12, 28, 878]   10138                en   \n",
              "3               3      [16, 35, 10751]     862                en   \n",
              "4               4        [28, 878, 12]   27205                en   \n",
              "...           ...                  ...     ...               ...   \n",
              "26512       26512             [27, 18]  488143                en   \n",
              "26513       26513             [18, 53]  485975                en   \n",
              "26514       26514         [14, 28, 12]  381231                en   \n",
              "26515       26515      [10751, 12, 28]  366854                en   \n",
              "26516       26516             [53, 27]  309885                en   \n",
              "\n",
              "                                     original_title  popularity release_date  \\\n",
              "0      Harry Potter and the Deathly Hallows: Part 1      33.533   2010-11-19   \n",
              "1                          How to Train Your Dragon      28.734   2010-03-26   \n",
              "2                                        Iron Man 2      28.515   2010-05-07   \n",
              "3                                         Toy Story      28.005   1995-11-22   \n",
              "4                                         Inception      27.920   2010-07-16   \n",
              "...                                             ...         ...          ...   \n",
              "26512                         Laboratory Conditions       0.600   2018-10-13   \n",
              "26513                               _EXHIBIT_84xxx_       0.600   2018-05-01   \n",
              "26514                                  The Last One       0.600   2018-10-01   \n",
              "26515                                  Trailer Made       0.600   2018-06-22   \n",
              "26516                                    The Church       0.600   2018-10-05   \n",
              "\n",
              "                                              title  vote_average  vote_count  \n",
              "0      Harry Potter and the Deathly Hallows: Part 1           7.7       10788  \n",
              "1                          How to Train Your Dragon           7.7        7610  \n",
              "2                                        Iron Man 2           6.8       12368  \n",
              "3                                         Toy Story           7.9       10174  \n",
              "4                                         Inception           8.3       22186  \n",
              "...                                             ...           ...         ...  \n",
              "26512                         Laboratory Conditions           0.0           1  \n",
              "26513                               _EXHIBIT_84xxx_           0.0           1  \n",
              "26514                                  The Last One           0.0           1  \n",
              "26515                                  Trailer Made           0.0           1  \n",
              "26516                                    The Church           0.0           1  \n",
              "\n",
              "[26517 rows x 10 columns]"
            ],
            "text/html": [
              "\n",
              "  <div id=\"df-73d845ce-2c1b-472f-8de7-d9e26a8ee3f1\">\n",
              "    <div class=\"colab-df-container\">\n",
              "      <div>\n",
              "<style scoped>\n",
              "    .dataframe tbody tr th:only-of-type {\n",
              "        vertical-align: middle;\n",
              "    }\n",
              "\n",
              "    .dataframe tbody tr th {\n",
              "        vertical-align: top;\n",
              "    }\n",
              "\n",
              "    .dataframe thead th {\n",
              "        text-align: right;\n",
              "    }\n",
              "</style>\n",
              "<table border=\"1\" class=\"dataframe\">\n",
              "  <thead>\n",
              "    <tr style=\"text-align: right;\">\n",
              "      <th></th>\n",
              "      <th>Unnamed: 0</th>\n",
              "      <th>genre_ids</th>\n",
              "      <th>id</th>\n",
              "      <th>original_language</th>\n",
              "      <th>original_title</th>\n",
              "      <th>popularity</th>\n",
              "      <th>release_date</th>\n",
              "      <th>title</th>\n",
              "      <th>vote_average</th>\n",
              "      <th>vote_count</th>\n",
              "    </tr>\n",
              "  </thead>\n",
              "  <tbody>\n",
              "    <tr>\n",
              "      <th>0</th>\n",
              "      <td>0</td>\n",
              "      <td>[12, 14, 10751]</td>\n",
              "      <td>12444</td>\n",
              "      <td>en</td>\n",
              "      <td>Harry Potter and the Deathly Hallows: Part 1</td>\n",
              "      <td>33.533</td>\n",
              "      <td>2010-11-19</td>\n",
              "      <td>Harry Potter and the Deathly Hallows: Part 1</td>\n",
              "      <td>7.7</td>\n",
              "      <td>10788</td>\n",
              "    </tr>\n",
              "    <tr>\n",
              "      <th>1</th>\n",
              "      <td>1</td>\n",
              "      <td>[14, 12, 16, 10751]</td>\n",
              "      <td>10191</td>\n",
              "      <td>en</td>\n",
              "      <td>How to Train Your Dragon</td>\n",
              "      <td>28.734</td>\n",
              "      <td>2010-03-26</td>\n",
              "      <td>How to Train Your Dragon</td>\n",
              "      <td>7.7</td>\n",
              "      <td>7610</td>\n",
              "    </tr>\n",
              "    <tr>\n",
              "      <th>2</th>\n",
              "      <td>2</td>\n",
              "      <td>[12, 28, 878]</td>\n",
              "      <td>10138</td>\n",
              "      <td>en</td>\n",
              "      <td>Iron Man 2</td>\n",
              "      <td>28.515</td>\n",
              "      <td>2010-05-07</td>\n",
              "      <td>Iron Man 2</td>\n",
              "      <td>6.8</td>\n",
              "      <td>12368</td>\n",
              "    </tr>\n",
              "    <tr>\n",
              "      <th>3</th>\n",
              "      <td>3</td>\n",
              "      <td>[16, 35, 10751]</td>\n",
              "      <td>862</td>\n",
              "      <td>en</td>\n",
              "      <td>Toy Story</td>\n",
              "      <td>28.005</td>\n",
              "      <td>1995-11-22</td>\n",
              "      <td>Toy Story</td>\n",
              "      <td>7.9</td>\n",
              "      <td>10174</td>\n",
              "    </tr>\n",
              "    <tr>\n",
              "      <th>4</th>\n",
              "      <td>4</td>\n",
              "      <td>[28, 878, 12]</td>\n",
              "      <td>27205</td>\n",
              "      <td>en</td>\n",
              "      <td>Inception</td>\n",
              "      <td>27.920</td>\n",
              "      <td>2010-07-16</td>\n",
              "      <td>Inception</td>\n",
              "      <td>8.3</td>\n",
              "      <td>22186</td>\n",
              "    </tr>\n",
              "    <tr>\n",
              "      <th>...</th>\n",
              "      <td>...</td>\n",
              "      <td>...</td>\n",
              "      <td>...</td>\n",
              "      <td>...</td>\n",
              "      <td>...</td>\n",
              "      <td>...</td>\n",
              "      <td>...</td>\n",
              "      <td>...</td>\n",
              "      <td>...</td>\n",
              "      <td>...</td>\n",
              "    </tr>\n",
              "    <tr>\n",
              "      <th>26512</th>\n",
              "      <td>26512</td>\n",
              "      <td>[27, 18]</td>\n",
              "      <td>488143</td>\n",
              "      <td>en</td>\n",
              "      <td>Laboratory Conditions</td>\n",
              "      <td>0.600</td>\n",
              "      <td>2018-10-13</td>\n",
              "      <td>Laboratory Conditions</td>\n",
              "      <td>0.0</td>\n",
              "      <td>1</td>\n",
              "    </tr>\n",
              "    <tr>\n",
              "      <th>26513</th>\n",
              "      <td>26513</td>\n",
              "      <td>[18, 53]</td>\n",
              "      <td>485975</td>\n",
              "      <td>en</td>\n",
              "      <td>_EXHIBIT_84xxx_</td>\n",
              "      <td>0.600</td>\n",
              "      <td>2018-05-01</td>\n",
              "      <td>_EXHIBIT_84xxx_</td>\n",
              "      <td>0.0</td>\n",
              "      <td>1</td>\n",
              "    </tr>\n",
              "    <tr>\n",
              "      <th>26514</th>\n",
              "      <td>26514</td>\n",
              "      <td>[14, 28, 12]</td>\n",
              "      <td>381231</td>\n",
              "      <td>en</td>\n",
              "      <td>The Last One</td>\n",
              "      <td>0.600</td>\n",
              "      <td>2018-10-01</td>\n",
              "      <td>The Last One</td>\n",
              "      <td>0.0</td>\n",
              "      <td>1</td>\n",
              "    </tr>\n",
              "    <tr>\n",
              "      <th>26515</th>\n",
              "      <td>26515</td>\n",
              "      <td>[10751, 12, 28]</td>\n",
              "      <td>366854</td>\n",
              "      <td>en</td>\n",
              "      <td>Trailer Made</td>\n",
              "      <td>0.600</td>\n",
              "      <td>2018-06-22</td>\n",
              "      <td>Trailer Made</td>\n",
              "      <td>0.0</td>\n",
              "      <td>1</td>\n",
              "    </tr>\n",
              "    <tr>\n",
              "      <th>26516</th>\n",
              "      <td>26516</td>\n",
              "      <td>[53, 27]</td>\n",
              "      <td>309885</td>\n",
              "      <td>en</td>\n",
              "      <td>The Church</td>\n",
              "      <td>0.600</td>\n",
              "      <td>2018-10-05</td>\n",
              "      <td>The Church</td>\n",
              "      <td>0.0</td>\n",
              "      <td>1</td>\n",
              "    </tr>\n",
              "  </tbody>\n",
              "</table>\n",
              "<p>26517 rows × 10 columns</p>\n",
              "</div>\n",
              "      <button class=\"colab-df-convert\" onclick=\"convertToInteractive('df-73d845ce-2c1b-472f-8de7-d9e26a8ee3f1')\"\n",
              "              title=\"Convert this dataframe to an interactive table.\"\n",
              "              style=\"display:none;\">\n",
              "        \n",
              "  <svg xmlns=\"http://www.w3.org/2000/svg\" height=\"24px\"viewBox=\"0 0 24 24\"\n",
              "       width=\"24px\">\n",
              "    <path d=\"M0 0h24v24H0V0z\" fill=\"none\"/>\n",
              "    <path d=\"M18.56 5.44l.94 2.06.94-2.06 2.06-.94-2.06-.94-.94-2.06-.94 2.06-2.06.94zm-11 1L8.5 8.5l.94-2.06 2.06-.94-2.06-.94L8.5 2.5l-.94 2.06-2.06.94zm10 10l.94 2.06.94-2.06 2.06-.94-2.06-.94-.94-2.06-.94 2.06-2.06.94z\"/><path d=\"M17.41 7.96l-1.37-1.37c-.4-.4-.92-.59-1.43-.59-.52 0-1.04.2-1.43.59L10.3 9.45l-7.72 7.72c-.78.78-.78 2.05 0 2.83L4 21.41c.39.39.9.59 1.41.59.51 0 1.02-.2 1.41-.59l7.78-7.78 2.81-2.81c.8-.78.8-2.07 0-2.86zM5.41 20L4 18.59l7.72-7.72 1.47 1.35L5.41 20z\"/>\n",
              "  </svg>\n",
              "      </button>\n",
              "      \n",
              "  <style>\n",
              "    .colab-df-container {\n",
              "      display:flex;\n",
              "      flex-wrap:wrap;\n",
              "      gap: 12px;\n",
              "    }\n",
              "\n",
              "    .colab-df-convert {\n",
              "      background-color: #E8F0FE;\n",
              "      border: none;\n",
              "      border-radius: 50%;\n",
              "      cursor: pointer;\n",
              "      display: none;\n",
              "      fill: #1967D2;\n",
              "      height: 32px;\n",
              "      padding: 0 0 0 0;\n",
              "      width: 32px;\n",
              "    }\n",
              "\n",
              "    .colab-df-convert:hover {\n",
              "      background-color: #E2EBFA;\n",
              "      box-shadow: 0px 1px 2px rgba(60, 64, 67, 0.3), 0px 1px 3px 1px rgba(60, 64, 67, 0.15);\n",
              "      fill: #174EA6;\n",
              "    }\n",
              "\n",
              "    [theme=dark] .colab-df-convert {\n",
              "      background-color: #3B4455;\n",
              "      fill: #D2E3FC;\n",
              "    }\n",
              "\n",
              "    [theme=dark] .colab-df-convert:hover {\n",
              "      background-color: #434B5C;\n",
              "      box-shadow: 0px 1px 3px 1px rgba(0, 0, 0, 0.15);\n",
              "      filter: drop-shadow(0px 1px 2px rgba(0, 0, 0, 0.3));\n",
              "      fill: #FFFFFF;\n",
              "    }\n",
              "  </style>\n",
              "\n",
              "      <script>\n",
              "        const buttonEl =\n",
              "          document.querySelector('#df-73d845ce-2c1b-472f-8de7-d9e26a8ee3f1 button.colab-df-convert');\n",
              "        buttonEl.style.display =\n",
              "          google.colab.kernel.accessAllowed ? 'block' : 'none';\n",
              "\n",
              "        async function convertToInteractive(key) {\n",
              "          const element = document.querySelector('#df-73d845ce-2c1b-472f-8de7-d9e26a8ee3f1');\n",
              "          const dataTable =\n",
              "            await google.colab.kernel.invokeFunction('convertToInteractive',\n",
              "                                                     [key], {});\n",
              "          if (!dataTable) return;\n",
              "\n",
              "          const docLinkHtml = 'Like what you see? Visit the ' +\n",
              "            '<a target=\"_blank\" href=https://colab.research.google.com/notebooks/data_table.ipynb>data table notebook</a>'\n",
              "            + ' to learn more about interactive tables.';\n",
              "          element.innerHTML = '';\n",
              "          dataTable['output_type'] = 'display_data';\n",
              "          await google.colab.output.renderOutput(dataTable, element);\n",
              "          const docLink = document.createElement('div');\n",
              "          docLink.innerHTML = docLinkHtml;\n",
              "          element.appendChild(docLink);\n",
              "        }\n",
              "      </script>\n",
              "    </div>\n",
              "  </div>\n",
              "  "
            ]
          },
          "metadata": {},
          "execution_count": 37
        }
      ]
    },
    {
      "cell_type": "markdown",
      "source": [
        "# **Removing un-neccessary columns from our data set.**"
      ],
      "metadata": {
        "id": "RYEUz3qJ1HIP"
      }
    },
    {
      "cell_type": "code",
      "source": [
        "data_set_3_tmdb_df=pd.read_csv('tmdb.movies.csv.gz',index_col=0)\n",
        "data_set_3_tmdb_df"
      ],
      "metadata": {
        "colab": {
          "base_uri": "https://localhost:8080/",
          "height": 606
        },
        "id": "nfoUBMd51Qw2",
        "outputId": "4af8b1c1-a0f9-4297-d2c0-6a3c77cc00e6"
      },
      "execution_count": 38,
      "outputs": [
        {
          "output_type": "execute_result",
          "data": {
            "text/plain": [
              "                 genre_ids      id original_language  \\\n",
              "0          [12, 14, 10751]   12444                en   \n",
              "1      [14, 12, 16, 10751]   10191                en   \n",
              "2            [12, 28, 878]   10138                en   \n",
              "3          [16, 35, 10751]     862                en   \n",
              "4            [28, 878, 12]   27205                en   \n",
              "...                    ...     ...               ...   \n",
              "26512             [27, 18]  488143                en   \n",
              "26513             [18, 53]  485975                en   \n",
              "26514         [14, 28, 12]  381231                en   \n",
              "26515      [10751, 12, 28]  366854                en   \n",
              "26516             [53, 27]  309885                en   \n",
              "\n",
              "                                     original_title  popularity release_date  \\\n",
              "0      Harry Potter and the Deathly Hallows: Part 1      33.533   2010-11-19   \n",
              "1                          How to Train Your Dragon      28.734   2010-03-26   \n",
              "2                                        Iron Man 2      28.515   2010-05-07   \n",
              "3                                         Toy Story      28.005   1995-11-22   \n",
              "4                                         Inception      27.920   2010-07-16   \n",
              "...                                             ...         ...          ...   \n",
              "26512                         Laboratory Conditions       0.600   2018-10-13   \n",
              "26513                               _EXHIBIT_84xxx_       0.600   2018-05-01   \n",
              "26514                                  The Last One       0.600   2018-10-01   \n",
              "26515                                  Trailer Made       0.600   2018-06-22   \n",
              "26516                                    The Church       0.600   2018-10-05   \n",
              "\n",
              "                                              title  vote_average  vote_count  \n",
              "0      Harry Potter and the Deathly Hallows: Part 1           7.7       10788  \n",
              "1                          How to Train Your Dragon           7.7        7610  \n",
              "2                                        Iron Man 2           6.8       12368  \n",
              "3                                         Toy Story           7.9       10174  \n",
              "4                                         Inception           8.3       22186  \n",
              "...                                             ...           ...         ...  \n",
              "26512                         Laboratory Conditions           0.0           1  \n",
              "26513                               _EXHIBIT_84xxx_           0.0           1  \n",
              "26514                                  The Last One           0.0           1  \n",
              "26515                                  Trailer Made           0.0           1  \n",
              "26516                                    The Church           0.0           1  \n",
              "\n",
              "[26517 rows x 9 columns]"
            ],
            "text/html": [
              "\n",
              "  <div id=\"df-898441be-9233-4c76-af71-394fa9fae3ff\">\n",
              "    <div class=\"colab-df-container\">\n",
              "      <div>\n",
              "<style scoped>\n",
              "    .dataframe tbody tr th:only-of-type {\n",
              "        vertical-align: middle;\n",
              "    }\n",
              "\n",
              "    .dataframe tbody tr th {\n",
              "        vertical-align: top;\n",
              "    }\n",
              "\n",
              "    .dataframe thead th {\n",
              "        text-align: right;\n",
              "    }\n",
              "</style>\n",
              "<table border=\"1\" class=\"dataframe\">\n",
              "  <thead>\n",
              "    <tr style=\"text-align: right;\">\n",
              "      <th></th>\n",
              "      <th>genre_ids</th>\n",
              "      <th>id</th>\n",
              "      <th>original_language</th>\n",
              "      <th>original_title</th>\n",
              "      <th>popularity</th>\n",
              "      <th>release_date</th>\n",
              "      <th>title</th>\n",
              "      <th>vote_average</th>\n",
              "      <th>vote_count</th>\n",
              "    </tr>\n",
              "  </thead>\n",
              "  <tbody>\n",
              "    <tr>\n",
              "      <th>0</th>\n",
              "      <td>[12, 14, 10751]</td>\n",
              "      <td>12444</td>\n",
              "      <td>en</td>\n",
              "      <td>Harry Potter and the Deathly Hallows: Part 1</td>\n",
              "      <td>33.533</td>\n",
              "      <td>2010-11-19</td>\n",
              "      <td>Harry Potter and the Deathly Hallows: Part 1</td>\n",
              "      <td>7.7</td>\n",
              "      <td>10788</td>\n",
              "    </tr>\n",
              "    <tr>\n",
              "      <th>1</th>\n",
              "      <td>[14, 12, 16, 10751]</td>\n",
              "      <td>10191</td>\n",
              "      <td>en</td>\n",
              "      <td>How to Train Your Dragon</td>\n",
              "      <td>28.734</td>\n",
              "      <td>2010-03-26</td>\n",
              "      <td>How to Train Your Dragon</td>\n",
              "      <td>7.7</td>\n",
              "      <td>7610</td>\n",
              "    </tr>\n",
              "    <tr>\n",
              "      <th>2</th>\n",
              "      <td>[12, 28, 878]</td>\n",
              "      <td>10138</td>\n",
              "      <td>en</td>\n",
              "      <td>Iron Man 2</td>\n",
              "      <td>28.515</td>\n",
              "      <td>2010-05-07</td>\n",
              "      <td>Iron Man 2</td>\n",
              "      <td>6.8</td>\n",
              "      <td>12368</td>\n",
              "    </tr>\n",
              "    <tr>\n",
              "      <th>3</th>\n",
              "      <td>[16, 35, 10751]</td>\n",
              "      <td>862</td>\n",
              "      <td>en</td>\n",
              "      <td>Toy Story</td>\n",
              "      <td>28.005</td>\n",
              "      <td>1995-11-22</td>\n",
              "      <td>Toy Story</td>\n",
              "      <td>7.9</td>\n",
              "      <td>10174</td>\n",
              "    </tr>\n",
              "    <tr>\n",
              "      <th>4</th>\n",
              "      <td>[28, 878, 12]</td>\n",
              "      <td>27205</td>\n",
              "      <td>en</td>\n",
              "      <td>Inception</td>\n",
              "      <td>27.920</td>\n",
              "      <td>2010-07-16</td>\n",
              "      <td>Inception</td>\n",
              "      <td>8.3</td>\n",
              "      <td>22186</td>\n",
              "    </tr>\n",
              "    <tr>\n",
              "      <th>...</th>\n",
              "      <td>...</td>\n",
              "      <td>...</td>\n",
              "      <td>...</td>\n",
              "      <td>...</td>\n",
              "      <td>...</td>\n",
              "      <td>...</td>\n",
              "      <td>...</td>\n",
              "      <td>...</td>\n",
              "      <td>...</td>\n",
              "    </tr>\n",
              "    <tr>\n",
              "      <th>26512</th>\n",
              "      <td>[27, 18]</td>\n",
              "      <td>488143</td>\n",
              "      <td>en</td>\n",
              "      <td>Laboratory Conditions</td>\n",
              "      <td>0.600</td>\n",
              "      <td>2018-10-13</td>\n",
              "      <td>Laboratory Conditions</td>\n",
              "      <td>0.0</td>\n",
              "      <td>1</td>\n",
              "    </tr>\n",
              "    <tr>\n",
              "      <th>26513</th>\n",
              "      <td>[18, 53]</td>\n",
              "      <td>485975</td>\n",
              "      <td>en</td>\n",
              "      <td>_EXHIBIT_84xxx_</td>\n",
              "      <td>0.600</td>\n",
              "      <td>2018-05-01</td>\n",
              "      <td>_EXHIBIT_84xxx_</td>\n",
              "      <td>0.0</td>\n",
              "      <td>1</td>\n",
              "    </tr>\n",
              "    <tr>\n",
              "      <th>26514</th>\n",
              "      <td>[14, 28, 12]</td>\n",
              "      <td>381231</td>\n",
              "      <td>en</td>\n",
              "      <td>The Last One</td>\n",
              "      <td>0.600</td>\n",
              "      <td>2018-10-01</td>\n",
              "      <td>The Last One</td>\n",
              "      <td>0.0</td>\n",
              "      <td>1</td>\n",
              "    </tr>\n",
              "    <tr>\n",
              "      <th>26515</th>\n",
              "      <td>[10751, 12, 28]</td>\n",
              "      <td>366854</td>\n",
              "      <td>en</td>\n",
              "      <td>Trailer Made</td>\n",
              "      <td>0.600</td>\n",
              "      <td>2018-06-22</td>\n",
              "      <td>Trailer Made</td>\n",
              "      <td>0.0</td>\n",
              "      <td>1</td>\n",
              "    </tr>\n",
              "    <tr>\n",
              "      <th>26516</th>\n",
              "      <td>[53, 27]</td>\n",
              "      <td>309885</td>\n",
              "      <td>en</td>\n",
              "      <td>The Church</td>\n",
              "      <td>0.600</td>\n",
              "      <td>2018-10-05</td>\n",
              "      <td>The Church</td>\n",
              "      <td>0.0</td>\n",
              "      <td>1</td>\n",
              "    </tr>\n",
              "  </tbody>\n",
              "</table>\n",
              "<p>26517 rows × 9 columns</p>\n",
              "</div>\n",
              "      <button class=\"colab-df-convert\" onclick=\"convertToInteractive('df-898441be-9233-4c76-af71-394fa9fae3ff')\"\n",
              "              title=\"Convert this dataframe to an interactive table.\"\n",
              "              style=\"display:none;\">\n",
              "        \n",
              "  <svg xmlns=\"http://www.w3.org/2000/svg\" height=\"24px\"viewBox=\"0 0 24 24\"\n",
              "       width=\"24px\">\n",
              "    <path d=\"M0 0h24v24H0V0z\" fill=\"none\"/>\n",
              "    <path d=\"M18.56 5.44l.94 2.06.94-2.06 2.06-.94-2.06-.94-.94-2.06-.94 2.06-2.06.94zm-11 1L8.5 8.5l.94-2.06 2.06-.94-2.06-.94L8.5 2.5l-.94 2.06-2.06.94zm10 10l.94 2.06.94-2.06 2.06-.94-2.06-.94-.94-2.06-.94 2.06-2.06.94z\"/><path d=\"M17.41 7.96l-1.37-1.37c-.4-.4-.92-.59-1.43-.59-.52 0-1.04.2-1.43.59L10.3 9.45l-7.72 7.72c-.78.78-.78 2.05 0 2.83L4 21.41c.39.39.9.59 1.41.59.51 0 1.02-.2 1.41-.59l7.78-7.78 2.81-2.81c.8-.78.8-2.07 0-2.86zM5.41 20L4 18.59l7.72-7.72 1.47 1.35L5.41 20z\"/>\n",
              "  </svg>\n",
              "      </button>\n",
              "      \n",
              "  <style>\n",
              "    .colab-df-container {\n",
              "      display:flex;\n",
              "      flex-wrap:wrap;\n",
              "      gap: 12px;\n",
              "    }\n",
              "\n",
              "    .colab-df-convert {\n",
              "      background-color: #E8F0FE;\n",
              "      border: none;\n",
              "      border-radius: 50%;\n",
              "      cursor: pointer;\n",
              "      display: none;\n",
              "      fill: #1967D2;\n",
              "      height: 32px;\n",
              "      padding: 0 0 0 0;\n",
              "      width: 32px;\n",
              "    }\n",
              "\n",
              "    .colab-df-convert:hover {\n",
              "      background-color: #E2EBFA;\n",
              "      box-shadow: 0px 1px 2px rgba(60, 64, 67, 0.3), 0px 1px 3px 1px rgba(60, 64, 67, 0.15);\n",
              "      fill: #174EA6;\n",
              "    }\n",
              "\n",
              "    [theme=dark] .colab-df-convert {\n",
              "      background-color: #3B4455;\n",
              "      fill: #D2E3FC;\n",
              "    }\n",
              "\n",
              "    [theme=dark] .colab-df-convert:hover {\n",
              "      background-color: #434B5C;\n",
              "      box-shadow: 0px 1px 3px 1px rgba(0, 0, 0, 0.15);\n",
              "      filter: drop-shadow(0px 1px 2px rgba(0, 0, 0, 0.3));\n",
              "      fill: #FFFFFF;\n",
              "    }\n",
              "  </style>\n",
              "\n",
              "      <script>\n",
              "        const buttonEl =\n",
              "          document.querySelector('#df-898441be-9233-4c76-af71-394fa9fae3ff button.colab-df-convert');\n",
              "        buttonEl.style.display =\n",
              "          google.colab.kernel.accessAllowed ? 'block' : 'none';\n",
              "\n",
              "        async function convertToInteractive(key) {\n",
              "          const element = document.querySelector('#df-898441be-9233-4c76-af71-394fa9fae3ff');\n",
              "          const dataTable =\n",
              "            await google.colab.kernel.invokeFunction('convertToInteractive',\n",
              "                                                     [key], {});\n",
              "          if (!dataTable) return;\n",
              "\n",
              "          const docLinkHtml = 'Like what you see? Visit the ' +\n",
              "            '<a target=\"_blank\" href=https://colab.research.google.com/notebooks/data_table.ipynb>data table notebook</a>'\n",
              "            + ' to learn more about interactive tables.';\n",
              "          element.innerHTML = '';\n",
              "          dataTable['output_type'] = 'display_data';\n",
              "          await google.colab.output.renderOutput(dataTable, element);\n",
              "          const docLink = document.createElement('div');\n",
              "          docLink.innerHTML = docLinkHtml;\n",
              "          element.appendChild(docLink);\n",
              "        }\n",
              "      </script>\n",
              "    </div>\n",
              "  </div>\n",
              "  "
            ]
          },
          "metadata": {},
          "execution_count": 38
        }
      ]
    },
    {
      "cell_type": "markdown",
      "source": [
        "# **Understanding and or checking at the first 5 rows of our data set** ."
      ],
      "metadata": {
        "id": "tLJXSk8l1gp8"
      }
    },
    {
      "cell_type": "code",
      "source": [
        "data_set_3_tmdb_df.head()"
      ],
      "metadata": {
        "colab": {
          "base_uri": "https://localhost:8080/",
          "height": 319
        },
        "id": "Xw4gNNDc1p0V",
        "outputId": "3332bf1b-9cce-406f-fa28-5c08345f6efe"
      },
      "execution_count": 39,
      "outputs": [
        {
          "output_type": "execute_result",
          "data": {
            "text/plain": [
              "             genre_ids     id original_language  \\\n",
              "0      [12, 14, 10751]  12444                en   \n",
              "1  [14, 12, 16, 10751]  10191                en   \n",
              "2        [12, 28, 878]  10138                en   \n",
              "3      [16, 35, 10751]    862                en   \n",
              "4        [28, 878, 12]  27205                en   \n",
              "\n",
              "                                 original_title  popularity release_date  \\\n",
              "0  Harry Potter and the Deathly Hallows: Part 1      33.533   2010-11-19   \n",
              "1                      How to Train Your Dragon      28.734   2010-03-26   \n",
              "2                                    Iron Man 2      28.515   2010-05-07   \n",
              "3                                     Toy Story      28.005   1995-11-22   \n",
              "4                                     Inception      27.920   2010-07-16   \n",
              "\n",
              "                                          title  vote_average  vote_count  \n",
              "0  Harry Potter and the Deathly Hallows: Part 1           7.7       10788  \n",
              "1                      How to Train Your Dragon           7.7        7610  \n",
              "2                                    Iron Man 2           6.8       12368  \n",
              "3                                     Toy Story           7.9       10174  \n",
              "4                                     Inception           8.3       22186  "
            ],
            "text/html": [
              "\n",
              "  <div id=\"df-0e9d7a5f-b03a-4fc3-a355-aca93064b321\">\n",
              "    <div class=\"colab-df-container\">\n",
              "      <div>\n",
              "<style scoped>\n",
              "    .dataframe tbody tr th:only-of-type {\n",
              "        vertical-align: middle;\n",
              "    }\n",
              "\n",
              "    .dataframe tbody tr th {\n",
              "        vertical-align: top;\n",
              "    }\n",
              "\n",
              "    .dataframe thead th {\n",
              "        text-align: right;\n",
              "    }\n",
              "</style>\n",
              "<table border=\"1\" class=\"dataframe\">\n",
              "  <thead>\n",
              "    <tr style=\"text-align: right;\">\n",
              "      <th></th>\n",
              "      <th>genre_ids</th>\n",
              "      <th>id</th>\n",
              "      <th>original_language</th>\n",
              "      <th>original_title</th>\n",
              "      <th>popularity</th>\n",
              "      <th>release_date</th>\n",
              "      <th>title</th>\n",
              "      <th>vote_average</th>\n",
              "      <th>vote_count</th>\n",
              "    </tr>\n",
              "  </thead>\n",
              "  <tbody>\n",
              "    <tr>\n",
              "      <th>0</th>\n",
              "      <td>[12, 14, 10751]</td>\n",
              "      <td>12444</td>\n",
              "      <td>en</td>\n",
              "      <td>Harry Potter and the Deathly Hallows: Part 1</td>\n",
              "      <td>33.533</td>\n",
              "      <td>2010-11-19</td>\n",
              "      <td>Harry Potter and the Deathly Hallows: Part 1</td>\n",
              "      <td>7.7</td>\n",
              "      <td>10788</td>\n",
              "    </tr>\n",
              "    <tr>\n",
              "      <th>1</th>\n",
              "      <td>[14, 12, 16, 10751]</td>\n",
              "      <td>10191</td>\n",
              "      <td>en</td>\n",
              "      <td>How to Train Your Dragon</td>\n",
              "      <td>28.734</td>\n",
              "      <td>2010-03-26</td>\n",
              "      <td>How to Train Your Dragon</td>\n",
              "      <td>7.7</td>\n",
              "      <td>7610</td>\n",
              "    </tr>\n",
              "    <tr>\n",
              "      <th>2</th>\n",
              "      <td>[12, 28, 878]</td>\n",
              "      <td>10138</td>\n",
              "      <td>en</td>\n",
              "      <td>Iron Man 2</td>\n",
              "      <td>28.515</td>\n",
              "      <td>2010-05-07</td>\n",
              "      <td>Iron Man 2</td>\n",
              "      <td>6.8</td>\n",
              "      <td>12368</td>\n",
              "    </tr>\n",
              "    <tr>\n",
              "      <th>3</th>\n",
              "      <td>[16, 35, 10751]</td>\n",
              "      <td>862</td>\n",
              "      <td>en</td>\n",
              "      <td>Toy Story</td>\n",
              "      <td>28.005</td>\n",
              "      <td>1995-11-22</td>\n",
              "      <td>Toy Story</td>\n",
              "      <td>7.9</td>\n",
              "      <td>10174</td>\n",
              "    </tr>\n",
              "    <tr>\n",
              "      <th>4</th>\n",
              "      <td>[28, 878, 12]</td>\n",
              "      <td>27205</td>\n",
              "      <td>en</td>\n",
              "      <td>Inception</td>\n",
              "      <td>27.920</td>\n",
              "      <td>2010-07-16</td>\n",
              "      <td>Inception</td>\n",
              "      <td>8.3</td>\n",
              "      <td>22186</td>\n",
              "    </tr>\n",
              "  </tbody>\n",
              "</table>\n",
              "</div>\n",
              "      <button class=\"colab-df-convert\" onclick=\"convertToInteractive('df-0e9d7a5f-b03a-4fc3-a355-aca93064b321')\"\n",
              "              title=\"Convert this dataframe to an interactive table.\"\n",
              "              style=\"display:none;\">\n",
              "        \n",
              "  <svg xmlns=\"http://www.w3.org/2000/svg\" height=\"24px\"viewBox=\"0 0 24 24\"\n",
              "       width=\"24px\">\n",
              "    <path d=\"M0 0h24v24H0V0z\" fill=\"none\"/>\n",
              "    <path d=\"M18.56 5.44l.94 2.06.94-2.06 2.06-.94-2.06-.94-.94-2.06-.94 2.06-2.06.94zm-11 1L8.5 8.5l.94-2.06 2.06-.94-2.06-.94L8.5 2.5l-.94 2.06-2.06.94zm10 10l.94 2.06.94-2.06 2.06-.94-2.06-.94-.94-2.06-.94 2.06-2.06.94z\"/><path d=\"M17.41 7.96l-1.37-1.37c-.4-.4-.92-.59-1.43-.59-.52 0-1.04.2-1.43.59L10.3 9.45l-7.72 7.72c-.78.78-.78 2.05 0 2.83L4 21.41c.39.39.9.59 1.41.59.51 0 1.02-.2 1.41-.59l7.78-7.78 2.81-2.81c.8-.78.8-2.07 0-2.86zM5.41 20L4 18.59l7.72-7.72 1.47 1.35L5.41 20z\"/>\n",
              "  </svg>\n",
              "      </button>\n",
              "      \n",
              "  <style>\n",
              "    .colab-df-container {\n",
              "      display:flex;\n",
              "      flex-wrap:wrap;\n",
              "      gap: 12px;\n",
              "    }\n",
              "\n",
              "    .colab-df-convert {\n",
              "      background-color: #E8F0FE;\n",
              "      border: none;\n",
              "      border-radius: 50%;\n",
              "      cursor: pointer;\n",
              "      display: none;\n",
              "      fill: #1967D2;\n",
              "      height: 32px;\n",
              "      padding: 0 0 0 0;\n",
              "      width: 32px;\n",
              "    }\n",
              "\n",
              "    .colab-df-convert:hover {\n",
              "      background-color: #E2EBFA;\n",
              "      box-shadow: 0px 1px 2px rgba(60, 64, 67, 0.3), 0px 1px 3px 1px rgba(60, 64, 67, 0.15);\n",
              "      fill: #174EA6;\n",
              "    }\n",
              "\n",
              "    [theme=dark] .colab-df-convert {\n",
              "      background-color: #3B4455;\n",
              "      fill: #D2E3FC;\n",
              "    }\n",
              "\n",
              "    [theme=dark] .colab-df-convert:hover {\n",
              "      background-color: #434B5C;\n",
              "      box-shadow: 0px 1px 3px 1px rgba(0, 0, 0, 0.15);\n",
              "      filter: drop-shadow(0px 1px 2px rgba(0, 0, 0, 0.3));\n",
              "      fill: #FFFFFF;\n",
              "    }\n",
              "  </style>\n",
              "\n",
              "      <script>\n",
              "        const buttonEl =\n",
              "          document.querySelector('#df-0e9d7a5f-b03a-4fc3-a355-aca93064b321 button.colab-df-convert');\n",
              "        buttonEl.style.display =\n",
              "          google.colab.kernel.accessAllowed ? 'block' : 'none';\n",
              "\n",
              "        async function convertToInteractive(key) {\n",
              "          const element = document.querySelector('#df-0e9d7a5f-b03a-4fc3-a355-aca93064b321');\n",
              "          const dataTable =\n",
              "            await google.colab.kernel.invokeFunction('convertToInteractive',\n",
              "                                                     [key], {});\n",
              "          if (!dataTable) return;\n",
              "\n",
              "          const docLinkHtml = 'Like what you see? Visit the ' +\n",
              "            '<a target=\"_blank\" href=https://colab.research.google.com/notebooks/data_table.ipynb>data table notebook</a>'\n",
              "            + ' to learn more about interactive tables.';\n",
              "          element.innerHTML = '';\n",
              "          dataTable['output_type'] = 'display_data';\n",
              "          await google.colab.output.renderOutput(dataTable, element);\n",
              "          const docLink = document.createElement('div');\n",
              "          docLink.innerHTML = docLinkHtml;\n",
              "          element.appendChild(docLink);\n",
              "        }\n",
              "      </script>\n",
              "    </div>\n",
              "  </div>\n",
              "  "
            ]
          },
          "metadata": {},
          "execution_count": 39
        }
      ]
    },
    {
      "cell_type": "markdown",
      "source": [
        "# **Understanding the data frame info.**"
      ],
      "metadata": {
        "id": "bgSsyI9f12xi"
      }
    },
    {
      "cell_type": "code",
      "source": [
        "data_set_3_tmdb_df.info()"
      ],
      "metadata": {
        "colab": {
          "base_uri": "https://localhost:8080/",
          "height": 0
        },
        "id": "6b4iJ7fp17dc",
        "outputId": "9dd4a441-7481-44ce-b4b5-a06d4e4d2255"
      },
      "execution_count": 40,
      "outputs": [
        {
          "output_type": "stream",
          "name": "stdout",
          "text": [
            "<class 'pandas.core.frame.DataFrame'>\n",
            "Int64Index: 26517 entries, 0 to 26516\n",
            "Data columns (total 9 columns):\n",
            " #   Column             Non-Null Count  Dtype  \n",
            "---  ------             --------------  -----  \n",
            " 0   genre_ids          26517 non-null  object \n",
            " 1   id                 26517 non-null  int64  \n",
            " 2   original_language  26517 non-null  object \n",
            " 3   original_title     26517 non-null  object \n",
            " 4   popularity         26517 non-null  float64\n",
            " 5   release_date       26517 non-null  object \n",
            " 6   title              26517 non-null  object \n",
            " 7   vote_average       26517 non-null  float64\n",
            " 8   vote_count         26517 non-null  int64  \n",
            "dtypes: float64(2), int64(2), object(5)\n",
            "memory usage: 2.0+ MB\n"
          ]
        }
      ]
    },
    {
      "cell_type": "markdown",
      "source": [
        "Our data frame contains 9 columns that consists of Objects ,Intergers and Float."
      ],
      "metadata": {
        "id": "tnGnm-Pu2J8C"
      }
    },
    {
      "cell_type": "markdown",
      "source": [
        "## *Obtaining the list of column names in our data set *"
      ],
      "metadata": {
        "id": "QXBtdhLL2wKb"
      }
    },
    {
      "cell_type": "code",
      "source": [
        "data_set_3_tmdb_df.columns"
      ],
      "metadata": {
        "colab": {
          "base_uri": "https://localhost:8080/",
          "height": 0
        },
        "id": "0pCqwcfW24I_",
        "outputId": "e0c93935-a5b4-4020-ed0e-0d75e208bd2f"
      },
      "execution_count": 41,
      "outputs": [
        {
          "output_type": "execute_result",
          "data": {
            "text/plain": [
              "Index(['genre_ids', 'id', 'original_language', 'original_title', 'popularity',\n",
              "       'release_date', 'title', 'vote_average', 'vote_count'],\n",
              "      dtype='object')"
            ]
          },
          "metadata": {},
          "execution_count": 41
        }
      ]
    },
    {
      "cell_type": "markdown",
      "source": [
        "# **Obtaining the shape of our data set.i.e. No of rows and columns .**"
      ],
      "metadata": {
        "id": "Mm21GMV83YzT"
      }
    },
    {
      "cell_type": "code",
      "source": [
        "data_set_3_tmdb_df.shape"
      ],
      "metadata": {
        "colab": {
          "base_uri": "https://localhost:8080/",
          "height": 0
        },
        "id": "9USLghKp3otF",
        "outputId": "830b29f9-37e5-452b-d596-cc96f6f5a4ae"
      },
      "execution_count": 42,
      "outputs": [
        {
          "output_type": "execute_result",
          "data": {
            "text/plain": [
              "(26517, 9)"
            ]
          },
          "metadata": {},
          "execution_count": 42
        }
      ]
    },
    {
      "cell_type": "markdown",
      "source": [
        "Intrepretation of the data set shape ; The data set \"data_set_3_tmdb_df contains 26,517 rows and 9 columns."
      ],
      "metadata": {
        "id": "R_nyvuek33h5"
      }
    },
    {
      "cell_type": "markdown",
      "source": [
        "# ***Checking for outliers in our data set.***"
      ],
      "metadata": {
        "id": "UluZPGYv4nEy"
      }
    },
    {
      "cell_type": "code",
      "source": [
        "plt.figure(figsize = (5, 5))\n",
        "data_set_3_tmdb_df.boxplot()\n",
        "plt.show()"
      ],
      "metadata": {
        "colab": {
          "base_uri": "https://localhost:8080/",
          "height": 445
        },
        "id": "9tpeSbHJ4txy",
        "outputId": "2e7a2cee-7dbf-40bb-a2cf-6515b4c26ba5"
      },
      "execution_count": 43,
      "outputs": [
        {
          "output_type": "display_data",
          "data": {
            "text/plain": [
              "<Figure size 500x500 with 1 Axes>"
            ],
            "image/png": "[encoded data removed]"
          },
          "metadata": {}
        }
      ]
    },
    {
      "cell_type": "markdown",
      "source": [
        "Interpretation of the outlier check from the box plot;\n",
        "\n",
        "1.Data in columns 'popularity','vote_average' and 'vote_count' some values that are outliers though not material."
      ],
      "metadata": {
        "id": "6ztFP9vC5JkR"
      }
    },
    {
      "cell_type": "markdown",
      "source": [
        "# ***Checking /understanding the descriptive measures.***"
      ],
      "metadata": {
        "id": "1AXWw3rWrGOd"
      }
    },
    {
      "cell_type": "code",
      "source": [
        "data_set_3_tmdb_df.describe()"
      ],
      "metadata": {
        "colab": {
          "base_uri": "https://localhost:8080/",
          "height": 300
        },
        "id": "l3W9V0STrYCI",
        "outputId": "9fe32a21-12b2-4eac-ef62-bb63fbe09a99"
      },
      "execution_count": 52,
      "outputs": [
        {
          "output_type": "execute_result",
          "data": {
            "text/plain": [
              "                  id    popularity  vote_average    vote_count\n",
              "count   26517.000000  26517.000000  26517.000000  26517.000000\n",
              "mean   295050.153260      3.130912      5.991281    194.224837\n",
              "std    153661.615648      4.355229      1.852946    960.961095\n",
              "min        27.000000      0.600000      0.000000      1.000000\n",
              "25%    157851.000000      0.600000      5.000000      2.000000\n",
              "50%    309581.000000      1.374000      6.000000      5.000000\n",
              "75%    419542.000000      3.694000      7.000000     28.000000\n",
              "max    608444.000000     80.773000     10.000000  22186.000000"
            ],
            "text/html": [
              "\n",
              "  <div id=\"df-90d9aac0-66c6-4cd0-badf-6c469e2084c7\">\n",
              "    <div class=\"colab-df-container\">\n",
              "      <div>\n",
              "<style scoped>\n",
              "    .dataframe tbody tr th:only-of-type {\n",
              "        vertical-align: middle;\n",
              "    }\n",
              "\n",
              "    .dataframe tbody tr th {\n",
              "        vertical-align: top;\n",
              "    }\n",
              "\n",
              "    .dataframe thead th {\n",
              "        text-align: right;\n",
              "    }\n",
              "</style>\n",
              "<table border=\"1\" class=\"dataframe\">\n",
              "  <thead>\n",
              "    <tr style=\"text-align: right;\">\n",
              "      <th></th>\n",
              "      <th>id</th>\n",
              "      <th>popularity</th>\n",
              "      <th>vote_average</th>\n",
              "      <th>vote_count</th>\n",
              "    </tr>\n",
              "  </thead>\n",
              "  <tbody>\n",
              "    <tr>\n",
              "      <th>count</th>\n",
              "      <td>26517.000000</td>\n",
              "      <td>26517.000000</td>\n",
              "      <td>26517.000000</td>\n",
              "      <td>26517.000000</td>\n",
              "    </tr>\n",
              "    <tr>\n",
              "      <th>mean</th>\n",
              "      <td>295050.153260</td>\n",
              "      <td>3.130912</td>\n",
              "      <td>5.991281</td>\n",
              "      <td>194.224837</td>\n",
              "    </tr>\n",
              "    <tr>\n",
              "      <th>std</th>\n",
              "      <td>153661.615648</td>\n",
              "      <td>4.355229</td>\n",
              "      <td>1.852946</td>\n",
              "      <td>960.961095</td>\n",
              "    </tr>\n",
              "    <tr>\n",
              "      <th>min</th>\n",
              "      <td>27.000000</td>\n",
              "      <td>0.600000</td>\n",
              "      <td>0.000000</td>\n",
              "      <td>1.000000</td>\n",
              "    </tr>\n",
              "    <tr>\n",
              "      <th>25%</th>\n",
              "      <td>157851.000000</td>\n",
              "      <td>0.600000</td>\n",
              "      <td>5.000000</td>\n",
              "      <td>2.000000</td>\n",
              "    </tr>\n",
              "    <tr>\n",
              "      <th>50%</th>\n",
              "      <td>309581.000000</td>\n",
              "      <td>1.374000</td>\n",
              "      <td>6.000000</td>\n",
              "      <td>5.000000</td>\n",
              "    </tr>\n",
              "    <tr>\n",
              "      <th>75%</th>\n",
              "      <td>419542.000000</td>\n",
              "      <td>3.694000</td>\n",
              "      <td>7.000000</td>\n",
              "      <td>28.000000</td>\n",
              "    </tr>\n",
              "    <tr>\n",
              "      <th>max</th>\n",
              "      <td>608444.000000</td>\n",
              "      <td>80.773000</td>\n",
              "      <td>10.000000</td>\n",
              "      <td>22186.000000</td>\n",
              "    </tr>\n",
              "  </tbody>\n",
              "</table>\n",
              "</div>\n",
              "      <button class=\"colab-df-convert\" onclick=\"convertToInteractive('df-90d9aac0-66c6-4cd0-badf-6c469e2084c7')\"\n",
              "              title=\"Convert this dataframe to an interactive table.\"\n",
              "              style=\"display:none;\">\n",
              "        \n",
              "  <svg xmlns=\"http://www.w3.org/2000/svg\" height=\"24px\"viewBox=\"0 0 24 24\"\n",
              "       width=\"24px\">\n",
              "    <path d=\"M0 0h24v24H0V0z\" fill=\"none\"/>\n",
              "    <path d=\"M18.56 5.44l.94 2.06.94-2.06 2.06-.94-2.06-.94-.94-2.06-.94 2.06-2.06.94zm-11 1L8.5 8.5l.94-2.06 2.06-.94-2.06-.94L8.5 2.5l-.94 2.06-2.06.94zm10 10l.94 2.06.94-2.06 2.06-.94-2.06-.94-.94-2.06-.94 2.06-2.06.94z\"/><path d=\"M17.41 7.96l-1.37-1.37c-.4-.4-.92-.59-1.43-.59-.52 0-1.04.2-1.43.59L10.3 9.45l-7.72 7.72c-.78.78-.78 2.05 0 2.83L4 21.41c.39.39.9.59 1.41.59.51 0 1.02-.2 1.41-.59l7.78-7.78 2.81-2.81c.8-.78.8-2.07 0-2.86zM5.41 20L4 18.59l7.72-7.72 1.47 1.35L5.41 20z\"/>\n",
              "  </svg>\n",
              "      </button>\n",
              "      \n",
              "  <style>\n",
              "    .colab-df-container {\n",
              "      display:flex;\n",
              "      flex-wrap:wrap;\n",
              "      gap: 12px;\n",
              "    }\n",
              "\n",
              "    .colab-df-convert {\n",
              "      background-color: #E8F0FE;\n",
              "      border: none;\n",
              "      border-radius: 50%;\n",
              "      cursor: pointer;\n",
              "      display: none;\n",
              "      fill: #1967D2;\n",
              "      height: 32px;\n",
              "      padding: 0 0 0 0;\n",
              "      width: 32px;\n",
              "    }\n",
              "\n",
              "    .colab-df-convert:hover {\n",
              "      background-color: #E2EBFA;\n",
              "      box-shadow: 0px 1px 2px rgba(60, 64, 67, 0.3), 0px 1px 3px 1px rgba(60, 64, 67, 0.15);\n",
              "      fill: #174EA6;\n",
              "    }\n",
              "\n",
              "    [theme=dark] .colab-df-convert {\n",
              "      background-color: #3B4455;\n",
              "      fill: #D2E3FC;\n",
              "    }\n",
              "\n",
              "    [theme=dark] .colab-df-convert:hover {\n",
              "      background-color: #434B5C;\n",
              "      box-shadow: 0px 1px 3px 1px rgba(0, 0, 0, 0.15);\n",
              "      filter: drop-shadow(0px 1px 2px rgba(0, 0, 0, 0.3));\n",
              "      fill: #FFFFFF;\n",
              "    }\n",
              "  </style>\n",
              "\n",
              "      <script>\n",
              "        const buttonEl =\n",
              "          document.querySelector('#df-90d9aac0-66c6-4cd0-badf-6c469e2084c7 button.colab-df-convert');\n",
              "        buttonEl.style.display =\n",
              "          google.colab.kernel.accessAllowed ? 'block' : 'none';\n",
              "\n",
              "        async function convertToInteractive(key) {\n",
              "          const element = document.querySelector('#df-90d9aac0-66c6-4cd0-badf-6c469e2084c7');\n",
              "          const dataTable =\n",
              "            await google.colab.kernel.invokeFunction('convertToInteractive',\n",
              "                                                     [key], {});\n",
              "          if (!dataTable) return;\n",
              "\n",
              "          const docLinkHtml = 'Like what you see? Visit the ' +\n",
              "            '<a target=\"_blank\" href=https://colab.research.google.com/notebooks/data_table.ipynb>data table notebook</a>'\n",
              "            + ' to learn more about interactive tables.';\n",
              "          element.innerHTML = '';\n",
              "          dataTable['output_type'] = 'display_data';\n",
              "          await google.colab.output.renderOutput(dataTable, element);\n",
              "          const docLink = document.createElement('div');\n",
              "          docLink.innerHTML = docLinkHtml;\n",
              "          element.appendChild(docLink);\n",
              "        }\n",
              "      </script>\n",
              "    </div>\n",
              "  </div>\n",
              "  "
            ]
          },
          "metadata": {},
          "execution_count": 52
        }
      ]
    },
    {
      "cell_type": "markdown",
      "source": [
        "Interpretation;\n",
        "\n",
        "We have gotten results on four columns(Id,popularity,Vote_average and Vote_count) with regards to descriptive measures ."
      ],
      "metadata": {
        "id": "FFVqPXzAETZB"
      }
    },
    {
      "cell_type": "markdown",
      "source": [
        "# ***Checking if the data set has columns with missing values.***"
      ],
      "metadata": {
        "id": "eDFZBZJnsJ-v"
      }
    },
    {
      "cell_type": "code",
      "source": [
        "data_set_3_tmdb_df.isna().sum()"
      ],
      "metadata": {
        "colab": {
          "base_uri": "https://localhost:8080/",
          "height": 0
        },
        "id": "zxjhtLIUsZXL",
        "outputId": "a89bcc65-91d8-4a81-8664-ac571a8b4c0d"
      },
      "execution_count": 53,
      "outputs": [
        {
          "output_type": "execute_result",
          "data": {
            "text/plain": [
              "genre_ids            0\n",
              "id                   0\n",
              "original_language    0\n",
              "original_title       0\n",
              "popularity           0\n",
              "release_date         0\n",
              "title                0\n",
              "vote_average         0\n",
              "vote_count           0\n",
              "dtype: int64"
            ]
          },
          "metadata": {},
          "execution_count": 53
        }
      ]
    },
    {
      "cell_type": "markdown",
      "source": [
        "Interpretation on the missing data check;\n",
        "\n",
        "1.Data set \"data_set_3_tmdb_df \" does not have missing data."
      ],
      "metadata": {
        "id": "ny7G4D15siR4"
      }
    },
    {
      "cell_type": "markdown",
      "source": [
        "# ***MERGING OF 3 DATA SETS ;(data_set_1_bom_df; data_set_2_tn_df and data_set_3_tmdb_df)***\n",
        "\n",
        "We will conduct data sets merging in order to have  one data frame for an ehnaced analysis /decision making."
      ],
      "metadata": {
        "id": "9gH0h2ZSE7XN"
      }
    },
    {
      "cell_type": "code",
      "source": [
        "# Read in the dataframes\n",
        "data_set_1_bom_df = pd.read_csv('bom.movie_gross.csv.gz', usecols=['title', 'studio', 'domestic_gross', 'foreign_gross', 'year'])\n",
        "data_set_2_tn_df = pd.read_csv('tn.movie_budgets.csv.gz', usecols=['release_date', 'movie', 'production_budget', 'domestic_gross', 'worldwide_gross'])\n",
        "data_set_3_tmdb_df = pd.read_csv('tmdb.movies.csv.gz', usecols=['genre_ids', 'id', 'original_language', 'original_title', 'popularity', 'release_date', 'title', 'vote_average', 'vote_count'])\n",
        "\n",
        "# Rename the columns in data_set_2_tn_df to match data_set_1_bom_df and data_set_3_tmdb_df\n",
        "data_set_2_tn_df = data_set_2_tn_df.rename(columns={'movie': 'title', 'production_budget': 'budget', 'worldwide_gross': 'global_gross'})\n",
        "\n",
        "# Concatenate the dataframes vertically\n",
        "merged_df = pd.concat([data_set_1_bom_df, data_set_2_tn_df, data_set_3_tmdb_df], sort=False)\n",
        "\n",
        "# Print the merged dataframe\n",
        "print(merged_df)\n"
      ],
      "metadata": {
        "colab": {
          "base_uri": "https://localhost:8080/",
          "height": 0
        },
        "id": "ZLjzIPLmyQOd",
        "outputId": "271a23da-faf8-42af-8051-4e8ac5b2237f"
      },
      "execution_count": 59,
      "outputs": [
        {
          "output_type": "stream",
          "name": "stdout",
          "text": [
            "                                             title studio domestic_gross  \\\n",
            "0                                      Toy Story 3     BV    415000000.0   \n",
            "1                       Alice in Wonderland (2010)     BV    334200000.0   \n",
            "2      Harry Potter and the Deathly Hallows Part 1     WB    296000000.0   \n",
            "3                                        Inception     WB    292600000.0   \n",
            "4                              Shrek Forever After   P/DW    238700000.0   \n",
            "...                                            ...    ...            ...   \n",
            "26512                        Laboratory Conditions    NaN            NaN   \n",
            "26513                              _EXHIBIT_84xxx_    NaN            NaN   \n",
            "26514                                 The Last One    NaN            NaN   \n",
            "26515                                 Trailer Made    NaN            NaN   \n",
            "26516                                   The Church    NaN            NaN   \n",
            "\n",
            "      foreign_gross    year release_date budget global_gross        genre_ids  \\\n",
            "0         652000000  2010.0          NaN    NaN          NaN              NaN   \n",
            "1         691300000  2010.0          NaN    NaN          NaN              NaN   \n",
            "2         664300000  2010.0          NaN    NaN          NaN              NaN   \n",
            "3         535700000  2010.0          NaN    NaN          NaN              NaN   \n",
            "4         513900000  2010.0          NaN    NaN          NaN              NaN   \n",
            "...             ...     ...          ...    ...          ...              ...   \n",
            "26512           NaN     NaN   2018-10-13    NaN          NaN         [27, 18]   \n",
            "26513           NaN     NaN   2018-05-01    NaN          NaN         [18, 53]   \n",
            "26514           NaN     NaN   2018-10-01    NaN          NaN     [14, 28, 12]   \n",
            "26515           NaN     NaN   2018-06-22    NaN          NaN  [10751, 12, 28]   \n",
            "26516           NaN     NaN   2018-10-05    NaN          NaN         [53, 27]   \n",
            "\n",
            "             id original_language         original_title  popularity  \\\n",
            "0           NaN               NaN                    NaN         NaN   \n",
            "1           NaN               NaN                    NaN         NaN   \n",
            "2           NaN               NaN                    NaN         NaN   \n",
            "3           NaN               NaN                    NaN         NaN   \n",
            "4           NaN               NaN                    NaN         NaN   \n",
            "...         ...               ...                    ...         ...   \n",
            "26512  488143.0                en  Laboratory Conditions         0.6   \n",
            "26513  485975.0                en        _EXHIBIT_84xxx_         0.6   \n",
            "26514  381231.0                en           The Last One         0.6   \n",
            "26515  366854.0                en           Trailer Made         0.6   \n",
            "26516  309885.0                en             The Church         0.6   \n",
            "\n",
            "       vote_average  vote_count  \n",
            "0               NaN         NaN  \n",
            "1               NaN         NaN  \n",
            "2               NaN         NaN  \n",
            "3               NaN         NaN  \n",
            "4               NaN         NaN  \n",
            "...             ...         ...  \n",
            "26512           0.0         1.0  \n",
            "26513           0.0         1.0  \n",
            "26514           0.0         1.0  \n",
            "26515           0.0         1.0  \n",
            "26516           0.0         1.0  \n",
            "\n",
            "[35686 rows x 15 columns]\n"
          ]
        }
      ]
    },
    {
      "cell_type": "markdown",
      "source": [
        "**Interpretation of the resulting /merged data frame**.\n",
        "\n",
        "Our new /merged data frame contains 35,686 rows and 15 columns ."
      ],
      "metadata": {
        "id": "rbU9za-dGFk-"
      }
    },
    {
      "cell_type": "markdown",
      "source": [
        "**Viewing  the first 5 rows of the merged data frame.**"
      ],
      "metadata": {
        "id": "4ekOm1zrGpaO"
      }
    },
    {
      "cell_type": "code",
      "source": [
        "merged_df.head()"
      ],
      "metadata": {
        "colab": {
          "base_uri": "https://localhost:8080/",
          "height": 409
        },
        "id": "2YEX7TsvybqD",
        "outputId": "47e00ceb-58d4-4b7f-fd8a-d12883bb3dce"
      },
      "execution_count": 60,
      "outputs": [
        {
          "output_type": "execute_result",
          "data": {
            "text/plain": [
              "                                         title studio domestic_gross  \\\n",
              "0                                  Toy Story 3     BV    415000000.0   \n",
              "1                   Alice in Wonderland (2010)     BV    334200000.0   \n",
              "2  Harry Potter and the Deathly Hallows Part 1     WB    296000000.0   \n",
              "3                                    Inception     WB    292600000.0   \n",
              "4                          Shrek Forever After   P/DW    238700000.0   \n",
              "\n",
              "  foreign_gross    year release_date budget global_gross genre_ids  id  \\\n",
              "0     652000000  2010.0          NaN    NaN          NaN       NaN NaN   \n",
              "1     691300000  2010.0          NaN    NaN          NaN       NaN NaN   \n",
              "2     664300000  2010.0          NaN    NaN          NaN       NaN NaN   \n",
              "3     535700000  2010.0          NaN    NaN          NaN       NaN NaN   \n",
              "4     513900000  2010.0          NaN    NaN          NaN       NaN NaN   \n",
              "\n",
              "  original_language original_title  popularity  vote_average  vote_count  \n",
              "0               NaN            NaN         NaN           NaN         NaN  \n",
              "1               NaN            NaN         NaN           NaN         NaN  \n",
              "2               NaN            NaN         NaN           NaN         NaN  \n",
              "3               NaN            NaN         NaN           NaN         NaN  \n",
              "4               NaN            NaN         NaN           NaN         NaN  "
            ],
            "text/html": [
              "\n",
              "  <div id=\"df-c904b871-905b-4578-9a37-d28c676f49b2\">\n",
              "    <div class=\"colab-df-container\">\n",
              "      <div>\n",
              "<style scoped>\n",
              "    .dataframe tbody tr th:only-of-type {\n",
              "        vertical-align: middle;\n",
              "    }\n",
              "\n",
              "    .dataframe tbody tr th {\n",
              "        vertical-align: top;\n",
              "    }\n",
              "\n",
              "    .dataframe thead th {\n",
              "        text-align: right;\n",
              "    }\n",
              "</style>\n",
              "<table border=\"1\" class=\"dataframe\">\n",
              "  <thead>\n",
              "    <tr style=\"text-align: right;\">\n",
              "      <th></th>\n",
              "      <th>title</th>\n",
              "      <th>studio</th>\n",
              "      <th>domestic_gross</th>\n",
              "      <th>foreign_gross</th>\n",
              "      <th>year</th>\n",
              "      <th>release_date</th>\n",
              "      <th>budget</th>\n",
              "      <th>global_gross</th>\n",
              "      <th>genre_ids</th>\n",
              "      <th>id</th>\n",
              "      <th>original_language</th>\n",
              "      <th>original_title</th>\n",
              "      <th>popularity</th>\n",
              "      <th>vote_average</th>\n",
              "      <th>vote_count</th>\n",
              "    </tr>\n",
              "  </thead>\n",
              "  <tbody>\n",
              "    <tr>\n",
              "      <th>0</th>\n",
              "      <td>Toy Story 3</td>\n",
              "      <td>BV</td>\n",
              "      <td>415000000.0</td>\n",
              "      <td>652000000</td>\n",
              "      <td>2010.0</td>\n",
              "      <td>NaN</td>\n",
              "      <td>NaN</td>\n",
              "      <td>NaN</td>\n",
              "      <td>NaN</td>\n",
              "      <td>NaN</td>\n",
              "      <td>NaN</td>\n",
              "      <td>NaN</td>\n",
              "      <td>NaN</td>\n",
              "      <td>NaN</td>\n",
              "      <td>NaN</td>\n",
              "    </tr>\n",
              "    <tr>\n",
              "      <th>1</th>\n",
              "      <td>Alice in Wonderland (2010)</td>\n",
              "      <td>BV</td>\n",
              "      <td>334200000.0</td>\n",
              "      <td>691300000</td>\n",
              "      <td>2010.0</td>\n",
              "      <td>NaN</td>\n",
              "      <td>NaN</td>\n",
              "      <td>NaN</td>\n",
              "      <td>NaN</td>\n",
              "      <td>NaN</td>\n",
              "      <td>NaN</td>\n",
              "      <td>NaN</td>\n",
              "      <td>NaN</td>\n",
              "      <td>NaN</td>\n",
              "      <td>NaN</td>\n",
              "    </tr>\n",
              "    <tr>\n",
              "      <th>2</th>\n",
              "      <td>Harry Potter and the Deathly Hallows Part 1</td>\n",
              "      <td>WB</td>\n",
              "      <td>296000000.0</td>\n",
              "      <td>664300000</td>\n",
              "      <td>2010.0</td>\n",
              "      <td>NaN</td>\n",
              "      <td>NaN</td>\n",
              "      <td>NaN</td>\n",
              "      <td>NaN</td>\n",
              "      <td>NaN</td>\n",
              "      <td>NaN</td>\n",
              "      <td>NaN</td>\n",
              "      <td>NaN</td>\n",
              "      <td>NaN</td>\n",
              "      <td>NaN</td>\n",
              "    </tr>\n",
              "    <tr>\n",
              "      <th>3</th>\n",
              "      <td>Inception</td>\n",
              "      <td>WB</td>\n",
              "      <td>292600000.0</td>\n",
              "      <td>535700000</td>\n",
              "      <td>2010.0</td>\n",
              "      <td>NaN</td>\n",
              "      <td>NaN</td>\n",
              "      <td>NaN</td>\n",
              "      <td>NaN</td>\n",
              "      <td>NaN</td>\n",
              "      <td>NaN</td>\n",
              "      <td>NaN</td>\n",
              "      <td>NaN</td>\n",
              "      <td>NaN</td>\n",
              "      <td>NaN</td>\n",
              "    </tr>\n",
              "    <tr>\n",
              "      <th>4</th>\n",
              "      <td>Shrek Forever After</td>\n",
              "      <td>P/DW</td>\n",
              "      <td>238700000.0</td>\n",
              "      <td>513900000</td>\n",
              "      <td>2010.0</td>\n",
              "      <td>NaN</td>\n",
              "      <td>NaN</td>\n",
              "      <td>NaN</td>\n",
              "      <td>NaN</td>\n",
              "      <td>NaN</td>\n",
              "      <td>NaN</td>\n",
              "      <td>NaN</td>\n",
              "      <td>NaN</td>\n",
              "      <td>NaN</td>\n",
              "      <td>NaN</td>\n",
              "    </tr>\n",
              "  </tbody>\n",
              "</table>\n",
              "</div>\n",
              "      <button class=\"colab-df-convert\" onclick=\"convertToInteractive('df-c904b871-905b-4578-9a37-d28c676f49b2')\"\n",
              "              title=\"Convert this dataframe to an interactive table.\"\n",
              "              style=\"display:none;\">\n",
              "        \n",
              "  <svg xmlns=\"http://www.w3.org/2000/svg\" height=\"24px\"viewBox=\"0 0 24 24\"\n",
              "       width=\"24px\">\n",
              "    <path d=\"M0 0h24v24H0V0z\" fill=\"none\"/>\n",
              "    <path d=\"M18.56 5.44l.94 2.06.94-2.06 2.06-.94-2.06-.94-.94-2.06-.94 2.06-2.06.94zm-11 1L8.5 8.5l.94-2.06 2.06-.94-2.06-.94L8.5 2.5l-.94 2.06-2.06.94zm10 10l.94 2.06.94-2.06 2.06-.94-2.06-.94-.94-2.06-.94 2.06-2.06.94z\"/><path d=\"M17.41 7.96l-1.37-1.37c-.4-.4-.92-.59-1.43-.59-.52 0-1.04.2-1.43.59L10.3 9.45l-7.72 7.72c-.78.78-.78 2.05 0 2.83L4 21.41c.39.39.9.59 1.41.59.51 0 1.02-.2 1.41-.59l7.78-7.78 2.81-2.81c.8-.78.8-2.07 0-2.86zM5.41 20L4 18.59l7.72-7.72 1.47 1.35L5.41 20z\"/>\n",
              "  </svg>\n",
              "      </button>\n",
              "      \n",
              "  <style>\n",
              "    .colab-df-container {\n",
              "      display:flex;\n",
              "      flex-wrap:wrap;\n",
              "      gap: 12px;\n",
              "    }\n",
              "\n",
              "    .colab-df-convert {\n",
              "      background-color: #E8F0FE;\n",
              "      border: none;\n",
              "      border-radius: 50%;\n",
              "      cursor: pointer;\n",
              "      display: none;\n",
              "      fill: #1967D2;\n",
              "      height: 32px;\n",
              "      padding: 0 0 0 0;\n",
              "      width: 32px;\n",
              "    }\n",
              "\n",
              "    .colab-df-convert:hover {\n",
              "      background-color: #E2EBFA;\n",
              "      box-shadow: 0px 1px 2px rgba(60, 64, 67, 0.3), 0px 1px 3px 1px rgba(60, 64, 67, 0.15);\n",
              "      fill: #174EA6;\n",
              "    }\n",
              "\n",
              "    [theme=dark] .colab-df-convert {\n",
              "      background-color: #3B4455;\n",
              "      fill: #D2E3FC;\n",
              "    }\n",
              "\n",
              "    [theme=dark] .colab-df-convert:hover {\n",
              "      background-color: #434B5C;\n",
              "      box-shadow: 0px 1px 3px 1px rgba(0, 0, 0, 0.15);\n",
              "      filter: drop-shadow(0px 1px 2px rgba(0, 0, 0, 0.3));\n",
              "      fill: #FFFFFF;\n",
              "    }\n",
              "  </style>\n",
              "\n",
              "      <script>\n",
              "        const buttonEl =\n",
              "          document.querySelector('#df-c904b871-905b-4578-9a37-d28c676f49b2 button.colab-df-convert');\n",
              "        buttonEl.style.display =\n",
              "          google.colab.kernel.accessAllowed ? 'block' : 'none';\n",
              "\n",
              "        async function convertToInteractive(key) {\n",
              "          const element = document.querySelector('#df-c904b871-905b-4578-9a37-d28c676f49b2');\n",
              "          const dataTable =\n",
              "            await google.colab.kernel.invokeFunction('convertToInteractive',\n",
              "                                                     [key], {});\n",
              "          if (!dataTable) return;\n",
              "\n",
              "          const docLinkHtml = 'Like what you see? Visit the ' +\n",
              "            '<a target=\"_blank\" href=https://colab.research.google.com/notebooks/data_table.ipynb>data table notebook</a>'\n",
              "            + ' to learn more about interactive tables.';\n",
              "          element.innerHTML = '';\n",
              "          dataTable['output_type'] = 'display_data';\n",
              "          await google.colab.output.renderOutput(dataTable, element);\n",
              "          const docLink = document.createElement('div');\n",
              "          docLink.innerHTML = docLinkHtml;\n",
              "          element.appendChild(docLink);\n",
              "        }\n",
              "      </script>\n",
              "    </div>\n",
              "  </div>\n",
              "  "
            ]
          },
          "metadata": {},
          "execution_count": 60
        }
      ]
    },
    {
      "cell_type": "markdown",
      "source": [
        "**Viewing the last 5 rows of the merged data frame.**"
      ],
      "metadata": {
        "id": "M4ia7vEpG9ay"
      }
    },
    {
      "cell_type": "code",
      "source": [
        "merged_df.tail()"
      ],
      "metadata": {
        "colab": {
          "base_uri": "https://localhost:8080/",
          "height": 322
        },
        "id": "G6oq7loGyrZM",
        "outputId": "c94ea2e6-c567-43cc-dfdf-e8926d528943"
      },
      "execution_count": 61,
      "outputs": [
        {
          "output_type": "execute_result",
          "data": {
            "text/plain": [
              "                       title studio domestic_gross foreign_gross  year  \\\n",
              "26512  Laboratory Conditions    NaN            NaN           NaN   NaN   \n",
              "26513        _EXHIBIT_84xxx_    NaN            NaN           NaN   NaN   \n",
              "26514           The Last One    NaN            NaN           NaN   NaN   \n",
              "26515           Trailer Made    NaN            NaN           NaN   NaN   \n",
              "26516             The Church    NaN            NaN           NaN   NaN   \n",
              "\n",
              "      release_date budget global_gross        genre_ids        id  \\\n",
              "26512   2018-10-13    NaN          NaN         [27, 18]  488143.0   \n",
              "26513   2018-05-01    NaN          NaN         [18, 53]  485975.0   \n",
              "26514   2018-10-01    NaN          NaN     [14, 28, 12]  381231.0   \n",
              "26515   2018-06-22    NaN          NaN  [10751, 12, 28]  366854.0   \n",
              "26516   2018-10-05    NaN          NaN         [53, 27]  309885.0   \n",
              "\n",
              "      original_language         original_title  popularity  vote_average  \\\n",
              "26512                en  Laboratory Conditions         0.6           0.0   \n",
              "26513                en        _EXHIBIT_84xxx_         0.6           0.0   \n",
              "26514                en           The Last One         0.6           0.0   \n",
              "26515                en           Trailer Made         0.6           0.0   \n",
              "26516                en             The Church         0.6           0.0   \n",
              "\n",
              "       vote_count  \n",
              "26512         1.0  \n",
              "26513         1.0  \n",
              "26514         1.0  \n",
              "26515         1.0  \n",
              "26516         1.0  "
            ],
            "text/html": [
              "\n",
              "  <div id=\"df-520ce3d3-4bcb-48bf-8486-7b68aa5bbd39\">\n",
              "    <div class=\"colab-df-container\">\n",
              "      <div>\n",
              "<style scoped>\n",
              "    .dataframe tbody tr th:only-of-type {\n",
              "        vertical-align: middle;\n",
              "    }\n",
              "\n",
              "    .dataframe tbody tr th {\n",
              "        vertical-align: top;\n",
              "    }\n",
              "\n",
              "    .dataframe thead th {\n",
              "        text-align: right;\n",
              "    }\n",
              "</style>\n",
              "<table border=\"1\" class=\"dataframe\">\n",
              "  <thead>\n",
              "    <tr style=\"text-align: right;\">\n",
              "      <th></th>\n",
              "      <th>title</th>\n",
              "      <th>studio</th>\n",
              "      <th>domestic_gross</th>\n",
              "      <th>foreign_gross</th>\n",
              "      <th>year</th>\n",
              "      <th>release_date</th>\n",
              "      <th>budget</th>\n",
              "      <th>global_gross</th>\n",
              "      <th>genre_ids</th>\n",
              "      <th>id</th>\n",
              "      <th>original_language</th>\n",
              "      <th>original_title</th>\n",
              "      <th>popularity</th>\n",
              "      <th>vote_average</th>\n",
              "      <th>vote_count</th>\n",
              "    </tr>\n",
              "  </thead>\n",
              "  <tbody>\n",
              "    <tr>\n",
              "      <th>26512</th>\n",
              "      <td>Laboratory Conditions</td>\n",
              "      <td>NaN</td>\n",
              "      <td>NaN</td>\n",
              "      <td>NaN</td>\n",
              "      <td>NaN</td>\n",
              "      <td>2018-10-13</td>\n",
              "      <td>NaN</td>\n",
              "      <td>NaN</td>\n",
              "      <td>[27, 18]</td>\n",
              "      <td>488143.0</td>\n",
              "      <td>en</td>\n",
              "      <td>Laboratory Conditions</td>\n",
              "      <td>0.6</td>\n",
              "      <td>0.0</td>\n",
              "      <td>1.0</td>\n",
              "    </tr>\n",
              "    <tr>\n",
              "      <th>26513</th>\n",
              "      <td>_EXHIBIT_84xxx_</td>\n",
              "      <td>NaN</td>\n",
              "      <td>NaN</td>\n",
              "      <td>NaN</td>\n",
              "      <td>NaN</td>\n",
              "      <td>2018-05-01</td>\n",
              "      <td>NaN</td>\n",
              "      <td>NaN</td>\n",
              "      <td>[18, 53]</td>\n",
              "      <td>485975.0</td>\n",
              "      <td>en</td>\n",
              "      <td>_EXHIBIT_84xxx_</td>\n",
              "      <td>0.6</td>\n",
              "      <td>0.0</td>\n",
              "      <td>1.0</td>\n",
              "    </tr>\n",
              "    <tr>\n",
              "      <th>26514</th>\n",
              "      <td>The Last One</td>\n",
              "      <td>NaN</td>\n",
              "      <td>NaN</td>\n",
              "      <td>NaN</td>\n",
              "      <td>NaN</td>\n",
              "      <td>2018-10-01</td>\n",
              "      <td>NaN</td>\n",
              "      <td>NaN</td>\n",
              "      <td>[14, 28, 12]</td>\n",
              "      <td>381231.0</td>\n",
              "      <td>en</td>\n",
              "      <td>The Last One</td>\n",
              "      <td>0.6</td>\n",
              "      <td>0.0</td>\n",
              "      <td>1.0</td>\n",
              "    </tr>\n",
              "    <tr>\n",
              "      <th>26515</th>\n",
              "      <td>Trailer Made</td>\n",
              "      <td>NaN</td>\n",
              "      <td>NaN</td>\n",
              "      <td>NaN</td>\n",
              "      <td>NaN</td>\n",
              "      <td>2018-06-22</td>\n",
              "      <td>NaN</td>\n",
              "      <td>NaN</td>\n",
              "      <td>[10751, 12, 28]</td>\n",
              "      <td>366854.0</td>\n",
              "      <td>en</td>\n",
              "      <td>Trailer Made</td>\n",
              "      <td>0.6</td>\n",
              "      <td>0.0</td>\n",
              "      <td>1.0</td>\n",
              "    </tr>\n",
              "    <tr>\n",
              "      <th>26516</th>\n",
              "      <td>The Church</td>\n",
              "      <td>NaN</td>\n",
              "      <td>NaN</td>\n",
              "      <td>NaN</td>\n",
              "      <td>NaN</td>\n",
              "      <td>2018-10-05</td>\n",
              "      <td>NaN</td>\n",
              "      <td>NaN</td>\n",
              "      <td>[53, 27]</td>\n",
              "      <td>309885.0</td>\n",
              "      <td>en</td>\n",
              "      <td>The Church</td>\n",
              "      <td>0.6</td>\n",
              "      <td>0.0</td>\n",
              "      <td>1.0</td>\n",
              "    </tr>\n",
              "  </tbody>\n",
              "</table>\n",
              "</div>\n",
              "      <button class=\"colab-df-convert\" onclick=\"convertToInteractive('df-520ce3d3-4bcb-48bf-8486-7b68aa5bbd39')\"\n",
              "              title=\"Convert this dataframe to an interactive table.\"\n",
              "              style=\"display:none;\">\n",
              "        \n",
              "  <svg xmlns=\"http://www.w3.org/2000/svg\" height=\"24px\"viewBox=\"0 0 24 24\"\n",
              "       width=\"24px\">\n",
              "    <path d=\"M0 0h24v24H0V0z\" fill=\"none\"/>\n",
              "    <path d=\"M18.56 5.44l.94 2.06.94-2.06 2.06-.94-2.06-.94-.94-2.06-.94 2.06-2.06.94zm-11 1L8.5 8.5l.94-2.06 2.06-.94-2.06-.94L8.5 2.5l-.94 2.06-2.06.94zm10 10l.94 2.06.94-2.06 2.06-.94-2.06-.94-.94-2.06-.94 2.06-2.06.94z\"/><path d=\"M17.41 7.96l-1.37-1.37c-.4-.4-.92-.59-1.43-.59-.52 0-1.04.2-1.43.59L10.3 9.45l-7.72 7.72c-.78.78-.78 2.05 0 2.83L4 21.41c.39.39.9.59 1.41.59.51 0 1.02-.2 1.41-.59l7.78-7.78 2.81-2.81c.8-.78.8-2.07 0-2.86zM5.41 20L4 18.59l7.72-7.72 1.47 1.35L5.41 20z\"/>\n",
              "  </svg>\n",
              "      </button>\n",
              "      \n",
              "  <style>\n",
              "    .colab-df-container {\n",
              "      display:flex;\n",
              "      flex-wrap:wrap;\n",
              "      gap: 12px;\n",
              "    }\n",
              "\n",
              "    .colab-df-convert {\n",
              "      background-color: #E8F0FE;\n",
              "      border: none;\n",
              "      border-radius: 50%;\n",
              "      cursor: pointer;\n",
              "      display: none;\n",
              "      fill: #1967D2;\n",
              "      height: 32px;\n",
              "      padding: 0 0 0 0;\n",
              "      width: 32px;\n",
              "    }\n",
              "\n",
              "    .colab-df-convert:hover {\n",
              "      background-color: #E2EBFA;\n",
              "      box-shadow: 0px 1px 2px rgba(60, 64, 67, 0.3), 0px 1px 3px 1px rgba(60, 64, 67, 0.15);\n",
              "      fill: #174EA6;\n",
              "    }\n",
              "\n",
              "    [theme=dark] .colab-df-convert {\n",
              "      background-color: #3B4455;\n",
              "      fill: #D2E3FC;\n",
              "    }\n",
              "\n",
              "    [theme=dark] .colab-df-convert:hover {\n",
              "      background-color: #434B5C;\n",
              "      box-shadow: 0px 1px 3px 1px rgba(0, 0, 0, 0.15);\n",
              "      filter: drop-shadow(0px 1px 2px rgba(0, 0, 0, 0.3));\n",
              "      fill: #FFFFFF;\n",
              "    }\n",
              "  </style>\n",
              "\n",
              "      <script>\n",
              "        const buttonEl =\n",
              "          document.querySelector('#df-520ce3d3-4bcb-48bf-8486-7b68aa5bbd39 button.colab-df-convert');\n",
              "        buttonEl.style.display =\n",
              "          google.colab.kernel.accessAllowed ? 'block' : 'none';\n",
              "\n",
              "        async function convertToInteractive(key) {\n",
              "          const element = document.querySelector('#df-520ce3d3-4bcb-48bf-8486-7b68aa5bbd39');\n",
              "          const dataTable =\n",
              "            await google.colab.kernel.invokeFunction('convertToInteractive',\n",
              "                                                     [key], {});\n",
              "          if (!dataTable) return;\n",
              "\n",
              "          const docLinkHtml = 'Like what you see? Visit the ' +\n",
              "            '<a target=\"_blank\" href=https://colab.research.google.com/notebooks/data_table.ipynb>data table notebook</a>'\n",
              "            + ' to learn more about interactive tables.';\n",
              "          element.innerHTML = '';\n",
              "          dataTable['output_type'] = 'display_data';\n",
              "          await google.colab.output.renderOutput(dataTable, element);\n",
              "          const docLink = document.createElement('div');\n",
              "          docLink.innerHTML = docLinkHtml;\n",
              "          element.appendChild(docLink);\n",
              "        }\n",
              "      </script>\n",
              "    </div>\n",
              "  </div>\n",
              "  "
            ]
          },
          "metadata": {},
          "execution_count": 61
        }
      ]
    },
    {
      "cell_type": "markdown",
      "source": [
        "**Understanding the shape of the merged data frame.**"
      ],
      "metadata": {
        "id": "Kkkg2FMcH2vg"
      }
    },
    {
      "cell_type": "code",
      "source": [
        "merged_df.shape"
      ],
      "metadata": {
        "colab": {
          "base_uri": "https://localhost:8080/",
          "height": 0
        },
        "id": "X4vkubujyy05",
        "outputId": "1e9b8c1a-e1ab-4718-aad3-7029f6454c14"
      },
      "execution_count": 62,
      "outputs": [
        {
          "output_type": "execute_result",
          "data": {
            "text/plain": [
              "(35686, 15)"
            ]
          },
          "metadata": {},
          "execution_count": 62
        }
      ]
    },
    {
      "cell_type": "markdown",
      "source": [
        "**Interpretation of the resulting /merged data shape.**\n",
        "\n",
        "Our new /merged data frame contains 35,686 rows and 15 columns ."
      ],
      "metadata": {
        "id": "cH1dBH-OIIz0"
      }
    },
    {
      "cell_type": "markdown",
      "source": [
        "**Viewing the list of columns from the merged data frame.**"
      ],
      "metadata": {
        "id": "tNyp9z4yITtz"
      }
    },
    {
      "cell_type": "code",
      "source": [
        "merged_df.columns"
      ],
      "metadata": {
        "colab": {
          "base_uri": "https://localhost:8080/",
          "height": 0
        },
        "id": "EavsHTwFy4Ur",
        "outputId": "45169e2e-bae1-4131-8468-ba4cbd1e3e7b"
      },
      "execution_count": 63,
      "outputs": [
        {
          "output_type": "execute_result",
          "data": {
            "text/plain": [
              "Index(['title', 'studio', 'domestic_gross', 'foreign_gross', 'year',\n",
              "       'release_date', 'budget', 'global_gross', 'genre_ids', 'id',\n",
              "       'original_language', 'original_title', 'popularity', 'vote_average',\n",
              "       'vote_count'],\n",
              "      dtype='object')"
            ]
          },
          "metadata": {},
          "execution_count": 63
        }
      ]
    },
    {
      "cell_type": "markdown",
      "source": [
        "**Understanding data types from the merged data frame.**"
      ],
      "metadata": {
        "id": "fpbUuwYoIkO7"
      }
    },
    {
      "cell_type": "code",
      "source": [
        "merged_df.info()"
      ],
      "metadata": {
        "colab": {
          "base_uri": "https://localhost:8080/",
          "height": 0
        },
        "id": "EyHE3XeOzA_f",
        "outputId": "f9a74a55-a100-43b3-d233-0fa6eae16757"
      },
      "execution_count": 64,
      "outputs": [
        {
          "output_type": "stream",
          "name": "stdout",
          "text": [
            "<class 'pandas.core.frame.DataFrame'>\n",
            "Int64Index: 35686 entries, 0 to 26516\n",
            "Data columns (total 15 columns):\n",
            " #   Column             Non-Null Count  Dtype  \n",
            "---  ------             --------------  -----  \n",
            " 0   title              35686 non-null  object \n",
            " 1   studio             3382 non-null   object \n",
            " 2   domestic_gross     9141 non-null   object \n",
            " 3   foreign_gross      2037 non-null   object \n",
            " 4   year               3387 non-null   float64\n",
            " 5   release_date       32299 non-null  object \n",
            " 6   budget             5782 non-null   object \n",
            " 7   global_gross       5782 non-null   object \n",
            " 8   genre_ids          26517 non-null  object \n",
            " 9   id                 26517 non-null  float64\n",
            " 10  original_language  26517 non-null  object \n",
            " 11  original_title     26517 non-null  object \n",
            " 12  popularity         26517 non-null  float64\n",
            " 13  vote_average       26517 non-null  float64\n",
            " 14  vote_count         26517 non-null  float64\n",
            "dtypes: float64(5), object(10)\n",
            "memory usage: 4.4+ MB\n"
          ]
        }
      ]
    },
    {
      "cell_type": "markdown",
      "source": [
        "**Interpretation of data types test results ;**\n",
        "\n",
        "Merged data frame \"merged_df\" contains 15 columns where 5 are floats and 10 are objects."
      ],
      "metadata": {
        "id": "bYBMvV4xI5rh"
      }
    },
    {
      "cell_type": "markdown",
      "source": [
        "**Test to understand/check on various measures of central tendancies .**"
      ],
      "metadata": {
        "id": "ynNoehyjJgaG"
      }
    },
    {
      "cell_type": "code",
      "source": [
        "merged_df.describe()"
      ],
      "metadata": {
        "colab": {
          "base_uri": "https://localhost:8080/",
          "height": 300
        },
        "id": "j6GSh6NDzZJ9",
        "outputId": "a604889a-3481-471c-e1c3-ca81d576d891"
      },
      "execution_count": 66,
      "outputs": [
        {
          "output_type": "execute_result",
          "data": {
            "text/plain": [
              "              year             id    popularity  vote_average    vote_count\n",
              "count  3387.000000   26517.000000  26517.000000  26517.000000  26517.000000\n",
              "mean   2013.958075  295050.153260      3.130912      5.991281    194.224837\n",
              "std       2.478141  153661.615648      4.355229      1.852946    960.961095\n",
              "min    2010.000000      27.000000      0.600000      0.000000      1.000000\n",
              "25%    2012.000000  157851.000000      0.600000      5.000000      2.000000\n",
              "50%    2014.000000  309581.000000      1.374000      6.000000      5.000000\n",
              "75%    2016.000000  419542.000000      3.694000      7.000000     28.000000\n",
              "max    2018.000000  608444.000000     80.773000     10.000000  22186.000000"
            ],
            "text/html": [
              "\n",
              "  <div id=\"df-ebbfa9bb-f87f-475f-b240-56f628a54924\">\n",
              "    <div class=\"colab-df-container\">\n",
              "      <div>\n",
              "<style scoped>\n",
              "    .dataframe tbody tr th:only-of-type {\n",
              "        vertical-align: middle;\n",
              "    }\n",
              "\n",
              "    .dataframe tbody tr th {\n",
              "        vertical-align: top;\n",
              "    }\n",
              "\n",
              "    .dataframe thead th {\n",
              "        text-align: right;\n",
              "    }\n",
              "</style>\n",
              "<table border=\"1\" class=\"dataframe\">\n",
              "  <thead>\n",
              "    <tr style=\"text-align: right;\">\n",
              "      <th></th>\n",
              "      <th>year</th>\n",
              "      <th>id</th>\n",
              "      <th>popularity</th>\n",
              "      <th>vote_average</th>\n",
              "      <th>vote_count</th>\n",
              "    </tr>\n",
              "  </thead>\n",
              "  <tbody>\n",
              "    <tr>\n",
              "      <th>count</th>\n",
              "      <td>3387.000000</td>\n",
              "      <td>26517.000000</td>\n",
              "      <td>26517.000000</td>\n",
              "      <td>26517.000000</td>\n",
              "      <td>26517.000000</td>\n",
              "    </tr>\n",
              "    <tr>\n",
              "      <th>mean</th>\n",
              "      <td>2013.958075</td>\n",
              "      <td>295050.153260</td>\n",
              "      <td>3.130912</td>\n",
              "      <td>5.991281</td>\n",
              "      <td>194.224837</td>\n",
              "    </tr>\n",
              "    <tr>\n",
              "      <th>std</th>\n",
              "      <td>2.478141</td>\n",
              "      <td>153661.615648</td>\n",
              "      <td>4.355229</td>\n",
              "      <td>1.852946</td>\n",
              "      <td>960.961095</td>\n",
              "    </tr>\n",
              "    <tr>\n",
              "      <th>min</th>\n",
              "      <td>2010.000000</td>\n",
              "      <td>27.000000</td>\n",
              "      <td>0.600000</td>\n",
              "      <td>0.000000</td>\n",
              "      <td>1.000000</td>\n",
              "    </tr>\n",
              "    <tr>\n",
              "      <th>25%</th>\n",
              "      <td>2012.000000</td>\n",
              "      <td>157851.000000</td>\n",
              "      <td>0.600000</td>\n",
              "      <td>5.000000</td>\n",
              "      <td>2.000000</td>\n",
              "    </tr>\n",
              "    <tr>\n",
              "      <th>50%</th>\n",
              "      <td>2014.000000</td>\n",
              "      <td>309581.000000</td>\n",
              "      <td>1.374000</td>\n",
              "      <td>6.000000</td>\n",
              "      <td>5.000000</td>\n",
              "    </tr>\n",
              "    <tr>\n",
              "      <th>75%</th>\n",
              "      <td>2016.000000</td>\n",
              "      <td>419542.000000</td>\n",
              "      <td>3.694000</td>\n",
              "      <td>7.000000</td>\n",
              "      <td>28.000000</td>\n",
              "    </tr>\n",
              "    <tr>\n",
              "      <th>max</th>\n",
              "      <td>2018.000000</td>\n",
              "      <td>608444.000000</td>\n",
              "      <td>80.773000</td>\n",
              "      <td>10.000000</td>\n",
              "      <td>22186.000000</td>\n",
              "    </tr>\n",
              "  </tbody>\n",
              "</table>\n",
              "</div>\n",
              "      <button class=\"colab-df-convert\" onclick=\"convertToInteractive('df-ebbfa9bb-f87f-475f-b240-56f628a54924')\"\n",
              "              title=\"Convert this dataframe to an interactive table.\"\n",
              "              style=\"display:none;\">\n",
              "        \n",
              "  <svg xmlns=\"http://www.w3.org/2000/svg\" height=\"24px\"viewBox=\"0 0 24 24\"\n",
              "       width=\"24px\">\n",
              "    <path d=\"M0 0h24v24H0V0z\" fill=\"none\"/>\n",
              "    <path d=\"M18.56 5.44l.94 2.06.94-2.06 2.06-.94-2.06-.94-.94-2.06-.94 2.06-2.06.94zm-11 1L8.5 8.5l.94-2.06 2.06-.94-2.06-.94L8.5 2.5l-.94 2.06-2.06.94zm10 10l.94 2.06.94-2.06 2.06-.94-2.06-.94-.94-2.06-.94 2.06-2.06.94z\"/><path d=\"M17.41 7.96l-1.37-1.37c-.4-.4-.92-.59-1.43-.59-.52 0-1.04.2-1.43.59L10.3 9.45l-7.72 7.72c-.78.78-.78 2.05 0 2.83L4 21.41c.39.39.9.59 1.41.59.51 0 1.02-.2 1.41-.59l7.78-7.78 2.81-2.81c.8-.78.8-2.07 0-2.86zM5.41 20L4 18.59l7.72-7.72 1.47 1.35L5.41 20z\"/>\n",
              "  </svg>\n",
              "      </button>\n",
              "      \n",
              "  <style>\n",
              "    .colab-df-container {\n",
              "      display:flex;\n",
              "      flex-wrap:wrap;\n",
              "      gap: 12px;\n",
              "    }\n",
              "\n",
              "    .colab-df-convert {\n",
              "      background-color: #E8F0FE;\n",
              "      border: none;\n",
              "      border-radius: 50%;\n",
              "      cursor: pointer;\n",
              "      display: none;\n",
              "      fill: #1967D2;\n",
              "      height: 32px;\n",
              "      padding: 0 0 0 0;\n",
              "      width: 32px;\n",
              "    }\n",
              "\n",
              "    .colab-df-convert:hover {\n",
              "      background-color: #E2EBFA;\n",
              "      box-shadow: 0px 1px 2px rgba(60, 64, 67, 0.3), 0px 1px 3px 1px rgba(60, 64, 67, 0.15);\n",
              "      fill: #174EA6;\n",
              "    }\n",
              "\n",
              "    [theme=dark] .colab-df-convert {\n",
              "      background-color: #3B4455;\n",
              "      fill: #D2E3FC;\n",
              "    }\n",
              "\n",
              "    [theme=dark] .colab-df-convert:hover {\n",
              "      background-color: #434B5C;\n",
              "      box-shadow: 0px 1px 3px 1px rgba(0, 0, 0, 0.15);\n",
              "      filter: drop-shadow(0px 1px 2px rgba(0, 0, 0, 0.3));\n",
              "      fill: #FFFFFF;\n",
              "    }\n",
              "  </style>\n",
              "\n",
              "      <script>\n",
              "        const buttonEl =\n",
              "          document.querySelector('#df-ebbfa9bb-f87f-475f-b240-56f628a54924 button.colab-df-convert');\n",
              "        buttonEl.style.display =\n",
              "          google.colab.kernel.accessAllowed ? 'block' : 'none';\n",
              "\n",
              "        async function convertToInteractive(key) {\n",
              "          const element = document.querySelector('#df-ebbfa9bb-f87f-475f-b240-56f628a54924');\n",
              "          const dataTable =\n",
              "            await google.colab.kernel.invokeFunction('convertToInteractive',\n",
              "                                                     [key], {});\n",
              "          if (!dataTable) return;\n",
              "\n",
              "          const docLinkHtml = 'Like what you see? Visit the ' +\n",
              "            '<a target=\"_blank\" href=https://colab.research.google.com/notebooks/data_table.ipynb>data table notebook</a>'\n",
              "            + ' to learn more about interactive tables.';\n",
              "          element.innerHTML = '';\n",
              "          dataTable['output_type'] = 'display_data';\n",
              "          await google.colab.output.renderOutput(dataTable, element);\n",
              "          const docLink = document.createElement('div');\n",
              "          docLink.innerHTML = docLinkHtml;\n",
              "          element.appendChild(docLink);\n",
              "        }\n",
              "      </script>\n",
              "    </div>\n",
              "  </div>\n",
              "  "
            ]
          },
          "metadata": {},
          "execution_count": 66
        }
      ]
    },
    {
      "cell_type": "code",
      "source": [
        "plt.figure(figsize = (5, 5))\n",
        "merged_df.boxplot()\n",
        "plt.show()"
      ],
      "metadata": {
        "colab": {
          "base_uri": "https://localhost:8080/",
          "height": 445
        },
        "id": "xfjFNLwszu0-",
        "outputId": "343bda2b-2a10-416f-b154-ee8ed11d6ecf"
      },
      "execution_count": 67,
      "outputs": [
        {
          "output_type": "display_data",
          "data": {
            "text/plain": [
              "<Figure size 500x500 with 1 Axes>"
            ],
            "image/png": "[encoded data removed]"
          },
          "metadata": {}
        }
      ]
    },
    {
      "cell_type": "code",
      "source": [
        "merged_df.isna().sum()"
      ],
      "metadata": {
        "colab": {
          "base_uri": "https://localhost:8080/",
          "height": 0
        },
        "id": "a3aK4OMez9Xz",
        "outputId": "cbda1ae7-2adf-47a0-a6d8-24fd7e9efeb2"
      },
      "execution_count": 68,
      "outputs": [
        {
          "output_type": "execute_result",
          "data": {
            "text/plain": [
              "title                    0\n",
              "studio               32304\n",
              "domestic_gross       26545\n",
              "foreign_gross        33649\n",
              "year                 32299\n",
              "release_date          3387\n",
              "budget               29904\n",
              "global_gross         29904\n",
              "genre_ids             9169\n",
              "id                    9169\n",
              "original_language     9169\n",
              "original_title        9169\n",
              "popularity            9169\n",
              "vote_average          9169\n",
              "vote_count            9169\n",
              "dtype: int64"
            ]
          },
          "metadata": {},
          "execution_count": 68
        }
      ]
    },
    {
      "cell_type": "code",
      "source": [
        "total_values = merged_df.size\n",
        "total_missing = merged_df.isna().sum().sum()\n",
        "percent_missing = (total_missing / total_values) * 100\n",
        "print(\"Percentage of missing values in the merged dataframe: {:.2f}%\".format(percent_missing))\n"
      ],
      "metadata": {
        "colab": {
          "base_uri": "https://localhost:8080/",
          "height": 0
        },
        "id": "_8gU_iRK0hdy",
        "outputId": "74dbf63a-d8c2-4033-c784-2783eabbb5f1"
      },
      "execution_count": 69,
      "outputs": [
        {
          "output_type": "stream",
          "name": "stdout",
          "text": [
            "Percentage of missing values in the merged dataframe: 47.11%\n"
          ]
        }
      ]
    },
    {
      "cell_type": "code",
      "source": [
        "column_total_values = merged_df.shape[0]\n",
        "column_total_missing = merged_df.isna().sum()\n",
        "column_percent_missing = (column_total_missing / column_total_values) * 100\n",
        "print(\"Percentage of missing values per column:\\n\")\n",
        "print(column_percent_missing)"
      ],
      "metadata": {
        "colab": {
          "base_uri": "https://localhost:8080/",
          "height": 0
        },
        "id": "eaaz7Lyw01Pw",
        "outputId": "c66ee370-156c-41ac-b21c-297f4e60f2d6"
      },
      "execution_count": 70,
      "outputs": [
        {
          "output_type": "stream",
          "name": "stdout",
          "text": [
            "Percentage of missing values per column:\n",
            "\n",
            "title                 0.000000\n",
            "studio               90.522894\n",
            "domestic_gross       74.384913\n",
            "foreign_gross        94.291879\n",
            "year                 90.508883\n",
            "release_date          9.491117\n",
            "budget               83.797568\n",
            "global_gross         83.797568\n",
            "genre_ids            25.693549\n",
            "id                   25.693549\n",
            "original_language    25.693549\n",
            "original_title       25.693549\n",
            "popularity           25.693549\n",
            "vote_average         25.693549\n",
            "vote_count           25.693549\n",
            "dtype: float64\n"
          ]
        }
      ]
    },
    {
      "cell_type": "code",
      "source": [
        "domestic_gross_by_year = merged_df.groupby('year')['domestic_gross'].sum()\n",
        "domestic_gross_by_year.plot(kind='bar', title='Total Domestic Gross by year')"
      ],
      "metadata": {
        "colab": {
          "base_uri": "https://localhost:8080/",
          "height": 524
        },
        "id": "aR1fd96Q5Asi",
        "outputId": "e76b19f4-54b6-4a87-e221-2db00c237981"
      },
      "execution_count": 71,
      "outputs": [
        {
          "output_type": "execute_result",
          "data": {
            "text/plain": [
              "<Axes: title={'center': 'Total Domestic Gross by year'}, xlabel='year'>"
            ]
          },
          "metadata": {},
          "execution_count": 71
        },
        {
          "output_type": "display_data",
          "data": {
            "text/plain": [
              "<Figure size 640x480 with 1 Axes>"
            ],
            "image/png": "[encoded data removed]"
          },
          "metadata": {}
        }
      ]
    },
    {
      "cell_type": "code",
      "source": [
        "import pandas as pd\n",
        "import matplotlib.pyplot as plt\n",
        "domestic_gross_by_year = merged_df.groupby('year')['domestic_gross'].sum()\n",
        "domestic_gross_by_year.plot(kind='line', title='Domestic Gross by Year')\n",
        "plt.xlabel('Year')\n",
        "plt.ylabel('Domestic Gross')\n",
        "plt.show()"
      ],
      "metadata": {
        "colab": {
          "base_uri": "https://localhost:8080/",
          "height": 472
        },
        "id": "2iqAqr535cHk",
        "outputId": "c2f651c9-029d-422c-8eb2-cd1e0551e91a"
      },
      "execution_count": 72,
      "outputs": [
        {
          "output_type": "display_data",
          "data": {
            "text/plain": [
              "<Figure size 640x480 with 1 Axes>"
            ],
            "image/png": "[encoded data removed]"
          },
          "metadata": {}
        }
      ]
    },
    {
      "cell_type": "code",
      "source": [
        "domestic_gross_by_year = merged_df.groupby('year')['domestic_gross'].sum()\n",
        "domestic_gross_by_year.plot(kind='pie', autopct='%1.1f%%', startangle=90, title='Pie Chart of Domestic Gross by Year')\n",
        "plt.show()"
      ],
      "metadata": {
        "colab": {
          "base_uri": "https://localhost:8080/",
          "height": 428
        },
        "id": "V-q7VKAX6R30",
        "outputId": "a208ba93-326e-4238-e3a4-70b2787ad63a"
      },
      "execution_count": 73,
      "outputs": [
        {
          "output_type": "display_data",
          "data": {
            "text/plain": [
              "<Figure size 640x480 with 1 Axes>"
            ],
            "image/png": "[encoded data removed]"
          },
          "metadata": {}
        }
      ]
    },
    {
      "cell_type": "code",
      "source": [
        "print(merged_df['popularity'].value_counts())"
      ],
      "metadata": {
        "colab": {
          "base_uri": "https://localhost:8080/",
          "height": 0
        },
        "id": "kznBx14i62Zz",
        "outputId": "14cf16c9-513e-4a30-e7a0-f3cc4b8f8769"
      },
      "execution_count": 74,
      "outputs": [
        {
          "output_type": "stream",
          "name": "stdout",
          "text": [
            "0.600    7037\n",
            "1.400     649\n",
            "0.840     587\n",
            "0.624     104\n",
            "0.625      92\n",
            "         ... \n",
            "3.015       1\n",
            "2.998       1\n",
            "2.967       1\n",
            "2.921       1\n",
            "0.607       1\n",
            "Name: popularity, Length: 7425, dtype: int64\n"
          ]
        }
      ]
    },
    {
      "cell_type": "code",
      "source": [
        "print(merged_df['original_language'].value_counts())"
      ],
      "metadata": {
        "colab": {
          "base_uri": "https://localhost:8080/",
          "height": 0
        },
        "id": "oLk75n2M8bKw",
        "outputId": "1dd535f9-6633-478b-ca26-636b2be1a4f9"
      },
      "execution_count": 81,
      "outputs": [
        {
          "output_type": "stream",
          "name": "stdout",
          "text": [
            "en    23291\n",
            "fr      507\n",
            "es      455\n",
            "ru      298\n",
            "ja      265\n",
            "      ...  \n",
            "bo        1\n",
            "si        1\n",
            "sl        1\n",
            "hz        1\n",
            "dz        1\n",
            "Name: original_language, Length: 76, dtype: int64\n"
          ]
        }
      ]
    },
    {
      "cell_type": "markdown",
      "source": [
        "The code merged_df['original_language'].value_counts() is counting the frequency of each unique value in the \"original_language\" column of the merged_df DataFrame and returning a Series object that shows the count for each language.\n",
        "\n",
        "The output shows that there are 23291 movies in English, 507 movies in French, 455 movies in Spanish, 298 movies in Russian, 265 movies in Japanese, and so on for a total of 76 unique languages.\n",
        "\n",
        "The length of the Series is also given as 76, which means there are 76 unique languages in the \"original_language\" column of the DataFrame.\n",
        "\n",
        "This information could be useful for understanding the language distribution of movies in the dataset and can help in analyzing the data based on language."
      ],
      "metadata": {
        "id": "3RPnbuGjyVK5"
      }
    },
    {
      "cell_type": "code",
      "source": [],
      "metadata": {
        "id": "dXyamSLWygYz"
      },
      "execution_count": null,
      "outputs": []
    },
    {
      "cell_type": "code",
      "source": [
        "print(merged_df['studio'].value_counts())"
      ],
      "metadata": {
        "colab": {
          "base_uri": "https://localhost:8080/",
          "height": 0
        },
        "id": "ELgkEK-v7WEH",
        "outputId": "b1f29d55-5d67-4791-e252-9423062df0d2"
      },
      "execution_count": 76,
      "outputs": [
        {
          "output_type": "stream",
          "name": "stdout",
          "text": [
            "IFC           166\n",
            "Uni.          147\n",
            "WB            140\n",
            "Fox           136\n",
            "Magn.         136\n",
            "             ... \n",
            "E1              1\n",
            "PI              1\n",
            "ELS             1\n",
            "PalT            1\n",
            "Synergetic      1\n",
            "Name: studio, Length: 257, dtype: int64\n"
          ]
        }
      ]
    },
    {
      "cell_type": "markdown",
      "source": [
        "The code merged_df['studio'].value_counts() is counting the frequency of each unique value in the \"studio\" column of the merged_df DataFrame and returning a Series object that shows the count for each studio.\n",
        "\n",
        "The output shows that there are 166 movies from IFC, 147 movies from Universal (Uni.), 140 movies from Warner Bros. (WB), 136 movies from Fox and Magnolia Pictures (Magn.) each, and so on for a total of 257 unique studios.\n",
        "\n",
        "The length of the Series is also given as 257, which means there are 257 unique studios in the \"studio\" column of the DataFrame.\n",
        "\n",
        "This information could be useful for understanding the distribution of movies by studio in the dataset, and can help in analyzing the data based on studio."
      ],
      "metadata": {
        "id": "bLCrYZYjzS_2"
      }
    },
    {
      "cell_type": "code",
      "source": [
        "print(merged_df['domestic_gross'].value_counts())"
      ],
      "metadata": {
        "colab": {
          "base_uri": "https://localhost:8080/",
          "height": 0
        },
        "id": "NFQgae7i7qcy",
        "outputId": "878b1b93-160c-400f-c728-5d2dddd03539"
      },
      "execution_count": 78,
      "outputs": [
        {
          "output_type": "stream",
          "name": "stdout",
          "text": [
            "$0             548\n",
            "1100000.0       32\n",
            "1300000.0       30\n",
            "1000000.0       30\n",
            "1200000.0       25\n",
            "              ... \n",
            "$70,098,138      1\n",
            "$71,565,669      1\n",
            "$71,724,497      1\n",
            "$76,223,578      1\n",
            "$181,041         1\n",
            "Name: domestic_gross, Length: 6961, dtype: int64\n"
          ]
        }
      ]
    },
    {
      "cell_type": "code",
      "source": [
        "print(merged_df['year'].value_counts())"
      ],
      "metadata": {
        "colab": {
          "base_uri": "https://localhost:8080/",
          "height": 0
        },
        "id": "N13g7HXv7_s5",
        "outputId": "9e8055a2-6e48-4979-d0eb-3a27b098a6dd"
      },
      "execution_count": 79,
      "outputs": [
        {
          "output_type": "stream",
          "name": "stdout",
          "text": [
            "2015.0    450\n",
            "2016.0    436\n",
            "2012.0    400\n",
            "2011.0    399\n",
            "2014.0    395\n",
            "2013.0    350\n",
            "2010.0    328\n",
            "2017.0    321\n",
            "2018.0    308\n",
            "Name: year, dtype: int64\n"
          ]
        }
      ]
    },
    {
      "cell_type": "code",
      "source": [
        "print(merged_df['release_date'].value_counts())"
      ],
      "metadata": {
        "colab": {
          "base_uri": "https://localhost:8080/",
          "height": 0
        },
        "id": "eveS9KZc8HcX",
        "outputId": "45b11036-2def-420c-ffcd-86cab4a1bef5"
      },
      "execution_count": 80,
      "outputs": [
        {
          "output_type": "stream",
          "name": "stdout",
          "text": [
            "2010-01-01      269\n",
            "2011-01-01      200\n",
            "2012-01-01      155\n",
            "2014-01-01      155\n",
            "2013-01-01      145\n",
            "               ... \n",
            "Jun 17, 1977      1\n",
            "Jul 23, 1993      1\n",
            "Dec 21, 1988      1\n",
            "Dec 9, 1981       1\n",
            "2018-05-26        1\n",
            "Name: release_date, Length: 5851, dtype: int64\n"
          ]
        }
      ]
    },
    {
      "cell_type": "code",
      "source": [
        "print(merged_df['vote_count'].value_counts())"
      ],
      "metadata": {
        "colab": {
          "base_uri": "https://localhost:8080/",
          "height": 0
        },
        "id": "S0oGa-gF8uXa",
        "outputId": "66594e1e-e4fe-42ad-8e43-eb13ec084b34"
      },
      "execution_count": 82,
      "outputs": [
        {
          "output_type": "stream",
          "name": "stdout",
          "text": [
            "1.0       6541\n",
            "2.0       3044\n",
            "3.0       1757\n",
            "4.0       1347\n",
            "5.0        969\n",
            "          ... \n",
            "5785.0       1\n",
            "2279.0       1\n",
            "3981.0       1\n",
            "874.0        1\n",
            "721.0        1\n",
            "Name: vote_count, Length: 1693, dtype: int64\n"
          ]
        }
      ]
    },
    {
      "cell_type": "code",
      "source": [
        "print(merged_df['vote_average'].value_counts())"
      ],
      "metadata": {
        "colab": {
          "base_uri": "https://localhost:8080/",
          "height": 0
        },
        "id": "3cW69UCs80n9",
        "outputId": "cabe85eb-70b2-4a31-ae5e-09134c146c5f"
      },
      "execution_count": 83,
      "outputs": [
        {
          "output_type": "stream",
          "name": "stdout",
          "text": [
            "6.0     1940\n",
            "7.0     1560\n",
            "5.0     1486\n",
            "10.0    1252\n",
            "8.0     1231\n",
            "        ... \n",
            "9.4        6\n",
            "1.2        3\n",
            "1.4        3\n",
            "9.1        2\n",
            "9.7        2\n",
            "Name: vote_average, Length: 91, dtype: int64\n"
          ]
        }
      ]
    },
    {
      "cell_type": "code",
      "source": [
        "# Select the columns for correlation analysis\n",
        "columns_for_corr = ['title', 'studio', 'domestic_gross', 'foreign_gross', 'year', 'release_date', 'genre_ids', 'id', 'original_language', 'original_title', 'popularity', 'vote_average', 'vote_count']\n",
        "\n",
        "# Create a subset of the merged dataframe with only the selected columns\n",
        "corr_df = merged_df[columns_for_corr]\n",
        "\n",
        "# Calculate the correlation matrix\n",
        "corr_matrix = corr_df.corr()\n",
        "\n",
        "# Print the correlation matrix\n",
        "print(corr_matrix)\n"
      ],
      "metadata": {
        "colab": {
          "base_uri": "https://localhost:8080/",
          "height": 0
        },
        "id": "WExq0azy-Ff9",
        "outputId": "bbca8b16-2b10-4343-f1e8-4103270c9e34"
      },
      "execution_count": 85,
      "outputs": [
        {
          "output_type": "stream",
          "name": "stdout",
          "text": [
            "              year        id  popularity  vote_average  vote_count\n",
            "year           1.0       NaN         NaN           NaN         NaN\n",
            "id             NaN  1.000000   -0.148720      0.116085   -0.130221\n",
            "popularity     NaN -0.148720    1.000000      0.065273    0.694849\n",
            "vote_average   NaN  0.116085    0.065273      1.000000    0.086370\n",
            "vote_count     NaN -0.130221    0.694849      0.086370    1.000000\n"
          ]
        }
      ]
    },
    {
      "cell_type": "markdown",
      "source": [
        "The correlation matrix shows the correlation coefficients between pairs of variables in the merged_df dataframe. A correlation coefficient is a value between -1 and 1 that indicates the strength and direction of a linear relationship between two variables.\n",
        "\n",
        "In this case, the matrix shows that:\n",
        "\n",
        "The variable 'year' is not correlated with any other variable in the dataframe.\n",
        "The variable 'id' is weakly negatively correlated with 'popularity' and 'vote_count', meaning that as 'id' increases, 'popularity' and 'vote_count' tend to decrease slightly.\n",
        "The variable 'popularity' is weakly positively correlated with 'vote_count', meaning that as 'popularity' increases, 'vote_count' tends to increase slightly.\n",
        "The variable 'vote_average' is not correlated with any other variable in the dataframe.\n",
        "It's important to note that correlation does not imply causation, and that non-linear relationships and other factors not captured by the variables included in the analysis may affect the results.\n",
        "\n",
        "\n",
        "\n",
        "\n",
        "Regenerate response"
      ],
      "metadata": {
        "id": "awj2q62t-3kh"
      }
    },
    {
      "cell_type": "markdown",
      "source": [
        "Total domestic and foreign gross revenue by year:\n",
        "perl\n",
        "Copy code\n",
        "gross_by_year = pd.pivot_table(merged_df, values=['domestic_gross', 'foreign_gross'], index='year', aggfunc=np.sum)\n",
        "print(gross_by_year)"
      ],
      "metadata": {
        "id": "b4FkxmuaAwyG"
      }
    },
    {
      "cell_type": "code",
      "source": [
        "revenue_and_popularity_by_genre = pd.pivot_table(merged_df, values=['global_gross', 'popularity'], index='genre_ids', aggfunc=[np.sum, np.mean])\n",
        "print(revenue_and_popularity_by_genre)\n"
      ],
      "metadata": {
        "colab": {
          "base_uri": "https://localhost:8080/",
          "height": 0
        },
        "id": "JVwPhfN-BonY",
        "outputId": "e423495b-753e-47c1-fe54-89704772b9aa"
      },
      "execution_count": 89,
      "outputs": [
        {
          "output_type": "stream",
          "name": "stdout",
          "text": [
            "                                     sum       mean\n",
            "                              popularity popularity\n",
            "genre_ids                                          \n",
            "[10402, 10749, 18]                 4.505   2.252500\n",
            "[10402, 10749, 35, 18]            17.953   5.984333\n",
            "[10402, 10749, 35]                 3.066   1.533000\n",
            "[10402, 10749]                    26.268   8.756000\n",
            "[10402, 10751, 14, 10770, 35]      6.454   6.454000\n",
            "...                                  ...        ...\n",
            "[99, 9648]                        11.972   2.993000\n",
            "[99, 99, 99]                       0.600   0.600000\n",
            "[99, 99]                           1.200   0.600000\n",
            "[99]                            4815.026   1.301358\n",
            "[]                              1883.060   0.759605\n",
            "\n",
            "[2477 rows x 2 columns]\n"
          ]
        }
      ]
    },
    {
      "cell_type": "code",
      "source": [
        "global_gross_by_studio_year = pd.pivot_table(merged_df, values=['global_gross'], index=['studio', 'year'], aggfunc=[np.mean, np.sum])\n",
        "print(global_gross_by_studio_year)\n"
      ],
      "metadata": {
        "colab": {
          "base_uri": "https://localhost:8080/",
          "height": 0
        },
        "id": "m5uptHmzB0WT",
        "outputId": "bf92030e-0392-421f-851e-fd07425f52fa"
      },
      "execution_count": 90,
      "outputs": [
        {
          "output_type": "stream",
          "name": "stdout",
          "text": [
            "                       sum\n",
            "              global_gross\n",
            "studio year               \n",
            "3D     2010.0            0\n",
            "A23    2011.0            0\n",
            "       2013.0            0\n",
            "A24    2013.0            0\n",
            "       2014.0            0\n",
            "...                    ...\n",
            "Zeit.  2013.0            0\n",
            "       2014.0            0\n",
            "       2015.0            0\n",
            "       2016.0            0\n",
            "       2017.0            0\n",
            "\n",
            "[742 rows x 1 columns]\n"
          ]
        }
      ]
    }
  ]
}