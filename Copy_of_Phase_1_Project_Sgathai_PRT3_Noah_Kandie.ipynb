{
  "nbformat": 4,
  "nbformat_minor": 0,
  "metadata": {
    "colab": {
      "provenance": [],
      "mount_file_id": "1Pev3EmcX2w-9qJXpX9vBUHtyE3YsJMIr",
      "authorship_tag": "ABX9TyPSqN/e8mwY4kxLy48lHDsJ",
      "include_colab_link": true
    },
    "kernelspec": {
      "name": "python3",
      "display_name": "Python 3"
    },
    "language_info": {
      "name": "python"
    }
  },
  "cells": [
    {
      "cell_type": "markdown",
      "metadata": {
        "id": "view-in-github",
        "colab_type": "text"
      },
      "source": [
        "<a href=\"https://colab.research.google.com/github/sgathai/dsc-data-serialization-lab/blob/master/Copy_of_Phase_1_Project_Sgathai_PRT3_Noah_Kandie.ipynb\" target=\"_parent\"><img src=\"https://colab.research.google.com/assets/colab-badge.svg\" alt=\"Open In Colab\"/></a>"
      ]
    },
    {
      "cell_type": "markdown",
      "source": [
        "\n",
        "Final Project Submission\n",
        "Please fill out:\n",
        "\n",
        "**Student name**: Stephen Gathai\n",
        "\n",
        "**Student pace**: part time \n",
        "\n",
        "**Scheduled project review date/time:**\n",
        "\n",
        "**Instructor name**: Mr. Noah Kandie \n",
        "\n",
        "\n",
        "Blog post URL: \n",
        "\n",
        "\n",
        "\n",
        "# ***Data analysis project on insights of how google should create a new movie studio By Stephen Gathai.***\n",
        "\n",
        "***A.      Introduction;***\n",
        "We have been tasked to undertake this project on how best should google make informed decision on setting of a movie studio.Outlined below find definition of the business problem ,our approaches /goals/objectives ,methodolgies /tools used in our analysis alongside detailed observations ,recommendations and conclusions thereoff.\n",
        "\n",
        "***B.      Business /Understanding Problem***\n",
        "\n",
        "The project will be geared towards helping google make informed decision on how to create a new movie studio .\n",
        "\n",
        "***C.      Key objectives /goals are ;***\n",
        "\n",
        "1.Assist google create a movie studio that will help them grow revenue \n",
        "\n",
        "2.Give insights to google on key areas of addressing/interest/concern as they venture into movie studio business .\n",
        "\n",
        "***D.        Data sets to be used in the analysis *** \n",
        "\n",
        "For this analysis we shall rely on three sets on data as outlined below ;\n",
        "\n",
        " 1.bom.movie_gross.csv.gz  to be refered  as 'data_set_1_bom_df'\n",
        "\n",
        " 2.tn.movie_budgets.csv.gz  to be refered as 'data_set_2_tn_df'\n",
        "\n",
        " 3.'tmdb.movies.csv.gz to be refered as 'data_set_3_tmdb_df'\n",
        "\n",
        " In order to draw objective observation and recommendations thereoff.\n",
        "\n",
        "*** E.    Examples of Analytical tools to be used.***\n",
        "\n",
        "In order to make our analysis and visualizations below tools among others shall be used ;\n",
        "\n",
        "1.Pandas \n",
        "\n",
        "2.Numpy \n",
        "\n",
        "3.Matplotlib\n",
        "\n",
        "4.Seaborns \n",
        "\n",
        "***F.Data understanding,analysis and visualization ***\n",
        "\n",
        "Under this section we shall explore our various datasets as discussed above inorder for us to draw business insights .\n",
        "\n",
        "We shall conduct mutiple analysis and or tests which shall be denoted as \"Working(no.) and or References (no.) where brief remarks shall be indicated on why we decided to have the said tests /analysis .Alongside we shall document a few notes on our observations and or recommendations from the said analysis /tests if need be.\n",
        "\n",
        "\n",
        "\n",
        " \n",
        "\n",
        "\n",
        "\n"
      ],
      "metadata": {
        "id": "zSCmAMhdPgH4"
      }
    },
    {
      "cell_type": "markdown",
      "source": [
        "# 1.Importation of key libraries to be used in our project."
      ],
      "metadata": {
        "id": "erPu8dxPppF0"
      }
    },
    {
      "cell_type": "code",
      "source": [
        "import pandas as pd\n",
        "import numpy as np\n",
        "import matplotlib.pyplot as plt\n",
        "import seaborn as sns\n",
        "%matplotlib inline"
      ],
      "metadata": {
        "id": "L7goylXSqnje"
      },
      "execution_count": 1,
      "outputs": []
    },
    {
      "cell_type": "markdown",
      "source": [
        "**Working with data set** ; \n",
        "\n",
        "(**1.bom.movie_gross.csv.gz to be refered as 'data_set_1_bom_df**) \n",
        "\n",
        "\n",
        "Funtions and attributes to understand our dataset\n",
        "\n",
        "**Working 1 and or reference 1.**"
      ],
      "metadata": {
        "id": "nmS9I6OMqyCz"
      }
    },
    {
      "cell_type": "code",
      "source": [
        "import pandas as pd\n",
        "import numpy as np\n",
        "import matplotlib.pyplot as plt\n",
        "import seaborn as sns\n",
        "%matplotlib inline\n",
        "\n",
        "data_set_1_bom_df=pd.read_csv('bom.movie_gross.csv.gz')\n",
        "data_set_1_bom_df"
      ],
      "metadata": {
        "id": "HcypWeDL5-GX",
        "colab": {
          "base_uri": "https://localhost:8080/",
          "height": 423
        },
        "outputId": "109aa67a-b50d-47da-d3aa-b525af4376bf"
      },
      "execution_count": 2,
      "outputs": [
        {
          "output_type": "execute_result",
          "data": {
            "text/plain": [
              "                                            title      studio  domestic_gross  \\\n",
              "0                                     Toy Story 3          BV     415000000.0   \n",
              "1                      Alice in Wonderland (2010)          BV     334200000.0   \n",
              "2     Harry Potter and the Deathly Hallows Part 1          WB     296000000.0   \n",
              "3                                       Inception          WB     292600000.0   \n",
              "4                             Shrek Forever After        P/DW     238700000.0   \n",
              "...                                           ...         ...             ...   \n",
              "3382                                    The Quake       Magn.          6200.0   \n",
              "3383                  Edward II (2018 re-release)          FM          4800.0   \n",
              "3384                                     El Pacto        Sony          2500.0   \n",
              "3385                                     The Swan  Synergetic          2400.0   \n",
              "3386                            An Actor Prepares       Grav.          1700.0   \n",
              "\n",
              "     foreign_gross  year  \n",
              "0        652000000  2010  \n",
              "1        691300000  2010  \n",
              "2        664300000  2010  \n",
              "3        535700000  2010  \n",
              "4        513900000  2010  \n",
              "...            ...   ...  \n",
              "3382           NaN  2018  \n",
              "3383           NaN  2018  \n",
              "3384           NaN  2018  \n",
              "3385           NaN  2018  \n",
              "3386           NaN  2018  \n",
              "\n",
              "[3387 rows x 5 columns]"
            ],
            "text/html": [
              "\n",
              "  <div id=\"df-2782202b-23c1-4214-8584-6dc8e930bd4d\">\n",
              "    <div class=\"colab-df-container\">\n",
              "      <div>\n",
              "<style scoped>\n",
              "    .dataframe tbody tr th:only-of-type {\n",
              "        vertical-align: middle;\n",
              "    }\n",
              "\n",
              "    .dataframe tbody tr th {\n",
              "        vertical-align: top;\n",
              "    }\n",
              "\n",
              "    .dataframe thead th {\n",
              "        text-align: right;\n",
              "    }\n",
              "</style>\n",
              "<table border=\"1\" class=\"dataframe\">\n",
              "  <thead>\n",
              "    <tr style=\"text-align: right;\">\n",
              "      <th></th>\n",
              "      <th>title</th>\n",
              "      <th>studio</th>\n",
              "      <th>domestic_gross</th>\n",
              "      <th>foreign_gross</th>\n",
              "      <th>year</th>\n",
              "    </tr>\n",
              "  </thead>\n",
              "  <tbody>\n",
              "    <tr>\n",
              "      <th>0</th>\n",
              "      <td>Toy Story 3</td>\n",
              "      <td>BV</td>\n",
              "      <td>415000000.0</td>\n",
              "      <td>652000000</td>\n",
              "      <td>2010</td>\n",
              "    </tr>\n",
              "    <tr>\n",
              "      <th>1</th>\n",
              "      <td>Alice in Wonderland (2010)</td>\n",
              "      <td>BV</td>\n",
              "      <td>334200000.0</td>\n",
              "      <td>691300000</td>\n",
              "      <td>2010</td>\n",
              "    </tr>\n",
              "    <tr>\n",
              "      <th>2</th>\n",
              "      <td>Harry Potter and the Deathly Hallows Part 1</td>\n",
              "      <td>WB</td>\n",
              "      <td>296000000.0</td>\n",
              "      <td>664300000</td>\n",
              "      <td>2010</td>\n",
              "    </tr>\n",
              "    <tr>\n",
              "      <th>3</th>\n",
              "      <td>Inception</td>\n",
              "      <td>WB</td>\n",
              "      <td>292600000.0</td>\n",
              "      <td>535700000</td>\n",
              "      <td>2010</td>\n",
              "    </tr>\n",
              "    <tr>\n",
              "      <th>4</th>\n",
              "      <td>Shrek Forever After</td>\n",
              "      <td>P/DW</td>\n",
              "      <td>238700000.0</td>\n",
              "      <td>513900000</td>\n",
              "      <td>2010</td>\n",
              "    </tr>\n",
              "    <tr>\n",
              "      <th>...</th>\n",
              "      <td>...</td>\n",
              "      <td>...</td>\n",
              "      <td>...</td>\n",
              "      <td>...</td>\n",
              "      <td>...</td>\n",
              "    </tr>\n",
              "    <tr>\n",
              "      <th>3382</th>\n",
              "      <td>The Quake</td>\n",
              "      <td>Magn.</td>\n",
              "      <td>6200.0</td>\n",
              "      <td>NaN</td>\n",
              "      <td>2018</td>\n",
              "    </tr>\n",
              "    <tr>\n",
              "      <th>3383</th>\n",
              "      <td>Edward II (2018 re-release)</td>\n",
              "      <td>FM</td>\n",
              "      <td>4800.0</td>\n",
              "      <td>NaN</td>\n",
              "      <td>2018</td>\n",
              "    </tr>\n",
              "    <tr>\n",
              "      <th>3384</th>\n",
              "      <td>El Pacto</td>\n",
              "      <td>Sony</td>\n",
              "      <td>2500.0</td>\n",
              "      <td>NaN</td>\n",
              "      <td>2018</td>\n",
              "    </tr>\n",
              "    <tr>\n",
              "      <th>3385</th>\n",
              "      <td>The Swan</td>\n",
              "      <td>Synergetic</td>\n",
              "      <td>2400.0</td>\n",
              "      <td>NaN</td>\n",
              "      <td>2018</td>\n",
              "    </tr>\n",
              "    <tr>\n",
              "      <th>3386</th>\n",
              "      <td>An Actor Prepares</td>\n",
              "      <td>Grav.</td>\n",
              "      <td>1700.0</td>\n",
              "      <td>NaN</td>\n",
              "      <td>2018</td>\n",
              "    </tr>\n",
              "  </tbody>\n",
              "</table>\n",
              "<p>3387 rows × 5 columns</p>\n",
              "</div>\n",
              "      <button class=\"colab-df-convert\" onclick=\"convertToInteractive('df-2782202b-23c1-4214-8584-6dc8e930bd4d')\"\n",
              "              title=\"Convert this dataframe to an interactive table.\"\n",
              "              style=\"display:none;\">\n",
              "        \n",
              "  <svg xmlns=\"http://www.w3.org/2000/svg\" height=\"24px\"viewBox=\"0 0 24 24\"\n",
              "       width=\"24px\">\n",
              "    <path d=\"M0 0h24v24H0V0z\" fill=\"none\"/>\n",
              "    <path d=\"M18.56 5.44l.94 2.06.94-2.06 2.06-.94-2.06-.94-.94-2.06-.94 2.06-2.06.94zm-11 1L8.5 8.5l.94-2.06 2.06-.94-2.06-.94L8.5 2.5l-.94 2.06-2.06.94zm10 10l.94 2.06.94-2.06 2.06-.94-2.06-.94-.94-2.06-.94 2.06-2.06.94z\"/><path d=\"M17.41 7.96l-1.37-1.37c-.4-.4-.92-.59-1.43-.59-.52 0-1.04.2-1.43.59L10.3 9.45l-7.72 7.72c-.78.78-.78 2.05 0 2.83L4 21.41c.39.39.9.59 1.41.59.51 0 1.02-.2 1.41-.59l7.78-7.78 2.81-2.81c.8-.78.8-2.07 0-2.86zM5.41 20L4 18.59l7.72-7.72 1.47 1.35L5.41 20z\"/>\n",
              "  </svg>\n",
              "      </button>\n",
              "      \n",
              "  <style>\n",
              "    .colab-df-container {\n",
              "      display:flex;\n",
              "      flex-wrap:wrap;\n",
              "      gap: 12px;\n",
              "    }\n",
              "\n",
              "    .colab-df-convert {\n",
              "      background-color: #E8F0FE;\n",
              "      border: none;\n",
              "      border-radius: 50%;\n",
              "      cursor: pointer;\n",
              "      display: none;\n",
              "      fill: #1967D2;\n",
              "      height: 32px;\n",
              "      padding: 0 0 0 0;\n",
              "      width: 32px;\n",
              "    }\n",
              "\n",
              "    .colab-df-convert:hover {\n",
              "      background-color: #E2EBFA;\n",
              "      box-shadow: 0px 1px 2px rgba(60, 64, 67, 0.3), 0px 1px 3px 1px rgba(60, 64, 67, 0.15);\n",
              "      fill: #174EA6;\n",
              "    }\n",
              "\n",
              "    [theme=dark] .colab-df-convert {\n",
              "      background-color: #3B4455;\n",
              "      fill: #D2E3FC;\n",
              "    }\n",
              "\n",
              "    [theme=dark] .colab-df-convert:hover {\n",
              "      background-color: #434B5C;\n",
              "      box-shadow: 0px 1px 3px 1px rgba(0, 0, 0, 0.15);\n",
              "      filter: drop-shadow(0px 1px 2px rgba(0, 0, 0, 0.3));\n",
              "      fill: #FFFFFF;\n",
              "    }\n",
              "  </style>\n",
              "\n",
              "      <script>\n",
              "        const buttonEl =\n",
              "          document.querySelector('#df-2782202b-23c1-4214-8584-6dc8e930bd4d button.colab-df-convert');\n",
              "        buttonEl.style.display =\n",
              "          google.colab.kernel.accessAllowed ? 'block' : 'none';\n",
              "\n",
              "        async function convertToInteractive(key) {\n",
              "          const element = document.querySelector('#df-2782202b-23c1-4214-8584-6dc8e930bd4d');\n",
              "          const dataTable =\n",
              "            await google.colab.kernel.invokeFunction('convertToInteractive',\n",
              "                                                     [key], {});\n",
              "          if (!dataTable) return;\n",
              "\n",
              "          const docLinkHtml = 'Like what you see? Visit the ' +\n",
              "            '<a target=\"_blank\" href=https://colab.research.google.com/notebooks/data_table.ipynb>data table notebook</a>'\n",
              "            + ' to learn more about interactive tables.';\n",
              "          element.innerHTML = '';\n",
              "          dataTable['output_type'] = 'display_data';\n",
              "          await google.colab.output.renderOutput(dataTable, element);\n",
              "          const docLink = document.createElement('div');\n",
              "          docLink.innerHTML = docLinkHtml;\n",
              "          element.appendChild(docLink);\n",
              "        }\n",
              "      </script>\n",
              "    </div>\n",
              "  </div>\n",
              "  "
            ]
          },
          "metadata": {},
          "execution_count": 2
        }
      ]
    },
    {
      "cell_type": "markdown",
      "source": [
        "**working 2 and or reference 2**\n",
        "\n",
        "**Function to read the first five rows of our data set** \n"
      ],
      "metadata": {
        "id": "ugtRpRmscaF1"
      }
    },
    {
      "cell_type": "code",
      "source": [
        "data_set_1_bom_df.head(5)"
      ],
      "metadata": {
        "id": "ddwZlPUTrKPb",
        "colab": {
          "base_uri": "https://localhost:8080/",
          "height": 206
        },
        "outputId": "2bcaa908-2083-4794-b47f-201475135262"
      },
      "execution_count": 3,
      "outputs": [
        {
          "output_type": "execute_result",
          "data": {
            "text/plain": [
              "                                         title studio  domestic_gross  \\\n",
              "0                                  Toy Story 3     BV     415000000.0   \n",
              "1                   Alice in Wonderland (2010)     BV     334200000.0   \n",
              "2  Harry Potter and the Deathly Hallows Part 1     WB     296000000.0   \n",
              "3                                    Inception     WB     292600000.0   \n",
              "4                          Shrek Forever After   P/DW     238700000.0   \n",
              "\n",
              "  foreign_gross  year  \n",
              "0     652000000  2010  \n",
              "1     691300000  2010  \n",
              "2     664300000  2010  \n",
              "3     535700000  2010  \n",
              "4     513900000  2010  "
            ],
            "text/html": [
              "\n",
              "  <div id=\"df-589ee641-595d-47f7-b8ad-1eaac4b37bc9\">\n",
              "    <div class=\"colab-df-container\">\n",
              "      <div>\n",
              "<style scoped>\n",
              "    .dataframe tbody tr th:only-of-type {\n",
              "        vertical-align: middle;\n",
              "    }\n",
              "\n",
              "    .dataframe tbody tr th {\n",
              "        vertical-align: top;\n",
              "    }\n",
              "\n",
              "    .dataframe thead th {\n",
              "        text-align: right;\n",
              "    }\n",
              "</style>\n",
              "<table border=\"1\" class=\"dataframe\">\n",
              "  <thead>\n",
              "    <tr style=\"text-align: right;\">\n",
              "      <th></th>\n",
              "      <th>title</th>\n",
              "      <th>studio</th>\n",
              "      <th>domestic_gross</th>\n",
              "      <th>foreign_gross</th>\n",
              "      <th>year</th>\n",
              "    </tr>\n",
              "  </thead>\n",
              "  <tbody>\n",
              "    <tr>\n",
              "      <th>0</th>\n",
              "      <td>Toy Story 3</td>\n",
              "      <td>BV</td>\n",
              "      <td>415000000.0</td>\n",
              "      <td>652000000</td>\n",
              "      <td>2010</td>\n",
              "    </tr>\n",
              "    <tr>\n",
              "      <th>1</th>\n",
              "      <td>Alice in Wonderland (2010)</td>\n",
              "      <td>BV</td>\n",
              "      <td>334200000.0</td>\n",
              "      <td>691300000</td>\n",
              "      <td>2010</td>\n",
              "    </tr>\n",
              "    <tr>\n",
              "      <th>2</th>\n",
              "      <td>Harry Potter and the Deathly Hallows Part 1</td>\n",
              "      <td>WB</td>\n",
              "      <td>296000000.0</td>\n",
              "      <td>664300000</td>\n",
              "      <td>2010</td>\n",
              "    </tr>\n",
              "    <tr>\n",
              "      <th>3</th>\n",
              "      <td>Inception</td>\n",
              "      <td>WB</td>\n",
              "      <td>292600000.0</td>\n",
              "      <td>535700000</td>\n",
              "      <td>2010</td>\n",
              "    </tr>\n",
              "    <tr>\n",
              "      <th>4</th>\n",
              "      <td>Shrek Forever After</td>\n",
              "      <td>P/DW</td>\n",
              "      <td>238700000.0</td>\n",
              "      <td>513900000</td>\n",
              "      <td>2010</td>\n",
              "    </tr>\n",
              "  </tbody>\n",
              "</table>\n",
              "</div>\n",
              "      <button class=\"colab-df-convert\" onclick=\"convertToInteractive('df-589ee641-595d-47f7-b8ad-1eaac4b37bc9')\"\n",
              "              title=\"Convert this dataframe to an interactive table.\"\n",
              "              style=\"display:none;\">\n",
              "        \n",
              "  <svg xmlns=\"http://www.w3.org/2000/svg\" height=\"24px\"viewBox=\"0 0 24 24\"\n",
              "       width=\"24px\">\n",
              "    <path d=\"M0 0h24v24H0V0z\" fill=\"none\"/>\n",
              "    <path d=\"M18.56 5.44l.94 2.06.94-2.06 2.06-.94-2.06-.94-.94-2.06-.94 2.06-2.06.94zm-11 1L8.5 8.5l.94-2.06 2.06-.94-2.06-.94L8.5 2.5l-.94 2.06-2.06.94zm10 10l.94 2.06.94-2.06 2.06-.94-2.06-.94-.94-2.06-.94 2.06-2.06.94z\"/><path d=\"M17.41 7.96l-1.37-1.37c-.4-.4-.92-.59-1.43-.59-.52 0-1.04.2-1.43.59L10.3 9.45l-7.72 7.72c-.78.78-.78 2.05 0 2.83L4 21.41c.39.39.9.59 1.41.59.51 0 1.02-.2 1.41-.59l7.78-7.78 2.81-2.81c.8-.78.8-2.07 0-2.86zM5.41 20L4 18.59l7.72-7.72 1.47 1.35L5.41 20z\"/>\n",
              "  </svg>\n",
              "      </button>\n",
              "      \n",
              "  <style>\n",
              "    .colab-df-container {\n",
              "      display:flex;\n",
              "      flex-wrap:wrap;\n",
              "      gap: 12px;\n",
              "    }\n",
              "\n",
              "    .colab-df-convert {\n",
              "      background-color: #E8F0FE;\n",
              "      border: none;\n",
              "      border-radius: 50%;\n",
              "      cursor: pointer;\n",
              "      display: none;\n",
              "      fill: #1967D2;\n",
              "      height: 32px;\n",
              "      padding: 0 0 0 0;\n",
              "      width: 32px;\n",
              "    }\n",
              "\n",
              "    .colab-df-convert:hover {\n",
              "      background-color: #E2EBFA;\n",
              "      box-shadow: 0px 1px 2px rgba(60, 64, 67, 0.3), 0px 1px 3px 1px rgba(60, 64, 67, 0.15);\n",
              "      fill: #174EA6;\n",
              "    }\n",
              "\n",
              "    [theme=dark] .colab-df-convert {\n",
              "      background-color: #3B4455;\n",
              "      fill: #D2E3FC;\n",
              "    }\n",
              "\n",
              "    [theme=dark] .colab-df-convert:hover {\n",
              "      background-color: #434B5C;\n",
              "      box-shadow: 0px 1px 3px 1px rgba(0, 0, 0, 0.15);\n",
              "      filter: drop-shadow(0px 1px 2px rgba(0, 0, 0, 0.3));\n",
              "      fill: #FFFFFF;\n",
              "    }\n",
              "  </style>\n",
              "\n",
              "      <script>\n",
              "        const buttonEl =\n",
              "          document.querySelector('#df-589ee641-595d-47f7-b8ad-1eaac4b37bc9 button.colab-df-convert');\n",
              "        buttonEl.style.display =\n",
              "          google.colab.kernel.accessAllowed ? 'block' : 'none';\n",
              "\n",
              "        async function convertToInteractive(key) {\n",
              "          const element = document.querySelector('#df-589ee641-595d-47f7-b8ad-1eaac4b37bc9');\n",
              "          const dataTable =\n",
              "            await google.colab.kernel.invokeFunction('convertToInteractive',\n",
              "                                                     [key], {});\n",
              "          if (!dataTable) return;\n",
              "\n",
              "          const docLinkHtml = 'Like what you see? Visit the ' +\n",
              "            '<a target=\"_blank\" href=https://colab.research.google.com/notebooks/data_table.ipynb>data table notebook</a>'\n",
              "            + ' to learn more about interactive tables.';\n",
              "          element.innerHTML = '';\n",
              "          dataTable['output_type'] = 'display_data';\n",
              "          await google.colab.output.renderOutput(dataTable, element);\n",
              "          const docLink = document.createElement('div');\n",
              "          docLink.innerHTML = docLinkHtml;\n",
              "          element.appendChild(docLink);\n",
              "        }\n",
              "      </script>\n",
              "    </div>\n",
              "  </div>\n",
              "  "
            ]
          },
          "metadata": {},
          "execution_count": 3
        }
      ]
    },
    {
      "cell_type": "markdown",
      "source": [
        "**Working 3 and or reference 3**\n",
        "\n",
        "**Data shape**"
      ],
      "metadata": {
        "id": "83kwAI-XdhRe"
      }
    },
    {
      "cell_type": "code",
      "source": [
        "data_set_1_bom_df.shape"
      ],
      "metadata": {
        "colab": {
          "base_uri": "https://localhost:8080/",
          "height": 0
        },
        "id": "NG07hWC2eiHA",
        "outputId": "9ca80eb1-f958-49c6-efec-232031ecb862"
      },
      "execution_count": 4,
      "outputs": [
        {
          "output_type": "execute_result",
          "data": {
            "text/plain": [
              "(3387, 5)"
            ]
          },
          "metadata": {},
          "execution_count": 4
        }
      ]
    },
    {
      "cell_type": "markdown",
      "source": [
        "Interpretation of df.shape_Our data set contains 3,387 rows and 5 columns\n"
      ],
      "metadata": {
        "id": "fT6I5hf7euzV"
      }
    },
    {
      "cell_type": "markdown",
      "source": [
        "**working 4 and or reference 4**\n",
        "\n",
        " **Name of columns **."
      ],
      "metadata": {
        "id": "rBkO1Ky4fLw3"
      }
    },
    {
      "cell_type": "code",
      "source": [
        "data_set_1_bom_df.columns"
      ],
      "metadata": {
        "colab": {
          "base_uri": "https://localhost:8080/",
          "height": 0
        },
        "id": "cU2nEeShfYRd",
        "outputId": "38787960-e0d7-485a-9a34-8d5918f5e16b"
      },
      "execution_count": 5,
      "outputs": [
        {
          "output_type": "execute_result",
          "data": {
            "text/plain": [
              "Index(['title', 'studio', 'domestic_gross', 'foreign_gross', 'year'], dtype='object')"
            ]
          },
          "metadata": {},
          "execution_count": 5
        }
      ]
    },
    {
      "cell_type": "markdown",
      "source": [
        "**Working 5 and or references 5.**\n",
        "\n",
        "**Data info**"
      ],
      "metadata": {
        "id": "YZ0-g6sgfo_6"
      }
    },
    {
      "cell_type": "code",
      "source": [
        "data_set_1_bom_df.info()"
      ],
      "metadata": {
        "colab": {
          "base_uri": "https://localhost:8080/",
          "height": 0
        },
        "id": "FkSSYQ9Ff3Vn",
        "outputId": "f590b232-c905-4022-874a-53c69ff0fd26"
      },
      "execution_count": 6,
      "outputs": [
        {
          "output_type": "stream",
          "name": "stdout",
          "text": [
            "<class 'pandas.core.frame.DataFrame'>\n",
            "RangeIndex: 3387 entries, 0 to 3386\n",
            "Data columns (total 5 columns):\n",
            " #   Column          Non-Null Count  Dtype  \n",
            "---  ------          --------------  -----  \n",
            " 0   title           3387 non-null   object \n",
            " 1   studio          3382 non-null   object \n",
            " 2   domestic_gross  3359 non-null   float64\n",
            " 3   foreign_gross   2037 non-null   object \n",
            " 4   year            3387 non-null   int64  \n",
            "dtypes: float64(1), int64(1), object(3)\n",
            "memory usage: 132.4+ KB\n"
          ]
        }
      ]
    },
    {
      "cell_type": "markdown",
      "source": [
        "Intrepretation of Data info_There are five columns where 3 are objects ,1 float and 1 interger ."
      ],
      "metadata": {
        "id": "AMLCgADAgTcc"
      }
    },
    {
      "cell_type": "markdown",
      "source": [
        "**Working 6 and or reference 6**\n",
        "\n",
        "**Checking on descriptive measures.**"
      ],
      "metadata": {
        "id": "6fd8rh1Dglx1"
      }
    },
    {
      "cell_type": "code",
      "source": [
        "data_set_1_bom_df.describe()"
      ],
      "metadata": {
        "colab": {
          "base_uri": "https://localhost:8080/",
          "height": 300
        },
        "id": "AsK5XTRSg5xF",
        "outputId": "f9339ef8-5791-403e-cdcd-3fa3bc1938f4"
      },
      "execution_count": 7,
      "outputs": [
        {
          "output_type": "execute_result",
          "data": {
            "text/plain": [
              "       domestic_gross         year\n",
              "count    3.359000e+03  3387.000000\n",
              "mean     2.874585e+07  2013.958075\n",
              "std      6.698250e+07     2.478141\n",
              "min      1.000000e+02  2010.000000\n",
              "25%      1.200000e+05  2012.000000\n",
              "50%      1.400000e+06  2014.000000\n",
              "75%      2.790000e+07  2016.000000\n",
              "max      9.367000e+08  2018.000000"
            ],
            "text/html": [
              "\n",
              "  <div id=\"df-4407e9d2-9268-44ee-b052-f876beedc5f1\">\n",
              "    <div class=\"colab-df-container\">\n",
              "      <div>\n",
              "<style scoped>\n",
              "    .dataframe tbody tr th:only-of-type {\n",
              "        vertical-align: middle;\n",
              "    }\n",
              "\n",
              "    .dataframe tbody tr th {\n",
              "        vertical-align: top;\n",
              "    }\n",
              "\n",
              "    .dataframe thead th {\n",
              "        text-align: right;\n",
              "    }\n",
              "</style>\n",
              "<table border=\"1\" class=\"dataframe\">\n",
              "  <thead>\n",
              "    <tr style=\"text-align: right;\">\n",
              "      <th></th>\n",
              "      <th>domestic_gross</th>\n",
              "      <th>year</th>\n",
              "    </tr>\n",
              "  </thead>\n",
              "  <tbody>\n",
              "    <tr>\n",
              "      <th>count</th>\n",
              "      <td>3.359000e+03</td>\n",
              "      <td>3387.000000</td>\n",
              "    </tr>\n",
              "    <tr>\n",
              "      <th>mean</th>\n",
              "      <td>2.874585e+07</td>\n",
              "      <td>2013.958075</td>\n",
              "    </tr>\n",
              "    <tr>\n",
              "      <th>std</th>\n",
              "      <td>6.698250e+07</td>\n",
              "      <td>2.478141</td>\n",
              "    </tr>\n",
              "    <tr>\n",
              "      <th>min</th>\n",
              "      <td>1.000000e+02</td>\n",
              "      <td>2010.000000</td>\n",
              "    </tr>\n",
              "    <tr>\n",
              "      <th>25%</th>\n",
              "      <td>1.200000e+05</td>\n",
              "      <td>2012.000000</td>\n",
              "    </tr>\n",
              "    <tr>\n",
              "      <th>50%</th>\n",
              "      <td>1.400000e+06</td>\n",
              "      <td>2014.000000</td>\n",
              "    </tr>\n",
              "    <tr>\n",
              "      <th>75%</th>\n",
              "      <td>2.790000e+07</td>\n",
              "      <td>2016.000000</td>\n",
              "    </tr>\n",
              "    <tr>\n",
              "      <th>max</th>\n",
              "      <td>9.367000e+08</td>\n",
              "      <td>2018.000000</td>\n",
              "    </tr>\n",
              "  </tbody>\n",
              "</table>\n",
              "</div>\n",
              "      <button class=\"colab-df-convert\" onclick=\"convertToInteractive('df-4407e9d2-9268-44ee-b052-f876beedc5f1')\"\n",
              "              title=\"Convert this dataframe to an interactive table.\"\n",
              "              style=\"display:none;\">\n",
              "        \n",
              "  <svg xmlns=\"http://www.w3.org/2000/svg\" height=\"24px\"viewBox=\"0 0 24 24\"\n",
              "       width=\"24px\">\n",
              "    <path d=\"M0 0h24v24H0V0z\" fill=\"none\"/>\n",
              "    <path d=\"M18.56 5.44l.94 2.06.94-2.06 2.06-.94-2.06-.94-.94-2.06-.94 2.06-2.06.94zm-11 1L8.5 8.5l.94-2.06 2.06-.94-2.06-.94L8.5 2.5l-.94 2.06-2.06.94zm10 10l.94 2.06.94-2.06 2.06-.94-2.06-.94-.94-2.06-.94 2.06-2.06.94z\"/><path d=\"M17.41 7.96l-1.37-1.37c-.4-.4-.92-.59-1.43-.59-.52 0-1.04.2-1.43.59L10.3 9.45l-7.72 7.72c-.78.78-.78 2.05 0 2.83L4 21.41c.39.39.9.59 1.41.59.51 0 1.02-.2 1.41-.59l7.78-7.78 2.81-2.81c.8-.78.8-2.07 0-2.86zM5.41 20L4 18.59l7.72-7.72 1.47 1.35L5.41 20z\"/>\n",
              "  </svg>\n",
              "      </button>\n",
              "      \n",
              "  <style>\n",
              "    .colab-df-container {\n",
              "      display:flex;\n",
              "      flex-wrap:wrap;\n",
              "      gap: 12px;\n",
              "    }\n",
              "\n",
              "    .colab-df-convert {\n",
              "      background-color: #E8F0FE;\n",
              "      border: none;\n",
              "      border-radius: 50%;\n",
              "      cursor: pointer;\n",
              "      display: none;\n",
              "      fill: #1967D2;\n",
              "      height: 32px;\n",
              "      padding: 0 0 0 0;\n",
              "      width: 32px;\n",
              "    }\n",
              "\n",
              "    .colab-df-convert:hover {\n",
              "      background-color: #E2EBFA;\n",
              "      box-shadow: 0px 1px 2px rgba(60, 64, 67, 0.3), 0px 1px 3px 1px rgba(60, 64, 67, 0.15);\n",
              "      fill: #174EA6;\n",
              "    }\n",
              "\n",
              "    [theme=dark] .colab-df-convert {\n",
              "      background-color: #3B4455;\n",
              "      fill: #D2E3FC;\n",
              "    }\n",
              "\n",
              "    [theme=dark] .colab-df-convert:hover {\n",
              "      background-color: #434B5C;\n",
              "      box-shadow: 0px 1px 3px 1px rgba(0, 0, 0, 0.15);\n",
              "      filter: drop-shadow(0px 1px 2px rgba(0, 0, 0, 0.3));\n",
              "      fill: #FFFFFF;\n",
              "    }\n",
              "  </style>\n",
              "\n",
              "      <script>\n",
              "        const buttonEl =\n",
              "          document.querySelector('#df-4407e9d2-9268-44ee-b052-f876beedc5f1 button.colab-df-convert');\n",
              "        buttonEl.style.display =\n",
              "          google.colab.kernel.accessAllowed ? 'block' : 'none';\n",
              "\n",
              "        async function convertToInteractive(key) {\n",
              "          const element = document.querySelector('#df-4407e9d2-9268-44ee-b052-f876beedc5f1');\n",
              "          const dataTable =\n",
              "            await google.colab.kernel.invokeFunction('convertToInteractive',\n",
              "                                                     [key], {});\n",
              "          if (!dataTable) return;\n",
              "\n",
              "          const docLinkHtml = 'Like what you see? Visit the ' +\n",
              "            '<a target=\"_blank\" href=https://colab.research.google.com/notebooks/data_table.ipynb>data table notebook</a>'\n",
              "            + ' to learn more about interactive tables.';\n",
              "          element.innerHTML = '';\n",
              "          dataTable['output_type'] = 'display_data';\n",
              "          await google.colab.output.renderOutput(dataTable, element);\n",
              "          const docLink = document.createElement('div');\n",
              "          docLink.innerHTML = docLinkHtml;\n",
              "          element.appendChild(docLink);\n",
              "        }\n",
              "      </script>\n",
              "    </div>\n",
              "  </div>\n",
              "  "
            ]
          },
          "metadata": {},
          "execution_count": 7
        }
      ]
    },
    {
      "cell_type": "markdown",
      "source": [
        "**Working 7 and or reference 7.**\n",
        "\n",
        "**A view of the last 5 rows of our data .**"
      ],
      "metadata": {
        "id": "ujGrwIEDhUs9"
      }
    },
    {
      "cell_type": "code",
      "source": [
        "data_set_1_bom_df.tail(5)"
      ],
      "metadata": {
        "colab": {
          "base_uri": "https://localhost:8080/",
          "height": 206
        },
        "id": "av-Cobf1ho06",
        "outputId": "f16994f3-ac32-41b0-beb9-b04914e2d7b1"
      },
      "execution_count": 8,
      "outputs": [
        {
          "output_type": "execute_result",
          "data": {
            "text/plain": [
              "                            title      studio  domestic_gross foreign_gross  \\\n",
              "3382                    The Quake       Magn.          6200.0           NaN   \n",
              "3383  Edward II (2018 re-release)          FM          4800.0           NaN   \n",
              "3384                     El Pacto        Sony          2500.0           NaN   \n",
              "3385                     The Swan  Synergetic          2400.0           NaN   \n",
              "3386            An Actor Prepares       Grav.          1700.0           NaN   \n",
              "\n",
              "      year  \n",
              "3382  2018  \n",
              "3383  2018  \n",
              "3384  2018  \n",
              "3385  2018  \n",
              "3386  2018  "
            ],
            "text/html": [
              "\n",
              "  <div id=\"df-4fadba96-d5e7-42de-993f-2f558eeaa19e\">\n",
              "    <div class=\"colab-df-container\">\n",
              "      <div>\n",
              "<style scoped>\n",
              "    .dataframe tbody tr th:only-of-type {\n",
              "        vertical-align: middle;\n",
              "    }\n",
              "\n",
              "    .dataframe tbody tr th {\n",
              "        vertical-align: top;\n",
              "    }\n",
              "\n",
              "    .dataframe thead th {\n",
              "        text-align: right;\n",
              "    }\n",
              "</style>\n",
              "<table border=\"1\" class=\"dataframe\">\n",
              "  <thead>\n",
              "    <tr style=\"text-align: right;\">\n",
              "      <th></th>\n",
              "      <th>title</th>\n",
              "      <th>studio</th>\n",
              "      <th>domestic_gross</th>\n",
              "      <th>foreign_gross</th>\n",
              "      <th>year</th>\n",
              "    </tr>\n",
              "  </thead>\n",
              "  <tbody>\n",
              "    <tr>\n",
              "      <th>3382</th>\n",
              "      <td>The Quake</td>\n",
              "      <td>Magn.</td>\n",
              "      <td>6200.0</td>\n",
              "      <td>NaN</td>\n",
              "      <td>2018</td>\n",
              "    </tr>\n",
              "    <tr>\n",
              "      <th>3383</th>\n",
              "      <td>Edward II (2018 re-release)</td>\n",
              "      <td>FM</td>\n",
              "      <td>4800.0</td>\n",
              "      <td>NaN</td>\n",
              "      <td>2018</td>\n",
              "    </tr>\n",
              "    <tr>\n",
              "      <th>3384</th>\n",
              "      <td>El Pacto</td>\n",
              "      <td>Sony</td>\n",
              "      <td>2500.0</td>\n",
              "      <td>NaN</td>\n",
              "      <td>2018</td>\n",
              "    </tr>\n",
              "    <tr>\n",
              "      <th>3385</th>\n",
              "      <td>The Swan</td>\n",
              "      <td>Synergetic</td>\n",
              "      <td>2400.0</td>\n",
              "      <td>NaN</td>\n",
              "      <td>2018</td>\n",
              "    </tr>\n",
              "    <tr>\n",
              "      <th>3386</th>\n",
              "      <td>An Actor Prepares</td>\n",
              "      <td>Grav.</td>\n",
              "      <td>1700.0</td>\n",
              "      <td>NaN</td>\n",
              "      <td>2018</td>\n",
              "    </tr>\n",
              "  </tbody>\n",
              "</table>\n",
              "</div>\n",
              "      <button class=\"colab-df-convert\" onclick=\"convertToInteractive('df-4fadba96-d5e7-42de-993f-2f558eeaa19e')\"\n",
              "              title=\"Convert this dataframe to an interactive table.\"\n",
              "              style=\"display:none;\">\n",
              "        \n",
              "  <svg xmlns=\"http://www.w3.org/2000/svg\" height=\"24px\"viewBox=\"0 0 24 24\"\n",
              "       width=\"24px\">\n",
              "    <path d=\"M0 0h24v24H0V0z\" fill=\"none\"/>\n",
              "    <path d=\"M18.56 5.44l.94 2.06.94-2.06 2.06-.94-2.06-.94-.94-2.06-.94 2.06-2.06.94zm-11 1L8.5 8.5l.94-2.06 2.06-.94-2.06-.94L8.5 2.5l-.94 2.06-2.06.94zm10 10l.94 2.06.94-2.06 2.06-.94-2.06-.94-.94-2.06-.94 2.06-2.06.94z\"/><path d=\"M17.41 7.96l-1.37-1.37c-.4-.4-.92-.59-1.43-.59-.52 0-1.04.2-1.43.59L10.3 9.45l-7.72 7.72c-.78.78-.78 2.05 0 2.83L4 21.41c.39.39.9.59 1.41.59.51 0 1.02-.2 1.41-.59l7.78-7.78 2.81-2.81c.8-.78.8-2.07 0-2.86zM5.41 20L4 18.59l7.72-7.72 1.47 1.35L5.41 20z\"/>\n",
              "  </svg>\n",
              "      </button>\n",
              "      \n",
              "  <style>\n",
              "    .colab-df-container {\n",
              "      display:flex;\n",
              "      flex-wrap:wrap;\n",
              "      gap: 12px;\n",
              "    }\n",
              "\n",
              "    .colab-df-convert {\n",
              "      background-color: #E8F0FE;\n",
              "      border: none;\n",
              "      border-radius: 50%;\n",
              "      cursor: pointer;\n",
              "      display: none;\n",
              "      fill: #1967D2;\n",
              "      height: 32px;\n",
              "      padding: 0 0 0 0;\n",
              "      width: 32px;\n",
              "    }\n",
              "\n",
              "    .colab-df-convert:hover {\n",
              "      background-color: #E2EBFA;\n",
              "      box-shadow: 0px 1px 2px rgba(60, 64, 67, 0.3), 0px 1px 3px 1px rgba(60, 64, 67, 0.15);\n",
              "      fill: #174EA6;\n",
              "    }\n",
              "\n",
              "    [theme=dark] .colab-df-convert {\n",
              "      background-color: #3B4455;\n",
              "      fill: #D2E3FC;\n",
              "    }\n",
              "\n",
              "    [theme=dark] .colab-df-convert:hover {\n",
              "      background-color: #434B5C;\n",
              "      box-shadow: 0px 1px 3px 1px rgba(0, 0, 0, 0.15);\n",
              "      filter: drop-shadow(0px 1px 2px rgba(0, 0, 0, 0.3));\n",
              "      fill: #FFFFFF;\n",
              "    }\n",
              "  </style>\n",
              "\n",
              "      <script>\n",
              "        const buttonEl =\n",
              "          document.querySelector('#df-4fadba96-d5e7-42de-993f-2f558eeaa19e button.colab-df-convert');\n",
              "        buttonEl.style.display =\n",
              "          google.colab.kernel.accessAllowed ? 'block' : 'none';\n",
              "\n",
              "        async function convertToInteractive(key) {\n",
              "          const element = document.querySelector('#df-4fadba96-d5e7-42de-993f-2f558eeaa19e');\n",
              "          const dataTable =\n",
              "            await google.colab.kernel.invokeFunction('convertToInteractive',\n",
              "                                                     [key], {});\n",
              "          if (!dataTable) return;\n",
              "\n",
              "          const docLinkHtml = 'Like what you see? Visit the ' +\n",
              "            '<a target=\"_blank\" href=https://colab.research.google.com/notebooks/data_table.ipynb>data table notebook</a>'\n",
              "            + ' to learn more about interactive tables.';\n",
              "          element.innerHTML = '';\n",
              "          dataTable['output_type'] = 'display_data';\n",
              "          await google.colab.output.renderOutput(dataTable, element);\n",
              "          const docLink = document.createElement('div');\n",
              "          docLink.innerHTML = docLinkHtml;\n",
              "          element.appendChild(docLink);\n",
              "        }\n",
              "      </script>\n",
              "    </div>\n",
              "  </div>\n",
              "  "
            ]
          },
          "metadata": {},
          "execution_count": 8
        }
      ]
    },
    {
      "cell_type": "markdown",
      "source": [
        "**Working 8 and or reference 8**\n",
        "\n",
        "**To understand columns with missing data**\n"
      ],
      "metadata": {
        "id": "gCP95b06ijmo"
      }
    },
    {
      "cell_type": "code",
      "source": [
        "data_set_1_bom_df.isna().sum()"
      ],
      "metadata": {
        "colab": {
          "base_uri": "https://localhost:8080/",
          "height": 0
        },
        "id": "DNHnwLHHizPd",
        "outputId": "b27ea83a-79c3-407a-acef-d1203adf697f"
      },
      "execution_count": 9,
      "outputs": [
        {
          "output_type": "execute_result",
          "data": {
            "text/plain": [
              "title                0\n",
              "studio               5\n",
              "domestic_gross      28\n",
              "foreign_gross     1350\n",
              "year                 0\n",
              "dtype: int64"
            ]
          },
          "metadata": {},
          "execution_count": 9
        }
      ]
    },
    {
      "cell_type": "markdown",
      "source": [
        "**Interpretation of results on columns with missing data. **\n",
        "\n",
        "1.For studio column there are only five rows with missing data 2.For domestic_gross column there are total of 28 rows with missing data 3.For foreign_gross column there are a total of 1350 rows with missing data and thus this column may not be very dependable for data anlaysis and sound decision making."
      ],
      "metadata": {
        "id": "BP-WLkSXjERm"
      }
    },
    {
      "cell_type": "markdown",
      "source": [
        "From the results of working 8 and or reference 8 we need to do ***data cleaning*** .\n",
        "\n",
        "1.We will drop the empty rows with missing data on 'studio'.The rows to be dropped are only 5/3387 and thus it won't affect the data set materialily.\n",
        "\n",
        "2.We will drop the empty rows with missing data on 'domestic_gross'.The rows to be dropped are only 28/3387 and thus it won't affect the data set materialily.\n",
        "\n",
        "3.We will retain the rows with missing data on column'foreign_gross'.Dropping 1350/3387 rows may affect the data and thus our  retention decision."
      ],
      "metadata": {
        "id": "nSUYAJVWjVfA"
      }
    },
    {
      "cell_type": "markdown",
      "source": [
        "**Working 9 and or reference 9.**\n",
        "\n",
        "**Dropping of columns with missing data.**"
      ],
      "metadata": {
        "id": "NmY0jtRlmYEt"
      }
    },
    {
      "cell_type": "code",
      "source": [
        "data_set_1_bom_df.dropna(subset=['domestic_gross'], inplace=True)\n",
        "print(data_set_1_bom_df)"
      ],
      "metadata": {
        "colab": {
          "base_uri": "https://localhost:8080/",
          "height": 0
        },
        "id": "0hJbP2JnmjNH",
        "outputId": "24beea12-1d07-4f0b-bb94-79133e4f8780"
      },
      "execution_count": 10,
      "outputs": [
        {
          "output_type": "stream",
          "name": "stdout",
          "text": [
            "                                            title      studio  domestic_gross  \\\n",
            "0                                     Toy Story 3          BV     415000000.0   \n",
            "1                      Alice in Wonderland (2010)          BV     334200000.0   \n",
            "2     Harry Potter and the Deathly Hallows Part 1          WB     296000000.0   \n",
            "3                                       Inception          WB     292600000.0   \n",
            "4                             Shrek Forever After        P/DW     238700000.0   \n",
            "...                                           ...         ...             ...   \n",
            "3382                                    The Quake       Magn.          6200.0   \n",
            "3383                  Edward II (2018 re-release)          FM          4800.0   \n",
            "3384                                     El Pacto        Sony          2500.0   \n",
            "3385                                     The Swan  Synergetic          2400.0   \n",
            "3386                            An Actor Prepares       Grav.          1700.0   \n",
            "\n",
            "     foreign_gross  year  \n",
            "0        652000000  2010  \n",
            "1        691300000  2010  \n",
            "2        664300000  2010  \n",
            "3        535700000  2010  \n",
            "4        513900000  2010  \n",
            "...            ...   ...  \n",
            "3382           NaN  2018  \n",
            "3383           NaN  2018  \n",
            "3384           NaN  2018  \n",
            "3385           NaN  2018  \n",
            "3386           NaN  2018  \n",
            "\n",
            "[3359 rows x 5 columns]\n"
          ]
        }
      ]
    },
    {
      "cell_type": "code",
      "source": [
        "data_set_1_bom_df.dropna(subset=['studio'], inplace=True)\n",
        "print(data_set_1_bom_df)"
      ],
      "metadata": {
        "colab": {
          "base_uri": "https://localhost:8080/",
          "height": 0
        },
        "id": "-iDfz5vdmxPi",
        "outputId": "498ae345-603b-4772-c0a8-cfe4b429aedb"
      },
      "execution_count": 11,
      "outputs": [
        {
          "output_type": "stream",
          "name": "stdout",
          "text": [
            "                                            title      studio  domestic_gross  \\\n",
            "0                                     Toy Story 3          BV     415000000.0   \n",
            "1                      Alice in Wonderland (2010)          BV     334200000.0   \n",
            "2     Harry Potter and the Deathly Hallows Part 1          WB     296000000.0   \n",
            "3                                       Inception          WB     292600000.0   \n",
            "4                             Shrek Forever After        P/DW     238700000.0   \n",
            "...                                           ...         ...             ...   \n",
            "3382                                    The Quake       Magn.          6200.0   \n",
            "3383                  Edward II (2018 re-release)          FM          4800.0   \n",
            "3384                                     El Pacto        Sony          2500.0   \n",
            "3385                                     The Swan  Synergetic          2400.0   \n",
            "3386                            An Actor Prepares       Grav.          1700.0   \n",
            "\n",
            "     foreign_gross  year  \n",
            "0        652000000  2010  \n",
            "1        691300000  2010  \n",
            "2        664300000  2010  \n",
            "3        535700000  2010  \n",
            "4        513900000  2010  \n",
            "...            ...   ...  \n",
            "3382           NaN  2018  \n",
            "3383           NaN  2018  \n",
            "3384           NaN  2018  \n",
            "3385           NaN  2018  \n",
            "3386           NaN  2018  \n",
            "\n",
            "[3356 rows x 5 columns]\n"
          ]
        }
      ]
    },
    {
      "cell_type": "markdown",
      "source": [
        "**Working 10 and or Reference 10.**\n",
        "\n",
        "**Testing if columns with missing data on columns 'domestic_gross' and 'studio' were dropped successively.** "
      ],
      "metadata": {
        "id": "GAfRYXYvoFsu"
      }
    },
    {
      "cell_type": "code",
      "source": [
        "data_set_1_bom_df.isna().sum()"
      ],
      "metadata": {
        "colab": {
          "base_uri": "https://localhost:8080/",
          "height": 0
        },
        "id": "zT3oA-bEo7j5",
        "outputId": "2ebc4690-f496-4f0d-8758-ad4a5314870c"
      },
      "execution_count": 12,
      "outputs": [
        {
          "output_type": "execute_result",
          "data": {
            "text/plain": [
              "title                0\n",
              "studio               0\n",
              "domestic_gross       0\n",
              "foreign_gross     1349\n",
              "year                 0\n",
              "dtype: int64"
            ]
          },
          "metadata": {},
          "execution_count": 12
        }
      ]
    },
    {
      "cell_type": "code",
      "source": [
        "data_set_1_bom_df.shape"
      ],
      "metadata": {
        "colab": {
          "base_uri": "https://localhost:8080/",
          "height": 0
        },
        "id": "WSsSK8vGpENj",
        "outputId": "5debb3d5-76ff-42bd-9314-2ee69d31bda2"
      },
      "execution_count": 13,
      "outputs": [
        {
          "output_type": "execute_result",
          "data": {
            "text/plain": [
              "(3356, 5)"
            ]
          },
          "metadata": {},
          "execution_count": 13
        }
      ]
    },
    {
      "cell_type": "markdown",
      "source": [
        "The rows with missing data on columns 'studio' and domestic_gross were successively dropped .The total number of rows reduced from 3,387 to 3,356."
      ],
      "metadata": {
        "id": "jjeckx1_pM2V"
      }
    },
    {
      "cell_type": "markdown",
      "source": [
        "# **Data analysis and Visualizations.**"
      ],
      "metadata": {
        "id": "CZG5MwyfqGpy"
      }
    },
    {
      "cell_type": "markdown",
      "source": [
        "**Working 11 and or Reference 11**\n",
        "\n",
        "**Grouping data by year in order to view the performance per year.**"
      ],
      "metadata": {
        "id": "WkMlafawqYbt"
      }
    },
    {
      "cell_type": "markdown",
      "source": [
        "**(a)table on year and data**"
      ],
      "metadata": {
        "id": "fMPU0mtuqVI_"
      }
    },
    {
      "cell_type": "code",
      "source": [
        "data_set_1_bom_df.groupby('year').sum()"
      ],
      "metadata": {
        "colab": {
          "base_uri": "https://localhost:8080/",
          "height": 419
        },
        "id": "Xj8HWBtprLVa",
        "outputId": "9d0bbf50-a4f0-4a0c-c221-c7a82455f480"
      },
      "execution_count": 14,
      "outputs": [
        {
          "output_type": "stream",
          "name": "stderr",
          "text": [
            "<ipython-input-14-6d2ccc272f27>:1: FutureWarning: The default value of numeric_only in DataFrameGroupBy.sum is deprecated. In a future version, numeric_only will default to False. Either specify numeric_only or select only columns which should be valid for the function.\n",
            "  data_set_1_bom_df.groupby('year').sum()\n"
          ]
        },
        {
          "output_type": "execute_result",
          "data": {
            "text/plain": [
              "      domestic_gross\n",
              "year                \n",
              "2010    1.015683e+10\n",
              "2011    1.006409e+10\n",
              "2012    1.087661e+10\n",
              "2013    1.079233e+10\n",
              "2014    1.033773e+10\n",
              "2015    1.105141e+10\n",
              "2016    1.125365e+10\n",
              "2017    1.093327e+10\n",
              "2018    1.109121e+10"
            ],
            "text/html": [
              "\n",
              "  <div id=\"df-c9ecb1b4-e928-43f4-affa-2b05dd769f30\">\n",
              "    <div class=\"colab-df-container\">\n",
              "      <div>\n",
              "<style scoped>\n",
              "    .dataframe tbody tr th:only-of-type {\n",
              "        vertical-align: middle;\n",
              "    }\n",
              "\n",
              "    .dataframe tbody tr th {\n",
              "        vertical-align: top;\n",
              "    }\n",
              "\n",
              "    .dataframe thead th {\n",
              "        text-align: right;\n",
              "    }\n",
              "</style>\n",
              "<table border=\"1\" class=\"dataframe\">\n",
              "  <thead>\n",
              "    <tr style=\"text-align: right;\">\n",
              "      <th></th>\n",
              "      <th>domestic_gross</th>\n",
              "    </tr>\n",
              "    <tr>\n",
              "      <th>year</th>\n",
              "      <th></th>\n",
              "    </tr>\n",
              "  </thead>\n",
              "  <tbody>\n",
              "    <tr>\n",
              "      <th>2010</th>\n",
              "      <td>1.015683e+10</td>\n",
              "    </tr>\n",
              "    <tr>\n",
              "      <th>2011</th>\n",
              "      <td>1.006409e+10</td>\n",
              "    </tr>\n",
              "    <tr>\n",
              "      <th>2012</th>\n",
              "      <td>1.087661e+10</td>\n",
              "    </tr>\n",
              "    <tr>\n",
              "      <th>2013</th>\n",
              "      <td>1.079233e+10</td>\n",
              "    </tr>\n",
              "    <tr>\n",
              "      <th>2014</th>\n",
              "      <td>1.033773e+10</td>\n",
              "    </tr>\n",
              "    <tr>\n",
              "      <th>2015</th>\n",
              "      <td>1.105141e+10</td>\n",
              "    </tr>\n",
              "    <tr>\n",
              "      <th>2016</th>\n",
              "      <td>1.125365e+10</td>\n",
              "    </tr>\n",
              "    <tr>\n",
              "      <th>2017</th>\n",
              "      <td>1.093327e+10</td>\n",
              "    </tr>\n",
              "    <tr>\n",
              "      <th>2018</th>\n",
              "      <td>1.109121e+10</td>\n",
              "    </tr>\n",
              "  </tbody>\n",
              "</table>\n",
              "</div>\n",
              "      <button class=\"colab-df-convert\" onclick=\"convertToInteractive('df-c9ecb1b4-e928-43f4-affa-2b05dd769f30')\"\n",
              "              title=\"Convert this dataframe to an interactive table.\"\n",
              "              style=\"display:none;\">\n",
              "        \n",
              "  <svg xmlns=\"http://www.w3.org/2000/svg\" height=\"24px\"viewBox=\"0 0 24 24\"\n",
              "       width=\"24px\">\n",
              "    <path d=\"M0 0h24v24H0V0z\" fill=\"none\"/>\n",
              "    <path d=\"M18.56 5.44l.94 2.06.94-2.06 2.06-.94-2.06-.94-.94-2.06-.94 2.06-2.06.94zm-11 1L8.5 8.5l.94-2.06 2.06-.94-2.06-.94L8.5 2.5l-.94 2.06-2.06.94zm10 10l.94 2.06.94-2.06 2.06-.94-2.06-.94-.94-2.06-.94 2.06-2.06.94z\"/><path d=\"M17.41 7.96l-1.37-1.37c-.4-.4-.92-.59-1.43-.59-.52 0-1.04.2-1.43.59L10.3 9.45l-7.72 7.72c-.78.78-.78 2.05 0 2.83L4 21.41c.39.39.9.59 1.41.59.51 0 1.02-.2 1.41-.59l7.78-7.78 2.81-2.81c.8-.78.8-2.07 0-2.86zM5.41 20L4 18.59l7.72-7.72 1.47 1.35L5.41 20z\"/>\n",
              "  </svg>\n",
              "      </button>\n",
              "      \n",
              "  <style>\n",
              "    .colab-df-container {\n",
              "      display:flex;\n",
              "      flex-wrap:wrap;\n",
              "      gap: 12px;\n",
              "    }\n",
              "\n",
              "    .colab-df-convert {\n",
              "      background-color: #E8F0FE;\n",
              "      border: none;\n",
              "      border-radius: 50%;\n",
              "      cursor: pointer;\n",
              "      display: none;\n",
              "      fill: #1967D2;\n",
              "      height: 32px;\n",
              "      padding: 0 0 0 0;\n",
              "      width: 32px;\n",
              "    }\n",
              "\n",
              "    .colab-df-convert:hover {\n",
              "      background-color: #E2EBFA;\n",
              "      box-shadow: 0px 1px 2px rgba(60, 64, 67, 0.3), 0px 1px 3px 1px rgba(60, 64, 67, 0.15);\n",
              "      fill: #174EA6;\n",
              "    }\n",
              "\n",
              "    [theme=dark] .colab-df-convert {\n",
              "      background-color: #3B4455;\n",
              "      fill: #D2E3FC;\n",
              "    }\n",
              "\n",
              "    [theme=dark] .colab-df-convert:hover {\n",
              "      background-color: #434B5C;\n",
              "      box-shadow: 0px 1px 3px 1px rgba(0, 0, 0, 0.15);\n",
              "      filter: drop-shadow(0px 1px 2px rgba(0, 0, 0, 0.3));\n",
              "      fill: #FFFFFF;\n",
              "    }\n",
              "  </style>\n",
              "\n",
              "      <script>\n",
              "        const buttonEl =\n",
              "          document.querySelector('#df-c9ecb1b4-e928-43f4-affa-2b05dd769f30 button.colab-df-convert');\n",
              "        buttonEl.style.display =\n",
              "          google.colab.kernel.accessAllowed ? 'block' : 'none';\n",
              "\n",
              "        async function convertToInteractive(key) {\n",
              "          const element = document.querySelector('#df-c9ecb1b4-e928-43f4-affa-2b05dd769f30');\n",
              "          const dataTable =\n",
              "            await google.colab.kernel.invokeFunction('convertToInteractive',\n",
              "                                                     [key], {});\n",
              "          if (!dataTable) return;\n",
              "\n",
              "          const docLinkHtml = 'Like what you see? Visit the ' +\n",
              "            '<a target=\"_blank\" href=https://colab.research.google.com/notebooks/data_table.ipynb>data table notebook</a>'\n",
              "            + ' to learn more about interactive tables.';\n",
              "          element.innerHTML = '';\n",
              "          dataTable['output_type'] = 'display_data';\n",
              "          await google.colab.output.renderOutput(dataTable, element);\n",
              "          const docLink = document.createElement('div');\n",
              "          docLink.innerHTML = docLinkHtml;\n",
              "          element.appendChild(docLink);\n",
              "        }\n",
              "      </script>\n",
              "    </div>\n",
              "  </div>\n",
              "  "
            ]
          },
          "metadata": {},
          "execution_count": 14
        }
      ]
    },
    {
      "cell_type": "markdown",
      "source": [
        "**(b) Bar_graph**"
      ],
      "metadata": {
        "id": "N3pCTj8Jvm8j"
      }
    },
    {
      "cell_type": "code",
      "source": [
        "domestic_gross_by_year = data_set_1_bom_df.groupby('year')['domestic_gross'].sum()\n",
        "domestic_gross_by_year.plot(kind='bar', title='Total Domestic Gross by year')"
      ],
      "metadata": {
        "colab": {
          "base_uri": "https://localhost:8080/",
          "height": 511
        },
        "id": "2Rnoc2c-tq3I",
        "outputId": "e6ab8433-a067-4c5a-d7de-639008c962ea"
      },
      "execution_count": 15,
      "outputs": [
        {
          "output_type": "execute_result",
          "data": {
            "text/plain": [
              "<Axes: title={'center': 'Total Domestic Gross by year'}, xlabel='year'>"
            ]
          },
          "metadata": {},
          "execution_count": 15
        },
        {
          "output_type": "display_data",
          "data": {
            "text/plain": [
              "<Figure size 640x480 with 1 Axes>"
            ],
            "image/png": "[encoded data removed]"
          },
          "metadata": {}
        }
      ]
    },
    {
      "cell_type": "markdown",
      "source": [
        "**(c) Pie_chart.**"
      ],
      "metadata": {
        "id": "nQ60QXX1vwjh"
      }
    },
    {
      "cell_type": "code",
      "source": [
        "domestic_gross_by_year = data_set_1_bom_df.groupby('year')['domestic_gross'].sum()\n",
        "domestic_gross_by_year.plot(kind='pie', autopct='%1.1f%%', startangle=90, title='Pie Chart of Domestic Gross by Year')\n",
        "plt.show()"
      ],
      "metadata": {
        "colab": {
          "base_uri": "https://localhost:8080/",
          "height": 428
        },
        "id": "7Mw0Pld2t2I7",
        "outputId": "ab6afee5-c2a8-4d72-c86f-3c3403de3642"
      },
      "execution_count": 16,
      "outputs": [
        {
          "output_type": "display_data",
          "data": {
            "text/plain": [
              "<Figure size 640x480 with 1 Axes>"
            ],
            "image/png": "[encoded data removed]"
          },
          "metadata": {}
        }
      ]
    },
    {
      "cell_type": "markdown",
      "source": [
        "**(d) Line_graph**"
      ],
      "metadata": {
        "id": "FygYMpMVv7eZ"
      }
    },
    {
      "cell_type": "code",
      "source": [
        "import pandas as pd\n",
        "import matplotlib.pyplot as plt\n",
        "domestic_gross_by_year = data_set_1_bom_df.groupby('year')['domestic_gross'].sum()\n",
        "domestic_gross_by_year.plot(kind='line', title='Domestic Gross by Year')\n",
        "plt.xlabel('Year')\n",
        "plt.ylabel('Domestic Gross')\n",
        "plt.show()\n"
      ],
      "metadata": {
        "colab": {
          "base_uri": "https://localhost:8080/",
          "height": 472
        },
        "id": "53viGxH3ul5h",
        "outputId": "30dac1b3-0c32-4230-ed91-00e3c39431e2"
      },
      "execution_count": 17,
      "outputs": [
        {
          "output_type": "display_data",
          "data": {
            "text/plain": [
              "<Figure size 640x480 with 1 Axes>"
            ],
            "image/png": "[encoded data removed]"
          },
          "metadata": {}
        }
      ]
    },
    {
      "cell_type": "markdown",
      "source": [
        "**Observations /intrepretation of results of Working 11 and or Reference 11.**\n",
        "\n",
        "1.Year 2016 recorded the highest revenue based on 'domestic_gross' at 11.7 % while year 2011 recorded the lowest revenue based on 'domestic _gross' at 10.4% of total 'domestic_gross'.As shown by the line graph,there were steady rise and drops across the years which could point out to possibility of unrealized revenues in some years .\n",
        "\n",
        "**Recommendations .**\n",
        "\n",
        "1.Google need to dig dipper on why certain years such as 2016 performed exemplarilry well ,what could have been the factors behind the notable success .This could be as a result of rigourous marketing and or there were more movie realeases for the said year .\n",
        "\n",
        "2.From the above observation there is an evidence of lost value on missing informations for effective and or sound decision making.E.g. The data set missed crucial information on movies rating/preferences /demographical consumptions parameters and thus my advise to google is that as they set a movie studio they need to collect a lot data as mentioned above which will greatly aid in sound decision making .\n",
        "\n",
        "3.Missing data /information on some columns /rows limits our analyses in that we were not able to analyze performance based on 'foreign_gross'column because the rows with missing data were approxiamte 40% of all rows i.e. 1349/3387.Thus google need to enhance comprehensiveness in data collection and or disclosures for sound analysis and decision making."
      ],
      "metadata": {
        "id": "iTMpurKrzTJA"
      }
    },
    {
      "cell_type": "markdown",
      "source": [
        "***Working 12 and or Reference 12 ***\n",
        "\n",
        "# sort the data frame by domestic_gross in descending order and display the top 20 sold movies by title"
      ],
      "metadata": {
        "id": "XxR-hvrb4ZrD"
      }
    },
    {
      "cell_type": "code",
      "source": [
        "top_20_performance_by_domestic_gross = data_set_1_bom_df.sort_values(by='domestic_gross', ascending=False).head(20)\n",
        "print(top_20_performance_by_domestic_gross[['title', 'domestic_gross']])"
      ],
      "metadata": {
        "colab": {
          "base_uri": "https://localhost:8080/",
          "height": 0
        },
        "id": "hM1_1wke6gj3",
        "outputId": "7f82f401-77e3-46ae-9adb-760bdad88d33"
      },
      "execution_count": 18,
      "outputs": [
        {
          "output_type": "stream",
          "name": "stdout",
          "text": [
            "                                title  domestic_gross\n",
            "1872     Star Wars: The Force Awakens     936700000.0\n",
            "3080                    Black Panther     700100000.0\n",
            "3079           Avengers: Infinity War     678800000.0\n",
            "1873                   Jurassic World     652300000.0\n",
            "727             Marvel's The Avengers     623400000.0\n",
            "2758         Star Wars: The Last Jedi     620200000.0\n",
            "3082                    Incredibles 2     608600000.0\n",
            "2323     Rogue One: A Star Wars Story     532200000.0\n",
            "2759      Beauty and the Beast (2017)     504000000.0\n",
            "2324                     Finding Dory     486300000.0\n",
            "1875          Avengers: Age of Ultron     459000000.0\n",
            "729             The Dark Knight Rises     448100000.0\n",
            "1131  The Hunger Games: Catching Fire     424700000.0\n",
            "3081   Jurassic World: Fallen Kingdom     417700000.0\n",
            "0                         Toy Story 3     415000000.0\n",
            "2767                     Wonder Woman     412600000.0\n",
            "1128                       Iron Man 3     409000000.0\n",
            "2322       Captain America: Civil War     408100000.0\n",
            "735                  The Hunger Games     408000000.0\n",
            "2762   Jumanji: Welcome to the Jungle     404500000.0\n"
          ]
        }
      ]
    },
    {
      "cell_type": "markdown",
      "source": [
        "**Observations /intrepretation of results of Working 12 and or Reference 12.**\n",
        "\n",
        "1.Movie by the title \"Star Wars:The Force Awakens\",\"Black Panther\",\"Avengers:Infinity War\",\"Jurassic World\",\"Marvel's The Avengers\" registered the highest domestic_gross values .Above ,we have attached a list of 15 other movie title with high domestic_gross values .\n",
        "\n",
        "**Recommendation to google;**\n",
        "\n",
        "1.As google endevours to create a movie studio great emphasises/focus  need to be on above list of twenty movies title coz from above analysis they registered the highest domestic_gross_values .In depth understanding on charateristics /actors /release _dates of the said movie titles ought to be considered while making stocking/listing decisions."
      ],
      "metadata": {
        "id": "P4hFJB7I-jZW"
      }
    },
    {
      "cell_type": "markdown",
      "source": [
        "***Working 13 and or Reference 13*** "
      ],
      "metadata": {
        "id": "ey_xPK_yDDh3"
      }
    },
    {
      "cell_type": "markdown",
      "source": [
        " sort the data frame by domestic_gross in descending order and display the least 20 sold movies by title\n"
      ],
      "metadata": {
        "id": "HcJE_RJzCAgi"
      }
    },
    {
      "cell_type": "code",
      "source": [
        "\n",
        "bottom_20_domestic_gross =data_set_1_bom_df .sort_values(by='domestic_gross', ascending=True).head(20)\n",
        "print(bottom_20_domestic_gross[['title', 'domestic_gross']])"
      ],
      "metadata": {
        "colab": {
          "base_uri": "https://localhost:8080/",
          "height": 0
        },
        "id": "M2r5deiHCHFL",
        "outputId": "4cec1c7c-6e67-4ab1-8aa7-50b43d8e990c"
      },
      "execution_count": 19,
      "outputs": [
        {
          "output_type": "stream",
          "name": "stdout",
          "text": [
            "                                      title  domestic_gross\n",
            "1476                             Storage 24           100.0\n",
            "2321                        The Chambermaid           300.0\n",
            "2757                                Satanic           300.0\n",
            "2756                  News From Planet Mars           300.0\n",
            "1018                          Apartment 143           400.0\n",
            "3078                                   2:22           400.0\n",
            "3077                             Max & Leon           500.0\n",
            "1126                   Death of a Superhero           600.0\n",
            "2920              Amityville: The Awakening           700.0\n",
            "1475                         Into the White           700.0\n",
            "2755                           Down By Love           700.0\n",
            "2319  It's All So Quiet (Boven is het stil)           700.0\n",
            "2320             Tough Being Loved By Jerks           700.0\n",
            "642                          Illegal (2011)           700.0\n",
            "1738                                Jackpot           800.0\n",
            "292                        Perrier's Bounty           800.0\n",
            "1474                 I Spit on Your Grave 2           800.0\n",
            "2318                      REC 4: Apocalypse           800.0\n",
            "2753       Next Time I'll Aim for the Heart           800.0\n",
            "2754              The Student and Mr. Henri           800.0\n"
          ]
        }
      ]
    },
    {
      "cell_type": "markdown",
      "source": [
        "**Observations /intrepretation of results of Working 13 and or Reference 13.**\n",
        "\n",
        "1.Movie by the title \"Storage 24\",\"The Chambermaid\",\"Satanic\",\"News From Planet Mars\",\"Apartment 143\". registered the least domestic_gross values .Above ,we have attached a list of 15 other movie title with least domestic_gross values .\n",
        "\n",
        "**Recommendation to google;**\n",
        "\n",
        "1.As google endevours to create a movie studio great emphasises/focus  need to be on above list of twenty movies title coz from above analysis they registered the least domestic_gross_values .In depth understanding on charateristics /actors /release _dates of the said movie titles ought to be considered while making stocking/listing decisions.The root cause analysis on why above title registred very low domestic_gross ought to be analysed /documented for corrective actions."
      ],
      "metadata": {
        "id": "Rm5kzbNsC8Jf"
      }
    },
    {
      "cell_type": "markdown",
      "source": [
        "***Working 14 and or Reference 14***\n",
        "\n",
        "**To check counts rank by studio.**"
      ],
      "metadata": {
        "id": "i3DWVI8qGJ25"
      }
    },
    {
      "cell_type": "code",
      "source": [
        "\n",
        "print(data_set_1_bom_df['studio'].value_counts())"
      ],
      "metadata": {
        "colab": {
          "base_uri": "https://localhost:8080/",
          "height": 0
        },
        "id": "PlnZd7GyFF6Q",
        "outputId": "b129674e-1e83-4984-9cb7-aa067d8cc029"
      },
      "execution_count": 20,
      "outputs": [
        {
          "output_type": "stream",
          "name": "stdout",
          "text": [
            "IFC           166\n",
            "Uni.          147\n",
            "WB            140\n",
            "Magn.         136\n",
            "Fox           136\n",
            "             ... \n",
            "TVC             1\n",
            "E1              1\n",
            "ELS             1\n",
            "PalT            1\n",
            "Synergetic      1\n",
            "Name: studio, Length: 255, dtype: int64\n"
          ]
        }
      ]
    },
    {
      "cell_type": "markdown",
      "source": [
        "***Observations /intrepretation of results of Working 14 and or Reference 14.***\n",
        "\n",
        "1.Movie by the studio **(IFC@166,Uni@147,WB@140,Magn@136 and Fox@136)** registered the highest value counts .\n",
        "\n",
        "***Recommendation to google;***\n",
        "\n",
        "1.As google endevours to create a movie studio great emphasises/focus need to be on above list of  movies **\"studio's\"** coz from above analysis they registered the highest value counts .In depth understanding on charateristics /actors /release _dates of the said movie studio's  ought to be considered while making stocking/listing decisions so that they success underlying factors are replicated to other studio's."
      ],
      "metadata": {
        "id": "yIAHpXvyGery"
      }
    },
    {
      "cell_type": "code",
      "source": [
        "plt.figure(figsize = (10, 5))\n",
        "data_set_1_bom_df.boxplot()\n",
        "plt.show()"
      ],
      "metadata": {
        "id": "fQWVM_BXIZ6Z",
        "colab": {
          "base_uri": "https://localhost:8080/",
          "height": 461
        },
        "outputId": "6c2ad07e-b837-42a9-9c75-817f4702fd41"
      },
      "execution_count": 67,
      "outputs": [
        {
          "output_type": "display_data",
          "data": {
            "text/plain": [
              "<Figure size 1000x500 with 1 Axes>"
            ],
            "image/png": "[encoded data removed]"
          },
          "metadata": {}
        }
      ]
    },
    {
      "cell_type": "markdown",
      "source": [
        "# **Working with data set;**\n",
        "\n",
        "# **2.tn.movie_budgets.csv.gz to be refered as 'data_set_2_tn_df **"
      ],
      "metadata": {
        "id": "Vw_XFNOKfx1Y"
      }
    },
    {
      "cell_type": "markdown",
      "source": [
        "***Importing necessary libraries***"
      ],
      "metadata": {
        "id": "TOtyJFDYhcN2"
      }
    },
    {
      "cell_type": "code",
      "source": [
        "import pandas as pd\n",
        "import numpy as np\n",
        "import matplotlib.pyplot as plt\n",
        "import seaborn as sns\n",
        "%matplotlib inline\n"
      ],
      "metadata": {
        "id": "Lfhvz8DIgVG1"
      },
      "execution_count": 21,
      "outputs": []
    },
    {
      "cell_type": "markdown",
      "source": [
        "***Working 15 and or Reference 15 ***\n",
        "\n",
        "**Uploading our data frame for purposes of analysis and conducting of functions and Attributes tests in order to get an understanding of the data. **"
      ],
      "metadata": {
        "id": "X13x-SE-h17a"
      }
    },
    {
      "cell_type": "code",
      "source": [
        "#WK 15(a)\n",
        "data_set_2_tn_df=pd.read_csv('tn.movie_budgets.csv.gz')\n",
        "data_set_2_tn_df"
      ],
      "metadata": {
        "colab": {
          "base_uri": "https://localhost:8080/",
          "height": 423
        },
        "id": "g7O5Acn8imEc",
        "outputId": "5c804f17-c104-4591-dca9-5f3f8032cbdf"
      },
      "execution_count": 22,
      "outputs": [
        {
          "output_type": "execute_result",
          "data": {
            "text/plain": [
              "      id  release_date                                        movie  \\\n",
              "0      1  Dec 18, 2009                                       Avatar   \n",
              "1      2  May 20, 2011  Pirates of the Caribbean: On Stranger Tides   \n",
              "2      3   Jun 7, 2019                                 Dark Phoenix   \n",
              "3      4   May 1, 2015                      Avengers: Age of Ultron   \n",
              "4      5  Dec 15, 2017            Star Wars Ep. VIII: The Last Jedi   \n",
              "...   ..           ...                                          ...   \n",
              "5777  78  Dec 31, 2018                                       Red 11   \n",
              "5778  79   Apr 2, 1999                                    Following   \n",
              "5779  80  Jul 13, 2005                Return to the Land of Wonders   \n",
              "5780  81  Sep 29, 2015                         A Plague So Pleasant   \n",
              "5781  82   Aug 5, 2005                            My Date With Drew   \n",
              "\n",
              "     production_budget domestic_gross worldwide_gross  \n",
              "0         $425,000,000   $760,507,625  $2,776,345,279  \n",
              "1         $410,600,000   $241,063,875  $1,045,663,875  \n",
              "2         $350,000,000    $42,762,350    $149,762,350  \n",
              "3         $330,600,000   $459,005,868  $1,403,013,963  \n",
              "4         $317,000,000   $620,181,382  $1,316,721,747  \n",
              "...                ...            ...             ...  \n",
              "5777            $7,000             $0              $0  \n",
              "5778            $6,000        $48,482        $240,495  \n",
              "5779            $5,000         $1,338          $1,338  \n",
              "5780            $1,400             $0              $0  \n",
              "5781            $1,100       $181,041        $181,041  \n",
              "\n",
              "[5782 rows x 6 columns]"
            ],
            "text/html": [
              "\n",
              "  <div id=\"df-432d58d3-5940-478c-a38d-d21c7e2b2010\">\n",
              "    <div class=\"colab-df-container\">\n",
              "      <div>\n",
              "<style scoped>\n",
              "    .dataframe tbody tr th:only-of-type {\n",
              "        vertical-align: middle;\n",
              "    }\n",
              "\n",
              "    .dataframe tbody tr th {\n",
              "        vertical-align: top;\n",
              "    }\n",
              "\n",
              "    .dataframe thead th {\n",
              "        text-align: right;\n",
              "    }\n",
              "</style>\n",
              "<table border=\"1\" class=\"dataframe\">\n",
              "  <thead>\n",
              "    <tr style=\"text-align: right;\">\n",
              "      <th></th>\n",
              "      <th>id</th>\n",
              "      <th>release_date</th>\n",
              "      <th>movie</th>\n",
              "      <th>production_budget</th>\n",
              "      <th>domestic_gross</th>\n",
              "      <th>worldwide_gross</th>\n",
              "    </tr>\n",
              "  </thead>\n",
              "  <tbody>\n",
              "    <tr>\n",
              "      <th>0</th>\n",
              "      <td>1</td>\n",
              "      <td>Dec 18, 2009</td>\n",
              "      <td>Avatar</td>\n",
              "      <td>$425,000,000</td>\n",
              "      <td>$760,507,625</td>\n",
              "      <td>$2,776,345,279</td>\n",
              "    </tr>\n",
              "    <tr>\n",
              "      <th>1</th>\n",
              "      <td>2</td>\n",
              "      <td>May 20, 2011</td>\n",
              "      <td>Pirates of the Caribbean: On Stranger Tides</td>\n",
              "      <td>$410,600,000</td>\n",
              "      <td>$241,063,875</td>\n",
              "      <td>$1,045,663,875</td>\n",
              "    </tr>\n",
              "    <tr>\n",
              "      <th>2</th>\n",
              "      <td>3</td>\n",
              "      <td>Jun 7, 2019</td>\n",
              "      <td>Dark Phoenix</td>\n",
              "      <td>$350,000,000</td>\n",
              "      <td>$42,762,350</td>\n",
              "      <td>$149,762,350</td>\n",
              "    </tr>\n",
              "    <tr>\n",
              "      <th>3</th>\n",
              "      <td>4</td>\n",
              "      <td>May 1, 2015</td>\n",
              "      <td>Avengers: Age of Ultron</td>\n",
              "      <td>$330,600,000</td>\n",
              "      <td>$459,005,868</td>\n",
              "      <td>$1,403,013,963</td>\n",
              "    </tr>\n",
              "    <tr>\n",
              "      <th>4</th>\n",
              "      <td>5</td>\n",
              "      <td>Dec 15, 2017</td>\n",
              "      <td>Star Wars Ep. VIII: The Last Jedi</td>\n",
              "      <td>$317,000,000</td>\n",
              "      <td>$620,181,382</td>\n",
              "      <td>$1,316,721,747</td>\n",
              "    </tr>\n",
              "    <tr>\n",
              "      <th>...</th>\n",
              "      <td>...</td>\n",
              "      <td>...</td>\n",
              "      <td>...</td>\n",
              "      <td>...</td>\n",
              "      <td>...</td>\n",
              "      <td>...</td>\n",
              "    </tr>\n",
              "    <tr>\n",
              "      <th>5777</th>\n",
              "      <td>78</td>\n",
              "      <td>Dec 31, 2018</td>\n",
              "      <td>Red 11</td>\n",
              "      <td>$7,000</td>\n",
              "      <td>$0</td>\n",
              "      <td>$0</td>\n",
              "    </tr>\n",
              "    <tr>\n",
              "      <th>5778</th>\n",
              "      <td>79</td>\n",
              "      <td>Apr 2, 1999</td>\n",
              "      <td>Following</td>\n",
              "      <td>$6,000</td>\n",
              "      <td>$48,482</td>\n",
              "      <td>$240,495</td>\n",
              "    </tr>\n",
              "    <tr>\n",
              "      <th>5779</th>\n",
              "      <td>80</td>\n",
              "      <td>Jul 13, 2005</td>\n",
              "      <td>Return to the Land of Wonders</td>\n",
              "      <td>$5,000</td>\n",
              "      <td>$1,338</td>\n",
              "      <td>$1,338</td>\n",
              "    </tr>\n",
              "    <tr>\n",
              "      <th>5780</th>\n",
              "      <td>81</td>\n",
              "      <td>Sep 29, 2015</td>\n",
              "      <td>A Plague So Pleasant</td>\n",
              "      <td>$1,400</td>\n",
              "      <td>$0</td>\n",
              "      <td>$0</td>\n",
              "    </tr>\n",
              "    <tr>\n",
              "      <th>5781</th>\n",
              "      <td>82</td>\n",
              "      <td>Aug 5, 2005</td>\n",
              "      <td>My Date With Drew</td>\n",
              "      <td>$1,100</td>\n",
              "      <td>$181,041</td>\n",
              "      <td>$181,041</td>\n",
              "    </tr>\n",
              "  </tbody>\n",
              "</table>\n",
              "<p>5782 rows × 6 columns</p>\n",
              "</div>\n",
              "      <button class=\"colab-df-convert\" onclick=\"convertToInteractive('df-432d58d3-5940-478c-a38d-d21c7e2b2010')\"\n",
              "              title=\"Convert this dataframe to an interactive table.\"\n",
              "              style=\"display:none;\">\n",
              "        \n",
              "  <svg xmlns=\"http://www.w3.org/2000/svg\" height=\"24px\"viewBox=\"0 0 24 24\"\n",
              "       width=\"24px\">\n",
              "    <path d=\"M0 0h24v24H0V0z\" fill=\"none\"/>\n",
              "    <path d=\"M18.56 5.44l.94 2.06.94-2.06 2.06-.94-2.06-.94-.94-2.06-.94 2.06-2.06.94zm-11 1L8.5 8.5l.94-2.06 2.06-.94-2.06-.94L8.5 2.5l-.94 2.06-2.06.94zm10 10l.94 2.06.94-2.06 2.06-.94-2.06-.94-.94-2.06-.94 2.06-2.06.94z\"/><path d=\"M17.41 7.96l-1.37-1.37c-.4-.4-.92-.59-1.43-.59-.52 0-1.04.2-1.43.59L10.3 9.45l-7.72 7.72c-.78.78-.78 2.05 0 2.83L4 21.41c.39.39.9.59 1.41.59.51 0 1.02-.2 1.41-.59l7.78-7.78 2.81-2.81c.8-.78.8-2.07 0-2.86zM5.41 20L4 18.59l7.72-7.72 1.47 1.35L5.41 20z\"/>\n",
              "  </svg>\n",
              "      </button>\n",
              "      \n",
              "  <style>\n",
              "    .colab-df-container {\n",
              "      display:flex;\n",
              "      flex-wrap:wrap;\n",
              "      gap: 12px;\n",
              "    }\n",
              "\n",
              "    .colab-df-convert {\n",
              "      background-color: #E8F0FE;\n",
              "      border: none;\n",
              "      border-radius: 50%;\n",
              "      cursor: pointer;\n",
              "      display: none;\n",
              "      fill: #1967D2;\n",
              "      height: 32px;\n",
              "      padding: 0 0 0 0;\n",
              "      width: 32px;\n",
              "    }\n",
              "\n",
              "    .colab-df-convert:hover {\n",
              "      background-color: #E2EBFA;\n",
              "      box-shadow: 0px 1px 2px rgba(60, 64, 67, 0.3), 0px 1px 3px 1px rgba(60, 64, 67, 0.15);\n",
              "      fill: #174EA6;\n",
              "    }\n",
              "\n",
              "    [theme=dark] .colab-df-convert {\n",
              "      background-color: #3B4455;\n",
              "      fill: #D2E3FC;\n",
              "    }\n",
              "\n",
              "    [theme=dark] .colab-df-convert:hover {\n",
              "      background-color: #434B5C;\n",
              "      box-shadow: 0px 1px 3px 1px rgba(0, 0, 0, 0.15);\n",
              "      filter: drop-shadow(0px 1px 2px rgba(0, 0, 0, 0.3));\n",
              "      fill: #FFFFFF;\n",
              "    }\n",
              "  </style>\n",
              "\n",
              "      <script>\n",
              "        const buttonEl =\n",
              "          document.querySelector('#df-432d58d3-5940-478c-a38d-d21c7e2b2010 button.colab-df-convert');\n",
              "        buttonEl.style.display =\n",
              "          google.colab.kernel.accessAllowed ? 'block' : 'none';\n",
              "\n",
              "        async function convertToInteractive(key) {\n",
              "          const element = document.querySelector('#df-432d58d3-5940-478c-a38d-d21c7e2b2010');\n",
              "          const dataTable =\n",
              "            await google.colab.kernel.invokeFunction('convertToInteractive',\n",
              "                                                     [key], {});\n",
              "          if (!dataTable) return;\n",
              "\n",
              "          const docLinkHtml = 'Like what you see? Visit the ' +\n",
              "            '<a target=\"_blank\" href=https://colab.research.google.com/notebooks/data_table.ipynb>data table notebook</a>'\n",
              "            + ' to learn more about interactive tables.';\n",
              "          element.innerHTML = '';\n",
              "          dataTable['output_type'] = 'display_data';\n",
              "          await google.colab.output.renderOutput(dataTable, element);\n",
              "          const docLink = document.createElement('div');\n",
              "          docLink.innerHTML = docLinkHtml;\n",
              "          element.appendChild(docLink);\n",
              "        }\n",
              "      </script>\n",
              "    </div>\n",
              "  </div>\n",
              "  "
            ]
          },
          "metadata": {},
          "execution_count": 22
        }
      ]
    },
    {
      "cell_type": "code",
      "source": [
        "#Wk 15 (b)\n",
        "#Viewing the first 5 rows of the data set \n",
        "data_set_2_tn_df.head(5)"
      ],
      "metadata": {
        "colab": {
          "base_uri": "https://localhost:8080/",
          "height": 206
        },
        "id": "W7pFuEx7jMfg",
        "outputId": "b95bee6b-16d3-4026-a2ef-62e0d27d452b"
      },
      "execution_count": 23,
      "outputs": [
        {
          "output_type": "execute_result",
          "data": {
            "text/plain": [
              "   id  release_date                                        movie  \\\n",
              "0   1  Dec 18, 2009                                       Avatar   \n",
              "1   2  May 20, 2011  Pirates of the Caribbean: On Stranger Tides   \n",
              "2   3   Jun 7, 2019                                 Dark Phoenix   \n",
              "3   4   May 1, 2015                      Avengers: Age of Ultron   \n",
              "4   5  Dec 15, 2017            Star Wars Ep. VIII: The Last Jedi   \n",
              "\n",
              "  production_budget domestic_gross worldwide_gross  \n",
              "0      $425,000,000   $760,507,625  $2,776,345,279  \n",
              "1      $410,600,000   $241,063,875  $1,045,663,875  \n",
              "2      $350,000,000    $42,762,350    $149,762,350  \n",
              "3      $330,600,000   $459,005,868  $1,403,013,963  \n",
              "4      $317,000,000   $620,181,382  $1,316,721,747  "
            ],
            "text/html": [
              "\n",
              "  <div id=\"df-8c352753-05c1-41e9-8355-6f947eeb90ea\">\n",
              "    <div class=\"colab-df-container\">\n",
              "      <div>\n",
              "<style scoped>\n",
              "    .dataframe tbody tr th:only-of-type {\n",
              "        vertical-align: middle;\n",
              "    }\n",
              "\n",
              "    .dataframe tbody tr th {\n",
              "        vertical-align: top;\n",
              "    }\n",
              "\n",
              "    .dataframe thead th {\n",
              "        text-align: right;\n",
              "    }\n",
              "</style>\n",
              "<table border=\"1\" class=\"dataframe\">\n",
              "  <thead>\n",
              "    <tr style=\"text-align: right;\">\n",
              "      <th></th>\n",
              "      <th>id</th>\n",
              "      <th>release_date</th>\n",
              "      <th>movie</th>\n",
              "      <th>production_budget</th>\n",
              "      <th>domestic_gross</th>\n",
              "      <th>worldwide_gross</th>\n",
              "    </tr>\n",
              "  </thead>\n",
              "  <tbody>\n",
              "    <tr>\n",
              "      <th>0</th>\n",
              "      <td>1</td>\n",
              "      <td>Dec 18, 2009</td>\n",
              "      <td>Avatar</td>\n",
              "      <td>$425,000,000</td>\n",
              "      <td>$760,507,625</td>\n",
              "      <td>$2,776,345,279</td>\n",
              "    </tr>\n",
              "    <tr>\n",
              "      <th>1</th>\n",
              "      <td>2</td>\n",
              "      <td>May 20, 2011</td>\n",
              "      <td>Pirates of the Caribbean: On Stranger Tides</td>\n",
              "      <td>$410,600,000</td>\n",
              "      <td>$241,063,875</td>\n",
              "      <td>$1,045,663,875</td>\n",
              "    </tr>\n",
              "    <tr>\n",
              "      <th>2</th>\n",
              "      <td>3</td>\n",
              "      <td>Jun 7, 2019</td>\n",
              "      <td>Dark Phoenix</td>\n",
              "      <td>$350,000,000</td>\n",
              "      <td>$42,762,350</td>\n",
              "      <td>$149,762,350</td>\n",
              "    </tr>\n",
              "    <tr>\n",
              "      <th>3</th>\n",
              "      <td>4</td>\n",
              "      <td>May 1, 2015</td>\n",
              "      <td>Avengers: Age of Ultron</td>\n",
              "      <td>$330,600,000</td>\n",
              "      <td>$459,005,868</td>\n",
              "      <td>$1,403,013,963</td>\n",
              "    </tr>\n",
              "    <tr>\n",
              "      <th>4</th>\n",
              "      <td>5</td>\n",
              "      <td>Dec 15, 2017</td>\n",
              "      <td>Star Wars Ep. VIII: The Last Jedi</td>\n",
              "      <td>$317,000,000</td>\n",
              "      <td>$620,181,382</td>\n",
              "      <td>$1,316,721,747</td>\n",
              "    </tr>\n",
              "  </tbody>\n",
              "</table>\n",
              "</div>\n",
              "      <button class=\"colab-df-convert\" onclick=\"convertToInteractive('df-8c352753-05c1-41e9-8355-6f947eeb90ea')\"\n",
              "              title=\"Convert this dataframe to an interactive table.\"\n",
              "              style=\"display:none;\">\n",
              "        \n",
              "  <svg xmlns=\"http://www.w3.org/2000/svg\" height=\"24px\"viewBox=\"0 0 24 24\"\n",
              "       width=\"24px\">\n",
              "    <path d=\"M0 0h24v24H0V0z\" fill=\"none\"/>\n",
              "    <path d=\"M18.56 5.44l.94 2.06.94-2.06 2.06-.94-2.06-.94-.94-2.06-.94 2.06-2.06.94zm-11 1L8.5 8.5l.94-2.06 2.06-.94-2.06-.94L8.5 2.5l-.94 2.06-2.06.94zm10 10l.94 2.06.94-2.06 2.06-.94-2.06-.94-.94-2.06-.94 2.06-2.06.94z\"/><path d=\"M17.41 7.96l-1.37-1.37c-.4-.4-.92-.59-1.43-.59-.52 0-1.04.2-1.43.59L10.3 9.45l-7.72 7.72c-.78.78-.78 2.05 0 2.83L4 21.41c.39.39.9.59 1.41.59.51 0 1.02-.2 1.41-.59l7.78-7.78 2.81-2.81c.8-.78.8-2.07 0-2.86zM5.41 20L4 18.59l7.72-7.72 1.47 1.35L5.41 20z\"/>\n",
              "  </svg>\n",
              "      </button>\n",
              "      \n",
              "  <style>\n",
              "    .colab-df-container {\n",
              "      display:flex;\n",
              "      flex-wrap:wrap;\n",
              "      gap: 12px;\n",
              "    }\n",
              "\n",
              "    .colab-df-convert {\n",
              "      background-color: #E8F0FE;\n",
              "      border: none;\n",
              "      border-radius: 50%;\n",
              "      cursor: pointer;\n",
              "      display: none;\n",
              "      fill: #1967D2;\n",
              "      height: 32px;\n",
              "      padding: 0 0 0 0;\n",
              "      width: 32px;\n",
              "    }\n",
              "\n",
              "    .colab-df-convert:hover {\n",
              "      background-color: #E2EBFA;\n",
              "      box-shadow: 0px 1px 2px rgba(60, 64, 67, 0.3), 0px 1px 3px 1px rgba(60, 64, 67, 0.15);\n",
              "      fill: #174EA6;\n",
              "    }\n",
              "\n",
              "    [theme=dark] .colab-df-convert {\n",
              "      background-color: #3B4455;\n",
              "      fill: #D2E3FC;\n",
              "    }\n",
              "\n",
              "    [theme=dark] .colab-df-convert:hover {\n",
              "      background-color: #434B5C;\n",
              "      box-shadow: 0px 1px 3px 1px rgba(0, 0, 0, 0.15);\n",
              "      filter: drop-shadow(0px 1px 2px rgba(0, 0, 0, 0.3));\n",
              "      fill: #FFFFFF;\n",
              "    }\n",
              "  </style>\n",
              "\n",
              "      <script>\n",
              "        const buttonEl =\n",
              "          document.querySelector('#df-8c352753-05c1-41e9-8355-6f947eeb90ea button.colab-df-convert');\n",
              "        buttonEl.style.display =\n",
              "          google.colab.kernel.accessAllowed ? 'block' : 'none';\n",
              "\n",
              "        async function convertToInteractive(key) {\n",
              "          const element = document.querySelector('#df-8c352753-05c1-41e9-8355-6f947eeb90ea');\n",
              "          const dataTable =\n",
              "            await google.colab.kernel.invokeFunction('convertToInteractive',\n",
              "                                                     [key], {});\n",
              "          if (!dataTable) return;\n",
              "\n",
              "          const docLinkHtml = 'Like what you see? Visit the ' +\n",
              "            '<a target=\"_blank\" href=https://colab.research.google.com/notebooks/data_table.ipynb>data table notebook</a>'\n",
              "            + ' to learn more about interactive tables.';\n",
              "          element.innerHTML = '';\n",
              "          dataTable['output_type'] = 'display_data';\n",
              "          await google.colab.output.renderOutput(dataTable, element);\n",
              "          const docLink = document.createElement('div');\n",
              "          docLink.innerHTML = docLinkHtml;\n",
              "          element.appendChild(docLink);\n",
              "        }\n",
              "      </script>\n",
              "    </div>\n",
              "  </div>\n",
              "  "
            ]
          },
          "metadata": {},
          "execution_count": 23
        }
      ]
    },
    {
      "cell_type": "code",
      "source": [
        "#Wk 15 (c)\n",
        "#Viewing the last 5 rows of the data set \n",
        "data_set_2_tn_df.tail(5)"
      ],
      "metadata": {
        "id": "i2Y2sJ_hkJrb",
        "colab": {
          "base_uri": "https://localhost:8080/",
          "height": 206
        },
        "outputId": "2043baab-e64a-4d5e-d7fe-b751a702eb3d"
      },
      "execution_count": 24,
      "outputs": [
        {
          "output_type": "execute_result",
          "data": {
            "text/plain": [
              "      id  release_date                          movie production_budget  \\\n",
              "5777  78  Dec 31, 2018                         Red 11            $7,000   \n",
              "5778  79   Apr 2, 1999                      Following            $6,000   \n",
              "5779  80  Jul 13, 2005  Return to the Land of Wonders            $5,000   \n",
              "5780  81  Sep 29, 2015           A Plague So Pleasant            $1,400   \n",
              "5781  82   Aug 5, 2005              My Date With Drew            $1,100   \n",
              "\n",
              "     domestic_gross worldwide_gross  \n",
              "5777             $0              $0  \n",
              "5778        $48,482        $240,495  \n",
              "5779         $1,338          $1,338  \n",
              "5780             $0              $0  \n",
              "5781       $181,041        $181,041  "
            ],
            "text/html": [
              "\n",
              "  <div id=\"df-6bbc77a5-85dc-4951-b6d9-4fdb9a74a9bb\">\n",
              "    <div class=\"colab-df-container\">\n",
              "      <div>\n",
              "<style scoped>\n",
              "    .dataframe tbody tr th:only-of-type {\n",
              "        vertical-align: middle;\n",
              "    }\n",
              "\n",
              "    .dataframe tbody tr th {\n",
              "        vertical-align: top;\n",
              "    }\n",
              "\n",
              "    .dataframe thead th {\n",
              "        text-align: right;\n",
              "    }\n",
              "</style>\n",
              "<table border=\"1\" class=\"dataframe\">\n",
              "  <thead>\n",
              "    <tr style=\"text-align: right;\">\n",
              "      <th></th>\n",
              "      <th>id</th>\n",
              "      <th>release_date</th>\n",
              "      <th>movie</th>\n",
              "      <th>production_budget</th>\n",
              "      <th>domestic_gross</th>\n",
              "      <th>worldwide_gross</th>\n",
              "    </tr>\n",
              "  </thead>\n",
              "  <tbody>\n",
              "    <tr>\n",
              "      <th>5777</th>\n",
              "      <td>78</td>\n",
              "      <td>Dec 31, 2018</td>\n",
              "      <td>Red 11</td>\n",
              "      <td>$7,000</td>\n",
              "      <td>$0</td>\n",
              "      <td>$0</td>\n",
              "    </tr>\n",
              "    <tr>\n",
              "      <th>5778</th>\n",
              "      <td>79</td>\n",
              "      <td>Apr 2, 1999</td>\n",
              "      <td>Following</td>\n",
              "      <td>$6,000</td>\n",
              "      <td>$48,482</td>\n",
              "      <td>$240,495</td>\n",
              "    </tr>\n",
              "    <tr>\n",
              "      <th>5779</th>\n",
              "      <td>80</td>\n",
              "      <td>Jul 13, 2005</td>\n",
              "      <td>Return to the Land of Wonders</td>\n",
              "      <td>$5,000</td>\n",
              "      <td>$1,338</td>\n",
              "      <td>$1,338</td>\n",
              "    </tr>\n",
              "    <tr>\n",
              "      <th>5780</th>\n",
              "      <td>81</td>\n",
              "      <td>Sep 29, 2015</td>\n",
              "      <td>A Plague So Pleasant</td>\n",
              "      <td>$1,400</td>\n",
              "      <td>$0</td>\n",
              "      <td>$0</td>\n",
              "    </tr>\n",
              "    <tr>\n",
              "      <th>5781</th>\n",
              "      <td>82</td>\n",
              "      <td>Aug 5, 2005</td>\n",
              "      <td>My Date With Drew</td>\n",
              "      <td>$1,100</td>\n",
              "      <td>$181,041</td>\n",
              "      <td>$181,041</td>\n",
              "    </tr>\n",
              "  </tbody>\n",
              "</table>\n",
              "</div>\n",
              "      <button class=\"colab-df-convert\" onclick=\"convertToInteractive('df-6bbc77a5-85dc-4951-b6d9-4fdb9a74a9bb')\"\n",
              "              title=\"Convert this dataframe to an interactive table.\"\n",
              "              style=\"display:none;\">\n",
              "        \n",
              "  <svg xmlns=\"http://www.w3.org/2000/svg\" height=\"24px\"viewBox=\"0 0 24 24\"\n",
              "       width=\"24px\">\n",
              "    <path d=\"M0 0h24v24H0V0z\" fill=\"none\"/>\n",
              "    <path d=\"M18.56 5.44l.94 2.06.94-2.06 2.06-.94-2.06-.94-.94-2.06-.94 2.06-2.06.94zm-11 1L8.5 8.5l.94-2.06 2.06-.94-2.06-.94L8.5 2.5l-.94 2.06-2.06.94zm10 10l.94 2.06.94-2.06 2.06-.94-2.06-.94-.94-2.06-.94 2.06-2.06.94z\"/><path d=\"M17.41 7.96l-1.37-1.37c-.4-.4-.92-.59-1.43-.59-.52 0-1.04.2-1.43.59L10.3 9.45l-7.72 7.72c-.78.78-.78 2.05 0 2.83L4 21.41c.39.39.9.59 1.41.59.51 0 1.02-.2 1.41-.59l7.78-7.78 2.81-2.81c.8-.78.8-2.07 0-2.86zM5.41 20L4 18.59l7.72-7.72 1.47 1.35L5.41 20z\"/>\n",
              "  </svg>\n",
              "      </button>\n",
              "      \n",
              "  <style>\n",
              "    .colab-df-container {\n",
              "      display:flex;\n",
              "      flex-wrap:wrap;\n",
              "      gap: 12px;\n",
              "    }\n",
              "\n",
              "    .colab-df-convert {\n",
              "      background-color: #E8F0FE;\n",
              "      border: none;\n",
              "      border-radius: 50%;\n",
              "      cursor: pointer;\n",
              "      display: none;\n",
              "      fill: #1967D2;\n",
              "      height: 32px;\n",
              "      padding: 0 0 0 0;\n",
              "      width: 32px;\n",
              "    }\n",
              "\n",
              "    .colab-df-convert:hover {\n",
              "      background-color: #E2EBFA;\n",
              "      box-shadow: 0px 1px 2px rgba(60, 64, 67, 0.3), 0px 1px 3px 1px rgba(60, 64, 67, 0.15);\n",
              "      fill: #174EA6;\n",
              "    }\n",
              "\n",
              "    [theme=dark] .colab-df-convert {\n",
              "      background-color: #3B4455;\n",
              "      fill: #D2E3FC;\n",
              "    }\n",
              "\n",
              "    [theme=dark] .colab-df-convert:hover {\n",
              "      background-color: #434B5C;\n",
              "      box-shadow: 0px 1px 3px 1px rgba(0, 0, 0, 0.15);\n",
              "      filter: drop-shadow(0px 1px 2px rgba(0, 0, 0, 0.3));\n",
              "      fill: #FFFFFF;\n",
              "    }\n",
              "  </style>\n",
              "\n",
              "      <script>\n",
              "        const buttonEl =\n",
              "          document.querySelector('#df-6bbc77a5-85dc-4951-b6d9-4fdb9a74a9bb button.colab-df-convert');\n",
              "        buttonEl.style.display =\n",
              "          google.colab.kernel.accessAllowed ? 'block' : 'none';\n",
              "\n",
              "        async function convertToInteractive(key) {\n",
              "          const element = document.querySelector('#df-6bbc77a5-85dc-4951-b6d9-4fdb9a74a9bb');\n",
              "          const dataTable =\n",
              "            await google.colab.kernel.invokeFunction('convertToInteractive',\n",
              "                                                     [key], {});\n",
              "          if (!dataTable) return;\n",
              "\n",
              "          const docLinkHtml = 'Like what you see? Visit the ' +\n",
              "            '<a target=\"_blank\" href=https://colab.research.google.com/notebooks/data_table.ipynb>data table notebook</a>'\n",
              "            + ' to learn more about interactive tables.';\n",
              "          element.innerHTML = '';\n",
              "          dataTable['output_type'] = 'display_data';\n",
              "          await google.colab.output.renderOutput(dataTable, element);\n",
              "          const docLink = document.createElement('div');\n",
              "          docLink.innerHTML = docLinkHtml;\n",
              "          element.appendChild(docLink);\n",
              "        }\n",
              "      </script>\n",
              "    </div>\n",
              "  </div>\n",
              "  "
            ]
          },
          "metadata": {},
          "execution_count": 24
        }
      ]
    },
    {
      "cell_type": "code",
      "source": [
        "# Wk 15 (d)\n",
        "#removing un_neccessary columns\n",
        "data_set_2_tn_df=pd.read_csv('tn.movie_budgets.csv.gz',index_col=0)\n",
        "data_set_2_tn_df\n"
      ],
      "metadata": {
        "colab": {
          "base_uri": "https://localhost:8080/",
          "height": 455
        },
        "id": "_r2sd8C9ldpX",
        "outputId": "d43b2ab1-cec5-4442-ed5f-8ec1e41ebddd"
      },
      "execution_count": 28,
      "outputs": [
        {
          "output_type": "execute_result",
          "data": {
            "text/plain": [
              "    release_date                                        movie  \\\n",
              "id                                                              \n",
              "1   Dec 18, 2009                                       Avatar   \n",
              "2   May 20, 2011  Pirates of the Caribbean: On Stranger Tides   \n",
              "3    Jun 7, 2019                                 Dark Phoenix   \n",
              "4    May 1, 2015                      Avengers: Age of Ultron   \n",
              "5   Dec 15, 2017            Star Wars Ep. VIII: The Last Jedi   \n",
              "..           ...                                          ...   \n",
              "78  Dec 31, 2018                                       Red 11   \n",
              "79   Apr 2, 1999                                    Following   \n",
              "80  Jul 13, 2005                Return to the Land of Wonders   \n",
              "81  Sep 29, 2015                         A Plague So Pleasant   \n",
              "82   Aug 5, 2005                            My Date With Drew   \n",
              "\n",
              "   production_budget domestic_gross worldwide_gross  \n",
              "id                                                   \n",
              "1       $425,000,000   $760,507,625  $2,776,345,279  \n",
              "2       $410,600,000   $241,063,875  $1,045,663,875  \n",
              "3       $350,000,000    $42,762,350    $149,762,350  \n",
              "4       $330,600,000   $459,005,868  $1,403,013,963  \n",
              "5       $317,000,000   $620,181,382  $1,316,721,747  \n",
              "..               ...            ...             ...  \n",
              "78            $7,000             $0              $0  \n",
              "79            $6,000        $48,482        $240,495  \n",
              "80            $5,000         $1,338          $1,338  \n",
              "81            $1,400             $0              $0  \n",
              "82            $1,100       $181,041        $181,041  \n",
              "\n",
              "[5782 rows x 5 columns]"
            ],
            "text/html": [
              "\n",
              "  <div id=\"df-d3d19bcd-3252-4ad8-b4fb-1550b8297686\">\n",
              "    <div class=\"colab-df-container\">\n",
              "      <div>\n",
              "<style scoped>\n",
              "    .dataframe tbody tr th:only-of-type {\n",
              "        vertical-align: middle;\n",
              "    }\n",
              "\n",
              "    .dataframe tbody tr th {\n",
              "        vertical-align: top;\n",
              "    }\n",
              "\n",
              "    .dataframe thead th {\n",
              "        text-align: right;\n",
              "    }\n",
              "</style>\n",
              "<table border=\"1\" class=\"dataframe\">\n",
              "  <thead>\n",
              "    <tr style=\"text-align: right;\">\n",
              "      <th></th>\n",
              "      <th>release_date</th>\n",
              "      <th>movie</th>\n",
              "      <th>production_budget</th>\n",
              "      <th>domestic_gross</th>\n",
              "      <th>worldwide_gross</th>\n",
              "    </tr>\n",
              "    <tr>\n",
              "      <th>id</th>\n",
              "      <th></th>\n",
              "      <th></th>\n",
              "      <th></th>\n",
              "      <th></th>\n",
              "      <th></th>\n",
              "    </tr>\n",
              "  </thead>\n",
              "  <tbody>\n",
              "    <tr>\n",
              "      <th>1</th>\n",
              "      <td>Dec 18, 2009</td>\n",
              "      <td>Avatar</td>\n",
              "      <td>$425,000,000</td>\n",
              "      <td>$760,507,625</td>\n",
              "      <td>$2,776,345,279</td>\n",
              "    </tr>\n",
              "    <tr>\n",
              "      <th>2</th>\n",
              "      <td>May 20, 2011</td>\n",
              "      <td>Pirates of the Caribbean: On Stranger Tides</td>\n",
              "      <td>$410,600,000</td>\n",
              "      <td>$241,063,875</td>\n",
              "      <td>$1,045,663,875</td>\n",
              "    </tr>\n",
              "    <tr>\n",
              "      <th>3</th>\n",
              "      <td>Jun 7, 2019</td>\n",
              "      <td>Dark Phoenix</td>\n",
              "      <td>$350,000,000</td>\n",
              "      <td>$42,762,350</td>\n",
              "      <td>$149,762,350</td>\n",
              "    </tr>\n",
              "    <tr>\n",
              "      <th>4</th>\n",
              "      <td>May 1, 2015</td>\n",
              "      <td>Avengers: Age of Ultron</td>\n",
              "      <td>$330,600,000</td>\n",
              "      <td>$459,005,868</td>\n",
              "      <td>$1,403,013,963</td>\n",
              "    </tr>\n",
              "    <tr>\n",
              "      <th>5</th>\n",
              "      <td>Dec 15, 2017</td>\n",
              "      <td>Star Wars Ep. VIII: The Last Jedi</td>\n",
              "      <td>$317,000,000</td>\n",
              "      <td>$620,181,382</td>\n",
              "      <td>$1,316,721,747</td>\n",
              "    </tr>\n",
              "    <tr>\n",
              "      <th>...</th>\n",
              "      <td>...</td>\n",
              "      <td>...</td>\n",
              "      <td>...</td>\n",
              "      <td>...</td>\n",
              "      <td>...</td>\n",
              "    </tr>\n",
              "    <tr>\n",
              "      <th>78</th>\n",
              "      <td>Dec 31, 2018</td>\n",
              "      <td>Red 11</td>\n",
              "      <td>$7,000</td>\n",
              "      <td>$0</td>\n",
              "      <td>$0</td>\n",
              "    </tr>\n",
              "    <tr>\n",
              "      <th>79</th>\n",
              "      <td>Apr 2, 1999</td>\n",
              "      <td>Following</td>\n",
              "      <td>$6,000</td>\n",
              "      <td>$48,482</td>\n",
              "      <td>$240,495</td>\n",
              "    </tr>\n",
              "    <tr>\n",
              "      <th>80</th>\n",
              "      <td>Jul 13, 2005</td>\n",
              "      <td>Return to the Land of Wonders</td>\n",
              "      <td>$5,000</td>\n",
              "      <td>$1,338</td>\n",
              "      <td>$1,338</td>\n",
              "    </tr>\n",
              "    <tr>\n",
              "      <th>81</th>\n",
              "      <td>Sep 29, 2015</td>\n",
              "      <td>A Plague So Pleasant</td>\n",
              "      <td>$1,400</td>\n",
              "      <td>$0</td>\n",
              "      <td>$0</td>\n",
              "    </tr>\n",
              "    <tr>\n",
              "      <th>82</th>\n",
              "      <td>Aug 5, 2005</td>\n",
              "      <td>My Date With Drew</td>\n",
              "      <td>$1,100</td>\n",
              "      <td>$181,041</td>\n",
              "      <td>$181,041</td>\n",
              "    </tr>\n",
              "  </tbody>\n",
              "</table>\n",
              "<p>5782 rows × 5 columns</p>\n",
              "</div>\n",
              "      <button class=\"colab-df-convert\" onclick=\"convertToInteractive('df-d3d19bcd-3252-4ad8-b4fb-1550b8297686')\"\n",
              "              title=\"Convert this dataframe to an interactive table.\"\n",
              "              style=\"display:none;\">\n",
              "        \n",
              "  <svg xmlns=\"http://www.w3.org/2000/svg\" height=\"24px\"viewBox=\"0 0 24 24\"\n",
              "       width=\"24px\">\n",
              "    <path d=\"M0 0h24v24H0V0z\" fill=\"none\"/>\n",
              "    <path d=\"M18.56 5.44l.94 2.06.94-2.06 2.06-.94-2.06-.94-.94-2.06-.94 2.06-2.06.94zm-11 1L8.5 8.5l.94-2.06 2.06-.94-2.06-.94L8.5 2.5l-.94 2.06-2.06.94zm10 10l.94 2.06.94-2.06 2.06-.94-2.06-.94-.94-2.06-.94 2.06-2.06.94z\"/><path d=\"M17.41 7.96l-1.37-1.37c-.4-.4-.92-.59-1.43-.59-.52 0-1.04.2-1.43.59L10.3 9.45l-7.72 7.72c-.78.78-.78 2.05 0 2.83L4 21.41c.39.39.9.59 1.41.59.51 0 1.02-.2 1.41-.59l7.78-7.78 2.81-2.81c.8-.78.8-2.07 0-2.86zM5.41 20L4 18.59l7.72-7.72 1.47 1.35L5.41 20z\"/>\n",
              "  </svg>\n",
              "      </button>\n",
              "      \n",
              "  <style>\n",
              "    .colab-df-container {\n",
              "      display:flex;\n",
              "      flex-wrap:wrap;\n",
              "      gap: 12px;\n",
              "    }\n",
              "\n",
              "    .colab-df-convert {\n",
              "      background-color: #E8F0FE;\n",
              "      border: none;\n",
              "      border-radius: 50%;\n",
              "      cursor: pointer;\n",
              "      display: none;\n",
              "      fill: #1967D2;\n",
              "      height: 32px;\n",
              "      padding: 0 0 0 0;\n",
              "      width: 32px;\n",
              "    }\n",
              "\n",
              "    .colab-df-convert:hover {\n",
              "      background-color: #E2EBFA;\n",
              "      box-shadow: 0px 1px 2px rgba(60, 64, 67, 0.3), 0px 1px 3px 1px rgba(60, 64, 67, 0.15);\n",
              "      fill: #174EA6;\n",
              "    }\n",
              "\n",
              "    [theme=dark] .colab-df-convert {\n",
              "      background-color: #3B4455;\n",
              "      fill: #D2E3FC;\n",
              "    }\n",
              "\n",
              "    [theme=dark] .colab-df-convert:hover {\n",
              "      background-color: #434B5C;\n",
              "      box-shadow: 0px 1px 3px 1px rgba(0, 0, 0, 0.15);\n",
              "      filter: drop-shadow(0px 1px 2px rgba(0, 0, 0, 0.3));\n",
              "      fill: #FFFFFF;\n",
              "    }\n",
              "  </style>\n",
              "\n",
              "      <script>\n",
              "        const buttonEl =\n",
              "          document.querySelector('#df-d3d19bcd-3252-4ad8-b4fb-1550b8297686 button.colab-df-convert');\n",
              "        buttonEl.style.display =\n",
              "          google.colab.kernel.accessAllowed ? 'block' : 'none';\n",
              "\n",
              "        async function convertToInteractive(key) {\n",
              "          const element = document.querySelector('#df-d3d19bcd-3252-4ad8-b4fb-1550b8297686');\n",
              "          const dataTable =\n",
              "            await google.colab.kernel.invokeFunction('convertToInteractive',\n",
              "                                                     [key], {});\n",
              "          if (!dataTable) return;\n",
              "\n",
              "          const docLinkHtml = 'Like what you see? Visit the ' +\n",
              "            '<a target=\"_blank\" href=https://colab.research.google.com/notebooks/data_table.ipynb>data table notebook</a>'\n",
              "            + ' to learn more about interactive tables.';\n",
              "          element.innerHTML = '';\n",
              "          dataTable['output_type'] = 'display_data';\n",
              "          await google.colab.output.renderOutput(dataTable, element);\n",
              "          const docLink = document.createElement('div');\n",
              "          docLink.innerHTML = docLinkHtml;\n",
              "          element.appendChild(docLink);\n",
              "        }\n",
              "      </script>\n",
              "    </div>\n",
              "  </div>\n",
              "  "
            ]
          },
          "metadata": {},
          "execution_count": 28
        }
      ]
    },
    {
      "cell_type": "code",
      "source": [
        "#Wk 15(e)\n",
        "#Understanding the shape of the data \n",
        "data_set_2_tn_df.shape"
      ],
      "metadata": {
        "colab": {
          "base_uri": "https://localhost:8080/",
          "height": 0
        },
        "id": "ih6DhITlnNH6",
        "outputId": "19771903-5023-435a-d662-f74b77808638"
      },
      "execution_count": 29,
      "outputs": [
        {
          "output_type": "execute_result",
          "data": {
            "text/plain": [
              "(5782, 5)"
            ]
          },
          "metadata": {},
          "execution_count": 29
        }
      ]
    },
    {
      "cell_type": "markdown",
      "source": [
        "Interpretation of the shape;\n",
        "\n",
        "The data set \"data_set_2_tn_df contains 5,782 rows and 5 columns ."
      ],
      "metadata": {
        "id": "S0vUu0DNnfWL"
      }
    },
    {
      "cell_type": "code",
      "source": [
        "#Wk 15(f)\n",
        "#Checking at the column names \n",
        "data_set_2_tn_df.columns"
      ],
      "metadata": {
        "colab": {
          "base_uri": "https://localhost:8080/",
          "height": 0
        },
        "id": "saUnKHlEn1_c",
        "outputId": "b1f3a108-65d4-468c-a384-83904034b738"
      },
      "execution_count": 30,
      "outputs": [
        {
          "output_type": "execute_result",
          "data": {
            "text/plain": [
              "Index(['release_date', 'movie', 'production_budget', 'domestic_gross',\n",
              "       'worldwide_gross'],\n",
              "      dtype='object')"
            ]
          },
          "metadata": {},
          "execution_count": 30
        }
      ]
    },
    {
      "cell_type": "code",
      "source": [
        "#Wk 15(g)\n",
        "#Understanding the columns in the data frame are what data type\n",
        "data_set_2_tn_df.info()"
      ],
      "metadata": {
        "colab": {
          "base_uri": "https://localhost:8080/",
          "height": 0
        },
        "id": "0mA0MXW7oOMH",
        "outputId": "1b2e382a-ba70-4bbe-9e97-98084a00fa0f"
      },
      "execution_count": 32,
      "outputs": [
        {
          "output_type": "stream",
          "name": "stdout",
          "text": [
            "<class 'pandas.core.frame.DataFrame'>\n",
            "Int64Index: 5782 entries, 1 to 82\n",
            "Data columns (total 5 columns):\n",
            " #   Column             Non-Null Count  Dtype \n",
            "---  ------             --------------  ----- \n",
            " 0   release_date       5782 non-null   object\n",
            " 1   movie              5782 non-null   object\n",
            " 2   production_budget  5782 non-null   object\n",
            " 3   domestic_gross     5782 non-null   object\n",
            " 4   worldwide_gross    5782 non-null   object\n",
            "dtypes: object(5)\n",
            "memory usage: 271.0+ KB\n"
          ]
        }
      ]
    },
    {
      "cell_type": "markdown",
      "source": [
        "Intrepretation of the data type of the columns ;\n",
        "\n",
        "All the 5 columns are objects "
      ],
      "metadata": {
        "id": "pwHKQwHjovg6"
      }
    },
    {
      "cell_type": "code",
      "source": [
        "#Wk 15 (h)\n",
        "#Checking if our data set contains some missing values in rows and columns \n",
        "data_set_2_tn_df.isna().sum()"
      ],
      "metadata": {
        "colab": {
          "base_uri": "https://localhost:8080/",
          "height": 0
        },
        "id": "43KWJhAso74r",
        "outputId": "d7958163-e6b0-4b6a-9f36-652d0748ecda"
      },
      "execution_count": 33,
      "outputs": [
        {
          "output_type": "execute_result",
          "data": {
            "text/plain": [
              "release_date         0\n",
              "movie                0\n",
              "production_budget    0\n",
              "domestic_gross       0\n",
              "worldwide_gross      0\n",
              "dtype: int64"
            ]
          },
          "metadata": {},
          "execution_count": 33
        }
      ]
    },
    {
      "cell_type": "markdown",
      "source": [
        "From the above check of missing value it is confirmed that there is NO missing values in columns and rows .Thus all rows and columns will be retained for further analysis and visualizations."
      ],
      "metadata": {
        "id": "l9QJ_yU0pYu6"
      }
    },
    {
      "cell_type": "code",
      "source": [
        "#Wk 15 (i)\n",
        "#Checking at descriptive measures \n",
        "data_set_2_tn_df.describe()"
      ],
      "metadata": {
        "colab": {
          "base_uri": "https://localhost:8080/",
          "height": 174
        },
        "id": "ApmqLDt3p28V",
        "outputId": "c16ef218-2588-4d4b-ed95-f41951adf19d"
      },
      "execution_count": 34,
      "outputs": [
        {
          "output_type": "execute_result",
          "data": {
            "text/plain": [
              "        release_date      movie production_budget domestic_gross  \\\n",
              "count           5782       5782              5782           5782   \n",
              "unique          2418       5698               509           5164   \n",
              "top     Dec 31, 2014  Halloween       $20,000,000             $0   \n",
              "freq              24          3               231            548   \n",
              "\n",
              "       worldwide_gross  \n",
              "count             5782  \n",
              "unique            5356  \n",
              "top                 $0  \n",
              "freq               367  "
            ],
            "text/html": [
              "\n",
              "  <div id=\"df-b3120716-d663-4dfe-9fdf-ceb31e7074b4\">\n",
              "    <div class=\"colab-df-container\">\n",
              "      <div>\n",
              "<style scoped>\n",
              "    .dataframe tbody tr th:only-of-type {\n",
              "        vertical-align: middle;\n",
              "    }\n",
              "\n",
              "    .dataframe tbody tr th {\n",
              "        vertical-align: top;\n",
              "    }\n",
              "\n",
              "    .dataframe thead th {\n",
              "        text-align: right;\n",
              "    }\n",
              "</style>\n",
              "<table border=\"1\" class=\"dataframe\">\n",
              "  <thead>\n",
              "    <tr style=\"text-align: right;\">\n",
              "      <th></th>\n",
              "      <th>release_date</th>\n",
              "      <th>movie</th>\n",
              "      <th>production_budget</th>\n",
              "      <th>domestic_gross</th>\n",
              "      <th>worldwide_gross</th>\n",
              "    </tr>\n",
              "  </thead>\n",
              "  <tbody>\n",
              "    <tr>\n",
              "      <th>count</th>\n",
              "      <td>5782</td>\n",
              "      <td>5782</td>\n",
              "      <td>5782</td>\n",
              "      <td>5782</td>\n",
              "      <td>5782</td>\n",
              "    </tr>\n",
              "    <tr>\n",
              "      <th>unique</th>\n",
              "      <td>2418</td>\n",
              "      <td>5698</td>\n",
              "      <td>509</td>\n",
              "      <td>5164</td>\n",
              "      <td>5356</td>\n",
              "    </tr>\n",
              "    <tr>\n",
              "      <th>top</th>\n",
              "      <td>Dec 31, 2014</td>\n",
              "      <td>Halloween</td>\n",
              "      <td>$20,000,000</td>\n",
              "      <td>$0</td>\n",
              "      <td>$0</td>\n",
              "    </tr>\n",
              "    <tr>\n",
              "      <th>freq</th>\n",
              "      <td>24</td>\n",
              "      <td>3</td>\n",
              "      <td>231</td>\n",
              "      <td>548</td>\n",
              "      <td>367</td>\n",
              "    </tr>\n",
              "  </tbody>\n",
              "</table>\n",
              "</div>\n",
              "      <button class=\"colab-df-convert\" onclick=\"convertToInteractive('df-b3120716-d663-4dfe-9fdf-ceb31e7074b4')\"\n",
              "              title=\"Convert this dataframe to an interactive table.\"\n",
              "              style=\"display:none;\">\n",
              "        \n",
              "  <svg xmlns=\"http://www.w3.org/2000/svg\" height=\"24px\"viewBox=\"0 0 24 24\"\n",
              "       width=\"24px\">\n",
              "    <path d=\"M0 0h24v24H0V0z\" fill=\"none\"/>\n",
              "    <path d=\"M18.56 5.44l.94 2.06.94-2.06 2.06-.94-2.06-.94-.94-2.06-.94 2.06-2.06.94zm-11 1L8.5 8.5l.94-2.06 2.06-.94-2.06-.94L8.5 2.5l-.94 2.06-2.06.94zm10 10l.94 2.06.94-2.06 2.06-.94-2.06-.94-.94-2.06-.94 2.06-2.06.94z\"/><path d=\"M17.41 7.96l-1.37-1.37c-.4-.4-.92-.59-1.43-.59-.52 0-1.04.2-1.43.59L10.3 9.45l-7.72 7.72c-.78.78-.78 2.05 0 2.83L4 21.41c.39.39.9.59 1.41.59.51 0 1.02-.2 1.41-.59l7.78-7.78 2.81-2.81c.8-.78.8-2.07 0-2.86zM5.41 20L4 18.59l7.72-7.72 1.47 1.35L5.41 20z\"/>\n",
              "  </svg>\n",
              "      </button>\n",
              "      \n",
              "  <style>\n",
              "    .colab-df-container {\n",
              "      display:flex;\n",
              "      flex-wrap:wrap;\n",
              "      gap: 12px;\n",
              "    }\n",
              "\n",
              "    .colab-df-convert {\n",
              "      background-color: #E8F0FE;\n",
              "      border: none;\n",
              "      border-radius: 50%;\n",
              "      cursor: pointer;\n",
              "      display: none;\n",
              "      fill: #1967D2;\n",
              "      height: 32px;\n",
              "      padding: 0 0 0 0;\n",
              "      width: 32px;\n",
              "    }\n",
              "\n",
              "    .colab-df-convert:hover {\n",
              "      background-color: #E2EBFA;\n",
              "      box-shadow: 0px 1px 2px rgba(60, 64, 67, 0.3), 0px 1px 3px 1px rgba(60, 64, 67, 0.15);\n",
              "      fill: #174EA6;\n",
              "    }\n",
              "\n",
              "    [theme=dark] .colab-df-convert {\n",
              "      background-color: #3B4455;\n",
              "      fill: #D2E3FC;\n",
              "    }\n",
              "\n",
              "    [theme=dark] .colab-df-convert:hover {\n",
              "      background-color: #434B5C;\n",
              "      box-shadow: 0px 1px 3px 1px rgba(0, 0, 0, 0.15);\n",
              "      filter: drop-shadow(0px 1px 2px rgba(0, 0, 0, 0.3));\n",
              "      fill: #FFFFFF;\n",
              "    }\n",
              "  </style>\n",
              "\n",
              "      <script>\n",
              "        const buttonEl =\n",
              "          document.querySelector('#df-b3120716-d663-4dfe-9fdf-ceb31e7074b4 button.colab-df-convert');\n",
              "        buttonEl.style.display =\n",
              "          google.colab.kernel.accessAllowed ? 'block' : 'none';\n",
              "\n",
              "        async function convertToInteractive(key) {\n",
              "          const element = document.querySelector('#df-b3120716-d663-4dfe-9fdf-ceb31e7074b4');\n",
              "          const dataTable =\n",
              "            await google.colab.kernel.invokeFunction('convertToInteractive',\n",
              "                                                     [key], {});\n",
              "          if (!dataTable) return;\n",
              "\n",
              "          const docLinkHtml = 'Like what you see? Visit the ' +\n",
              "            '<a target=\"_blank\" href=https://colab.research.google.com/notebooks/data_table.ipynb>data table notebook</a>'\n",
              "            + ' to learn more about interactive tables.';\n",
              "          element.innerHTML = '';\n",
              "          dataTable['output_type'] = 'display_data';\n",
              "          await google.colab.output.renderOutput(dataTable, element);\n",
              "          const docLink = document.createElement('div');\n",
              "          docLink.innerHTML = docLinkHtml;\n",
              "          element.appendChild(docLink);\n",
              "        }\n",
              "      </script>\n",
              "    </div>\n",
              "  </div>\n",
              "  "
            ]
          },
          "metadata": {},
          "execution_count": 34
        }
      ]
    },
    {
      "cell_type": "markdown",
      "source": [
        "# ***Data analysis and Visualizations.***"
      ],
      "metadata": {
        "id": "QMo77RvUO-I7"
      }
    },
    {
      "cell_type": "markdown",
      "source": [
        "# ***Working 16 and or Reference 16***\n",
        "\n",
        "# ***Wk 16(a)***\n",
        "\n",
        "**sort the data frame by worldwide_gross in descending order and display the top 20 sold movies by title**"
      ],
      "metadata": {
        "id": "4rcJ6numZCJo"
      }
    },
    {
      "cell_type": "code",
      "source": [
        "top_20_by_worldwide_gross = data_set_2_tn_df.sort_values('worldwide_gross', ascending=False).head(20).sort_values('movie')\n",
        "\n",
        "# Select the columns to display\n",
        "columns_to_display = ['release_date', 'movie', 'production_budget', 'domestic_gross', 'worldwide_gross']\n",
        "\n",
        "# Display the top 20 sold movies by title\n",
        "display(top_20_by_worldwide_gross[columns_to_display])\n"
      ],
      "metadata": {
        "colab": {
          "base_uri": "https://localhost:8080/",
          "height": 676
        },
        "id": "4m0hQ0Aqf7So",
        "outputId": "af525abf-07a9-4d72-979a-a690de24fccc"
      },
      "execution_count": 60,
      "outputs": [
        {
          "output_type": "display_data",
          "data": {
            "text/plain": [
              "      release_date                           movie production_budget  \\\n",
              "1078  Aug 17, 2018                           Alpha       $51,000,000   \n",
              "4358  Jul 25, 2008                   American Teen        $5,000,000   \n",
              "1058  Sep 18, 2015                      Black Mass       $53,000,000   \n",
              "4373   Jun 4, 1999                     Desert Blue        $5,000,000   \n",
              "3432  Sep 30, 2005                            Duma       $12,000,000   \n",
              "3737  Aug 21, 2009          Fifty Dead Men Walking       $10,000,000   \n",
              "883    Apr 2, 2004                         Hellboy       $60,000,000   \n",
              "2343  Nov 21, 2007                          Hitman       $24,000,000   \n",
              "5062   Apr 1, 2011                       Insidious        $1,500,000   \n",
              "3247  Feb 11, 2011  Justin Bieber: Never Say Never       $13,000,000   \n",
              "5613  Mar 21, 1980                         Mad Max          $200,000   \n",
              "1792  Jun 16, 2006                     Nacho Libre       $32,000,000   \n",
              "890   Dec 25, 2003                        Paycheck       $60,000,000   \n",
              "3364  Nov 22, 2013                       Philomena       $12,000,000   \n",
              "1682  Dec 23, 1994                  Street Fighter       $35,000,000   \n",
              "5107  Jul 20, 2018                Teefa in Trouble        $1,500,000   \n",
              "608   Jun 15, 1994                   The Lion King       $79,300,000   \n",
              "582    Mar 8, 2002                The Time Machine       $80,000,000   \n",
              "591   Apr 14, 2006                        The Wild       $80,000,000   \n",
              "381   Oct 16, 2009       Where the Wild Things Are      $100,000,000   \n",
              "\n",
              "     domestic_gross worldwide_gross  \n",
              "1078    $35,851,379     $99,624,873  \n",
              "4358       $942,441        $989,319  \n",
              "1058    $62,575,678     $98,837,872  \n",
              "4373        $99,147         $99,147  \n",
              "3432       $870,067        $994,790  \n",
              "3737             $0        $997,921  \n",
              "883     $59,623,958     $99,823,958  \n",
              "2343    $39,687,694     $99,135,571  \n",
              "5062    $54,009,150     $99,870,886  \n",
              "3247    $73,013,910     $99,034,125  \n",
              "5613     $8,750,000     $99,750,000  \n",
              "1792    $80,197,993     $99,296,462  \n",
              "890     $53,789,313     $98,819,789  \n",
              "3364    $37,709,979     $98,963,392  \n",
              "1682    $33,423,000     $99,423,000  \n",
              "5107             $0         $98,806  \n",
              "608    $421,785,283    $986,214,868  \n",
              "582     $56,684,819     $98,983,590  \n",
              "591     $37,384,046     $99,010,667  \n",
              "381     $77,233,467     $99,123,656  "
            ],
            "text/html": [
              "\n",
              "  <div id=\"df-e8b00096-6cb3-456f-a2ed-cf673e4f010d\">\n",
              "    <div class=\"colab-df-container\">\n",
              "      <div>\n",
              "<style scoped>\n",
              "    .dataframe tbody tr th:only-of-type {\n",
              "        vertical-align: middle;\n",
              "    }\n",
              "\n",
              "    .dataframe tbody tr th {\n",
              "        vertical-align: top;\n",
              "    }\n",
              "\n",
              "    .dataframe thead th {\n",
              "        text-align: right;\n",
              "    }\n",
              "</style>\n",
              "<table border=\"1\" class=\"dataframe\">\n",
              "  <thead>\n",
              "    <tr style=\"text-align: right;\">\n",
              "      <th></th>\n",
              "      <th>release_date</th>\n",
              "      <th>movie</th>\n",
              "      <th>production_budget</th>\n",
              "      <th>domestic_gross</th>\n",
              "      <th>worldwide_gross</th>\n",
              "    </tr>\n",
              "  </thead>\n",
              "  <tbody>\n",
              "    <tr>\n",
              "      <th>1078</th>\n",
              "      <td>Aug 17, 2018</td>\n",
              "      <td>Alpha</td>\n",
              "      <td>$51,000,000</td>\n",
              "      <td>$35,851,379</td>\n",
              "      <td>$99,624,873</td>\n",
              "    </tr>\n",
              "    <tr>\n",
              "      <th>4358</th>\n",
              "      <td>Jul 25, 2008</td>\n",
              "      <td>American Teen</td>\n",
              "      <td>$5,000,000</td>\n",
              "      <td>$942,441</td>\n",
              "      <td>$989,319</td>\n",
              "    </tr>\n",
              "    <tr>\n",
              "      <th>1058</th>\n",
              "      <td>Sep 18, 2015</td>\n",
              "      <td>Black Mass</td>\n",
              "      <td>$53,000,000</td>\n",
              "      <td>$62,575,678</td>\n",
              "      <td>$98,837,872</td>\n",
              "    </tr>\n",
              "    <tr>\n",
              "      <th>4373</th>\n",
              "      <td>Jun 4, 1999</td>\n",
              "      <td>Desert Blue</td>\n",
              "      <td>$5,000,000</td>\n",
              "      <td>$99,147</td>\n",
              "      <td>$99,147</td>\n",
              "    </tr>\n",
              "    <tr>\n",
              "      <th>3432</th>\n",
              "      <td>Sep 30, 2005</td>\n",
              "      <td>Duma</td>\n",
              "      <td>$12,000,000</td>\n",
              "      <td>$870,067</td>\n",
              "      <td>$994,790</td>\n",
              "    </tr>\n",
              "    <tr>\n",
              "      <th>3737</th>\n",
              "      <td>Aug 21, 2009</td>\n",
              "      <td>Fifty Dead Men Walking</td>\n",
              "      <td>$10,000,000</td>\n",
              "      <td>$0</td>\n",
              "      <td>$997,921</td>\n",
              "    </tr>\n",
              "    <tr>\n",
              "      <th>883</th>\n",
              "      <td>Apr 2, 2004</td>\n",
              "      <td>Hellboy</td>\n",
              "      <td>$60,000,000</td>\n",
              "      <td>$59,623,958</td>\n",
              "      <td>$99,823,958</td>\n",
              "    </tr>\n",
              "    <tr>\n",
              "      <th>2343</th>\n",
              "      <td>Nov 21, 2007</td>\n",
              "      <td>Hitman</td>\n",
              "      <td>$24,000,000</td>\n",
              "      <td>$39,687,694</td>\n",
              "      <td>$99,135,571</td>\n",
              "    </tr>\n",
              "    <tr>\n",
              "      <th>5062</th>\n",
              "      <td>Apr 1, 2011</td>\n",
              "      <td>Insidious</td>\n",
              "      <td>$1,500,000</td>\n",
              "      <td>$54,009,150</td>\n",
              "      <td>$99,870,886</td>\n",
              "    </tr>\n",
              "    <tr>\n",
              "      <th>3247</th>\n",
              "      <td>Feb 11, 2011</td>\n",
              "      <td>Justin Bieber: Never Say Never</td>\n",
              "      <td>$13,000,000</td>\n",
              "      <td>$73,013,910</td>\n",
              "      <td>$99,034,125</td>\n",
              "    </tr>\n",
              "    <tr>\n",
              "      <th>5613</th>\n",
              "      <td>Mar 21, 1980</td>\n",
              "      <td>Mad Max</td>\n",
              "      <td>$200,000</td>\n",
              "      <td>$8,750,000</td>\n",
              "      <td>$99,750,000</td>\n",
              "    </tr>\n",
              "    <tr>\n",
              "      <th>1792</th>\n",
              "      <td>Jun 16, 2006</td>\n",
              "      <td>Nacho Libre</td>\n",
              "      <td>$32,000,000</td>\n",
              "      <td>$80,197,993</td>\n",
              "      <td>$99,296,462</td>\n",
              "    </tr>\n",
              "    <tr>\n",
              "      <th>890</th>\n",
              "      <td>Dec 25, 2003</td>\n",
              "      <td>Paycheck</td>\n",
              "      <td>$60,000,000</td>\n",
              "      <td>$53,789,313</td>\n",
              "      <td>$98,819,789</td>\n",
              "    </tr>\n",
              "    <tr>\n",
              "      <th>3364</th>\n",
              "      <td>Nov 22, 2013</td>\n",
              "      <td>Philomena</td>\n",
              "      <td>$12,000,000</td>\n",
              "      <td>$37,709,979</td>\n",
              "      <td>$98,963,392</td>\n",
              "    </tr>\n",
              "    <tr>\n",
              "      <th>1682</th>\n",
              "      <td>Dec 23, 1994</td>\n",
              "      <td>Street Fighter</td>\n",
              "      <td>$35,000,000</td>\n",
              "      <td>$33,423,000</td>\n",
              "      <td>$99,423,000</td>\n",
              "    </tr>\n",
              "    <tr>\n",
              "      <th>5107</th>\n",
              "      <td>Jul 20, 2018</td>\n",
              "      <td>Teefa in Trouble</td>\n",
              "      <td>$1,500,000</td>\n",
              "      <td>$0</td>\n",
              "      <td>$98,806</td>\n",
              "    </tr>\n",
              "    <tr>\n",
              "      <th>608</th>\n",
              "      <td>Jun 15, 1994</td>\n",
              "      <td>The Lion King</td>\n",
              "      <td>$79,300,000</td>\n",
              "      <td>$421,785,283</td>\n",
              "      <td>$986,214,868</td>\n",
              "    </tr>\n",
              "    <tr>\n",
              "      <th>582</th>\n",
              "      <td>Mar 8, 2002</td>\n",
              "      <td>The Time Machine</td>\n",
              "      <td>$80,000,000</td>\n",
              "      <td>$56,684,819</td>\n",
              "      <td>$98,983,590</td>\n",
              "    </tr>\n",
              "    <tr>\n",
              "      <th>591</th>\n",
              "      <td>Apr 14, 2006</td>\n",
              "      <td>The Wild</td>\n",
              "      <td>$80,000,000</td>\n",
              "      <td>$37,384,046</td>\n",
              "      <td>$99,010,667</td>\n",
              "    </tr>\n",
              "    <tr>\n",
              "      <th>381</th>\n",
              "      <td>Oct 16, 2009</td>\n",
              "      <td>Where the Wild Things Are</td>\n",
              "      <td>$100,000,000</td>\n",
              "      <td>$77,233,467</td>\n",
              "      <td>$99,123,656</td>\n",
              "    </tr>\n",
              "  </tbody>\n",
              "</table>\n",
              "</div>\n",
              "      <button class=\"colab-df-convert\" onclick=\"convertToInteractive('df-e8b00096-6cb3-456f-a2ed-cf673e4f010d')\"\n",
              "              title=\"Convert this dataframe to an interactive table.\"\n",
              "              style=\"display:none;\">\n",
              "        \n",
              "  <svg xmlns=\"http://www.w3.org/2000/svg\" height=\"24px\"viewBox=\"0 0 24 24\"\n",
              "       width=\"24px\">\n",
              "    <path d=\"M0 0h24v24H0V0z\" fill=\"none\"/>\n",
              "    <path d=\"M18.56 5.44l.94 2.06.94-2.06 2.06-.94-2.06-.94-.94-2.06-.94 2.06-2.06.94zm-11 1L8.5 8.5l.94-2.06 2.06-.94-2.06-.94L8.5 2.5l-.94 2.06-2.06.94zm10 10l.94 2.06.94-2.06 2.06-.94-2.06-.94-.94-2.06-.94 2.06-2.06.94z\"/><path d=\"M17.41 7.96l-1.37-1.37c-.4-.4-.92-.59-1.43-.59-.52 0-1.04.2-1.43.59L10.3 9.45l-7.72 7.72c-.78.78-.78 2.05 0 2.83L4 21.41c.39.39.9.59 1.41.59.51 0 1.02-.2 1.41-.59l7.78-7.78 2.81-2.81c.8-.78.8-2.07 0-2.86zM5.41 20L4 18.59l7.72-7.72 1.47 1.35L5.41 20z\"/>\n",
              "  </svg>\n",
              "      </button>\n",
              "      \n",
              "  <style>\n",
              "    .colab-df-container {\n",
              "      display:flex;\n",
              "      flex-wrap:wrap;\n",
              "      gap: 12px;\n",
              "    }\n",
              "\n",
              "    .colab-df-convert {\n",
              "      background-color: #E8F0FE;\n",
              "      border: none;\n",
              "      border-radius: 50%;\n",
              "      cursor: pointer;\n",
              "      display: none;\n",
              "      fill: #1967D2;\n",
              "      height: 32px;\n",
              "      padding: 0 0 0 0;\n",
              "      width: 32px;\n",
              "    }\n",
              "\n",
              "    .colab-df-convert:hover {\n",
              "      background-color: #E2EBFA;\n",
              "      box-shadow: 0px 1px 2px rgba(60, 64, 67, 0.3), 0px 1px 3px 1px rgba(60, 64, 67, 0.15);\n",
              "      fill: #174EA6;\n",
              "    }\n",
              "\n",
              "    [theme=dark] .colab-df-convert {\n",
              "      background-color: #3B4455;\n",
              "      fill: #D2E3FC;\n",
              "    }\n",
              "\n",
              "    [theme=dark] .colab-df-convert:hover {\n",
              "      background-color: #434B5C;\n",
              "      box-shadow: 0px 1px 3px 1px rgba(0, 0, 0, 0.15);\n",
              "      filter: drop-shadow(0px 1px 2px rgba(0, 0, 0, 0.3));\n",
              "      fill: #FFFFFF;\n",
              "    }\n",
              "  </style>\n",
              "\n",
              "      <script>\n",
              "        const buttonEl =\n",
              "          document.querySelector('#df-e8b00096-6cb3-456f-a2ed-cf673e4f010d button.colab-df-convert');\n",
              "        buttonEl.style.display =\n",
              "          google.colab.kernel.accessAllowed ? 'block' : 'none';\n",
              "\n",
              "        async function convertToInteractive(key) {\n",
              "          const element = document.querySelector('#df-e8b00096-6cb3-456f-a2ed-cf673e4f010d');\n",
              "          const dataTable =\n",
              "            await google.colab.kernel.invokeFunction('convertToInteractive',\n",
              "                                                     [key], {});\n",
              "          if (!dataTable) return;\n",
              "\n",
              "          const docLinkHtml = 'Like what you see? Visit the ' +\n",
              "            '<a target=\"_blank\" href=https://colab.research.google.com/notebooks/data_table.ipynb>data table notebook</a>'\n",
              "            + ' to learn more about interactive tables.';\n",
              "          element.innerHTML = '';\n",
              "          dataTable['output_type'] = 'display_data';\n",
              "          await google.colab.output.renderOutput(dataTable, element);\n",
              "          const docLink = document.createElement('div');\n",
              "          docLink.innerHTML = docLinkHtml;\n",
              "          element.appendChild(docLink);\n",
              "        }\n",
              "      </script>\n",
              "    </div>\n",
              "  </div>\n",
              "  "
            ]
          },
          "metadata": {}
        }
      ]
    },
    {
      "cell_type": "code",
      "source": [
        "plt.figure(figsize = (5, 5))\n",
        "data_set_2_tn_df.boxplot()\n",
        "plt.show()"
      ],
      "metadata": {
        "colab": {
          "base_uri": "https://localhost:8080/",
          "height": 445
        },
        "id": "nseUiBM8riPm",
        "outputId": "f1333652-114e-4bed-ab51-3bc495528cd7"
      },
      "execution_count": 63,
      "outputs": [
        {
          "output_type": "display_data",
          "data": {
            "text/plain": [
              "<Figure size 500x500 with 1 Axes>"
            ],
            "image/png": "[encoded data removed]"
          },
          "metadata": {}
        }
      ]
    },
    {
      "cell_type": "code",
      "source": [
        "data_set_2_tn_df.duplicated().sum()"
      ],
      "metadata": {
        "colab": {
          "base_uri": "https://localhost:8080/"
        },
        "id": "_le6AjzXs6GT",
        "outputId": "d2c9ee89-f1cc-489b-ab3c-c24978989e62"
      },
      "execution_count": 68,
      "outputs": [
        {
          "output_type": "execute_result",
          "data": {
            "text/plain": [
              "0"
            ]
          },
          "metadata": {},
          "execution_count": 68
        }
      ]
    },
    {
      "cell_type": "code",
      "source": [],
      "metadata": {
        "id": "6VP7gYduu_N2"
      },
      "execution_count": null,
      "outputs": []
    },
    {
      "cell_type": "markdown",
      "source": [
        "# **Working with data set;**\n",
        "\n",
        "# **3.'tmdb.movies.csv.gz to be refered as 'data_set_3_tmdb_df**\n"
      ],
      "metadata": {
        "id": "Br5GAz8ty14I"
      }
    },
    {
      "cell_type": "code",
      "source": [
        "# Importing our third data set in order to conduct some functions and attributes test for \n",
        "#a deeper understanding of the said data set \"data_set_3_tmdb_df\"\n",
        "\n",
        "data_set_3_tmdb_df=pd.read_csv('tmdb.movies.csv.gz')\n",
        "data_set_3_tmdb_df\n",
        "\n",
        "\n"
      ],
      "metadata": {
        "colab": {
          "base_uri": "https://localhost:8080/",
          "height": 661
        },
        "id": "AI-qSFAkzOYV",
        "outputId": "c3044286-9e03-4fb2-92e5-d72a4d2ab79c"
      },
      "execution_count": 70,
      "outputs": [
        {
          "output_type": "execute_result",
          "data": {
            "text/plain": [
              "       Unnamed: 0            genre_ids      id original_language  \\\n",
              "0               0      [12, 14, 10751]   12444                en   \n",
              "1               1  [14, 12, 16, 10751]   10191                en   \n",
              "2               2        [12, 28, 878]   10138                en   \n",
              "3               3      [16, 35, 10751]     862                en   \n",
              "4               4        [28, 878, 12]   27205                en   \n",
              "...           ...                  ...     ...               ...   \n",
              "26512       26512             [27, 18]  488143                en   \n",
              "26513       26513             [18, 53]  485975                en   \n",
              "26514       26514         [14, 28, 12]  381231                en   \n",
              "26515       26515      [10751, 12, 28]  366854                en   \n",
              "26516       26516             [53, 27]  309885                en   \n",
              "\n",
              "                                     original_title  popularity release_date  \\\n",
              "0      Harry Potter and the Deathly Hallows: Part 1      33.533   2010-11-19   \n",
              "1                          How to Train Your Dragon      28.734   2010-03-26   \n",
              "2                                        Iron Man 2      28.515   2010-05-07   \n",
              "3                                         Toy Story      28.005   1995-11-22   \n",
              "4                                         Inception      27.920   2010-07-16   \n",
              "...                                             ...         ...          ...   \n",
              "26512                         Laboratory Conditions       0.600   2018-10-13   \n",
              "26513                               _EXHIBIT_84xxx_       0.600   2018-05-01   \n",
              "26514                                  The Last One       0.600   2018-10-01   \n",
              "26515                                  Trailer Made       0.600   2018-06-22   \n",
              "26516                                    The Church       0.600   2018-10-05   \n",
              "\n",
              "                                              title  vote_average  vote_count  \n",
              "0      Harry Potter and the Deathly Hallows: Part 1           7.7       10788  \n",
              "1                          How to Train Your Dragon           7.7        7610  \n",
              "2                                        Iron Man 2           6.8       12368  \n",
              "3                                         Toy Story           7.9       10174  \n",
              "4                                         Inception           8.3       22186  \n",
              "...                                             ...           ...         ...  \n",
              "26512                         Laboratory Conditions           0.0           1  \n",
              "26513                               _EXHIBIT_84xxx_           0.0           1  \n",
              "26514                                  The Last One           0.0           1  \n",
              "26515                                  Trailer Made           0.0           1  \n",
              "26516                                    The Church           0.0           1  \n",
              "\n",
              "[26517 rows x 10 columns]"
            ],
            "text/html": [
              "\n",
              "  <div id=\"df-3f33df9c-81d7-4d14-b566-fa0bdedb46f4\">\n",
              "    <div class=\"colab-df-container\">\n",
              "      <div>\n",
              "<style scoped>\n",
              "    .dataframe tbody tr th:only-of-type {\n",
              "        vertical-align: middle;\n",
              "    }\n",
              "\n",
              "    .dataframe tbody tr th {\n",
              "        vertical-align: top;\n",
              "    }\n",
              "\n",
              "    .dataframe thead th {\n",
              "        text-align: right;\n",
              "    }\n",
              "</style>\n",
              "<table border=\"1\" class=\"dataframe\">\n",
              "  <thead>\n",
              "    <tr style=\"text-align: right;\">\n",
              "      <th></th>\n",
              "      <th>Unnamed: 0</th>\n",
              "      <th>genre_ids</th>\n",
              "      <th>id</th>\n",
              "      <th>original_language</th>\n",
              "      <th>original_title</th>\n",
              "      <th>popularity</th>\n",
              "      <th>release_date</th>\n",
              "      <th>title</th>\n",
              "      <th>vote_average</th>\n",
              "      <th>vote_count</th>\n",
              "    </tr>\n",
              "  </thead>\n",
              "  <tbody>\n",
              "    <tr>\n",
              "      <th>0</th>\n",
              "      <td>0</td>\n",
              "      <td>[12, 14, 10751]</td>\n",
              "      <td>12444</td>\n",
              "      <td>en</td>\n",
              "      <td>Harry Potter and the Deathly Hallows: Part 1</td>\n",
              "      <td>33.533</td>\n",
              "      <td>2010-11-19</td>\n",
              "      <td>Harry Potter and the Deathly Hallows: Part 1</td>\n",
              "      <td>7.7</td>\n",
              "      <td>10788</td>\n",
              "    </tr>\n",
              "    <tr>\n",
              "      <th>1</th>\n",
              "      <td>1</td>\n",
              "      <td>[14, 12, 16, 10751]</td>\n",
              "      <td>10191</td>\n",
              "      <td>en</td>\n",
              "      <td>How to Train Your Dragon</td>\n",
              "      <td>28.734</td>\n",
              "      <td>2010-03-26</td>\n",
              "      <td>How to Train Your Dragon</td>\n",
              "      <td>7.7</td>\n",
              "      <td>7610</td>\n",
              "    </tr>\n",
              "    <tr>\n",
              "      <th>2</th>\n",
              "      <td>2</td>\n",
              "      <td>[12, 28, 878]</td>\n",
              "      <td>10138</td>\n",
              "      <td>en</td>\n",
              "      <td>Iron Man 2</td>\n",
              "      <td>28.515</td>\n",
              "      <td>2010-05-07</td>\n",
              "      <td>Iron Man 2</td>\n",
              "      <td>6.8</td>\n",
              "      <td>12368</td>\n",
              "    </tr>\n",
              "    <tr>\n",
              "      <th>3</th>\n",
              "      <td>3</td>\n",
              "      <td>[16, 35, 10751]</td>\n",
              "      <td>862</td>\n",
              "      <td>en</td>\n",
              "      <td>Toy Story</td>\n",
              "      <td>28.005</td>\n",
              "      <td>1995-11-22</td>\n",
              "      <td>Toy Story</td>\n",
              "      <td>7.9</td>\n",
              "      <td>10174</td>\n",
              "    </tr>\n",
              "    <tr>\n",
              "      <th>4</th>\n",
              "      <td>4</td>\n",
              "      <td>[28, 878, 12]</td>\n",
              "      <td>27205</td>\n",
              "      <td>en</td>\n",
              "      <td>Inception</td>\n",
              "      <td>27.920</td>\n",
              "      <td>2010-07-16</td>\n",
              "      <td>Inception</td>\n",
              "      <td>8.3</td>\n",
              "      <td>22186</td>\n",
              "    </tr>\n",
              "    <tr>\n",
              "      <th>...</th>\n",
              "      <td>...</td>\n",
              "      <td>...</td>\n",
              "      <td>...</td>\n",
              "      <td>...</td>\n",
              "      <td>...</td>\n",
              "      <td>...</td>\n",
              "      <td>...</td>\n",
              "      <td>...</td>\n",
              "      <td>...</td>\n",
              "      <td>...</td>\n",
              "    </tr>\n",
              "    <tr>\n",
              "      <th>26512</th>\n",
              "      <td>26512</td>\n",
              "      <td>[27, 18]</td>\n",
              "      <td>488143</td>\n",
              "      <td>en</td>\n",
              "      <td>Laboratory Conditions</td>\n",
              "      <td>0.600</td>\n",
              "      <td>2018-10-13</td>\n",
              "      <td>Laboratory Conditions</td>\n",
              "      <td>0.0</td>\n",
              "      <td>1</td>\n",
              "    </tr>\n",
              "    <tr>\n",
              "      <th>26513</th>\n",
              "      <td>26513</td>\n",
              "      <td>[18, 53]</td>\n",
              "      <td>485975</td>\n",
              "      <td>en</td>\n",
              "      <td>_EXHIBIT_84xxx_</td>\n",
              "      <td>0.600</td>\n",
              "      <td>2018-05-01</td>\n",
              "      <td>_EXHIBIT_84xxx_</td>\n",
              "      <td>0.0</td>\n",
              "      <td>1</td>\n",
              "    </tr>\n",
              "    <tr>\n",
              "      <th>26514</th>\n",
              "      <td>26514</td>\n",
              "      <td>[14, 28, 12]</td>\n",
              "      <td>381231</td>\n",
              "      <td>en</td>\n",
              "      <td>The Last One</td>\n",
              "      <td>0.600</td>\n",
              "      <td>2018-10-01</td>\n",
              "      <td>The Last One</td>\n",
              "      <td>0.0</td>\n",
              "      <td>1</td>\n",
              "    </tr>\n",
              "    <tr>\n",
              "      <th>26515</th>\n",
              "      <td>26515</td>\n",
              "      <td>[10751, 12, 28]</td>\n",
              "      <td>366854</td>\n",
              "      <td>en</td>\n",
              "      <td>Trailer Made</td>\n",
              "      <td>0.600</td>\n",
              "      <td>2018-06-22</td>\n",
              "      <td>Trailer Made</td>\n",
              "      <td>0.0</td>\n",
              "      <td>1</td>\n",
              "    </tr>\n",
              "    <tr>\n",
              "      <th>26516</th>\n",
              "      <td>26516</td>\n",
              "      <td>[53, 27]</td>\n",
              "      <td>309885</td>\n",
              "      <td>en</td>\n",
              "      <td>The Church</td>\n",
              "      <td>0.600</td>\n",
              "      <td>2018-10-05</td>\n",
              "      <td>The Church</td>\n",
              "      <td>0.0</td>\n",
              "      <td>1</td>\n",
              "    </tr>\n",
              "  </tbody>\n",
              "</table>\n",
              "<p>26517 rows × 10 columns</p>\n",
              "</div>\n",
              "      <button class=\"colab-df-convert\" onclick=\"convertToInteractive('df-3f33df9c-81d7-4d14-b566-fa0bdedb46f4')\"\n",
              "              title=\"Convert this dataframe to an interactive table.\"\n",
              "              style=\"display:none;\">\n",
              "        \n",
              "  <svg xmlns=\"http://www.w3.org/2000/svg\" height=\"24px\"viewBox=\"0 0 24 24\"\n",
              "       width=\"24px\">\n",
              "    <path d=\"M0 0h24v24H0V0z\" fill=\"none\"/>\n",
              "    <path d=\"M18.56 5.44l.94 2.06.94-2.06 2.06-.94-2.06-.94-.94-2.06-.94 2.06-2.06.94zm-11 1L8.5 8.5l.94-2.06 2.06-.94-2.06-.94L8.5 2.5l-.94 2.06-2.06.94zm10 10l.94 2.06.94-2.06 2.06-.94-2.06-.94-.94-2.06-.94 2.06-2.06.94z\"/><path d=\"M17.41 7.96l-1.37-1.37c-.4-.4-.92-.59-1.43-.59-.52 0-1.04.2-1.43.59L10.3 9.45l-7.72 7.72c-.78.78-.78 2.05 0 2.83L4 21.41c.39.39.9.59 1.41.59.51 0 1.02-.2 1.41-.59l7.78-7.78 2.81-2.81c.8-.78.8-2.07 0-2.86zM5.41 20L4 18.59l7.72-7.72 1.47 1.35L5.41 20z\"/>\n",
              "  </svg>\n",
              "      </button>\n",
              "      \n",
              "  <style>\n",
              "    .colab-df-container {\n",
              "      display:flex;\n",
              "      flex-wrap:wrap;\n",
              "      gap: 12px;\n",
              "    }\n",
              "\n",
              "    .colab-df-convert {\n",
              "      background-color: #E8F0FE;\n",
              "      border: none;\n",
              "      border-radius: 50%;\n",
              "      cursor: pointer;\n",
              "      display: none;\n",
              "      fill: #1967D2;\n",
              "      height: 32px;\n",
              "      padding: 0 0 0 0;\n",
              "      width: 32px;\n",
              "    }\n",
              "\n",
              "    .colab-df-convert:hover {\n",
              "      background-color: #E2EBFA;\n",
              "      box-shadow: 0px 1px 2px rgba(60, 64, 67, 0.3), 0px 1px 3px 1px rgba(60, 64, 67, 0.15);\n",
              "      fill: #174EA6;\n",
              "    }\n",
              "\n",
              "    [theme=dark] .colab-df-convert {\n",
              "      background-color: #3B4455;\n",
              "      fill: #D2E3FC;\n",
              "    }\n",
              "\n",
              "    [theme=dark] .colab-df-convert:hover {\n",
              "      background-color: #434B5C;\n",
              "      box-shadow: 0px 1px 3px 1px rgba(0, 0, 0, 0.15);\n",
              "      filter: drop-shadow(0px 1px 2px rgba(0, 0, 0, 0.3));\n",
              "      fill: #FFFFFF;\n",
              "    }\n",
              "  </style>\n",
              "\n",
              "      <script>\n",
              "        const buttonEl =\n",
              "          document.querySelector('#df-3f33df9c-81d7-4d14-b566-fa0bdedb46f4 button.colab-df-convert');\n",
              "        buttonEl.style.display =\n",
              "          google.colab.kernel.accessAllowed ? 'block' : 'none';\n",
              "\n",
              "        async function convertToInteractive(key) {\n",
              "          const element = document.querySelector('#df-3f33df9c-81d7-4d14-b566-fa0bdedb46f4');\n",
              "          const dataTable =\n",
              "            await google.colab.kernel.invokeFunction('convertToInteractive',\n",
              "                                                     [key], {});\n",
              "          if (!dataTable) return;\n",
              "\n",
              "          const docLinkHtml = 'Like what you see? Visit the ' +\n",
              "            '<a target=\"_blank\" href=https://colab.research.google.com/notebooks/data_table.ipynb>data table notebook</a>'\n",
              "            + ' to learn more about interactive tables.';\n",
              "          element.innerHTML = '';\n",
              "          dataTable['output_type'] = 'display_data';\n",
              "          await google.colab.output.renderOutput(dataTable, element);\n",
              "          const docLink = document.createElement('div');\n",
              "          docLink.innerHTML = docLinkHtml;\n",
              "          element.appendChild(docLink);\n",
              "        }\n",
              "      </script>\n",
              "    </div>\n",
              "  </div>\n",
              "  "
            ]
          },
          "metadata": {},
          "execution_count": 70
        }
      ]
    },
    {
      "cell_type": "markdown",
      "source": [
        "# **Removing un-neccessary columns from our data set.**"
      ],
      "metadata": {
        "id": "RYEUz3qJ1HIP"
      }
    },
    {
      "cell_type": "code",
      "source": [
        "data_set_3_tmdb_df=pd.read_csv('tmdb.movies.csv.gz',index_col=0)\n",
        "data_set_3_tmdb_df"
      ],
      "metadata": {
        "colab": {
          "base_uri": "https://localhost:8080/",
          "height": 606
        },
        "id": "nfoUBMd51Qw2",
        "outputId": "0f60f0e6-6659-4258-8c5d-d7f97a199cf5"
      },
      "execution_count": 71,
      "outputs": [
        {
          "output_type": "execute_result",
          "data": {
            "text/plain": [
              "                 genre_ids      id original_language  \\\n",
              "0          [12, 14, 10751]   12444                en   \n",
              "1      [14, 12, 16, 10751]   10191                en   \n",
              "2            [12, 28, 878]   10138                en   \n",
              "3          [16, 35, 10751]     862                en   \n",
              "4            [28, 878, 12]   27205                en   \n",
              "...                    ...     ...               ...   \n",
              "26512             [27, 18]  488143                en   \n",
              "26513             [18, 53]  485975                en   \n",
              "26514         [14, 28, 12]  381231                en   \n",
              "26515      [10751, 12, 28]  366854                en   \n",
              "26516             [53, 27]  309885                en   \n",
              "\n",
              "                                     original_title  popularity release_date  \\\n",
              "0      Harry Potter and the Deathly Hallows: Part 1      33.533   2010-11-19   \n",
              "1                          How to Train Your Dragon      28.734   2010-03-26   \n",
              "2                                        Iron Man 2      28.515   2010-05-07   \n",
              "3                                         Toy Story      28.005   1995-11-22   \n",
              "4                                         Inception      27.920   2010-07-16   \n",
              "...                                             ...         ...          ...   \n",
              "26512                         Laboratory Conditions       0.600   2018-10-13   \n",
              "26513                               _EXHIBIT_84xxx_       0.600   2018-05-01   \n",
              "26514                                  The Last One       0.600   2018-10-01   \n",
              "26515                                  Trailer Made       0.600   2018-06-22   \n",
              "26516                                    The Church       0.600   2018-10-05   \n",
              "\n",
              "                                              title  vote_average  vote_count  \n",
              "0      Harry Potter and the Deathly Hallows: Part 1           7.7       10788  \n",
              "1                          How to Train Your Dragon           7.7        7610  \n",
              "2                                        Iron Man 2           6.8       12368  \n",
              "3                                         Toy Story           7.9       10174  \n",
              "4                                         Inception           8.3       22186  \n",
              "...                                             ...           ...         ...  \n",
              "26512                         Laboratory Conditions           0.0           1  \n",
              "26513                               _EXHIBIT_84xxx_           0.0           1  \n",
              "26514                                  The Last One           0.0           1  \n",
              "26515                                  Trailer Made           0.0           1  \n",
              "26516                                    The Church           0.0           1  \n",
              "\n",
              "[26517 rows x 9 columns]"
            ],
            "text/html": [
              "\n",
              "  <div id=\"df-5a07dccf-f6e6-4a0b-a026-3c9cd731ad2e\">\n",
              "    <div class=\"colab-df-container\">\n",
              "      <div>\n",
              "<style scoped>\n",
              "    .dataframe tbody tr th:only-of-type {\n",
              "        vertical-align: middle;\n",
              "    }\n",
              "\n",
              "    .dataframe tbody tr th {\n",
              "        vertical-align: top;\n",
              "    }\n",
              "\n",
              "    .dataframe thead th {\n",
              "        text-align: right;\n",
              "    }\n",
              "</style>\n",
              "<table border=\"1\" class=\"dataframe\">\n",
              "  <thead>\n",
              "    <tr style=\"text-align: right;\">\n",
              "      <th></th>\n",
              "      <th>genre_ids</th>\n",
              "      <th>id</th>\n",
              "      <th>original_language</th>\n",
              "      <th>original_title</th>\n",
              "      <th>popularity</th>\n",
              "      <th>release_date</th>\n",
              "      <th>title</th>\n",
              "      <th>vote_average</th>\n",
              "      <th>vote_count</th>\n",
              "    </tr>\n",
              "  </thead>\n",
              "  <tbody>\n",
              "    <tr>\n",
              "      <th>0</th>\n",
              "      <td>[12, 14, 10751]</td>\n",
              "      <td>12444</td>\n",
              "      <td>en</td>\n",
              "      <td>Harry Potter and the Deathly Hallows: Part 1</td>\n",
              "      <td>33.533</td>\n",
              "      <td>2010-11-19</td>\n",
              "      <td>Harry Potter and the Deathly Hallows: Part 1</td>\n",
              "      <td>7.7</td>\n",
              "      <td>10788</td>\n",
              "    </tr>\n",
              "    <tr>\n",
              "      <th>1</th>\n",
              "      <td>[14, 12, 16, 10751]</td>\n",
              "      <td>10191</td>\n",
              "      <td>en</td>\n",
              "      <td>How to Train Your Dragon</td>\n",
              "      <td>28.734</td>\n",
              "      <td>2010-03-26</td>\n",
              "      <td>How to Train Your Dragon</td>\n",
              "      <td>7.7</td>\n",
              "      <td>7610</td>\n",
              "    </tr>\n",
              "    <tr>\n",
              "      <th>2</th>\n",
              "      <td>[12, 28, 878]</td>\n",
              "      <td>10138</td>\n",
              "      <td>en</td>\n",
              "      <td>Iron Man 2</td>\n",
              "      <td>28.515</td>\n",
              "      <td>2010-05-07</td>\n",
              "      <td>Iron Man 2</td>\n",
              "      <td>6.8</td>\n",
              "      <td>12368</td>\n",
              "    </tr>\n",
              "    <tr>\n",
              "      <th>3</th>\n",
              "      <td>[16, 35, 10751]</td>\n",
              "      <td>862</td>\n",
              "      <td>en</td>\n",
              "      <td>Toy Story</td>\n",
              "      <td>28.005</td>\n",
              "      <td>1995-11-22</td>\n",
              "      <td>Toy Story</td>\n",
              "      <td>7.9</td>\n",
              "      <td>10174</td>\n",
              "    </tr>\n",
              "    <tr>\n",
              "      <th>4</th>\n",
              "      <td>[28, 878, 12]</td>\n",
              "      <td>27205</td>\n",
              "      <td>en</td>\n",
              "      <td>Inception</td>\n",
              "      <td>27.920</td>\n",
              "      <td>2010-07-16</td>\n",
              "      <td>Inception</td>\n",
              "      <td>8.3</td>\n",
              "      <td>22186</td>\n",
              "    </tr>\n",
              "    <tr>\n",
              "      <th>...</th>\n",
              "      <td>...</td>\n",
              "      <td>...</td>\n",
              "      <td>...</td>\n",
              "      <td>...</td>\n",
              "      <td>...</td>\n",
              "      <td>...</td>\n",
              "      <td>...</td>\n",
              "      <td>...</td>\n",
              "      <td>...</td>\n",
              "    </tr>\n",
              "    <tr>\n",
              "      <th>26512</th>\n",
              "      <td>[27, 18]</td>\n",
              "      <td>488143</td>\n",
              "      <td>en</td>\n",
              "      <td>Laboratory Conditions</td>\n",
              "      <td>0.600</td>\n",
              "      <td>2018-10-13</td>\n",
              "      <td>Laboratory Conditions</td>\n",
              "      <td>0.0</td>\n",
              "      <td>1</td>\n",
              "    </tr>\n",
              "    <tr>\n",
              "      <th>26513</th>\n",
              "      <td>[18, 53]</td>\n",
              "      <td>485975</td>\n",
              "      <td>en</td>\n",
              "      <td>_EXHIBIT_84xxx_</td>\n",
              "      <td>0.600</td>\n",
              "      <td>2018-05-01</td>\n",
              "      <td>_EXHIBIT_84xxx_</td>\n",
              "      <td>0.0</td>\n",
              "      <td>1</td>\n",
              "    </tr>\n",
              "    <tr>\n",
              "      <th>26514</th>\n",
              "      <td>[14, 28, 12]</td>\n",
              "      <td>381231</td>\n",
              "      <td>en</td>\n",
              "      <td>The Last One</td>\n",
              "      <td>0.600</td>\n",
              "      <td>2018-10-01</td>\n",
              "      <td>The Last One</td>\n",
              "      <td>0.0</td>\n",
              "      <td>1</td>\n",
              "    </tr>\n",
              "    <tr>\n",
              "      <th>26515</th>\n",
              "      <td>[10751, 12, 28]</td>\n",
              "      <td>366854</td>\n",
              "      <td>en</td>\n",
              "      <td>Trailer Made</td>\n",
              "      <td>0.600</td>\n",
              "      <td>2018-06-22</td>\n",
              "      <td>Trailer Made</td>\n",
              "      <td>0.0</td>\n",
              "      <td>1</td>\n",
              "    </tr>\n",
              "    <tr>\n",
              "      <th>26516</th>\n",
              "      <td>[53, 27]</td>\n",
              "      <td>309885</td>\n",
              "      <td>en</td>\n",
              "      <td>The Church</td>\n",
              "      <td>0.600</td>\n",
              "      <td>2018-10-05</td>\n",
              "      <td>The Church</td>\n",
              "      <td>0.0</td>\n",
              "      <td>1</td>\n",
              "    </tr>\n",
              "  </tbody>\n",
              "</table>\n",
              "<p>26517 rows × 9 columns</p>\n",
              "</div>\n",
              "      <button class=\"colab-df-convert\" onclick=\"convertToInteractive('df-5a07dccf-f6e6-4a0b-a026-3c9cd731ad2e')\"\n",
              "              title=\"Convert this dataframe to an interactive table.\"\n",
              "              style=\"display:none;\">\n",
              "        \n",
              "  <svg xmlns=\"http://www.w3.org/2000/svg\" height=\"24px\"viewBox=\"0 0 24 24\"\n",
              "       width=\"24px\">\n",
              "    <path d=\"M0 0h24v24H0V0z\" fill=\"none\"/>\n",
              "    <path d=\"M18.56 5.44l.94 2.06.94-2.06 2.06-.94-2.06-.94-.94-2.06-.94 2.06-2.06.94zm-11 1L8.5 8.5l.94-2.06 2.06-.94-2.06-.94L8.5 2.5l-.94 2.06-2.06.94zm10 10l.94 2.06.94-2.06 2.06-.94-2.06-.94-.94-2.06-.94 2.06-2.06.94z\"/><path d=\"M17.41 7.96l-1.37-1.37c-.4-.4-.92-.59-1.43-.59-.52 0-1.04.2-1.43.59L10.3 9.45l-7.72 7.72c-.78.78-.78 2.05 0 2.83L4 21.41c.39.39.9.59 1.41.59.51 0 1.02-.2 1.41-.59l7.78-7.78 2.81-2.81c.8-.78.8-2.07 0-2.86zM5.41 20L4 18.59l7.72-7.72 1.47 1.35L5.41 20z\"/>\n",
              "  </svg>\n",
              "      </button>\n",
              "      \n",
              "  <style>\n",
              "    .colab-df-container {\n",
              "      display:flex;\n",
              "      flex-wrap:wrap;\n",
              "      gap: 12px;\n",
              "    }\n",
              "\n",
              "    .colab-df-convert {\n",
              "      background-color: #E8F0FE;\n",
              "      border: none;\n",
              "      border-radius: 50%;\n",
              "      cursor: pointer;\n",
              "      display: none;\n",
              "      fill: #1967D2;\n",
              "      height: 32px;\n",
              "      padding: 0 0 0 0;\n",
              "      width: 32px;\n",
              "    }\n",
              "\n",
              "    .colab-df-convert:hover {\n",
              "      background-color: #E2EBFA;\n",
              "      box-shadow: 0px 1px 2px rgba(60, 64, 67, 0.3), 0px 1px 3px 1px rgba(60, 64, 67, 0.15);\n",
              "      fill: #174EA6;\n",
              "    }\n",
              "\n",
              "    [theme=dark] .colab-df-convert {\n",
              "      background-color: #3B4455;\n",
              "      fill: #D2E3FC;\n",
              "    }\n",
              "\n",
              "    [theme=dark] .colab-df-convert:hover {\n",
              "      background-color: #434B5C;\n",
              "      box-shadow: 0px 1px 3px 1px rgba(0, 0, 0, 0.15);\n",
              "      filter: drop-shadow(0px 1px 2px rgba(0, 0, 0, 0.3));\n",
              "      fill: #FFFFFF;\n",
              "    }\n",
              "  </style>\n",
              "\n",
              "      <script>\n",
              "        const buttonEl =\n",
              "          document.querySelector('#df-5a07dccf-f6e6-4a0b-a026-3c9cd731ad2e button.colab-df-convert');\n",
              "        buttonEl.style.display =\n",
              "          google.colab.kernel.accessAllowed ? 'block' : 'none';\n",
              "\n",
              "        async function convertToInteractive(key) {\n",
              "          const element = document.querySelector('#df-5a07dccf-f6e6-4a0b-a026-3c9cd731ad2e');\n",
              "          const dataTable =\n",
              "            await google.colab.kernel.invokeFunction('convertToInteractive',\n",
              "                                                     [key], {});\n",
              "          if (!dataTable) return;\n",
              "\n",
              "          const docLinkHtml = 'Like what you see? Visit the ' +\n",
              "            '<a target=\"_blank\" href=https://colab.research.google.com/notebooks/data_table.ipynb>data table notebook</a>'\n",
              "            + ' to learn more about interactive tables.';\n",
              "          element.innerHTML = '';\n",
              "          dataTable['output_type'] = 'display_data';\n",
              "          await google.colab.output.renderOutput(dataTable, element);\n",
              "          const docLink = document.createElement('div');\n",
              "          docLink.innerHTML = docLinkHtml;\n",
              "          element.appendChild(docLink);\n",
              "        }\n",
              "      </script>\n",
              "    </div>\n",
              "  </div>\n",
              "  "
            ]
          },
          "metadata": {},
          "execution_count": 71
        }
      ]
    },
    {
      "cell_type": "markdown",
      "source": [
        "# **Understanding and or checking at the first 5 rows of our data set** ."
      ],
      "metadata": {
        "id": "tLJXSk8l1gp8"
      }
    },
    {
      "cell_type": "code",
      "source": [
        "data_set_3_tmdb_df.head()"
      ],
      "metadata": {
        "colab": {
          "base_uri": "https://localhost:8080/",
          "height": 319
        },
        "id": "Xw4gNNDc1p0V",
        "outputId": "8e1e254c-9284-491f-d665-86c199aafdd6"
      },
      "execution_count": 72,
      "outputs": [
        {
          "output_type": "execute_result",
          "data": {
            "text/plain": [
              "             genre_ids     id original_language  \\\n",
              "0      [12, 14, 10751]  12444                en   \n",
              "1  [14, 12, 16, 10751]  10191                en   \n",
              "2        [12, 28, 878]  10138                en   \n",
              "3      [16, 35, 10751]    862                en   \n",
              "4        [28, 878, 12]  27205                en   \n",
              "\n",
              "                                 original_title  popularity release_date  \\\n",
              "0  Harry Potter and the Deathly Hallows: Part 1      33.533   2010-11-19   \n",
              "1                      How to Train Your Dragon      28.734   2010-03-26   \n",
              "2                                    Iron Man 2      28.515   2010-05-07   \n",
              "3                                     Toy Story      28.005   1995-11-22   \n",
              "4                                     Inception      27.920   2010-07-16   \n",
              "\n",
              "                                          title  vote_average  vote_count  \n",
              "0  Harry Potter and the Deathly Hallows: Part 1           7.7       10788  \n",
              "1                      How to Train Your Dragon           7.7        7610  \n",
              "2                                    Iron Man 2           6.8       12368  \n",
              "3                                     Toy Story           7.9       10174  \n",
              "4                                     Inception           8.3       22186  "
            ],
            "text/html": [
              "\n",
              "  <div id=\"df-087518e8-ae4b-453b-8826-cda00620ed97\">\n",
              "    <div class=\"colab-df-container\">\n",
              "      <div>\n",
              "<style scoped>\n",
              "    .dataframe tbody tr th:only-of-type {\n",
              "        vertical-align: middle;\n",
              "    }\n",
              "\n",
              "    .dataframe tbody tr th {\n",
              "        vertical-align: top;\n",
              "    }\n",
              "\n",
              "    .dataframe thead th {\n",
              "        text-align: right;\n",
              "    }\n",
              "</style>\n",
              "<table border=\"1\" class=\"dataframe\">\n",
              "  <thead>\n",
              "    <tr style=\"text-align: right;\">\n",
              "      <th></th>\n",
              "      <th>genre_ids</th>\n",
              "      <th>id</th>\n",
              "      <th>original_language</th>\n",
              "      <th>original_title</th>\n",
              "      <th>popularity</th>\n",
              "      <th>release_date</th>\n",
              "      <th>title</th>\n",
              "      <th>vote_average</th>\n",
              "      <th>vote_count</th>\n",
              "    </tr>\n",
              "  </thead>\n",
              "  <tbody>\n",
              "    <tr>\n",
              "      <th>0</th>\n",
              "      <td>[12, 14, 10751]</td>\n",
              "      <td>12444</td>\n",
              "      <td>en</td>\n",
              "      <td>Harry Potter and the Deathly Hallows: Part 1</td>\n",
              "      <td>33.533</td>\n",
              "      <td>2010-11-19</td>\n",
              "      <td>Harry Potter and the Deathly Hallows: Part 1</td>\n",
              "      <td>7.7</td>\n",
              "      <td>10788</td>\n",
              "    </tr>\n",
              "    <tr>\n",
              "      <th>1</th>\n",
              "      <td>[14, 12, 16, 10751]</td>\n",
              "      <td>10191</td>\n",
              "      <td>en</td>\n",
              "      <td>How to Train Your Dragon</td>\n",
              "      <td>28.734</td>\n",
              "      <td>2010-03-26</td>\n",
              "      <td>How to Train Your Dragon</td>\n",
              "      <td>7.7</td>\n",
              "      <td>7610</td>\n",
              "    </tr>\n",
              "    <tr>\n",
              "      <th>2</th>\n",
              "      <td>[12, 28, 878]</td>\n",
              "      <td>10138</td>\n",
              "      <td>en</td>\n",
              "      <td>Iron Man 2</td>\n",
              "      <td>28.515</td>\n",
              "      <td>2010-05-07</td>\n",
              "      <td>Iron Man 2</td>\n",
              "      <td>6.8</td>\n",
              "      <td>12368</td>\n",
              "    </tr>\n",
              "    <tr>\n",
              "      <th>3</th>\n",
              "      <td>[16, 35, 10751]</td>\n",
              "      <td>862</td>\n",
              "      <td>en</td>\n",
              "      <td>Toy Story</td>\n",
              "      <td>28.005</td>\n",
              "      <td>1995-11-22</td>\n",
              "      <td>Toy Story</td>\n",
              "      <td>7.9</td>\n",
              "      <td>10174</td>\n",
              "    </tr>\n",
              "    <tr>\n",
              "      <th>4</th>\n",
              "      <td>[28, 878, 12]</td>\n",
              "      <td>27205</td>\n",
              "      <td>en</td>\n",
              "      <td>Inception</td>\n",
              "      <td>27.920</td>\n",
              "      <td>2010-07-16</td>\n",
              "      <td>Inception</td>\n",
              "      <td>8.3</td>\n",
              "      <td>22186</td>\n",
              "    </tr>\n",
              "  </tbody>\n",
              "</table>\n",
              "</div>\n",
              "      <button class=\"colab-df-convert\" onclick=\"convertToInteractive('df-087518e8-ae4b-453b-8826-cda00620ed97')\"\n",
              "              title=\"Convert this dataframe to an interactive table.\"\n",
              "              style=\"display:none;\">\n",
              "        \n",
              "  <svg xmlns=\"http://www.w3.org/2000/svg\" height=\"24px\"viewBox=\"0 0 24 24\"\n",
              "       width=\"24px\">\n",
              "    <path d=\"M0 0h24v24H0V0z\" fill=\"none\"/>\n",
              "    <path d=\"M18.56 5.44l.94 2.06.94-2.06 2.06-.94-2.06-.94-.94-2.06-.94 2.06-2.06.94zm-11 1L8.5 8.5l.94-2.06 2.06-.94-2.06-.94L8.5 2.5l-.94 2.06-2.06.94zm10 10l.94 2.06.94-2.06 2.06-.94-2.06-.94-.94-2.06-.94 2.06-2.06.94z\"/><path d=\"M17.41 7.96l-1.37-1.37c-.4-.4-.92-.59-1.43-.59-.52 0-1.04.2-1.43.59L10.3 9.45l-7.72 7.72c-.78.78-.78 2.05 0 2.83L4 21.41c.39.39.9.59 1.41.59.51 0 1.02-.2 1.41-.59l7.78-7.78 2.81-2.81c.8-.78.8-2.07 0-2.86zM5.41 20L4 18.59l7.72-7.72 1.47 1.35L5.41 20z\"/>\n",
              "  </svg>\n",
              "      </button>\n",
              "      \n",
              "  <style>\n",
              "    .colab-df-container {\n",
              "      display:flex;\n",
              "      flex-wrap:wrap;\n",
              "      gap: 12px;\n",
              "    }\n",
              "\n",
              "    .colab-df-convert {\n",
              "      background-color: #E8F0FE;\n",
              "      border: none;\n",
              "      border-radius: 50%;\n",
              "      cursor: pointer;\n",
              "      display: none;\n",
              "      fill: #1967D2;\n",
              "      height: 32px;\n",
              "      padding: 0 0 0 0;\n",
              "      width: 32px;\n",
              "    }\n",
              "\n",
              "    .colab-df-convert:hover {\n",
              "      background-color: #E2EBFA;\n",
              "      box-shadow: 0px 1px 2px rgba(60, 64, 67, 0.3), 0px 1px 3px 1px rgba(60, 64, 67, 0.15);\n",
              "      fill: #174EA6;\n",
              "    }\n",
              "\n",
              "    [theme=dark] .colab-df-convert {\n",
              "      background-color: #3B4455;\n",
              "      fill: #D2E3FC;\n",
              "    }\n",
              "\n",
              "    [theme=dark] .colab-df-convert:hover {\n",
              "      background-color: #434B5C;\n",
              "      box-shadow: 0px 1px 3px 1px rgba(0, 0, 0, 0.15);\n",
              "      filter: drop-shadow(0px 1px 2px rgba(0, 0, 0, 0.3));\n",
              "      fill: #FFFFFF;\n",
              "    }\n",
              "  </style>\n",
              "\n",
              "      <script>\n",
              "        const buttonEl =\n",
              "          document.querySelector('#df-087518e8-ae4b-453b-8826-cda00620ed97 button.colab-df-convert');\n",
              "        buttonEl.style.display =\n",
              "          google.colab.kernel.accessAllowed ? 'block' : 'none';\n",
              "\n",
              "        async function convertToInteractive(key) {\n",
              "          const element = document.querySelector('#df-087518e8-ae4b-453b-8826-cda00620ed97');\n",
              "          const dataTable =\n",
              "            await google.colab.kernel.invokeFunction('convertToInteractive',\n",
              "                                                     [key], {});\n",
              "          if (!dataTable) return;\n",
              "\n",
              "          const docLinkHtml = 'Like what you see? Visit the ' +\n",
              "            '<a target=\"_blank\" href=https://colab.research.google.com/notebooks/data_table.ipynb>data table notebook</a>'\n",
              "            + ' to learn more about interactive tables.';\n",
              "          element.innerHTML = '';\n",
              "          dataTable['output_type'] = 'display_data';\n",
              "          await google.colab.output.renderOutput(dataTable, element);\n",
              "          const docLink = document.createElement('div');\n",
              "          docLink.innerHTML = docLinkHtml;\n",
              "          element.appendChild(docLink);\n",
              "        }\n",
              "      </script>\n",
              "    </div>\n",
              "  </div>\n",
              "  "
            ]
          },
          "metadata": {},
          "execution_count": 72
        }
      ]
    },
    {
      "cell_type": "markdown",
      "source": [
        "# **Understanding the data frame info.**"
      ],
      "metadata": {
        "id": "bgSsyI9f12xi"
      }
    },
    {
      "cell_type": "code",
      "source": [
        "data_set_3_tmdb_df.info()"
      ],
      "metadata": {
        "colab": {
          "base_uri": "https://localhost:8080/"
        },
        "id": "6b4iJ7fp17dc",
        "outputId": "5014613b-5e12-469c-955a-a48431df4a19"
      },
      "execution_count": 73,
      "outputs": [
        {
          "output_type": "stream",
          "name": "stdout",
          "text": [
            "<class 'pandas.core.frame.DataFrame'>\n",
            "Int64Index: 26517 entries, 0 to 26516\n",
            "Data columns (total 9 columns):\n",
            " #   Column             Non-Null Count  Dtype  \n",
            "---  ------             --------------  -----  \n",
            " 0   genre_ids          26517 non-null  object \n",
            " 1   id                 26517 non-null  int64  \n",
            " 2   original_language  26517 non-null  object \n",
            " 3   original_title     26517 non-null  object \n",
            " 4   popularity         26517 non-null  float64\n",
            " 5   release_date       26517 non-null  object \n",
            " 6   title              26517 non-null  object \n",
            " 7   vote_average       26517 non-null  float64\n",
            " 8   vote_count         26517 non-null  int64  \n",
            "dtypes: float64(2), int64(2), object(5)\n",
            "memory usage: 2.0+ MB\n"
          ]
        }
      ]
    },
    {
      "cell_type": "markdown",
      "source": [
        "Our data frame contains 9 columns that consists of Objects ,Intergers and Float."
      ],
      "metadata": {
        "id": "tnGnm-Pu2J8C"
      }
    },
    {
      "cell_type": "markdown",
      "source": [
        "## *Obtaining the list of column names in our data set *"
      ],
      "metadata": {
        "id": "QXBtdhLL2wKb"
      }
    },
    {
      "cell_type": "code",
      "source": [
        "data_set_3_tmdb_df.columns"
      ],
      "metadata": {
        "colab": {
          "base_uri": "https://localhost:8080/"
        },
        "id": "0pCqwcfW24I_",
        "outputId": "2e4925af-37c8-4ddc-d9ae-d05eba237657"
      },
      "execution_count": 74,
      "outputs": [
        {
          "output_type": "execute_result",
          "data": {
            "text/plain": [
              "Index(['genre_ids', 'id', 'original_language', 'original_title', 'popularity',\n",
              "       'release_date', 'title', 'vote_average', 'vote_count'],\n",
              "      dtype='object')"
            ]
          },
          "metadata": {},
          "execution_count": 74
        }
      ]
    },
    {
      "cell_type": "markdown",
      "source": [
        "# **Obtaining the shape of our data set.i.e. No of rows and columns .**"
      ],
      "metadata": {
        "id": "Mm21GMV83YzT"
      }
    },
    {
      "cell_type": "code",
      "source": [
        "data_set_3_tmdb_df.shape"
      ],
      "metadata": {
        "colab": {
          "base_uri": "https://localhost:8080/"
        },
        "id": "9USLghKp3otF",
        "outputId": "3e55985d-7798-43e9-80c4-9b5566ff444f"
      },
      "execution_count": 75,
      "outputs": [
        {
          "output_type": "execute_result",
          "data": {
            "text/plain": [
              "(26517, 9)"
            ]
          },
          "metadata": {},
          "execution_count": 75
        }
      ]
    },
    {
      "cell_type": "markdown",
      "source": [
        "Intrepretation of the data set shape ; The data set \"data_set_3_tmdb_df contains 26,517 rows and 9 columns."
      ],
      "metadata": {
        "id": "R_nyvuek33h5"
      }
    },
    {
      "cell_type": "markdown",
      "source": [
        "# ***Checking for outliers in our data set.***"
      ],
      "metadata": {
        "id": "UluZPGYv4nEy"
      }
    },
    {
      "cell_type": "code",
      "source": [
        "plt.figure(figsize = (5, 5))\n",
        "data_set_3_tmdb_df.boxplot()\n",
        "plt.show()"
      ],
      "metadata": {
        "colab": {
          "base_uri": "https://localhost:8080/",
          "height": 445
        },
        "id": "9tpeSbHJ4txy",
        "outputId": "0e140929-c92a-454b-9db1-bc6b2b180e20"
      },
      "execution_count": 76,
      "outputs": [
        {
          "output_type": "display_data",
          "data": {
            "text/plain": [
              "<Figure size 500x500 with 1 Axes>"
            ],
            "image/png": "[encoded data removed]"
          },
          "metadata": {}
        }
      ]
    },
    {
      "cell_type": "markdown",
      "source": [
        "Interpretation of the outlier check from the box plot;\n",
        "\n",
        "1.Data in columns 'popularity','vote_average' and 'vote_count' some values that are outliers though not material."
      ],
      "metadata": {
        "id": "6ztFP9vC5JkR"
      }
    },
    {
      "cell_type": "code",
      "source": [],
      "metadata": {
        "id": "JBpN7kyM5tMo"
      },
      "execution_count": null,
      "outputs": []
    }
  ]
}