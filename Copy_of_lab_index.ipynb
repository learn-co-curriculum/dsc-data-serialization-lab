{
  "cells": [
    {
      "cell_type": "markdown",
      "metadata": {
        "id": "view-in-github",
        "colab_type": "text"
      },
      "source": [
        "<a href=\"https://colab.research.google.com/github/sgathai/dsc-data-serialization-lab/blob/master/Copy_of_lab_index.ipynb\" target=\"_parent\"><img src=\"https://colab.research.google.com/assets/colab-badge.svg\" alt=\"Open In Colab\"/></a>"
      ]
    },
    {
      "cell_type": "markdown",
      "metadata": {
        "id": "D9SBHVwjw9hp"
      },
      "source": [
        "# ID3 Classification Trees: Perfect Split with Information Gain - Lab\n",
        "\n",
        "## Introduction\n",
        "\n",
        "In this lab, we will simulate the example from the previous lesson in Python. You will write functions to calculate entropy and IG which will be used for calculating these uncertainty measures and deciding upon creating a split using information gain while growing an ID3 classification tree. You will also write a general function that can be used for other (larger) problems as well. So let's get on with it.\n",
        "\n",
        "## Objectives\n",
        "\n",
        "In this lab you will:\n",
        "\n",
        "- Write functions for calculating entropy and information gain measures  \n",
        "- Use entropy and information gain to identify the attribute that results in the best split at each node\n",
        "\n",
        "\n",
        "## Problem\n",
        "\n",
        "You will use the same problem about deciding whether to go and play tennis on a given day, given the weather conditions. Here is the data from the previous lesson:\n",
        "\n",
        "|  outlook | temp | humidity | windy | play |\n",
        "|:--------:|:----:|:--------:|:-----:|:----:|\n",
        "| overcast | cool |   high   |   Y   |  yes |\n",
        "| overcast | mild |  normal  |   N   |  yes |\n",
        "|   sunny  | cool |  normal  |   N   |  yes |\n",
        "| overcast |  hot |   high   |   Y   |  no  |\n",
        "|   sunny  |  hot |  normal  |   Y   |  yes |\n",
        "|   rain   | mild |   high   |   N   |  no  |\n",
        "|   rain   | cool |  normal  |   N   |  no  |\n",
        "|   sunny  | mild |   high   |   N   |  yes |\n",
        "|   sunny  | cool |  normal  |   Y   |  yes |\n",
        "|   sunny  | mild |  normal  |   Y   |  yes |\n",
        "| overcast | cool |   high   |   N   |  yes |\n",
        "|   rain   | cool |   high   |   Y   |  no  |\n",
        "|   sunny  |  hot |  normal  |   Y   |  no  |\n",
        "|   sunny  | mild |   high   |   N   |  yes |\n",
        "\n",
        "\n",
        "## Write a function `entropy(pi)` to calculate total entropy in a given discrete probability distribution `pi`\n",
        "\n",
        "- The function should take in a probability distribution `pi` as a list of class distributions. This should be a list of two integers, representing how many items are in each class. For example: `[4, 4]` indicates that there are four items in each class, `[10, 0]` indicates that there are 10 items in one class and 0 in the other.\n",
        "- Calculate and return entropy according to the formula: $$Entropy(p) = -\\sum (P_i . log_2(P_i))$$"
      ]
    },
    {
      "cell_type": "code",
      "execution_count": null,
      "metadata": {
        "tags": [],
        "id": "yLi_bnTDw9h0",
        "outputId": "5889c1af-a27f-413c-ad0c-2578feaee9ac"
      },
      "outputs": [
        {
          "name": "stdout",
          "output_type": "stream",
          "text": [
            "1.0\n",
            "0.0\n",
            "0.6500224216483541\n"
          ]
        }
      ],
      "source": [
        "import math\n",
        "\n",
        "def entropy(pi):\n",
        "    total = sum(pi)\n",
        "    entropy = 0\n",
        "    for i in pi:\n",
        "        if i != 0:\n",
        "            probability = i / total\n",
        "            entropy -= probability * math.log2(probability)\n",
        "    return entropy\n",
        "\n",
        "\n",
        "# Test the function\n",
        "\n",
        "print(entropy([1, 1])) # Maximum Entropy e.g. a coin toss\n",
        "print(entropy([0, 6])) # No entropy, ignore the -ve with zero , it's there due to log function\n",
        "print(entropy([2, 10])) # A random mix of classes\n",
        "\n",
        "# 1.0\n",
        "# -0.0\n",
        "# 0.6500224216483541"
      ]
    },
    {
      "cell_type": "markdown",
      "metadata": {
        "id": "MxDpg87Ow9h4"
      },
      "source": [
        "## Write a function `IG(D,a)` to calculate the information gain\n",
        "\n",
        "- As input, the function should take in `D` as a class distribution array for target class, and `a` the class distribution of the attribute to be tested\n",
        "- Using the `entropy()` function from above, calculate the information gain as:\n",
        "\n",
        "$$gain(D,A) = Entropy(D) - \\sum(\\frac{|D_i|}{|D|}.Entropy(D_i))$$\n",
        "\n",
        "where $D_{i}$ represents distribution of each class in `a`.\n"
      ]
    },
    {
      "cell_type": "code",
      "execution_count": null,
      "metadata": {
        "id": "7JyrqUCWw9h5",
        "outputId": "6dec0be0-fbba-42ef-fb6f-252f9537b240"
      },
      "outputs": [
        {
          "name": "stdout",
          "output_type": "stream",
          "text": [
            "0.5408520829727552\n"
          ]
        }
      ],
      "source": [
        "def IG(D, a):\n",
        "    total_D = sum(D)\n",
        "    entropy_D = entropy(D)\n",
        "    weighted_entropy = 0\n",
        "    for D_i in a:\n",
        "        total_D_i = sum(D_i)\n",
        "        weight = total_D_i / total_D\n",
        "        weighted_entropy += weight * entropy(D_i)\n",
        "    information_gain = entropy_D - weighted_entropy\n",
        "    return information_gain\n",
        "\n",
        "# Test the function\n",
        "# Set of example of the dataset - distribution of classes\n",
        "test_dist = [6, 6] # Yes, No\n",
        "# Attribute, number of members (feature)\n",
        "test_attr = [ [4,0], [2,4], [0,2] ] # class1, class2, class3 of attr1 according to YES/NO classes in test_dist\n",
        "\n",
        "print(IG(test_dist, test_attr))\n",
        "\n",
        "# 0.5408520829727552"
      ]
    },
    {
      "cell_type": "markdown",
      "metadata": {
        "id": "s2BFyNmOw9h6"
      },
      "source": [
        "## First iteration - Decide the best split for the root node\n",
        "\n",
        "- Create the class distribution `play` as a list showing frequencies of both classes from the dataset\n",
        "- Similarly, create variables for four categorical feature attributes showing the class distribution for each class with respect to the target classes (yes and no)\n",
        "- Pass the play distribution with each attribute to calculate the information gain"
      ]
    },
    {
      "cell_type": "code",
      "execution_count": null,
      "metadata": {
        "id": "WDu_wkn1w9h7",
        "outputId": "d394ca95-4bcf-47da-bf96-29e970f4570b"
      },
      "outputs": [
        {
          "name": "stdout",
          "output_type": "stream",
          "text": [
            "Information Gain:\n",
            "\n",
            "Outlook: 0.4126558195340009\n",
            "Temperature: 0.09212146003297272\n",
            "Humidity: 0.016111606370189824\n",
            "Wind:, 0.016111606370189824\n"
          ]
        }
      ],
      "source": [
        "# Create the class distribution for 'play'\n",
        "play = [9, 5]  # [yes, no]\n",
        "\n",
        "# Create variables for the four categorical feature attributes\n",
        "outlook = [[6, 1], [3, 1], [0, 3]]  # [sunny, overcast, rain]\n",
        "temperature = [[4, 2], [4, 1], [1, 2]]  # [cool, mild, hot]\n",
        "humidity = [[5, 2], [4, 3]]  # [normal, high]\n",
        "wind= [[4, 3], [5, 2]]  # [no, yes]\n",
        "\n",
        "# Calculate the information gain for each attribute\n",
        "print ('Information Gain:\\n' )\n",
        "print('Outlook:', IG(play, outlook))\n",
        "print('Temperature:', IG(play, tempemperture))\n",
        "print('Humidity:', IG(play, humidity))\n",
        "print('Wind:,', IG(play, wind))\n",
        "\n",
        "# Outlook: 0.41265581953400066\n",
        "# Temperature: 0.09212146003297261\n",
        "# Humidity: 0.0161116063701896\n",
        "# Wind:, 0.0161116063701896"
      ]
    },
    {
      "cell_type": "markdown",
      "metadata": {
        "id": "nn-lLA1pw9h8"
      },
      "source": [
        "We see here that the outlook attribute gives us the highest value for information gain, hence we choose this for creating a split at the root node. So far, we've built the following decision tree:\n",
        "<img src='images/outlook.png'  width =\"650\"  >\n",
        "\n",
        "\n",
        "## Second iteration\n",
        "\n",
        "Since the first iteration determines what split we should make for the root node of our tree, it's pretty simple. Now, we move down to the second level and start finding the optimal split for each of the nodes on this level. The first branch (edge) of three above that leads to the \"Sunny\" outcome. Of the temperature, humidity and wind attributes, find which one provides the highest information gain.\n",
        "\n",
        "Follow the same steps as above. Remember, we have 6 positive examples and 1 negative example in the \"sunny\" branch."
      ]
    },
    {
      "cell_type": "code",
      "execution_count": null,
      "metadata": {
        "tags": [],
        "id": "rRLwDlCJw9h-",
        "outputId": "6403a075-d0af-4fa5-b6b0-77df9c5df427"
      },
      "outputs": [
        {
          "ename": "SyntaxError",
          "evalue": "invalid syntax (200594705.py, line 5)",
          "output_type": "error",
          "traceback": [
            "\u001b[0;36m  Cell \u001b[0;32mIn [25], line 5\u001b[0;36m\u001b[0m\n\u001b[0;31m    temp_distribution = [[, ], [, ], [, ]]  # [cool, mild, hot]\u001b[0m\n\u001b[0m                          ^\u001b[0m\n\u001b[0;31mSyntaxError\u001b[0m\u001b[0;31m:\u001b[0m invalid syntax\n"
          ]
        }
      ],
      "source": [
        "sunny_distribution = [6, 1]  # [yes, no]\n",
        "\n",
        "# Create variables for the four categorical feature attributes. note, here you check the below given that it is sunny day\n",
        "\n",
        "temp_distribution = [[, ], [, ], [, ]]  # [cool, mild, hot]\n",
        "humidity_distribution = [[, ], [, ]]  # [normal, high]\n",
        "windy_distribution = [[, ], [, ]]  # [no, yes]\n",
        "\n",
        "\n",
        "# Information Gain:\n",
        "print ('Information Gain:\\n' )\n",
        "\n",
        "print('Temperature:', IG(play, temperature))\n",
        "print('Humidity:', IG(play, humidity))\n",
        "print('Wind:,', IG(play, wind))\n",
        "\n",
        "# Temperature: 0.3059584928680418\n",
        "# Humidity: 0.0760098536627829\n",
        "# Wind: 0.12808527889139443"
      ]
    },
    {
      "cell_type": "markdown",
      "metadata": {
        "id": "jeCxNzTnw9h_"
      },
      "source": [
        "We see that temperature gives us the highest information gain, so we'll use it to split our tree as shown below:\n",
        "\n",
        "<img src='images/temp.png'  width =\"650\"  >\n",
        "\n",
        "\n",
        "Let's continue.\n",
        "\n",
        "## Third iteration\n",
        "\n",
        "We'll now calculate splits for the 'temperature' node we just created for days where the weather is sunny. Temperature has three possible values: [Hot, Mild, Cool]. This means that for each of the possible temperatures, we'll need to calculate if splitting on windy or humidity gives us the greatest possible information gain.\n",
        "\n",
        "Why are we doing this next instead of the rest of the splits on level 2? Because a decision tree is a greedy algorithm, meaning that the next choice is always the one that will give it the greatest information gain. In this case, evaluating the temperature on sunny days gives us the most information gain, so that's where we'll go next.\n",
        "\n",
        "## All other iterations\n",
        "\n",
        "What happens once we get down to a 'pure' split? Obviously, we stop splitting. Once that happens, we go back to the highest remaining uncalculated node and calculate the best possible split for that one. We then continue on with that branch, until we have exhausted all possible splits or we run into a split that gives us 'pure' leaves where all 'play=Yes' is on one side of the split, and all 'play=No' is on the other.\n",
        "\n",
        "## Summary\n",
        "\n",
        "This lab should have helped you familiarize yourself with how decision trees work 'under the hood', and demystified how the algorithm actually 'learns' from data by:\n",
        "\n",
        "- Calculating entropy and information gain\n",
        "- Figuring out the next split you should calculate ('greedy' approach)"
      ]
    }
  ],
  "metadata": {
    "kernelspec": {
      "display_name": "saturn (Python 3)",
      "language": "python",
      "name": "python3"
    },
    "language_info": {
      "codemirror_mode": {
        "name": "ipython",
        "version": 3
      },
      "file_extension": ".py",
      "mimetype": "text/x-python",
      "name": "python",
      "nbconvert_exporter": "python",
      "pygments_lexer": "ipython3",
      "version": "3.10.6"
    },
    "colab": {
      "provenance": [],
      "include_colab_link": true
    }
  },
  "nbformat": 4,
  "nbformat_minor": 0
}