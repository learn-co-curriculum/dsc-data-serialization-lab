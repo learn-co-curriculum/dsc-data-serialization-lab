{
  "nbformat": 4,
  "nbformat_minor": 0,
  "metadata": {
    "colab": {
      "provenance": [],
      "include_colab_link": true
    },
    "kernelspec": {
      "name": "python3",
      "display_name": "Python 3"
    },
    "language_info": {
      "name": "python"
    }
  },
  "cells": [
    {
      "cell_type": "markdown",
      "metadata": {
        "id": "view-in-github",
        "colab_type": "text"
      },
      "source": [
        "<a href=\"https://colab.research.google.com/github/sgathai/dsc-data-serialization-lab/blob/master/Asiko_Numpy_dspt_phase_0_Intro_to_Python3.ipynb\" target=\"_parent\"><img src=\"https://colab.research.google.com/assets/colab-badge.svg\" alt=\"Open In Colab\"/></a>"
      ]
    },
    {
      "cell_type": "markdown",
      "source": [
        "# Introduction to Python 3\n",
        "\n",
        "**Overview of lecture**\n",
        "\n",
        "1. Introduction to numpy\n",
        "2. Measures of central tendency\n",
        "3. Measures of dispersion\n",
        "4. Covariance and correlation\n",
        "\n",
        "Bonus: Visualization\n",
        "\n",
        "Adapted from Flatiron content"
      ],
      "metadata": {
        "id": "CFOQbwgQyFfx"
      }
    },
    {
      "cell_type": "markdown",
      "source": [
        "# Numpy\n",
        "\n",
        "![link text](data:image/png;base64,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)\n",
        "\n",
        "NumPy (Numerical Python) is a powerful library for numerical computing in Python.   \n",
        "* It provides efficient data structures, such as arrays and matrices, along with a wide range of mathematical functions to perform operations on these data structures.   \n",
        "* It is scientific and data analysis applications."
      ],
      "metadata": {
        "id": "rPeNpPDV6quD"
      }
    },
    {
      "cell_type": "markdown",
      "metadata": {
        "id": "_K46HBat6IQR"
      },
      "source": [
        "For numpy, the standard alias is `np`."
      ]
    },
    {
      "cell_type": "code",
      "execution_count": null,
      "metadata": {
        "id": "A70VXjcN6IQS"
      },
      "outputs": [],
      "source": [
        "import numpy as np"
      ]
    },
    {
      "cell_type": "code",
      "source": [
        "x = np.array([1.28, 1.11, 1.14])\n",
        "np.var(x)"
      ],
      "metadata": {
        "colab": {
          "base_uri": "https://localhost:8080/"
        },
        "id": "-nE2WG-_zTF6",
        "outputId": "f41352fb-7023-46f2-f71d-d9f01573c5a1"
      },
      "execution_count": null,
      "outputs": [
        {
          "output_type": "execute_result",
          "data": {
            "text/plain": [
              "0.0054888888888888895"
            ]
          },
          "metadata": {},
          "execution_count": 7
        }
      ]
    },
    {
      "cell_type": "markdown",
      "metadata": {
        "id": "iPe_wBbD6IQT"
      },
      "source": [
        "# NumPy Arrays\n",
        "\n",
        "Python lists and NumPy arrays can both hold numbers. However, Python lists have limited functionality for mathematical operations. NumPy arrays make it easy and fast to do math with a collection of numbers."
      ]
    },
    {
      "cell_type": "code",
      "execution_count": null,
      "metadata": {
        "scrolled": true,
        "id": "qGhcXNfu6IQU",
        "colab": {
          "base_uri": "https://localhost:8080/"
        },
        "outputId": "65e284e4-c45a-4ff1-911a-2ea0a6d84779"
      },
      "outputs": [
        {
          "output_type": "stream",
          "name": "stdout",
          "text": [
            "[1 2 3]\n",
            "<class 'numpy.ndarray'>\n"
          ]
        }
      ],
      "source": [
        "# Creating a 1-dimensional array\n",
        "x = np.array([1, 2, 3])\n",
        "print(x)\n",
        "print(type(x))"
      ]
    },
    {
      "cell_type": "code",
      "source": [
        "# Creating a 2-dimensional array\n",
        "arr2d = np.array([[1, 2, 3], [4, 5, 6]])\n",
        "print(arr2d)"
      ],
      "metadata": {
        "id": "H_62ASJc6qa2",
        "colab": {
          "base_uri": "https://localhost:8080/"
        },
        "outputId": "c40fe4b0-f2a5-4600-c7a3-f3f6ab510478"
      },
      "execution_count": null,
      "outputs": [
        {
          "output_type": "stream",
          "name": "stdout",
          "text": [
            "[[1 2 3]\n",
            " [4 5 6]]\n"
          ]
        }
      ]
    },
    {
      "cell_type": "code",
      "source": [
        "x"
      ],
      "metadata": {
        "colab": {
          "base_uri": "https://localhost:8080/"
        },
        "id": "eJwxlvlY3B2q",
        "outputId": "c63758e5-d243-4373-ea73-b24a091fc530"
      },
      "execution_count": null,
      "outputs": [
        {
          "output_type": "execute_result",
          "data": {
            "text/plain": [
              "array([1, 2, 3])"
            ]
          },
          "metadata": {},
          "execution_count": 4
        }
      ]
    },
    {
      "cell_type": "markdown",
      "metadata": {
        "id": "u0OwAzAb6IQZ"
      },
      "source": [
        "### Type\n",
        "\n",
        "Numeric arrays are have the `ndarray` type, which is short for N-Dimensional Array."
      ]
    },
    {
      "cell_type": "markdown",
      "source": [
        "### Exercise:\n",
        "\n",
        "Create a NumPy array containing the numbers from 1 to 10 and print it."
      ],
      "metadata": {
        "id": "b8h10-t37ooi"
      }
    },
    {
      "cell_type": "markdown",
      "source": [
        "NumPy arrays can either hold strings or numbers, not both"
      ],
      "metadata": {
        "id": "LDR3Ik0u8adE"
      }
    },
    {
      "cell_type": "code",
      "execution_count": null,
      "metadata": {
        "colab": {
          "base_uri": "https://localhost:8080/"
        },
        "id": "1-dp6W2dx65W",
        "outputId": "de157855-3ea0-46b3-83e7-01e37c2930f0"
      },
      "outputs": [
        {
          "output_type": "stream",
          "name": "stdout",
          "text": [
            "['Bob', 1, 'Sally']\n",
            "['Bob' '1' 'Sally']\n"
          ]
        },
        {
          "output_type": "execute_result",
          "data": {
            "text/plain": [
              "numpy.ndarray"
            ]
          },
          "metadata": {},
          "execution_count": 11
        }
      ],
      "source": [
        "names_list = ['Bob', 1, 'Sally']\n",
        "\n",
        "# Use numpy.array for numbers and numpy.char.array for strings.\n",
        "\n",
        "names_array = np.array(['Bob', 1, 'Sally'])\n",
        "\n",
        "print(names_list)\n",
        "print(names_array)\n",
        "type(names_array)"
      ]
    },
    {
      "cell_type": "markdown",
      "metadata": {
        "id": "tedPZvLV6IQa"
      },
      "source": [
        "## Arithmetic Operations\n",
        "\n",
        "Arithmetic operators (e.g. +, -, * and /) work according to mathematical principles for arrays, unlike with lists. These operations are done \"element-wise\"."
      ]
    },
    {
      "cell_type": "code",
      "source": [
        "numbers_array = np.array([0, 5, 7])"
      ],
      "metadata": {
        "id": "6t52ZA2X9CyO"
      },
      "execution_count": null,
      "outputs": []
    },
    {
      "cell_type": "code",
      "execution_count": null,
      "metadata": {
        "id": "E_YsmhVZ6IQa",
        "colab": {
          "base_uri": "https://localhost:8080/"
        },
        "outputId": "500b1b49-48ae-426f-9e01-3a3011258230"
      },
      "outputs": [
        {
          "output_type": "execute_result",
          "data": {
            "text/plain": [
              "[0, 15, 21]"
            ]
          },
          "metadata": {},
          "execution_count": 28
        }
      ],
      "source": [
        "# multiply the array by 3\n",
        "\n",
        "numbers_array * 3"
      ]
    },
    {
      "cell_type": "code",
      "execution_count": null,
      "metadata": {
        "id": "XQ3koDxl6IQa",
        "colab": {
          "base_uri": "https://localhost:8080/"
        },
        "outputId": "5516ff8e-4972-4783-ef32-a348a7c23d90"
      },
      "outputs": [
        {
          "output_type": "execute_result",
          "data": {
            "text/plain": [
              "[0, 5, 7, 0, 5, 7, 0, 5, 7]"
            ]
          },
          "metadata": {},
          "execution_count": 19
        }
      ],
      "source": [
        "# multiply the list by 3\n",
        "numbers_list = [0, 5, 7]\n",
        "numbers_list * 3"
      ]
    },
    {
      "cell_type": "code",
      "execution_count": null,
      "metadata": {
        "id": "2PJjnRc36IQa",
        "colab": {
          "base_uri": "https://localhost:8080/"
        },
        "outputId": "97bc0b24-24da-4fa1-b3c7-48eafe767609"
      },
      "outputs": [
        {
          "output_type": "execute_result",
          "data": {
            "text/plain": [
              "array([20, 25, 27])"
            ]
          },
          "metadata": {},
          "execution_count": 20
        }
      ],
      "source": [
        "numbers_array + 20"
      ]
    },
    {
      "cell_type": "code",
      "execution_count": null,
      "metadata": {
        "id": "yg_i7uAr6IQb"
      },
      "outputs": [],
      "source": [
        "numbers_list + 20"
      ]
    },
    {
      "cell_type": "markdown",
      "metadata": {
        "id": "pk_C2CMr6IQc"
      },
      "source": [
        "## Array Attributes and Methods"
      ]
    },
    {
      "cell_type": "markdown",
      "metadata": {
        "id": "g35gBXQN6IQd"
      },
      "source": [
        "### Numeric Methods"
      ]
    },
    {
      "cell_type": "markdown",
      "metadata": {
        "id": "pmCEgX5y6IQe"
      },
      "source": [
        "- `max()` (return the greatest value in the array)"
      ]
    },
    {
      "cell_type": "code",
      "execution_count": null,
      "metadata": {
        "id": "CjnaANHy6IQe",
        "colab": {
          "base_uri": "https://localhost:8080/"
        },
        "outputId": "739c48ab-de3d-4b22-ab37-702c0e594988"
      },
      "outputs": [
        {
          "output_type": "execute_result",
          "data": {
            "text/plain": [
              "7"
            ]
          },
          "metadata": {},
          "execution_count": 22
        }
      ],
      "source": [
        "numbers_array.max()"
      ]
    },
    {
      "cell_type": "markdown",
      "metadata": {
        "id": "aahx2bwN6IQf"
      },
      "source": [
        "- `mean()` (return the arithmetic mean of the array)"
      ]
    },
    {
      "cell_type": "code",
      "execution_count": null,
      "metadata": {
        "id": "QD0nvnlg6IQf",
        "colab": {
          "base_uri": "https://localhost:8080/"
        },
        "outputId": "1f0e97b1-830c-48ec-deb9-261ca8ffaecc"
      },
      "outputs": [
        {
          "output_type": "execute_result",
          "data": {
            "text/plain": [
              "4.0"
            ]
          },
          "metadata": {},
          "execution_count": 23
        }
      ],
      "source": [
        "numbers_array.mean()"
      ]
    },
    {
      "cell_type": "markdown",
      "metadata": {
        "id": "9LCi3oct6IQf"
      },
      "source": [
        "- `min()` (return the smallest value in the array)"
      ]
    },
    {
      "cell_type": "code",
      "execution_count": null,
      "metadata": {
        "id": "oGVs8FtG6IQf",
        "colab": {
          "base_uri": "https://localhost:8080/"
        },
        "outputId": "9680e7a2-177a-4084-dbac-d9f04974b464"
      },
      "outputs": [
        {
          "output_type": "execute_result",
          "data": {
            "text/plain": [
              "0"
            ]
          },
          "metadata": {},
          "execution_count": 24
        }
      ],
      "source": [
        "numbers_array.min()"
      ]
    },
    {
      "cell_type": "markdown",
      "metadata": {
        "id": "-DomfOX26IQf"
      },
      "source": [
        "- `round()` (round each entry in the array to a specified number of decimal places)"
      ]
    },
    {
      "cell_type": "code",
      "execution_count": null,
      "metadata": {
        "id": "XxU8Se4v6IQg",
        "colab": {
          "base_uri": "https://localhost:8080/"
        },
        "outputId": "91baf06d-5e6d-4f82-8672-330b0319ff57"
      },
      "outputs": [
        {
          "output_type": "execute_result",
          "data": {
            "text/plain": [
              "array([10.,  1.,  6.])"
            ]
          },
          "metadata": {},
          "execution_count": 25
        }
      ],
      "source": [
        "np.array([9.5, 1.2, 6.3]).round()"
      ]
    },
    {
      "cell_type": "markdown",
      "metadata": {
        "id": "NJCNxthI6IQg"
      },
      "source": [
        "- `std()` (return the standard deviation of the array)"
      ]
    },
    {
      "cell_type": "code",
      "execution_count": null,
      "metadata": {
        "id": "NDPMif916IQg",
        "colab": {
          "base_uri": "https://localhost:8080/"
        },
        "outputId": "b06d9d15-4b3f-46d5-e67f-4fb3dd6e8ef6"
      },
      "outputs": [
        {
          "output_type": "execute_result",
          "data": {
            "text/plain": [
              "2.943920288775949"
            ]
          },
          "metadata": {},
          "execution_count": 26
        }
      ],
      "source": [
        "numbers_array.std()"
      ]
    },
    {
      "cell_type": "markdown",
      "metadata": {
        "id": "Ylm3YggD6IQg"
      },
      "source": [
        "- `sum()` (return the sum of the array's elements)"
      ]
    },
    {
      "cell_type": "code",
      "execution_count": null,
      "metadata": {
        "id": "6MtFbxIC6IQh",
        "colab": {
          "base_uri": "https://localhost:8080/"
        },
        "outputId": "a6722294-53ac-4bb7-8850-3bf7384566cb"
      },
      "outputs": [
        {
          "output_type": "execute_result",
          "data": {
            "text/plain": [
              "12"
            ]
          },
          "metadata": {},
          "execution_count": 27
        }
      ],
      "source": [
        "numbers_array.sum()"
      ]
    },
    {
      "cell_type": "markdown",
      "metadata": {
        "id": "1T3iv-Oi6IQz"
      },
      "source": [
        "## Broadcasting"
      ]
    },
    {
      "cell_type": "markdown",
      "metadata": {
        "id": "szn-pj9A6IQz"
      },
      "source": [
        "Two arrays can be combined with mathematical operations via [broadcasting](https://numpy.org/doc/stable/user/basics.broadcasting.html).  \n",
        "\n",
        "From the [docs](https://numpy.org/doc/stable/user/basics.broadcasting.html):\n",
        "\n",
        "    When operating on two arrays, NumPy compares their shapes element-wise. It starts with the trailing dimensions and works its way forward. Two dimensions are compatible when\n",
        "    - they are equal, or\n",
        "    - one of them is 1\n",
        "    \n",
        "Let's try to figure out what will happen in the operations below"
      ]
    },
    {
      "cell_type": "code",
      "execution_count": null,
      "metadata": {
        "id": "QXZdugha6IQz",
        "colab": {
          "base_uri": "https://localhost:8080/"
        },
        "outputId": "a0d88bbf-090f-43d5-ff54-1133a28d3cab"
      },
      "outputs": [
        {
          "output_type": "stream",
          "name": "stdout",
          "text": [
            "[[1 2 3]\n",
            " [4 5 6]]\n",
            "[  10  100 1000]\n"
          ]
        }
      ],
      "source": [
        "arr1 = np.array([[1, 2, 3], [4, 5, 6]])\n",
        "arr2 = np.array([10, 100, 1000])\n",
        "print(arr1)\n",
        "print(arr2)"
      ]
    },
    {
      "cell_type": "code",
      "execution_count": null,
      "metadata": {
        "id": "KboVLUDX6IQ0",
        "colab": {
          "base_uri": "https://localhost:8080/"
        },
        "outputId": "b66af1a4-fe7a-4840-ce5b-2ea3086ce309"
      },
      "outputs": [
        {
          "output_type": "stream",
          "name": "stdout",
          "text": [
            "(2, 3)\n",
            "(3,)\n"
          ]
        }
      ],
      "source": [
        "print(arr1.shape)\n",
        "print(arr2.shape)"
      ]
    },
    {
      "cell_type": "code",
      "execution_count": null,
      "metadata": {
        "id": "Wvtw_Uat6IQ0",
        "colab": {
          "base_uri": "https://localhost:8080/"
        },
        "outputId": "f5954900-0be9-4aee-df15-2f11bff28173"
      },
      "outputs": [
        {
          "output_type": "execute_result",
          "data": {
            "text/plain": [
              "array([[  10,  200, 3000],\n",
              "       [  40,  500, 6000]])"
            ]
          },
          "metadata": {},
          "execution_count": 31
        }
      ],
      "source": [
        "arr1 * arr2"
      ]
    },
    {
      "cell_type": "code",
      "execution_count": null,
      "metadata": {
        "id": "5bNylr0i6IQ0",
        "colab": {
          "base_uri": "https://localhost:8080/"
        },
        "outputId": "d614a3c8-c646-4c40-e7e7-e207fe66c36c"
      },
      "outputs": [
        {
          "output_type": "execute_result",
          "data": {
            "text/plain": [
              "(2,)"
            ]
          },
          "metadata": {},
          "execution_count": 32
        }
      ],
      "source": [
        "arr3 = np.array([10, 100])\n",
        "arr3.shape"
      ]
    },
    {
      "cell_type": "code",
      "execution_count": null,
      "metadata": {
        "id": "j_SUWnwk6IQ0",
        "colab": {
          "base_uri": "https://localhost:8080/",
          "height": 166
        },
        "outputId": "b38dcaf0-73b7-42fe-911d-be3f7a249756"
      },
      "outputs": [
        {
          "output_type": "error",
          "ename": "ValueError",
          "evalue": "ignored",
          "traceback": [
            "\u001b[0;31m---------------------------------------------------------------------------\u001b[0m",
            "\u001b[0;31mValueError\u001b[0m                                Traceback (most recent call last)",
            "\u001b[0;32m<ipython-input-33-3861a3a50b5e>\u001b[0m in \u001b[0;36m<cell line: 1>\u001b[0;34m()\u001b[0m\n\u001b[0;32m----> 1\u001b[0;31m \u001b[0marr1\u001b[0m \u001b[0;34m*\u001b[0m \u001b[0marr3\u001b[0m\u001b[0;34m\u001b[0m\u001b[0;34m\u001b[0m\u001b[0m\n\u001b[0m",
            "\u001b[0;31mValueError\u001b[0m: operands could not be broadcast together with shapes (2,3) (2,) "
          ]
        }
      ],
      "source": [
        "arr1 * arr3"
      ]
    },
    {
      "cell_type": "code",
      "execution_count": null,
      "metadata": {
        "scrolled": true,
        "id": "ESCMZSTq6IQ1",
        "colab": {
          "base_uri": "https://localhost:8080/"
        },
        "outputId": "2495738d-cb49-4873-e576-69d733bda95e"
      },
      "outputs": [
        {
          "output_type": "execute_result",
          "data": {
            "text/plain": [
              "(1, 2)"
            ]
          },
          "metadata": {},
          "execution_count": 34
        }
      ],
      "source": [
        "arr4 = np.array([[10, 100]])\n",
        "arr4.shape"
      ]
    },
    {
      "cell_type": "code",
      "execution_count": null,
      "metadata": {
        "id": "cVuJGoXK6IQ1",
        "colab": {
          "base_uri": "https://localhost:8080/",
          "height": 166
        },
        "outputId": "549fe1db-177e-44e6-ce1a-fe197e06dc6a"
      },
      "outputs": [
        {
          "output_type": "error",
          "ename": "ValueError",
          "evalue": "ignored",
          "traceback": [
            "\u001b[0;31m---------------------------------------------------------------------------\u001b[0m",
            "\u001b[0;31mValueError\u001b[0m                                Traceback (most recent call last)",
            "\u001b[0;32m<ipython-input-35-64837bb2296d>\u001b[0m in \u001b[0;36m<cell line: 1>\u001b[0;34m()\u001b[0m\n\u001b[0;32m----> 1\u001b[0;31m \u001b[0marr1\u001b[0m \u001b[0;34m*\u001b[0m \u001b[0marr4\u001b[0m\u001b[0;34m\u001b[0m\u001b[0;34m\u001b[0m\u001b[0m\n\u001b[0m",
            "\u001b[0;31mValueError\u001b[0m: operands could not be broadcast together with shapes (2,3) (1,2) "
          ]
        }
      ],
      "source": [
        "arr1 * arr4"
      ]
    },
    {
      "cell_type": "code",
      "execution_count": null,
      "metadata": {
        "id": "KtV_4cF56IQ1",
        "colab": {
          "base_uri": "https://localhost:8080/"
        },
        "outputId": "1a6b1089-182c-449a-996e-61531cedaf4d"
      },
      "outputs": [
        {
          "output_type": "execute_result",
          "data": {
            "text/plain": [
              "(2, 1)"
            ]
          },
          "metadata": {},
          "execution_count": 36
        }
      ],
      "source": [
        "arr5 = np.array([[10],[100]])\n",
        "arr5.shape"
      ]
    },
    {
      "cell_type": "code",
      "execution_count": null,
      "metadata": {
        "id": "FpsnXRli6IQ2",
        "colab": {
          "base_uri": "https://localhost:8080/"
        },
        "outputId": "07fcfc63-7ec9-4b49-b045-997129258700"
      },
      "outputs": [
        {
          "output_type": "execute_result",
          "data": {
            "text/plain": [
              "array([[ 10,  20,  30],\n",
              "       [400, 500, 600]])"
            ]
          },
          "metadata": {},
          "execution_count": 37
        }
      ],
      "source": [
        "arr1 * arr5"
      ]
    },
    {
      "cell_type": "markdown",
      "source": [
        "## Measures of central tendency\n"
      ],
      "metadata": {
        "id": "S8AHgS1x9mw0"
      }
    },
    {
      "cell_type": "markdown",
      "metadata": {
        "hidden": true,
        "id": "Q4-WPMOC9t92"
      },
      "source": [
        "There are three common measures used to describe the \"middle\":\n",
        "\n",
        "- **Mean**: The sum of values / number of values\n",
        "- **Median**: The value with as many values above it as below it\n",
        "    - If the dataset has an even number of values, the median is the mean of the two middle numbers.\n",
        "- **Mode**: The most frequent value(s)\n",
        "    - A dataset can have multiple modes if multiple values are tied for the most frequent."
      ]
    },
    {
      "cell_type": "code",
      "source": [
        "data = np.array([10, 12, 15, 18, 20])"
      ],
      "metadata": {
        "id": "gjtS-FTH-E-Q"
      },
      "execution_count": null,
      "outputs": []
    },
    {
      "cell_type": "code",
      "source": [
        "from scipy import stats"
      ],
      "metadata": {
        "id": "ScWnqe6p-Gqo"
      },
      "execution_count": null,
      "outputs": []
    },
    {
      "cell_type": "code",
      "source": [
        "import statistics"
      ],
      "metadata": {
        "id": "2NY2mBAKdDRh"
      },
      "execution_count": null,
      "outputs": []
    },
    {
      "cell_type": "code",
      "source": [
        "?stats"
      ],
      "metadata": {
        "id": "3dULLdZbbmjA"
      },
      "execution_count": null,
      "outputs": []
    },
    {
      "cell_type": "code",
      "source": [
        "?statistics"
      ],
      "metadata": {
        "id": "yJNuBhuUdG6w"
      },
      "execution_count": null,
      "outputs": []
    },
    {
      "cell_type": "code",
      "execution_count": null,
      "metadata": {
        "hidden": true,
        "id": "qIpQpCTH9t93",
        "colab": {
          "base_uri": "https://localhost:8080/"
        },
        "outputId": "2fef7ce0-0cc8-4e0f-8ae1-6faafd3c4cf4"
      },
      "outputs": [
        {
          "output_type": "stream",
          "name": "stdout",
          "text": [
            "Mean: 15.0\n",
            "Median: 15.0\n",
            "Mode: 10\n"
          ]
        },
        {
          "output_type": "stream",
          "name": "stderr",
          "text": [
            "<ipython-input-8-96ab5f1764a2>:3: FutureWarning: Unlike other reduction functions (e.g. `skew`, `kurtosis`), the default behavior of `mode` typically preserves the axis it acts along. In SciPy 1.11.0, this behavior will change: the default value of `keepdims` will become False, the `axis` over which the statistic is taken will be eliminated, and the value None will no longer be accepted. Set `keepdims` to True or False to avoid this warning.\n",
            "  print(f\"Mode: {stats.mode(data)[0][0]}\")\n"
          ]
        }
      ],
      "source": [
        "# Method 1\n",
        "print(f\"Mean: {np.mean(data)}\")\n",
        "print(f\"Median: {np.median(data)}\")\n",
        "print(f\"Mode: {stats.mode(data)[0][0]}\")"
      ]
    },
    {
      "cell_type": "code",
      "source": [
        "# Method 2\n",
        "data.mean()"
      ],
      "metadata": {
        "colab": {
          "base_uri": "https://localhost:8080/"
        },
        "id": "ATxRN8EAcQbI",
        "outputId": "ef222fcf-1217-45bb-9090-7d500842b9ae"
      },
      "execution_count": null,
      "outputs": [
        {
          "output_type": "execute_result",
          "data": {
            "text/plain": [
              "15.0"
            ]
          },
          "metadata": {},
          "execution_count": 9
        }
      ]
    },
    {
      "cell_type": "code",
      "source": [
        "stats.mode(data)[0][0]"
      ],
      "metadata": {
        "colab": {
          "base_uri": "https://localhost:8080/"
        },
        "id": "mujpYvwsfiWQ",
        "outputId": "997968fd-4398-4f5b-af57-79e5e981a61a"
      },
      "execution_count": null,
      "outputs": [
        {
          "output_type": "stream",
          "name": "stderr",
          "text": [
            "<ipython-input-19-a29e7c9e9fa3>:1: FutureWarning: Unlike other reduction functions (e.g. `skew`, `kurtosis`), the default behavior of `mode` typically preserves the axis it acts along. In SciPy 1.11.0, this behavior will change: the default value of `keepdims` will become False, the `axis` over which the statistic is taken will be eliminated, and the value None will no longer be accepted. Set `keepdims` to True or False to avoid this warning.\n",
            "  stats.mode(data)[0][0]\n"
          ]
        },
        {
          "output_type": "execute_result",
          "data": {
            "text/plain": [
              "10"
            ]
          },
          "metadata": {},
          "execution_count": 19
        }
      ]
    },
    {
      "cell_type": "markdown",
      "source": [
        "### Exercise:  \n",
        "\n",
        "Calculate the mean, median, and mode of the following dataset: [12, 15, 12, 18, 20, 18, 12, 20]."
      ],
      "metadata": {
        "id": "2a8RfN5y-RQw"
      }
    },
    {
      "cell_type": "markdown",
      "source": [
        "# Measures of dispersion\n",
        "\n",
        "Measures of dispersion describe the spread or variability of a dataset.\n",
        "\n",
        "The main measures of dispersion are range, variance, and standard deviation."
      ],
      "metadata": {
        "id": "S-ZWfQjp-qpu"
      }
    },
    {
      "cell_type": "markdown",
      "metadata": {
        "heading_collapsed": true,
        "hidden": true,
        "id": "AUbE88dK9t95"
      },
      "source": [
        "### Min, Max, and Range"
      ]
    },
    {
      "cell_type": "markdown",
      "metadata": {
        "hidden": true,
        "id": "PAGmaTLq9t96"
      },
      "source": [
        "The minimum and maximum values of a dataset tell you the full extent of the values of your dataset. The range of the dataset is the difference between those two values."
      ]
    },
    {
      "cell_type": "code",
      "execution_count": null,
      "metadata": {
        "hidden": true,
        "id": "wAMimY6d9t98",
        "colab": {
          "base_uri": "https://localhost:8080/"
        },
        "outputId": "13b35657-8510-478c-d7d9-a631820a9607"
      },
      "outputs": [
        {
          "output_type": "stream",
          "name": "stdout",
          "text": [
            "Min: 10\n",
            "Max: 20\n",
            "Range: 10\n"
          ]
        }
      ],
      "source": [
        "print(f\"Min: {data.min()}\")\n",
        "print(f\"Max: {data.max()}\")\n",
        "print(f\"Range: {data.max() - data.min()}\")"
      ]
    },
    {
      "cell_type": "code",
      "source": [
        "#or\n",
        "print(\"Range:\", np.ptp(data))"
      ],
      "metadata": {
        "id": "EblyW9Nj-kW5",
        "colab": {
          "base_uri": "https://localhost:8080/"
        },
        "outputId": "995b9583-ec0e-4eb8-f601-e491acc7f75c"
      },
      "execution_count": null,
      "outputs": [
        {
          "output_type": "stream",
          "name": "stdout",
          "text": [
            "Range: 10\n"
          ]
        }
      ]
    },
    {
      "cell_type": "code",
      "source": [
        "?np.ptp"
      ],
      "metadata": {
        "id": "kwJhQFjwhuYz"
      },
      "execution_count": null,
      "outputs": []
    },
    {
      "cell_type": "markdown",
      "source": [
        "### Variance\n",
        "\n",
        "The variance measures the average squared deviation from the mean. It quantifies the spread of data points around the mean."
      ],
      "metadata": {
        "id": "PV7jJqwO_XJs"
      }
    },
    {
      "cell_type": "code",
      "source": [
        "variance = np.var(data)\n",
        "print(variance)"
      ],
      "metadata": {
        "id": "cTz42klH_b1P",
        "colab": {
          "base_uri": "https://localhost:8080/"
        },
        "outputId": "36cf78c3-aa2a-4ab5-a7a0-25465a655186"
      },
      "execution_count": null,
      "outputs": [
        {
          "output_type": "stream",
          "name": "stdout",
          "text": [
            "13.6\n"
          ]
        }
      ]
    },
    {
      "cell_type": "markdown",
      "source": [
        "### Standard Deviation\n",
        "\n",
        "The standard deviation is the square root of the variance. It represents the average amount by which data points deviate from the mean."
      ],
      "metadata": {
        "id": "n1mMOTQo_gQy"
      }
    },
    {
      "cell_type": "code",
      "source": [
        "std_deviation = np.std(data)\n",
        "print(std_deviation)"
      ],
      "metadata": {
        "id": "p5bfVWZn_vZp",
        "colab": {
          "base_uri": "https://localhost:8080/"
        },
        "outputId": "9ee236a0-839b-4315-9f88-ff873d9c0d54"
      },
      "execution_count": null,
      "outputs": [
        {
          "output_type": "stream",
          "name": "stdout",
          "text": [
            "3.687817782917155\n"
          ]
        }
      ]
    },
    {
      "cell_type": "markdown",
      "source": [
        "# Covariance and correlation\n",
        "\n",
        "**Covariance**\n",
        "\n",
        "Covariance is a statistical measure that quantifies the relationship between two variables.\n",
        "\n",
        "It measures how changes in one variable are associated with changes in another variable. Covariance can be used to determine whether the variables move together (positive covariance) or in opposite directions (negative covariance)."
      ],
      "metadata": {
        "id": "htbhpi8OCIUb"
      }
    },
    {
      "cell_type": "code",
      "source": [
        "x = np.array([1, 2, 3, 4, 5])\n",
        "y = np.array([5, 4, 3, 2, 1])\n",
        "\n",
        "covariance = np.cov(x, y)\n",
        "print(covariance)"
      ],
      "metadata": {
        "colab": {
          "base_uri": "https://localhost:8080/"
        },
        "id": "pZ6Bwk7HCz1_",
        "outputId": "8cdf3510-732a-4cef-8ec5-c32124982853"
      },
      "execution_count": null,
      "outputs": [
        {
          "output_type": "stream",
          "name": "stdout",
          "text": [
            "[[ 2.5 -2.5]\n",
            " [-2.5  2.5]]\n"
          ]
        }
      ]
    },
    {
      "cell_type": "markdown",
      "source": [
        "Key points to understand about covariance:\n",
        "\n",
        "* Covariance can take any value, positive or negative.\n",
        "* A positive covariance indicates a direct relationship between the variables, meaning that when one variable increases, the other tends to increase as well.\n",
        "* A negative covariance indicates an inverse relationship, meaning that when one variable increases, the other tends to decrease.\n",
        "* The magnitude of the covariance value is not directly interpretable on its own. It can be affected by the scales of the variables, making it difficult to compare covariances between different datasets."
      ],
      "metadata": {
        "id": "-kCQGo2dDa8v"
      }
    },
    {
      "cell_type": "markdown",
      "source": [
        "**Correlation**\n",
        "\n",
        "Correlation is a statistical measure that determines the strength and direction of the linear relationship between two variables.\n",
        "\n",
        "It is a standardized version of covariance that ranges from -1 to 1, making it easier to interpret."
      ],
      "metadata": {
        "id": "FKYZU6jWDslp"
      }
    },
    {
      "cell_type": "code",
      "source": [
        "correlation = np.corrcoef(x, y)\n",
        "print(correlation)"
      ],
      "metadata": {
        "colab": {
          "base_uri": "https://localhost:8080/"
        },
        "id": "AmVD6HTBC6Rg",
        "outputId": "68e6bfdd-9bc6-4201-f077-e4aabdc6cb34"
      },
      "execution_count": null,
      "outputs": [
        {
          "output_type": "stream",
          "name": "stdout",
          "text": [
            "[[ 1. -1.]\n",
            " [-1.  1.]]\n"
          ]
        }
      ]
    },
    {
      "cell_type": "code",
      "source": [
        "x-[1, 2, 3, 4, 5] # Scores\n",
        "y-[5, 4, 3, 2, 1] # Attitude\n",
        "\n",
        "[[xx xy]\n",
        " [yx yy]]"
      ],
      "metadata": {
        "id": "DxDixt8sofcd"
      },
      "execution_count": null,
      "outputs": []
    },
    {
      "cell_type": "code",
      "source": [
        "1 5 [1 2 3 4 5]\n",
        "2 4 [5 4 3 2 1]\n",
        "3 3\n",
        "4 2\n",
        "5 1"
      ],
      "metadata": {
        "id": "SDTCnrvCp7AT"
      },
      "execution_count": null,
      "outputs": []
    },
    {
      "cell_type": "code",
      "source": [
        "??np.cov"
      ],
      "metadata": {
        "id": "D8IG-YYuqO0I"
      },
      "execution_count": null,
      "outputs": []
    },
    {
      "cell_type": "markdown",
      "source": [
        "Key points to understand about correlation:\n",
        "\n",
        "* Correlation ranges from -1 to 1.\n",
        "* A correlation of +1 indicates a perfect positive linear relationship, meaning that as one variable increases, the other increases in a perfectly predictable manner.\n",
        "* A correlation of -1 indicates a perfect negative linear relationship, meaning that as one variable increases, the other decreases in a perfectly predictable manner.\n",
        "* A correlation of 0 indicates no linear relationship between the variables.\n",
        "* The magnitude of the correlation coefficient indicates the strength of the relationship. The closer the correlation coefficient is to 1 (or -1), the stronger the linear relationship.\n",
        "* Correlation does not imply causation. Even if two variables are highly correlated, it does not necessarily mean that one variable causes the other to change. Correlation only captures the degree of association between variables."
      ],
      "metadata": {
        "id": "AorkHUhPEFph"
      }
    },
    {
      "cell_type": "markdown",
      "source": [
        "# Bonus: Visualization"
      ],
      "metadata": {
        "id": "3WTJZSPvEXBc"
      }
    },
    {
      "cell_type": "code",
      "source": [
        "# Libraries for vizualization\n",
        "import matplotlib.pyplot as plt\n",
        "import seaborn as sns\n",
        "\n",
        "%matplotlib inline"
      ],
      "metadata": {
        "id": "StUC1yV5EFTm"
      },
      "execution_count": null,
      "outputs": []
    },
    {
      "cell_type": "code",
      "source": [
        "data = np.array([5, 6, 3, 4, 3, 4, 8, 8, 1, 8, 2])"
      ],
      "metadata": {
        "id": "KnUB7AEZE6gK"
      },
      "execution_count": null,
      "outputs": []
    },
    {
      "cell_type": "markdown",
      "source": [
        "## Histogram"
      ],
      "metadata": {
        "id": "mGtcmD1LFMmj"
      }
    },
    {
      "cell_type": "code",
      "source": [
        "plt.hist(data, bins=7) # plot a histogram using data include only 5 bins\n",
        "plt.xlabel('data')\n",
        "plt.ylabel('Frequency')\n",
        "plt.title('Counts, 5 Bins')"
      ],
      "metadata": {
        "colab": {
          "base_uri": "https://localhost:8080/",
          "height": 489
        },
        "id": "kqCPfR7UD2fh",
        "outputId": "80911cac-a3f8-4fa1-dfaa-3e650571a125"
      },
      "execution_count": null,
      "outputs": [
        {
          "output_type": "execute_result",
          "data": {
            "text/plain": [
              "Text(0.5, 1.0, 'Counts, 5 Bins')"
            ]
          },
          "metadata": {},
          "execution_count": 46
        },
        {
          "output_type": "display_data",
          "data": {
            "text/plain": [
              "<Figure size 640x480 with 1 Axes>"
            ],
            "image/png": "[encoded data removed]"
          },
          "metadata": {}
        }
      ]
    },
    {
      "cell_type": "code",
      "source": [
        "?plt.hist"
      ],
      "metadata": {
        "id": "ckxJr77t16CR"
      },
      "execution_count": null,
      "outputs": []
    },
    {
      "cell_type": "code",
      "source": [
        "sns.histplot(data)"
      ],
      "metadata": {
        "colab": {
          "base_uri": "https://localhost:8080/",
          "height": 447
        },
        "id": "TJC3gMsw1KSk",
        "outputId": "f78ab500-3d69-4dd3-ddf7-ff4522e26d61"
      },
      "execution_count": null,
      "outputs": [
        {
          "output_type": "execute_result",
          "data": {
            "text/plain": [
              "<Axes: ylabel='Count'>"
            ]
          },
          "metadata": {},
          "execution_count": 41
        },
        {
          "output_type": "display_data",
          "data": {
            "text/plain": [
              "<Figure size 640x480 with 1 Axes>"
            ],
            "image/png": "[encoded data removed]"
          },
          "metadata": {}
        }
      ]
    },
    {
      "cell_type": "markdown",
      "source": [
        "# Boxplot"
      ],
      "metadata": {
        "id": "OJaxigiLFRf-"
      }
    },
    {
      "cell_type": "code",
      "source": [
        "fig, ax = plt.subplots()\n",
        "ax.boxplot(data)\n",
        "plt.show()"
      ],
      "metadata": {
        "colab": {
          "base_uri": "https://localhost:8080/",
          "height": 430
        },
        "id": "65RsAEJDFObm",
        "outputId": "43874af1-9287-4985-ff75-d1f20f04e48a"
      },
      "execution_count": null,
      "outputs": [
        {
          "output_type": "display_data",
          "data": {
            "text/plain": [
              "<Figure size 640x480 with 1 Axes>"
            ],
            "image/png": "[encoded data removed]"
          },
          "metadata": {}
        }
      ]
    },
    {
      "cell_type": "markdown",
      "source": [
        "## Scatterplot"
      ],
      "metadata": {
        "id": "BAFx_wnhFkEe"
      }
    },
    {
      "cell_type": "code",
      "source": [
        "fig, ax = plt.subplots()\n",
        "ax.scatter(x,y)\n",
        "plt.show()"
      ],
      "metadata": {
        "colab": {
          "base_uri": "https://localhost:8080/",
          "height": 430
        },
        "id": "nF7WrRAiEuQP",
        "outputId": "44041491-1635-4e62-80c6-80c0fbb2c6a3"
      },
      "execution_count": null,
      "outputs": [
        {
          "output_type": "display_data",
          "data": {
            "text/plain": [
              "<Figure size 640x480 with 1 Axes>"
            ],
            "image/png": "[encoded data removed]"
          },
          "metadata": {}
        }
      ]
    },
    {
      "cell_type": "code",
      "source": [],
      "metadata": {
        "id": "E7JcRRwTFr9-"
      },
      "execution_count": null,
      "outputs": []
    }
  ]
}