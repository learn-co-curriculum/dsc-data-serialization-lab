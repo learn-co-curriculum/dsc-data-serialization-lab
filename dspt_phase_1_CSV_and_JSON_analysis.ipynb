{
  "nbformat": 4,
  "nbformat_minor": 0,
  "metadata": {
    "colab": {
      "provenance": [],
      "include_colab_link": true
    },
    "kernelspec": {
      "name": "python3",
      "display_name": "Python 3"
    },
    "language_info": {
      "name": "python"
    }
  },
  "cells": [
    {
      "cell_type": "markdown",
      "metadata": {
        "id": "view-in-github",
        "colab_type": "text"
      },
      "source": [
        "<a href=\"https://colab.research.google.com/github/sgathai/dsc-data-serialization-lab/blob/master/dspt_phase_1_CSV_and_JSON_analysis.ipynb\" target=\"_parent\"><img src=\"https://colab.research.google.com/assets/colab-badge.svg\" alt=\"Open In Colab\"/></a>"
      ]
    },
    {
      "cell_type": "markdown",
      "source": [
        "# Data analysis"
      ],
      "metadata": {
        "id": "kteG02AJX0WJ"
      }
    },
    {
      "cell_type": "markdown",
      "source": [
        "**Overview of the Lecture**\n",
        "\n",
        "1. Data analysis with CSV files\n",
        "\n",
        "2. Data analysis with JSON files\n",
        "\n",
        "\n"
      ],
      "metadata": {
        "id": "PCj2XYVfX0Vh"
      }
    },
    {
      "cell_type": "markdown",
      "source": [
        "## Data analysis with CSV files\n",
        "\n",
        "What is a csv file?\n",
        "\n",
        "**CSV** - csv stands for Comma Separated Values. These comma-separated values file use a comma as a delimiter i.e. a comma is used to separate values.\n",
        "\n",
        "The csv library is custom built for csv files. Key functions are: `reading and writing`"
      ],
      "metadata": {
        "id": "z6pYNrams5If"
      }
    },
    {
      "cell_type": "markdown",
      "source": [
        "\n",
        "### Recap reading csv files"
      ],
      "metadata": {
        "id": "vk6jMdrTgpbv"
      }
    },
    {
      "cell_type": "code",
      "source": [
        "# Importing the library CSV\n",
        "import csv"
      ],
      "metadata": {
        "id": "aJGq8nBgtH8o"
      },
      "execution_count": null,
      "outputs": []
    },
    {
      "cell_type": "code",
      "source": [
        "!ls"
      ],
      "metadata": {
        "colab": {
          "base_uri": "https://localhost:8080/"
        },
        "id": "JUyFcQlCtP8k",
        "outputId": "a2887e50-84e9-4c02-8597-ee71fa2d99e2"
      },
      "execution_count": null,
      "outputs": [
        {
          "output_type": "stream",
          "name": "stdout",
          "text": [
            "new_releases.json  sample_data\n"
          ]
        }
      ]
    },
    {
      "cell_type": "code",
      "source": [
        "!ls sample_data"
      ],
      "metadata": {
        "colab": {
          "base_uri": "https://localhost:8080/"
        },
        "id": "M0MVnXAntTkY",
        "outputId": "5ab0f145-5f73-4ad1-c0ac-ad824bebf58e"
      },
      "execution_count": null,
      "outputs": [
        {
          "output_type": "stream",
          "name": "stdout",
          "text": [
            "anscombe.json\t\t      mnist_test.csv\n",
            "california_housing_test.csv   mnist_train_small.csv\n",
            "california_housing_train.csv  README.md\n"
          ]
        }
      ]
    },
    {
      "cell_type": "code",
      "source": [
        "# /content/sample_data/california_housing_train.csv\n",
        "# /content/sample_data/california_housing_train.csv\n",
        "csv_file_path = \"/content/sample_data/california_housing_train.csv\""
      ],
      "metadata": {
        "id": "xSs3x2oFs6QZ"
      },
      "execution_count": null,
      "outputs": []
    },
    {
      "cell_type": "code",
      "source": [
        "# This code prints the first line of the CSV file\n",
        "\n",
        "with open(csv_file_path) as csvfile:\n",
        "    print(csvfile.readline())\n",
        "    print(csvfile.readline())"
      ],
      "metadata": {
        "id": "qAR25nTetD_i",
        "colab": {
          "base_uri": "https://localhost:8080/"
        },
        "outputId": "9af2983b-1a78-4642-ee99-4a00ada91d3f"
      },
      "execution_count": null,
      "outputs": [
        {
          "output_type": "stream",
          "name": "stdout",
          "text": [
            "\"longitude\",\"latitude\",\"housing_median_age\",\"total_rooms\",\"total_bedrooms\",\"population\",\"households\",\"median_income\",\"median_house_value\"\n",
            "\n",
            "-114.310000,34.190000,15.000000,5612.000000,1283.000000,1015.000000,472.000000,1.493600,66900.000000\n",
            "\n"
          ]
        }
      ]
    },
    {
      "cell_type": "code",
      "source": [
        "# Print OrderedDict from first row of CSV file \n",
        "with open(csv_file_path) as csvfile:\n",
        "    reader = csv.DictReader(csvfile)\n",
        "    print(next(reader))\n",
        "    print(next(reader))\n",
        "    # for i in reader:\n",
        "    #   print(i)"
      ],
      "metadata": {
        "id": "-J6XgKWctKO_",
        "colab": {
          "base_uri": "https://localhost:8080/"
        },
        "outputId": "c5292457-1ef2-484e-fee5-66280b919e21"
      },
      "execution_count": null,
      "outputs": [
        {
          "output_type": "stream",
          "name": "stdout",
          "text": [
            "{'longitude': '-114.310000', 'latitude': '34.190000', 'housing_median_age': '15.000000', 'total_rooms': '5612.000000', 'total_bedrooms': '1283.000000', 'population': '1015.000000', 'households': '472.000000', 'median_income': '1.493600', 'median_house_value': '66900.000000'}\n",
            "{'longitude': '-114.470000', 'latitude': '34.400000', 'housing_median_age': '19.000000', 'total_rooms': '7650.000000', 'total_bedrooms': '1901.000000', 'population': '1129.000000', 'households': '463.000000', 'median_income': '1.820000', 'median_house_value': '80100.000000'}\n"
          ]
        }
      ]
    },
    {
      "cell_type": "code",
      "source": [
        "houses = [] # List to store entries\n",
        "\n",
        "with open(csv_file_path) as csvfile:\n",
        "    reader = csv.DictReader(csvfile) # using dict reader to read from a file\n",
        "    for row in reader:\n",
        "        houses.append(row)"
      ],
      "metadata": {
        "id": "v3kRvFAYtNzB"
      },
      "execution_count": null,
      "outputs": []
    },
    {
      "cell_type": "code",
      "source": [
        "??csv.DictReader"
      ],
      "metadata": {
        "id": "87l-lkcJ0PyL"
      },
      "execution_count": null,
      "outputs": []
    },
    {
      "cell_type": "code",
      "source": [
        "houses[0] # Reading the first entry on the csv file"
      ],
      "metadata": {
        "id": "o9WJB9dHtezl",
        "colab": {
          "base_uri": "https://localhost:8080/"
        },
        "outputId": "556a9c31-0f5c-4a26-98ee-8b4bdda5a292"
      },
      "execution_count": null,
      "outputs": [
        {
          "output_type": "execute_result",
          "data": {
            "text/plain": [
              "{'longitude': '-114.310000',\n",
              " 'latitude': '34.190000',\n",
              " 'housing_median_age': '15.000000',\n",
              " 'total_rooms': '5612.000000',\n",
              " 'total_bedrooms': '1283.000000',\n",
              " 'population': '1015.000000',\n",
              " 'households': '472.000000',\n",
              " 'median_income': '1.493600',\n",
              " 'median_house_value': '66900.000000'}"
            ]
          },
          "metadata": {},
          "execution_count": 72
        }
      ]
    },
    {
      "cell_type": "markdown",
      "source": [
        "### Writing csv files"
      ],
      "metadata": {
        "id": "fB_LVUyqg7wN"
      }
    },
    {
      "cell_type": "code",
      "source": [
        "# Random library is used to generate random date points\n",
        "import random\n",
        "# Datetime library for manipulation of date\n",
        "import datetime"
      ],
      "metadata": {
        "id": "GI3dzMM4DVyJ"
      },
      "execution_count": null,
      "outputs": []
    },
    {
      "cell_type": "code",
      "source": [
        "random.seed(3)\n",
        "data = [['Name', 'DOB', 'Grade', 'Attitude']] # list to store the column names\n",
        "\n",
        "# Loop to generate data\n",
        "for i in range(150):\n",
        "    name = \"Student \" + str(i+1)\n",
        "    dob = datetime.date(random.randint(1980, 2000), random.randint(1, 12), random.randint(1, 28)).strftime(\"%d/%m/%Y\")\n",
        "    grade = random.randint(0, 100)\n",
        "    attitude = random.choice(['Positive', 'Negative'])\n",
        "    data.append([name, dob, grade, attitude])\n",
        "\n",
        "print(data)"
      ],
      "metadata": {
        "colab": {
          "base_uri": "https://localhost:8080/"
        },
        "id": "u2aOXn85ikkz",
        "outputId": "7b09fb05-8ea8-4987-ff39-bd822117636b"
      },
      "execution_count": null,
      "outputs": [
        {
          "output_type": "stream",
          "name": "stdout",
          "text": [
            "[['Name', 'DOB', 'Grade', 'Attitude'], ['Student 1', '18/10/1987', 16, 'Negative'], ['Student 2', '21/08/1999', 74, 'Positive'], ['Student 3', '27/01/1999', 60, 'Negative'], ['Student 4', '07/04/1997', 91, 'Negative'], ['Student 5', '16/09/1997', 50, 'Positive'], ['Student 6', '05/11/1987', 66, 'Negative'], ['Student 7', '25/11/1980', 8, 'Positive'], ['Student 8', '10/01/1998', 99, 'Positive'], ['Student 9', '20/08/1988', 92, 'Negative'], ['Student 10', '24/07/1993', 73, 'Negative'], ['Student 11', '04/06/1984', 4, 'Positive'], ['Student 12', '09/04/1995', 86, 'Negative'], ['Student 13', '14/05/2000', 64, 'Negative'], ['Student 14', '18/06/1998', 74, 'Negative'], ['Student 15', '11/04/1998', 87, 'Positive'], ['Student 16', '22/10/1988', 89, 'Positive'], ['Student 17', '19/09/1990', 72, 'Positive'], ['Student 18', '21/04/2000', 73, 'Negative'], ['Student 19', '03/02/1989', 61, 'Negative'], ['Student 20', '26/06/1982', 8, 'Negative'], ['Student 21', '10/01/1984', 54, 'Negative'], ['Student 22', '20/01/1983', 78, 'Positive'], ['Student 23', '19/12/1992', 42, 'Negative'], ['Student 24', '02/04/1996', 39, 'Positive'], ['Student 25', '20/02/1982', 68, 'Positive'], ['Student 26', '10/07/1986', 78, 'Negative'], ['Student 27', '02/12/1984', 43, 'Negative'], ['Student 28', '28/03/1991', 48, 'Negative'], ['Student 29', '13/09/1994', 82, 'Positive'], ['Student 30', '09/09/1999', 55, 'Positive'], ['Student 31', '09/07/1989', 66, 'Negative'], ['Student 32', '01/06/1997', 100, 'Negative'], ['Student 33', '01/06/1998', 48, 'Positive'], ['Student 34', '21/11/1981', 42, 'Negative'], ['Student 35', '12/11/1991', 77, 'Negative'], ['Student 36', '19/01/1995', 7, 'Positive'], ['Student 37', '21/05/1991', 58, 'Negative'], ['Student 38', '11/10/1998', 22, 'Negative'], ['Student 39', '25/06/1985', 47, 'Negative'], ['Student 40', '04/07/1989', 98, 'Positive'], ['Student 41', '24/11/1998', 16, 'Negative'], ['Student 42', '21/04/1996', 34, 'Positive'], ['Student 43', '22/03/1990', 55, 'Positive'], ['Student 44', '11/10/1983', 42, 'Positive'], ['Student 45', '03/03/1994', 43, 'Positive'], ['Student 46', '09/08/1998', 28, 'Positive'], ['Student 47', '07/09/1981', 40, 'Positive'], ['Student 48', '26/06/1988', 82, 'Positive'], ['Student 49', '19/06/1999', 16, 'Negative'], ['Student 50', '26/09/1989', 34, 'Negative'], ['Student 51', '14/11/1991', 37, 'Negative'], ['Student 52', '02/07/1998', 52, 'Positive'], ['Student 53', '16/01/1986', 79, 'Negative'], ['Student 54', '08/12/1997', 4, 'Negative'], ['Student 55', '18/05/1996', 43, 'Positive'], ['Student 56', '10/10/1982', 15, 'Positive'], ['Student 57', '26/01/1981', 88, 'Positive'], ['Student 58', '02/10/1993', 1, 'Negative'], ['Student 59', '17/03/1983', 38, 'Positive'], ['Student 60', '18/09/1980', 52, 'Positive'], ['Student 61', '11/02/1999', 16, 'Negative'], ['Student 62', '26/08/1997', 100, 'Positive'], ['Student 63', '07/04/1991', 15, 'Positive'], ['Student 64', '26/04/1985', 35, 'Positive'], ['Student 65', '21/08/1980', 73, 'Negative'], ['Student 66', '08/05/1981', 34, 'Negative'], ['Student 67', '11/08/1981', 99, 'Positive'], ['Student 68', '02/03/1981', 15, 'Positive'], ['Student 69', '02/08/1982', 91, 'Positive'], ['Student 70', '16/09/1996', 40, 'Positive'], ['Student 71', '12/02/1990', 49, 'Negative'], ['Student 72', '12/05/1998', 33, 'Positive'], ['Student 73', '04/07/1990', 16, 'Positive'], ['Student 74', '19/02/1992', 22, 'Positive'], ['Student 75', '20/08/1991', 83, 'Negative'], ['Student 76', '20/01/2000', 55, 'Positive'], ['Student 77', '16/11/1991', 97, 'Negative'], ['Student 78', '14/12/1993', 58, 'Positive'], ['Student 79', '18/04/1987', 34, 'Positive'], ['Student 80', '14/04/1993', 16, 'Positive'], ['Student 81', '18/06/1990', 33, 'Positive'], ['Student 82', '04/12/1994', 93, 'Negative'], ['Student 83', '11/12/1983', 72, 'Positive'], ['Student 84', '01/12/1998', 60, 'Positive'], ['Student 85', '02/07/1987', 67, 'Positive'], ['Student 86', '22/02/1998', 48, 'Positive'], ['Student 87', '27/06/1980', 15, 'Positive'], ['Student 88', '16/11/1983', 89, 'Negative'], ['Student 89', '26/05/1998', 11, 'Positive'], ['Student 90', '17/09/1998', 91, 'Positive'], ['Student 91', '24/09/1983', 12, 'Positive'], ['Student 92', '28/06/1997', 72, 'Positive'], ['Student 93', '06/04/1982', 82, 'Positive'], ['Student 94', '23/10/1994', 96, 'Negative'], ['Student 95', '20/06/1988', 50, 'Negative'], ['Student 96', '03/07/1997', 48, 'Positive'], ['Student 97', '06/12/1993', 53, 'Negative'], ['Student 98', '13/11/1984', 19, 'Positive'], ['Student 99', '24/08/1983', 61, 'Negative'], ['Student 100', '28/12/1998', 23, 'Positive'], ['Student 101', '05/04/1988', 74, 'Negative'], ['Student 102', '18/12/1987', 99, 'Negative'], ['Student 103', '28/10/1993', 74, 'Negative'], ['Student 104', '01/05/1986', 34, 'Negative'], ['Student 105', '06/04/1992', 72, 'Negative'], ['Student 106', '16/06/1987', 99, 'Positive'], ['Student 107', '16/12/1993', 89, 'Positive'], ['Student 108', '27/10/1994', 83, 'Positive'], ['Student 109', '03/12/1995', 51, 'Positive'], ['Student 110', '08/04/1994', 82, 'Positive'], ['Student 111', '08/05/1986', 24, 'Negative'], ['Student 112', '20/03/1984', 90, 'Positive'], ['Student 113', '28/03/1988', 5, 'Negative'], ['Student 114', '03/07/1985', 93, 'Positive'], ['Student 115', '09/02/1983', 37, 'Positive'], ['Student 116', '19/08/1991', 93, 'Negative'], ['Student 117', '11/01/1980', 42, 'Negative'], ['Student 118', '03/08/1992', 26, 'Negative'], ['Student 119', '18/03/1992', 40, 'Positive'], ['Student 120', '22/02/1988', 55, 'Positive'], ['Student 121', '09/09/1994', 12, 'Negative'], ['Student 122', '10/08/1991', 84, 'Negative'], ['Student 123', '22/06/1983', 72, 'Positive'], ['Student 124', '12/09/1995', 7, 'Negative'], ['Student 125', '06/12/1998', 82, 'Positive'], ['Student 126', '21/06/1985', 58, 'Positive'], ['Student 127', '05/09/1983', 42, 'Negative'], ['Student 128', '21/05/1997', 23, 'Negative'], ['Student 129', '26/05/1995', 22, 'Positive'], ['Student 130', '06/12/1983', 96, 'Negative'], ['Student 131', '09/02/1991', 34, 'Negative'], ['Student 132', '02/03/1981', 61, 'Negative'], ['Student 133', '25/12/1987', 65, 'Negative'], ['Student 134', '15/07/1990', 69, 'Positive'], ['Student 135', '28/08/1991', 14, 'Positive'], ['Student 136', '04/10/1988', 87, 'Positive'], ['Student 137', '04/12/1998', 23, 'Positive'], ['Student 138', '22/07/1998', 95, 'Negative'], ['Student 139', '20/10/1984', 18, 'Negative'], ['Student 140', '17/09/1986', 21, 'Positive'], ['Student 141', '12/05/1986', 100, 'Negative'], ['Student 142', '14/08/1980', 49, 'Negative'], ['Student 143', '10/10/1997', 81, 'Negative'], ['Student 144', '23/11/1996', 38, 'Negative'], ['Student 145', '07/10/1980', 93, 'Positive'], ['Student 146', '08/11/1983', 62, 'Positive'], ['Student 147', '15/11/1996', 25, 'Positive'], ['Student 148', '02/04/1996', 64, 'Negative'], ['Student 149', '10/10/1983', 84, 'Positive'], ['Student 150', '26/08/1984', 11, 'Positive']]\n"
          ]
        }
      ]
    },
    {
      "cell_type": "code",
      "source": [
        "#data"
      ],
      "metadata": {
        "id": "gGO2o8kj59Xy"
      },
      "execution_count": null,
      "outputs": []
    },
    {
      "cell_type": "code",
      "source": [
        "# Using csv.writer to write a csv file\n",
        "with open('data.csv', 'w', newline='') as file:\n",
        "    writer = csv.writer(file)\n",
        "    writer.writerows(data)"
      ],
      "metadata": {
        "id": "4JYwshnkhAOI"
      },
      "execution_count": null,
      "outputs": []
    },
    {
      "cell_type": "markdown",
      "source": [
        "Open the file in the file explorer/file system.\n",
        "\n",
        "The data will look something like this:\n",
        "\n",
        "![image.png](data:image/png;base64,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)\n",
        "\n",
        "Neat!"
      ],
      "metadata": {
        "id": "mXDtKNlNEl4u"
      }
    },
    {
      "cell_type": "code",
      "source": [
        "# Reading the data we created\n",
        "with open('data.csv', 'r') as file:\n",
        "    reader = csv.reader(file)\n",
        "    data = list(reader)\n",
        "\n",
        "print(data)"
      ],
      "metadata": {
        "colab": {
          "base_uri": "https://localhost:8080/"
        },
        "id": "IXcJdtvj0RT6",
        "outputId": "d6e5f68f-8d96-4241-b918-3ba3dc2dc51a"
      },
      "execution_count": null,
      "outputs": [
        {
          "output_type": "stream",
          "name": "stdout",
          "text": [
            "[['Name', 'DOB', 'Grade', 'Attitude'], ['Student 1', '18/10/1987', '16', 'Negative'], ['Student 2', '21/08/1999', '74', 'Positive'], ['Student 3', '27/01/1999', '60', 'Negative'], ['Student 4', '07/04/1997', '91', 'Negative'], ['Student 5', '16/09/1997', '50', 'Positive'], ['Student 6', '05/11/1987', '66', 'Negative'], ['Student 7', '25/11/1980', '8', 'Positive'], ['Student 8', '10/01/1998', '99', 'Positive'], ['Student 9', '20/08/1988', '92', 'Negative'], ['Student 10', '24/07/1993', '73', 'Negative'], ['Student 11', '04/06/1984', '4', 'Positive'], ['Student 12', '09/04/1995', '86', 'Negative'], ['Student 13', '14/05/2000', '64', 'Negative'], ['Student 14', '18/06/1998', '74', 'Negative'], ['Student 15', '11/04/1998', '87', 'Positive'], ['Student 16', '22/10/1988', '89', 'Positive'], ['Student 17', '19/09/1990', '72', 'Positive'], ['Student 18', '21/04/2000', '73', 'Negative'], ['Student 19', '03/02/1989', '61', 'Negative'], ['Student 20', '26/06/1982', '8', 'Negative'], ['Student 21', '10/01/1984', '54', 'Negative'], ['Student 22', '20/01/1983', '78', 'Positive'], ['Student 23', '19/12/1992', '42', 'Negative'], ['Student 24', '02/04/1996', '39', 'Positive'], ['Student 25', '20/02/1982', '68', 'Positive'], ['Student 26', '10/07/1986', '78', 'Negative'], ['Student 27', '02/12/1984', '43', 'Negative'], ['Student 28', '28/03/1991', '48', 'Negative'], ['Student 29', '13/09/1994', '82', 'Positive'], ['Student 30', '09/09/1999', '55', 'Positive'], ['Student 31', '09/07/1989', '66', 'Negative'], ['Student 32', '01/06/1997', '100', 'Negative'], ['Student 33', '01/06/1998', '48', 'Positive'], ['Student 34', '21/11/1981', '42', 'Negative'], ['Student 35', '12/11/1991', '77', 'Negative'], ['Student 36', '19/01/1995', '7', 'Positive'], ['Student 37', '21/05/1991', '58', 'Negative'], ['Student 38', '11/10/1998', '22', 'Negative'], ['Student 39', '25/06/1985', '47', 'Negative'], ['Student 40', '04/07/1989', '98', 'Positive'], ['Student 41', '24/11/1998', '16', 'Negative'], ['Student 42', '21/04/1996', '34', 'Positive'], ['Student 43', '22/03/1990', '55', 'Positive'], ['Student 44', '11/10/1983', '42', 'Positive'], ['Student 45', '03/03/1994', '43', 'Positive'], ['Student 46', '09/08/1998', '28', 'Positive'], ['Student 47', '07/09/1981', '40', 'Positive'], ['Student 48', '26/06/1988', '82', 'Positive'], ['Student 49', '19/06/1999', '16', 'Negative'], ['Student 50', '26/09/1989', '34', 'Negative'], ['Student 51', '14/11/1991', '37', 'Negative'], ['Student 52', '02/07/1998', '52', 'Positive'], ['Student 53', '16/01/1986', '79', 'Negative'], ['Student 54', '08/12/1997', '4', 'Negative'], ['Student 55', '18/05/1996', '43', 'Positive'], ['Student 56', '10/10/1982', '15', 'Positive'], ['Student 57', '26/01/1981', '88', 'Positive'], ['Student 58', '02/10/1993', '1', 'Negative'], ['Student 59', '17/03/1983', '38', 'Positive'], ['Student 60', '18/09/1980', '52', 'Positive'], ['Student 61', '11/02/1999', '16', 'Negative'], ['Student 62', '26/08/1997', '100', 'Positive'], ['Student 63', '07/04/1991', '15', 'Positive'], ['Student 64', '26/04/1985', '35', 'Positive'], ['Student 65', '21/08/1980', '73', 'Negative'], ['Student 66', '08/05/1981', '34', 'Negative'], ['Student 67', '11/08/1981', '99', 'Positive'], ['Student 68', '02/03/1981', '15', 'Positive'], ['Student 69', '02/08/1982', '91', 'Positive'], ['Student 70', '16/09/1996', '40', 'Positive'], ['Student 71', '12/02/1990', '49', 'Negative'], ['Student 72', '12/05/1998', '33', 'Positive'], ['Student 73', '04/07/1990', '16', 'Positive'], ['Student 74', '19/02/1992', '22', 'Positive'], ['Student 75', '20/08/1991', '83', 'Negative'], ['Student 76', '20/01/2000', '55', 'Positive'], ['Student 77', '16/11/1991', '97', 'Negative'], ['Student 78', '14/12/1993', '58', 'Positive'], ['Student 79', '18/04/1987', '34', 'Positive'], ['Student 80', '14/04/1993', '16', 'Positive'], ['Student 81', '18/06/1990', '33', 'Positive'], ['Student 82', '04/12/1994', '93', 'Negative'], ['Student 83', '11/12/1983', '72', 'Positive'], ['Student 84', '01/12/1998', '60', 'Positive'], ['Student 85', '02/07/1987', '67', 'Positive'], ['Student 86', '22/02/1998', '48', 'Positive'], ['Student 87', '27/06/1980', '15', 'Positive'], ['Student 88', '16/11/1983', '89', 'Negative'], ['Student 89', '26/05/1998', '11', 'Positive'], ['Student 90', '17/09/1998', '91', 'Positive'], ['Student 91', '24/09/1983', '12', 'Positive'], ['Student 92', '28/06/1997', '72', 'Positive'], ['Student 93', '06/04/1982', '82', 'Positive'], ['Student 94', '23/10/1994', '96', 'Negative'], ['Student 95', '20/06/1988', '50', 'Negative'], ['Student 96', '03/07/1997', '48', 'Positive'], ['Student 97', '06/12/1993', '53', 'Negative'], ['Student 98', '13/11/1984', '19', 'Positive'], ['Student 99', '24/08/1983', '61', 'Negative'], ['Student 100', '28/12/1998', '23', 'Positive'], ['Student 101', '05/04/1988', '74', 'Negative'], ['Student 102', '18/12/1987', '99', 'Negative'], ['Student 103', '28/10/1993', '74', 'Negative'], ['Student 104', '01/05/1986', '34', 'Negative'], ['Student 105', '06/04/1992', '72', 'Negative'], ['Student 106', '16/06/1987', '99', 'Positive'], ['Student 107', '16/12/1993', '89', 'Positive'], ['Student 108', '27/10/1994', '83', 'Positive'], ['Student 109', '03/12/1995', '51', 'Positive'], ['Student 110', '08/04/1994', '82', 'Positive'], ['Student 111', '08/05/1986', '24', 'Negative'], ['Student 112', '20/03/1984', '90', 'Positive'], ['Student 113', '28/03/1988', '5', 'Negative'], ['Student 114', '03/07/1985', '93', 'Positive'], ['Student 115', '09/02/1983', '37', 'Positive'], ['Student 116', '19/08/1991', '93', 'Negative'], ['Student 117', '11/01/1980', '42', 'Negative'], ['Student 118', '03/08/1992', '26', 'Negative'], ['Student 119', '18/03/1992', '40', 'Positive'], ['Student 120', '22/02/1988', '55', 'Positive'], ['Student 121', '09/09/1994', '12', 'Negative'], ['Student 122', '10/08/1991', '84', 'Negative'], ['Student 123', '22/06/1983', '72', 'Positive'], ['Student 124', '12/09/1995', '7', 'Negative'], ['Student 125', '06/12/1998', '82', 'Positive'], ['Student 126', '21/06/1985', '58', 'Positive'], ['Student 127', '05/09/1983', '42', 'Negative'], ['Student 128', '21/05/1997', '23', 'Negative'], ['Student 129', '26/05/1995', '22', 'Positive'], ['Student 130', '06/12/1983', '96', 'Negative'], ['Student 131', '09/02/1991', '34', 'Negative'], ['Student 132', '02/03/1981', '61', 'Negative'], ['Student 133', '25/12/1987', '65', 'Negative'], ['Student 134', '15/07/1990', '69', 'Positive'], ['Student 135', '28/08/1991', '14', 'Positive'], ['Student 136', '04/10/1988', '87', 'Positive'], ['Student 137', '04/12/1998', '23', 'Positive'], ['Student 138', '22/07/1998', '95', 'Negative'], ['Student 139', '20/10/1984', '18', 'Negative'], ['Student 140', '17/09/1986', '21', 'Positive'], ['Student 141', '12/05/1986', '100', 'Negative'], ['Student 142', '14/08/1980', '49', 'Negative'], ['Student 143', '10/10/1997', '81', 'Negative'], ['Student 144', '23/11/1996', '38', 'Negative'], ['Student 145', '07/10/1980', '93', 'Positive'], ['Student 146', '08/11/1983', '62', 'Positive'], ['Student 147', '15/11/1996', '25', 'Positive'], ['Student 148', '02/04/1996', '64', 'Negative'], ['Student 149', '10/10/1983', '84', 'Positive'], ['Student 150', '26/08/1984', '11', 'Positive']]\n"
          ]
        }
      ]
    },
    {
      "cell_type": "code",
      "source": [
        "type(data)"
      ],
      "metadata": {
        "colab": {
          "base_uri": "https://localhost:8080/"
        },
        "id": "4IIhCUqJEo8t",
        "outputId": "d692b825-45e4-4f86-f2bb-79abce78a921"
      },
      "execution_count": null,
      "outputs": [
        {
          "output_type": "execute_result",
          "data": {
            "text/plain": [
              "list"
            ]
          },
          "metadata": {},
          "execution_count": 13
        }
      ]
    },
    {
      "cell_type": "markdown",
      "source": [
        "![#f03c15](https://placehold.co/15x15/f03c15/f03c15.png) Say you want to add a column Month and Year to our list of list.\n",
        "\n",
        "1. We can create the Month and Year column by adding them to the first list\n",
        "2. For each of the list that contain data, we can then read the DOB data and extract month and year.\n"
      ],
      "metadata": {
        "id": "otHsff3MERdk"
      }
    },
    {
      "cell_type": "code",
      "source": [
        "# Adding Month and Year to the column list\n",
        "data[0].append('Month')\n",
        "data[0].append('Year')\n",
        "data[0]"
      ],
      "metadata": {
        "colab": {
          "base_uri": "https://localhost:8080/"
        },
        "id": "Nq15xW6eE_jz",
        "outputId": "6716e44e-2f84-42db-ff4a-5c0667c99c45"
      },
      "execution_count": null,
      "outputs": [
        {
          "output_type": "execute_result",
          "data": {
            "text/plain": [
              "['Name', 'DOB', 'Grade', 'Attitude', 'Month', 'Year']"
            ]
          },
          "metadata": {},
          "execution_count": 85
        }
      ]
    },
    {
      "cell_type": "code",
      "source": [
        "#Process the student list to add numeric values for month and year to each entry\n",
        "for st in data:\n",
        "  if len(st) == 6: # Skips the list that stores column names\n",
        "    pass\n",
        "  else:\n",
        "    dt = st[1] # # Save the date to a variable\n",
        "    #print(dt)\n",
        "    \n",
        "    # Extract the year and month from the string\n",
        "    st.append(dt[3:5])\n",
        "    st.append(dt[-4:])\n",
        "\n",
        "data # final data"
      ],
      "metadata": {
        "id": "4BljMM6mtiKp",
        "colab": {
          "base_uri": "https://localhost:8080/"
        },
        "outputId": "f4f2e03c-478a-4a6b-fe41-40c99b81f8b9"
      },
      "execution_count": null,
      "outputs": [
        {
          "output_type": "execute_result",
          "data": {
            "text/plain": [
              "[['Name', 'DOB', 'Grade', 'Attitude', 'Month', 'Year'],\n",
              " ['Student 1', '18/10/1987', '16', 'Negative', '10', '1987'],\n",
              " ['Student 2', '21/08/1999', '74', 'Positive', '08', '1999'],\n",
              " ['Student 3', '27/01/1999', '60', 'Negative', '01', '1999'],\n",
              " ['Student 4', '07/04/1997', '91', 'Negative', '04', '1997'],\n",
              " ['Student 5', '16/09/1997', '50', 'Positive', '09', '1997'],\n",
              " ['Student 6', '05/11/1987', '66', 'Negative', '11', '1987'],\n",
              " ['Student 7', '25/11/1980', '8', 'Positive', '11', '1980'],\n",
              " ['Student 8', '10/01/1998', '99', 'Positive', '01', '1998'],\n",
              " ['Student 9', '20/08/1988', '92', 'Negative', '08', '1988'],\n",
              " ['Student 10', '24/07/1993', '73', 'Negative', '07', '1993'],\n",
              " ['Student 11', '04/06/1984', '4', 'Positive', '06', '1984'],\n",
              " ['Student 12', '09/04/1995', '86', 'Negative', '04', '1995'],\n",
              " ['Student 13', '14/05/2000', '64', 'Negative', '05', '2000'],\n",
              " ['Student 14', '18/06/1998', '74', 'Negative', '06', '1998'],\n",
              " ['Student 15', '11/04/1998', '87', 'Positive', '04', '1998'],\n",
              " ['Student 16', '22/10/1988', '89', 'Positive', '10', '1988'],\n",
              " ['Student 17', '19/09/1990', '72', 'Positive', '09', '1990'],\n",
              " ['Student 18', '21/04/2000', '73', 'Negative', '04', '2000'],\n",
              " ['Student 19', '03/02/1989', '61', 'Negative', '02', '1989'],\n",
              " ['Student 20', '26/06/1982', '8', 'Negative', '06', '1982'],\n",
              " ['Student 21', '10/01/1984', '54', 'Negative', '01', '1984'],\n",
              " ['Student 22', '20/01/1983', '78', 'Positive', '01', '1983'],\n",
              " ['Student 23', '19/12/1992', '42', 'Negative', '12', '1992'],\n",
              " ['Student 24', '02/04/1996', '39', 'Positive', '04', '1996'],\n",
              " ['Student 25', '20/02/1982', '68', 'Positive', '02', '1982'],\n",
              " ['Student 26', '10/07/1986', '78', 'Negative', '07', '1986'],\n",
              " ['Student 27', '02/12/1984', '43', 'Negative', '12', '1984'],\n",
              " ['Student 28', '28/03/1991', '48', 'Negative', '03', '1991'],\n",
              " ['Student 29', '13/09/1994', '82', 'Positive', '09', '1994'],\n",
              " ['Student 30', '09/09/1999', '55', 'Positive', '09', '1999'],\n",
              " ['Student 31', '09/07/1989', '66', 'Negative', '07', '1989'],\n",
              " ['Student 32', '01/06/1997', '100', 'Negative', '06', '1997'],\n",
              " ['Student 33', '01/06/1998', '48', 'Positive', '06', '1998'],\n",
              " ['Student 34', '21/11/1981', '42', 'Negative', '11', '1981'],\n",
              " ['Student 35', '12/11/1991', '77', 'Negative', '11', '1991'],\n",
              " ['Student 36', '19/01/1995', '7', 'Positive', '01', '1995'],\n",
              " ['Student 37', '21/05/1991', '58', 'Negative', '05', '1991'],\n",
              " ['Student 38', '11/10/1998', '22', 'Negative', '10', '1998'],\n",
              " ['Student 39', '25/06/1985', '47', 'Negative', '06', '1985'],\n",
              " ['Student 40', '04/07/1989', '98', 'Positive', '07', '1989'],\n",
              " ['Student 41', '24/11/1998', '16', 'Negative', '11', '1998'],\n",
              " ['Student 42', '21/04/1996', '34', 'Positive', '04', '1996'],\n",
              " ['Student 43', '22/03/1990', '55', 'Positive', '03', '1990'],\n",
              " ['Student 44', '11/10/1983', '42', 'Positive', '10', '1983'],\n",
              " ['Student 45', '03/03/1994', '43', 'Positive', '03', '1994'],\n",
              " ['Student 46', '09/08/1998', '28', 'Positive', '08', '1998'],\n",
              " ['Student 47', '07/09/1981', '40', 'Positive', '09', '1981'],\n",
              " ['Student 48', '26/06/1988', '82', 'Positive', '06', '1988'],\n",
              " ['Student 49', '19/06/1999', '16', 'Negative', '06', '1999'],\n",
              " ['Student 50', '26/09/1989', '34', 'Negative', '09', '1989'],\n",
              " ['Student 51', '14/11/1991', '37', 'Negative', '11', '1991'],\n",
              " ['Student 52', '02/07/1998', '52', 'Positive', '07', '1998'],\n",
              " ['Student 53', '16/01/1986', '79', 'Negative', '01', '1986'],\n",
              " ['Student 54', '08/12/1997', '4', 'Negative', '12', '1997'],\n",
              " ['Student 55', '18/05/1996', '43', 'Positive', '05', '1996'],\n",
              " ['Student 56', '10/10/1982', '15', 'Positive', '10', '1982'],\n",
              " ['Student 57', '26/01/1981', '88', 'Positive', '01', '1981'],\n",
              " ['Student 58', '02/10/1993', '1', 'Negative', '10', '1993'],\n",
              " ['Student 59', '17/03/1983', '38', 'Positive', '03', '1983'],\n",
              " ['Student 60', '18/09/1980', '52', 'Positive', '09', '1980'],\n",
              " ['Student 61', '11/02/1999', '16', 'Negative', '02', '1999'],\n",
              " ['Student 62', '26/08/1997', '100', 'Positive', '08', '1997'],\n",
              " ['Student 63', '07/04/1991', '15', 'Positive', '04', '1991'],\n",
              " ['Student 64', '26/04/1985', '35', 'Positive', '04', '1985'],\n",
              " ['Student 65', '21/08/1980', '73', 'Negative', '08', '1980'],\n",
              " ['Student 66', '08/05/1981', '34', 'Negative', '05', '1981'],\n",
              " ['Student 67', '11/08/1981', '99', 'Positive', '08', '1981'],\n",
              " ['Student 68', '02/03/1981', '15', 'Positive', '03', '1981'],\n",
              " ['Student 69', '02/08/1982', '91', 'Positive', '08', '1982'],\n",
              " ['Student 70', '16/09/1996', '40', 'Positive', '09', '1996'],\n",
              " ['Student 71', '12/02/1990', '49', 'Negative', '02', '1990'],\n",
              " ['Student 72', '12/05/1998', '33', 'Positive', '05', '1998'],\n",
              " ['Student 73', '04/07/1990', '16', 'Positive', '07', '1990'],\n",
              " ['Student 74', '19/02/1992', '22', 'Positive', '02', '1992'],\n",
              " ['Student 75', '20/08/1991', '83', 'Negative', '08', '1991'],\n",
              " ['Student 76', '20/01/2000', '55', 'Positive', '01', '2000'],\n",
              " ['Student 77', '16/11/1991', '97', 'Negative', '11', '1991'],\n",
              " ['Student 78', '14/12/1993', '58', 'Positive', '12', '1993'],\n",
              " ['Student 79', '18/04/1987', '34', 'Positive', '04', '1987'],\n",
              " ['Student 80', '14/04/1993', '16', 'Positive', '04', '1993'],\n",
              " ['Student 81', '18/06/1990', '33', 'Positive', '06', '1990'],\n",
              " ['Student 82', '04/12/1994', '93', 'Negative', '12', '1994'],\n",
              " ['Student 83', '11/12/1983', '72', 'Positive', '12', '1983'],\n",
              " ['Student 84', '01/12/1998', '60', 'Positive', '12', '1998'],\n",
              " ['Student 85', '02/07/1987', '67', 'Positive', '07', '1987'],\n",
              " ['Student 86', '22/02/1998', '48', 'Positive', '02', '1998'],\n",
              " ['Student 87', '27/06/1980', '15', 'Positive', '06', '1980'],\n",
              " ['Student 88', '16/11/1983', '89', 'Negative', '11', '1983'],\n",
              " ['Student 89', '26/05/1998', '11', 'Positive', '05', '1998'],\n",
              " ['Student 90', '17/09/1998', '91', 'Positive', '09', '1998'],\n",
              " ['Student 91', '24/09/1983', '12', 'Positive', '09', '1983'],\n",
              " ['Student 92', '28/06/1997', '72', 'Positive', '06', '1997'],\n",
              " ['Student 93', '06/04/1982', '82', 'Positive', '04', '1982'],\n",
              " ['Student 94', '23/10/1994', '96', 'Negative', '10', '1994'],\n",
              " ['Student 95', '20/06/1988', '50', 'Negative', '06', '1988'],\n",
              " ['Student 96', '03/07/1997', '48', 'Positive', '07', '1997'],\n",
              " ['Student 97', '06/12/1993', '53', 'Negative', '12', '1993'],\n",
              " ['Student 98', '13/11/1984', '19', 'Positive', '11', '1984'],\n",
              " ['Student 99', '24/08/1983', '61', 'Negative', '08', '1983'],\n",
              " ['Student 100', '28/12/1998', '23', 'Positive', '12', '1998'],\n",
              " ['Student 101', '05/04/1988', '74', 'Negative', '04', '1988'],\n",
              " ['Student 102', '18/12/1987', '99', 'Negative', '12', '1987'],\n",
              " ['Student 103', '28/10/1993', '74', 'Negative', '10', '1993'],\n",
              " ['Student 104', '01/05/1986', '34', 'Negative', '05', '1986'],\n",
              " ['Student 105', '06/04/1992', '72', 'Negative', '04', '1992'],\n",
              " ['Student 106', '16/06/1987', '99', 'Positive', '06', '1987'],\n",
              " ['Student 107', '16/12/1993', '89', 'Positive', '12', '1993'],\n",
              " ['Student 108', '27/10/1994', '83', 'Positive', '10', '1994'],\n",
              " ['Student 109', '03/12/1995', '51', 'Positive', '12', '1995'],\n",
              " ['Student 110', '08/04/1994', '82', 'Positive', '04', '1994'],\n",
              " ['Student 111', '08/05/1986', '24', 'Negative', '05', '1986'],\n",
              " ['Student 112', '20/03/1984', '90', 'Positive', '03', '1984'],\n",
              " ['Student 113', '28/03/1988', '5', 'Negative', '03', '1988'],\n",
              " ['Student 114', '03/07/1985', '93', 'Positive', '07', '1985'],\n",
              " ['Student 115', '09/02/1983', '37', 'Positive', '02', '1983'],\n",
              " ['Student 116', '19/08/1991', '93', 'Negative', '08', '1991'],\n",
              " ['Student 117', '11/01/1980', '42', 'Negative', '01', '1980'],\n",
              " ['Student 118', '03/08/1992', '26', 'Negative', '08', '1992'],\n",
              " ['Student 119', '18/03/1992', '40', 'Positive', '03', '1992'],\n",
              " ['Student 120', '22/02/1988', '55', 'Positive', '02', '1988'],\n",
              " ['Student 121', '09/09/1994', '12', 'Negative', '09', '1994'],\n",
              " ['Student 122', '10/08/1991', '84', 'Negative', '08', '1991'],\n",
              " ['Student 123', '22/06/1983', '72', 'Positive', '06', '1983'],\n",
              " ['Student 124', '12/09/1995', '7', 'Negative', '09', '1995'],\n",
              " ['Student 125', '06/12/1998', '82', 'Positive', '12', '1998'],\n",
              " ['Student 126', '21/06/1985', '58', 'Positive', '06', '1985'],\n",
              " ['Student 127', '05/09/1983', '42', 'Negative', '09', '1983'],\n",
              " ['Student 128', '21/05/1997', '23', 'Negative', '05', '1997'],\n",
              " ['Student 129', '26/05/1995', '22', 'Positive', '05', '1995'],\n",
              " ['Student 130', '06/12/1983', '96', 'Negative', '12', '1983'],\n",
              " ['Student 131', '09/02/1991', '34', 'Negative', '02', '1991'],\n",
              " ['Student 132', '02/03/1981', '61', 'Negative', '03', '1981'],\n",
              " ['Student 133', '25/12/1987', '65', 'Negative', '12', '1987'],\n",
              " ['Student 134', '15/07/1990', '69', 'Positive', '07', '1990'],\n",
              " ['Student 135', '28/08/1991', '14', 'Positive', '08', '1991'],\n",
              " ['Student 136', '04/10/1988', '87', 'Positive', '10', '1988'],\n",
              " ['Student 137', '04/12/1998', '23', 'Positive', '12', '1998'],\n",
              " ['Student 138', '22/07/1998', '95', 'Negative', '07', '1998'],\n",
              " ['Student 139', '20/10/1984', '18', 'Negative', '10', '1984'],\n",
              " ['Student 140', '17/09/1986', '21', 'Positive', '09', '1986'],\n",
              " ['Student 141', '12/05/1986', '100', 'Negative', '05', '1986'],\n",
              " ['Student 142', '14/08/1980', '49', 'Negative', '08', '1980'],\n",
              " ['Student 143', '10/10/1997', '81', 'Negative', '10', '1997'],\n",
              " ['Student 144', '23/11/1996', '38', 'Negative', '11', '1996'],\n",
              " ['Student 145', '07/10/1980', '93', 'Positive', '10', '1980'],\n",
              " ['Student 146', '08/11/1983', '62', 'Positive', '11', '1983'],\n",
              " ['Student 147', '15/11/1996', '25', 'Positive', '11', '1996'],\n",
              " ['Student 148', '02/04/1996', '64', 'Negative', '04', '1996'],\n",
              " ['Student 149', '10/10/1983', '84', 'Positive', '10', '1983'],\n",
              " ['Student 150', '26/08/1984', '11', 'Positive', '08', '1984']]"
            ]
          },
          "metadata": {},
          "execution_count": 86
        }
      ]
    },
    {
      "cell_type": "markdown",
      "source": [
        "\n",
        "\n",
        "1.   What is the range of grades in class?\n",
        "2.   How many students were born in 2000?\n",
        "3.   What was the mean grade for students born in 2000?\n",
        "4.   How many students scored above 80?\n",
        "\n"
      ],
      "metadata": {
        "id": "CYJlE4_ut0PW"
      }
    },
    {
      "cell_type": "code",
      "source": [
        "#@title What is the range of grades in class?\n",
        "# Solution: range of grades\n",
        "years = [data[i][2] for i in range(1,len(data))]\n",
        "max(years),min(years)"
      ],
      "metadata": {
        "colab": {
          "base_uri": "https://localhost:8080/"
        },
        "id": "7QE3ibvxH35u",
        "outputId": "d0fc82ce-2c5a-485e-c7a0-adca86cd0105",
        "cellView": "form",
        "collapsed": true
      },
      "execution_count": null,
      "outputs": [
        {
          "output_type": "execute_result",
          "data": {
            "text/plain": [
              "('99', '0')"
            ]
          },
          "metadata": {},
          "execution_count": 24
        }
      ]
    },
    {
      "cell_type": "code",
      "source": [
        "#@title How many students were born in 2000?\n",
        "# Solution: Number of students born in 2000\n",
        "students2000 = [data[i][-1] for i in range(1,len(data)) if data[i][-1]=='2000']\n",
        "print('Number of students born in 2000:', len(students2000)) "
      ],
      "metadata": {
        "colab": {
          "base_uri": "https://localhost:8080/"
        },
        "id": "xEt30cpDGSKn",
        "outputId": "780d6665-947f-4f81-de61-0e48c9092681",
        "cellView": "form",
        "collapsed": true
      },
      "execution_count": null,
      "outputs": [
        {
          "output_type": "stream",
          "name": "stdout",
          "text": [
            "Number of students born in 2000: 7\n"
          ]
        }
      ]
    },
    {
      "cell_type": "code",
      "source": [
        "#@title What was the mean grade for students born in 2000?\n",
        "# Solution: Mean grade for students born in 2000\n",
        "grades2000 = [int(data[i][2]) for i in range(1,len(data)) if data[i][-1]=='2000']\n",
        "print('Mean grade for students born in 2000:', sum(grades2000)/len(students2000)) "
      ],
      "metadata": {
        "colab": {
          "base_uri": "https://localhost:8080/"
        },
        "id": "sX7zMKoEGxXG",
        "outputId": "d626f157-1312-497c-8705-0fa09f89c5cd",
        "collapsed": true,
        "cellView": "form"
      },
      "execution_count": null,
      "outputs": [
        {
          "output_type": "stream",
          "name": "stdout",
          "text": [
            "Mean grade for students born in 2000: 66.0\n"
          ]
        }
      ]
    },
    {
      "cell_type": "code",
      "source": [
        "#@title How many students scored above 80?\n",
        "# Solution: Number of students who scored above 80\n",
        "above80 = [data[i][2] for i in range(1,len(data)) if int(data[i][2])>80]\n",
        "print('Number of students who scored above 80:', len(above80)) "
      ],
      "metadata": {
        "colab": {
          "base_uri": "https://localhost:8080/"
        },
        "id": "lG-us03qHaCO",
        "outputId": "2990fadf-8c28-4e08-ac11-a039089edbcf",
        "cellView": "form",
        "collapsed": true
      },
      "execution_count": null,
      "outputs": [
        {
          "output_type": "stream",
          "name": "stdout",
          "text": [
            "Number of students who scored above 80: 26\n"
          ]
        }
      ]
    },
    {
      "cell_type": "markdown",
      "source": [
        "📓 Note: as with all programming, there are many ways to get these answers from the above data. See if you can come up with others."
      ],
      "metadata": {
        "id": "bKfhFx0zIusC"
      }
    },
    {
      "cell_type": "code",
      "source": [],
      "metadata": {
        "id": "5nom06mGN3oG"
      },
      "execution_count": null,
      "outputs": []
    },
    {
      "cell_type": "markdown",
      "source": [
        "# Data analysis with JSON files\n",
        "\n",
        "JSON stands for JavaScript object Notation. A JSON file stores JSON text i.e. in syntax for storing and exchanging data.\n",
        "\n",
        "The JSON Python library works with the JSON file format. The key functions are: `creating, loading and encoding data in json`."
      ],
      "metadata": {
        "id": "_u4Toz6hv67L"
      }
    },
    {
      "cell_type": "code",
      "execution_count": null,
      "metadata": {
        "id": "emLZsFadMpVk"
      },
      "outputs": [],
      "source": [
        "# Loading needed libraries\n",
        "import json\n",
        "import numpy as np\n",
        "from collections import defaultdict"
      ]
    },
    {
      "cell_type": "code",
      "source": [
        "!pwd"
      ],
      "metadata": {
        "colab": {
          "base_uri": "https://localhost:8080/"
        },
        "id": "oPXbhPiYH-D0",
        "outputId": "eb0af074-d95f-4f53-981c-ea3e97351020"
      },
      "execution_count": null,
      "outputs": [
        {
          "output_type": "stream",
          "name": "stdout",
          "text": [
            "/content\n"
          ]
        }
      ]
    },
    {
      "cell_type": "code",
      "execution_count": null,
      "metadata": {
        "id": "EK9OkQx0wNLr"
      },
      "outputs": [],
      "source": [
        "# Reading the json file\n",
        "with open('new_releases.json') as f:\n",
        "    data = json.load(f)"
      ]
    },
    {
      "cell_type": "code",
      "execution_count": null,
      "metadata": {
        "id": "sYvwk2z_wNLt",
        "colab": {
          "base_uri": "https://localhost:8080/"
        },
        "outputId": "115679a4-244f-42de-a4af-d1c92371b453"
      },
      "outputs": [
        {
          "output_type": "stream",
          "name": "stdout",
          "text": [
            "{'albums': {'href': 'https://api.spotify.com/v1/browse/new-releases?offset=0&limit=20', 'items': [{'album_type': 'album', 'artists': [{'external_urls': {'spotify': 'https://open.spotify.com/artist/1RyvyyTE3xzB2ZywiAwp0i'}, 'href': 'https://api.spotify.com/v1/artists/1RyvyyTE3xzB2ZywiAwp0i', 'id': '1RyvyyTE3xzB2ZywiAwp0i', 'name': 'Future', 'type': 'artist', 'uri': 'spotify:artist:1RyvyyTE3xzB2ZywiAwp0i'}], 'available_markets': ['AD', 'AE', 'AR', 'AT', 'AU', 'BE', 'BG', 'BH', 'BO', 'BR', 'CA', 'CH', 'CL', 'CO', 'CR', 'CY', 'CZ', 'DE', 'DK', 'DO', 'DZ', 'EC', 'EE', 'EG', 'ES', 'FI', 'FR', 'GB', 'GR', 'GT', 'HK', 'HN', 'HU', 'ID', 'IE', 'IL', 'IN', 'IS', 'IT', 'JO', 'JP', 'KW', 'LB', 'LI', 'LT', 'LU', 'LV', 'MA', 'MC', 'MT', 'MX', 'MY', 'NI', 'NL', 'NO', 'NZ', 'OM', 'PA', 'PE', 'PH', 'PL', 'PS', 'PT', 'PY', 'QA', 'RO', 'SA', 'SE', 'SG', 'SK', 'SV', 'TH', 'TN', 'TR', 'TW', 'US', 'UY', 'VN', 'ZA'], 'external_urls': {'spotify': 'https://open.spotify.com/album/4bNPOFOzxGhF5jhfIK6lit'}, 'href': 'https://api.spotify.com/v1/albums/4bNPOFOzxGhF5jhfIK6lit', 'id': '4bNPOFOzxGhF5jhfIK6lit', 'images': [{'height': 640, 'url': 'https://i.scdn.co/image/ab67616d0000b273935d8d5369bc55e74a39303e', 'width': 640}, {'height': 300, 'url': 'https://i.scdn.co/image/ab67616d00001e02935d8d5369bc55e74a39303e', 'width': 300}, {'height': 64, 'url': 'https://i.scdn.co/image/ab67616d00004851935d8d5369bc55e74a39303e', 'width': 64}], 'name': 'High Off Life', 'release_date': '2020-05-15', 'release_date_precision': 'day', 'total_tracks': 21, 'type': 'album', 'uri': 'spotify:album:4bNPOFOzxGhF5jhfIK6lit'}, {'album_type': 'single', 'artists': [{'external_urls': {'spotify': 'https://open.spotify.com/artist/23fqKkggKUBHNkbKtXEls4'}, 'href': 'https://api.spotify.com/v1/artists/23fqKkggKUBHNkbKtXEls4', 'id': '23fqKkggKUBHNkbKtXEls4', 'name': 'Kygo', 'type': 'artist', 'uri': 'spotify:artist:23fqKkggKUBHNkbKtXEls4'}, {'external_urls': {'spotify': 'https://open.spotify.com/artist/5Pwc4xIPtQLFEnJriah9YJ'}, 'href': 'https://api.spotify.com/v1/artists/5Pwc4xIPtQLFEnJriah9YJ', 'id': '5Pwc4xIPtQLFEnJriah9YJ', 'name': 'OneRepublic', 'type': 'artist', 'uri': 'spotify:artist:5Pwc4xIPtQLFEnJriah9YJ'}], 'available_markets': ['AD', 'AE', 'AR', 'AT', 'AU', 'BE', 'BG', 'BH', 'BO', 'BR', 'CA', 'CH', 'CL', 'CO', 'CR', 'CY', 'CZ', 'DE', 'DK', 'DO', 'DZ', 'EC', 'EE', 'EG', 'ES', 'FI', 'FR', 'GB', 'GR', 'GT', 'HK', 'HN', 'HU', 'ID', 'IE', 'IL', 'IN', 'IS', 'IT', 'JO', 'JP', 'KW', 'LB', 'LI', 'LT', 'LU', 'LV', 'MA', 'MC', 'MT', 'MX', 'MY', 'NI', 'NL', 'NO', 'NZ', 'OM', 'PA', 'PE', 'PH', 'PL', 'PS', 'PT', 'PY', 'QA', 'RO', 'SA', 'SE', 'SG', 'SK', 'SV', 'TH', 'TN', 'TR', 'TW', 'US', 'UY', 'VN', 'ZA'], 'external_urls': {'spotify': 'https://open.spotify.com/album/3LhriqAiHJYw7rxvtlkvQc'}, 'href': 'https://api.spotify.com/v1/albums/3LhriqAiHJYw7rxvtlkvQc', 'id': '3LhriqAiHJYw7rxvtlkvQc', 'images': [{'height': 640, 'url': 'https://i.scdn.co/image/ab67616d0000b273479856767f92aab97c956704', 'width': 640}, {'height': 300, 'url': 'https://i.scdn.co/image/ab67616d00001e02479856767f92aab97c956704', 'width': 300}, {'height': 64, 'url': 'https://i.scdn.co/image/ab67616d00004851479856767f92aab97c956704', 'width': 64}], 'name': 'Lose Somebody', 'release_date': '2020-05-15', 'release_date_precision': 'day', 'total_tracks': 1, 'type': 'album', 'uri': 'spotify:album:3LhriqAiHJYw7rxvtlkvQc'}, {'album_type': 'album', 'artists': [{'external_urls': {'spotify': 'https://open.spotify.com/artist/0LyfQWJT6nXafLPZqxe9Of'}, 'href': 'https://api.spotify.com/v1/artists/0LyfQWJT6nXafLPZqxe9Of', 'id': '0LyfQWJT6nXafLPZqxe9Of', 'name': 'Various Artists', 'type': 'artist', 'uri': 'spotify:artist:0LyfQWJT6nXafLPZqxe9Of'}], 'available_markets': ['AD', 'AE', 'AR', 'AT', 'AU', 'BE', 'BG', 'BH', 'BO', 'BR', 'CA', 'CH', 'CL', 'CO', 'CR', 'CY', 'CZ', 'DE', 'DK', 'DO', 'DZ', 'EC', 'EE', 'EG', 'ES', 'FI', 'FR', 'GB', 'GR', 'GT', 'HK', 'HN', 'HU', 'ID', 'IE', 'IL', 'IN', 'IS', 'IT', 'JO', 'JP', 'KW', 'LB', 'LI', 'LT', 'LU', 'LV', 'MA', 'MC', 'MT', 'MX', 'MY', 'NI', 'NL', 'NO', 'NZ', 'OM', 'PA', 'PE', 'PH', 'PL', 'PS', 'PT', 'PY', 'QA', 'RO', 'SA', 'SE', 'SG', 'SK', 'SV', 'TH', 'TN', 'TR', 'TW', 'US', 'UY', 'VN', 'ZA'], 'external_urls': {'spotify': 'https://open.spotify.com/album/2Zg5xZo3WwIoAZys8OcUpG'}, 'href': 'https://api.spotify.com/v1/albums/2Zg5xZo3WwIoAZys8OcUpG', 'id': '2Zg5xZo3WwIoAZys8OcUpG', 'images': [{'height': 640, 'url': 'https://i.scdn.co/image/ab67616d0000b2732e819e33b9703a8b3fc85a35', 'width': 640}, {'height': 300, 'url': 'https://i.scdn.co/image/ab67616d00001e022e819e33b9703a8b3fc85a35', 'width': 300}, {'height': 64, 'url': 'https://i.scdn.co/image/ab67616d000048512e819e33b9703a8b3fc85a35', 'width': 64}], 'name': 'SCOOB! The Album', 'release_date': '2020-05-15', 'release_date_precision': 'day', 'total_tracks': 12, 'type': 'album', 'uri': 'spotify:album:2Zg5xZo3WwIoAZys8OcUpG'}, {'album_type': 'single', 'artists': [{'external_urls': {'spotify': 'https://open.spotify.com/artist/6jJ0s89eD6GaHleKKya26X'}, 'href': 'https://api.spotify.com/v1/artists/6jJ0s89eD6GaHleKKya26X', 'id': '6jJ0s89eD6GaHleKKya26X', 'name': 'Katy Perry', 'type': 'artist', 'uri': 'spotify:artist:6jJ0s89eD6GaHleKKya26X'}], 'available_markets': ['AD', 'AE', 'AR', 'AT', 'AU', 'BE', 'BG', 'BH', 'BO', 'BR', 'CA', 'CH', 'CL', 'CO', 'CR', 'CY', 'CZ', 'DE', 'DK', 'DO', 'DZ', 'EC', 'EE', 'EG', 'ES', 'FI', 'FR', 'GB', 'GR', 'GT', 'HK', 'HN', 'HU', 'ID', 'IE', 'IL', 'IN', 'IS', 'IT', 'JO', 'JP', 'KW', 'LB', 'LI', 'LT', 'LU', 'LV', 'MA', 'MC', 'MT', 'MX', 'MY', 'NI', 'NL', 'NO', 'NZ', 'OM', 'PA', 'PE', 'PH', 'PL', 'PS', 'PT', 'PY', 'QA', 'RO', 'SA', 'SE', 'SG', 'SK', 'SV', 'TH', 'TN', 'TR', 'TW', 'US', 'UY', 'VN', 'ZA'], 'external_urls': {'spotify': 'https://open.spotify.com/album/2m5J1DUH7hJpPSOromIqpN'}, 'href': 'https://api.spotify.com/v1/albums/2m5J1DUH7hJpPSOromIqpN', 'id': '2m5J1DUH7hJpPSOromIqpN', 'images': [{'height': 640, 'url': 'https://i.scdn.co/image/ab67616d0000b2738df6751bad8ab6b5c928dba3', 'width': 640}, {'height': 300, 'url': 'https://i.scdn.co/image/ab67616d00001e028df6751bad8ab6b5c928dba3', 'width': 300}, {'height': 64, 'url': 'https://i.scdn.co/image/ab67616d000048518df6751bad8ab6b5c928dba3', 'width': 64}], 'name': 'Daisies', 'release_date': '2020-05-15', 'release_date_precision': 'day', 'total_tracks': 1, 'type': 'album', 'uri': 'spotify:album:2m5J1DUH7hJpPSOromIqpN'}, {'album_type': 'album', 'artists': [{'external_urls': {'spotify': 'https://open.spotify.com/artist/6AgTAQt8XS6jRWi4sX7w49'}, 'href': 'https://api.spotify.com/v1/artists/6AgTAQt8XS6jRWi4sX7w49', 'id': '6AgTAQt8XS6jRWi4sX7w49', 'name': 'Polo G', 'type': 'artist', 'uri': 'spotify:artist:6AgTAQt8XS6jRWi4sX7w49'}], 'available_markets': ['AD', 'AE', 'AR', 'AT', 'AU', 'BE', 'BG', 'BH', 'BO', 'BR', 'CA', 'CH', 'CL', 'CO', 'CR', 'CY', 'CZ', 'DE', 'DK', 'DO', 'DZ', 'EC', 'EE', 'EG', 'ES', 'FI', 'FR', 'GB', 'GR', 'GT', 'HK', 'HN', 'HU', 'ID', 'IE', 'IL', 'IN', 'IS', 'IT', 'JO', 'JP', 'KW', 'LB', 'LI', 'LT', 'LU', 'LV', 'MA', 'MC', 'MT', 'MX', 'MY', 'NI', 'NL', 'NO', 'NZ', 'OM', 'PA', 'PE', 'PH', 'PL', 'PS', 'PT', 'PY', 'QA', 'RO', 'SA', 'SE', 'SG', 'SK', 'SV', 'TH', 'TN', 'TR', 'TW', 'US', 'UY', 'VN', 'ZA'], 'external_urls': {'spotify': 'https://open.spotify.com/album/39xhYyNNDatQtgKw2KdXMz'}, 'href': 'https://api.spotify.com/v1/albums/39xhYyNNDatQtgKw2KdXMz', 'id': '39xhYyNNDatQtgKw2KdXMz', 'images': [{'height': 640, 'url': 'https://i.scdn.co/image/ab67616d0000b273339f780dfdbc38558ea0761d', 'width': 640}, {'height': 300, 'url': 'https://i.scdn.co/image/ab67616d00001e02339f780dfdbc38558ea0761d', 'width': 300}, {'height': 64, 'url': 'https://i.scdn.co/image/ab67616d00004851339f780dfdbc38558ea0761d', 'width': 64}], 'name': 'THE GOAT', 'release_date': '2020-05-15', 'release_date_precision': 'day', 'total_tracks': 16, 'type': 'album', 'uri': 'spotify:album:39xhYyNNDatQtgKw2KdXMz'}, {'album_type': 'single', 'artists': [{'external_urls': {'spotify': 'https://open.spotify.com/artist/7gOdHgIoIKoe4i9Tta6qdD'}, 'href': 'https://api.spotify.com/v1/artists/7gOdHgIoIKoe4i9Tta6qdD', 'id': '7gOdHgIoIKoe4i9Tta6qdD', 'name': 'Jonas Brothers', 'type': 'artist', 'uri': 'spotify:artist:7gOdHgIoIKoe4i9Tta6qdD'}, {'external_urls': {'spotify': 'https://open.spotify.com/artist/790FomKkXshlbRYZFtlgla'}, 'href': 'https://api.spotify.com/v1/artists/790FomKkXshlbRYZFtlgla', 'id': '790FomKkXshlbRYZFtlgla', 'name': 'KAROL G', 'type': 'artist', 'uri': 'spotify:artist:790FomKkXshlbRYZFtlgla'}], 'available_markets': ['AD', 'AE', 'AR', 'AT', 'AU', 'BE', 'BG', 'BH', 'BO', 'BR', 'CA', 'CH', 'CL', 'CO', 'CR', 'CY', 'CZ', 'DE', 'DK', 'DO', 'DZ', 'EC', 'EE', 'EG', 'ES', 'FI', 'FR', 'GB', 'GR', 'GT', 'HK', 'HN', 'HU', 'ID', 'IE', 'IL', 'IN', 'IS', 'IT', 'JO', 'JP', 'KW', 'LB', 'LI', 'LT', 'LU', 'LV', 'MA', 'MC', 'MT', 'MX', 'MY', 'NI', 'NL', 'NO', 'NZ', 'OM', 'PA', 'PE', 'PH', 'PL', 'PS', 'PT', 'PY', 'QA', 'RO', 'SA', 'SE', 'SG', 'SK', 'SV', 'TH', 'TN', 'TR', 'TW', 'US', 'UY', 'VN', 'ZA'], 'external_urls': {'spotify': 'https://open.spotify.com/album/0i96PtPJV65ddxsfMfo45F'}, 'href': 'https://api.spotify.com/v1/albums/0i96PtPJV65ddxsfMfo45F', 'id': '0i96PtPJV65ddxsfMfo45F', 'images': [{'height': 640, 'url': 'https://i.scdn.co/image/ab67616d0000b2733b3cd45dfa6f779c01d63fdb', 'width': 640}, {'height': 300, 'url': 'https://i.scdn.co/image/ab67616d00001e023b3cd45dfa6f779c01d63fdb', 'width': 300}, {'height': 64, 'url': 'https://i.scdn.co/image/ab67616d000048513b3cd45dfa6f779c01d63fdb', 'width': 64}], 'name': 'XV', 'release_date': '2020-05-15', 'release_date_precision': 'day', 'total_tracks': 2, 'type': 'album', 'uri': 'spotify:album:0i96PtPJV65ddxsfMfo45F'}, {'album_type': 'album', 'artists': [{'external_urls': {'spotify': 'https://open.spotify.com/artist/25uiPmTg16RbhZWAqwLBy5'}, 'href': 'https://api.spotify.com/v1/artists/25uiPmTg16RbhZWAqwLBy5', 'id': '25uiPmTg16RbhZWAqwLBy5', 'name': 'Charli XCX', 'type': 'artist', 'uri': 'spotify:artist:25uiPmTg16RbhZWAqwLBy5'}], 'available_markets': ['AD', 'AE', 'AR', 'AT', 'AU', 'BE', 'BG', 'BH', 'BO', 'BR', 'CA', 'CH', 'CL', 'CO', 'CR', 'CY', 'CZ', 'DE', 'DK', 'DO', 'DZ', 'EC', 'EE', 'EG', 'ES', 'FI', 'FR', 'GB', 'GR', 'GT', 'HK', 'HN', 'HU', 'ID', 'IE', 'IL', 'IN', 'IS', 'IT', 'JO', 'JP', 'KW', 'LB', 'LI', 'LT', 'LU', 'LV', 'MA', 'MC', 'MT', 'MX', 'MY', 'NI', 'NL', 'NO', 'NZ', 'OM', 'PA', 'PE', 'PH', 'PL', 'PS', 'PT', 'PY', 'QA', 'RO', 'SA', 'SE', 'SG', 'SK', 'SV', 'TH', 'TN', 'TR', 'TW', 'US', 'UY', 'VN', 'ZA'], 'external_urls': {'spotify': 'https://open.spotify.com/album/3a9qH2VEsSiOZvMrjaS0Nu'}, 'href': 'https://api.spotify.com/v1/albums/3a9qH2VEsSiOZvMrjaS0Nu', 'id': '3a9qH2VEsSiOZvMrjaS0Nu', 'images': [{'height': 640, 'url': 'https://i.scdn.co/image/ab67616d0000b273664e38c99d077cc52ab48914', 'width': 640}, {'height': 300, 'url': 'https://i.scdn.co/image/ab67616d00001e02664e38c99d077cc52ab48914', 'width': 300}, {'height': 64, 'url': 'https://i.scdn.co/image/ab67616d00004851664e38c99d077cc52ab48914', 'width': 64}], 'name': \"how i'm feeling now\", 'release_date': '2020-05-15', 'release_date_precision': 'day', 'total_tracks': 11, 'type': 'album', 'uri': 'spotify:album:3a9qH2VEsSiOZvMrjaS0Nu'}, {'album_type': 'single', 'artists': [{'external_urls': {'spotify': 'https://open.spotify.com/artist/2jku7tDXc6XoB6MO2hFuqg'}, 'href': 'https://api.spotify.com/v1/artists/2jku7tDXc6XoB6MO2hFuqg', 'id': '2jku7tDXc6XoB6MO2hFuqg', 'name': 'Tory Lanez', 'type': 'artist', 'uri': 'spotify:artist:2jku7tDXc6XoB6MO2hFuqg'}], 'available_markets': ['AD', 'AE', 'AR', 'AT', 'AU', 'BE', 'BG', 'BH', 'BO', 'BR', 'CH', 'CL', 'CO', 'CR', 'CY', 'CZ', 'DE', 'DK', 'DO', 'DZ', 'EC', 'EE', 'EG', 'ES', 'FI', 'FR', 'GB', 'GR', 'GT', 'HK', 'HN', 'HU', 'ID', 'IE', 'IL', 'IN', 'IS', 'IT', 'JO', 'JP', 'KW', 'LB', 'LI', 'LT', 'LU', 'LV', 'MA', 'MC', 'MT', 'MX', 'MY', 'NI', 'NL', 'NO', 'NZ', 'OM', 'PA', 'PE', 'PH', 'PL', 'PS', 'PT', 'PY', 'QA', 'RO', 'SA', 'SE', 'SG', 'SK', 'SV', 'TH', 'TN', 'TR', 'TW', 'US', 'UY', 'VN', 'ZA'], 'external_urls': {'spotify': 'https://open.spotify.com/album/3lalGt6k7JM3tIji1Xbgmk'}, 'href': 'https://api.spotify.com/v1/albums/3lalGt6k7JM3tIji1Xbgmk', 'id': '3lalGt6k7JM3tIji1Xbgmk', 'images': [{'height': 640, 'url': 'https://i.scdn.co/image/ab67616d0000b273c2ebaf0c84eb77f358d958bc', 'width': 640}, {'height': 300, 'url': 'https://i.scdn.co/image/ab67616d00001e02c2ebaf0c84eb77f358d958bc', 'width': 300}, {'height': 64, 'url': 'https://i.scdn.co/image/ab67616d00004851c2ebaf0c84eb77f358d958bc', 'width': 64}], 'name': 'Temperature Rising', 'release_date': '2020-05-15', 'release_date_precision': 'day', 'total_tracks': 1, 'type': 'album', 'uri': 'spotify:album:3lalGt6k7JM3tIji1Xbgmk'}, {'album_type': 'album', 'artists': [{'external_urls': {'spotify': 'https://open.spotify.com/artist/2ueoLVCXQ948OfhVvAy3Nn'}, 'href': 'https://api.spotify.com/v1/artists/2ueoLVCXQ948OfhVvAy3Nn', 'id': '2ueoLVCXQ948OfhVvAy3Nn', 'name': 'Perfume Genius', 'type': 'artist', 'uri': 'spotify:artist:2ueoLVCXQ948OfhVvAy3Nn'}], 'available_markets': ['AD', 'AE', 'AR', 'AT', 'AU', 'BE', 'BG', 'BH', 'BO', 'BR', 'CA', 'CH', 'CL', 'CO', 'CR', 'CY', 'CZ', 'DE', 'DK', 'DO', 'DZ', 'EC', 'EE', 'EG', 'ES', 'FI', 'FR', 'GB', 'GR', 'GT', 'HK', 'HN', 'HU', 'ID', 'IE', 'IL', 'IN', 'IS', 'IT', 'JO', 'JP', 'KW', 'LB', 'LI', 'LT', 'LU', 'LV', 'MA', 'MC', 'MT', 'MX', 'MY', 'NI', 'NL', 'NO', 'NZ', 'OM', 'PA', 'PE', 'PH', 'PL', 'PS', 'PT', 'PY', 'QA', 'RO', 'SA', 'SE', 'SG', 'SK', 'SV', 'TH', 'TN', 'TR', 'TW', 'US', 'UY', 'VN', 'ZA'], 'external_urls': {'spotify': 'https://open.spotify.com/album/6daEdTBi1hyFQgmsnR7oRr'}, 'href': 'https://api.spotify.com/v1/albums/6daEdTBi1hyFQgmsnR7oRr', 'id': '6daEdTBi1hyFQgmsnR7oRr', 'images': [{'height': 640, 'url': 'https://i.scdn.co/image/ab67616d0000b2739af34850f5125ef195d6101a', 'width': 640}, {'height': 300, 'url': 'https://i.scdn.co/image/ab67616d00001e029af34850f5125ef195d6101a', 'width': 300}, {'height': 64, 'url': 'https://i.scdn.co/image/ab67616d000048519af34850f5125ef195d6101a', 'width': 64}], 'name': 'Set My Heart On Fire Immediately', 'release_date': '2020-05-15', 'release_date_precision': 'day', 'total_tracks': 13, 'type': 'album', 'uri': 'spotify:album:6daEdTBi1hyFQgmsnR7oRr'}, {'album_type': 'album', 'artists': [{'external_urls': {'spotify': 'https://open.spotify.com/artist/7rkW85dBwwrJtlHRDkJDAC'}, 'href': 'https://api.spotify.com/v1/artists/7rkW85dBwwrJtlHRDkJDAC', 'id': '7rkW85dBwwrJtlHRDkJDAC', 'name': 'NAV', 'type': 'artist', 'uri': 'spotify:artist:7rkW85dBwwrJtlHRDkJDAC'}], 'available_markets': ['AD', 'AE', 'AR', 'AT', 'AU', 'BE', 'BG', 'BH', 'BO', 'BR', 'CA', 'CH', 'CL', 'CO', 'CR', 'CY', 'CZ', 'DE', 'DK', 'DO', 'DZ', 'EC', 'EE', 'EG', 'ES', 'FI', 'FR', 'GB', 'GR', 'GT', 'HK', 'HN', 'HU', 'ID', 'IE', 'IL', 'IN', 'IS', 'IT', 'JO', 'JP', 'KW', 'LB', 'LI', 'LT', 'LU', 'LV', 'MA', 'MC', 'MT', 'MX', 'MY', 'NI', 'NL', 'NO', 'NZ', 'OM', 'PA', 'PE', 'PH', 'PL', 'PS', 'PT', 'PY', 'QA', 'RO', 'SA', 'SE', 'SG', 'SK', 'SV', 'TH', 'TN', 'TR', 'TW', 'US', 'UY', 'VN', 'ZA'], 'external_urls': {'spotify': 'https://open.spotify.com/album/2kx4l1OQNT2JXLld9HJDIh'}, 'href': 'https://api.spotify.com/v1/albums/2kx4l1OQNT2JXLld9HJDIh', 'id': '2kx4l1OQNT2JXLld9HJDIh', 'images': [{'height': 640, 'url': 'https://i.scdn.co/image/ab67616d0000b273b9c89bb14d58ea3150bd435d', 'width': 640}, {'height': 300, 'url': 'https://i.scdn.co/image/ab67616d00001e02b9c89bb14d58ea3150bd435d', 'width': 300}, {'height': 64, 'url': 'https://i.scdn.co/image/ab67616d00004851b9c89bb14d58ea3150bd435d', 'width': 64}], 'name': 'Good Intentions (Brown Boy 2 Deluxe Version)', 'release_date': '2020-05-11', 'release_date_precision': 'day', 'total_tracks': 32, 'type': 'album', 'uri': 'spotify:album:2kx4l1OQNT2JXLld9HJDIh'}, {'album_type': 'single', 'artists': [{'external_urls': {'spotify': 'https://open.spotify.com/artist/6oMuImdp5ZcFhWP0ESe6mG'}, 'href': 'https://api.spotify.com/v1/artists/6oMuImdp5ZcFhWP0ESe6mG', 'id': '6oMuImdp5ZcFhWP0ESe6mG', 'name': 'Migos', 'type': 'artist', 'uri': 'spotify:artist:6oMuImdp5ZcFhWP0ESe6mG'}], 'available_markets': ['AD', 'AE', 'AR', 'AT', 'AU', 'BE', 'BG', 'BH', 'BO', 'BR', 'CA', 'CH', 'CL', 'CO', 'CR', 'CY', 'CZ', 'DE', 'DK', 'DO', 'DZ', 'EC', 'EE', 'EG', 'ES', 'FI', 'FR', 'GB', 'GR', 'GT', 'HK', 'HN', 'HU', 'ID', 'IE', 'IL', 'IN', 'IS', 'IT', 'JO', 'JP', 'KW', 'LB', 'LI', 'LT', 'LU', 'LV', 'MA', 'MC', 'MT', 'MX', 'MY', 'NI', 'NL', 'NO', 'NZ', 'OM', 'PA', 'PE', 'PH', 'PL', 'PS', 'PT', 'PY', 'QA', 'RO', 'SA', 'SE', 'SG', 'SK', 'SV', 'TH', 'TN', 'TR', 'TW', 'US', 'UY', 'VN', 'ZA'], 'external_urls': {'spotify': 'https://open.spotify.com/album/3PASWLvNfvfMF68dDznEgK'}, 'href': 'https://api.spotify.com/v1/albums/3PASWLvNfvfMF68dDznEgK', 'id': '3PASWLvNfvfMF68dDznEgK', 'images': [{'height': 640, 'url': 'https://i.scdn.co/image/ab67616d0000b2739325c863d9139cc2d507421b', 'width': 640}, {'height': 300, 'url': 'https://i.scdn.co/image/ab67616d00001e029325c863d9139cc2d507421b', 'width': 300}, {'height': 64, 'url': 'https://i.scdn.co/image/ab67616d000048519325c863d9139cc2d507421b', 'width': 64}], 'name': 'Racks 2 Skinny', 'release_date': '2020-05-11', 'release_date_precision': 'day', 'total_tracks': 1, 'type': 'album', 'uri': 'spotify:album:3PASWLvNfvfMF68dDznEgK'}, {'album_type': 'single', 'artists': [{'external_urls': {'spotify': 'https://open.spotify.com/artist/5Zq7R5qmi58ByYyBQTlNuk'}, 'href': 'https://api.spotify.com/v1/artists/5Zq7R5qmi58ByYyBQTlNuk', 'id': '5Zq7R5qmi58ByYyBQTlNuk', 'name': 'Lee Brice', 'type': 'artist', 'uri': 'spotify:artist:5Zq7R5qmi58ByYyBQTlNuk'}], 'available_markets': ['AD', 'AE', 'AR', 'AT', 'AU', 'BE', 'BG', 'BH', 'BO', 'BR', 'CA', 'CH', 'CL', 'CO', 'CR', 'CY', 'CZ', 'DE', 'DK', 'DO', 'DZ', 'EC', 'EE', 'EG', 'ES', 'FI', 'FR', 'GB', 'GR', 'GT', 'HK', 'HN', 'HU', 'ID', 'IE', 'IL', 'IN', 'IS', 'IT', 'JO', 'JP', 'KW', 'LB', 'LI', 'LT', 'LU', 'LV', 'MA', 'MC', 'MT', 'MX', 'MY', 'NI', 'NL', 'NO', 'NZ', 'OM', 'PA', 'PE', 'PH', 'PL', 'PS', 'PT', 'PY', 'QA', 'RO', 'SA', 'SE', 'SG', 'SK', 'SV', 'TH', 'TN', 'TR', 'TW', 'US', 'UY', 'VN', 'ZA'], 'external_urls': {'spotify': 'https://open.spotify.com/album/5LK5cCx0XdniivfZ91vOSv'}, 'href': 'https://api.spotify.com/v1/albums/5LK5cCx0XdniivfZ91vOSv', 'id': '5LK5cCx0XdniivfZ91vOSv', 'images': [{'height': 640, 'url': 'https://i.scdn.co/image/ab67616d0000b27306ae99421702f8a9d881e268', 'width': 640}, {'height': 300, 'url': 'https://i.scdn.co/image/ab67616d00001e0206ae99421702f8a9d881e268', 'width': 300}, {'height': 64, 'url': 'https://i.scdn.co/image/ab67616d0000485106ae99421702f8a9d881e268', 'width': 64}], 'name': 'One Of Them Girls', 'release_date': '2020-05-15', 'release_date_precision': 'day', 'total_tracks': 2, 'type': 'album', 'uri': 'spotify:album:5LK5cCx0XdniivfZ91vOSv'}, {'album_type': 'album', 'artists': [{'external_urls': {'spotify': 'https://open.spotify.com/artist/2o5jDhtHVPhrJdv3cEQ99Z'}, 'href': 'https://api.spotify.com/v1/artists/2o5jDhtHVPhrJdv3cEQ99Z', 'id': '2o5jDhtHVPhrJdv3cEQ99Z', 'name': 'Tiësto', 'type': 'artist', 'uri': 'spotify:artist:2o5jDhtHVPhrJdv3cEQ99Z'}], 'available_markets': ['AD', 'AE', 'AR', 'AT', 'AU', 'BE', 'BG', 'BH', 'BO', 'BR', 'CA', 'CH', 'CL', 'CO', 'CR', 'CY', 'CZ', 'DE', 'DK', 'DO', 'DZ', 'EC', 'EE', 'EG', 'ES', 'FI', 'FR', 'GB', 'GR', 'GT', 'HK', 'HN', 'HU', 'ID', 'IE', 'IL', 'IN', 'IS', 'IT', 'JO', 'JP', 'KW', 'LB', 'LI', 'LT', 'LU', 'LV', 'MA', 'MC', 'MT', 'MX', 'MY', 'NI', 'NL', 'NO', 'NZ', 'OM', 'PA', 'PE', 'PH', 'PL', 'PS', 'PT', 'PY', 'QA', 'RO', 'SA', 'SE', 'SG', 'SK', 'SV', 'TH', 'TN', 'TR', 'TW', 'US', 'UY', 'VN', 'ZA'], 'external_urls': {'spotify': 'https://open.spotify.com/album/6CIslPQSknp875cigkhKJC'}, 'href': 'https://api.spotify.com/v1/albums/6CIslPQSknp875cigkhKJC', 'id': '6CIslPQSknp875cigkhKJC', 'images': [{'height': 640, 'url': 'https://i.scdn.co/image/ab67616d0000b2739759d6dfa2c19091814fccb3', 'width': 640}, {'height': 300, 'url': 'https://i.scdn.co/image/ab67616d00001e029759d6dfa2c19091814fccb3', 'width': 300}, {'height': 64, 'url': 'https://i.scdn.co/image/ab67616d000048519759d6dfa2c19091814fccb3', 'width': 64}], 'name': 'The London Sessions', 'release_date': '2020-05-15', 'release_date_precision': 'day', 'total_tracks': 13, 'type': 'album', 'uri': 'spotify:album:6CIslPQSknp875cigkhKJC'}, {'album_type': 'single', 'artists': [{'external_urls': {'spotify': 'https://open.spotify.com/artist/6pBNfggcZZDCmb0p92OnGn'}, 'href': 'https://api.spotify.com/v1/artists/6pBNfggcZZDCmb0p92OnGn', 'id': '6pBNfggcZZDCmb0p92OnGn', 'name': 'Chase Rice', 'type': 'artist', 'uri': 'spotify:artist:6pBNfggcZZDCmb0p92OnGn'}], 'available_markets': ['AD', 'AE', 'AR', 'AT', 'AU', 'BE', 'BG', 'BH', 'BO', 'BR', 'CA', 'CH', 'CL', 'CO', 'CR', 'CY', 'CZ', 'DE', 'DK', 'DO', 'DZ', 'EC', 'EE', 'EG', 'ES', 'FI', 'FR', 'GB', 'GR', 'GT', 'HK', 'HN', 'HU', 'ID', 'IE', 'IL', 'IS', 'IT', 'JO', 'JP', 'KW', 'LB', 'LI', 'LT', 'LU', 'LV', 'MA', 'MC', 'MT', 'MX', 'MY', 'NI', 'NL', 'NO', 'NZ', 'OM', 'PA', 'PE', 'PH', 'PL', 'PS', 'PT', 'PY', 'QA', 'RO', 'SA', 'SE', 'SG', 'SK', 'SV', 'TH', 'TN', 'TR', 'TW', 'US', 'UY', 'VN', 'ZA'], 'external_urls': {'spotify': 'https://open.spotify.com/album/5XvXf3mdhShyLZhoJYR74q'}, 'href': 'https://api.spotify.com/v1/albums/5XvXf3mdhShyLZhoJYR74q', 'id': '5XvXf3mdhShyLZhoJYR74q', 'images': [{'height': 640, 'url': 'https://i.scdn.co/image/ab67616d0000b2735f6b892b478747a769252650', 'width': 640}, {'height': 300, 'url': 'https://i.scdn.co/image/ab67616d00001e025f6b892b478747a769252650', 'width': 300}, {'height': 64, 'url': 'https://i.scdn.co/image/ab67616d000048515f6b892b478747a769252650', 'width': 64}], 'name': 'The Album, Pt. II', 'release_date': '2020-05-15', 'release_date_precision': 'day', 'total_tracks': 4, 'type': 'album', 'uri': 'spotify:album:5XvXf3mdhShyLZhoJYR74q'}, {'album_type': 'album', 'artists': [{'external_urls': {'spotify': 'https://open.spotify.com/artist/1caBfBEapzw8z2Qz9q0OaQ'}, 'href': 'https://api.spotify.com/v1/artists/1caBfBEapzw8z2Qz9q0OaQ', 'id': '1caBfBEapzw8z2Qz9q0OaQ', 'name': 'Asking Alexandria', 'type': 'artist', 'uri': 'spotify:artist:1caBfBEapzw8z2Qz9q0OaQ'}], 'available_markets': ['AD', 'AE', 'AR', 'AT', 'AU', 'BE', 'BG', 'BH', 'BO', 'BR', 'CA', 'CH', 'CL', 'CO', 'CR', 'CY', 'CZ', 'DE', 'DK', 'DO', 'DZ', 'EC', 'EE', 'EG', 'ES', 'FI', 'FR', 'GB', 'GR', 'GT', 'HK', 'HN', 'HU', 'ID', 'IE', 'IL', 'IN', 'IS', 'IT', 'JO', 'JP', 'KW', 'LB', 'LI', 'LT', 'LU', 'LV', 'MA', 'MC', 'MT', 'MX', 'MY', 'NI', 'NL', 'NO', 'NZ', 'OM', 'PA', 'PE', 'PH', 'PL', 'PS', 'PT', 'PY', 'QA', 'RO', 'SA', 'SE', 'SG', 'SK', 'SV', 'TH', 'TN', 'TR', 'TW', 'US', 'UY', 'VN', 'ZA'], 'external_urls': {'spotify': 'https://open.spotify.com/album/5VKKXDvYuJmRc2UQHCwNQK'}, 'href': 'https://api.spotify.com/v1/albums/5VKKXDvYuJmRc2UQHCwNQK', 'id': '5VKKXDvYuJmRc2UQHCwNQK', 'images': [{'height': 640, 'url': 'https://i.scdn.co/image/ab67616d0000b273d30ebbcdf987ab5273abdd8d', 'width': 640}, {'height': 300, 'url': 'https://i.scdn.co/image/ab67616d00001e02d30ebbcdf987ab5273abdd8d', 'width': 300}, {'height': 64, 'url': 'https://i.scdn.co/image/ab67616d00004851d30ebbcdf987ab5273abdd8d', 'width': 64}], 'name': 'Like A House On Fire', 'release_date': '2020-05-15', 'release_date_precision': 'day', 'total_tracks': 15, 'type': 'album', 'uri': 'spotify:album:5VKKXDvYuJmRc2UQHCwNQK'}, {'album_type': 'single', 'artists': [{'external_urls': {'spotify': 'https://open.spotify.com/artist/7d3WFRME3vBY2cgoP38RDo'}, 'href': 'https://api.spotify.com/v1/artists/7d3WFRME3vBY2cgoP38RDo', 'id': '7d3WFRME3vBY2cgoP38RDo', 'name': 'Lil Skies', 'type': 'artist', 'uri': 'spotify:artist:7d3WFRME3vBY2cgoP38RDo'}], 'available_markets': ['AD', 'AE', 'AR', 'AT', 'AU', 'BE', 'BG', 'BH', 'BO', 'BR', 'CA', 'CH', 'CL', 'CO', 'CR', 'CY', 'CZ', 'DE', 'DK', 'DO', 'DZ', 'EC', 'EE', 'EG', 'ES', 'FI', 'FR', 'GB', 'GR', 'GT', 'HK', 'HN', 'HU', 'ID', 'IE', 'IL', 'IN', 'IS', 'IT', 'JO', 'JP', 'KW', 'LB', 'LI', 'LT', 'LU', 'LV', 'MA', 'MC', 'MT', 'MX', 'MY', 'NI', 'NL', 'NO', 'NZ', 'OM', 'PA', 'PE', 'PH', 'PL', 'PS', 'PT', 'PY', 'QA', 'RO', 'SA', 'SE', 'SG', 'SK', 'SV', 'TH', 'TN', 'TR', 'TW', 'US', 'UY', 'VN', 'ZA'], 'external_urls': {'spotify': 'https://open.spotify.com/album/3cVy1WTjSAVpzUc7MVCTLu'}, 'href': 'https://api.spotify.com/v1/albums/3cVy1WTjSAVpzUc7MVCTLu', 'id': '3cVy1WTjSAVpzUc7MVCTLu', 'images': [{'height': 640, 'url': 'https://i.scdn.co/image/ab67616d0000b273f7571dc32332081426ab3818', 'width': 640}, {'height': 300, 'url': 'https://i.scdn.co/image/ab67616d00001e02f7571dc32332081426ab3818', 'width': 300}, {'height': 64, 'url': 'https://i.scdn.co/image/ab67616d00004851f7571dc32332081426ab3818', 'width': 64}], 'name': 'Riot', 'release_date': '2020-05-13', 'release_date_precision': 'day', 'total_tracks': 1, 'type': 'album', 'uri': 'spotify:album:3cVy1WTjSAVpzUc7MVCTLu'}, {'album_type': 'album', 'artists': [{'external_urls': {'spotify': 'https://open.spotify.com/artist/55fhWPvDiMpLnE4ZzNXZyW'}, 'href': 'https://api.spotify.com/v1/artists/55fhWPvDiMpLnE4ZzNXZyW', 'id': '55fhWPvDiMpLnE4ZzNXZyW', 'name': 'Noah Cyrus', 'type': 'artist', 'uri': 'spotify:artist:55fhWPvDiMpLnE4ZzNXZyW'}], 'available_markets': ['AD', 'AE', 'AR', 'AT', 'AU', 'BE', 'BG', 'BH', 'BO', 'BR', 'CA', 'CH', 'CL', 'CO', 'CR', 'CY', 'CZ', 'DE', 'DK', 'DO', 'DZ', 'EC', 'EE', 'EG', 'ES', 'FI', 'FR', 'GB', 'GR', 'GT', 'HK', 'HN', 'HU', 'ID', 'IE', 'IL', 'IN', 'IS', 'IT', 'JO', 'JP', 'KW', 'LB', 'LI', 'LT', 'LU', 'LV', 'MA', 'MC', 'MT', 'MX', 'MY', 'NI', 'NL', 'NO', 'NZ', 'OM', 'PA', 'PE', 'PH', 'PL', 'PS', 'PT', 'PY', 'QA', 'RO', 'SA', 'SE', 'SG', 'SK', 'SV', 'TH', 'TN', 'TR', 'TW', 'US', 'UY', 'VN', 'ZA'], 'external_urls': {'spotify': 'https://open.spotify.com/album/5Gn3fFzlWL89j0hGumtXb5'}, 'href': 'https://api.spotify.com/v1/albums/5Gn3fFzlWL89j0hGumtXb5', 'id': '5Gn3fFzlWL89j0hGumtXb5', 'images': [{'height': 640, 'url': 'https://i.scdn.co/image/ab67616d0000b2737f66b73bd6e86f4c8d2a7692', 'width': 640}, {'height': 300, 'url': 'https://i.scdn.co/image/ab67616d00001e027f66b73bd6e86f4c8d2a7692', 'width': 300}, {'height': 64, 'url': 'https://i.scdn.co/image/ab67616d000048517f66b73bd6e86f4c8d2a7692', 'width': 64}], 'name': 'THE END OF EVERYTHING', 'release_date': '2020-05-15', 'release_date_precision': 'day', 'total_tracks': 8, 'type': 'album', 'uri': 'spotify:album:5Gn3fFzlWL89j0hGumtXb5'}, {'album_type': 'single', 'artists': [{'external_urls': {'spotify': 'https://open.spotify.com/artist/6C1ohJrd5VydigQtaGy5Wa'}, 'href': 'https://api.spotify.com/v1/artists/6C1ohJrd5VydigQtaGy5Wa', 'id': '6C1ohJrd5VydigQtaGy5Wa', 'name': 'Joyner Lucas', 'type': 'artist', 'uri': 'spotify:artist:6C1ohJrd5VydigQtaGy5Wa'}, {'external_urls': {'spotify': 'https://open.spotify.com/artist/41qil2VaGbD194gaEcmmyx'}, 'href': 'https://api.spotify.com/v1/artists/41qil2VaGbD194gaEcmmyx', 'id': '41qil2VaGbD194gaEcmmyx', 'name': 'Will Smith', 'type': 'artist', 'uri': 'spotify:artist:41qil2VaGbD194gaEcmmyx'}], 'available_markets': ['AD', 'AE', 'AR', 'AT', 'AU', 'BE', 'BG', 'BH', 'BO', 'BR', 'CA', 'CH', 'CL', 'CO', 'CR', 'CY', 'CZ', 'DE', 'DK', 'DO', 'DZ', 'EC', 'EE', 'EG', 'ES', 'FI', 'FR', 'GB', 'GR', 'GT', 'HK', 'HN', 'HU', 'ID', 'IE', 'IL', 'IN', 'IS', 'IT', 'JO', 'JP', 'KW', 'LB', 'LI', 'LT', 'LU', 'LV', 'MA', 'MC', 'MT', 'MX', 'MY', 'NI', 'NL', 'NO', 'NZ', 'OM', 'PA', 'PE', 'PH', 'PL', 'PS', 'PT', 'PY', 'QA', 'RO', 'SA', 'SE', 'SG', 'SK', 'SV', 'TH', 'TN', 'TR', 'TW', 'US', 'UY', 'VN', 'ZA'], 'external_urls': {'spotify': 'https://open.spotify.com/album/3tOe6XM8LmRA5vDAaMqp8e'}, 'href': 'https://api.spotify.com/v1/albums/3tOe6XM8LmRA5vDAaMqp8e', 'id': '3tOe6XM8LmRA5vDAaMqp8e', 'images': [{'height': 640, 'url': 'https://i.scdn.co/image/ab67616d0000b2734ac196312c24faedb76a345e', 'width': 640}, {'height': 300, 'url': 'https://i.scdn.co/image/ab67616d00001e024ac196312c24faedb76a345e', 'width': 300}, {'height': 64, 'url': 'https://i.scdn.co/image/ab67616d000048514ac196312c24faedb76a345e', 'width': 64}], 'name': 'Will (Remix)', 'release_date': '2020-05-15', 'release_date_precision': 'day', 'total_tracks': 1, 'type': 'album', 'uri': 'spotify:album:3tOe6XM8LmRA5vDAaMqp8e'}, {'album_type': 'single', 'artists': [{'external_urls': {'spotify': 'https://open.spotify.com/artist/6Xgp2XMz1fhVYe7i6yNAax'}, 'href': 'https://api.spotify.com/v1/artists/6Xgp2XMz1fhVYe7i6yNAax', 'id': '6Xgp2XMz1fhVYe7i6yNAax', 'name': 'Trippie Redd', 'type': 'artist', 'uri': 'spotify:artist:6Xgp2XMz1fhVYe7i6yNAax'}, {'external_urls': {'spotify': 'https://open.spotify.com/artist/2HPaUgqeutzr3jx5a9WyDV'}, 'href': 'https://api.spotify.com/v1/artists/2HPaUgqeutzr3jx5a9WyDV', 'id': '2HPaUgqeutzr3jx5a9WyDV', 'name': 'PARTYNEXTDOOR', 'type': 'artist', 'uri': 'spotify:artist:2HPaUgqeutzr3jx5a9WyDV'}], 'available_markets': ['AD', 'AE', 'AR', 'AT', 'AU', 'BE', 'BG', 'BH', 'BO', 'BR', 'CA', 'CH', 'CL', 'CO', 'CR', 'CY', 'CZ', 'DE', 'DK', 'DO', 'DZ', 'EC', 'EE', 'EG', 'ES', 'FI', 'FR', 'GB', 'GR', 'GT', 'HK', 'HN', 'HU', 'ID', 'IE', 'IL', 'IN', 'IS', 'IT', 'JO', 'JP', 'KW', 'LB', 'LI', 'LT', 'LU', 'LV', 'MA', 'MC', 'MT', 'MX', 'MY', 'NI', 'NL', 'NO', 'NZ', 'OM', 'PA', 'PE', 'PH', 'PL', 'PS', 'PT', 'PY', 'QA', 'RO', 'SA', 'SE', 'SG', 'SK', 'SV', 'TH', 'TN', 'TR', 'TW', 'US', 'UY', 'VN', 'ZA'], 'external_urls': {'spotify': 'https://open.spotify.com/album/7rcMHNqNbQxF5TaPMHFoKu'}, 'href': 'https://api.spotify.com/v1/albums/7rcMHNqNbQxF5TaPMHFoKu', 'id': '7rcMHNqNbQxF5TaPMHFoKu', 'images': [{'height': 640, 'url': 'https://i.scdn.co/image/ab67616d0000b273de32a6662a7db272328f4761', 'width': 640}, {'height': 300, 'url': 'https://i.scdn.co/image/ab67616d00001e02de32a6662a7db272328f4761', 'width': 300}, {'height': 64, 'url': 'https://i.scdn.co/image/ab67616d00004851de32a6662a7db272328f4761', 'width': 64}], 'name': 'Excitement', 'release_date': '2020-05-15', 'release_date_precision': 'day', 'total_tracks': 1, 'type': 'album', 'uri': 'spotify:album:7rcMHNqNbQxF5TaPMHFoKu'}, {'album_type': 'single', 'artists': [{'external_urls': {'spotify': 'https://open.spotify.com/artist/3NPpFNZtSTHheNBaWC82rB'}, 'href': 'https://api.spotify.com/v1/artists/3NPpFNZtSTHheNBaWC82rB', 'id': '3NPpFNZtSTHheNBaWC82rB', 'name': 'X Ambassadors', 'type': 'artist', 'uri': 'spotify:artist:3NPpFNZtSTHheNBaWC82rB'}, {'external_urls': {'spotify': 'https://open.spotify.com/artist/0pCNk4D3E2xtszsm6hMsWr'}, 'href': 'https://api.spotify.com/v1/artists/0pCNk4D3E2xtszsm6hMsWr', 'id': '0pCNk4D3E2xtszsm6hMsWr', 'name': 'K.Flay', 'type': 'artist', 'uri': 'spotify:artist:0pCNk4D3E2xtszsm6hMsWr'}, {'external_urls': {'spotify': 'https://open.spotify.com/artist/4ZgQDCtRqZlhLswVS6MHN4'}, 'href': 'https://api.spotify.com/v1/artists/4ZgQDCtRqZlhLswVS6MHN4', 'id': '4ZgQDCtRqZlhLswVS6MHN4', 'name': 'grandson', 'type': 'artist', 'uri': 'spotify:artist:4ZgQDCtRqZlhLswVS6MHN4'}], 'available_markets': ['AD', 'AE', 'AR', 'AT', 'AU', 'BE', 'BG', 'BH', 'BO', 'BR', 'CA', 'CH', 'CL', 'CO', 'CR', 'CY', 'CZ', 'DE', 'DK', 'DO', 'DZ', 'EC', 'EE', 'EG', 'ES', 'FI', 'FR', 'GB', 'GR', 'GT', 'HK', 'HN', 'HU', 'ID', 'IE', 'IL', 'IN', 'IS', 'IT', 'JO', 'JP', 'KW', 'LB', 'LI', 'LT', 'LU', 'LV', 'MA', 'MC', 'MT', 'MX', 'MY', 'NI', 'NL', 'NO', 'NZ', 'OM', 'PA', 'PE', 'PH', 'PL', 'PS', 'PT', 'PY', 'QA', 'RO', 'SA', 'SE', 'SG', 'SK', 'SV', 'TH', 'TN', 'TR', 'TW', 'US', 'UY', 'VN', 'ZA'], 'external_urls': {'spotify': 'https://open.spotify.com/album/2JQbWWpYG6kKppiD6z2FwL'}, 'href': 'https://api.spotify.com/v1/albums/2JQbWWpYG6kKppiD6z2FwL', 'id': '2JQbWWpYG6kKppiD6z2FwL', 'images': [{'height': 640, 'url': 'https://i.scdn.co/image/ab67616d0000b273e420fab8e9ec9cf79c073a28', 'width': 640}, {'height': 300, 'url': 'https://i.scdn.co/image/ab67616d00001e02e420fab8e9ec9cf79c073a28', 'width': 300}, {'height': 64, 'url': 'https://i.scdn.co/image/ab67616d00004851e420fab8e9ec9cf79c073a28', 'width': 64}], 'name': 'Zen (with K.Flay & grandson)', 'release_date': '2020-05-15', 'release_date_precision': 'day', 'total_tracks': 1, 'type': 'album', 'uri': 'spotify:album:2JQbWWpYG6kKppiD6z2FwL'}], 'limit': 20, 'next': 'https://api.spotify.com/v1/browse/new-releases?offset=20&limit=20', 'offset': 0, 'previous': None, 'total': 100}}\n"
          ]
        }
      ],
      "source": [
        "## This will look messy\n",
        "print(data)"
      ]
    },
    {
      "cell_type": "markdown",
      "source": [
        "It looks messy as the json loads data into a dictionary of dictionaries; having a similar structure.  \n",
        "\n",
        "![link text](https://pynative.com/wp-content/uploads/2020/01/developer_json_file.jpg)"
      ],
      "metadata": {
        "id": "wvNTm-dQPOx5"
      }
    },
    {
      "cell_type": "code",
      "execution_count": null,
      "metadata": {
        "id": "RCrklPn1wNLv",
        "colab": {
          "base_uri": "https://localhost:8080/"
        },
        "outputId": "c151dd02-9d3c-4f41-d096-431b704a81d0"
      },
      "outputs": [
        {
          "output_type": "execute_result",
          "data": {
            "text/plain": [
              "dict"
            ]
          },
          "metadata": {},
          "execution_count": 91
        }
      ],
      "source": [
        "type(data)"
      ]
    },
    {
      "cell_type": "markdown",
      "source": [
        "To read this json data, one has to study the keys of all these dictionaries."
      ],
      "metadata": {
        "id": "VhwinXvrQGxQ"
      }
    },
    {
      "cell_type": "markdown",
      "source": [
        "**Level 1:**"
      ],
      "metadata": {
        "id": "7OHnuhr2QVxs"
      }
    },
    {
      "cell_type": "code",
      "execution_count": null,
      "metadata": {
        "id": "_IgnUtjkwNLv",
        "colab": {
          "base_uri": "https://localhost:8080/"
        },
        "outputId": "dd78c309-6def-4e93-bfb5-99a634b9ba6c"
      },
      "outputs": [
        {
          "output_type": "execute_result",
          "data": {
            "text/plain": [
              "dict_keys(['albums'])"
            ]
          },
          "metadata": {},
          "execution_count": 92
        }
      ],
      "source": [
        "data.keys()"
      ]
    },
    {
      "cell_type": "code",
      "execution_count": null,
      "metadata": {
        "id": "q0O6trebwNLw",
        "colab": {
          "base_uri": "https://localhost:8080/"
        },
        "outputId": "398bbce2-61cd-410f-d94b-01a9784153e8"
      },
      "outputs": [
        {
          "output_type": "execute_result",
          "data": {
            "text/plain": [
              "dict"
            ]
          },
          "metadata": {},
          "execution_count": 8
        }
      ],
      "source": [
        "type(data['albums'])"
      ]
    },
    {
      "cell_type": "markdown",
      "source": [
        "**Level 2:**"
      ],
      "metadata": {
        "id": "utHgivSLQg0L"
      }
    },
    {
      "cell_type": "code",
      "execution_count": null,
      "metadata": {
        "id": "6b_VPxP4wNLw",
        "colab": {
          "base_uri": "https://localhost:8080/"
        },
        "outputId": "438e01e5-7ce9-460f-c0fe-72fb5902d5bc"
      },
      "outputs": [
        {
          "output_type": "execute_result",
          "data": {
            "text/plain": [
              "dict_keys(['href', 'items', 'limit', 'next', 'offset', 'previous', 'total'])"
            ]
          },
          "metadata": {},
          "execution_count": 93
        }
      ],
      "source": [
        "data['albums'].keys()"
      ]
    },
    {
      "cell_type": "code",
      "execution_count": null,
      "metadata": {
        "id": "oKxHhDZkwNLx",
        "colab": {
          "base_uri": "https://localhost:8080/"
        },
        "outputId": "6d40a32b-d044-4520-d87c-9ed0e9e1101c"
      },
      "outputs": [
        {
          "output_type": "stream",
          "name": "stdout",
          "text": [
            "href <class 'str'>\n",
            "items <class 'list'>\n",
            "limit <class 'int'>\n",
            "next <class 'str'>\n",
            "offset <class 'int'>\n",
            "previous <class 'NoneType'>\n",
            "total <class 'int'>\n"
          ]
        }
      ],
      "source": [
        "for key, value in data['albums'].items():\n",
        "    print(key, type(value))"
      ]
    },
    {
      "cell_type": "markdown",
      "source": [
        "Checking the other levels, we see different data structures."
      ],
      "metadata": {
        "id": "mL9wrk_nQzNM"
      }
    },
    {
      "cell_type": "code",
      "execution_count": null,
      "metadata": {
        "id": "Zb46OvBqwNLy",
        "colab": {
          "base_uri": "https://localhost:8080/"
        },
        "outputId": "c233182b-3f99-4fe8-9fe9-33948d8a67ed"
      },
      "outputs": [
        {
          "output_type": "execute_result",
          "data": {
            "text/plain": [
              "list"
            ]
          },
          "metadata": {},
          "execution_count": 94
        }
      ],
      "source": [
        "type(data['albums']['items'])"
      ]
    },
    {
      "cell_type": "code",
      "execution_count": null,
      "metadata": {
        "id": "wKBjgD1DwNLy",
        "colab": {
          "base_uri": "https://localhost:8080/"
        },
        "outputId": "5292f479-1dd7-4230-85e4-2b14441a4a3d"
      },
      "outputs": [
        {
          "output_type": "execute_result",
          "data": {
            "text/plain": [
              "{'album_type': 'album',\n",
              " 'artists': [{'external_urls': {'spotify': 'https://open.spotify.com/artist/1RyvyyTE3xzB2ZywiAwp0i'},\n",
              "   'href': 'https://api.spotify.com/v1/artists/1RyvyyTE3xzB2ZywiAwp0i',\n",
              "   'id': '1RyvyyTE3xzB2ZywiAwp0i',\n",
              "   'name': 'Future',\n",
              "   'type': 'artist',\n",
              "   'uri': 'spotify:artist:1RyvyyTE3xzB2ZywiAwp0i'}],\n",
              " 'available_markets': ['AD',\n",
              "  'AE',\n",
              "  'AR',\n",
              "  'AT',\n",
              "  'AU',\n",
              "  'BE',\n",
              "  'BG',\n",
              "  'BH',\n",
              "  'BO',\n",
              "  'BR',\n",
              "  'CA',\n",
              "  'CH',\n",
              "  'CL',\n",
              "  'CO',\n",
              "  'CR',\n",
              "  'CY',\n",
              "  'CZ',\n",
              "  'DE',\n",
              "  'DK',\n",
              "  'DO',\n",
              "  'DZ',\n",
              "  'EC',\n",
              "  'EE',\n",
              "  'EG',\n",
              "  'ES',\n",
              "  'FI',\n",
              "  'FR',\n",
              "  'GB',\n",
              "  'GR',\n",
              "  'GT',\n",
              "  'HK',\n",
              "  'HN',\n",
              "  'HU',\n",
              "  'ID',\n",
              "  'IE',\n",
              "  'IL',\n",
              "  'IN',\n",
              "  'IS',\n",
              "  'IT',\n",
              "  'JO',\n",
              "  'JP',\n",
              "  'KW',\n",
              "  'LB',\n",
              "  'LI',\n",
              "  'LT',\n",
              "  'LU',\n",
              "  'LV',\n",
              "  'MA',\n",
              "  'MC',\n",
              "  'MT',\n",
              "  'MX',\n",
              "  'MY',\n",
              "  'NI',\n",
              "  'NL',\n",
              "  'NO',\n",
              "  'NZ',\n",
              "  'OM',\n",
              "  'PA',\n",
              "  'PE',\n",
              "  'PH',\n",
              "  'PL',\n",
              "  'PS',\n",
              "  'PT',\n",
              "  'PY',\n",
              "  'QA',\n",
              "  'RO',\n",
              "  'SA',\n",
              "  'SE',\n",
              "  'SG',\n",
              "  'SK',\n",
              "  'SV',\n",
              "  'TH',\n",
              "  'TN',\n",
              "  'TR',\n",
              "  'TW',\n",
              "  'US',\n",
              "  'UY',\n",
              "  'VN',\n",
              "  'ZA'],\n",
              " 'external_urls': {'spotify': 'https://open.spotify.com/album/4bNPOFOzxGhF5jhfIK6lit'},\n",
              " 'href': 'https://api.spotify.com/v1/albums/4bNPOFOzxGhF5jhfIK6lit',\n",
              " 'id': '4bNPOFOzxGhF5jhfIK6lit',\n",
              " 'images': [{'height': 640,\n",
              "   'url': 'https://i.scdn.co/image/ab67616d0000b273935d8d5369bc55e74a39303e',\n",
              "   'width': 640},\n",
              "  {'height': 300,\n",
              "   'url': 'https://i.scdn.co/image/ab67616d00001e02935d8d5369bc55e74a39303e',\n",
              "   'width': 300},\n",
              "  {'height': 64,\n",
              "   'url': 'https://i.scdn.co/image/ab67616d00004851935d8d5369bc55e74a39303e',\n",
              "   'width': 64}],\n",
              " 'name': 'High Off Life',\n",
              " 'release_date': '2020-05-15',\n",
              " 'release_date_precision': 'day',\n",
              " 'total_tracks': 21,\n",
              " 'type': 'album',\n",
              " 'uri': 'spotify:album:4bNPOFOzxGhF5jhfIK6lit'}"
            ]
          },
          "metadata": {},
          "execution_count": 95
        }
      ],
      "source": [
        "data['albums']['items'][0]"
      ]
    },
    {
      "cell_type": "markdown",
      "metadata": {
        "id": "ujQLLzyiwNLy"
      },
      "source": [
        "**We access values in a json dictionary as we would for nested lists or dictionaries in Python.**"
      ]
    },
    {
      "cell_type": "code",
      "execution_count": null,
      "metadata": {
        "id": "RFJVv4D7wNLz",
        "colab": {
          "base_uri": "https://localhost:8080/"
        },
        "outputId": "7030c907-83af-4ae6-902e-b42287418262"
      },
      "outputs": [
        {
          "output_type": "execute_result",
          "data": {
            "text/plain": [
              "dict_keys(['album_type', 'artists', 'available_markets', 'external_urls', 'href', 'id', 'images', 'name', 'release_date', 'release_date_precision', 'total_tracks', 'type', 'uri'])"
            ]
          },
          "metadata": {},
          "execution_count": 14
        }
      ],
      "source": [
        "data['albums']['items'][0].keys() # Nesting keys."
      ]
    },
    {
      "cell_type": "code",
      "execution_count": null,
      "metadata": {
        "id": "IN00tFyywNLz",
        "colab": {
          "base_uri": "https://localhost:8080/",
          "height": 36
        },
        "outputId": "35bdcb2e-e232-487c-df99-6a7fd8f6def5"
      },
      "outputs": [
        {
          "output_type": "execute_result",
          "data": {
            "text/plain": [
              "'Future'"
            ],
            "application/vnd.google.colaboratory.intrinsic+json": {
              "type": "string"
            }
          },
          "metadata": {},
          "execution_count": 96
        }
      ],
      "source": [
        "data['albums']['items'][0]['artists'][0]['name'] # Getting a value"
      ]
    },
    {
      "cell_type": "code",
      "execution_count": null,
      "metadata": {
        "id": "54mUXrvVwNLz",
        "colab": {
          "base_uri": "https://localhost:8080/",
          "height": 36
        },
        "outputId": "b9063825-c719-444c-d673-a45bef865b31"
      },
      "outputs": [
        {
          "output_type": "execute_result",
          "data": {
            "text/plain": [
              "'Kygo'"
            ],
            "application/vnd.google.colaboratory.intrinsic+json": {
              "type": "string"
            }
          },
          "metadata": {},
          "execution_count": 97
        }
      ],
      "source": [
        "data['albums']['items'][1]['artists'][0]['name'] # Getting another value"
      ]
    },
    {
      "cell_type": "markdown",
      "source": [
        "![#f03c15](https://placehold.co/15x15/f03c15/f03c15.png) From the above example, can you list all the artists in this json dictionary?"
      ],
      "metadata": {
        "id": "tK1BXlSNRV6j"
      }
    },
    {
      "cell_type": "code",
      "source": [
        "# Solution\n",
        "num = len(data['albums']['items'][0])\n",
        "\n",
        "artists = [data['albums']['items'][i]['artists'][0]['name'] for i in range(num)]\n",
        "artists"
      ],
      "metadata": {
        "id": "su1UFsA8IgI8",
        "colab": {
          "base_uri": "https://localhost:8080/"
        },
        "outputId": "6d17b965-2227-407c-89d6-485f46b84b9a"
      },
      "execution_count": null,
      "outputs": [
        {
          "output_type": "execute_result",
          "data": {
            "text/plain": [
              "['Future',\n",
              " 'Kygo',\n",
              " 'Various Artists',\n",
              " 'Katy Perry',\n",
              " 'Polo G',\n",
              " 'Jonas Brothers',\n",
              " 'Charli XCX',\n",
              " 'Tory Lanez',\n",
              " 'Perfume Genius',\n",
              " 'NAV',\n",
              " 'Migos',\n",
              " 'Lee Brice',\n",
              " 'Tiësto']"
            ]
          },
          "metadata": {},
          "execution_count": 39
        }
      ]
    },
    {
      "cell_type": "markdown",
      "source": [
        "**Challenge:**\n",
        "\n",
        "What other questions can be answered with this dataset?"
      ],
      "metadata": {
        "id": "YoC3UbwGSnsa"
      }
    },
    {
      "cell_type": "markdown",
      "source": [
        "## Flattening data\n",
        "\n",
        "💡This is essentially breaking the dictionary of dictionary nature"
      ],
      "metadata": {
        "id": "d_2FJRULXRfq"
      }
    },
    {
      "cell_type": "code",
      "source": [
        "import pandas as pd"
      ],
      "metadata": {
        "id": "6KMRaJxRSOlC"
      },
      "execution_count": null,
      "outputs": []
    },
    {
      "cell_type": "code",
      "source": [
        "# For easier view\n",
        "df = pd.DataFrame(data['albums'])\n",
        "df.head(1)"
      ],
      "metadata": {
        "colab": {
          "base_uri": "https://localhost:8080/",
          "height": 142
        },
        "id": "muurnU-hZ1bH",
        "outputId": "7e594fd5-ba26-490d-a86f-6c9a15bdf8e2"
      },
      "execution_count": null,
      "outputs": [
        {
          "output_type": "execute_result",
          "data": {
            "text/plain": [
              "                                                href  \\\n",
              "0  https://api.spotify.com/v1/browse/new-releases...   \n",
              "\n",
              "                                               items  limit  \\\n",
              "0  {'album_type': 'album', 'artists': [{'external...     20   \n",
              "\n",
              "                                                next  offset previous  total  \n",
              "0  https://api.spotify.com/v1/browse/new-releases...       0     None    100  "
            ],
            "text/html": [
              "\n",
              "  <div id=\"df-84c9d65e-40f1-4097-9d17-59041ac31a24\">\n",
              "    <div class=\"colab-df-container\">\n",
              "      <div>\n",
              "<style scoped>\n",
              "    .dataframe tbody tr th:only-of-type {\n",
              "        vertical-align: middle;\n",
              "    }\n",
              "\n",
              "    .dataframe tbody tr th {\n",
              "        vertical-align: top;\n",
              "    }\n",
              "\n",
              "    .dataframe thead th {\n",
              "        text-align: right;\n",
              "    }\n",
              "</style>\n",
              "<table border=\"1\" class=\"dataframe\">\n",
              "  <thead>\n",
              "    <tr style=\"text-align: right;\">\n",
              "      <th></th>\n",
              "      <th>href</th>\n",
              "      <th>items</th>\n",
              "      <th>limit</th>\n",
              "      <th>next</th>\n",
              "      <th>offset</th>\n",
              "      <th>previous</th>\n",
              "      <th>total</th>\n",
              "    </tr>\n",
              "  </thead>\n",
              "  <tbody>\n",
              "    <tr>\n",
              "      <th>0</th>\n",
              "      <td>https://api.spotify.com/v1/browse/new-releases...</td>\n",
              "      <td>{'album_type': 'album', 'artists': [{'external...</td>\n",
              "      <td>20</td>\n",
              "      <td>https://api.spotify.com/v1/browse/new-releases...</td>\n",
              "      <td>0</td>\n",
              "      <td>None</td>\n",
              "      <td>100</td>\n",
              "    </tr>\n",
              "  </tbody>\n",
              "</table>\n",
              "</div>\n",
              "      <button class=\"colab-df-convert\" onclick=\"convertToInteractive('df-84c9d65e-40f1-4097-9d17-59041ac31a24')\"\n",
              "              title=\"Convert this dataframe to an interactive table.\"\n",
              "              style=\"display:none;\">\n",
              "        \n",
              "  <svg xmlns=\"http://www.w3.org/2000/svg\" height=\"24px\"viewBox=\"0 0 24 24\"\n",
              "       width=\"24px\">\n",
              "    <path d=\"M0 0h24v24H0V0z\" fill=\"none\"/>\n",
              "    <path d=\"M18.56 5.44l.94 2.06.94-2.06 2.06-.94-2.06-.94-.94-2.06-.94 2.06-2.06.94zm-11 1L8.5 8.5l.94-2.06 2.06-.94-2.06-.94L8.5 2.5l-.94 2.06-2.06.94zm10 10l.94 2.06.94-2.06 2.06-.94-2.06-.94-.94-2.06-.94 2.06-2.06.94z\"/><path d=\"M17.41 7.96l-1.37-1.37c-.4-.4-.92-.59-1.43-.59-.52 0-1.04.2-1.43.59L10.3 9.45l-7.72 7.72c-.78.78-.78 2.05 0 2.83L4 21.41c.39.39.9.59 1.41.59.51 0 1.02-.2 1.41-.59l7.78-7.78 2.81-2.81c.8-.78.8-2.07 0-2.86zM5.41 20L4 18.59l7.72-7.72 1.47 1.35L5.41 20z\"/>\n",
              "  </svg>\n",
              "      </button>\n",
              "      \n",
              "  <style>\n",
              "    .colab-df-container {\n",
              "      display:flex;\n",
              "      flex-wrap:wrap;\n",
              "      gap: 12px;\n",
              "    }\n",
              "\n",
              "    .colab-df-convert {\n",
              "      background-color: #E8F0FE;\n",
              "      border: none;\n",
              "      border-radius: 50%;\n",
              "      cursor: pointer;\n",
              "      display: none;\n",
              "      fill: #1967D2;\n",
              "      height: 32px;\n",
              "      padding: 0 0 0 0;\n",
              "      width: 32px;\n",
              "    }\n",
              "\n",
              "    .colab-df-convert:hover {\n",
              "      background-color: #E2EBFA;\n",
              "      box-shadow: 0px 1px 2px rgba(60, 64, 67, 0.3), 0px 1px 3px 1px rgba(60, 64, 67, 0.15);\n",
              "      fill: #174EA6;\n",
              "    }\n",
              "\n",
              "    [theme=dark] .colab-df-convert {\n",
              "      background-color: #3B4455;\n",
              "      fill: #D2E3FC;\n",
              "    }\n",
              "\n",
              "    [theme=dark] .colab-df-convert:hover {\n",
              "      background-color: #434B5C;\n",
              "      box-shadow: 0px 1px 3px 1px rgba(0, 0, 0, 0.15);\n",
              "      filter: drop-shadow(0px 1px 2px rgba(0, 0, 0, 0.3));\n",
              "      fill: #FFFFFF;\n",
              "    }\n",
              "  </style>\n",
              "\n",
              "      <script>\n",
              "        const buttonEl =\n",
              "          document.querySelector('#df-84c9d65e-40f1-4097-9d17-59041ac31a24 button.colab-df-convert');\n",
              "        buttonEl.style.display =\n",
              "          google.colab.kernel.accessAllowed ? 'block' : 'none';\n",
              "\n",
              "        async function convertToInteractive(key) {\n",
              "          const element = document.querySelector('#df-84c9d65e-40f1-4097-9d17-59041ac31a24');\n",
              "          const dataTable =\n",
              "            await google.colab.kernel.invokeFunction('convertToInteractive',\n",
              "                                                     [key], {});\n",
              "          if (!dataTable) return;\n",
              "\n",
              "          const docLinkHtml = 'Like what you see? Visit the ' +\n",
              "            '<a target=\"_blank\" href=https://colab.research.google.com/notebooks/data_table.ipynb>data table notebook</a>'\n",
              "            + ' to learn more about interactive tables.';\n",
              "          element.innerHTML = '';\n",
              "          dataTable['output_type'] = 'display_data';\n",
              "          await google.colab.output.renderOutput(dataTable, element);\n",
              "          const docLink = document.createElement('div');\n",
              "          docLink.innerHTML = docLinkHtml;\n",
              "          element.appendChild(docLink);\n",
              "        }\n",
              "      </script>\n",
              "    </div>\n",
              "  </div>\n",
              "  "
            ]
          },
          "metadata": {},
          "execution_count": 99
        }
      ]
    },
    {
      "cell_type": "code",
      "source": [
        "df2 = pd.DataFrame(data['albums']['items'])\n",
        "print(df2.shape)\n",
        "df2.head(1)"
      ],
      "metadata": {
        "colab": {
          "base_uri": "https://localhost:8080/",
          "height": 197
        },
        "id": "sRFJRx23aE7X",
        "outputId": "12a1c485-5c52-4407-e92f-43b3da94d2e6"
      },
      "execution_count": null,
      "outputs": [
        {
          "output_type": "stream",
          "name": "stdout",
          "text": [
            "(20, 13)\n"
          ]
        },
        {
          "output_type": "execute_result",
          "data": {
            "text/plain": [
              "  album_type                                            artists  \\\n",
              "0      album  [{'external_urls': {'spotify': 'https://open.s...   \n",
              "\n",
              "                                   available_markets  \\\n",
              "0  [AD, AE, AR, AT, AU, BE, BG, BH, BO, BR, CA, C...   \n",
              "\n",
              "                                       external_urls  \\\n",
              "0  {'spotify': 'https://open.spotify.com/album/4b...   \n",
              "\n",
              "                                                href                      id  \\\n",
              "0  https://api.spotify.com/v1/albums/4bNPOFOzxGhF...  4bNPOFOzxGhF5jhfIK6lit   \n",
              "\n",
              "                                              images           name  \\\n",
              "0  [{'height': 640, 'url': 'https://i.scdn.co/ima...  High Off Life   \n",
              "\n",
              "  release_date release_date_precision  total_tracks   type  \\\n",
              "0   2020-05-15                    day            21  album   \n",
              "\n",
              "                                    uri  \n",
              "0  spotify:album:4bNPOFOzxGhF5jhfIK6lit  "
            ],
            "text/html": [
              "\n",
              "  <div id=\"df-f0b2f22b-43e7-45b6-824c-628d404c8abb\">\n",
              "    <div class=\"colab-df-container\">\n",
              "      <div>\n",
              "<style scoped>\n",
              "    .dataframe tbody tr th:only-of-type {\n",
              "        vertical-align: middle;\n",
              "    }\n",
              "\n",
              "    .dataframe tbody tr th {\n",
              "        vertical-align: top;\n",
              "    }\n",
              "\n",
              "    .dataframe thead th {\n",
              "        text-align: right;\n",
              "    }\n",
              "</style>\n",
              "<table border=\"1\" class=\"dataframe\">\n",
              "  <thead>\n",
              "    <tr style=\"text-align: right;\">\n",
              "      <th></th>\n",
              "      <th>album_type</th>\n",
              "      <th>artists</th>\n",
              "      <th>available_markets</th>\n",
              "      <th>external_urls</th>\n",
              "      <th>href</th>\n",
              "      <th>id</th>\n",
              "      <th>images</th>\n",
              "      <th>name</th>\n",
              "      <th>release_date</th>\n",
              "      <th>release_date_precision</th>\n",
              "      <th>total_tracks</th>\n",
              "      <th>type</th>\n",
              "      <th>uri</th>\n",
              "    </tr>\n",
              "  </thead>\n",
              "  <tbody>\n",
              "    <tr>\n",
              "      <th>0</th>\n",
              "      <td>album</td>\n",
              "      <td>[{'external_urls': {'spotify': 'https://open.s...</td>\n",
              "      <td>[AD, AE, AR, AT, AU, BE, BG, BH, BO, BR, CA, C...</td>\n",
              "      <td>{'spotify': 'https://open.spotify.com/album/4b...</td>\n",
              "      <td>https://api.spotify.com/v1/albums/4bNPOFOzxGhF...</td>\n",
              "      <td>4bNPOFOzxGhF5jhfIK6lit</td>\n",
              "      <td>[{'height': 640, 'url': 'https://i.scdn.co/ima...</td>\n",
              "      <td>High Off Life</td>\n",
              "      <td>2020-05-15</td>\n",
              "      <td>day</td>\n",
              "      <td>21</td>\n",
              "      <td>album</td>\n",
              "      <td>spotify:album:4bNPOFOzxGhF5jhfIK6lit</td>\n",
              "    </tr>\n",
              "  </tbody>\n",
              "</table>\n",
              "</div>\n",
              "      <button class=\"colab-df-convert\" onclick=\"convertToInteractive('df-f0b2f22b-43e7-45b6-824c-628d404c8abb')\"\n",
              "              title=\"Convert this dataframe to an interactive table.\"\n",
              "              style=\"display:none;\">\n",
              "        \n",
              "  <svg xmlns=\"http://www.w3.org/2000/svg\" height=\"24px\"viewBox=\"0 0 24 24\"\n",
              "       width=\"24px\">\n",
              "    <path d=\"M0 0h24v24H0V0z\" fill=\"none\"/>\n",
              "    <path d=\"M18.56 5.44l.94 2.06.94-2.06 2.06-.94-2.06-.94-.94-2.06-.94 2.06-2.06.94zm-11 1L8.5 8.5l.94-2.06 2.06-.94-2.06-.94L8.5 2.5l-.94 2.06-2.06.94zm10 10l.94 2.06.94-2.06 2.06-.94-2.06-.94-.94-2.06-.94 2.06-2.06.94z\"/><path d=\"M17.41 7.96l-1.37-1.37c-.4-.4-.92-.59-1.43-.59-.52 0-1.04.2-1.43.59L10.3 9.45l-7.72 7.72c-.78.78-.78 2.05 0 2.83L4 21.41c.39.39.9.59 1.41.59.51 0 1.02-.2 1.41-.59l7.78-7.78 2.81-2.81c.8-.78.8-2.07 0-2.86zM5.41 20L4 18.59l7.72-7.72 1.47 1.35L5.41 20z\"/>\n",
              "  </svg>\n",
              "      </button>\n",
              "      \n",
              "  <style>\n",
              "    .colab-df-container {\n",
              "      display:flex;\n",
              "      flex-wrap:wrap;\n",
              "      gap: 12px;\n",
              "    }\n",
              "\n",
              "    .colab-df-convert {\n",
              "      background-color: #E8F0FE;\n",
              "      border: none;\n",
              "      border-radius: 50%;\n",
              "      cursor: pointer;\n",
              "      display: none;\n",
              "      fill: #1967D2;\n",
              "      height: 32px;\n",
              "      padding: 0 0 0 0;\n",
              "      width: 32px;\n",
              "    }\n",
              "\n",
              "    .colab-df-convert:hover {\n",
              "      background-color: #E2EBFA;\n",
              "      box-shadow: 0px 1px 2px rgba(60, 64, 67, 0.3), 0px 1px 3px 1px rgba(60, 64, 67, 0.15);\n",
              "      fill: #174EA6;\n",
              "    }\n",
              "\n",
              "    [theme=dark] .colab-df-convert {\n",
              "      background-color: #3B4455;\n",
              "      fill: #D2E3FC;\n",
              "    }\n",
              "\n",
              "    [theme=dark] .colab-df-convert:hover {\n",
              "      background-color: #434B5C;\n",
              "      box-shadow: 0px 1px 3px 1px rgba(0, 0, 0, 0.15);\n",
              "      filter: drop-shadow(0px 1px 2px rgba(0, 0, 0, 0.3));\n",
              "      fill: #FFFFFF;\n",
              "    }\n",
              "  </style>\n",
              "\n",
              "      <script>\n",
              "        const buttonEl =\n",
              "          document.querySelector('#df-f0b2f22b-43e7-45b6-824c-628d404c8abb button.colab-df-convert');\n",
              "        buttonEl.style.display =\n",
              "          google.colab.kernel.accessAllowed ? 'block' : 'none';\n",
              "\n",
              "        async function convertToInteractive(key) {\n",
              "          const element = document.querySelector('#df-f0b2f22b-43e7-45b6-824c-628d404c8abb');\n",
              "          const dataTable =\n",
              "            await google.colab.kernel.invokeFunction('convertToInteractive',\n",
              "                                                     [key], {});\n",
              "          if (!dataTable) return;\n",
              "\n",
              "          const docLinkHtml = 'Like what you see? Visit the ' +\n",
              "            '<a target=\"_blank\" href=https://colab.research.google.com/notebooks/data_table.ipynb>data table notebook</a>'\n",
              "            + ' to learn more about interactive tables.';\n",
              "          element.innerHTML = '';\n",
              "          dataTable['output_type'] = 'display_data';\n",
              "          await google.colab.output.renderOutput(dataTable, element);\n",
              "          const docLink = document.createElement('div');\n",
              "          docLink.innerHTML = docLinkHtml;\n",
              "          element.appendChild(docLink);\n",
              "        }\n",
              "      </script>\n",
              "    </div>\n",
              "  </div>\n",
              "  "
            ]
          },
          "metadata": {},
          "execution_count": 100
        }
      ]
    },
    {
      "cell_type": "code",
      "source": [
        "print(data['albums']['items'][0]['artists'])"
      ],
      "metadata": {
        "colab": {
          "base_uri": "https://localhost:8080/"
        },
        "id": "7fZ_Y0wIcCFR",
        "outputId": "097aeea3-34a5-4580-8f24-1e6dfe726bc4"
      },
      "execution_count": null,
      "outputs": [
        {
          "output_type": "stream",
          "name": "stdout",
          "text": [
            "[{'external_urls': {'spotify': 'https://open.spotify.com/artist/1RyvyyTE3xzB2ZywiAwp0i'}, 'href': 'https://api.spotify.com/v1/artists/1RyvyyTE3xzB2ZywiAwp0i', 'id': '1RyvyyTE3xzB2ZywiAwp0i', 'name': 'Future', 'type': 'artist', 'uri': 'spotify:artist:1RyvyyTE3xzB2ZywiAwp0i'}]\n"
          ]
        }
      ]
    },
    {
      "cell_type": "code",
      "source": [
        "def extract_info(dictionary):\n",
        "  info = {}\n",
        "  info['Album_name'] = dictionary['name']\n",
        "  info['release_date'] = dictionary['release_date']\n",
        "  #print(dictionary)\n",
        "  info['Artist_name'] = dictionary['artists'][0]['name']\n",
        "  info['Link'] = dictionary['artists'][0]['external_urls']['spotify']\n",
        "\n",
        "  return info"
      ],
      "metadata": {
        "id": "6X50PnJmaPR2"
      },
      "execution_count": null,
      "outputs": []
    },
    {
      "cell_type": "code",
      "source": [
        "data = [extract_info(i) for i in data['albums']['items']]\n",
        "print(data)"
      ],
      "metadata": {
        "colab": {
          "base_uri": "https://localhost:8080/"
        },
        "id": "ReUHi8k7dP-4",
        "outputId": "d9cd7058-279c-465f-bbe9-ae52ad1e1d8e"
      },
      "execution_count": null,
      "outputs": [
        {
          "output_type": "stream",
          "name": "stdout",
          "text": [
            "[{'Album_name': 'High Off Life', 'release_date': '2020-05-15', 'Artist_name': 'Future', 'Link': 'https://open.spotify.com/artist/1RyvyyTE3xzB2ZywiAwp0i'}, {'Album_name': 'Lose Somebody', 'release_date': '2020-05-15', 'Artist_name': 'Kygo', 'Link': 'https://open.spotify.com/artist/23fqKkggKUBHNkbKtXEls4'}, {'Album_name': 'SCOOB! The Album', 'release_date': '2020-05-15', 'Artist_name': 'Various Artists', 'Link': 'https://open.spotify.com/artist/0LyfQWJT6nXafLPZqxe9Of'}, {'Album_name': 'Daisies', 'release_date': '2020-05-15', 'Artist_name': 'Katy Perry', 'Link': 'https://open.spotify.com/artist/6jJ0s89eD6GaHleKKya26X'}, {'Album_name': 'THE GOAT', 'release_date': '2020-05-15', 'Artist_name': 'Polo G', 'Link': 'https://open.spotify.com/artist/6AgTAQt8XS6jRWi4sX7w49'}, {'Album_name': 'XV', 'release_date': '2020-05-15', 'Artist_name': 'Jonas Brothers', 'Link': 'https://open.spotify.com/artist/7gOdHgIoIKoe4i9Tta6qdD'}, {'Album_name': \"how i'm feeling now\", 'release_date': '2020-05-15', 'Artist_name': 'Charli XCX', 'Link': 'https://open.spotify.com/artist/25uiPmTg16RbhZWAqwLBy5'}, {'Album_name': 'Temperature Rising', 'release_date': '2020-05-15', 'Artist_name': 'Tory Lanez', 'Link': 'https://open.spotify.com/artist/2jku7tDXc6XoB6MO2hFuqg'}, {'Album_name': 'Set My Heart On Fire Immediately', 'release_date': '2020-05-15', 'Artist_name': 'Perfume Genius', 'Link': 'https://open.spotify.com/artist/2ueoLVCXQ948OfhVvAy3Nn'}, {'Album_name': 'Good Intentions (Brown Boy 2 Deluxe Version)', 'release_date': '2020-05-11', 'Artist_name': 'NAV', 'Link': 'https://open.spotify.com/artist/7rkW85dBwwrJtlHRDkJDAC'}, {'Album_name': 'Racks 2 Skinny', 'release_date': '2020-05-11', 'Artist_name': 'Migos', 'Link': 'https://open.spotify.com/artist/6oMuImdp5ZcFhWP0ESe6mG'}, {'Album_name': 'One Of Them Girls', 'release_date': '2020-05-15', 'Artist_name': 'Lee Brice', 'Link': 'https://open.spotify.com/artist/5Zq7R5qmi58ByYyBQTlNuk'}, {'Album_name': 'The London Sessions', 'release_date': '2020-05-15', 'Artist_name': 'Tiësto', 'Link': 'https://open.spotify.com/artist/2o5jDhtHVPhrJdv3cEQ99Z'}, {'Album_name': 'The Album, Pt. II', 'release_date': '2020-05-15', 'Artist_name': 'Chase Rice', 'Link': 'https://open.spotify.com/artist/6pBNfggcZZDCmb0p92OnGn'}, {'Album_name': 'Like A House On Fire', 'release_date': '2020-05-15', 'Artist_name': 'Asking Alexandria', 'Link': 'https://open.spotify.com/artist/1caBfBEapzw8z2Qz9q0OaQ'}, {'Album_name': 'Riot', 'release_date': '2020-05-13', 'Artist_name': 'Lil Skies', 'Link': 'https://open.spotify.com/artist/7d3WFRME3vBY2cgoP38RDo'}, {'Album_name': 'THE END OF EVERYTHING', 'release_date': '2020-05-15', 'Artist_name': 'Noah Cyrus', 'Link': 'https://open.spotify.com/artist/55fhWPvDiMpLnE4ZzNXZyW'}, {'Album_name': 'Will (Remix)', 'release_date': '2020-05-15', 'Artist_name': 'Joyner Lucas', 'Link': 'https://open.spotify.com/artist/6C1ohJrd5VydigQtaGy5Wa'}, {'Album_name': 'Excitement', 'release_date': '2020-05-15', 'Artist_name': 'Trippie Redd', 'Link': 'https://open.spotify.com/artist/6Xgp2XMz1fhVYe7i6yNAax'}, {'Album_name': 'Zen (with K.Flay & grandson)', 'release_date': '2020-05-15', 'Artist_name': 'X Ambassadors', 'Link': 'https://open.spotify.com/artist/3NPpFNZtSTHheNBaWC82rB'}]\n"
          ]
        }
      ]
    },
    {
      "cell_type": "code",
      "source": [
        "final = pd.DataFrame(data, columns=['Album_name', 'release_date', 'Artist_name','Link'])\n",
        "final"
      ],
      "metadata": {
        "colab": {
          "base_uri": "https://localhost:8080/",
          "height": 676
        },
        "id": "H9DHCiaLdb0e",
        "outputId": "e5e02d8e-2286-4a65-a11a-cf7cc695318a"
      },
      "execution_count": null,
      "outputs": [
        {
          "output_type": "execute_result",
          "data": {
            "text/plain": [
              "                                      Album_name release_date  \\\n",
              "0                                  High Off Life   2020-05-15   \n",
              "1                                  Lose Somebody   2020-05-15   \n",
              "2                               SCOOB! The Album   2020-05-15   \n",
              "3                                        Daisies   2020-05-15   \n",
              "4                                       THE GOAT   2020-05-15   \n",
              "5                                             XV   2020-05-15   \n",
              "6                            how i'm feeling now   2020-05-15   \n",
              "7                             Temperature Rising   2020-05-15   \n",
              "8               Set My Heart On Fire Immediately   2020-05-15   \n",
              "9   Good Intentions (Brown Boy 2 Deluxe Version)   2020-05-11   \n",
              "10                                Racks 2 Skinny   2020-05-11   \n",
              "11                             One Of Them Girls   2020-05-15   \n",
              "12                           The London Sessions   2020-05-15   \n",
              "13                             The Album, Pt. II   2020-05-15   \n",
              "14                          Like A House On Fire   2020-05-15   \n",
              "15                                          Riot   2020-05-13   \n",
              "16                         THE END OF EVERYTHING   2020-05-15   \n",
              "17                                  Will (Remix)   2020-05-15   \n",
              "18                                    Excitement   2020-05-15   \n",
              "19                  Zen (with K.Flay & grandson)   2020-05-15   \n",
              "\n",
              "          Artist_name                                               Link  \n",
              "0              Future  https://open.spotify.com/artist/1RyvyyTE3xzB2Z...  \n",
              "1                Kygo  https://open.spotify.com/artist/23fqKkggKUBHNk...  \n",
              "2     Various Artists  https://open.spotify.com/artist/0LyfQWJT6nXafL...  \n",
              "3          Katy Perry  https://open.spotify.com/artist/6jJ0s89eD6GaHl...  \n",
              "4              Polo G  https://open.spotify.com/artist/6AgTAQt8XS6jRW...  \n",
              "5      Jonas Brothers  https://open.spotify.com/artist/7gOdHgIoIKoe4i...  \n",
              "6          Charli XCX  https://open.spotify.com/artist/25uiPmTg16RbhZ...  \n",
              "7          Tory Lanez  https://open.spotify.com/artist/2jku7tDXc6XoB6...  \n",
              "8      Perfume Genius  https://open.spotify.com/artist/2ueoLVCXQ948Of...  \n",
              "9                 NAV  https://open.spotify.com/artist/7rkW85dBwwrJtl...  \n",
              "10              Migos  https://open.spotify.com/artist/6oMuImdp5ZcFhW...  \n",
              "11          Lee Brice  https://open.spotify.com/artist/5Zq7R5qmi58ByY...  \n",
              "12             Tiësto  https://open.spotify.com/artist/2o5jDhtHVPhrJd...  \n",
              "13         Chase Rice  https://open.spotify.com/artist/6pBNfggcZZDCmb...  \n",
              "14  Asking Alexandria  https://open.spotify.com/artist/1caBfBEapzw8z2...  \n",
              "15          Lil Skies  https://open.spotify.com/artist/7d3WFRME3vBY2c...  \n",
              "16         Noah Cyrus  https://open.spotify.com/artist/55fhWPvDiMpLnE...  \n",
              "17       Joyner Lucas  https://open.spotify.com/artist/6C1ohJrd5Vydig...  \n",
              "18       Trippie Redd  https://open.spotify.com/artist/6Xgp2XMz1fhVYe...  \n",
              "19      X Ambassadors  https://open.spotify.com/artist/3NPpFNZtSTHheN...  "
            ],
            "text/html": [
              "\n",
              "  <div id=\"df-54381366-c2ce-402a-b6ed-088b8e2cac69\">\n",
              "    <div class=\"colab-df-container\">\n",
              "      <div>\n",
              "<style scoped>\n",
              "    .dataframe tbody tr th:only-of-type {\n",
              "        vertical-align: middle;\n",
              "    }\n",
              "\n",
              "    .dataframe tbody tr th {\n",
              "        vertical-align: top;\n",
              "    }\n",
              "\n",
              "    .dataframe thead th {\n",
              "        text-align: right;\n",
              "    }\n",
              "</style>\n",
              "<table border=\"1\" class=\"dataframe\">\n",
              "  <thead>\n",
              "    <tr style=\"text-align: right;\">\n",
              "      <th></th>\n",
              "      <th>Album_name</th>\n",
              "      <th>release_date</th>\n",
              "      <th>Artist_name</th>\n",
              "      <th>Link</th>\n",
              "    </tr>\n",
              "  </thead>\n",
              "  <tbody>\n",
              "    <tr>\n",
              "      <th>0</th>\n",
              "      <td>High Off Life</td>\n",
              "      <td>2020-05-15</td>\n",
              "      <td>Future</td>\n",
              "      <td>https://open.spotify.com/artist/1RyvyyTE3xzB2Z...</td>\n",
              "    </tr>\n",
              "    <tr>\n",
              "      <th>1</th>\n",
              "      <td>Lose Somebody</td>\n",
              "      <td>2020-05-15</td>\n",
              "      <td>Kygo</td>\n",
              "      <td>https://open.spotify.com/artist/23fqKkggKUBHNk...</td>\n",
              "    </tr>\n",
              "    <tr>\n",
              "      <th>2</th>\n",
              "      <td>SCOOB! The Album</td>\n",
              "      <td>2020-05-15</td>\n",
              "      <td>Various Artists</td>\n",
              "      <td>https://open.spotify.com/artist/0LyfQWJT6nXafL...</td>\n",
              "    </tr>\n",
              "    <tr>\n",
              "      <th>3</th>\n",
              "      <td>Daisies</td>\n",
              "      <td>2020-05-15</td>\n",
              "      <td>Katy Perry</td>\n",
              "      <td>https://open.spotify.com/artist/6jJ0s89eD6GaHl...</td>\n",
              "    </tr>\n",
              "    <tr>\n",
              "      <th>4</th>\n",
              "      <td>THE GOAT</td>\n",
              "      <td>2020-05-15</td>\n",
              "      <td>Polo G</td>\n",
              "      <td>https://open.spotify.com/artist/6AgTAQt8XS6jRW...</td>\n",
              "    </tr>\n",
              "    <tr>\n",
              "      <th>5</th>\n",
              "      <td>XV</td>\n",
              "      <td>2020-05-15</td>\n",
              "      <td>Jonas Brothers</td>\n",
              "      <td>https://open.spotify.com/artist/7gOdHgIoIKoe4i...</td>\n",
              "    </tr>\n",
              "    <tr>\n",
              "      <th>6</th>\n",
              "      <td>how i'm feeling now</td>\n",
              "      <td>2020-05-15</td>\n",
              "      <td>Charli XCX</td>\n",
              "      <td>https://open.spotify.com/artist/25uiPmTg16RbhZ...</td>\n",
              "    </tr>\n",
              "    <tr>\n",
              "      <th>7</th>\n",
              "      <td>Temperature Rising</td>\n",
              "      <td>2020-05-15</td>\n",
              "      <td>Tory Lanez</td>\n",
              "      <td>https://open.spotify.com/artist/2jku7tDXc6XoB6...</td>\n",
              "    </tr>\n",
              "    <tr>\n",
              "      <th>8</th>\n",
              "      <td>Set My Heart On Fire Immediately</td>\n",
              "      <td>2020-05-15</td>\n",
              "      <td>Perfume Genius</td>\n",
              "      <td>https://open.spotify.com/artist/2ueoLVCXQ948Of...</td>\n",
              "    </tr>\n",
              "    <tr>\n",
              "      <th>9</th>\n",
              "      <td>Good Intentions (Brown Boy 2 Deluxe Version)</td>\n",
              "      <td>2020-05-11</td>\n",
              "      <td>NAV</td>\n",
              "      <td>https://open.spotify.com/artist/7rkW85dBwwrJtl...</td>\n",
              "    </tr>\n",
              "    <tr>\n",
              "      <th>10</th>\n",
              "      <td>Racks 2 Skinny</td>\n",
              "      <td>2020-05-11</td>\n",
              "      <td>Migos</td>\n",
              "      <td>https://open.spotify.com/artist/6oMuImdp5ZcFhW...</td>\n",
              "    </tr>\n",
              "    <tr>\n",
              "      <th>11</th>\n",
              "      <td>One Of Them Girls</td>\n",
              "      <td>2020-05-15</td>\n",
              "      <td>Lee Brice</td>\n",
              "      <td>https://open.spotify.com/artist/5Zq7R5qmi58ByY...</td>\n",
              "    </tr>\n",
              "    <tr>\n",
              "      <th>12</th>\n",
              "      <td>The London Sessions</td>\n",
              "      <td>2020-05-15</td>\n",
              "      <td>Tiësto</td>\n",
              "      <td>https://open.spotify.com/artist/2o5jDhtHVPhrJd...</td>\n",
              "    </tr>\n",
              "    <tr>\n",
              "      <th>13</th>\n",
              "      <td>The Album, Pt. II</td>\n",
              "      <td>2020-05-15</td>\n",
              "      <td>Chase Rice</td>\n",
              "      <td>https://open.spotify.com/artist/6pBNfggcZZDCmb...</td>\n",
              "    </tr>\n",
              "    <tr>\n",
              "      <th>14</th>\n",
              "      <td>Like A House On Fire</td>\n",
              "      <td>2020-05-15</td>\n",
              "      <td>Asking Alexandria</td>\n",
              "      <td>https://open.spotify.com/artist/1caBfBEapzw8z2...</td>\n",
              "    </tr>\n",
              "    <tr>\n",
              "      <th>15</th>\n",
              "      <td>Riot</td>\n",
              "      <td>2020-05-13</td>\n",
              "      <td>Lil Skies</td>\n",
              "      <td>https://open.spotify.com/artist/7d3WFRME3vBY2c...</td>\n",
              "    </tr>\n",
              "    <tr>\n",
              "      <th>16</th>\n",
              "      <td>THE END OF EVERYTHING</td>\n",
              "      <td>2020-05-15</td>\n",
              "      <td>Noah Cyrus</td>\n",
              "      <td>https://open.spotify.com/artist/55fhWPvDiMpLnE...</td>\n",
              "    </tr>\n",
              "    <tr>\n",
              "      <th>17</th>\n",
              "      <td>Will (Remix)</td>\n",
              "      <td>2020-05-15</td>\n",
              "      <td>Joyner Lucas</td>\n",
              "      <td>https://open.spotify.com/artist/6C1ohJrd5Vydig...</td>\n",
              "    </tr>\n",
              "    <tr>\n",
              "      <th>18</th>\n",
              "      <td>Excitement</td>\n",
              "      <td>2020-05-15</td>\n",
              "      <td>Trippie Redd</td>\n",
              "      <td>https://open.spotify.com/artist/6Xgp2XMz1fhVYe...</td>\n",
              "    </tr>\n",
              "    <tr>\n",
              "      <th>19</th>\n",
              "      <td>Zen (with K.Flay &amp; grandson)</td>\n",
              "      <td>2020-05-15</td>\n",
              "      <td>X Ambassadors</td>\n",
              "      <td>https://open.spotify.com/artist/3NPpFNZtSTHheN...</td>\n",
              "    </tr>\n",
              "  </tbody>\n",
              "</table>\n",
              "</div>\n",
              "      <button class=\"colab-df-convert\" onclick=\"convertToInteractive('df-54381366-c2ce-402a-b6ed-088b8e2cac69')\"\n",
              "              title=\"Convert this dataframe to an interactive table.\"\n",
              "              style=\"display:none;\">\n",
              "        \n",
              "  <svg xmlns=\"http://www.w3.org/2000/svg\" height=\"24px\"viewBox=\"0 0 24 24\"\n",
              "       width=\"24px\">\n",
              "    <path d=\"M0 0h24v24H0V0z\" fill=\"none\"/>\n",
              "    <path d=\"M18.56 5.44l.94 2.06.94-2.06 2.06-.94-2.06-.94-.94-2.06-.94 2.06-2.06.94zm-11 1L8.5 8.5l.94-2.06 2.06-.94-2.06-.94L8.5 2.5l-.94 2.06-2.06.94zm10 10l.94 2.06.94-2.06 2.06-.94-2.06-.94-.94-2.06-.94 2.06-2.06.94z\"/><path d=\"M17.41 7.96l-1.37-1.37c-.4-.4-.92-.59-1.43-.59-.52 0-1.04.2-1.43.59L10.3 9.45l-7.72 7.72c-.78.78-.78 2.05 0 2.83L4 21.41c.39.39.9.59 1.41.59.51 0 1.02-.2 1.41-.59l7.78-7.78 2.81-2.81c.8-.78.8-2.07 0-2.86zM5.41 20L4 18.59l7.72-7.72 1.47 1.35L5.41 20z\"/>\n",
              "  </svg>\n",
              "      </button>\n",
              "      \n",
              "  <style>\n",
              "    .colab-df-container {\n",
              "      display:flex;\n",
              "      flex-wrap:wrap;\n",
              "      gap: 12px;\n",
              "    }\n",
              "\n",
              "    .colab-df-convert {\n",
              "      background-color: #E8F0FE;\n",
              "      border: none;\n",
              "      border-radius: 50%;\n",
              "      cursor: pointer;\n",
              "      display: none;\n",
              "      fill: #1967D2;\n",
              "      height: 32px;\n",
              "      padding: 0 0 0 0;\n",
              "      width: 32px;\n",
              "    }\n",
              "\n",
              "    .colab-df-convert:hover {\n",
              "      background-color: #E2EBFA;\n",
              "      box-shadow: 0px 1px 2px rgba(60, 64, 67, 0.3), 0px 1px 3px 1px rgba(60, 64, 67, 0.15);\n",
              "      fill: #174EA6;\n",
              "    }\n",
              "\n",
              "    [theme=dark] .colab-df-convert {\n",
              "      background-color: #3B4455;\n",
              "      fill: #D2E3FC;\n",
              "    }\n",
              "\n",
              "    [theme=dark] .colab-df-convert:hover {\n",
              "      background-color: #434B5C;\n",
              "      box-shadow: 0px 1px 3px 1px rgba(0, 0, 0, 0.15);\n",
              "      filter: drop-shadow(0px 1px 2px rgba(0, 0, 0, 0.3));\n",
              "      fill: #FFFFFF;\n",
              "    }\n",
              "  </style>\n",
              "\n",
              "      <script>\n",
              "        const buttonEl =\n",
              "          document.querySelector('#df-54381366-c2ce-402a-b6ed-088b8e2cac69 button.colab-df-convert');\n",
              "        buttonEl.style.display =\n",
              "          google.colab.kernel.accessAllowed ? 'block' : 'none';\n",
              "\n",
              "        async function convertToInteractive(key) {\n",
              "          const element = document.querySelector('#df-54381366-c2ce-402a-b6ed-088b8e2cac69');\n",
              "          const dataTable =\n",
              "            await google.colab.kernel.invokeFunction('convertToInteractive',\n",
              "                                                     [key], {});\n",
              "          if (!dataTable) return;\n",
              "\n",
              "          const docLinkHtml = 'Like what you see? Visit the ' +\n",
              "            '<a target=\"_blank\" href=https://colab.research.google.com/notebooks/data_table.ipynb>data table notebook</a>'\n",
              "            + ' to learn more about interactive tables.';\n",
              "          element.innerHTML = '';\n",
              "          dataTable['output_type'] = 'display_data';\n",
              "          await google.colab.output.renderOutput(dataTable, element);\n",
              "          const docLink = document.createElement('div');\n",
              "          docLink.innerHTML = docLinkHtml;\n",
              "          element.appendChild(docLink);\n",
              "        }\n",
              "      </script>\n",
              "    </div>\n",
              "  </div>\n",
              "  "
            ]
          },
          "metadata": {},
          "execution_count": 105
        }
      ]
    },
    {
      "cell_type": "code",
      "source": [],
      "metadata": {
        "id": "AlvQb3LNgqVP"
      },
      "execution_count": null,
      "outputs": []
    }
  ]
}