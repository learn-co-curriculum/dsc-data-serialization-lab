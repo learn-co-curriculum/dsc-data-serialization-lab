{
  "cells": [
    {
      "cell_type": "markdown",
      "metadata": {
        "id": "view-in-github",
        "colab_type": "text"
      },
      "source": [
        "<a href=\"https://colab.research.google.com/github/sgathai/dsc-data-serialization-lab/blob/master/Copy_of_Phase_3_Code_Challenge_Notebook_ipynb_Sgathai.ipynb\" target=\"_parent\"><img src=\"https://colab.research.google.com/assets/colab-badge.svg\" alt=\"Open In Colab\"/></a>"
      ]
    },
    {
      "cell_type": "markdown",
      "metadata": {
        "deletable": false,
        "editable": false,
        "id": "AX7j7OmhQMMk",
        "nbgrader": {
          "cell_type": "markdown",
          "checksum": "30f48fe4e110765f2484de8781de1a27",
          "grade": false,
          "grade_id": "cell-6899ad425e03acd4",
          "locked": true,
          "schema_version": 3,
          "solution": false,
          "task": false
        }
      },
      "source": [
        "# Phase 3 Code Challenge\n",
        "\n",
        "This assessment is designed to test your understanding of Module 3 material. It covers:\n",
        "\n",
        "* Gradient Descent\n",
        "* Logistic Regression\n",
        "* Classification Metrics\n",
        "* Decision Trees\n",
        "\n",
        "_Read the instructions carefully_. You will be asked both to write code and to answer short answer questions.\n",
        "\n",
        "## Code Tests\n",
        "\n",
        "We have provided some code tests for you to run to check that your work meets the item specifications. Passing these tests does not necessarily mean that you have gotten the item correct - there are additional hidden tests. However, if any of the tests do not pass, this tells you that your code is incorrect and needs changes to meet the specification. To determine what the issue is, read the comments in the code test cells, the error message you receive, and the item instructions.\n",
        "\n",
        "## Short Answer Questions\n",
        "\n",
        "For the short answer questions...\n",
        "\n",
        "* _Use your own words_. It is OK to refer to outside resources when crafting your response, but _do not copy text from another source_.\n",
        "\n",
        "* _Communicate clearly_. We are not grading your writing skills, but you can only receive full credit if your teacher is able to fully understand your response.\n",
        "\n",
        "* _Be concise_. You should be able to answer most short answer questions in a sentence or two. Writing unnecessarily long answers increases the risk of you being unclear or saying something incorrect."
      ]
    },
    {
      "cell_type": "code",
      "execution_count": null,
      "metadata": {
        "deletable": false,
        "editable": false,
        "id": "uLTtrsTcQMMv",
        "nbgrader": {
          "cell_type": "code",
          "checksum": "2758b70aba02b3535c31b6c1ec71c354",
          "grade": false,
          "grade_id": "cell-c2a2bae912a0e147",
          "locked": true,
          "schema_version": 3,
          "solution": false,
          "task": false
        }
      },
      "outputs": [],
      "source": [
        "# Run this cell without changes to import the necessary libraries\n",
        "\n",
        "from numbers import Number\n",
        "\n",
        "%matplotlib inline"
      ]
    },
    {
      "cell_type": "markdown",
      "metadata": {
        "deletable": false,
        "editable": false,
        "id": "74PQPfERQMMy",
        "nbgrader": {
          "cell_type": "markdown",
          "checksum": "01acf96fa82b41706ebb0df6ecf26f0b",
          "grade": false,
          "grade_id": "cell-962cbb6c01caf427",
          "locked": true,
          "schema_version": 3,
          "solution": false,
          "task": false
        }
      },
      "source": [
        "---\n",
        "## Part 1: Gradient Descent [Suggested Time: 20 min]\n",
        "---\n",
        "In this part, you will describe how gradient descent works to calculate a parameter estimate. Below is an image of a best fit line from a linear regression model using TV advertising spending to predict product sales.\n",
        "\n",
        "![best fit line](https://raw.githubusercontent.com/learn-co-curriculum/dsc-cc-images/main/phase_3/best_fit_line.png)\n",
        "\n",
        "This best fit line can be described by the equation $y = mx + b$. Below is the RSS cost curve associated with the slope parameter $m$:\n",
        "\n",
        "![cost curve](https://raw.githubusercontent.com/learn-co-curriculum/dsc-cc-images/main/phase_3/cost_curve.png)\n",
        "\n",
        "where RSS is the residual sum of squares: $RSS = \\sum_{i=1}^n(y_i - (mx_i + b))^2$"
      ]
    },
    {
      "cell_type": "markdown",
      "metadata": {
        "deletable": false,
        "editable": false,
        "id": "TwD5tP0rQMM0",
        "nbgrader": {
          "cell_type": "markdown",
          "checksum": "fe3593bbfb85e4e15028786adeb7cbf6",
          "grade": false,
          "grade_id": "cell-f5be777299f6d5be",
          "locked": true,
          "schema_version": 3,
          "solution": false,
          "task": false
        }
      },
      "source": [
        "### 1.1) Short Answer: Explain how the RSS curve above could be used to find an optimal value for the slope parameter $m$.\n",
        "\n",
        "Your answer should provide a one sentence summary, not every step of the process."
      ]
    },
    {
      "cell_type": "markdown",
      "metadata": {
        "deletable": false,
        "id": "hgGl99qyQMM0",
        "nbgrader": {
          "cell_type": "markdown",
          "checksum": "097467d4ea2b10ba22912e0ee9705d21",
          "grade": true,
          "grade_id": "cell-9592fca4edae0f59",
          "locked": false,
          "points": 1,
          "schema_version": 3,
          "solution": true,
          "task": false
        }
      },
      "source": [
        "***By finding in the rss axises the point where  slope has the least value which is the minimal error in line with lowest value in Slope (m-values ).***"
      ]
    },
    {
      "cell_type": "markdown",
      "metadata": {
        "deletable": false,
        "editable": false,
        "id": "3-URM1ZOQMM1",
        "nbgrader": {
          "cell_type": "markdown",
          "checksum": "e03583be9d8cee3d32cec7dbd7ac1814",
          "grade": false,
          "grade_id": "cell-04569212f96246b5",
          "locked": true,
          "schema_version": 3,
          "solution": false,
          "task": false
        }
      },
      "source": [
        "Below is a visualization showing the iterations of a gradient descent algorithm applied the RSS curve. Each yellow marker represents an estimate, and the lines between markers represent the steps taken between estimates in each iteration. Numeric labels identify the iteration numbers.\n",
        "\n",
        "![gradient descent](https://raw.githubusercontent.com/learn-co-curriculum/dsc-cc-images/main/phase_3/gd.png)"
      ]
    },
    {
      "cell_type": "markdown",
      "metadata": {
        "deletable": false,
        "editable": false,
        "id": "x3nh0CdTQMM2",
        "nbgrader": {
          "cell_type": "markdown",
          "checksum": "c200ec4566b8772a61a59da3849d347e",
          "grade": false,
          "grade_id": "cell-8f8743b8bb5caf43",
          "locked": true,
          "schema_version": 3,
          "solution": false,
          "task": false
        }
      },
      "source": [
        "### 1.2) Short Answer: Explain why the distances between markers get smaller over successive iterations."
      ]
    },
    {
      "cell_type": "markdown",
      "metadata": {
        "deletable": false,
        "id": "TWVg1-kSQMM2",
        "nbgrader": {
          "cell_type": "markdown",
          "checksum": "9230720877249d70f244fa7c1d2190a7",
          "grade": true,
          "grade_id": "cell-92f5e2e3b194659e",
          "locked": false,
          "points": 1,
          "schema_version": 3,
          "solution": true,
          "task": false
        }
      },
      "source": [
        "**The steps gets smaller so that we  minimize chances of missing the optimal value of parameter (m)**"
      ]
    },
    {
      "cell_type": "markdown",
      "metadata": {
        "deletable": false,
        "editable": false,
        "id": "okZuEP-IQMM4",
        "nbgrader": {
          "cell_type": "markdown",
          "checksum": "72be046cff6a4c9c1ba40c78bf74ef4e",
          "grade": false,
          "grade_id": "cell-f38904edac3e34ba",
          "locked": true,
          "schema_version": 3,
          "solution": false,
          "task": false
        }
      },
      "source": [
        "### 1.3) Short Answer: What would be the effect of decreasing the learning rate for this application of gradient descent?"
      ]
    },
    {
      "cell_type": "markdown",
      "metadata": {
        "deletable": false,
        "id": "a4wJ6p-hQMM4",
        "nbgrader": {
          "cell_type": "markdown",
          "checksum": "6b870fa05364e2736032ea30f6b4a2dc",
          "grade": true,
          "grade_id": "cell-0dbe8a38cc3a4ae6",
          "locked": false,
          "points": 1,
          "schema_version": 3,
          "solution": true,
          "task": false
        }
      },
      "source": [
        "**This will increase the steps done but will help achieve the optimal value of parameter  (m)**"
      ]
    },
    {
      "cell_type": "markdown",
      "metadata": {
        "deletable": false,
        "editable": false,
        "id": "lFO9gvyWQMM5",
        "nbgrader": {
          "cell_type": "markdown",
          "checksum": "129d747f9bbaba14df3bac7690da1c0e",
          "grade": false,
          "grade_id": "cell-58cbc9e518eda9a5",
          "locked": true,
          "schema_version": 3,
          "solution": false,
          "task": false
        }
      },
      "source": [
        "---\n",
        "## Part 2: Logistic Regression [Suggested Time: 15 min]\n",
        "---\n",
        "In this part, you will answer general questions about logistic regression."
      ]
    },
    {
      "cell_type": "markdown",
      "metadata": {
        "deletable": false,
        "editable": false,
        "id": "D89NqBOGQMM5",
        "nbgrader": {
          "cell_type": "markdown",
          "checksum": "90526361a61eac18192c7be9a224af97",
          "grade": false,
          "grade_id": "cell-a5eed21ce4450ee7",
          "locked": true,
          "schema_version": 3,
          "solution": false,
          "task": false
        }
      },
      "source": [
        "### 2.1) Short Answer: Provide one reason why logistic regression is better than linear regression for modeling a binary target/outcome."
      ]
    },
    {
      "cell_type": "markdown",
      "metadata": {
        "deletable": false,
        "id": "Y0QndFJ2QMM6",
        "nbgrader": {
          "cell_type": "markdown",
          "checksum": "c1375f696c7fc1889bdb7dd79917c354",
          "grade": true,
          "grade_id": "cell-998c7e709d5b7ca3",
          "locked": false,
          "points": 1,
          "schema_version": 3,
          "solution": true,
          "task": false
        }
      },
      "source": [
        "**Logistics regression unlike linear regression takes into account the probability of a binary/categorical variable outcome or target  .**"
      ]
    },
    {
      "cell_type": "markdown",
      "metadata": {
        "deletable": false,
        "editable": false,
        "id": "llQ3tettQMM6",
        "nbgrader": {
          "cell_type": "markdown",
          "checksum": "f9f76874c61135aa00326ee88d27426e",
          "grade": false,
          "grade_id": "cell-fc85e3d7f84c78d9",
          "locked": true,
          "schema_version": 3,
          "solution": false,
          "task": false
        }
      },
      "source": [
        "### 2.2) Short Answer: Compare logistic regression to another classification model of your choice (e.g. KNN, Decision Tree, etc.). What is one advantage and one disadvantage logistic regression has when compared with the other model?"
      ]
    },
    {
      "cell_type": "markdown",
      "metadata": {
        "deletable": false,
        "id": "wkRU83JtQMM7",
        "nbgrader": {
          "cell_type": "markdown",
          "checksum": "d378f8226af0cf4f5020748cabc3fcfc",
          "grade": true,
          "grade_id": "cell-844af65d19ed2f27",
          "locked": false,
          "points": 2,
          "schema_version": 3,
          "solution": true,
          "task": false
        }
      },
      "source": [
        "The advantage of logistics regression is that it  handles multicollineariality ,can handle both continous and categorical predictors thus enhancing  clearerer  understanding of the likelihood of outcomes unlike linear regression and KNN.\n",
        "\n",
        "The disadvantage of logistics regression is that it assumes linearity which at times may not hold"
      ]
    },
    {
      "cell_type": "markdown",
      "metadata": {
        "deletable": false,
        "editable": false,
        "id": "cxOK8M2GQMM7",
        "nbgrader": {
          "cell_type": "markdown",
          "checksum": "26c55f47a0e549ecef759436bde4af60",
          "grade": false,
          "grade_id": "cell-0d9d765be95e6cc0",
          "locked": true,
          "schema_version": 3,
          "solution": false,
          "task": false
        }
      },
      "source": [
        "---\n",
        "## Part 3: Classification Metrics [Suggested Time: 20 min]\n",
        "---\n",
        "In this part, you will make sense of classification metrics produced by various classifiers."
      ]
    },
    {
      "cell_type": "markdown",
      "metadata": {
        "deletable": false,
        "editable": false,
        "id": "4i4bp9PVQMM7",
        "nbgrader": {
          "cell_type": "markdown",
          "checksum": "31334bb351ccb40606b5a31d79732573",
          "grade": false,
          "grade_id": "cell-d2ad4f31491e50b6",
          "locked": true,
          "schema_version": 3,
          "solution": false,
          "task": false
        }
      },
      "source": [
        "The confusion matrix below represents the predictions generated by a classisification model on a small testing dataset.\n",
        "\n",
        "![cnf matrix](https://raw.githubusercontent.com/learn-co-curriculum/dsc-cc-images/main/phase_3/cnf_matrix.png)"
      ]
    },
    {
      "cell_type": "markdown",
      "metadata": {
        "deletable": false,
        "editable": false,
        "id": "SENDm3zYQMM8",
        "nbgrader": {
          "cell_type": "markdown",
          "checksum": "0ccb5427afbd7da8c8bbfc26074689d8",
          "grade": false,
          "grade_id": "cell-e4b5c09376d185ce",
          "locked": true,
          "schema_version": 3,
          "solution": false,
          "task": false
        }
      },
      "source": [
        "### 3.1) Create a numeric variable `precision` containing the precision of the classifier."
      ]
    },
    {
      "cell_type": "markdown",
      "metadata": {
        "deletable": false,
        "editable": false,
        "id": "xvBPpy3-QMM9",
        "nbgrader": {
          "cell_type": "markdown",
          "checksum": "cc12859154282ccda11e2b6083a4669a",
          "grade": false,
          "grade_id": "cell-8e01fdcef1cb3959",
          "locked": true,
          "schema_version": 3,
          "solution": false,
          "task": false
        }
      },
      "source": [
        "**Starter Code**\n",
        "\n",
        "    precision =true positive/(true positive+true negative)"
      ]
    },
    {
      "cell_type": "code",
      "execution_count": null,
      "metadata": {
        "colab": {
          "base_uri": "https://localhost:8080/"
        },
        "deletable": false,
        "id": "4B2J98sqQMM9",
        "nbgrader": {
          "cell_type": "code",
          "checksum": "62df250ec8ff59c6a5ef6da485ff0a7c",
          "grade": false,
          "grade_id": "cell-23b03fa714fd58e0",
          "locked": false,
          "schema_version": 3,
          "solution": true,
          "task": false
        },
        "outputId": "35598be9-236e-4241-be30-e2e8b958f6c9"
      },
      "outputs": [
        {
          "data": {
            "text/plain": [
              "0.8823529411764706"
            ]
          },
          "execution_count": 2,
          "metadata": {},
          "output_type": "execute_result"
        }
      ],
      "source": [
        "# YOUR CODE HERE\n",
        "#raise NotImplementedError()\n",
        "#precision =true positive/(true positive+true negative)\n",
        "true_positive=30\n",
        "true_negative=4\n",
        "\n",
        "precision=(30/(30+4))\n",
        "precision\n"
      ]
    },
    {
      "cell_type": "code",
      "execution_count": null,
      "metadata": {
        "deletable": false,
        "editable": false,
        "id": "2dOKZaYGQMM-",
        "nbgrader": {
          "cell_type": "code",
          "checksum": "16cc74b1ac65e7b2d37b229bcc73f4ed",
          "grade": true,
          "grade_id": "cell-24bff92e331405ef",
          "locked": true,
          "points": 1,
          "schema_version": 3,
          "solution": false,
          "task": false
        }
      },
      "outputs": [],
      "source": [
        "# This test confirms that you have created a numeric variable named precision\n",
        "\n",
        "assert isinstance(precision, Number)\n"
      ]
    },
    {
      "cell_type": "markdown",
      "metadata": {
        "deletable": false,
        "editable": false,
        "id": "TAsGaHJbQMM_",
        "nbgrader": {
          "cell_type": "markdown",
          "checksum": "af72ffe19a0e62b556efae99d336eaae",
          "grade": false,
          "grade_id": "cell-09e2fa2bf91d1c95",
          "locked": true,
          "schema_version": 3,
          "solution": false,
          "task": false
        }
      },
      "source": [
        "### 3.2) Create a numeric variable `f1score` containing the F-1 score of the classifier."
      ]
    },
    {
      "cell_type": "markdown",
      "metadata": {
        "deletable": false,
        "editable": false,
        "id": "83eH-xlJQMM_",
        "nbgrader": {
          "cell_type": "markdown",
          "checksum": "2104a8723d57be74806ca053e613bdf0",
          "grade": false,
          "grade_id": "cell-6bce80c352c6ad99",
          "locked": true,
          "schema_version": 3,
          "solution": false,
          "task": false
        }
      },
      "source": [
        "**Starter Code**\n",
        "\n",
        "    f1score =2TP/(2TP+FP+FN)"
      ]
    },
    {
      "cell_type": "code",
      "execution_count": null,
      "metadata": {
        "colab": {
          "base_uri": "https://localhost:8080/"
        },
        "deletable": false,
        "id": "PG-EJ0akQMNA",
        "nbgrader": {
          "cell_type": "code",
          "checksum": "f8b1b89e1355391bd57017f55956796e",
          "grade": false,
          "grade_id": "cell-ffd51be17b0abd79",
          "locked": false,
          "schema_version": 3,
          "solution": true,
          "task": false
        },
        "outputId": "292eefa0-c7b9-41a5-c356-78f15cc461bc"
      },
      "outputs": [
        {
          "data": {
            "text/plain": [
              "0.7894736842105262"
            ]
          },
          "execution_count": 4,
          "metadata": {},
          "output_type": "execute_result"
        }
      ],
      "source": [
        "# YOUR CODE HERE\n",
        "#raise NotImplementedError()\n",
        "#recall=true positive/(true positive+false negative)\n",
        "recall=30/(30+12)\n",
        "f1score=(2*recall*precision)/(recall+precision)\n",
        "f1score\n",
        "\n"
      ]
    },
    {
      "cell_type": "code",
      "execution_count": null,
      "metadata": {
        "deletable": false,
        "editable": false,
        "id": "Y3f0QUXgQMNA",
        "nbgrader": {
          "cell_type": "code",
          "checksum": "7b93346bbaee5b614945b30e18251d8d",
          "grade": true,
          "grade_id": "cell-4c709a052f6837ef",
          "locked": true,
          "points": 1,
          "schema_version": 3,
          "solution": false,
          "task": false
        }
      },
      "outputs": [],
      "source": [
        "# This test confirms that you have created a numeric variable named f1score\n",
        "\n",
        "assert isinstance(f1score, Number)\n"
      ]
    },
    {
      "cell_type": "markdown",
      "metadata": {
        "deletable": false,
        "editable": false,
        "id": "Zk3TxeTDQMNB",
        "nbgrader": {
          "cell_type": "markdown",
          "checksum": "9e5f12505a06cb15333036c8d6a6f9f4",
          "grade": false,
          "grade_id": "cell-8c9611b7378f9cd8",
          "locked": true,
          "schema_version": 3,
          "solution": false,
          "task": false
        }
      },
      "source": [
        "The ROC curves below were calculated for three different models applied to one dataset.\n",
        "\n",
        "1. Only Age was used as a feature in the model\n",
        "2. Only Estimated Salary was used as a feature in the model\n",
        "3. All features were used in the model\n",
        "\n",
        "![roc](https://raw.githubusercontent.com/learn-co-curriculum/dsc-cc-images/main/phase_3/many_roc.png)"
      ]
    },
    {
      "cell_type": "markdown",
      "metadata": {
        "deletable": false,
        "editable": false,
        "id": "CHifJ4HuQMNB",
        "nbgrader": {
          "cell_type": "markdown",
          "checksum": "1630f3f7cab167fe53d65407aab1c04a",
          "grade": false,
          "grade_id": "cell-6b2fccd135d7bd12",
          "locked": true,
          "schema_version": 3,
          "solution": false,
          "task": false
        }
      },
      "source": [
        "### 3.3) Short Answer: Identify the best ROC curve in the above graph and explain why it is the best."
      ]
    },
    {
      "cell_type": "markdown",
      "metadata": {
        "deletable": false,
        "id": "dKyO9GrlQMNC",
        "nbgrader": {
          "cell_type": "markdown",
          "checksum": "9521c9bec43ff4303332b44334b99afb",
          "grade": true,
          "grade_id": "cell-e762fd6e47544af8",
          "locked": false,
          "points": 1,
          "schema_version": 3,
          "solution": true,
          "task": false
        }
      },
      "source": [
        "All features ROC curve has a higher area under the curve as compared to the  others (age and estimated salary).Also using various features allows  the model to have a combined effect of multiple predictors ."
      ]
    },
    {
      "cell_type": "markdown",
      "metadata": {
        "deletable": false,
        "editable": false,
        "id": "E--AdIxoQMNC",
        "nbgrader": {
          "cell_type": "markdown",
          "checksum": "795f7f2ea3ba1c8564f452c41a2909c0",
          "grade": false,
          "grade_id": "cell-9a2e4b682abfc6ec",
          "locked": true,
          "schema_version": 3,
          "solution": false,
          "task": false
        }
      },
      "source": [
        "Run the following cells to load a sample dataset, run a classification model on it, and perform some EDA."
      ]
    },
    {
      "cell_type": "code",
      "execution_count": null,
      "metadata": {
        "deletable": false,
        "editable": false,
        "id": "B9H5v4vDQMNC",
        "nbgrader": {
          "cell_type": "code",
          "checksum": "4e88eadcd507d9ad60e2c1f0dcaa7078",
          "grade": false,
          "grade_id": "cell-9e7642482fd78eb5",
          "locked": true,
          "schema_version": 3,
          "solution": false,
          "task": false
        },
        "outputId": "71b00226-11e6-4a7e-e02a-24ce622ea5d8"
      },
      "outputs": [
        {
          "name": "stdout",
          "output_type": "stream",
          "text": [
            "The classifier has an accuracy score of 0.956.\n"
          ]
        }
      ],
      "source": [
        "# Run this cell without changes\n",
        "\n",
        "# Include relevant imports\n",
        "import pickle, sklearn\n",
        "from sklearn.model_selection import train_test_split\n",
        "from sklearn.preprocessing import StandardScaler\n",
        "from sklearn.linear_model import LogisticRegression\n",
        "from sklearn.metrics import accuracy_score, roc_curve, roc_auc_score\n",
        "\n",
        "network_df = pickle.load(open('sample_network_data.pkl', 'rb'))\n",
        "\n",
        "# partion features and target\n",
        "X = network_df.drop('Purchased', axis=1)\n",
        "y = network_df['Purchased']\n",
        "\n",
        "# train test split\n",
        "X_train, X_test, y_train, y_test = train_test_split(X, y, random_state=2019)\n",
        "\n",
        "# scale features\n",
        "scale = StandardScaler()\n",
        "scale.fit(X_train)\n",
        "X_train = scale.transform(X_train)\n",
        "X_test = scale.transform(X_test)\n",
        "\n",
        "# build classifier\n",
        "model = LogisticRegression(C=1e5, solver='lbfgs')\n",
        "model.fit(X_train, y_train)\n",
        "y_test_pred = model.predict(X_test)\n",
        "\n",
        "# get the accuracy score\n",
        "print(f'The classifier has an accuracy score of {round(accuracy_score(y_test, y_test_pred), 3)}.')"
      ]
    },
    {
      "cell_type": "code",
      "execution_count": null,
      "metadata": {
        "deletable": false,
        "editable": false,
        "id": "PVbzE0pUQMND",
        "nbgrader": {
          "cell_type": "code",
          "checksum": "f3ed906de1b630d4b74413bf33e716c5",
          "grade": false,
          "grade_id": "cell-e21cfbd2172b791a",
          "locked": true,
          "schema_version": 3,
          "solution": false,
          "task": false
        },
        "outputId": "6e308763-bd19-4368-8232-6a51102c406b"
      },
      "outputs": [
        {
          "data": {
            "text/plain": [
              "0    257\n",
              "1     13\n",
              "Name: Purchased, dtype: int64"
            ]
          },
          "execution_count": 7,
          "metadata": {},
          "output_type": "execute_result"
        }
      ],
      "source": [
        "# Run this cell without changes\n",
        "\n",
        "y.value_counts()"
      ]
    },
    {
      "cell_type": "markdown",
      "metadata": {
        "deletable": false,
        "editable": false,
        "id": "5H_hMRzBQMND",
        "nbgrader": {
          "cell_type": "markdown",
          "checksum": "0cd4052eecbd88ac0eb4ef0232c5bf16",
          "grade": false,
          "grade_id": "cell-b3dee6c580108f26",
          "locked": true,
          "schema_version": 3,
          "solution": false,
          "task": false
        }
      },
      "source": [
        "### 3.4) Short Answer: Explain how the distribution of `y` shown above could explain the high accuracy score of the classification model."
      ]
    },
    {
      "cell_type": "markdown",
      "metadata": {
        "deletable": false,
        "id": "fj4nxfJyQMNE",
        "nbgrader": {
          "cell_type": "markdown",
          "checksum": "19fa9341f8df7ad970e0c3518d3cf2ae",
          "grade": true,
          "grade_id": "cell-0c1e2910641676fb",
          "locked": false,
          "points": 1,
          "schema_version": 3,
          "solution": true,
          "task": false
        }
      },
      "source": [
        "The distribution has a class imbalance where most of the instances the model would predict class 0 .This would be okay resulting to a higher score."
      ]
    },
    {
      "cell_type": "markdown",
      "metadata": {
        "deletable": false,
        "editable": false,
        "id": "DcFE13PqQMNE",
        "nbgrader": {
          "cell_type": "markdown",
          "checksum": "61f25186ed3bca261711dcc770e69bc5",
          "grade": false,
          "grade_id": "cell-15288334b184b850",
          "locked": true,
          "schema_version": 3,
          "solution": false,
          "task": false
        }
      },
      "source": [
        "### 3.5) Short Answer: What is one method you could use to improve your model to address the issue discovered in Question 3.4?"
      ]
    },
    {
      "cell_type": "markdown",
      "metadata": {
        "deletable": false,
        "id": "nPgBqQBOQMNE",
        "nbgrader": {
          "cell_type": "markdown",
          "checksum": "9e9b3ed4ad398c8e921504b812a55802",
          "grade": true,
          "grade_id": "cell-32dc808c69e689d5",
          "locked": false,
          "points": 1,
          "schema_version": 3,
          "solution": true,
          "task": false
        }
      },
      "source": [
        "undersampling"
      ]
    },
    {
      "cell_type": "markdown",
      "metadata": {
        "deletable": false,
        "editable": false,
        "id": "VeV-yS5NQMNF",
        "nbgrader": {
          "cell_type": "markdown",
          "checksum": "c4d3b90014f6fe7cf93d95283458aea7",
          "grade": false,
          "grade_id": "cell-6bdb41dda25eb6b0",
          "locked": true,
          "schema_version": 3,
          "solution": false,
          "task": false
        }
      },
      "source": [
        "---\n",
        "## Part 4: Decision Trees [Suggested Time: 20 min]\n",
        "---\n",
        "In this part, you will use decision trees to fit a classification model to a wine dataset. The data contain the results of a chemical analysis of wines grown in one region in Italy using three different cultivars (grape types). There are thirteen features from the measurements taken, and the wines are classified by cultivar in the `target` variable."
      ]
    },
    {
      "cell_type": "code",
      "execution_count": null,
      "metadata": {
        "deletable": false,
        "editable": false,
        "id": "HeE2d1OnQMNF",
        "nbgrader": {
          "cell_type": "code",
          "checksum": "0a544db5e8a689642006d223ed7f3326",
          "grade": false,
          "grade_id": "cell-15de0bc4280a2aac",
          "locked": true,
          "schema_version": 3,
          "solution": false,
          "task": false
        }
      },
      "outputs": [],
      "source": [
        "# Run this cell without changes\n",
        "\n",
        "# Relevant imports\n",
        "import pandas as pd\n",
        "import numpy as np\n",
        "from sklearn.datasets import load_wine\n",
        "from sklearn.tree import DecisionTreeClassifier\n",
        "\n",
        "# Load the data\n",
        "wine = load_wine()\n",
        "X, y = load_wine(return_X_y=True)\n",
        "X = pd.DataFrame(X, columns=wine.feature_names)\n",
        "y = pd.Series(y)\n",
        "y.name = 'target'"
      ]
    },
    {
      "cell_type": "markdown",
      "metadata": {
        "deletable": false,
        "editable": false,
        "id": "0m3T9F9BQMNF",
        "nbgrader": {
          "cell_type": "markdown",
          "checksum": "48d88667709f21d2d79e8dfb668d8025",
          "grade": false,
          "grade_id": "cell-561128e9ee6b0299",
          "locked": true,
          "schema_version": 3,
          "solution": false,
          "task": false
        }
      },
      "source": [
        "### 4.1) Use `train_test_split()` to evenly split `X` and `y` data between training sets (`X_train` and `y_train`) and test sets (`X_test` and `y_test`), with `random_state=1`.\n",
        "\n",
        "Do not alter `X` or `y` before performing the split."
      ]
    },
    {
      "cell_type": "markdown",
      "metadata": {
        "deletable": false,
        "editable": false,
        "id": "ijgNuyCHQMNG",
        "nbgrader": {
          "cell_type": "markdown",
          "checksum": "b109e036bdbf2e195e8899ec1765f06f",
          "grade": false,
          "grade_id": "cell-0be055a675c0a674",
          "locked": true,
          "schema_version": 3,
          "solution": false,
          "task": false
        }
      },
      "source": [
        "**Starter Code**\n",
        "\n",
        "    X_train, X_test, y_train, y_test ="
      ]
    },
    {
      "cell_type": "code",
      "execution_count": null,
      "metadata": {
        "deletable": false,
        "id": "BQIgf8zNQMNQ",
        "nbgrader": {
          "cell_type": "code",
          "checksum": "5804e43f932f72eddd045743b7265e5f",
          "grade": false,
          "grade_id": "cell-29337428d5e201ac",
          "locked": false,
          "schema_version": 3,
          "solution": true,
          "task": false
        }
      },
      "outputs": [],
      "source": [
        "# YOUR CODE HERE\n",
        "#raise NotImplementedError()\n",
        "X_train, X_test, y_train, y_test =train_test_split(X, y, test_size=0.5, random_state=1)\n",
        "\n",
        "\n"
      ]
    },
    {
      "cell_type": "code",
      "execution_count": null,
      "metadata": {
        "deletable": false,
        "editable": false,
        "id": "qyd16v4QQMNR",
        "nbgrader": {
          "cell_type": "code",
          "checksum": "45068afa36b798ef1c8df0b49eecf1f5",
          "grade": true,
          "grade_id": "cell-af0600cce7482b4d",
          "locked": true,
          "points": 1,
          "schema_version": 3,
          "solution": false,
          "task": false
        }
      },
      "outputs": [],
      "source": [
        "# These tests confirm that you have created DataFrames named X_train, X_test and Series named y_train, and y_test\n",
        "\n",
        "assert type(X_train) == pd.DataFrame\n",
        "assert type(X_test) == pd.DataFrame\n",
        "assert type(y_train) == pd.Series\n",
        "assert type(y_test) == pd.Series\n",
        "\n",
        "# These tests confirm that you have split the data evenly between train and test sets\n",
        "\n",
        "assert X_train.shape[0] == X_test.shape[0]\n",
        "assert y_train.shape[0] == y_test.shape[0]\n"
      ]
    },
    {
      "cell_type": "markdown",
      "metadata": {
        "deletable": false,
        "editable": false,
        "id": "uU1ydH4LQMNS",
        "nbgrader": {
          "cell_type": "markdown",
          "checksum": "70e923ff566fb252a03d0500091690c1",
          "grade": false,
          "grade_id": "cell-eac2fc7be9725bf0",
          "locked": true,
          "schema_version": 3,
          "solution": false,
          "task": false
        }
      },
      "source": [
        "### 4.2) Create an untuned decision tree classifier `wine_dt` and fit it using `X_train` and `y_train`, with `random_state=1`.\n",
        "\n",
        "Use parameter defaults for your classifier. You must use the Scikit-learn DecisionTreeClassifier (docs [here](https://scikit-learn.org/stable/modules/generated/sklearn.tree.DecisionTreeClassifier.html))"
      ]
    },
    {
      "cell_type": "markdown",
      "metadata": {
        "deletable": false,
        "editable": false,
        "id": "MXgncgMnQMNT",
        "nbgrader": {
          "cell_type": "markdown",
          "checksum": "fa2c57de271d7cdef7050f09357dc8ca",
          "grade": false,
          "grade_id": "cell-28bca1a3b0de0dd8",
          "locked": true,
          "schema_version": 3,
          "solution": false,
          "task": false
        }
      },
      "source": [
        "**Starter Code**\n",
        "\n",
        "    wine_dt ="
      ]
    },
    {
      "cell_type": "code",
      "execution_count": null,
      "metadata": {
        "deletable": false,
        "id": "C0lZMjnPQMNU",
        "nbgrader": {
          "cell_type": "code",
          "checksum": "7dff5ce799834929dd4329a61f490360",
          "grade": false,
          "grade_id": "cell-6257f2b7a69b3632",
          "locked": false,
          "schema_version": 3,
          "solution": true,
          "task": false
        },
        "outputId": "59325441-14cf-4aee-d708-2c01b95e31cc"
      },
      "outputs": [
        {
          "data": {
            "text/plain": [
              "DecisionTreeClassifier(random_state=1)"
            ]
          },
          "execution_count": 21,
          "metadata": {},
          "output_type": "execute_result"
        }
      ],
      "source": [
        "# YOUR CODE HERE\n",
        "#raise NotImplementedError()\n",
        "from sklearn.tree import DecisionTreeClassifier\n",
        "wine_dt =DecisionTreeClassifier(random_state=1)\n",
        "wine_dt.fit(X_train,y_train)\n",
        "\n"
      ]
    },
    {
      "cell_type": "code",
      "execution_count": null,
      "metadata": {
        "deletable": false,
        "editable": false,
        "id": "cPexedilQMNU",
        "nbgrader": {
          "cell_type": "code",
          "checksum": "a2a3501531cf24a6239d64280879037c",
          "grade": true,
          "grade_id": "cell-ea227af7f35a3ab3",
          "locked": true,
          "points": 1,
          "schema_version": 3,
          "solution": false,
          "task": false
        }
      },
      "outputs": [],
      "source": [
        "# This test confirms that you have created a DecisionTreeClassifier named wine_dt\n",
        "\n",
        "assert type(wine_dt) == DecisionTreeClassifier\n",
        "\n",
        "# This test confirms that you have set random_state to 1\n",
        "\n",
        "assert wine_dt.get_params()['random_state'] == 1\n",
        "\n",
        "# This test confirms that wine_dt has been fit\n",
        "\n",
        "sklearn.utils.validation.check_is_fitted(wine_dt)\n"
      ]
    },
    {
      "cell_type": "markdown",
      "metadata": {
        "deletable": false,
        "editable": false,
        "id": "XnT0BscrQMNU",
        "nbgrader": {
          "cell_type": "markdown",
          "checksum": "7bc994e0afc2b0ff2480d6d700fad344",
          "grade": false,
          "grade_id": "cell-55b417dc67abb7c6",
          "locked": true,
          "schema_version": 3,
          "solution": false,
          "task": false
        }
      },
      "source": [
        "### 4.3) Create an array `y_pred` generated by using `wine_dt` to make predictions for the test data."
      ]
    },
    {
      "cell_type": "markdown",
      "metadata": {
        "id": "Cu8gLZYPQMNV"
      },
      "source": [
        "**Starter Code**\n",
        "\n",
        "    y_pred ="
      ]
    },
    {
      "cell_type": "code",
      "execution_count": null,
      "metadata": {
        "deletable": false,
        "id": "jUq5MANOQMNV",
        "nbgrader": {
          "cell_type": "code",
          "checksum": "ec7c74c08a3503b7c5d6b70559a7e475",
          "grade": false,
          "grade_id": "cell-7b35ea9c1a52b94d",
          "locked": false,
          "schema_version": 3,
          "solution": true,
          "task": false
        }
      },
      "outputs": [],
      "source": [
        "# YOUR CODE HERE\n",
        "#raise NotImplementedError()\n",
        "y_pred =wine_dt.predict(X_test)"
      ]
    },
    {
      "cell_type": "code",
      "execution_count": null,
      "metadata": {
        "deletable": false,
        "editable": false,
        "id": "qrAiw6JnQMNV",
        "nbgrader": {
          "cell_type": "code",
          "checksum": "fe7fc5987ea20dccd9518f7c3a1627a6",
          "grade": true,
          "grade_id": "cell-65997acdbf1d40fd",
          "locked": true,
          "points": 1,
          "schema_version": 3,
          "solution": false,
          "task": false
        }
      },
      "outputs": [],
      "source": [
        "# This test confirms that you have created an array-like object named y_pred\n",
        "\n",
        "assert type(np.asarray(y_pred)) == np.ndarray\n"
      ]
    },
    {
      "cell_type": "markdown",
      "metadata": {
        "deletable": false,
        "editable": false,
        "id": "7XxgvTezQMNW",
        "nbgrader": {
          "cell_type": "markdown",
          "checksum": "0ff8f061876370d22556355f056cf052",
          "grade": false,
          "grade_id": "cell-536526728a8066e2",
          "locked": true,
          "schema_version": 3,
          "solution": false,
          "task": false
        }
      },
      "source": [
        "### 4.4) Create a numeric variable `wine_dt_acc` containing the accuracy score for your predictions.\n",
        "\n",
        "Hint: You can use the `sklearn.metrics` module."
      ]
    },
    {
      "cell_type": "markdown",
      "metadata": {
        "deletable": false,
        "editable": false,
        "id": "WVV_tLvfQMNW",
        "nbgrader": {
          "cell_type": "markdown",
          "checksum": "bfeec9c6c769a1b5c8289395d3d571f9",
          "grade": false,
          "grade_id": "cell-67272706fb08c3bf",
          "locked": true,
          "schema_version": 3,
          "solution": false,
          "task": false
        }
      },
      "source": [
        "**Starter Code**\n",
        "\n",
        "    wine_dt_acc ="
      ]
    },
    {
      "cell_type": "code",
      "execution_count": null,
      "metadata": {
        "deletable": false,
        "id": "2MTQk7yNQMNW",
        "nbgrader": {
          "cell_type": "code",
          "checksum": "973d397c4de1ea1e63ae6c17624bba4e",
          "grade": false,
          "grade_id": "cell-e794531b2882fed2",
          "locked": false,
          "schema_version": 3,
          "solution": true,
          "task": false
        },
        "outputId": "91d62912-1a94-4314-a00f-a96bc6e1091a"
      },
      "outputs": [
        {
          "data": {
            "text/plain": [
              "0.8764044943820225"
            ]
          },
          "execution_count": 26,
          "metadata": {},
          "output_type": "execute_result"
        }
      ],
      "source": [
        "# YOUR CODE HERE\n",
        "#raise NotImplementedError()\n",
        "wine_dt_acc = accuracy_score(y_test,y_pred)\n",
        "wine_dt_acc\n"
      ]
    },
    {
      "cell_type": "code",
      "execution_count": null,
      "metadata": {
        "deletable": false,
        "editable": false,
        "id": "LtSIWEI_QMNX",
        "nbgrader": {
          "cell_type": "code",
          "checksum": "1c3c4109b0ca37d4a7816ec74b0a8b4f",
          "grade": true,
          "grade_id": "cell-ff589fa4102e3fe6",
          "locked": true,
          "points": 1,
          "schema_version": 3,
          "solution": false,
          "task": false
        }
      },
      "outputs": [],
      "source": [
        "# This test confirms that you have created a numeric variable named wine_dt_acc\n",
        "\n",
        "assert isinstance(wine_dt_acc, Number)\n"
      ]
    },
    {
      "cell_type": "markdown",
      "metadata": {
        "deletable": false,
        "editable": false,
        "id": "htSfQ1IFQMNX",
        "nbgrader": {
          "cell_type": "markdown",
          "checksum": "37ed9b8d11aa94ddc8e5179743bf25ca",
          "grade": false,
          "grade_id": "cell-266fbd755dbbb4c2",
          "locked": true,
          "schema_version": 3,
          "solution": false,
          "task": false
        }
      },
      "source": [
        "### 4.5) Short Answer: Based on the accuracy score, does the model seem to be performing well or to have substantial performance issues? Explain your answer."
      ]
    },
    {
      "cell_type": "markdown",
      "metadata": {
        "deletable": false,
        "id": "FNUU0Q17QMNY",
        "nbgrader": {
          "cell_type": "markdown",
          "checksum": "fe125edaa9a90b9112b76a7891c73582",
          "grade": true,
          "grade_id": "cell-02230a848305760d",
          "locked": false,
          "points": 1,
          "schema_version": 3,
          "solution": true,
          "task": false
        }
      },
      "source": [
        "The model is performing well with an accuracy score of 87.6%"
      ]
    }
  ],
  "metadata": {
    "colab": {
      "provenance": [],
      "include_colab_link": true
    },
    "kernelspec": {
      "display_name": "Python 3",
      "language": "python",
      "name": "python3"
    },
    "language_info": {
      "codemirror_mode": {
        "name": "ipython",
        "version": 3
      },
      "file_extension": ".py",
      "mimetype": "text/x-python",
      "name": "python",
      "nbconvert_exporter": "python",
      "pygments_lexer": "ipython3",
      "version": "3.8.5"
    },
    "toc": {
      "base_numbering": 1,
      "nav_menu": {},
      "number_sections": true,
      "sideBar": true,
      "skip_h1_title": false,
      "title_cell": "Table of Contents",
      "title_sidebar": "Contents",
      "toc_cell": false,
      "toc_position": {},
      "toc_section_display": true,
      "toc_window_display": false
    }
  },
  "nbformat": 4,
  "nbformat_minor": 0
}